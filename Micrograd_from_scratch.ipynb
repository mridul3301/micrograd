{
  "nbformat": 4,
  "nbformat_minor": 0,
  "metadata": {
    "colab": {
      "provenance": []
    },
    "kernelspec": {
      "name": "python3",
      "display_name": "Python 3"
    },
    "language_info": {
      "name": "python"
    }
  },
  "cells": [
    {
      "cell_type": "markdown",
      "source": [
        "### Intro\n",
        "\n",
        "In this section, we are going to look at the concept of derivatives. For this purpose, we import the libraries for different operations and visualization."
      ],
      "metadata": {
        "id": "sQa-etADOC2A"
      }
    },
    {
      "cell_type": "code",
      "execution_count": 1,
      "metadata": {
        "id": "Yn_EfN3g9Af3"
      },
      "outputs": [],
      "source": [
        "import math\n",
        "import numpy as np\n",
        "import matplotlib.pyplot as plt\n",
        "%matplotlib inline"
      ]
    },
    {
      "cell_type": "markdown",
      "source": [
        "### Forward Pass\n",
        "\n",
        "We are going to learn about forward pass and kind of visualize it."
      ],
      "metadata": {
        "id": "4XQzKPyupV8T"
      }
    },
    {
      "cell_type": "markdown",
      "source": [
        "### Define a Function\n",
        "\n",
        "Let's define a quadratic function :\n",
        "\\begin{equation}\n",
        "f(x) = 3x^2 - 4x + 5\n",
        "\\end{equation}\n"
      ],
      "metadata": {
        "id": "lFhwHYviN9tJ"
      }
    },
    {
      "cell_type": "code",
      "source": [
        "def f(x):\n",
        "    return 3*x**2 - 4*x + 5"
      ],
      "metadata": {
        "id": "5Hl1wX4R9SNf"
      },
      "execution_count": 2,
      "outputs": []
    },
    {
      "cell_type": "markdown",
      "source": [
        "Let's calculate the function value for a random value. 3 in this case.\n"
      ],
      "metadata": {
        "id": "IoaBrO9zZSRa"
      }
    },
    {
      "cell_type": "code",
      "source": [
        "f(3.0)"
      ],
      "metadata": {
        "colab": {
          "base_uri": "https://localhost:8080/"
        },
        "id": "Jfo_LW0Q9UzB",
        "outputId": "8b146270-999a-4e62-d81b-34bc52a83a46"
      },
      "execution_count": 3,
      "outputs": [
        {
          "output_type": "execute_result",
          "data": {
            "text/plain": [
              "20.0"
            ]
          },
          "metadata": {},
          "execution_count": 3
        }
      ]
    },
    {
      "cell_type": "markdown",
      "source": [
        "Plot the function."
      ],
      "metadata": {
        "id": "Egat9yxtZ8ET"
      }
    },
    {
      "cell_type": "code",
      "source": [
        "xs = np.arange(-5, 5, 0.25)\n",
        "ys = f(xs)\n",
        "plt.plot(xs, ys)"
      ],
      "metadata": {
        "colab": {
          "base_uri": "https://localhost:8080/",
          "height": 447
        },
        "id": "ptK-uEtv9if4",
        "outputId": "7e9dc29e-0c62-4323-bffb-c8c4f982f563"
      },
      "execution_count": 4,
      "outputs": [
        {
          "output_type": "execute_result",
          "data": {
            "text/plain": [
              "[<matplotlib.lines.Line2D at 0x78481e21a4a0>]"
            ]
          },
          "metadata": {},
          "execution_count": 4
        },
        {
          "output_type": "display_data",
          "data": {
            "text/plain": [
              "<Figure size 640x480 with 1 Axes>"
            ],
            "image/png": "[encoded data removed]"
          },
          "metadata": {}
        }
      ]
    },
    {
      "cell_type": "markdown",
      "source": [
        "Consider h, a very small incremental value. Now, calculate the value of function for both ***f(x)*** and ***f(x+h)***."
      ],
      "metadata": {
        "id": "Fk6dZKpuZ_x2"
      }
    },
    {
      "cell_type": "code",
      "source": [
        "h = 0.000001\n",
        "x = 3.0\n",
        "print(f\"{f(x)}\")\n",
        "print(f\"{f(x+h)}\")"
      ],
      "metadata": {
        "id": "T8-R52yc9p9t",
        "colab": {
          "base_uri": "https://localhost:8080/"
        },
        "outputId": "8c524517-129e-43e6-9d9d-1559575e8dc3"
      },
      "execution_count": 5,
      "outputs": [
        {
          "output_type": "stream",
          "name": "stdout",
          "text": [
            "20.0\n",
            "20.000014000003002\n"
          ]
        }
      ]
    },
    {
      "cell_type": "markdown",
      "source": [
        "Calculate the difference."
      ],
      "metadata": {
        "id": "As-mGiUEbNZO"
      }
    },
    {
      "cell_type": "code",
      "source": [
        "f(x+h) - f(x)"
      ],
      "metadata": {
        "colab": {
          "base_uri": "https://localhost:8080/"
        },
        "id": "K87ZEqsTNPRG",
        "outputId": "eb3c8567-bb65-42c0-fd9d-23e75ba493ad"
      },
      "execution_count": 6,
      "outputs": [
        {
          "output_type": "execute_result",
          "data": {
            "text/plain": [
              "1.4000003002223593e-05"
            ]
          },
          "metadata": {},
          "execution_count": 6
        }
      ]
    },
    {
      "cell_type": "markdown",
      "source": [
        "Calculate the slope."
      ],
      "metadata": {
        "id": "WCzGrYLrbPrN"
      }
    },
    {
      "cell_type": "code",
      "source": [
        "(f(x+h) - f(x))/h"
      ],
      "metadata": {
        "colab": {
          "base_uri": "https://localhost:8080/"
        },
        "id": "4Im5UtAaN2MD",
        "outputId": "99b6adb9-89df-458a-899b-2caaa0750839"
      },
      "execution_count": 7,
      "outputs": [
        {
          "output_type": "execute_result",
          "data": {
            "text/plain": [
              "14.000003002223593"
            ]
          },
          "metadata": {},
          "execution_count": 7
        }
      ]
    },
    {
      "cell_type": "markdown",
      "source": [
        "Now, let's look at a bit complex function."
      ],
      "metadata": {
        "id": "NptmQPVYdGQG"
      }
    },
    {
      "cell_type": "code",
      "source": [
        "a = 2.0\n",
        "b = -3.0\n",
        "c = 10.0\n",
        "d = a*b + c\n",
        "print(d)"
      ],
      "metadata": {
        "colab": {
          "base_uri": "https://localhost:8080/"
        },
        "id": "iwoo04XYN6yP",
        "outputId": "0b388702-e538-47a6-e4a1-b31d62255219"
      },
      "execution_count": 8,
      "outputs": [
        {
          "output_type": "stream",
          "name": "stdout",
          "text": [
            "4.0\n"
          ]
        }
      ]
    },
    {
      "cell_type": "code",
      "source": [
        "h = 0.0001\n",
        "\n",
        "# inputs\n",
        "a = 2.0\n",
        "b = -3.0\n",
        "c = 10.0\n",
        "\n",
        "d1 = a*b + c\n",
        "c += h\n",
        "d2 = a*b + c\n",
        "\n",
        "print('d1', d1)\n",
        "print('d2', d2)\n",
        "print('slope', (d2 - d1)/h)"
      ],
      "metadata": {
        "colab": {
          "base_uri": "https://localhost:8080/"
        },
        "id": "1kL7BtKXdMCV",
        "outputId": "c441acf5-c984-41a2-b170-5877dead2fd6"
      },
      "execution_count": 9,
      "outputs": [
        {
          "output_type": "stream",
          "name": "stdout",
          "text": [
            "d1 4.0\n",
            "d2 4.0001\n",
            "slope 0.9999999999976694\n"
          ]
        }
      ]
    },
    {
      "cell_type": "markdown",
      "source": [
        "###  Create the Value Object\n",
        "\n",
        "We will work with neural networks and in order to do that we need some data structures to manage that. So, To start,<br>\n",
        "Let's create a ***Value*** object. <br>\n",
        "Value class takes a single scalar value that it wraps and keep track of."
      ],
      "metadata": {
        "id": "ORuNy-qYdfAF"
      }
    },
    {
      "cell_type": "code",
      "source": [
        "class Value:\n",
        "\n",
        "    def __init__(self, data):\n",
        "        self.data = data\n",
        "\n",
        "    def __repr__(self):\n",
        "        return f\"Value(data={self.data})\""
      ],
      "metadata": {
        "id": "1DE7ovF1dQNG"
      },
      "execution_count": 10,
      "outputs": []
    },
    {
      "cell_type": "markdown",
      "source": [
        "Python will automatically make use of repr function for displaying value object."
      ],
      "metadata": {
        "id": "WUSBPXLif9C2"
      }
    },
    {
      "cell_type": "code",
      "source": [
        "a = Value(2.0)"
      ],
      "metadata": {
        "id": "JvwOFa-2dqgO"
      },
      "execution_count": 11,
      "outputs": []
    },
    {
      "cell_type": "code",
      "source": [
        "a"
      ],
      "metadata": {
        "colab": {
          "base_uri": "https://localhost:8080/"
        },
        "id": "MSaRkL0oeA-l",
        "outputId": "92298274-16bf-4238-b889-8af21a5766a6"
      },
      "execution_count": 12,
      "outputs": [
        {
          "output_type": "execute_result",
          "data": {
            "text/plain": [
              "Value(data=2.0)"
            ]
          },
          "metadata": {},
          "execution_count": 12
        }
      ]
    },
    {
      "cell_type": "code",
      "source": [
        "b = Value(3.0)"
      ],
      "metadata": {
        "id": "6MlmOzxDeCdX"
      },
      "execution_count": 13,
      "outputs": []
    },
    {
      "cell_type": "code",
      "source": [
        "b"
      ],
      "metadata": {
        "colab": {
          "base_uri": "https://localhost:8080/"
        },
        "id": "crKbqZT8hc5p",
        "outputId": "124ed5a5-9048-479d-c46b-25bc9a935569"
      },
      "execution_count": 14,
      "outputs": [
        {
          "output_type": "execute_result",
          "data": {
            "text/plain": [
              "Value(data=3.0)"
            ]
          },
          "metadata": {},
          "execution_count": 14
        }
      ]
    },
    {
      "cell_type": "markdown",
      "source": [
        "Let's Try to add a & b that are basically same datatype."
      ],
      "metadata": {
        "id": "gl3AdNVEherw"
      }
    },
    {
      "cell_type": "code",
      "source": [
        "#a+b"
      ],
      "metadata": {
        "id": "vvvwBxw8hdSU"
      },
      "execution_count": 15,
      "outputs": []
    },
    {
      "cell_type": "markdown",
      "source": [
        "The above expression gives the following error because python doesnot know how to add two value objects.\n",
        "```\n",
        "---------------------------------------------------------------------------\n",
        "TypeError                                 Traceback (most recent call last)\n",
        "<ipython-input-16-ca730b97bf8a> in <cell line: 1>()\n",
        "----> 1 a+b\n",
        "\n",
        "TypeError: unsupported operand type(s) for +: 'Value' and 'Value'\n",
        "```\n",
        "*Check by removing the comment*"
      ],
      "metadata": {
        "id": "O1sHfyDwEPN4"
      }
    },
    {
      "cell_type": "markdown",
      "source": [
        "Now, Let's define a function to add two value objects and update the Value class."
      ],
      "metadata": {
        "id": "fWEEEcgsErK8"
      }
    },
    {
      "cell_type": "code",
      "source": [
        "class Value:\n",
        "\n",
        "    def __init__(self, data):\n",
        "        self.data = data\n",
        "\n",
        "    def __repr__(self):\n",
        "        return f\"Value(data={self.data})\"\n",
        "\n",
        "    def __add__(self, other):\n",
        "        out = Value(self.data + other.data)\n",
        "        return out"
      ],
      "metadata": {
        "id": "IeBHB5m4DxMe"
      },
      "execution_count": 16,
      "outputs": []
    },
    {
      "cell_type": "markdown",
      "source": [
        "```\n",
        "out = Value(self.data + other.data)\n",
        "```\n",
        "This expression helps addition of two datatypes.<br>\n",
        "Basically, now when we implement `a + b`, following operation happens.\n",
        "```\n",
        "a.__add__(b)\n",
        "```\n"
      ],
      "metadata": {
        "id": "LGkSX7RCFLwk"
      }
    },
    {
      "cell_type": "code",
      "source": [
        "a = Value(261.0)\n",
        "b = Value(-343.0)"
      ],
      "metadata": {
        "id": "lkl0DzETFK1Z"
      },
      "execution_count": 17,
      "outputs": []
    },
    {
      "cell_type": "code",
      "source": [
        "# Adding\n",
        "\n",
        "a + b"
      ],
      "metadata": {
        "colab": {
          "base_uri": "https://localhost:8080/"
        },
        "id": "fuflVokOF4tM",
        "outputId": "d775ed8d-064f-408a-8398-5a6ca72f99b5"
      },
      "execution_count": 18,
      "outputs": [
        {
          "output_type": "execute_result",
          "data": {
            "text/plain": [
              "Value(data=-82.0)"
            ]
          },
          "metadata": {},
          "execution_count": 18
        }
      ]
    },
    {
      "cell_type": "markdown",
      "source": [
        "Again, Let's update the value class with a function to multiply two objects."
      ],
      "metadata": {
        "id": "pzK_k-D3GH-0"
      }
    },
    {
      "cell_type": "code",
      "source": [
        "class Value:\n",
        "\n",
        "    def __init__(self, data):\n",
        "        self.data = data\n",
        "\n",
        "    def __repr__(self):\n",
        "        return f\"Value(data={self.data})\"\n",
        "\n",
        "    def __add__(self, other):\n",
        "        out = Value(self.data + other.data)\n",
        "        return out\n",
        "\n",
        "    def __mul__(self, other):\n",
        "        out = Value(self.data * other.data)\n",
        "        return out"
      ],
      "metadata": {
        "id": "0pj0iP6YF_fl"
      },
      "execution_count": 19,
      "outputs": []
    },
    {
      "cell_type": "code",
      "source": [
        "a = Value(6.0)\n",
        "b = Value(-3.0)\n",
        "c = Value(20.0)"
      ],
      "metadata": {
        "id": "YiUffyFxGcYG"
      },
      "execution_count": 20,
      "outputs": []
    },
    {
      "cell_type": "code",
      "source": [
        "a * b + c"
      ],
      "metadata": {
        "colab": {
          "base_uri": "https://localhost:8080/"
        },
        "id": "bptpzmCNGplK",
        "outputId": "5dc7b20d-ffca-423c-803e-d52fd1c1fed4"
      },
      "execution_count": 21,
      "outputs": [
        {
          "output_type": "execute_result",
          "data": {
            "text/plain": [
              "Value(data=2.0)"
            ]
          },
          "metadata": {},
          "execution_count": 21
        }
      ]
    },
    {
      "cell_type": "markdown",
      "source": [
        "```\n",
        "out = Value(self.data * other.data)\n",
        "```\n",
        "This expression helps addition of two datatypes.<br>\n",
        "Basically, now when we implement `a * b + c`, following operation happens.\n",
        "```\n",
        "(a.__mul__(b)).__add__(c)\n",
        "```\n"
      ],
      "metadata": {
        "id": "VodzWsBJG4hQ"
      }
    },
    {
      "cell_type": "markdown",
      "source": [
        "What we are missing until now is the expression graphs. <br>\n",
        "So, basically we need to keep pointers about what values produce what other values.<br>\n",
        "Here, we'll define a new variable named <code>_children </code> and it'll be an empty tuple by default.<br>\n",
        "And we will introduce a new variable called <code>_prev </code> in the class that is basically set of <code>_children </code>"
      ],
      "metadata": {
        "id": "S7adTUI9HsXl"
      }
    },
    {
      "cell_type": "code",
      "source": [
        "class Value:\n",
        "\n",
        "    def __init__(self, data, _children = ()):\n",
        "        self.data = data\n",
        "        self._prev = set(_children)\n",
        "\n",
        "    def __repr__(self):\n",
        "        return f\"Value(data={self.data})\"\n",
        "\n",
        "    def __add__(self, other):\n",
        "        out = Value(self.data + other.data, (self, other))\n",
        "        return out\n",
        "\n",
        "    def __mul__(self, other):\n",
        "        out = Value(self.data * other.data, (self, other))\n",
        "        return out"
      ],
      "metadata": {
        "id": "L-tVNScrGvt8"
      },
      "execution_count": 22,
      "outputs": []
    },
    {
      "cell_type": "markdown",
      "source": [
        "When we start, `_children` will just be an empty set.<br>\n",
        "But, when an operation is performed, `_children` will be fed in the end.<br>\n",
        "Just like <br>\n",
        "`out = Value(self.data + other.data, (self, other))`<br>\n",
        "`out = Value(self.data * other.data, (self, other))`\n",
        "<br>\n",
        "Here, we added two parameter `(self, other)` which is basically the variables that we operated on. <br>\n",
        "i.e., We are keeping the track of previous values."
      ],
      "metadata": {
        "id": "MHdvoWilJqX0"
      }
    },
    {
      "cell_type": "code",
      "source": [
        "a = Value(6.0)\n",
        "b = Value(-3.0)\n",
        "c = Value(20.0)\n",
        "d = a * b + c"
      ],
      "metadata": {
        "id": "6ffjS7KtJh4-"
      },
      "execution_count": 23,
      "outputs": []
    },
    {
      "cell_type": "code",
      "source": [
        "d"
      ],
      "metadata": {
        "colab": {
          "base_uri": "https://localhost:8080/"
        },
        "id": "8lZfXNghK7g1",
        "outputId": "af765928-02dd-4e98-bda2-1c83a8a04cf3"
      },
      "execution_count": 24,
      "outputs": [
        {
          "output_type": "execute_result",
          "data": {
            "text/plain": [
              "Value(data=2.0)"
            ]
          },
          "metadata": {},
          "execution_count": 24
        }
      ]
    },
    {
      "cell_type": "code",
      "source": [
        "d._prev"
      ],
      "metadata": {
        "colab": {
          "base_uri": "https://localhost:8080/"
        },
        "id": "qapXzm_9K9xg",
        "outputId": "444790df-5db4-423b-c28c-6efa7d75f7a9"
      },
      "execution_count": 25,
      "outputs": [
        {
          "output_type": "execute_result",
          "data": {
            "text/plain": [
              "{Value(data=-18.0), Value(data=20.0)}"
            ]
          },
          "metadata": {},
          "execution_count": 25
        }
      ]
    },
    {
      "cell_type": "markdown",
      "source": [
        "So, when we did `d._prev`, we got two values that we operated on.<br><br>\n",
        "We now know the children Value of the output Value, but we still have not tracked the operation that we did on those Values.<br>\n",
        "For this problem, Let's update our Value class.<br><br>\n",
        "\n",
        "We add a new variable `_op` which is an empty string by default."
      ],
      "metadata": {
        "id": "zTgks0UyLEsy"
      }
    },
    {
      "cell_type": "code",
      "source": [
        "class Value:\n",
        "\n",
        "    def __init__(self, data, _children = (), _op = ''):\n",
        "        self.data = data\n",
        "        self._prev = set(_children)\n",
        "        self._op = _op\n",
        "\n",
        "    def __repr__(self):\n",
        "        return f\"Value(data={self.data})\"\n",
        "\n",
        "    def __add__(self, other):\n",
        "        out = Value(self.data + other.data, (self, other), '+')\n",
        "        return out\n",
        "\n",
        "    def __mul__(self, other):\n",
        "        out = Value(self.data * other.data, (self, other), '*')\n",
        "        return out"
      ],
      "metadata": {
        "id": "Rv7In9NLK_9C"
      },
      "execution_count": 26,
      "outputs": []
    },
    {
      "cell_type": "markdown",
      "source": [
        "When we start, `_op` will just be an empty string.<br>\n",
        "But, when an operation is performed, `_op` will be fed in the end.<br>\n",
        "Just like <br>\n",
        "`out = Value(self.data + other.data, (self, other), '+')`<br>\n",
        "`out = Value(self.data * other.data, (self, other), '*')`\n",
        "<br>\n",
        "Here, we added a string which is basically the operation performed. <br>\n",
        "i.e., We are keeping the track of operations."
      ],
      "metadata": {
        "id": "DmjfGlWPMsQe"
      }
    },
    {
      "cell_type": "code",
      "source": [
        "a = Value(16.0)\n",
        "b = Value(-3.0)\n",
        "c = Value(80.0)\n",
        "d = a * b + c"
      ],
      "metadata": {
        "id": "_SdRALu9Ni53"
      },
      "execution_count": 27,
      "outputs": []
    },
    {
      "cell_type": "code",
      "source": [
        "d"
      ],
      "metadata": {
        "colab": {
          "base_uri": "https://localhost:8080/"
        },
        "id": "bf9hNSjcNoJv",
        "outputId": "bf469a10-9f94-498e-89e3-f76afd535fd3"
      },
      "execution_count": 28,
      "outputs": [
        {
          "output_type": "execute_result",
          "data": {
            "text/plain": [
              "Value(data=32.0)"
            ]
          },
          "metadata": {},
          "execution_count": 28
        }
      ]
    },
    {
      "cell_type": "markdown",
      "source": [
        "Now, we can not only do `d._prev`, we can also look at what specific operations we performed using `d._op`."
      ],
      "metadata": {
        "id": "vqCBeW9JNqnS"
      }
    },
    {
      "cell_type": "code",
      "source": [
        "d._prev"
      ],
      "metadata": {
        "colab": {
          "base_uri": "https://localhost:8080/"
        },
        "id": "PCx43hstNpkW",
        "outputId": "d84b209d-587d-452d-b341-c2ddbbf32871"
      },
      "execution_count": 29,
      "outputs": [
        {
          "output_type": "execute_result",
          "data": {
            "text/plain": [
              "{Value(data=-48.0), Value(data=80.0)}"
            ]
          },
          "metadata": {},
          "execution_count": 29
        }
      ]
    },
    {
      "cell_type": "code",
      "source": [
        "d._op"
      ],
      "metadata": {
        "colab": {
          "base_uri": "https://localhost:8080/",
          "height": 35
        },
        "id": "GsVhf3ylN3TP",
        "outputId": "f4985da2-e6bb-4da5-80c0-5ddd8dc3f5ab"
      },
      "execution_count": 30,
      "outputs": [
        {
          "output_type": "execute_result",
          "data": {
            "text/plain": [
              "'+'"
            ],
            "application/vnd.google.colaboratory.intrinsic+json": {
              "type": "string"
            }
          },
          "metadata": {},
          "execution_count": 30
        }
      ]
    },
    {
      "cell_type": "markdown",
      "source": [
        "Hence, we know that <br>\n",
        "```\n",
        "d = Value(data=32.0)\n",
        "```\n",
        "is generated using two Values<br>\n",
        "```\n",
        "{Value(data=-48.0), Value(data=80.0)}\n",
        "```\n",
        "And the operation performed on those Values to generate the output is\n",
        "```\n",
        "'+'.\n",
        "```"
      ],
      "metadata": {
        "id": "_nxnNgP5N60V"
      }
    },
    {
      "cell_type": "markdown",
      "source": [
        "Expressions we are using as examples are quiet smaller, but we'd like to work on more complex ones.<br>\n",
        "It would be better if we created a mechanism to visualize the operations."
      ],
      "metadata": {
        "id": "VGyskmOKOnA0"
      }
    },
    {
      "cell_type": "code",
      "source": [
        "from graphviz import Digraph\n",
        "\n",
        "def trace(root):\n",
        "\n",
        "    # Set of all nodes and edges in graph\n",
        "    nodes, edges = set(), set()\n",
        "\n",
        "    def build(v):\n",
        "        if v not in nodes:\n",
        "            nodes.add(v)\n",
        "            for child in v._prev:\n",
        "                edges.add((child, v))\n",
        "                build(child)\n",
        "\n",
        "    build(root)\n",
        "    return nodes, edges\n",
        "\n",
        "\n",
        "\n",
        "def draw_dot(root):\n",
        "    dot = Digraph(format='svg', graph_attr = {'rankdir':'LR'})\n",
        "\n",
        "    nodes, edges = trace(root)\n",
        "\n",
        "    for n in nodes:\n",
        "        uid = str(id(n))\n",
        "        dot.node(name = uid, label = \"{ data %.4f }\"%(n.data, ), shape='record')\n",
        "\n",
        "        if n._op:\n",
        "            dot.node(name = uid + n._op, label = n._op)\n",
        "            dot.edge(uid + n._op, uid)\n",
        "\n",
        "\n",
        "    for n1, n2 in edges:\n",
        "        dot.edge(str(id(n1)), str(id(n2)) + n2._op)\n",
        "\n",
        "    return dot"
      ],
      "metadata": {
        "id": "6eHp6_bjN3-9"
      },
      "execution_count": 31,
      "outputs": []
    },
    {
      "cell_type": "code",
      "source": [
        "draw_dot(d)"
      ],
      "metadata": {
        "colab": {
          "base_uri": "https://localhost:8080/",
          "height": 191
        },
        "id": "EmHEF1gUbcp7",
        "outputId": "8f2eef26-afb5-4e67-93ce-7812a32bc770"
      },
      "execution_count": 32,
      "outputs": [
        {
          "output_type": "execute_result",
          "data": {
            "image/svg+xml": "<?xml version=\"1.0\" encoding=\"UTF-8\" standalone=\"no\"?>\n<!DOCTYPE svg PUBLIC \"-//W3C//DTD SVG 1.1//EN\"\n \"http://www.w3.org/Graphics/SVG/1.1/DTD/svg11.dtd\">\n<!-- Generated by graphviz version 2.43.0 (0)\n -->\n<!-- Title: %3 Pages: 1 -->\n<svg width=\"526pt\" height=\"127pt\"\n viewBox=\"0.00 0.00 526.00 127.00\" xmlns=\"http://www.w3.org/2000/svg\" xmlns:xlink=\"http://www.w3.org/1999/xlink\">\n<g id=\"graph0\" class=\"graph\" transform=\"scale(1 1) rotate(0) translate(4 123)\">\n<title>%3</title>\n<polygon fill=\"white\" stroke=\"transparent\" points=\"-4,4 -4,-123 522,-123 522,4 -4,4\"/>\n<!-- 132251103714880 -->\n<g id=\"node1\" class=\"node\">\n<title>132251103714880</title>\n<polygon fill=\"none\" stroke=\"black\" points=\"213,-27.5 213,-63.5 305,-63.5 305,-27.5 213,-27.5\"/>\n<text text-anchor=\"middle\" x=\"259\" y=\"-41.8\" font-family=\"Times,serif\" font-size=\"14.00\">data &#45;48.0000</text>\n</g>\n<!-- 132251103720592+ -->\n<g id=\"node5\" class=\"node\">\n<title>132251103720592+</title>\n<ellipse fill=\"none\" stroke=\"black\" cx=\"368\" cy=\"-72.5\" rx=\"27\" ry=\"18\"/>\n<text text-anchor=\"middle\" x=\"368\" y=\"-68.8\" font-family=\"Times,serif\" font-size=\"14.00\">+</text>\n</g>\n<!-- 132251103714880&#45;&gt;132251103720592+ -->\n<g id=\"edge6\" class=\"edge\">\n<title>132251103714880&#45;&gt;132251103720592+</title>\n<path fill=\"none\" stroke=\"black\" d=\"M305.07,-56.87C314.26,-59.19 323.8,-61.6 332.55,-63.81\"/>\n<polygon fill=\"black\" stroke=\"black\" points=\"331.85,-67.24 342.4,-66.29 333.56,-60.45 331.85,-67.24\"/>\n</g>\n<!-- 132251103714880* -->\n<g id=\"node2\" class=\"node\">\n<title>132251103714880*</title>\n<ellipse fill=\"none\" stroke=\"black\" cx=\"150\" cy=\"-45.5\" rx=\"27\" ry=\"18\"/>\n<text text-anchor=\"middle\" x=\"150\" y=\"-41.8\" font-family=\"Times,serif\" font-size=\"14.00\">*</text>\n</g>\n<!-- 132251103714880*&#45;&gt;132251103714880 -->\n<g id=\"edge1\" class=\"edge\">\n<title>132251103714880*&#45;&gt;132251103714880</title>\n<path fill=\"none\" stroke=\"black\" d=\"M177.18,-45.5C185,-45.5 193.88,-45.5 202.83,-45.5\"/>\n<polygon fill=\"black\" stroke=\"black\" points=\"202.91,-49 212.91,-45.5 202.91,-42 202.91,-49\"/>\n</g>\n<!-- 132251103717952 -->\n<g id=\"node3\" class=\"node\">\n<title>132251103717952</title>\n<polygon fill=\"none\" stroke=\"black\" points=\"215.5,-82.5 215.5,-118.5 302.5,-118.5 302.5,-82.5 215.5,-82.5\"/>\n<text text-anchor=\"middle\" x=\"259\" y=\"-96.8\" font-family=\"Times,serif\" font-size=\"14.00\">data 80.0000</text>\n</g>\n<!-- 132251103717952&#45;&gt;132251103720592+ -->\n<g id=\"edge5\" class=\"edge\">\n<title>132251103717952&#45;&gt;132251103720592+</title>\n<path fill=\"none\" stroke=\"black\" d=\"M302.6,-89.35C312.61,-86.73 323.16,-83.97 332.75,-81.46\"/>\n<polygon fill=\"black\" stroke=\"black\" points=\"333.93,-84.77 342.72,-78.85 332.16,-78 333.93,-84.77\"/>\n</g>\n<!-- 132251103720592 -->\n<g id=\"node4\" class=\"node\">\n<title>132251103720592</title>\n<polygon fill=\"none\" stroke=\"black\" points=\"431,-54.5 431,-90.5 518,-90.5 518,-54.5 431,-54.5\"/>\n<text text-anchor=\"middle\" x=\"474.5\" y=\"-68.8\" font-family=\"Times,serif\" font-size=\"14.00\">data 32.0000</text>\n</g>\n<!-- 132251103720592+&#45;&gt;132251103720592 -->\n<g id=\"edge2\" class=\"edge\">\n<title>132251103720592+&#45;&gt;132251103720592</title>\n<path fill=\"none\" stroke=\"black\" d=\"M395.1,-72.5C402.83,-72.5 411.6,-72.5 420.4,-72.5\"/>\n<polygon fill=\"black\" stroke=\"black\" points=\"420.68,-76 430.68,-72.5 420.68,-69 420.68,-76\"/>\n</g>\n<!-- 132251103713440 -->\n<g id=\"node6\" class=\"node\">\n<title>132251103713440</title>\n<polygon fill=\"none\" stroke=\"black\" points=\"0,-55.5 0,-91.5 87,-91.5 87,-55.5 0,-55.5\"/>\n<text text-anchor=\"middle\" x=\"43.5\" y=\"-69.8\" font-family=\"Times,serif\" font-size=\"14.00\">data 16.0000</text>\n</g>\n<!-- 132251103713440&#45;&gt;132251103714880* -->\n<g id=\"edge3\" class=\"edge\">\n<title>132251103713440&#45;&gt;132251103714880*</title>\n<path fill=\"none\" stroke=\"black\" d=\"M87,-62.11C96.18,-59.65 105.78,-57.08 114.6,-54.72\"/>\n<polygon fill=\"black\" stroke=\"black\" points=\"115.78,-58.02 124.53,-52.06 113.97,-51.26 115.78,-58.02\"/>\n</g>\n<!-- 132251103719344 -->\n<g id=\"node7\" class=\"node\">\n<title>132251103719344</title>\n<polygon fill=\"none\" stroke=\"black\" points=\"1,-0.5 1,-36.5 86,-36.5 86,-0.5 1,-0.5\"/>\n<text text-anchor=\"middle\" x=\"43.5\" y=\"-14.8\" font-family=\"Times,serif\" font-size=\"14.00\">data &#45;3.0000</text>\n</g>\n<!-- 132251103719344&#45;&gt;132251103714880* -->\n<g id=\"edge4\" class=\"edge\">\n<title>132251103719344&#45;&gt;132251103714880*</title>\n<path fill=\"none\" stroke=\"black\" d=\"M86.1,-29.25C95.61,-31.71 105.62,-34.29 114.78,-36.66\"/>\n<polygon fill=\"black\" stroke=\"black\" points=\"114.13,-40.11 124.69,-39.22 115.88,-33.33 114.13,-40.11\"/>\n</g>\n</g>\n</svg>\n",
            "text/plain": [
              "<graphviz.graphs.Digraph at 0x78481c133250>"
            ]
          },
          "metadata": {},
          "execution_count": 32
        }
      ]
    },
    {
      "cell_type": "markdown",
      "source": [
        "Updating the class Value to add labels:"
      ],
      "metadata": {
        "id": "Tkzbclj6cqkz"
      }
    },
    {
      "cell_type": "code",
      "source": [
        "class Value:\n",
        "\n",
        "    def __init__(self, data, _children = (), _op = '', label = ''):\n",
        "        self.data = data\n",
        "        self._prev = set(_children)\n",
        "        self._op = _op\n",
        "        self.label = label\n",
        "\n",
        "    def __repr__(self):\n",
        "        return f\"Value(data={self.data})\"\n",
        "\n",
        "    def __add__(self, other):\n",
        "        out = Value(self.data + other.data, (self, other), '+')\n",
        "        return out\n",
        "\n",
        "    def __mul__(self, other):\n",
        "        out = Value(self.data * other.data, (self, other), '*')\n",
        "        return out"
      ],
      "metadata": {
        "id": "9TW-8J_zdBpP"
      },
      "execution_count": 33,
      "outputs": []
    },
    {
      "cell_type": "code",
      "source": [
        "a = Value(16.0, label = 'a')\n",
        "b = Value(-3.0, label = 'b')\n",
        "c = Value(80.0, label = 'c')\n",
        "e = a * b; e.label = 'e'\n",
        "d = e + c; d.label = 'd'"
      ],
      "metadata": {
        "id": "gPl0xX_vbf_w"
      },
      "execution_count": 34,
      "outputs": []
    },
    {
      "cell_type": "markdown",
      "source": [
        "Updating the visualization function to add labels:"
      ],
      "metadata": {
        "id": "berMs7fXdYaS"
      }
    },
    {
      "cell_type": "code",
      "source": [
        "from graphviz import Digraph\n",
        "\n",
        "def trace(root):\n",
        "\n",
        "    # Set of all nodes and edges in graph\n",
        "    nodes, edges = set(), set()\n",
        "\n",
        "    def build(v):\n",
        "        if v not in nodes:\n",
        "            nodes.add(v)\n",
        "            for child in v._prev:\n",
        "                edges.add((child, v))\n",
        "                build(child)\n",
        "\n",
        "    build(root)\n",
        "    return nodes, edges\n",
        "\n",
        "\n",
        "\n",
        "def draw_dot(root):\n",
        "    dot = Digraph(format='svg', graph_attr = {'rankdir':'LR'})\n",
        "\n",
        "    nodes, edges = trace(root)\n",
        "\n",
        "    for n in nodes:\n",
        "        uid = str(id(n))\n",
        "        dot.node(name = uid, label = \"{ %s | data %.4f }\"%(n.label, n.data), shape='record')\n",
        "\n",
        "        if n._op:\n",
        "            dot.node(name = uid + n._op, label = n._op)\n",
        "            dot.edge(uid + n._op, uid)\n",
        "\n",
        "\n",
        "    for n1, n2 in edges:\n",
        "        dot.edge(str(id(n1)), str(id(n2)) + n2._op)\n",
        "\n",
        "    return dot"
      ],
      "metadata": {
        "id": "uv_SYf2NcuK2"
      },
      "execution_count": 35,
      "outputs": []
    },
    {
      "cell_type": "code",
      "source": [
        "draw_dot(d)"
      ],
      "metadata": {
        "colab": {
          "base_uri": "https://localhost:8080/",
          "height": 191
        },
        "id": "ZUknLdEAdnI-",
        "outputId": "189ad9a9-f2ad-48fe-a6da-385b5ae9b694"
      },
      "execution_count": 36,
      "outputs": [
        {
          "output_type": "execute_result",
          "data": {
            "image/svg+xml": "<?xml version=\"1.0\" encoding=\"UTF-8\" standalone=\"no\"?>\n<!DOCTYPE svg PUBLIC \"-//W3C//DTD SVG 1.1//EN\"\n \"http://www.w3.org/Graphics/SVG/1.1/DTD/svg11.dtd\">\n<!-- Generated by graphviz version 2.43.0 (0)\n -->\n<!-- Title: %3 Pages: 1 -->\n<svg width=\"595pt\" height=\"127pt\"\n viewBox=\"0.00 0.00 595.00 127.00\" xmlns=\"http://www.w3.org/2000/svg\" xmlns:xlink=\"http://www.w3.org/1999/xlink\">\n<g id=\"graph0\" class=\"graph\" transform=\"scale(1 1) rotate(0) translate(4 123)\">\n<title>%3</title>\n<polygon fill=\"white\" stroke=\"transparent\" points=\"-4,4 -4,-123 591,-123 591,4 -4,4\"/>\n<!-- 132251103991344 -->\n<g id=\"node1\" class=\"node\">\n<title>132251103991344</title>\n<polygon fill=\"none\" stroke=\"black\" points=\"477,-54.5 477,-90.5 587,-90.5 587,-54.5 477,-54.5\"/>\n<text text-anchor=\"middle\" x=\"488.5\" y=\"-68.8\" font-family=\"Times,serif\" font-size=\"14.00\">d</text>\n<polyline fill=\"none\" stroke=\"black\" points=\"500,-54.5 500,-90.5 \"/>\n<text text-anchor=\"middle\" x=\"543.5\" y=\"-68.8\" font-family=\"Times,serif\" font-size=\"14.00\">data 32.0000</text>\n</g>\n<!-- 132251103991344+ -->\n<g id=\"node2\" class=\"node\">\n<title>132251103991344+</title>\n<ellipse fill=\"none\" stroke=\"black\" cx=\"414\" cy=\"-72.5\" rx=\"27\" ry=\"18\"/>\n<text text-anchor=\"middle\" x=\"414\" y=\"-68.8\" font-family=\"Times,serif\" font-size=\"14.00\">+</text>\n</g>\n<!-- 132251103991344+&#45;&gt;132251103991344 -->\n<g id=\"edge1\" class=\"edge\">\n<title>132251103991344+&#45;&gt;132251103991344</title>\n<path fill=\"none\" stroke=\"black\" d=\"M441.03,-72.5C448.7,-72.5 457.45,-72.5 466.42,-72.5\"/>\n<polygon fill=\"black\" stroke=\"black\" points=\"466.58,-76 476.58,-72.5 466.58,-69 466.58,-76\"/>\n</g>\n<!-- 132251104197744 -->\n<g id=\"node3\" class=\"node\">\n<title>132251104197744</title>\n<polygon fill=\"none\" stroke=\"black\" points=\"1,-55.5 1,-91.5 109,-91.5 109,-55.5 1,-55.5\"/>\n<text text-anchor=\"middle\" x=\"12.5\" y=\"-69.8\" font-family=\"Times,serif\" font-size=\"14.00\">b</text>\n<polyline fill=\"none\" stroke=\"black\" points=\"24,-55.5 24,-91.5 \"/>\n<text text-anchor=\"middle\" x=\"66.5\" y=\"-69.8\" font-family=\"Times,serif\" font-size=\"14.00\">data &#45;3.0000</text>\n</g>\n<!-- 132251103997728* -->\n<g id=\"node7\" class=\"node\">\n<title>132251103997728*</title>\n<ellipse fill=\"none\" stroke=\"black\" cx=\"173\" cy=\"-45.5\" rx=\"27\" ry=\"18\"/>\n<text text-anchor=\"middle\" x=\"173\" y=\"-41.8\" font-family=\"Times,serif\" font-size=\"14.00\">*</text>\n</g>\n<!-- 132251104197744&#45;&gt;132251103997728* -->\n<g id=\"edge4\" class=\"edge\">\n<title>132251104197744&#45;&gt;132251103997728*</title>\n<path fill=\"none\" stroke=\"black\" d=\"M109.25,-60.65C118.84,-58.33 128.6,-55.98 137.48,-53.83\"/>\n<polygon fill=\"black\" stroke=\"black\" points=\"138.54,-57.18 147.43,-51.43 136.89,-50.37 138.54,-57.18\"/>\n</g>\n<!-- 132251104196736 -->\n<g id=\"node4\" class=\"node\">\n<title>132251104196736</title>\n<polygon fill=\"none\" stroke=\"black\" points=\"238.5,-82.5 238.5,-118.5 348.5,-118.5 348.5,-82.5 238.5,-82.5\"/>\n<text text-anchor=\"middle\" x=\"250\" y=\"-96.8\" font-family=\"Times,serif\" font-size=\"14.00\">c</text>\n<polyline fill=\"none\" stroke=\"black\" points=\"261.5,-82.5 261.5,-118.5 \"/>\n<text text-anchor=\"middle\" x=\"305\" y=\"-96.8\" font-family=\"Times,serif\" font-size=\"14.00\">data 80.0000</text>\n</g>\n<!-- 132251104196736&#45;&gt;132251103991344+ -->\n<g id=\"edge3\" class=\"edge\">\n<title>132251104196736&#45;&gt;132251103991344+</title>\n<path fill=\"none\" stroke=\"black\" d=\"M348.55,-87.73C358.77,-85.31 369.2,-82.85 378.61,-80.63\"/>\n<polygon fill=\"black\" stroke=\"black\" points=\"379.43,-84.03 388.35,-78.32 377.82,-77.22 379.43,-84.03\"/>\n</g>\n<!-- 132251104195296 -->\n<g id=\"node5\" class=\"node\">\n<title>132251104195296</title>\n<polygon fill=\"none\" stroke=\"black\" points=\"0,-0.5 0,-36.5 110,-36.5 110,-0.5 0,-0.5\"/>\n<text text-anchor=\"middle\" x=\"11.5\" y=\"-14.8\" font-family=\"Times,serif\" font-size=\"14.00\">a</text>\n<polyline fill=\"none\" stroke=\"black\" points=\"23,-0.5 23,-36.5 \"/>\n<text text-anchor=\"middle\" x=\"66.5\" y=\"-14.8\" font-family=\"Times,serif\" font-size=\"14.00\">data 16.0000</text>\n</g>\n<!-- 132251104195296&#45;&gt;132251103997728* -->\n<g id=\"edge6\" class=\"edge\">\n<title>132251104195296&#45;&gt;132251103997728*</title>\n<path fill=\"none\" stroke=\"black\" d=\"M110.26,-31.13C119.49,-33.28 128.84,-35.45 137.37,-37.44\"/>\n<polygon fill=\"black\" stroke=\"black\" points=\"136.79,-40.9 147.32,-39.76 138.38,-34.08 136.79,-40.9\"/>\n</g>\n<!-- 132251103997728 -->\n<g id=\"node6\" class=\"node\">\n<title>132251103997728</title>\n<polygon fill=\"none\" stroke=\"black\" points=\"236,-27.5 236,-63.5 351,-63.5 351,-27.5 236,-27.5\"/>\n<text text-anchor=\"middle\" x=\"247.5\" y=\"-41.8\" font-family=\"Times,serif\" font-size=\"14.00\">e</text>\n<polyline fill=\"none\" stroke=\"black\" points=\"259,-27.5 259,-63.5 \"/>\n<text text-anchor=\"middle\" x=\"305\" y=\"-41.8\" font-family=\"Times,serif\" font-size=\"14.00\">data &#45;48.0000</text>\n</g>\n<!-- 132251103997728&#45;&gt;132251103991344+ -->\n<g id=\"edge5\" class=\"edge\">\n<title>132251103997728&#45;&gt;132251103991344+</title>\n<path fill=\"none\" stroke=\"black\" d=\"M351.32,-58.45C360.53,-60.54 369.81,-62.66 378.28,-64.59\"/>\n<polygon fill=\"black\" stroke=\"black\" points=\"377.63,-68.03 388.15,-66.84 379.18,-61.2 377.63,-68.03\"/>\n</g>\n<!-- 132251103997728*&#45;&gt;132251103997728 -->\n<g id=\"edge2\" class=\"edge\">\n<title>132251103997728*&#45;&gt;132251103997728</title>\n<path fill=\"none\" stroke=\"black\" d=\"M200.01,-45.5C207.81,-45.5 216.75,-45.5 225.93,-45.5\"/>\n<polygon fill=\"black\" stroke=\"black\" points=\"225.95,-49 235.95,-45.5 225.95,-42 225.95,-49\"/>\n</g>\n</g>\n</svg>\n",
            "text/plain": [
              "<graphviz.graphs.Digraph at 0x78481c133ee0>"
            ]
          },
          "metadata": {},
          "execution_count": 36
        }
      ]
    },
    {
      "cell_type": "markdown",
      "source": [
        "Let's do some even complex operations."
      ],
      "metadata": {
        "id": "OZw4Q3dres0o"
      }
    },
    {
      "cell_type": "code",
      "source": [
        "a = Value(16.0, label = 'a')\n",
        "b = Value(-3.0, label = 'b')\n",
        "c = Value(80.0, label = 'c')\n",
        "e = a * b; e.label = 'e'\n",
        "d = e + c; d.label = 'd'\n",
        "f = Value(-20.0, label = 'f')\n",
        "L = d * f; L.label = 'L'\n",
        "L"
      ],
      "metadata": {
        "colab": {
          "base_uri": "https://localhost:8080/"
        },
        "id": "jE9X9e3_do4I",
        "outputId": "5ac4f390-8543-4596-a504-ab9646845a67"
      },
      "execution_count": 37,
      "outputs": [
        {
          "output_type": "execute_result",
          "data": {
            "text/plain": [
              "Value(data=-640.0)"
            ]
          },
          "metadata": {},
          "execution_count": 37
        }
      ]
    },
    {
      "cell_type": "code",
      "source": [
        "draw_dot(L)"
      ],
      "metadata": {
        "colab": {
          "base_uri": "https://localhost:8080/",
          "height": 192
        },
        "id": "wALc-Stge8Rg",
        "outputId": "786234dd-5b20-4c73-9b2e-19cdf71620f2"
      },
      "execution_count": 38,
      "outputs": [
        {
          "output_type": "execute_result",
          "data": {
            "image/svg+xml": "<?xml version=\"1.0\" encoding=\"UTF-8\" standalone=\"no\"?>\n<!DOCTYPE svg PUBLIC \"-//W3C//DTD SVG 1.1//EN\"\n \"http://www.w3.org/Graphics/SVG/1.1/DTD/svg11.dtd\">\n<!-- Generated by graphviz version 2.43.0 (0)\n -->\n<!-- Title: %3 Pages: 1 -->\n<svg width=\"847pt\" height=\"128pt\"\n viewBox=\"0.00 0.00 847.00 128.00\" xmlns=\"http://www.w3.org/2000/svg\" xmlns:xlink=\"http://www.w3.org/1999/xlink\">\n<g id=\"graph0\" class=\"graph\" transform=\"scale(1 1) rotate(0) translate(4 124)\">\n<title>%3</title>\n<polygon fill=\"white\" stroke=\"transparent\" points=\"-4,4 -4,-124 843,-124 843,4 -4,4\"/>\n<!-- 132251103995424 -->\n<g id=\"node1\" class=\"node\">\n<title>132251103995424</title>\n<polygon fill=\"none\" stroke=\"black\" points=\"716,-27.5 716,-63.5 839,-63.5 839,-27.5 716,-27.5\"/>\n<text text-anchor=\"middle\" x=\"728.5\" y=\"-41.8\" font-family=\"Times,serif\" font-size=\"14.00\">L</text>\n<polyline fill=\"none\" stroke=\"black\" points=\"741,-27.5 741,-63.5 \"/>\n<text text-anchor=\"middle\" x=\"790\" y=\"-41.8\" font-family=\"Times,serif\" font-size=\"14.00\">data &#45;640.0000</text>\n</g>\n<!-- 132251103995424* -->\n<g id=\"node2\" class=\"node\">\n<title>132251103995424*</title>\n<ellipse fill=\"none\" stroke=\"black\" cx=\"653\" cy=\"-45.5\" rx=\"27\" ry=\"18\"/>\n<text text-anchor=\"middle\" x=\"653\" y=\"-41.8\" font-family=\"Times,serif\" font-size=\"14.00\">*</text>\n</g>\n<!-- 132251103995424*&#45;&gt;132251103995424 -->\n<g id=\"edge1\" class=\"edge\">\n<title>132251103995424*&#45;&gt;132251103995424</title>\n<path fill=\"none\" stroke=\"black\" d=\"M680.28,-45.5C687.89,-45.5 696.58,-45.5 705.56,-45.5\"/>\n<polygon fill=\"black\" stroke=\"black\" points=\"705.78,-49 715.78,-45.5 705.78,-42 705.78,-49\"/>\n</g>\n<!-- 132251103997536 -->\n<g id=\"node3\" class=\"node\">\n<title>132251103997536</title>\n<polygon fill=\"none\" stroke=\"black\" points=\"0,-56.5 0,-92.5 110,-92.5 110,-56.5 0,-56.5\"/>\n<text text-anchor=\"middle\" x=\"11.5\" y=\"-70.8\" font-family=\"Times,serif\" font-size=\"14.00\">a</text>\n<polyline fill=\"none\" stroke=\"black\" points=\"23,-56.5 23,-92.5 \"/>\n<text text-anchor=\"middle\" x=\"66.5\" y=\"-70.8\" font-family=\"Times,serif\" font-size=\"14.00\">data 16.0000</text>\n</g>\n<!-- 132251103995808* -->\n<g id=\"node10\" class=\"node\">\n<title>132251103995808*</title>\n<ellipse fill=\"none\" stroke=\"black\" cx=\"173\" cy=\"-46.5\" rx=\"27\" ry=\"18\"/>\n<text text-anchor=\"middle\" x=\"173\" y=\"-42.8\" font-family=\"Times,serif\" font-size=\"14.00\">*</text>\n</g>\n<!-- 132251103997536&#45;&gt;132251103995808* -->\n<g id=\"edge5\" class=\"edge\">\n<title>132251103997536&#45;&gt;132251103995808*</title>\n<path fill=\"none\" stroke=\"black\" d=\"M110.26,-61.4C119.49,-59.18 128.84,-56.92 137.37,-54.86\"/>\n<polygon fill=\"black\" stroke=\"black\" points=\"138.42,-58.21 147.32,-52.46 136.78,-51.4 138.42,-58.21\"/>\n</g>\n<!-- 132251103998592 -->\n<g id=\"node4\" class=\"node\">\n<title>132251103998592</title>\n<polygon fill=\"none\" stroke=\"black\" points=\"478.5,-55.5 478.5,-91.5 588.5,-91.5 588.5,-55.5 478.5,-55.5\"/>\n<text text-anchor=\"middle\" x=\"490\" y=\"-69.8\" font-family=\"Times,serif\" font-size=\"14.00\">d</text>\n<polyline fill=\"none\" stroke=\"black\" points=\"501.5,-55.5 501.5,-91.5 \"/>\n<text text-anchor=\"middle\" x=\"545\" y=\"-69.8\" font-family=\"Times,serif\" font-size=\"14.00\">data 32.0000</text>\n</g>\n<!-- 132251103998592&#45;&gt;132251103995424* -->\n<g id=\"edge8\" class=\"edge\">\n<title>132251103998592&#45;&gt;132251103995424*</title>\n<path fill=\"none\" stroke=\"black\" d=\"M588.78,-60.57C598.57,-58.23 608.52,-55.86 617.54,-53.71\"/>\n<polygon fill=\"black\" stroke=\"black\" points=\"618.36,-57.11 627.28,-51.39 616.74,-50.3 618.36,-57.11\"/>\n</g>\n<!-- 132251103998592+ -->\n<g id=\"node5\" class=\"node\">\n<title>132251103998592+</title>\n<ellipse fill=\"none\" stroke=\"black\" cx=\"414\" cy=\"-73.5\" rx=\"27\" ry=\"18\"/>\n<text text-anchor=\"middle\" x=\"414\" y=\"-69.8\" font-family=\"Times,serif\" font-size=\"14.00\">+</text>\n</g>\n<!-- 132251103998592+&#45;&gt;132251103998592 -->\n<g id=\"edge2\" class=\"edge\">\n<title>132251103998592+&#45;&gt;132251103998592</title>\n<path fill=\"none\" stroke=\"black\" d=\"M441.08,-73.5C449.12,-73.5 458.36,-73.5 467.81,-73.5\"/>\n<polygon fill=\"black\" stroke=\"black\" points=\"468.1,-77 478.1,-73.5 468.1,-70 468.1,-77\"/>\n</g>\n<!-- 132251103995040 -->\n<g id=\"node6\" class=\"node\">\n<title>132251103995040</title>\n<polygon fill=\"none\" stroke=\"black\" points=\"238.5,-83.5 238.5,-119.5 348.5,-119.5 348.5,-83.5 238.5,-83.5\"/>\n<text text-anchor=\"middle\" x=\"250\" y=\"-97.8\" font-family=\"Times,serif\" font-size=\"14.00\">c</text>\n<polyline fill=\"none\" stroke=\"black\" points=\"261.5,-83.5 261.5,-119.5 \"/>\n<text text-anchor=\"middle\" x=\"305\" y=\"-97.8\" font-family=\"Times,serif\" font-size=\"14.00\">data 80.0000</text>\n</g>\n<!-- 132251103995040&#45;&gt;132251103998592+ -->\n<g id=\"edge7\" class=\"edge\">\n<title>132251103995040&#45;&gt;132251103998592+</title>\n<path fill=\"none\" stroke=\"black\" d=\"M348.55,-88.73C358.77,-86.31 369.2,-83.85 378.61,-81.63\"/>\n<polygon fill=\"black\" stroke=\"black\" points=\"379.43,-85.03 388.35,-79.32 377.82,-78.22 379.43,-85.03\"/>\n</g>\n<!-- 132251103994704 -->\n<g id=\"node7\" class=\"node\">\n<title>132251103994704</title>\n<polygon fill=\"none\" stroke=\"black\" points=\"477,-0.5 477,-36.5 590,-36.5 590,-0.5 477,-0.5\"/>\n<text text-anchor=\"middle\" x=\"487.5\" y=\"-14.8\" font-family=\"Times,serif\" font-size=\"14.00\">f</text>\n<polyline fill=\"none\" stroke=\"black\" points=\"498,-0.5 498,-36.5 \"/>\n<text text-anchor=\"middle\" x=\"544\" y=\"-14.8\" font-family=\"Times,serif\" font-size=\"14.00\">data &#45;20.0000</text>\n</g>\n<!-- 132251103994704&#45;&gt;132251103995424* -->\n<g id=\"edge4\" class=\"edge\">\n<title>132251103994704&#45;&gt;132251103995424*</title>\n<path fill=\"none\" stroke=\"black\" d=\"M590.15,-31.29C599.43,-33.42 608.81,-35.58 617.37,-37.54\"/>\n<polygon fill=\"black\" stroke=\"black\" points=\"616.8,-41 627.33,-39.83 618.37,-34.18 616.8,-41\"/>\n</g>\n<!-- 132251103999360 -->\n<g id=\"node8\" class=\"node\">\n<title>132251103999360</title>\n<polygon fill=\"none\" stroke=\"black\" points=\"1,-1.5 1,-37.5 109,-37.5 109,-1.5 1,-1.5\"/>\n<text text-anchor=\"middle\" x=\"12.5\" y=\"-15.8\" font-family=\"Times,serif\" font-size=\"14.00\">b</text>\n<polyline fill=\"none\" stroke=\"black\" points=\"24,-1.5 24,-37.5 \"/>\n<text text-anchor=\"middle\" x=\"66.5\" y=\"-15.8\" font-family=\"Times,serif\" font-size=\"14.00\">data &#45;3.0000</text>\n</g>\n<!-- 132251103999360&#45;&gt;132251103995808* -->\n<g id=\"edge6\" class=\"edge\">\n<title>132251103999360&#45;&gt;132251103995808*</title>\n<path fill=\"none\" stroke=\"black\" d=\"M109.25,-31.89C118.75,-34.11 128.43,-36.36 137.24,-38.41\"/>\n<polygon fill=\"black\" stroke=\"black\" points=\"136.6,-41.85 147.14,-40.71 138.19,-35.04 136.6,-41.85\"/>\n</g>\n<!-- 132251103995808 -->\n<g id=\"node9\" class=\"node\">\n<title>132251103995808</title>\n<polygon fill=\"none\" stroke=\"black\" points=\"236,-28.5 236,-64.5 351,-64.5 351,-28.5 236,-28.5\"/>\n<text text-anchor=\"middle\" x=\"247.5\" y=\"-42.8\" font-family=\"Times,serif\" font-size=\"14.00\">e</text>\n<polyline fill=\"none\" stroke=\"black\" points=\"259,-28.5 259,-64.5 \"/>\n<text text-anchor=\"middle\" x=\"305\" y=\"-42.8\" font-family=\"Times,serif\" font-size=\"14.00\">data &#45;48.0000</text>\n</g>\n<!-- 132251103995808&#45;&gt;132251103998592+ -->\n<g id=\"edge9\" class=\"edge\">\n<title>132251103995808&#45;&gt;132251103998592+</title>\n<path fill=\"none\" stroke=\"black\" d=\"M351.32,-59.45C360.53,-61.54 369.81,-63.66 378.28,-65.59\"/>\n<polygon fill=\"black\" stroke=\"black\" points=\"377.63,-69.03 388.15,-67.84 379.18,-62.2 377.63,-69.03\"/>\n</g>\n<!-- 132251103995808*&#45;&gt;132251103995808 -->\n<g id=\"edge3\" class=\"edge\">\n<title>132251103995808*&#45;&gt;132251103995808</title>\n<path fill=\"none\" stroke=\"black\" d=\"M200.01,-46.5C207.81,-46.5 216.75,-46.5 225.93,-46.5\"/>\n<polygon fill=\"black\" stroke=\"black\" points=\"225.95,-50 235.95,-46.5 225.95,-43 225.95,-50\"/>\n</g>\n</g>\n</svg>\n",
            "text/plain": [
              "<graphviz.graphs.Digraph at 0x78481c130970>"
            ]
          },
          "metadata": {},
          "execution_count": 38
        }
      ]
    },
    {
      "cell_type": "markdown",
      "source": [
        "### Backward Pass\n",
        "\n",
        "Let's learn about back propagation and sort of calculate gradients and store them.<br><br>\n",
        "\n",
        "Fpr that purpose, we introduce a new variable known as `grad` which is instantiated at 0. Let's update the Value class and visualization function."
      ],
      "metadata": {
        "id": "CxSauPcgtWZ7"
      }
    },
    {
      "cell_type": "code",
      "source": [
        "class Value:\n",
        "\n",
        "    def __init__(self, data, _children = (), _op = '', label = ''):\n",
        "        self.data = data\n",
        "        self.grad = 0\n",
        "        self._prev = set(_children)\n",
        "        self._op = _op\n",
        "        self.label = label\n",
        "\n",
        "    def __repr__(self):\n",
        "        return f\"Value(data={self.data})\"\n",
        "\n",
        "    def __add__(self, other):\n",
        "        out = Value(self.data + other.data, (self, other), '+')\n",
        "        return out\n",
        "\n",
        "    def __mul__(self, other):\n",
        "        out = Value(self.data * other.data, (self, other), '*')\n",
        "        return out"
      ],
      "metadata": {
        "id": "mipXRd7HtZyP"
      },
      "execution_count": 39,
      "outputs": []
    },
    {
      "cell_type": "code",
      "source": [
        "from graphviz import Digraph\n",
        "\n",
        "def trace(root):\n",
        "\n",
        "    # Set of all nodes and edges in graph\n",
        "    nodes, edges = set(), set()\n",
        "\n",
        "    def build(v):\n",
        "        if v not in nodes:\n",
        "            nodes.add(v)\n",
        "            for child in v._prev:\n",
        "                edges.add((child, v))\n",
        "                build(child)\n",
        "\n",
        "    build(root)\n",
        "    return nodes, edges\n",
        "\n",
        "\n",
        "\n",
        "def draw_dot(root):\n",
        "    dot = Digraph(format='svg', graph_attr = {'rankdir':'LR'})\n",
        "\n",
        "    nodes, edges = trace(root)\n",
        "\n",
        "    for n in nodes:\n",
        "        uid = str(id(n))\n",
        "        dot.node(name = uid, label = \"{ %s | data %.4f | grad %.4f }\"%(n.label, n.data, n.grad), shape='record')\n",
        "\n",
        "        if n._op:\n",
        "            dot.node(name = uid + n._op, label = n._op)\n",
        "            dot.edge(uid + n._op, uid)\n",
        "\n",
        "\n",
        "    for n1, n2 in edges:\n",
        "        dot.edge(str(id(n1)), str(id(n2)) + n2._op)\n",
        "\n",
        "    return dot"
      ],
      "metadata": {
        "id": "og5TCZWmuNtT"
      },
      "execution_count": 40,
      "outputs": []
    },
    {
      "cell_type": "markdown",
      "source": [
        "Perform some operations to visualize both data and gradients."
      ],
      "metadata": {
        "id": "Gus32NCvubYi"
      }
    },
    {
      "cell_type": "code",
      "source": [
        "a = Value(16.0, label = 'a')\n",
        "b = Value(-3.0, label = 'b')\n",
        "c = Value(80.0, label = 'c')\n",
        "e = a * b; e.label = 'e'\n",
        "d = e + c; d.label = 'd'\n",
        "f = Value(-20.0, label = 'f')\n",
        "L = d * f; L.label = 'L'\n",
        "L"
      ],
      "metadata": {
        "colab": {
          "base_uri": "https://localhost:8080/"
        },
        "id": "NpRIbHkfuXzz",
        "outputId": "c8d42ddd-3ede-4e89-edaf-77a6037f99f3"
      },
      "execution_count": 41,
      "outputs": [
        {
          "output_type": "execute_result",
          "data": {
            "text/plain": [
              "Value(data=-640.0)"
            ]
          },
          "metadata": {},
          "execution_count": 41
        }
      ]
    },
    {
      "cell_type": "code",
      "source": [
        "draw_dot(L)"
      ],
      "metadata": {
        "colab": {
          "base_uri": "https://localhost:8080/",
          "height": 227
        },
        "id": "FiJcDHw8ugc5",
        "outputId": "0d211dd5-f806-48eb-df3b-c5bf35135b8b"
      },
      "execution_count": 42,
      "outputs": [
        {
          "output_type": "execute_result",
          "data": {
            "image/svg+xml": "<?xml version=\"1.0\" encoding=\"UTF-8\" standalone=\"no\"?>\n<!DOCTYPE svg PUBLIC \"-//W3C//DTD SVG 1.1//EN\"\n \"http://www.w3.org/Graphics/SVG/1.1/DTD/svg11.dtd\">\n<!-- Generated by graphviz version 2.43.0 (0)\n -->\n<!-- Title: %3 Pages: 1 -->\n<svg width=\"1175pt\" height=\"154pt\"\n viewBox=\"0.00 0.00 1175.00 154.00\" xmlns=\"http://www.w3.org/2000/svg\" xmlns:xlink=\"http://www.w3.org/1999/xlink\">\n<g id=\"graph0\" class=\"graph\" transform=\"scale(1 1) rotate(0) translate(4 150)\">\n<title>%3</title>\n<polygon fill=\"white\" stroke=\"transparent\" points=\"-4,4 -4,-150 1171,-150 1171,4 -4,4\"/>\n<!-- 132250490539120 -->\n<g id=\"node1\" class=\"node\">\n<title>132250490539120</title>\n<polygon fill=\"none\" stroke=\"black\" points=\"642.5,-54.5 642.5,-90.5 834.5,-90.5 834.5,-54.5 642.5,-54.5\"/>\n<text text-anchor=\"middle\" x=\"654\" y=\"-68.8\" font-family=\"Times,serif\" font-size=\"14.00\">d</text>\n<polyline fill=\"none\" stroke=\"black\" points=\"665.5,-54.5 665.5,-90.5 \"/>\n<text text-anchor=\"middle\" x=\"709\" y=\"-68.8\" font-family=\"Times,serif\" font-size=\"14.00\">data 32.0000</text>\n<polyline fill=\"none\" stroke=\"black\" points=\"752.5,-54.5 752.5,-90.5 \"/>\n<text text-anchor=\"middle\" x=\"793.5\" y=\"-68.8\" font-family=\"Times,serif\" font-size=\"14.00\">grad 0.0000</text>\n</g>\n<!-- 132250490546416* -->\n<g id=\"node6\" class=\"node\">\n<title>132250490546416*</title>\n<ellipse fill=\"none\" stroke=\"black\" cx=\"899\" cy=\"-99.5\" rx=\"27\" ry=\"18\"/>\n<text text-anchor=\"middle\" x=\"899\" y=\"-95.8\" font-family=\"Times,serif\" font-size=\"14.00\">*</text>\n</g>\n<!-- 132250490539120&#45;&gt;132250490546416* -->\n<g id=\"edge9\" class=\"edge\">\n<title>132250490539120&#45;&gt;132250490546416*</title>\n<path fill=\"none\" stroke=\"black\" d=\"M834.9,-88.75C844.78,-90.43 854.31,-92.06 862.85,-93.51\"/>\n<polygon fill=\"black\" stroke=\"black\" points=\"862.27,-96.96 872.71,-95.19 863.44,-90.06 862.27,-96.96\"/>\n</g>\n<!-- 132250490539120+ -->\n<g id=\"node2\" class=\"node\">\n<title>132250490539120+</title>\n<ellipse fill=\"none\" stroke=\"black\" cx=\"578\" cy=\"-72.5\" rx=\"27\" ry=\"18\"/>\n<text text-anchor=\"middle\" x=\"578\" y=\"-68.8\" font-family=\"Times,serif\" font-size=\"14.00\">+</text>\n</g>\n<!-- 132250490539120+&#45;&gt;132250490539120 -->\n<g id=\"edge1\" class=\"edge\">\n<title>132250490539120+&#45;&gt;132250490539120</title>\n<path fill=\"none\" stroke=\"black\" d=\"M605.17,-72.5C613.15,-72.5 622.46,-72.5 632.38,-72.5\"/>\n<polygon fill=\"black\" stroke=\"black\" points=\"632.47,-76 642.47,-72.5 632.47,-69 632.47,-76\"/>\n</g>\n<!-- 132250490544256 -->\n<g id=\"node3\" class=\"node\">\n<title>132250490544256</title>\n<polygon fill=\"none\" stroke=\"black\" points=\"0,-55.5 0,-91.5 192,-91.5 192,-55.5 0,-55.5\"/>\n<text text-anchor=\"middle\" x=\"11.5\" y=\"-69.8\" font-family=\"Times,serif\" font-size=\"14.00\">a</text>\n<polyline fill=\"none\" stroke=\"black\" points=\"23,-55.5 23,-91.5 \"/>\n<text text-anchor=\"middle\" x=\"66.5\" y=\"-69.8\" font-family=\"Times,serif\" font-size=\"14.00\">data 16.0000</text>\n<polyline fill=\"none\" stroke=\"black\" points=\"110,-55.5 110,-91.5 \"/>\n<text text-anchor=\"middle\" x=\"151\" y=\"-69.8\" font-family=\"Times,serif\" font-size=\"14.00\">grad 0.0000</text>\n</g>\n<!-- 132250490540320* -->\n<g id=\"node9\" class=\"node\">\n<title>132250490540320*</title>\n<ellipse fill=\"none\" stroke=\"black\" cx=\"255\" cy=\"-45.5\" rx=\"27\" ry=\"18\"/>\n<text text-anchor=\"middle\" x=\"255\" y=\"-41.8\" font-family=\"Times,serif\" font-size=\"14.00\">*</text>\n</g>\n<!-- 132250490544256&#45;&gt;132250490540320* -->\n<g id=\"edge4\" class=\"edge\">\n<title>132250490544256&#45;&gt;132250490540320*</title>\n<path fill=\"none\" stroke=\"black\" d=\"M192.4,-56.49C201.69,-54.83 210.64,-53.23 218.71,-51.79\"/>\n<polygon fill=\"black\" stroke=\"black\" points=\"219.53,-55.2 228.76,-50 218.31,-48.31 219.53,-55.2\"/>\n</g>\n<!-- 132250490539216 -->\n<g id=\"node4\" class=\"node\">\n<title>132250490539216</title>\n<polygon fill=\"none\" stroke=\"black\" points=\"641,-109.5 641,-145.5 836,-145.5 836,-109.5 641,-109.5\"/>\n<text text-anchor=\"middle\" x=\"651.5\" y=\"-123.8\" font-family=\"Times,serif\" font-size=\"14.00\">f</text>\n<polyline fill=\"none\" stroke=\"black\" points=\"662,-109.5 662,-145.5 \"/>\n<text text-anchor=\"middle\" x=\"708\" y=\"-123.8\" font-family=\"Times,serif\" font-size=\"14.00\">data &#45;20.0000</text>\n<polyline fill=\"none\" stroke=\"black\" points=\"754,-109.5 754,-145.5 \"/>\n<text text-anchor=\"middle\" x=\"795\" y=\"-123.8\" font-family=\"Times,serif\" font-size=\"14.00\">grad 0.0000</text>\n</g>\n<!-- 132250490539216&#45;&gt;132250490546416* -->\n<g id=\"edge6\" class=\"edge\">\n<title>132250490539216&#45;&gt;132250490546416*</title>\n<path fill=\"none\" stroke=\"black\" d=\"M836.27,-110.41C845.59,-108.76 854.57,-107.17 862.66,-105.74\"/>\n<polygon fill=\"black\" stroke=\"black\" points=\"863.49,-109.15 872.73,-103.96 862.28,-102.26 863.49,-109.15\"/>\n</g>\n<!-- 132250490546416 -->\n<g id=\"node5\" class=\"node\">\n<title>132250490546416</title>\n<polygon fill=\"none\" stroke=\"black\" points=\"962,-81.5 962,-117.5 1167,-117.5 1167,-81.5 962,-81.5\"/>\n<text text-anchor=\"middle\" x=\"974.5\" y=\"-95.8\" font-family=\"Times,serif\" font-size=\"14.00\">L</text>\n<polyline fill=\"none\" stroke=\"black\" points=\"987,-81.5 987,-117.5 \"/>\n<text text-anchor=\"middle\" x=\"1036\" y=\"-95.8\" font-family=\"Times,serif\" font-size=\"14.00\">data &#45;640.0000</text>\n<polyline fill=\"none\" stroke=\"black\" points=\"1085,-81.5 1085,-117.5 \"/>\n<text text-anchor=\"middle\" x=\"1126\" y=\"-95.8\" font-family=\"Times,serif\" font-size=\"14.00\">grad 0.0000</text>\n</g>\n<!-- 132250490546416*&#45;&gt;132250490546416 -->\n<g id=\"edge2\" class=\"edge\">\n<title>132250490546416*&#45;&gt;132250490546416</title>\n<path fill=\"none\" stroke=\"black\" d=\"M926.27,-99.5C933.76,-99.5 942.43,-99.5 951.69,-99.5\"/>\n<polygon fill=\"black\" stroke=\"black\" points=\"951.96,-103 961.96,-99.5 951.96,-96 951.96,-103\"/>\n</g>\n<!-- 132250490540272 -->\n<g id=\"node7\" class=\"node\">\n<title>132250490540272</title>\n<polygon fill=\"none\" stroke=\"black\" points=\"320.5,-82.5 320.5,-118.5 512.5,-118.5 512.5,-82.5 320.5,-82.5\"/>\n<text text-anchor=\"middle\" x=\"332\" y=\"-96.8\" font-family=\"Times,serif\" font-size=\"14.00\">c</text>\n<polyline fill=\"none\" stroke=\"black\" points=\"343.5,-82.5 343.5,-118.5 \"/>\n<text text-anchor=\"middle\" x=\"387\" y=\"-96.8\" font-family=\"Times,serif\" font-size=\"14.00\">data 80.0000</text>\n<polyline fill=\"none\" stroke=\"black\" points=\"430.5,-82.5 430.5,-118.5 \"/>\n<text text-anchor=\"middle\" x=\"471.5\" y=\"-96.8\" font-family=\"Times,serif\" font-size=\"14.00\">grad 0.0000</text>\n</g>\n<!-- 132250490540272&#45;&gt;132250490539120+ -->\n<g id=\"edge8\" class=\"edge\">\n<title>132250490540272&#45;&gt;132250490539120+</title>\n<path fill=\"none\" stroke=\"black\" d=\"M512.58,-83.81C522.94,-81.99 532.94,-80.23 541.85,-78.67\"/>\n<polygon fill=\"black\" stroke=\"black\" points=\"542.51,-82.11 551.75,-76.93 541.3,-75.21 542.51,-82.11\"/>\n</g>\n<!-- 132250490540320 -->\n<g id=\"node8\" class=\"node\">\n<title>132250490540320</title>\n<polygon fill=\"none\" stroke=\"black\" points=\"318,-27.5 318,-63.5 515,-63.5 515,-27.5 318,-27.5\"/>\n<text text-anchor=\"middle\" x=\"329.5\" y=\"-41.8\" font-family=\"Times,serif\" font-size=\"14.00\">e</text>\n<polyline fill=\"none\" stroke=\"black\" points=\"341,-27.5 341,-63.5 \"/>\n<text text-anchor=\"middle\" x=\"387\" y=\"-41.8\" font-family=\"Times,serif\" font-size=\"14.00\">data &#45;48.0000</text>\n<polyline fill=\"none\" stroke=\"black\" points=\"433,-27.5 433,-63.5 \"/>\n<text text-anchor=\"middle\" x=\"474\" y=\"-41.8\" font-family=\"Times,serif\" font-size=\"14.00\">grad 0.0000</text>\n</g>\n<!-- 132250490540320&#45;&gt;132250490539120+ -->\n<g id=\"edge7\" class=\"edge\">\n<title>132250490540320&#45;&gt;132250490539120+</title>\n<path fill=\"none\" stroke=\"black\" d=\"M515.33,-62.06C524.57,-63.62 533.46,-65.13 541.49,-66.49\"/>\n<polygon fill=\"black\" stroke=\"black\" points=\"541.04,-69.96 551.48,-68.18 542.21,-63.06 541.04,-69.96\"/>\n</g>\n<!-- 132250490540320*&#45;&gt;132250490540320 -->\n<g id=\"edge3\" class=\"edge\">\n<title>132250490540320*&#45;&gt;132250490540320</title>\n<path fill=\"none\" stroke=\"black\" d=\"M282.34,-45.5C289.81,-45.5 298.44,-45.5 307.64,-45.5\"/>\n<polygon fill=\"black\" stroke=\"black\" points=\"307.83,-49 317.83,-45.5 307.83,-42 307.83,-49\"/>\n</g>\n<!-- 132250490539360 -->\n<g id=\"node10\" class=\"node\">\n<title>132250490539360</title>\n<polygon fill=\"none\" stroke=\"black\" points=\"1,-0.5 1,-36.5 191,-36.5 191,-0.5 1,-0.5\"/>\n<text text-anchor=\"middle\" x=\"12.5\" y=\"-14.8\" font-family=\"Times,serif\" font-size=\"14.00\">b</text>\n<polyline fill=\"none\" stroke=\"black\" points=\"24,-0.5 24,-36.5 \"/>\n<text text-anchor=\"middle\" x=\"66.5\" y=\"-14.8\" font-family=\"Times,serif\" font-size=\"14.00\">data &#45;3.0000</text>\n<polyline fill=\"none\" stroke=\"black\" points=\"109,-0.5 109,-36.5 \"/>\n<text text-anchor=\"middle\" x=\"150\" y=\"-14.8\" font-family=\"Times,serif\" font-size=\"14.00\">grad 0.0000</text>\n</g>\n<!-- 132250490539360&#45;&gt;132250490540320* -->\n<g id=\"edge5\" class=\"edge\">\n<title>132250490539360&#45;&gt;132250490540320*</title>\n<path fill=\"none\" stroke=\"black\" d=\"M191.05,-34.67C200.78,-36.35 210.18,-37.96 218.62,-39.42\"/>\n<polygon fill=\"black\" stroke=\"black\" points=\"218.3,-42.91 228.75,-41.16 219.49,-36.01 218.3,-42.91\"/>\n</g>\n</g>\n</svg>\n",
            "text/plain": [
              "<graphviz.graphs.Digraph at 0x7847f7828280>"
            ]
          },
          "metadata": {},
          "execution_count": 42
        }
      ]
    },
    {
      "cell_type": "markdown",
      "source": [
        "Here, we have all the gradients equal to zero. <br>\n",
        "This is because we havenot done any backpropagation. So, let's do it."
      ],
      "metadata": {
        "id": "Q6KB5Veluqg7"
      }
    },
    {
      "cell_type": "code",
      "source": [
        "h = 0.00001\n",
        "\n",
        "a = Value(16.0, label = 'a')\n",
        "b = Value(-3.0, label = 'b')\n",
        "c = Value(80.0, label = 'c')\n",
        "e = a * b; e.label = 'e'\n",
        "d = e + c; d.label = 'd'\n",
        "f = Value(-20.0, label = 'f')\n",
        "L = d * f; L.label = 'L'\n",
        "L1 = L.data\n",
        "\n",
        "\n",
        "a = Value(16.0+h, label = 'a')\n",
        "b = Value(-3.0, label = 'b')\n",
        "c = Value(80.0, label = 'c')\n",
        "e = a * b; e.label = 'e'\n",
        "d = e + c; d.label = 'd'\n",
        "f = Value(-20.0, label = 'f')\n",
        "L = d * f; L.label = 'L'\n",
        "L2 = L.data"
      ],
      "metadata": {
        "id": "-21oeAptuiei"
      },
      "execution_count": 45,
      "outputs": []
    },
    {
      "cell_type": "markdown",
      "source": [
        "We are taking `L.data` because it's Value Object and we are taking the data from it."
      ],
      "metadata": {
        "id": "cbDvNUt8EMjR"
      }
    },
    {
      "cell_type": "code",
      "source": [
        "print((L2-L1)/h)"
      ],
      "metadata": {
        "colab": {
          "base_uri": "https://localhost:8080/"
        },
        "id": "sh37Cgl9D1Nz",
        "outputId": "4e651944-a38e-4b19-e602-285730554f37"
      },
      "execution_count": 46,
      "outputs": [
        {
          "output_type": "stream",
          "name": "stdout",
          "text": [
            "59.99999998493876\n"
          ]
        }
      ]
    },
    {
      "cell_type": "markdown",
      "source": [
        "Let's try something similar."
      ],
      "metadata": {
        "id": "q5lcFO59Ei5b"
      }
    },
    {
      "cell_type": "code",
      "source": [
        "h = 0.00001\n",
        "\n",
        "a = Value(16.0, label = 'a')\n",
        "b = Value(-3.0, label = 'b')\n",
        "c = Value(80.0, label = 'c')\n",
        "e = a * b; e.label = 'e'\n",
        "d = e + c; d.label = 'd'\n",
        "f = Value(-20.0, label = 'f')\n",
        "L = d * f; L.label = 'L'\n",
        "L1 = L.data\n",
        "\n",
        "\n",
        "a = Value(16.0, label = 'a')\n",
        "b = Value(-3.0, label = 'b')\n",
        "c = Value(80.0, label = 'c')\n",
        "e = a * b; e.label = 'e'\n",
        "d = e + c; d.label = 'd'\n",
        "f = Value(-20.0, label = 'f')\n",
        "L = d * f; L.label = 'L'\n",
        "L2 = L.data + h"
      ],
      "metadata": {
        "id": "RDWoyTZkEAx_"
      },
      "execution_count": 47,
      "outputs": []
    },
    {
      "cell_type": "code",
      "source": [
        "print((L2-L1)/h)"
      ],
      "metadata": {
        "colab": {
          "base_uri": "https://localhost:8080/"
        },
        "id": "UMAL2E0gEpEv",
        "outputId": "91c9f0ca-e99e-4023-a5ce-2185e77f280b"
      },
      "execution_count": 48,
      "outputs": [
        {
          "output_type": "stream",
          "name": "stdout",
          "text": [
            "0.9999999974752426\n"
          ]
        }
      ]
    },
    {
      "cell_type": "code",
      "source": [],
      "metadata": {
        "id": "f9DFqlFiEqki"
      },
      "execution_count": null,
      "outputs": []
    }
  ]
}
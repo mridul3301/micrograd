{
  "nbformat": 4,
  "nbformat_minor": 0,
  "metadata": {
    "colab": {
      "provenance": []
    },
    "kernelspec": {
      "name": "python3",
      "display_name": "Python 3"
    },
    "language_info": {
      "name": "python"
    }
  },
  "cells": [
    {
      "cell_type": "markdown",
      "source": [
        "### Intro\n",
        "\n",
        "In this section, we are going to look at the concept of derivatives. For this purpose, we import the libraries for different operations and visualization."
      ],
      "metadata": {
        "id": "sQa-etADOC2A"
      }
    },
    {
      "cell_type": "code",
      "execution_count": 1,
      "metadata": {
        "id": "Yn_EfN3g9Af3"
      },
      "outputs": [],
      "source": [
        "import math\n",
        "import numpy as np\n",
        "import matplotlib.pyplot as plt\n",
        "%matplotlib inline"
      ]
    },
    {
      "cell_type": "markdown",
      "source": [
        "### Forward Pass\n",
        "\n",
        "We are going to learn about forward pass and kind of visualize it."
      ],
      "metadata": {
        "id": "4XQzKPyupV8T"
      }
    },
    {
      "cell_type": "markdown",
      "source": [
        "### Define a Function\n",
        "\n",
        "Let's define a quadratic function :\n",
        "\\begin{equation}\n",
        "f(x) = 3x^2 - 4x + 5\n",
        "\\end{equation}\n"
      ],
      "metadata": {
        "id": "lFhwHYviN9tJ"
      }
    },
    {
      "cell_type": "code",
      "source": [
        "def f(x):\n",
        "    return 3*x**2 - 4*x + 5"
      ],
      "metadata": {
        "id": "5Hl1wX4R9SNf"
      },
      "execution_count": 2,
      "outputs": []
    },
    {
      "cell_type": "markdown",
      "source": [
        "Let's calculate the function value for a random value. 3 in this case.\n"
      ],
      "metadata": {
        "id": "IoaBrO9zZSRa"
      }
    },
    {
      "cell_type": "code",
      "source": [
        "f(3.0)"
      ],
      "metadata": {
        "colab": {
          "base_uri": "https://localhost:8080/"
        },
        "id": "Jfo_LW0Q9UzB",
        "outputId": "30ae6623-ffd2-481b-c721-4387780f0732"
      },
      "execution_count": 3,
      "outputs": [
        {
          "output_type": "execute_result",
          "data": {
            "text/plain": [
              "20.0"
            ]
          },
          "metadata": {},
          "execution_count": 3
        }
      ]
    },
    {
      "cell_type": "markdown",
      "source": [
        "Plot the function."
      ],
      "metadata": {
        "id": "Egat9yxtZ8ET"
      }
    },
    {
      "cell_type": "code",
      "source": [
        "xs = np.arange(-5, 5, 0.25)\n",
        "ys = f(xs)\n",
        "plt.plot(xs, ys)"
      ],
      "metadata": {
        "colab": {
          "base_uri": "https://localhost:8080/",
          "height": 447
        },
        "id": "ptK-uEtv9if4",
        "outputId": "b14e576d-a200-46da-99eb-fa84b0e7e540"
      },
      "execution_count": 4,
      "outputs": [
        {
          "output_type": "execute_result",
          "data": {
            "text/plain": [
              "[<matplotlib.lines.Line2D at 0x787ef9fda740>]"
            ]
          },
          "metadata": {},
          "execution_count": 4
        },
        {
          "output_type": "display_data",
          "data": {
            "text/plain": [
              "<Figure size 640x480 with 1 Axes>"
            ],
            "image/png": "[encoded data removed]"
          },
          "metadata": {}
        }
      ]
    },
    {
      "cell_type": "markdown",
      "source": [
        "Consider h, a very small incremental value. Now, calculate the value of function for both ***f(x)*** and ***f(x+h)***."
      ],
      "metadata": {
        "id": "Fk6dZKpuZ_x2"
      }
    },
    {
      "cell_type": "code",
      "source": [
        "h = 0.000001\n",
        "x = 3.0\n",
        "print(f\"{f(x)}\")\n",
        "print(f\"{f(x+h)}\")"
      ],
      "metadata": {
        "id": "T8-R52yc9p9t",
        "colab": {
          "base_uri": "https://localhost:8080/"
        },
        "outputId": "05913f07-a1fb-40ac-eed8-733dc7f305a8"
      },
      "execution_count": 5,
      "outputs": [
        {
          "output_type": "stream",
          "name": "stdout",
          "text": [
            "20.0\n",
            "20.000014000003002\n"
          ]
        }
      ]
    },
    {
      "cell_type": "markdown",
      "source": [
        "Calculate the difference."
      ],
      "metadata": {
        "id": "As-mGiUEbNZO"
      }
    },
    {
      "cell_type": "code",
      "source": [
        "f(x+h) - f(x)"
      ],
      "metadata": {
        "colab": {
          "base_uri": "https://localhost:8080/"
        },
        "id": "K87ZEqsTNPRG",
        "outputId": "f6dc9962-0d69-494c-e71c-f0d87899c187"
      },
      "execution_count": 6,
      "outputs": [
        {
          "output_type": "execute_result",
          "data": {
            "text/plain": [
              "1.4000003002223593e-05"
            ]
          },
          "metadata": {},
          "execution_count": 6
        }
      ]
    },
    {
      "cell_type": "markdown",
      "source": [
        "Calculate the slope."
      ],
      "metadata": {
        "id": "WCzGrYLrbPrN"
      }
    },
    {
      "cell_type": "code",
      "source": [
        "(f(x+h) - f(x))/h"
      ],
      "metadata": {
        "colab": {
          "base_uri": "https://localhost:8080/"
        },
        "id": "4Im5UtAaN2MD",
        "outputId": "672790c6-72fd-4f97-b6a3-f642bb186f36"
      },
      "execution_count": 7,
      "outputs": [
        {
          "output_type": "execute_result",
          "data": {
            "text/plain": [
              "14.000003002223593"
            ]
          },
          "metadata": {},
          "execution_count": 7
        }
      ]
    },
    {
      "cell_type": "markdown",
      "source": [
        "Now, let's look at a bit complex function."
      ],
      "metadata": {
        "id": "NptmQPVYdGQG"
      }
    },
    {
      "cell_type": "code",
      "source": [
        "a = 2.0\n",
        "b = -3.0\n",
        "c = 10.0\n",
        "d = a*b + c\n",
        "print(d)"
      ],
      "metadata": {
        "colab": {
          "base_uri": "https://localhost:8080/"
        },
        "id": "iwoo04XYN6yP",
        "outputId": "a6075dff-2201-48ed-c8a6-3f6bc5faf584"
      },
      "execution_count": 8,
      "outputs": [
        {
          "output_type": "stream",
          "name": "stdout",
          "text": [
            "4.0\n"
          ]
        }
      ]
    },
    {
      "cell_type": "code",
      "source": [
        "h = 0.0001\n",
        "\n",
        "# inputs\n",
        "a = 2.0\n",
        "b = -3.0\n",
        "c = 10.0\n",
        "\n",
        "d1 = a*b + c\n",
        "c += h\n",
        "d2 = a*b + c\n",
        "\n",
        "print('d1', d1)\n",
        "print('d2', d2)\n",
        "print('slope', (d2 - d1)/h)"
      ],
      "metadata": {
        "colab": {
          "base_uri": "https://localhost:8080/"
        },
        "id": "1kL7BtKXdMCV",
        "outputId": "c34e6eba-d090-47b2-ab9c-46170c66944c"
      },
      "execution_count": 9,
      "outputs": [
        {
          "output_type": "stream",
          "name": "stdout",
          "text": [
            "d1 4.0\n",
            "d2 4.0001\n",
            "slope 0.9999999999976694\n"
          ]
        }
      ]
    },
    {
      "cell_type": "markdown",
      "source": [
        "###  Create the Value Object\n",
        "\n",
        "We will work with neural networks and in order to do that we need some data structures to manage that. So, To start,<br>\n",
        "Let's create a ***Value*** object. <br>\n",
        "Value class takes a single scalar value that it wraps and keep track of."
      ],
      "metadata": {
        "id": "ORuNy-qYdfAF"
      }
    },
    {
      "cell_type": "code",
      "source": [
        "class Value:\n",
        "\n",
        "    def __init__(self, data):\n",
        "        self.data = data\n",
        "\n",
        "    def __repr__(self):\n",
        "        return f\"Value(data={self.data})\""
      ],
      "metadata": {
        "id": "1DE7ovF1dQNG"
      },
      "execution_count": 10,
      "outputs": []
    },
    {
      "cell_type": "markdown",
      "source": [
        "Python will automatically make use of repr function for displaying value object."
      ],
      "metadata": {
        "id": "WUSBPXLif9C2"
      }
    },
    {
      "cell_type": "code",
      "source": [
        "a = Value(2.0)"
      ],
      "metadata": {
        "id": "JvwOFa-2dqgO"
      },
      "execution_count": 11,
      "outputs": []
    },
    {
      "cell_type": "code",
      "source": [
        "a"
      ],
      "metadata": {
        "colab": {
          "base_uri": "https://localhost:8080/"
        },
        "id": "MSaRkL0oeA-l",
        "outputId": "ba23505b-6257-46e9-a743-56a7bad73fb1"
      },
      "execution_count": 12,
      "outputs": [
        {
          "output_type": "execute_result",
          "data": {
            "text/plain": [
              "Value(data=2.0)"
            ]
          },
          "metadata": {},
          "execution_count": 12
        }
      ]
    },
    {
      "cell_type": "code",
      "source": [
        "b = Value(3.0)"
      ],
      "metadata": {
        "id": "6MlmOzxDeCdX"
      },
      "execution_count": 13,
      "outputs": []
    },
    {
      "cell_type": "code",
      "source": [
        "b"
      ],
      "metadata": {
        "colab": {
          "base_uri": "https://localhost:8080/"
        },
        "id": "crKbqZT8hc5p",
        "outputId": "28aa7312-6f10-4647-a7fd-8293ffbdba6e"
      },
      "execution_count": 14,
      "outputs": [
        {
          "output_type": "execute_result",
          "data": {
            "text/plain": [
              "Value(data=3.0)"
            ]
          },
          "metadata": {},
          "execution_count": 14
        }
      ]
    },
    {
      "cell_type": "markdown",
      "source": [
        "Let's Try to add a & b that are basically same datatype."
      ],
      "metadata": {
        "id": "gl3AdNVEherw"
      }
    },
    {
      "cell_type": "code",
      "source": [
        "#a+b"
      ],
      "metadata": {
        "id": "vvvwBxw8hdSU"
      },
      "execution_count": 15,
      "outputs": []
    },
    {
      "cell_type": "markdown",
      "source": [
        "The above expression gives the following error because python doesnot know how to add two value objects.\n",
        "```\n",
        "---------------------------------------------------------------------------\n",
        "TypeError                                 Traceback (most recent call last)\n",
        "<ipython-input-16-ca730b97bf8a> in <cell line: 1>()\n",
        "----> 1 a+b\n",
        "\n",
        "TypeError: unsupported operand type(s) for +: 'Value' and 'Value'\n",
        "```\n",
        "*Check by removing the comment*"
      ],
      "metadata": {
        "id": "O1sHfyDwEPN4"
      }
    },
    {
      "cell_type": "markdown",
      "source": [
        "Now, Let's define a function to add two value objects and update the Value class."
      ],
      "metadata": {
        "id": "fWEEEcgsErK8"
      }
    },
    {
      "cell_type": "code",
      "source": [
        "class Value:\n",
        "\n",
        "    def __init__(self, data):\n",
        "        self.data = data\n",
        "\n",
        "    def __repr__(self):\n",
        "        return f\"Value(data={self.data})\"\n",
        "\n",
        "    def __add__(self, other):\n",
        "        out = Value(self.data + other.data)\n",
        "        return out"
      ],
      "metadata": {
        "id": "IeBHB5m4DxMe"
      },
      "execution_count": 16,
      "outputs": []
    },
    {
      "cell_type": "markdown",
      "source": [
        "```\n",
        "out = Value(self.data + other.data)\n",
        "```\n",
        "This expression helps addition of two datatypes.<br>\n",
        "Basically, now when we implement `a + b`, following operation happens.\n",
        "```\n",
        "a.__add__(b)\n",
        "```\n"
      ],
      "metadata": {
        "id": "LGkSX7RCFLwk"
      }
    },
    {
      "cell_type": "code",
      "source": [
        "a = Value(261.0)\n",
        "b = Value(-343.0)"
      ],
      "metadata": {
        "id": "lkl0DzETFK1Z"
      },
      "execution_count": 17,
      "outputs": []
    },
    {
      "cell_type": "code",
      "source": [
        "# Adding\n",
        "\n",
        "a + b"
      ],
      "metadata": {
        "colab": {
          "base_uri": "https://localhost:8080/"
        },
        "id": "fuflVokOF4tM",
        "outputId": "b2947e4d-31fb-4acf-bc05-df22939ea4f4"
      },
      "execution_count": 18,
      "outputs": [
        {
          "output_type": "execute_result",
          "data": {
            "text/plain": [
              "Value(data=-82.0)"
            ]
          },
          "metadata": {},
          "execution_count": 18
        }
      ]
    },
    {
      "cell_type": "markdown",
      "source": [
        "Again, Let's update the value class with a function to multiply two objects."
      ],
      "metadata": {
        "id": "pzK_k-D3GH-0"
      }
    },
    {
      "cell_type": "code",
      "source": [
        "class Value:\n",
        "\n",
        "    def __init__(self, data):\n",
        "        self.data = data\n",
        "\n",
        "    def __repr__(self):\n",
        "        return f\"Value(data={self.data})\"\n",
        "\n",
        "    def __add__(self, other):\n",
        "        out = Value(self.data + other.data)\n",
        "        return out\n",
        "\n",
        "    def __mul__(self, other):\n",
        "        out = Value(self.data * other.data)\n",
        "        return out"
      ],
      "metadata": {
        "id": "0pj0iP6YF_fl"
      },
      "execution_count": 19,
      "outputs": []
    },
    {
      "cell_type": "code",
      "source": [
        "a = Value(6.0)\n",
        "b = Value(-3.0)\n",
        "c = Value(20.0)"
      ],
      "metadata": {
        "id": "YiUffyFxGcYG"
      },
      "execution_count": 20,
      "outputs": []
    },
    {
      "cell_type": "code",
      "source": [
        "a * b + c"
      ],
      "metadata": {
        "colab": {
          "base_uri": "https://localhost:8080/"
        },
        "id": "bptpzmCNGplK",
        "outputId": "09617a30-febb-46b9-cf2a-869ab8655745"
      },
      "execution_count": 21,
      "outputs": [
        {
          "output_type": "execute_result",
          "data": {
            "text/plain": [
              "Value(data=2.0)"
            ]
          },
          "metadata": {},
          "execution_count": 21
        }
      ]
    },
    {
      "cell_type": "markdown",
      "source": [
        "```\n",
        "out = Value(self.data * other.data)\n",
        "```\n",
        "This expression helps addition of two datatypes.<br>\n",
        "Basically, now when we implement `a * b + c`, following operation happens.\n",
        "```\n",
        "(a.__mul__(b)).__add__(c)\n",
        "```\n"
      ],
      "metadata": {
        "id": "VodzWsBJG4hQ"
      }
    },
    {
      "cell_type": "markdown",
      "source": [
        "What we are missing until now is the expression graphs. <br>\n",
        "So, basically we need to keep pointers about what values produce what other values.<br>\n",
        "Here, we'll define a new variable named <code>_children </code> and it'll be an empty tuple by default.<br>\n",
        "And we will introduce a new variable called <code>_prev </code> in the class that is basically set of <code>_children </code>"
      ],
      "metadata": {
        "id": "S7adTUI9HsXl"
      }
    },
    {
      "cell_type": "code",
      "source": [
        "class Value:\n",
        "\n",
        "    def __init__(self, data, _children = ()):\n",
        "        self.data = data\n",
        "        self._prev = set(_children)\n",
        "\n",
        "    def __repr__(self):\n",
        "        return f\"Value(data={self.data})\"\n",
        "\n",
        "    def __add__(self, other):\n",
        "        out = Value(self.data + other.data, (self, other))\n",
        "        return out\n",
        "\n",
        "    def __mul__(self, other):\n",
        "        out = Value(self.data * other.data, (self, other))\n",
        "        return out"
      ],
      "metadata": {
        "id": "L-tVNScrGvt8"
      },
      "execution_count": 22,
      "outputs": []
    },
    {
      "cell_type": "markdown",
      "source": [
        "When we start, `_children` will just be an empty set.<br>\n",
        "But, when an operation is performed, `_children` will be fed in the end.<br>\n",
        "Just like <br>\n",
        "`out = Value(self.data + other.data, (self, other))`<br>\n",
        "`out = Value(self.data * other.data, (self, other))`\n",
        "<br>\n",
        "Here, we added two parameter `(self, other)` which is basically the variables that we operated on. <br>\n",
        "i.e., We are keeping the track of previous values."
      ],
      "metadata": {
        "id": "MHdvoWilJqX0"
      }
    },
    {
      "cell_type": "code",
      "source": [
        "a = Value(6.0)\n",
        "b = Value(-3.0)\n",
        "c = Value(20.0)\n",
        "d = a * b + c"
      ],
      "metadata": {
        "id": "6ffjS7KtJh4-"
      },
      "execution_count": 23,
      "outputs": []
    },
    {
      "cell_type": "code",
      "source": [
        "d"
      ],
      "metadata": {
        "colab": {
          "base_uri": "https://localhost:8080/"
        },
        "id": "8lZfXNghK7g1",
        "outputId": "15e24868-ef0b-4e08-b857-c00210ac3952"
      },
      "execution_count": 24,
      "outputs": [
        {
          "output_type": "execute_result",
          "data": {
            "text/plain": [
              "Value(data=2.0)"
            ]
          },
          "metadata": {},
          "execution_count": 24
        }
      ]
    },
    {
      "cell_type": "code",
      "source": [
        "d._prev"
      ],
      "metadata": {
        "colab": {
          "base_uri": "https://localhost:8080/"
        },
        "id": "qapXzm_9K9xg",
        "outputId": "13c25061-8770-48ce-f226-172ffe0a0e03"
      },
      "execution_count": 25,
      "outputs": [
        {
          "output_type": "execute_result",
          "data": {
            "text/plain": [
              "{Value(data=-18.0), Value(data=20.0)}"
            ]
          },
          "metadata": {},
          "execution_count": 25
        }
      ]
    },
    {
      "cell_type": "markdown",
      "source": [
        "So, when we did `d._prev`, we got two values that we operated on.<br><br>\n",
        "We now know the children Value of the output Value, but we still have not tracked the operation that we did on those Values.<br>\n",
        "For this problem, Let's update our Value class.<br><br>\n",
        "\n",
        "We add a new variable `_op` which is an empty string by default."
      ],
      "metadata": {
        "id": "zTgks0UyLEsy"
      }
    },
    {
      "cell_type": "code",
      "source": [
        "class Value:\n",
        "\n",
        "    def __init__(self, data, _children = (), _op = ''):\n",
        "        self.data = data\n",
        "        self._prev = set(_children)\n",
        "        self._op = _op\n",
        "\n",
        "    def __repr__(self):\n",
        "        return f\"Value(data={self.data})\"\n",
        "\n",
        "    def __add__(self, other):\n",
        "        out = Value(self.data + other.data, (self, other), '+')\n",
        "        return out\n",
        "\n",
        "    def __mul__(self, other):\n",
        "        out = Value(self.data * other.data, (self, other), '*')\n",
        "        return out"
      ],
      "metadata": {
        "id": "Rv7In9NLK_9C"
      },
      "execution_count": 26,
      "outputs": []
    },
    {
      "cell_type": "markdown",
      "source": [
        "When we start, `_op` will just be an empty string.<br>\n",
        "But, when an operation is performed, `_op` will be fed in the end.<br>\n",
        "Just like <br>\n",
        "`out = Value(self.data + other.data, (self, other), '+')`<br>\n",
        "`out = Value(self.data * other.data, (self, other), '*')`\n",
        "<br>\n",
        "Here, we added a string which is basically the operation performed. <br>\n",
        "i.e., We are keeping the track of operations."
      ],
      "metadata": {
        "id": "DmjfGlWPMsQe"
      }
    },
    {
      "cell_type": "code",
      "source": [
        "a = Value(16.0)\n",
        "b = Value(-3.0)\n",
        "c = Value(80.0)\n",
        "d = a * b + c"
      ],
      "metadata": {
        "id": "_SdRALu9Ni53"
      },
      "execution_count": 27,
      "outputs": []
    },
    {
      "cell_type": "code",
      "source": [
        "d"
      ],
      "metadata": {
        "colab": {
          "base_uri": "https://localhost:8080/"
        },
        "id": "bf9hNSjcNoJv",
        "outputId": "dc5e805c-4fad-412d-bd12-5f781bb4db30"
      },
      "execution_count": 28,
      "outputs": [
        {
          "output_type": "execute_result",
          "data": {
            "text/plain": [
              "Value(data=32.0)"
            ]
          },
          "metadata": {},
          "execution_count": 28
        }
      ]
    },
    {
      "cell_type": "markdown",
      "source": [
        "Now, we can not only do `d._prev`, we can also look at what specific operations we performed using `d._op`."
      ],
      "metadata": {
        "id": "vqCBeW9JNqnS"
      }
    },
    {
      "cell_type": "code",
      "source": [
        "d._prev"
      ],
      "metadata": {
        "colab": {
          "base_uri": "https://localhost:8080/"
        },
        "id": "PCx43hstNpkW",
        "outputId": "37359fda-3002-48dc-937b-1ff381da7315"
      },
      "execution_count": 29,
      "outputs": [
        {
          "output_type": "execute_result",
          "data": {
            "text/plain": [
              "{Value(data=-48.0), Value(data=80.0)}"
            ]
          },
          "metadata": {},
          "execution_count": 29
        }
      ]
    },
    {
      "cell_type": "code",
      "source": [
        "d._op"
      ],
      "metadata": {
        "colab": {
          "base_uri": "https://localhost:8080/",
          "height": 35
        },
        "id": "GsVhf3ylN3TP",
        "outputId": "b8b26884-ce39-43c6-e8ea-b283e228b0b0"
      },
      "execution_count": 30,
      "outputs": [
        {
          "output_type": "execute_result",
          "data": {
            "text/plain": [
              "'+'"
            ],
            "application/vnd.google.colaboratory.intrinsic+json": {
              "type": "string"
            }
          },
          "metadata": {},
          "execution_count": 30
        }
      ]
    },
    {
      "cell_type": "markdown",
      "source": [
        "Hence, we know that <br>\n",
        "```\n",
        "d = Value(data=32.0)\n",
        "```\n",
        "is generated using two Values<br>\n",
        "```\n",
        "{Value(data=-48.0), Value(data=80.0)}\n",
        "```\n",
        "And the operation performed on those Values to generate the output is\n",
        "```\n",
        "'+'.\n",
        "```"
      ],
      "metadata": {
        "id": "_nxnNgP5N60V"
      }
    },
    {
      "cell_type": "markdown",
      "source": [
        "Expressions we are using as examples are quiet smaller, but we'd like to work on more complex ones.<br>\n",
        "It would be better if we created a mechanism to visualize the operations."
      ],
      "metadata": {
        "id": "VGyskmOKOnA0"
      }
    },
    {
      "cell_type": "code",
      "source": [
        "from graphviz import Digraph\n",
        "\n",
        "def trace(root):\n",
        "\n",
        "    # Set of all nodes and edges in graph\n",
        "    nodes, edges = set(), set()\n",
        "\n",
        "    def build(v):\n",
        "        if v not in nodes:\n",
        "            nodes.add(v)\n",
        "            for child in v._prev:\n",
        "                edges.add((child, v))\n",
        "                build(child)\n",
        "\n",
        "    build(root)\n",
        "    return nodes, edges\n",
        "\n",
        "\n",
        "\n",
        "def draw_dot(root):\n",
        "    dot = Digraph(format='svg', graph_attr = {'rankdir':'LR'})\n",
        "\n",
        "    nodes, edges = trace(root)\n",
        "\n",
        "    for n in nodes:\n",
        "        uid = str(id(n))\n",
        "        dot.node(name = uid, label = \"{ data %.4f }\"%(n.data, ), shape='record')\n",
        "\n",
        "        if n._op:\n",
        "            dot.node(name = uid + n._op, label = n._op)\n",
        "            dot.edge(uid + n._op, uid)\n",
        "\n",
        "\n",
        "    for n1, n2 in edges:\n",
        "        dot.edge(str(id(n1)), str(id(n2)) + n2._op)\n",
        "\n",
        "    return dot"
      ],
      "metadata": {
        "id": "6eHp6_bjN3-9"
      },
      "execution_count": 31,
      "outputs": []
    },
    {
      "cell_type": "code",
      "source": [
        "draw_dot(d)"
      ],
      "metadata": {
        "colab": {
          "base_uri": "https://localhost:8080/",
          "height": 192
        },
        "id": "EmHEF1gUbcp7",
        "outputId": "f8633fd9-7626-4d1f-a59d-af17872170d6"
      },
      "execution_count": 32,
      "outputs": [
        {
          "output_type": "execute_result",
          "data": {
            "image/svg+xml": "<?xml version=\"1.0\" encoding=\"UTF-8\" standalone=\"no\"?>\n<!DOCTYPE svg PUBLIC \"-//W3C//DTD SVG 1.1//EN\"\n \"http://www.w3.org/Graphics/SVG/1.1/DTD/svg11.dtd\">\n<!-- Generated by graphviz version 2.43.0 (0)\n -->\n<!-- Title: %3 Pages: 1 -->\n<svg width=\"526pt\" height=\"128pt\"\n viewBox=\"0.00 0.00 526.00 128.00\" xmlns=\"http://www.w3.org/2000/svg\" xmlns:xlink=\"http://www.w3.org/1999/xlink\">\n<g id=\"graph0\" class=\"graph\" transform=\"scale(1 1) rotate(0) translate(4 124)\">\n<title>%3</title>\n<polygon fill=\"white\" stroke=\"transparent\" points=\"-4,4 -4,-124 522,-124 522,4 -4,4\"/>\n<!-- 132486724155424 -->\n<g id=\"node1\" class=\"node\">\n<title>132486724155424</title>\n<polygon fill=\"none\" stroke=\"black\" points=\"0,-83.5 0,-119.5 87,-119.5 87,-83.5 0,-83.5\"/>\n<text text-anchor=\"middle\" x=\"43.5\" y=\"-97.8\" font-family=\"Times,serif\" font-size=\"14.00\">data 16.0000</text>\n</g>\n<!-- 132486724145104* -->\n<g id=\"node7\" class=\"node\">\n<title>132486724145104*</title>\n<ellipse fill=\"none\" stroke=\"black\" cx=\"150\" cy=\"-73.5\" rx=\"27\" ry=\"18\"/>\n<text text-anchor=\"middle\" x=\"150\" y=\"-69.8\" font-family=\"Times,serif\" font-size=\"14.00\">*</text>\n</g>\n<!-- 132486724155424&#45;&gt;132486724145104* -->\n<g id=\"edge6\" class=\"edge\">\n<title>132486724155424&#45;&gt;132486724145104*</title>\n<path fill=\"none\" stroke=\"black\" d=\"M87,-90.11C96.18,-87.65 105.78,-85.08 114.6,-82.72\"/>\n<polygon fill=\"black\" stroke=\"black\" points=\"115.78,-86.02 124.53,-80.06 113.97,-79.26 115.78,-86.02\"/>\n</g>\n<!-- 132486724145344 -->\n<g id=\"node2\" class=\"node\">\n<title>132486724145344</title>\n<polygon fill=\"none\" stroke=\"black\" points=\"215.5,-0.5 215.5,-36.5 302.5,-36.5 302.5,-0.5 215.5,-0.5\"/>\n<text text-anchor=\"middle\" x=\"259\" y=\"-14.8\" font-family=\"Times,serif\" font-size=\"14.00\">data 80.0000</text>\n</g>\n<!-- 132486724148944+ -->\n<g id=\"node5\" class=\"node\">\n<title>132486724148944+</title>\n<ellipse fill=\"none\" stroke=\"black\" cx=\"368\" cy=\"-45.5\" rx=\"27\" ry=\"18\"/>\n<text text-anchor=\"middle\" x=\"368\" y=\"-41.8\" font-family=\"Times,serif\" font-size=\"14.00\">+</text>\n</g>\n<!-- 132486724145344&#45;&gt;132486724148944+ -->\n<g id=\"edge4\" class=\"edge\">\n<title>132486724145344&#45;&gt;132486724148944+</title>\n<path fill=\"none\" stroke=\"black\" d=\"M302.6,-29.25C312.53,-31.75 322.98,-34.39 332.51,-36.8\"/>\n<polygon fill=\"black\" stroke=\"black\" points=\"331.86,-40.24 342.41,-39.3 333.57,-33.46 331.86,-40.24\"/>\n</g>\n<!-- 132486724145872 -->\n<g id=\"node3\" class=\"node\">\n<title>132486724145872</title>\n<polygon fill=\"none\" stroke=\"black\" points=\"1,-28.5 1,-64.5 86,-64.5 86,-28.5 1,-28.5\"/>\n<text text-anchor=\"middle\" x=\"43.5\" y=\"-42.8\" font-family=\"Times,serif\" font-size=\"14.00\">data &#45;3.0000</text>\n</g>\n<!-- 132486724145872&#45;&gt;132486724145104* -->\n<g id=\"edge3\" class=\"edge\">\n<title>132486724145872&#45;&gt;132486724145104*</title>\n<path fill=\"none\" stroke=\"black\" d=\"M86.1,-57.25C95.61,-59.71 105.62,-62.29 114.78,-64.66\"/>\n<polygon fill=\"black\" stroke=\"black\" points=\"114.13,-68.11 124.69,-67.22 115.88,-61.33 114.13,-68.11\"/>\n</g>\n<!-- 132486724148944 -->\n<g id=\"node4\" class=\"node\">\n<title>132486724148944</title>\n<polygon fill=\"none\" stroke=\"black\" points=\"431,-27.5 431,-63.5 518,-63.5 518,-27.5 431,-27.5\"/>\n<text text-anchor=\"middle\" x=\"474.5\" y=\"-41.8\" font-family=\"Times,serif\" font-size=\"14.00\">data 32.0000</text>\n</g>\n<!-- 132486724148944+&#45;&gt;132486724148944 -->\n<g id=\"edge1\" class=\"edge\">\n<title>132486724148944+&#45;&gt;132486724148944</title>\n<path fill=\"none\" stroke=\"black\" d=\"M395.1,-45.5C402.83,-45.5 411.6,-45.5 420.4,-45.5\"/>\n<polygon fill=\"black\" stroke=\"black\" points=\"420.68,-49 430.68,-45.5 420.68,-42 420.68,-49\"/>\n</g>\n<!-- 132486724145104 -->\n<g id=\"node6\" class=\"node\">\n<title>132486724145104</title>\n<polygon fill=\"none\" stroke=\"black\" points=\"213,-55.5 213,-91.5 305,-91.5 305,-55.5 213,-55.5\"/>\n<text text-anchor=\"middle\" x=\"259\" y=\"-69.8\" font-family=\"Times,serif\" font-size=\"14.00\">data &#45;48.0000</text>\n</g>\n<!-- 132486724145104&#45;&gt;132486724148944+ -->\n<g id=\"edge5\" class=\"edge\">\n<title>132486724145104&#45;&gt;132486724148944+</title>\n<path fill=\"none\" stroke=\"black\" d=\"M305.07,-61.71C314.34,-59.28 323.97,-56.76 332.79,-54.45\"/>\n<polygon fill=\"black\" stroke=\"black\" points=\"333.91,-57.78 342.7,-51.86 332.14,-51.01 333.91,-57.78\"/>\n</g>\n<!-- 132486724145104*&#45;&gt;132486724145104 -->\n<g id=\"edge2\" class=\"edge\">\n<title>132486724145104*&#45;&gt;132486724145104</title>\n<path fill=\"none\" stroke=\"black\" d=\"M177.18,-73.5C185,-73.5 193.88,-73.5 202.83,-73.5\"/>\n<polygon fill=\"black\" stroke=\"black\" points=\"202.91,-77 212.91,-73.5 202.91,-70 202.91,-77\"/>\n</g>\n</g>\n</svg>\n",
            "text/plain": [
              "<graphviz.graphs.Digraph at 0x787ef8216470>"
            ]
          },
          "metadata": {},
          "execution_count": 32
        }
      ]
    },
    {
      "cell_type": "markdown",
      "source": [
        "Updating the class Value to add labels:"
      ],
      "metadata": {
        "id": "Tkzbclj6cqkz"
      }
    },
    {
      "cell_type": "code",
      "source": [
        "class Value:\n",
        "\n",
        "    def __init__(self, data, _children = (), _op = '', label = ''):\n",
        "        self.data = data\n",
        "        self._prev = set(_children)\n",
        "        self._op = _op\n",
        "        self.label = label\n",
        "\n",
        "    def __repr__(self):\n",
        "        return f\"Value(data={self.data})\"\n",
        "\n",
        "    def __add__(self, other):\n",
        "        out = Value(self.data + other.data, (self, other), '+')\n",
        "        return out\n",
        "\n",
        "    def __mul__(self, other):\n",
        "        out = Value(self.data * other.data, (self, other), '*')\n",
        "        return out"
      ],
      "metadata": {
        "id": "9TW-8J_zdBpP"
      },
      "execution_count": 33,
      "outputs": []
    },
    {
      "cell_type": "code",
      "source": [
        "a = Value(16.0, label = 'a')\n",
        "b = Value(-3.0, label = 'b')\n",
        "c = Value(80.0, label = 'c')\n",
        "e = a * b; e.label = 'e'\n",
        "d = e + c; d.label = 'd'"
      ],
      "metadata": {
        "id": "gPl0xX_vbf_w"
      },
      "execution_count": 34,
      "outputs": []
    },
    {
      "cell_type": "markdown",
      "source": [
        "Updating the visualization function to add labels:"
      ],
      "metadata": {
        "id": "berMs7fXdYaS"
      }
    },
    {
      "cell_type": "code",
      "source": [
        "from graphviz import Digraph\n",
        "\n",
        "def trace(root):\n",
        "\n",
        "    # Set of all nodes and edges in graph\n",
        "    nodes, edges = set(), set()\n",
        "\n",
        "    def build(v):\n",
        "        if v not in nodes:\n",
        "            nodes.add(v)\n",
        "            for child in v._prev:\n",
        "                edges.add((child, v))\n",
        "                build(child)\n",
        "\n",
        "    build(root)\n",
        "    return nodes, edges\n",
        "\n",
        "\n",
        "\n",
        "def draw_dot(root):\n",
        "    dot = Digraph(format='svg', graph_attr = {'rankdir':'LR'})\n",
        "\n",
        "    nodes, edges = trace(root)\n",
        "\n",
        "    for n in nodes:\n",
        "        uid = str(id(n))\n",
        "        dot.node(name = uid, label = \"{ %s | data %.4f }\"%(n.label, n.data), shape='record')\n",
        "\n",
        "        if n._op:\n",
        "            dot.node(name = uid + n._op, label = n._op)\n",
        "            dot.edge(uid + n._op, uid)\n",
        "\n",
        "\n",
        "    for n1, n2 in edges:\n",
        "        dot.edge(str(id(n1)), str(id(n2)) + n2._op)\n",
        "\n",
        "    return dot"
      ],
      "metadata": {
        "id": "uv_SYf2NcuK2"
      },
      "execution_count": 35,
      "outputs": []
    },
    {
      "cell_type": "code",
      "source": [
        "draw_dot(d)"
      ],
      "metadata": {
        "colab": {
          "base_uri": "https://localhost:8080/",
          "height": 191
        },
        "id": "ZUknLdEAdnI-",
        "outputId": "69097d77-73a6-478c-be1b-58c925595cba"
      },
      "execution_count": 36,
      "outputs": [
        {
          "output_type": "execute_result",
          "data": {
            "image/svg+xml": "<?xml version=\"1.0\" encoding=\"UTF-8\" standalone=\"no\"?>\n<!DOCTYPE svg PUBLIC \"-//W3C//DTD SVG 1.1//EN\"\n \"http://www.w3.org/Graphics/SVG/1.1/DTD/svg11.dtd\">\n<!-- Generated by graphviz version 2.43.0 (0)\n -->\n<!-- Title: %3 Pages: 1 -->\n<svg width=\"595pt\" height=\"127pt\"\n viewBox=\"0.00 0.00 595.00 127.00\" xmlns=\"http://www.w3.org/2000/svg\" xmlns:xlink=\"http://www.w3.org/1999/xlink\">\n<g id=\"graph0\" class=\"graph\" transform=\"scale(1 1) rotate(0) translate(4 123)\">\n<title>%3</title>\n<polygon fill=\"white\" stroke=\"transparent\" points=\"-4,4 -4,-123 591,-123 591,4 -4,4\"/>\n<!-- 132486724417616 -->\n<g id=\"node1\" class=\"node\">\n<title>132486724417616</title>\n<polygon fill=\"none\" stroke=\"black\" points=\"238.5,-82.5 238.5,-118.5 348.5,-118.5 348.5,-82.5 238.5,-82.5\"/>\n<text text-anchor=\"middle\" x=\"250\" y=\"-96.8\" font-family=\"Times,serif\" font-size=\"14.00\">c</text>\n<polyline fill=\"none\" stroke=\"black\" points=\"261.5,-82.5 261.5,-118.5 \"/>\n<text text-anchor=\"middle\" x=\"305\" y=\"-96.8\" font-family=\"Times,serif\" font-size=\"14.00\">data 80.0000</text>\n</g>\n<!-- 132486724415168+ -->\n<g id=\"node3\" class=\"node\">\n<title>132486724415168+</title>\n<ellipse fill=\"none\" stroke=\"black\" cx=\"414\" cy=\"-72.5\" rx=\"27\" ry=\"18\"/>\n<text text-anchor=\"middle\" x=\"414\" y=\"-68.8\" font-family=\"Times,serif\" font-size=\"14.00\">+</text>\n</g>\n<!-- 132486724417616&#45;&gt;132486724415168+ -->\n<g id=\"edge5\" class=\"edge\">\n<title>132486724417616&#45;&gt;132486724415168+</title>\n<path fill=\"none\" stroke=\"black\" d=\"M348.55,-87.73C358.77,-85.31 369.2,-82.85 378.61,-80.63\"/>\n<polygon fill=\"black\" stroke=\"black\" points=\"379.43,-84.03 388.35,-78.32 377.82,-77.22 379.43,-84.03\"/>\n</g>\n<!-- 132486724415168 -->\n<g id=\"node2\" class=\"node\">\n<title>132486724415168</title>\n<polygon fill=\"none\" stroke=\"black\" points=\"477,-54.5 477,-90.5 587,-90.5 587,-54.5 477,-54.5\"/>\n<text text-anchor=\"middle\" x=\"488.5\" y=\"-68.8\" font-family=\"Times,serif\" font-size=\"14.00\">d</text>\n<polyline fill=\"none\" stroke=\"black\" points=\"500,-54.5 500,-90.5 \"/>\n<text text-anchor=\"middle\" x=\"543.5\" y=\"-68.8\" font-family=\"Times,serif\" font-size=\"14.00\">data 32.0000</text>\n</g>\n<!-- 132486724415168+&#45;&gt;132486724415168 -->\n<g id=\"edge1\" class=\"edge\">\n<title>132486724415168+&#45;&gt;132486724415168</title>\n<path fill=\"none\" stroke=\"black\" d=\"M441.03,-72.5C448.7,-72.5 457.45,-72.5 466.42,-72.5\"/>\n<polygon fill=\"black\" stroke=\"black\" points=\"466.58,-76 476.58,-72.5 466.58,-69 466.58,-76\"/>\n</g>\n<!-- 132486724413824 -->\n<g id=\"node4\" class=\"node\">\n<title>132486724413824</title>\n<polygon fill=\"none\" stroke=\"black\" points=\"1,-55.5 1,-91.5 109,-91.5 109,-55.5 1,-55.5\"/>\n<text text-anchor=\"middle\" x=\"12.5\" y=\"-69.8\" font-family=\"Times,serif\" font-size=\"14.00\">b</text>\n<polyline fill=\"none\" stroke=\"black\" points=\"24,-55.5 24,-91.5 \"/>\n<text text-anchor=\"middle\" x=\"66.5\" y=\"-69.8\" font-family=\"Times,serif\" font-size=\"14.00\">data &#45;3.0000</text>\n</g>\n<!-- 132486724416944* -->\n<g id=\"node7\" class=\"node\">\n<title>132486724416944*</title>\n<ellipse fill=\"none\" stroke=\"black\" cx=\"173\" cy=\"-45.5\" rx=\"27\" ry=\"18\"/>\n<text text-anchor=\"middle\" x=\"173\" y=\"-41.8\" font-family=\"Times,serif\" font-size=\"14.00\">*</text>\n</g>\n<!-- 132486724413824&#45;&gt;132486724416944* -->\n<g id=\"edge4\" class=\"edge\">\n<title>132486724413824&#45;&gt;132486724416944*</title>\n<path fill=\"none\" stroke=\"black\" d=\"M109.25,-60.65C118.84,-58.33 128.6,-55.98 137.48,-53.83\"/>\n<polygon fill=\"black\" stroke=\"black\" points=\"138.54,-57.18 147.43,-51.43 136.89,-50.37 138.54,-57.18\"/>\n</g>\n<!-- 132486724417952 -->\n<g id=\"node5\" class=\"node\">\n<title>132486724417952</title>\n<polygon fill=\"none\" stroke=\"black\" points=\"0,-0.5 0,-36.5 110,-36.5 110,-0.5 0,-0.5\"/>\n<text text-anchor=\"middle\" x=\"11.5\" y=\"-14.8\" font-family=\"Times,serif\" font-size=\"14.00\">a</text>\n<polyline fill=\"none\" stroke=\"black\" points=\"23,-0.5 23,-36.5 \"/>\n<text text-anchor=\"middle\" x=\"66.5\" y=\"-14.8\" font-family=\"Times,serif\" font-size=\"14.00\">data 16.0000</text>\n</g>\n<!-- 132486724417952&#45;&gt;132486724416944* -->\n<g id=\"edge6\" class=\"edge\">\n<title>132486724417952&#45;&gt;132486724416944*</title>\n<path fill=\"none\" stroke=\"black\" d=\"M110.26,-31.13C119.49,-33.28 128.84,-35.45 137.37,-37.44\"/>\n<polygon fill=\"black\" stroke=\"black\" points=\"136.79,-40.9 147.32,-39.76 138.38,-34.08 136.79,-40.9\"/>\n</g>\n<!-- 132486724416944 -->\n<g id=\"node6\" class=\"node\">\n<title>132486724416944</title>\n<polygon fill=\"none\" stroke=\"black\" points=\"236,-27.5 236,-63.5 351,-63.5 351,-27.5 236,-27.5\"/>\n<text text-anchor=\"middle\" x=\"247.5\" y=\"-41.8\" font-family=\"Times,serif\" font-size=\"14.00\">e</text>\n<polyline fill=\"none\" stroke=\"black\" points=\"259,-27.5 259,-63.5 \"/>\n<text text-anchor=\"middle\" x=\"305\" y=\"-41.8\" font-family=\"Times,serif\" font-size=\"14.00\">data &#45;48.0000</text>\n</g>\n<!-- 132486724416944&#45;&gt;132486724415168+ -->\n<g id=\"edge3\" class=\"edge\">\n<title>132486724416944&#45;&gt;132486724415168+</title>\n<path fill=\"none\" stroke=\"black\" d=\"M351.32,-58.45C360.53,-60.54 369.81,-62.66 378.28,-64.59\"/>\n<polygon fill=\"black\" stroke=\"black\" points=\"377.63,-68.03 388.15,-66.84 379.18,-61.2 377.63,-68.03\"/>\n</g>\n<!-- 132486724416944*&#45;&gt;132486724416944 -->\n<g id=\"edge2\" class=\"edge\">\n<title>132486724416944*&#45;&gt;132486724416944</title>\n<path fill=\"none\" stroke=\"black\" d=\"M200.01,-45.5C207.81,-45.5 216.75,-45.5 225.93,-45.5\"/>\n<polygon fill=\"black\" stroke=\"black\" points=\"225.95,-49 235.95,-45.5 225.95,-42 225.95,-49\"/>\n</g>\n</g>\n</svg>\n",
            "text/plain": [
              "<graphviz.graphs.Digraph at 0x787ef8214ca0>"
            ]
          },
          "metadata": {},
          "execution_count": 36
        }
      ]
    },
    {
      "cell_type": "markdown",
      "source": [
        "Let's do some even complex operations."
      ],
      "metadata": {
        "id": "OZw4Q3dres0o"
      }
    },
    {
      "cell_type": "code",
      "source": [
        "a = Value(16.0, label = 'a')\n",
        "b = Value(-3.0, label = 'b')\n",
        "c = Value(80.0, label = 'c')\n",
        "e = a * b; e.label = 'e'\n",
        "d = e + c; d.label = 'd'\n",
        "f = Value(-20.0, label = 'f')\n",
        "L = d * f; L.label = 'L'\n",
        "L"
      ],
      "metadata": {
        "colab": {
          "base_uri": "https://localhost:8080/"
        },
        "id": "jE9X9e3_do4I",
        "outputId": "390cbc3b-b7f9-4e61-df73-2e1198d3d39a"
      },
      "execution_count": 37,
      "outputs": [
        {
          "output_type": "execute_result",
          "data": {
            "text/plain": [
              "Value(data=-640.0)"
            ]
          },
          "metadata": {},
          "execution_count": 37
        }
      ]
    },
    {
      "cell_type": "code",
      "source": [
        "draw_dot(L)"
      ],
      "metadata": {
        "colab": {
          "base_uri": "https://localhost:8080/",
          "height": 192
        },
        "id": "wALc-Stge8Rg",
        "outputId": "f8f5cdb1-cfb6-4ad2-ef31-b85c4a13e08a"
      },
      "execution_count": 38,
      "outputs": [
        {
          "output_type": "execute_result",
          "data": {
            "image/svg+xml": "<?xml version=\"1.0\" encoding=\"UTF-8\" standalone=\"no\"?>\n<!DOCTYPE svg PUBLIC \"-//W3C//DTD SVG 1.1//EN\"\n \"http://www.w3.org/Graphics/SVG/1.1/DTD/svg11.dtd\">\n<!-- Generated by graphviz version 2.43.0 (0)\n -->\n<!-- Title: %3 Pages: 1 -->\n<svg width=\"847pt\" height=\"128pt\"\n viewBox=\"0.00 0.00 847.00 128.00\" xmlns=\"http://www.w3.org/2000/svg\" xmlns:xlink=\"http://www.w3.org/1999/xlink\">\n<g id=\"graph0\" class=\"graph\" transform=\"scale(1 1) rotate(0) translate(4 124)\">\n<title>%3</title>\n<polygon fill=\"white\" stroke=\"transparent\" points=\"-4,4 -4,-124 843,-124 843,4 -4,4\"/>\n<!-- 132486724146784 -->\n<g id=\"node1\" class=\"node\">\n<title>132486724146784</title>\n<polygon fill=\"none\" stroke=\"black\" points=\"716,-54.5 716,-90.5 839,-90.5 839,-54.5 716,-54.5\"/>\n<text text-anchor=\"middle\" x=\"728.5\" y=\"-68.8\" font-family=\"Times,serif\" font-size=\"14.00\">L</text>\n<polyline fill=\"none\" stroke=\"black\" points=\"741,-54.5 741,-90.5 \"/>\n<text text-anchor=\"middle\" x=\"790\" y=\"-68.8\" font-family=\"Times,serif\" font-size=\"14.00\">data &#45;640.0000</text>\n</g>\n<!-- 132486724146784* -->\n<g id=\"node2\" class=\"node\">\n<title>132486724146784*</title>\n<ellipse fill=\"none\" stroke=\"black\" cx=\"653\" cy=\"-72.5\" rx=\"27\" ry=\"18\"/>\n<text text-anchor=\"middle\" x=\"653\" y=\"-68.8\" font-family=\"Times,serif\" font-size=\"14.00\">*</text>\n</g>\n<!-- 132486724146784*&#45;&gt;132486724146784 -->\n<g id=\"edge1\" class=\"edge\">\n<title>132486724146784*&#45;&gt;132486724146784</title>\n<path fill=\"none\" stroke=\"black\" d=\"M680.28,-72.5C687.89,-72.5 696.58,-72.5 705.56,-72.5\"/>\n<polygon fill=\"black\" stroke=\"black\" points=\"705.78,-76 715.78,-72.5 705.78,-69 705.78,-76\"/>\n</g>\n<!-- 132486724152448 -->\n<g id=\"node3\" class=\"node\">\n<title>132486724152448</title>\n<polygon fill=\"none\" stroke=\"black\" points=\"477,-82.5 477,-118.5 590,-118.5 590,-82.5 477,-82.5\"/>\n<text text-anchor=\"middle\" x=\"487.5\" y=\"-96.8\" font-family=\"Times,serif\" font-size=\"14.00\">f</text>\n<polyline fill=\"none\" stroke=\"black\" points=\"498,-82.5 498,-118.5 \"/>\n<text text-anchor=\"middle\" x=\"544\" y=\"-96.8\" font-family=\"Times,serif\" font-size=\"14.00\">data &#45;20.0000</text>\n</g>\n<!-- 132486724152448&#45;&gt;132486724146784* -->\n<g id=\"edge6\" class=\"edge\">\n<title>132486724152448&#45;&gt;132486724146784*</title>\n<path fill=\"none\" stroke=\"black\" d=\"M590.15,-87.24C599.43,-85.03 608.81,-82.79 617.37,-80.75\"/>\n<polygon fill=\"black\" stroke=\"black\" points=\"618.41,-84.1 627.33,-78.38 616.79,-77.29 618.41,-84.1\"/>\n</g>\n<!-- 132486724146832 -->\n<g id=\"node4\" class=\"node\">\n<title>132486724146832</title>\n<polygon fill=\"none\" stroke=\"black\" points=\"236,-55.5 236,-91.5 351,-91.5 351,-55.5 236,-55.5\"/>\n<text text-anchor=\"middle\" x=\"247.5\" y=\"-69.8\" font-family=\"Times,serif\" font-size=\"14.00\">e</text>\n<polyline fill=\"none\" stroke=\"black\" points=\"259,-55.5 259,-91.5 \"/>\n<text text-anchor=\"middle\" x=\"305\" y=\"-69.8\" font-family=\"Times,serif\" font-size=\"14.00\">data &#45;48.0000</text>\n</g>\n<!-- 132486724152544+ -->\n<g id=\"node9\" class=\"node\">\n<title>132486724152544+</title>\n<ellipse fill=\"none\" stroke=\"black\" cx=\"414\" cy=\"-45.5\" rx=\"27\" ry=\"18\"/>\n<text text-anchor=\"middle\" x=\"414\" y=\"-41.8\" font-family=\"Times,serif\" font-size=\"14.00\">+</text>\n</g>\n<!-- 132486724146832&#45;&gt;132486724152544+ -->\n<g id=\"edge8\" class=\"edge\">\n<title>132486724146832&#45;&gt;132486724152544+</title>\n<path fill=\"none\" stroke=\"black\" d=\"M351.32,-60.07C360.53,-57.9 369.81,-55.71 378.28,-53.7\"/>\n<polygon fill=\"black\" stroke=\"black\" points=\"379.23,-57.08 388.15,-51.37 377.62,-50.26 379.23,-57.08\"/>\n</g>\n<!-- 132486724146832* -->\n<g id=\"node5\" class=\"node\">\n<title>132486724146832*</title>\n<ellipse fill=\"none\" stroke=\"black\" cx=\"173\" cy=\"-73.5\" rx=\"27\" ry=\"18\"/>\n<text text-anchor=\"middle\" x=\"173\" y=\"-69.8\" font-family=\"Times,serif\" font-size=\"14.00\">*</text>\n</g>\n<!-- 132486724146832*&#45;&gt;132486724146832 -->\n<g id=\"edge2\" class=\"edge\">\n<title>132486724146832*&#45;&gt;132486724146832</title>\n<path fill=\"none\" stroke=\"black\" d=\"M200.01,-73.5C207.81,-73.5 216.75,-73.5 225.93,-73.5\"/>\n<polygon fill=\"black\" stroke=\"black\" points=\"225.95,-77 235.95,-73.5 225.95,-70 225.95,-77\"/>\n</g>\n<!-- 132486724151968 -->\n<g id=\"node6\" class=\"node\">\n<title>132486724151968</title>\n<polygon fill=\"none\" stroke=\"black\" points=\"0,-83.5 0,-119.5 110,-119.5 110,-83.5 0,-83.5\"/>\n<text text-anchor=\"middle\" x=\"11.5\" y=\"-97.8\" font-family=\"Times,serif\" font-size=\"14.00\">a</text>\n<polyline fill=\"none\" stroke=\"black\" points=\"23,-83.5 23,-119.5 \"/>\n<text text-anchor=\"middle\" x=\"66.5\" y=\"-97.8\" font-family=\"Times,serif\" font-size=\"14.00\">data 16.0000</text>\n</g>\n<!-- 132486724151968&#45;&gt;132486724146832* -->\n<g id=\"edge7\" class=\"edge\">\n<title>132486724151968&#45;&gt;132486724146832*</title>\n<path fill=\"none\" stroke=\"black\" d=\"M110.26,-88.4C119.49,-86.18 128.84,-83.92 137.37,-81.86\"/>\n<polygon fill=\"black\" stroke=\"black\" points=\"138.42,-85.21 147.32,-79.46 136.78,-78.4 138.42,-85.21\"/>\n</g>\n<!-- 132486724150432 -->\n<g id=\"node7\" class=\"node\">\n<title>132486724150432</title>\n<polygon fill=\"none\" stroke=\"black\" points=\"1,-28.5 1,-64.5 109,-64.5 109,-28.5 1,-28.5\"/>\n<text text-anchor=\"middle\" x=\"12.5\" y=\"-42.8\" font-family=\"Times,serif\" font-size=\"14.00\">b</text>\n<polyline fill=\"none\" stroke=\"black\" points=\"24,-28.5 24,-64.5 \"/>\n<text text-anchor=\"middle\" x=\"66.5\" y=\"-42.8\" font-family=\"Times,serif\" font-size=\"14.00\">data &#45;3.0000</text>\n</g>\n<!-- 132486724150432&#45;&gt;132486724146832* -->\n<g id=\"edge4\" class=\"edge\">\n<title>132486724150432&#45;&gt;132486724146832*</title>\n<path fill=\"none\" stroke=\"black\" d=\"M109.25,-58.89C118.75,-61.11 128.43,-63.36 137.24,-65.41\"/>\n<polygon fill=\"black\" stroke=\"black\" points=\"136.6,-68.85 147.14,-67.71 138.19,-62.04 136.6,-68.85\"/>\n</g>\n<!-- 132486724152544 -->\n<g id=\"node8\" class=\"node\">\n<title>132486724152544</title>\n<polygon fill=\"none\" stroke=\"black\" points=\"478.5,-27.5 478.5,-63.5 588.5,-63.5 588.5,-27.5 478.5,-27.5\"/>\n<text text-anchor=\"middle\" x=\"490\" y=\"-41.8\" font-family=\"Times,serif\" font-size=\"14.00\">d</text>\n<polyline fill=\"none\" stroke=\"black\" points=\"501.5,-27.5 501.5,-63.5 \"/>\n<text text-anchor=\"middle\" x=\"545\" y=\"-41.8\" font-family=\"Times,serif\" font-size=\"14.00\">data 32.0000</text>\n</g>\n<!-- 132486724152544&#45;&gt;132486724146784* -->\n<g id=\"edge5\" class=\"edge\">\n<title>132486724152544&#45;&gt;132486724146784*</title>\n<path fill=\"none\" stroke=\"black\" d=\"M588.78,-57.97C598.46,-60.2 608.3,-62.46 617.25,-64.52\"/>\n<polygon fill=\"black\" stroke=\"black\" points=\"616.75,-67.99 627.28,-66.82 618.32,-61.17 616.75,-67.99\"/>\n</g>\n<!-- 132486724152544+&#45;&gt;132486724152544 -->\n<g id=\"edge3\" class=\"edge\">\n<title>132486724152544+&#45;&gt;132486724152544</title>\n<path fill=\"none\" stroke=\"black\" d=\"M441.08,-45.5C449.12,-45.5 458.36,-45.5 467.81,-45.5\"/>\n<polygon fill=\"black\" stroke=\"black\" points=\"468.1,-49 478.1,-45.5 468.1,-42 468.1,-49\"/>\n</g>\n<!-- 132486724146928 -->\n<g id=\"node10\" class=\"node\">\n<title>132486724146928</title>\n<polygon fill=\"none\" stroke=\"black\" points=\"238.5,-0.5 238.5,-36.5 348.5,-36.5 348.5,-0.5 238.5,-0.5\"/>\n<text text-anchor=\"middle\" x=\"250\" y=\"-14.8\" font-family=\"Times,serif\" font-size=\"14.00\">c</text>\n<polyline fill=\"none\" stroke=\"black\" points=\"261.5,-0.5 261.5,-36.5 \"/>\n<text text-anchor=\"middle\" x=\"305\" y=\"-14.8\" font-family=\"Times,serif\" font-size=\"14.00\">data 80.0000</text>\n</g>\n<!-- 132486724146928&#45;&gt;132486724152544+ -->\n<g id=\"edge9\" class=\"edge\">\n<title>132486724146928&#45;&gt;132486724152544+</title>\n<path fill=\"none\" stroke=\"black\" d=\"M348.55,-30.81C358.57,-33.1 368.79,-35.43 378.06,-37.54\"/>\n<polygon fill=\"black\" stroke=\"black\" points=\"377.52,-41.01 388.05,-39.81 379.08,-34.18 377.52,-41.01\"/>\n</g>\n</g>\n</svg>\n",
            "text/plain": [
              "<graphviz.graphs.Digraph at 0x787ef82156c0>"
            ]
          },
          "metadata": {},
          "execution_count": 38
        }
      ]
    },
    {
      "cell_type": "markdown",
      "source": [
        "### Backward Pass\n",
        "\n",
        "Let's learn about back propagation and sort of calculate gradients and store them.<br><br>\n",
        "\n",
        "Fpr that purpose, we introduce a new variable known as `grad` which is instantiated at 0. Let's update the Value class and visualization function."
      ],
      "metadata": {
        "id": "CxSauPcgtWZ7"
      }
    },
    {
      "cell_type": "code",
      "source": [
        "class Value:\n",
        "\n",
        "    def __init__(self, data, _children = (), _op = '', label = ''):\n",
        "        self.data = data\n",
        "        self.grad = 0\n",
        "        self._prev = set(_children)\n",
        "        self._op = _op\n",
        "        self.label = label\n",
        "\n",
        "    def __repr__(self):\n",
        "        return f\"Value(data={self.data})\"\n",
        "\n",
        "    def __add__(self, other):\n",
        "        out = Value(self.data + other.data, (self, other), '+')\n",
        "        return out\n",
        "\n",
        "    def __mul__(self, other):\n",
        "        out = Value(self.data * other.data, (self, other), '*')\n",
        "        return out"
      ],
      "metadata": {
        "id": "mipXRd7HtZyP"
      },
      "execution_count": 39,
      "outputs": []
    },
    {
      "cell_type": "code",
      "source": [
        "from graphviz import Digraph\n",
        "\n",
        "def trace(root):\n",
        "\n",
        "    # Set of all nodes and edges in graph\n",
        "    nodes, edges = set(), set()\n",
        "\n",
        "    def build(v):\n",
        "        if v not in nodes:\n",
        "            nodes.add(v)\n",
        "            for child in v._prev:\n",
        "                edges.add((child, v))\n",
        "                build(child)\n",
        "\n",
        "    build(root)\n",
        "    return nodes, edges\n",
        "\n",
        "\n",
        "\n",
        "def draw_dot(root):\n",
        "    dot = Digraph(format='svg', graph_attr = {'rankdir':'LR'})\n",
        "\n",
        "    nodes, edges = trace(root)\n",
        "\n",
        "    for n in nodes:\n",
        "        uid = str(id(n))\n",
        "        dot.node(name = uid, label = \"{ %s | data %.4f | grad %.4f }\"%(n.label, n.data, n.grad), shape='record')\n",
        "\n",
        "        if n._op:\n",
        "            dot.node(name = uid + n._op, label = n._op)\n",
        "            dot.edge(uid + n._op, uid)\n",
        "\n",
        "\n",
        "    for n1, n2 in edges:\n",
        "        dot.edge(str(id(n1)), str(id(n2)) + n2._op)\n",
        "\n",
        "    return dot"
      ],
      "metadata": {
        "id": "og5TCZWmuNtT"
      },
      "execution_count": 40,
      "outputs": []
    },
    {
      "cell_type": "markdown",
      "source": [
        "Perform some operations to visualize both data and gradients."
      ],
      "metadata": {
        "id": "Gus32NCvubYi"
      }
    },
    {
      "cell_type": "code",
      "source": [
        "a = Value(16.0, label = 'a')\n",
        "b = Value(-3.0, label = 'b')\n",
        "c = Value(80.0, label = 'c')\n",
        "e = a * b; e.label = 'e'\n",
        "d = e + c; d.label = 'd'\n",
        "f = Value(-20.0, label = 'f')\n",
        "L = d * f; L.label = 'L'\n",
        "L"
      ],
      "metadata": {
        "colab": {
          "base_uri": "https://localhost:8080/"
        },
        "id": "NpRIbHkfuXzz",
        "outputId": "5b7e8855-e7eb-45b0-9ece-df29cf741924"
      },
      "execution_count": 41,
      "outputs": [
        {
          "output_type": "execute_result",
          "data": {
            "text/plain": [
              "Value(data=-640.0)"
            ]
          },
          "metadata": {},
          "execution_count": 41
        }
      ]
    },
    {
      "cell_type": "code",
      "source": [
        "draw_dot(L)"
      ],
      "metadata": {
        "colab": {
          "base_uri": "https://localhost:8080/",
          "height": 227
        },
        "id": "FiJcDHw8ugc5",
        "outputId": "22e80829-e163-427e-a9f7-06beddb97ab2"
      },
      "execution_count": 42,
      "outputs": [
        {
          "output_type": "execute_result",
          "data": {
            "image/svg+xml": "<?xml version=\"1.0\" encoding=\"UTF-8\" standalone=\"no\"?>\n<!DOCTYPE svg PUBLIC \"-//W3C//DTD SVG 1.1//EN\"\n \"http://www.w3.org/Graphics/SVG/1.1/DTD/svg11.dtd\">\n<!-- Generated by graphviz version 2.43.0 (0)\n -->\n<!-- Title: %3 Pages: 1 -->\n<svg width=\"1175pt\" height=\"154pt\"\n viewBox=\"0.00 0.00 1175.00 154.00\" xmlns=\"http://www.w3.org/2000/svg\" xmlns:xlink=\"http://www.w3.org/1999/xlink\">\n<g id=\"graph0\" class=\"graph\" transform=\"scale(1 1) rotate(0) translate(4 150)\">\n<title>%3</title>\n<polygon fill=\"white\" stroke=\"transparent\" points=\"-4,4 -4,-150 1171,-150 1171,4 -4,4\"/>\n<!-- 132486724414640 -->\n<g id=\"node1\" class=\"node\">\n<title>132486724414640</title>\n<polygon fill=\"none\" stroke=\"black\" points=\"318,-27.5 318,-63.5 515,-63.5 515,-27.5 318,-27.5\"/>\n<text text-anchor=\"middle\" x=\"329.5\" y=\"-41.8\" font-family=\"Times,serif\" font-size=\"14.00\">e</text>\n<polyline fill=\"none\" stroke=\"black\" points=\"341,-27.5 341,-63.5 \"/>\n<text text-anchor=\"middle\" x=\"387\" y=\"-41.8\" font-family=\"Times,serif\" font-size=\"14.00\">data &#45;48.0000</text>\n<polyline fill=\"none\" stroke=\"black\" points=\"433,-27.5 433,-63.5 \"/>\n<text text-anchor=\"middle\" x=\"474\" y=\"-41.8\" font-family=\"Times,serif\" font-size=\"14.00\">grad 0.0000</text>\n</g>\n<!-- 132486724415456+ -->\n<g id=\"node10\" class=\"node\">\n<title>132486724415456+</title>\n<ellipse fill=\"none\" stroke=\"black\" cx=\"578\" cy=\"-72.5\" rx=\"27\" ry=\"18\"/>\n<text text-anchor=\"middle\" x=\"578\" y=\"-68.8\" font-family=\"Times,serif\" font-size=\"14.00\">+</text>\n</g>\n<!-- 132486724414640&#45;&gt;132486724415456+ -->\n<g id=\"edge8\" class=\"edge\">\n<title>132486724414640&#45;&gt;132486724415456+</title>\n<path fill=\"none\" stroke=\"black\" d=\"M515.33,-62.06C524.57,-63.62 533.46,-65.13 541.49,-66.49\"/>\n<polygon fill=\"black\" stroke=\"black\" points=\"541.04,-69.96 551.48,-68.18 542.21,-63.06 541.04,-69.96\"/>\n</g>\n<!-- 132486724414640* -->\n<g id=\"node2\" class=\"node\">\n<title>132486724414640*</title>\n<ellipse fill=\"none\" stroke=\"black\" cx=\"255\" cy=\"-45.5\" rx=\"27\" ry=\"18\"/>\n<text text-anchor=\"middle\" x=\"255\" y=\"-41.8\" font-family=\"Times,serif\" font-size=\"14.00\">*</text>\n</g>\n<!-- 132486724414640*&#45;&gt;132486724414640 -->\n<g id=\"edge1\" class=\"edge\">\n<title>132486724414640*&#45;&gt;132486724414640</title>\n<path fill=\"none\" stroke=\"black\" d=\"M282.34,-45.5C289.81,-45.5 298.44,-45.5 307.64,-45.5\"/>\n<polygon fill=\"black\" stroke=\"black\" points=\"307.83,-49 317.83,-45.5 307.83,-42 307.83,-49\"/>\n</g>\n<!-- 132486724151776 -->\n<g id=\"node3\" class=\"node\">\n<title>132486724151776</title>\n<polygon fill=\"none\" stroke=\"black\" points=\"0,-55.5 0,-91.5 192,-91.5 192,-55.5 0,-55.5\"/>\n<text text-anchor=\"middle\" x=\"11.5\" y=\"-69.8\" font-family=\"Times,serif\" font-size=\"14.00\">a</text>\n<polyline fill=\"none\" stroke=\"black\" points=\"23,-55.5 23,-91.5 \"/>\n<text text-anchor=\"middle\" x=\"66.5\" y=\"-69.8\" font-family=\"Times,serif\" font-size=\"14.00\">data 16.0000</text>\n<polyline fill=\"none\" stroke=\"black\" points=\"110,-55.5 110,-91.5 \"/>\n<text text-anchor=\"middle\" x=\"151\" y=\"-69.8\" font-family=\"Times,serif\" font-size=\"14.00\">grad 0.0000</text>\n</g>\n<!-- 132486724151776&#45;&gt;132486724414640* -->\n<g id=\"edge7\" class=\"edge\">\n<title>132486724151776&#45;&gt;132486724414640*</title>\n<path fill=\"none\" stroke=\"black\" d=\"M192.4,-56.49C201.69,-54.83 210.64,-53.23 218.71,-51.79\"/>\n<polygon fill=\"black\" stroke=\"black\" points=\"219.53,-55.2 228.76,-50 218.31,-48.31 219.53,-55.2\"/>\n</g>\n<!-- 132486724152016 -->\n<g id=\"node4\" class=\"node\">\n<title>132486724152016</title>\n<polygon fill=\"none\" stroke=\"black\" points=\"320.5,-82.5 320.5,-118.5 512.5,-118.5 512.5,-82.5 320.5,-82.5\"/>\n<text text-anchor=\"middle\" x=\"332\" y=\"-96.8\" font-family=\"Times,serif\" font-size=\"14.00\">c</text>\n<polyline fill=\"none\" stroke=\"black\" points=\"343.5,-82.5 343.5,-118.5 \"/>\n<text text-anchor=\"middle\" x=\"387\" y=\"-96.8\" font-family=\"Times,serif\" font-size=\"14.00\">data 80.0000</text>\n<polyline fill=\"none\" stroke=\"black\" points=\"430.5,-82.5 430.5,-118.5 \"/>\n<text text-anchor=\"middle\" x=\"471.5\" y=\"-96.8\" font-family=\"Times,serif\" font-size=\"14.00\">grad 0.0000</text>\n</g>\n<!-- 132486724152016&#45;&gt;132486724415456+ -->\n<g id=\"edge4\" class=\"edge\">\n<title>132486724152016&#45;&gt;132486724415456+</title>\n<path fill=\"none\" stroke=\"black\" d=\"M512.58,-83.81C522.94,-81.99 532.94,-80.23 541.85,-78.67\"/>\n<polygon fill=\"black\" stroke=\"black\" points=\"542.51,-82.11 551.75,-76.93 541.3,-75.21 542.51,-82.11\"/>\n</g>\n<!-- 132486724412672 -->\n<g id=\"node5\" class=\"node\">\n<title>132486724412672</title>\n<polygon fill=\"none\" stroke=\"black\" points=\"962,-81.5 962,-117.5 1167,-117.5 1167,-81.5 962,-81.5\"/>\n<text text-anchor=\"middle\" x=\"974.5\" y=\"-95.8\" font-family=\"Times,serif\" font-size=\"14.00\">L</text>\n<polyline fill=\"none\" stroke=\"black\" points=\"987,-81.5 987,-117.5 \"/>\n<text text-anchor=\"middle\" x=\"1036\" y=\"-95.8\" font-family=\"Times,serif\" font-size=\"14.00\">data &#45;640.0000</text>\n<polyline fill=\"none\" stroke=\"black\" points=\"1085,-81.5 1085,-117.5 \"/>\n<text text-anchor=\"middle\" x=\"1126\" y=\"-95.8\" font-family=\"Times,serif\" font-size=\"14.00\">grad 0.0000</text>\n</g>\n<!-- 132486724412672* -->\n<g id=\"node6\" class=\"node\">\n<title>132486724412672*</title>\n<ellipse fill=\"none\" stroke=\"black\" cx=\"899\" cy=\"-99.5\" rx=\"27\" ry=\"18\"/>\n<text text-anchor=\"middle\" x=\"899\" y=\"-95.8\" font-family=\"Times,serif\" font-size=\"14.00\">*</text>\n</g>\n<!-- 132486724412672*&#45;&gt;132486724412672 -->\n<g id=\"edge2\" class=\"edge\">\n<title>132486724412672*&#45;&gt;132486724412672</title>\n<path fill=\"none\" stroke=\"black\" d=\"M926.27,-99.5C933.76,-99.5 942.43,-99.5 951.69,-99.5\"/>\n<polygon fill=\"black\" stroke=\"black\" points=\"951.96,-103 961.96,-99.5 951.96,-96 951.96,-103\"/>\n</g>\n<!-- 132486724153600 -->\n<g id=\"node7\" class=\"node\">\n<title>132486724153600</title>\n<polygon fill=\"none\" stroke=\"black\" points=\"1,-0.5 1,-36.5 191,-36.5 191,-0.5 1,-0.5\"/>\n<text text-anchor=\"middle\" x=\"12.5\" y=\"-14.8\" font-family=\"Times,serif\" font-size=\"14.00\">b</text>\n<polyline fill=\"none\" stroke=\"black\" points=\"24,-0.5 24,-36.5 \"/>\n<text text-anchor=\"middle\" x=\"66.5\" y=\"-14.8\" font-family=\"Times,serif\" font-size=\"14.00\">data &#45;3.0000</text>\n<polyline fill=\"none\" stroke=\"black\" points=\"109,-0.5 109,-36.5 \"/>\n<text text-anchor=\"middle\" x=\"150\" y=\"-14.8\" font-family=\"Times,serif\" font-size=\"14.00\">grad 0.0000</text>\n</g>\n<!-- 132486724153600&#45;&gt;132486724414640* -->\n<g id=\"edge9\" class=\"edge\">\n<title>132486724153600&#45;&gt;132486724414640*</title>\n<path fill=\"none\" stroke=\"black\" d=\"M191.05,-34.67C200.78,-36.35 210.18,-37.96 218.62,-39.42\"/>\n<polygon fill=\"black\" stroke=\"black\" points=\"218.3,-42.91 228.75,-41.16 219.49,-36.01 218.3,-42.91\"/>\n</g>\n<!-- 132486724414352 -->\n<g id=\"node8\" class=\"node\">\n<title>132486724414352</title>\n<polygon fill=\"none\" stroke=\"black\" points=\"641,-109.5 641,-145.5 836,-145.5 836,-109.5 641,-109.5\"/>\n<text text-anchor=\"middle\" x=\"651.5\" y=\"-123.8\" font-family=\"Times,serif\" font-size=\"14.00\">f</text>\n<polyline fill=\"none\" stroke=\"black\" points=\"662,-109.5 662,-145.5 \"/>\n<text text-anchor=\"middle\" x=\"708\" y=\"-123.8\" font-family=\"Times,serif\" font-size=\"14.00\">data &#45;20.0000</text>\n<polyline fill=\"none\" stroke=\"black\" points=\"754,-109.5 754,-145.5 \"/>\n<text text-anchor=\"middle\" x=\"795\" y=\"-123.8\" font-family=\"Times,serif\" font-size=\"14.00\">grad 0.0000</text>\n</g>\n<!-- 132486724414352&#45;&gt;132486724412672* -->\n<g id=\"edge5\" class=\"edge\">\n<title>132486724414352&#45;&gt;132486724412672*</title>\n<path fill=\"none\" stroke=\"black\" d=\"M836.27,-110.41C845.59,-108.76 854.57,-107.17 862.66,-105.74\"/>\n<polygon fill=\"black\" stroke=\"black\" points=\"863.49,-109.15 872.73,-103.96 862.28,-102.26 863.49,-109.15\"/>\n</g>\n<!-- 132486724415456 -->\n<g id=\"node9\" class=\"node\">\n<title>132486724415456</title>\n<polygon fill=\"none\" stroke=\"black\" points=\"642.5,-54.5 642.5,-90.5 834.5,-90.5 834.5,-54.5 642.5,-54.5\"/>\n<text text-anchor=\"middle\" x=\"654\" y=\"-68.8\" font-family=\"Times,serif\" font-size=\"14.00\">d</text>\n<polyline fill=\"none\" stroke=\"black\" points=\"665.5,-54.5 665.5,-90.5 \"/>\n<text text-anchor=\"middle\" x=\"709\" y=\"-68.8\" font-family=\"Times,serif\" font-size=\"14.00\">data 32.0000</text>\n<polyline fill=\"none\" stroke=\"black\" points=\"752.5,-54.5 752.5,-90.5 \"/>\n<text text-anchor=\"middle\" x=\"793.5\" y=\"-68.8\" font-family=\"Times,serif\" font-size=\"14.00\">grad 0.0000</text>\n</g>\n<!-- 132486724415456&#45;&gt;132486724412672* -->\n<g id=\"edge6\" class=\"edge\">\n<title>132486724415456&#45;&gt;132486724412672*</title>\n<path fill=\"none\" stroke=\"black\" d=\"M834.9,-88.75C844.78,-90.43 854.31,-92.06 862.85,-93.51\"/>\n<polygon fill=\"black\" stroke=\"black\" points=\"862.27,-96.96 872.71,-95.19 863.44,-90.06 862.27,-96.96\"/>\n</g>\n<!-- 132486724415456+&#45;&gt;132486724415456 -->\n<g id=\"edge3\" class=\"edge\">\n<title>132486724415456+&#45;&gt;132486724415456</title>\n<path fill=\"none\" stroke=\"black\" d=\"M605.17,-72.5C613.15,-72.5 622.46,-72.5 632.38,-72.5\"/>\n<polygon fill=\"black\" stroke=\"black\" points=\"632.47,-76 642.47,-72.5 632.47,-69 632.47,-76\"/>\n</g>\n</g>\n</svg>\n",
            "text/plain": [
              "<graphviz.graphs.Digraph at 0x787ef8217ee0>"
            ]
          },
          "metadata": {},
          "execution_count": 42
        }
      ]
    },
    {
      "cell_type": "markdown",
      "source": [
        "Here, we have all the gradients equal to zero. <br>\n",
        "This is because we havenot done any backpropagation. So, let's do it."
      ],
      "metadata": {
        "id": "Q6KB5Veluqg7"
      }
    },
    {
      "cell_type": "code",
      "source": [
        "h = 0.00001\n",
        "\n",
        "a = Value(16.0, label = 'a')\n",
        "b = Value(-3.0, label = 'b')\n",
        "c = Value(80.0, label = 'c')\n",
        "e = a * b; e.label = 'e'\n",
        "d = e + c; d.label = 'd'\n",
        "f = Value(-20.0, label = 'f')\n",
        "L = d * f; L.label = 'L'\n",
        "L1 = L.data\n",
        "\n",
        "\n",
        "a = Value(16.0+h, label = 'a')\n",
        "b = Value(-3.0, label = 'b')\n",
        "c = Value(80.0, label = 'c')\n",
        "e = a * b; e.label = 'e'\n",
        "d = e + c; d.label = 'd'\n",
        "f = Value(-20.0, label = 'f')\n",
        "L = d * f; L.label = 'L'\n",
        "L2 = L.data"
      ],
      "metadata": {
        "id": "-21oeAptuiei"
      },
      "execution_count": 43,
      "outputs": []
    },
    {
      "cell_type": "markdown",
      "source": [
        "We are taking `L.data` because it's Value Object and we are taking the data from it."
      ],
      "metadata": {
        "id": "cbDvNUt8EMjR"
      }
    },
    {
      "cell_type": "code",
      "source": [
        "print((L2-L1)/h)"
      ],
      "metadata": {
        "colab": {
          "base_uri": "https://localhost:8080/"
        },
        "id": "sh37Cgl9D1Nz",
        "outputId": "dd2feacc-36de-47f6-ffb4-abb6c296a1d5"
      },
      "execution_count": 44,
      "outputs": [
        {
          "output_type": "stream",
          "name": "stdout",
          "text": [
            "59.99999998493876\n"
          ]
        }
      ]
    },
    {
      "cell_type": "markdown",
      "source": [
        "Let's try something similar."
      ],
      "metadata": {
        "id": "q5lcFO59Ei5b"
      }
    },
    {
      "cell_type": "code",
      "source": [
        "h = 0.00001\n",
        "\n",
        "a = Value(16.0, label = 'a')\n",
        "b = Value(-3.0, label = 'b')\n",
        "c = Value(80.0, label = 'c')\n",
        "e = a * b; e.label = 'e'\n",
        "d = e + c; d.label = 'd'\n",
        "f = Value(-20.0, label = 'f')\n",
        "L = d * f; L.label = 'L'\n",
        "L1 = L.data\n",
        "\n",
        "\n",
        "a = Value(16.0, label = 'a')\n",
        "b = Value(-3.0, label = 'b')\n",
        "c = Value(80.0, label = 'c')\n",
        "e = a * b; e.label = 'e'\n",
        "d = e + c; d.label = 'd'\n",
        "f = Value(-20.0, label = 'f')\n",
        "L = d * f; L.label = 'L'\n",
        "L2 = L.data + h"
      ],
      "metadata": {
        "id": "RDWoyTZkEAx_"
      },
      "execution_count": 45,
      "outputs": []
    },
    {
      "cell_type": "code",
      "source": [
        "print((L2-L1)/h)"
      ],
      "metadata": {
        "id": "UMAL2E0gEpEv",
        "outputId": "b7f9fa92-8808-4245-df69-d5bc446c8083",
        "colab": {
          "base_uri": "https://localhost:8080/"
        }
      },
      "execution_count": 46,
      "outputs": [
        {
          "output_type": "stream",
          "name": "stdout",
          "text": [
            "0.9999999974752426\n"
          ]
        }
      ]
    },
    {
      "cell_type": "code",
      "source": [
        "plt.plot(np.arange(-5,5,0.2), np.tanh(np.arange(-5,5,0.2))); plt.grid();"
      ],
      "metadata": {
        "colab": {
          "base_uri": "https://localhost:8080/",
          "height": 430
        },
        "id": "ZtbPaT_ioNIj",
        "outputId": "9a375d13-9dba-46f3-90d4-f931a7fae27a"
      },
      "execution_count": 47,
      "outputs": [
        {
          "output_type": "display_data",
          "data": {
            "text/plain": [
              "<Figure size 640x480 with 1 Axes>"
            ],
            "image/png": "[encoded data removed]"
          },
          "metadata": {}
        }
      ]
    },
    {
      "cell_type": "markdown",
      "source": [
        "A Simple neural network."
      ],
      "metadata": {
        "id": "0VW4I5fTrLFn"
      }
    },
    {
      "cell_type": "code",
      "source": [
        "# inputs x1,x2\n",
        "x1 = Value(2.0, label='x1')\n",
        "x2 = Value(0.0, label='x2')\n",
        "# weights w1,w2\n",
        "w1 = Value(-3.0, label='w1')\n",
        "w2 = Value(1.0, label='w2')\n",
        "# bias of the neuron\n",
        "b = Value(6.8813735870195432, label='b')\n",
        "# x1*w1 + x2*w2 + b\n",
        "x1w1 = x1*w1; x1w1.label = 'x1*w1'\n",
        "x2w2 = x2*w2; x2w2.label = 'x2*w2'\n",
        "x1w1x2w2 = x1w1 + x2w2; x1w1x2w2.label = 'x1*w1 + x2*w2'\n",
        "n = x1w1x2w2 + b; n.label = 'n'"
      ],
      "metadata": {
        "id": "hrJX6yeKrEk0"
      },
      "execution_count": 48,
      "outputs": []
    },
    {
      "cell_type": "code",
      "source": [
        "draw_dot(n)"
      ],
      "metadata": {
        "colab": {
          "base_uri": "https://localhost:8080/",
          "height": 301
        },
        "id": "j3a_GTNQrHUN",
        "outputId": "fd06acb5-e1d2-4089-cd24-7154f714ca24"
      },
      "execution_count": 49,
      "outputs": [
        {
          "output_type": "execute_result",
          "data": {
            "image/svg+xml": "<?xml version=\"1.0\" encoding=\"UTF-8\" standalone=\"no\"?>\n<!DOCTYPE svg PUBLIC \"-//W3C//DTD SVG 1.1//EN\"\n \"http://www.w3.org/Graphics/SVG/1.1/DTD/svg11.dtd\">\n<!-- Generated by graphviz version 2.43.0 (0)\n -->\n<!-- Title: %3 Pages: 1 -->\n<svg width=\"1264pt\" height=\"210pt\"\n viewBox=\"0.00 0.00 1264.00 210.00\" xmlns=\"http://www.w3.org/2000/svg\" xmlns:xlink=\"http://www.w3.org/1999/xlink\">\n<g id=\"graph0\" class=\"graph\" transform=\"scale(1 1) rotate(0) translate(4 206)\">\n<title>%3</title>\n<polygon fill=\"white\" stroke=\"transparent\" points=\"-4,4 -4,-206 1260,-206 1260,4 -4,4\"/>\n<!-- 132486723050544 -->\n<g id=\"node1\" class=\"node\">\n<title>132486723050544</title>\n<polygon fill=\"none\" stroke=\"black\" points=\"1071,-109.5 1071,-145.5 1256,-145.5 1256,-109.5 1071,-109.5\"/>\n<text text-anchor=\"middle\" x=\"1082.5\" y=\"-123.8\" font-family=\"Times,serif\" font-size=\"14.00\">n</text>\n<polyline fill=\"none\" stroke=\"black\" points=\"1094,-109.5 1094,-145.5 \"/>\n<text text-anchor=\"middle\" x=\"1134\" y=\"-123.8\" font-family=\"Times,serif\" font-size=\"14.00\">data 0.8814</text>\n<polyline fill=\"none\" stroke=\"black\" points=\"1174,-109.5 1174,-145.5 \"/>\n<text text-anchor=\"middle\" x=\"1215\" y=\"-123.8\" font-family=\"Times,serif\" font-size=\"14.00\">grad 0.0000</text>\n</g>\n<!-- 132486723050544+ -->\n<g id=\"node2\" class=\"node\">\n<title>132486723050544+</title>\n<ellipse fill=\"none\" stroke=\"black\" cx=\"1008\" cy=\"-127.5\" rx=\"27\" ry=\"18\"/>\n<text text-anchor=\"middle\" x=\"1008\" y=\"-123.8\" font-family=\"Times,serif\" font-size=\"14.00\">+</text>\n</g>\n<!-- 132486723050544+&#45;&gt;132486723050544 -->\n<g id=\"edge1\" class=\"edge\">\n<title>132486723050544+&#45;&gt;132486723050544</title>\n<path fill=\"none\" stroke=\"black\" d=\"M1035.04,-127.5C1042.58,-127.5 1051.3,-127.5 1060.57,-127.5\"/>\n<polygon fill=\"black\" stroke=\"black\" points=\"1060.81,-131 1070.81,-127.5 1060.81,-124 1060.81,-131\"/>\n</g>\n<!-- 132486725070960 -->\n<g id=\"node3\" class=\"node\">\n<title>132486725070960</title>\n<polygon fill=\"none\" stroke=\"black\" points=\"0,-165.5 0,-201.5 200,-201.5 200,-165.5 0,-165.5\"/>\n<text text-anchor=\"middle\" x=\"16.5\" y=\"-179.8\" font-family=\"Times,serif\" font-size=\"14.00\">w1</text>\n<polyline fill=\"none\" stroke=\"black\" points=\"33,-165.5 33,-201.5 \"/>\n<text text-anchor=\"middle\" x=\"75.5\" y=\"-179.8\" font-family=\"Times,serif\" font-size=\"14.00\">data &#45;3.0000</text>\n<polyline fill=\"none\" stroke=\"black\" points=\"118,-165.5 118,-201.5 \"/>\n<text text-anchor=\"middle\" x=\"159\" y=\"-179.8\" font-family=\"Times,serif\" font-size=\"14.00\">grad 0.0000</text>\n</g>\n<!-- 132486723053712* -->\n<g id=\"node5\" class=\"node\">\n<title>132486723053712*</title>\n<ellipse fill=\"none\" stroke=\"black\" cx=\"263\" cy=\"-128.5\" rx=\"27\" ry=\"18\"/>\n<text text-anchor=\"middle\" x=\"263\" y=\"-124.8\" font-family=\"Times,serif\" font-size=\"14.00\">*</text>\n</g>\n<!-- 132486725070960&#45;&gt;132486723053712* -->\n<g id=\"edge10\" class=\"edge\">\n<title>132486725070960&#45;&gt;132486723053712*</title>\n<path fill=\"none\" stroke=\"black\" d=\"M172.53,-165.44C181.84,-162.67 191.2,-159.67 200,-156.5 210.53,-152.71 221.75,-147.9 231.72,-143.33\"/>\n<polygon fill=\"black\" stroke=\"black\" points=\"233.25,-146.48 240.82,-139.07 230.28,-140.14 233.25,-146.48\"/>\n</g>\n<!-- 132486723053712 -->\n<g id=\"node4\" class=\"node\">\n<title>132486723053712</title>\n<polygon fill=\"none\" stroke=\"black\" points=\"326,-110.5 326,-146.5 546,-146.5 546,-110.5 326,-110.5\"/>\n<text text-anchor=\"middle\" x=\"352.5\" y=\"-124.8\" font-family=\"Times,serif\" font-size=\"14.00\">x1*w1</text>\n<polyline fill=\"none\" stroke=\"black\" points=\"379,-110.5 379,-146.5 \"/>\n<text text-anchor=\"middle\" x=\"421.5\" y=\"-124.8\" font-family=\"Times,serif\" font-size=\"14.00\">data &#45;6.0000</text>\n<polyline fill=\"none\" stroke=\"black\" points=\"464,-110.5 464,-146.5 \"/>\n<text text-anchor=\"middle\" x=\"505\" y=\"-124.8\" font-family=\"Times,serif\" font-size=\"14.00\">grad 0.0000</text>\n</g>\n<!-- 132486723050448+ -->\n<g id=\"node12\" class=\"node\">\n<title>132486723050448+</title>\n<ellipse fill=\"none\" stroke=\"black\" cx=\"609\" cy=\"-100.5\" rx=\"27\" ry=\"18\"/>\n<text text-anchor=\"middle\" x=\"609\" y=\"-96.8\" font-family=\"Times,serif\" font-size=\"14.00\">+</text>\n</g>\n<!-- 132486723053712&#45;&gt;132486723050448+ -->\n<g id=\"edge8\" class=\"edge\">\n<title>132486723053712&#45;&gt;132486723050448+</title>\n<path fill=\"none\" stroke=\"black\" d=\"M546.27,-110.61C555.64,-109.07 564.6,-107.61 572.65,-106.29\"/>\n<polygon fill=\"black\" stroke=\"black\" points=\"573.35,-109.72 582.65,-104.65 572.22,-102.81 573.35,-109.72\"/>\n</g>\n<!-- 132486723053712*&#45;&gt;132486723053712 -->\n<g id=\"edge2\" class=\"edge\">\n<title>132486723053712*&#45;&gt;132486723053712</title>\n<path fill=\"none\" stroke=\"black\" d=\"M290.34,-128.5C297.77,-128.5 306.37,-128.5 315.6,-128.5\"/>\n<polygon fill=\"black\" stroke=\"black\" points=\"315.84,-132 325.84,-128.5 315.84,-125 315.84,-132\"/>\n</g>\n<!-- 132486723050640 -->\n<g id=\"node6\" class=\"node\">\n<title>132486723050640</title>\n<polygon fill=\"none\" stroke=\"black\" points=\"2.5,-55.5 2.5,-91.5 197.5,-91.5 197.5,-55.5 2.5,-55.5\"/>\n<text text-anchor=\"middle\" x=\"19\" y=\"-69.8\" font-family=\"Times,serif\" font-size=\"14.00\">w2</text>\n<polyline fill=\"none\" stroke=\"black\" points=\"35.5,-55.5 35.5,-91.5 \"/>\n<text text-anchor=\"middle\" x=\"75.5\" y=\"-69.8\" font-family=\"Times,serif\" font-size=\"14.00\">data 1.0000</text>\n<polyline fill=\"none\" stroke=\"black\" points=\"115.5,-55.5 115.5,-91.5 \"/>\n<text text-anchor=\"middle\" x=\"156.5\" y=\"-69.8\" font-family=\"Times,serif\" font-size=\"14.00\">grad 0.0000</text>\n</g>\n<!-- 132486723050352* -->\n<g id=\"node10\" class=\"node\">\n<title>132486723050352*</title>\n<ellipse fill=\"none\" stroke=\"black\" cx=\"263\" cy=\"-73.5\" rx=\"27\" ry=\"18\"/>\n<text text-anchor=\"middle\" x=\"263\" y=\"-69.8\" font-family=\"Times,serif\" font-size=\"14.00\">*</text>\n</g>\n<!-- 132486723050640&#45;&gt;132486723050352* -->\n<g id=\"edge5\" class=\"edge\">\n<title>132486723050640&#45;&gt;132486723050352*</title>\n<path fill=\"none\" stroke=\"black\" d=\"M197.91,-73.5C207.65,-73.5 217.05,-73.5 225.52,-73.5\"/>\n<polygon fill=\"black\" stroke=\"black\" points=\"225.7,-77 235.7,-73.5 225.7,-70 225.7,-77\"/>\n</g>\n<!-- 132486723053808 -->\n<g id=\"node7\" class=\"node\">\n<title>132486723053808</title>\n<polygon fill=\"none\" stroke=\"black\" points=\"716,-137.5 716,-173.5 901,-173.5 901,-137.5 716,-137.5\"/>\n<text text-anchor=\"middle\" x=\"727.5\" y=\"-151.8\" font-family=\"Times,serif\" font-size=\"14.00\">b</text>\n<polyline fill=\"none\" stroke=\"black\" points=\"739,-137.5 739,-173.5 \"/>\n<text text-anchor=\"middle\" x=\"779\" y=\"-151.8\" font-family=\"Times,serif\" font-size=\"14.00\">data 6.8814</text>\n<polyline fill=\"none\" stroke=\"black\" points=\"819,-137.5 819,-173.5 \"/>\n<text text-anchor=\"middle\" x=\"860\" y=\"-151.8\" font-family=\"Times,serif\" font-size=\"14.00\">grad 0.0000</text>\n</g>\n<!-- 132486723053808&#45;&gt;132486723050544+ -->\n<g id=\"edge9\" class=\"edge\">\n<title>132486723053808&#45;&gt;132486723050544+</title>\n<path fill=\"none\" stroke=\"black\" d=\"M901.02,-142.52C926,-138.98 951.59,-135.36 971.37,-132.55\"/>\n<polygon fill=\"black\" stroke=\"black\" points=\"972.03,-135.99 981.43,-131.12 971.04,-129.06 972.03,-135.99\"/>\n</g>\n<!-- 132486724415840 -->\n<g id=\"node8\" class=\"node\">\n<title>132486724415840</title>\n<polygon fill=\"none\" stroke=\"black\" points=\"4,-0.5 4,-36.5 196,-36.5 196,-0.5 4,-0.5\"/>\n<text text-anchor=\"middle\" x=\"19\" y=\"-14.8\" font-family=\"Times,serif\" font-size=\"14.00\">x2</text>\n<polyline fill=\"none\" stroke=\"black\" points=\"34,-0.5 34,-36.5 \"/>\n<text text-anchor=\"middle\" x=\"74\" y=\"-14.8\" font-family=\"Times,serif\" font-size=\"14.00\">data 0.0000</text>\n<polyline fill=\"none\" stroke=\"black\" points=\"114,-0.5 114,-36.5 \"/>\n<text text-anchor=\"middle\" x=\"155\" y=\"-14.8\" font-family=\"Times,serif\" font-size=\"14.00\">grad 0.0000</text>\n</g>\n<!-- 132486724415840&#45;&gt;132486723050352* -->\n<g id=\"edge7\" class=\"edge\">\n<title>132486724415840&#45;&gt;132486723050352*</title>\n<path fill=\"none\" stroke=\"black\" d=\"M169.28,-36.5C179.65,-39.61 190.16,-42.98 200,-46.5 210.28,-50.17 221.28,-54.74 231.11,-59.07\"/>\n<polygon fill=\"black\" stroke=\"black\" points=\"229.93,-62.37 240.48,-63.27 232.79,-55.99 229.93,-62.37\"/>\n</g>\n<!-- 132486723050352 -->\n<g id=\"node9\" class=\"node\">\n<title>132486723050352</title>\n<polygon fill=\"none\" stroke=\"black\" points=\"328.5,-55.5 328.5,-91.5 543.5,-91.5 543.5,-55.5 328.5,-55.5\"/>\n<text text-anchor=\"middle\" x=\"355\" y=\"-69.8\" font-family=\"Times,serif\" font-size=\"14.00\">x2*w2</text>\n<polyline fill=\"none\" stroke=\"black\" points=\"381.5,-55.5 381.5,-91.5 \"/>\n<text text-anchor=\"middle\" x=\"421.5\" y=\"-69.8\" font-family=\"Times,serif\" font-size=\"14.00\">data 0.0000</text>\n<polyline fill=\"none\" stroke=\"black\" points=\"461.5,-55.5 461.5,-91.5 \"/>\n<text text-anchor=\"middle\" x=\"502.5\" y=\"-69.8\" font-family=\"Times,serif\" font-size=\"14.00\">grad 0.0000</text>\n</g>\n<!-- 132486723050352&#45;&gt;132486723050448+ -->\n<g id=\"edge6\" class=\"edge\">\n<title>132486723050352&#45;&gt;132486723050448+</title>\n<path fill=\"none\" stroke=\"black\" d=\"M543.84,-90.37C554.01,-91.98 563.76,-93.51 572.44,-94.89\"/>\n<polygon fill=\"black\" stroke=\"black\" points=\"572.05,-98.37 582.47,-96.47 573.14,-91.45 572.05,-98.37\"/>\n</g>\n<!-- 132486723050352*&#45;&gt;132486723050352 -->\n<g id=\"edge3\" class=\"edge\">\n<title>132486723050352*&#45;&gt;132486723050352</title>\n<path fill=\"none\" stroke=\"black\" d=\"M290.34,-73.5C298.51,-73.5 308.08,-73.5 318.36,-73.5\"/>\n<polygon fill=\"black\" stroke=\"black\" points=\"318.39,-77 328.39,-73.5 318.39,-70 318.39,-77\"/>\n</g>\n<!-- 132486723050448 -->\n<g id=\"node11\" class=\"node\">\n<title>132486723050448</title>\n<polygon fill=\"none\" stroke=\"black\" points=\"672,-82.5 672,-118.5 945,-118.5 945,-82.5 672,-82.5\"/>\n<text text-anchor=\"middle\" x=\"725\" y=\"-96.8\" font-family=\"Times,serif\" font-size=\"14.00\">x1*w1 + x2*w2</text>\n<polyline fill=\"none\" stroke=\"black\" points=\"778,-82.5 778,-118.5 \"/>\n<text text-anchor=\"middle\" x=\"820.5\" y=\"-96.8\" font-family=\"Times,serif\" font-size=\"14.00\">data &#45;6.0000</text>\n<polyline fill=\"none\" stroke=\"black\" points=\"863,-82.5 863,-118.5 \"/>\n<text text-anchor=\"middle\" x=\"904\" y=\"-96.8\" font-family=\"Times,serif\" font-size=\"14.00\">grad 0.0000</text>\n</g>\n<!-- 132486723050448&#45;&gt;132486723050544+ -->\n<g id=\"edge12\" class=\"edge\">\n<title>132486723050448&#45;&gt;132486723050544+</title>\n<path fill=\"none\" stroke=\"black\" d=\"M941.24,-118.51C952.12,-120 962.4,-121.4 971.45,-122.64\"/>\n<polygon fill=\"black\" stroke=\"black\" points=\"971.11,-126.13 981.49,-124.01 972.05,-119.19 971.11,-126.13\"/>\n</g>\n<!-- 132486723050448+&#45;&gt;132486723050448 -->\n<g id=\"edge4\" class=\"edge\">\n<title>132486723050448+&#45;&gt;132486723050448</title>\n<path fill=\"none\" stroke=\"black\" d=\"M636.23,-100.5C643.7,-100.5 652.41,-100.5 661.87,-100.5\"/>\n<polygon fill=\"black\" stroke=\"black\" points=\"661.98,-104 671.98,-100.5 661.98,-97 661.98,-104\"/>\n</g>\n<!-- 132486724958192 -->\n<g id=\"node13\" class=\"node\">\n<title>132486724958192</title>\n<polygon fill=\"none\" stroke=\"black\" points=\"4,-110.5 4,-146.5 196,-146.5 196,-110.5 4,-110.5\"/>\n<text text-anchor=\"middle\" x=\"19\" y=\"-124.8\" font-family=\"Times,serif\" font-size=\"14.00\">x1</text>\n<polyline fill=\"none\" stroke=\"black\" points=\"34,-110.5 34,-146.5 \"/>\n<text text-anchor=\"middle\" x=\"74\" y=\"-124.8\" font-family=\"Times,serif\" font-size=\"14.00\">data 2.0000</text>\n<polyline fill=\"none\" stroke=\"black\" points=\"114,-110.5 114,-146.5 \"/>\n<text text-anchor=\"middle\" x=\"155\" y=\"-124.8\" font-family=\"Times,serif\" font-size=\"14.00\">grad 0.0000</text>\n</g>\n<!-- 132486724958192&#45;&gt;132486723053712* -->\n<g id=\"edge11\" class=\"edge\">\n<title>132486724958192&#45;&gt;132486723053712*</title>\n<path fill=\"none\" stroke=\"black\" d=\"M196.05,-128.5C206.52,-128.5 216.65,-128.5 225.71,-128.5\"/>\n<polygon fill=\"black\" stroke=\"black\" points=\"225.79,-132 235.79,-128.5 225.79,-125 225.79,-132\"/>\n</g>\n</g>\n</svg>\n",
            "text/plain": [
              "<graphviz.graphs.Digraph at 0x787ef8257580>"
            ]
          },
          "metadata": {},
          "execution_count": 49
        }
      ]
    },
    {
      "cell_type": "markdown",
      "source": [
        "Now, Let's add an activation function in the end. But before that, let's implement `tanh` function in the Value class."
      ],
      "metadata": {
        "id": "JAxDDP2prnnM"
      }
    },
    {
      "cell_type": "code",
      "source": [
        "class Value:\n",
        "\n",
        "    def __init__(self, data, _children = (), _op = '', label = ''):\n",
        "        self.data = data\n",
        "        self.grad = 0\n",
        "        self._prev = set(_children)\n",
        "        self._op = _op\n",
        "        self.label = label\n",
        "\n",
        "    def __repr__(self):\n",
        "        return f\"Value(data={self.data})\"\n",
        "\n",
        "    def __add__(self, other):\n",
        "        out = Value(self.data + other.data, (self, other), '+')\n",
        "        return out\n",
        "\n",
        "    def __mul__(self, other):\n",
        "        out = Value(self.data * other.data, (self, other), '*')\n",
        "        return out\n",
        "\n",
        "    def tanh(self):\n",
        "        x = self.data\n",
        "        t = (math.exp(2*x) - 1)/(math.exp(2*x) +1)\n",
        "        out = Value(t, (self, ), 'tanh')\n",
        "        return out"
      ],
      "metadata": {
        "id": "J9FvIeOrrhnp"
      },
      "execution_count": 50,
      "outputs": []
    },
    {
      "cell_type": "markdown",
      "source": [
        "Let's use `tanh` as activation function in above neural network."
      ],
      "metadata": {
        "id": "0As-g7OisvPi"
      }
    },
    {
      "cell_type": "code",
      "source": [
        "# inputs x1,x2\n",
        "x1 = Value(2.0, label='x1')\n",
        "x2 = Value(0.0, label='x2')\n",
        "# weights w1,w2\n",
        "w1 = Value(-3.0, label='w1')\n",
        "w2 = Value(1.0, label='w2')\n",
        "# bias of the neuron\n",
        "b = Value(6.8813735870195432, label='b')\n",
        "# x1*w1 + x2*w2 + b\n",
        "x1w1 = x1*w1; x1w1.label = 'x1*w1'\n",
        "x2w2 = x2*w2; x2w2.label = 'x2*w2'\n",
        "x1w1x2w2 = x1w1 + x2w2; x1w1x2w2.label = 'x1*w1 + x2*w2'\n",
        "n = x1w1x2w2 + b; n.label = 'n'\n",
        "o = n.tanh(); o.label = 'o'"
      ],
      "metadata": {
        "id": "g9mBTTuXssm2"
      },
      "execution_count": 51,
      "outputs": []
    },
    {
      "cell_type": "code",
      "source": [
        "draw_dot(o)"
      ],
      "metadata": {
        "colab": {
          "base_uri": "https://localhost:8080/",
          "height": 321
        },
        "id": "u_5gFtNns8Th",
        "outputId": "69620ba8-cdac-4681-8008-7b092d9c0c01"
      },
      "execution_count": 52,
      "outputs": [
        {
          "output_type": "execute_result",
          "data": {
            "image/svg+xml": "<?xml version=\"1.0\" encoding=\"UTF-8\" standalone=\"no\"?>\n<!DOCTYPE svg PUBLIC \"-//W3C//DTD SVG 1.1//EN\"\n \"http://www.w3.org/Graphics/SVG/1.1/DTD/svg11.dtd\">\n<!-- Generated by graphviz version 2.43.0 (0)\n -->\n<!-- Title: %3 Pages: 1 -->\n<svg width=\"1575pt\" height=\"210pt\"\n viewBox=\"0.00 0.00 1575.00 210.00\" xmlns=\"http://www.w3.org/2000/svg\" xmlns:xlink=\"http://www.w3.org/1999/xlink\">\n<g id=\"graph0\" class=\"graph\" transform=\"scale(1 1) rotate(0) translate(4 206)\">\n<title>%3</title>\n<polygon fill=\"white\" stroke=\"transparent\" points=\"-4,4 -4,-206 1571,-206 1571,4 -4,4\"/>\n<!-- 132486724951040 -->\n<g id=\"node1\" class=\"node\">\n<title>132486724951040</title>\n<polygon fill=\"none\" stroke=\"black\" points=\"1382,-109.5 1382,-145.5 1567,-145.5 1567,-109.5 1382,-109.5\"/>\n<text text-anchor=\"middle\" x=\"1393.5\" y=\"-123.8\" font-family=\"Times,serif\" font-size=\"14.00\">o</text>\n<polyline fill=\"none\" stroke=\"black\" points=\"1405,-109.5 1405,-145.5 \"/>\n<text text-anchor=\"middle\" x=\"1445\" y=\"-123.8\" font-family=\"Times,serif\" font-size=\"14.00\">data 0.7071</text>\n<polyline fill=\"none\" stroke=\"black\" points=\"1485,-109.5 1485,-145.5 \"/>\n<text text-anchor=\"middle\" x=\"1526\" y=\"-123.8\" font-family=\"Times,serif\" font-size=\"14.00\">grad 0.0000</text>\n</g>\n<!-- 132486724951040tanh -->\n<g id=\"node2\" class=\"node\">\n<title>132486724951040tanh</title>\n<ellipse fill=\"none\" stroke=\"black\" cx=\"1319\" cy=\"-127.5\" rx=\"27\" ry=\"18\"/>\n<text text-anchor=\"middle\" x=\"1319\" y=\"-123.8\" font-family=\"Times,serif\" font-size=\"14.00\">tanh</text>\n</g>\n<!-- 132486724951040tanh&#45;&gt;132486724951040 -->\n<g id=\"edge1\" class=\"edge\">\n<title>132486724951040tanh&#45;&gt;132486724951040</title>\n<path fill=\"none\" stroke=\"black\" d=\"M1346.04,-127.5C1353.58,-127.5 1362.3,-127.5 1371.57,-127.5\"/>\n<polygon fill=\"black\" stroke=\"black\" points=\"1371.81,-131 1381.81,-127.5 1371.81,-124 1371.81,-131\"/>\n</g>\n<!-- 132486723050880 -->\n<g id=\"node3\" class=\"node\">\n<title>132486723050880</title>\n<polygon fill=\"none\" stroke=\"black\" points=\"2.5,-165.5 2.5,-201.5 197.5,-201.5 197.5,-165.5 2.5,-165.5\"/>\n<text text-anchor=\"middle\" x=\"19\" y=\"-179.8\" font-family=\"Times,serif\" font-size=\"14.00\">w2</text>\n<polyline fill=\"none\" stroke=\"black\" points=\"35.5,-165.5 35.5,-201.5 \"/>\n<text text-anchor=\"middle\" x=\"75.5\" y=\"-179.8\" font-family=\"Times,serif\" font-size=\"14.00\">data 1.0000</text>\n<polyline fill=\"none\" stroke=\"black\" points=\"115.5,-165.5 115.5,-201.5 \"/>\n<text text-anchor=\"middle\" x=\"156.5\" y=\"-179.8\" font-family=\"Times,serif\" font-size=\"14.00\">grad 0.0000</text>\n</g>\n<!-- 132486723047136* -->\n<g id=\"node8\" class=\"node\">\n<title>132486723047136*</title>\n<ellipse fill=\"none\" stroke=\"black\" cx=\"263\" cy=\"-128.5\" rx=\"27\" ry=\"18\"/>\n<text text-anchor=\"middle\" x=\"263\" y=\"-124.8\" font-family=\"Times,serif\" font-size=\"14.00\">*</text>\n</g>\n<!-- 132486723050880&#45;&gt;132486723047136* -->\n<g id=\"edge13\" class=\"edge\">\n<title>132486723050880&#45;&gt;132486723047136*</title>\n<path fill=\"none\" stroke=\"black\" d=\"M172.53,-165.44C181.84,-162.67 191.2,-159.67 200,-156.5 210.53,-152.71 221.75,-147.9 231.72,-143.33\"/>\n<polygon fill=\"black\" stroke=\"black\" points=\"233.25,-146.48 240.82,-139.07 230.28,-140.14 233.25,-146.48\"/>\n</g>\n<!-- 132486723054720 -->\n<g id=\"node4\" class=\"node\">\n<title>132486723054720</title>\n<polygon fill=\"none\" stroke=\"black\" points=\"4,-55.5 4,-91.5 196,-91.5 196,-55.5 4,-55.5\"/>\n<text text-anchor=\"middle\" x=\"19\" y=\"-69.8\" font-family=\"Times,serif\" font-size=\"14.00\">x1</text>\n<polyline fill=\"none\" stroke=\"black\" points=\"34,-55.5 34,-91.5 \"/>\n<text text-anchor=\"middle\" x=\"74\" y=\"-69.8\" font-family=\"Times,serif\" font-size=\"14.00\">data 2.0000</text>\n<polyline fill=\"none\" stroke=\"black\" points=\"114,-55.5 114,-91.5 \"/>\n<text text-anchor=\"middle\" x=\"155\" y=\"-69.8\" font-family=\"Times,serif\" font-size=\"14.00\">grad 0.0000</text>\n</g>\n<!-- 132486723051888* -->\n<g id=\"node11\" class=\"node\">\n<title>132486723051888*</title>\n<ellipse fill=\"none\" stroke=\"black\" cx=\"263\" cy=\"-73.5\" rx=\"27\" ry=\"18\"/>\n<text text-anchor=\"middle\" x=\"263\" y=\"-69.8\" font-family=\"Times,serif\" font-size=\"14.00\">*</text>\n</g>\n<!-- 132486723054720&#45;&gt;132486723051888* -->\n<g id=\"edge8\" class=\"edge\">\n<title>132486723054720&#45;&gt;132486723051888*</title>\n<path fill=\"none\" stroke=\"black\" d=\"M196.05,-73.5C206.52,-73.5 216.65,-73.5 225.71,-73.5\"/>\n<polygon fill=\"black\" stroke=\"black\" points=\"225.79,-77 235.79,-73.5 225.79,-70 225.79,-77\"/>\n</g>\n<!-- 132486723047088 -->\n<g id=\"node5\" class=\"node\">\n<title>132486723047088</title>\n<polygon fill=\"none\" stroke=\"black\" points=\"1071,-109.5 1071,-145.5 1256,-145.5 1256,-109.5 1071,-109.5\"/>\n<text text-anchor=\"middle\" x=\"1082.5\" y=\"-123.8\" font-family=\"Times,serif\" font-size=\"14.00\">n</text>\n<polyline fill=\"none\" stroke=\"black\" points=\"1094,-109.5 1094,-145.5 \"/>\n<text text-anchor=\"middle\" x=\"1134\" y=\"-123.8\" font-family=\"Times,serif\" font-size=\"14.00\">data 0.8814</text>\n<polyline fill=\"none\" stroke=\"black\" points=\"1174,-109.5 1174,-145.5 \"/>\n<text text-anchor=\"middle\" x=\"1215\" y=\"-123.8\" font-family=\"Times,serif\" font-size=\"14.00\">grad 0.0000</text>\n</g>\n<!-- 132486723047088&#45;&gt;132486724951040tanh -->\n<g id=\"edge12\" class=\"edge\">\n<title>132486723047088&#45;&gt;132486724951040tanh</title>\n<path fill=\"none\" stroke=\"black\" d=\"M1256.01,-127.5C1265.01,-127.5 1273.74,-127.5 1281.66,-127.5\"/>\n<polygon fill=\"black\" stroke=\"black\" points=\"1281.91,-131 1291.91,-127.5 1281.91,-124 1281.91,-131\"/>\n</g>\n<!-- 132486723047088+ -->\n<g id=\"node6\" class=\"node\">\n<title>132486723047088+</title>\n<ellipse fill=\"none\" stroke=\"black\" cx=\"1008\" cy=\"-127.5\" rx=\"27\" ry=\"18\"/>\n<text text-anchor=\"middle\" x=\"1008\" y=\"-123.8\" font-family=\"Times,serif\" font-size=\"14.00\">+</text>\n</g>\n<!-- 132486723047088+&#45;&gt;132486723047088 -->\n<g id=\"edge2\" class=\"edge\">\n<title>132486723047088+&#45;&gt;132486723047088</title>\n<path fill=\"none\" stroke=\"black\" d=\"M1035.04,-127.5C1042.58,-127.5 1051.3,-127.5 1060.57,-127.5\"/>\n<polygon fill=\"black\" stroke=\"black\" points=\"1060.81,-131 1070.81,-127.5 1060.81,-124 1060.81,-131\"/>\n</g>\n<!-- 132486723047136 -->\n<g id=\"node7\" class=\"node\">\n<title>132486723047136</title>\n<polygon fill=\"none\" stroke=\"black\" points=\"328.5,-110.5 328.5,-146.5 543.5,-146.5 543.5,-110.5 328.5,-110.5\"/>\n<text text-anchor=\"middle\" x=\"355\" y=\"-124.8\" font-family=\"Times,serif\" font-size=\"14.00\">x2*w2</text>\n<polyline fill=\"none\" stroke=\"black\" points=\"381.5,-110.5 381.5,-146.5 \"/>\n<text text-anchor=\"middle\" x=\"421.5\" y=\"-124.8\" font-family=\"Times,serif\" font-size=\"14.00\">data 0.0000</text>\n<polyline fill=\"none\" stroke=\"black\" points=\"461.5,-110.5 461.5,-146.5 \"/>\n<text text-anchor=\"middle\" x=\"502.5\" y=\"-124.8\" font-family=\"Times,serif\" font-size=\"14.00\">grad 0.0000</text>\n</g>\n<!-- 132486723043728+ -->\n<g id=\"node14\" class=\"node\">\n<title>132486723043728+</title>\n<ellipse fill=\"none\" stroke=\"black\" cx=\"609\" cy=\"-100.5\" rx=\"27\" ry=\"18\"/>\n<text text-anchor=\"middle\" x=\"609\" y=\"-96.8\" font-family=\"Times,serif\" font-size=\"14.00\">+</text>\n</g>\n<!-- 132486723047136&#45;&gt;132486723043728+ -->\n<g id=\"edge7\" class=\"edge\">\n<title>132486723047136&#45;&gt;132486723043728+</title>\n<path fill=\"none\" stroke=\"black\" d=\"M543.84,-111.01C554.01,-109.34 563.76,-107.74 572.44,-106.32\"/>\n<polygon fill=\"black\" stroke=\"black\" points=\"573.17,-109.75 582.47,-104.68 572.04,-102.84 573.17,-109.75\"/>\n</g>\n<!-- 132486723047136*&#45;&gt;132486723047136 -->\n<g id=\"edge3\" class=\"edge\">\n<title>132486723047136*&#45;&gt;132486723047136</title>\n<path fill=\"none\" stroke=\"black\" d=\"M290.34,-128.5C298.51,-128.5 308.08,-128.5 318.36,-128.5\"/>\n<polygon fill=\"black\" stroke=\"black\" points=\"318.39,-132 328.39,-128.5 318.39,-125 318.39,-132\"/>\n</g>\n<!-- 132486723058464 -->\n<g id=\"node9\" class=\"node\">\n<title>132486723058464</title>\n<polygon fill=\"none\" stroke=\"black\" points=\"0,-0.5 0,-36.5 200,-36.5 200,-0.5 0,-0.5\"/>\n<text text-anchor=\"middle\" x=\"16.5\" y=\"-14.8\" font-family=\"Times,serif\" font-size=\"14.00\">w1</text>\n<polyline fill=\"none\" stroke=\"black\" points=\"33,-0.5 33,-36.5 \"/>\n<text text-anchor=\"middle\" x=\"75.5\" y=\"-14.8\" font-family=\"Times,serif\" font-size=\"14.00\">data &#45;3.0000</text>\n<polyline fill=\"none\" stroke=\"black\" points=\"118,-0.5 118,-36.5 \"/>\n<text text-anchor=\"middle\" x=\"159\" y=\"-14.8\" font-family=\"Times,serif\" font-size=\"14.00\">grad 0.0000</text>\n</g>\n<!-- 132486723058464&#45;&gt;132486723051888* -->\n<g id=\"edge11\" class=\"edge\">\n<title>132486723058464&#45;&gt;132486723051888*</title>\n<path fill=\"none\" stroke=\"black\" d=\"M169.28,-36.5C179.65,-39.61 190.16,-42.98 200,-46.5 210.28,-50.17 221.28,-54.74 231.11,-59.07\"/>\n<polygon fill=\"black\" stroke=\"black\" points=\"229.93,-62.37 240.48,-63.27 232.79,-55.99 229.93,-62.37\"/>\n</g>\n<!-- 132486723051888 -->\n<g id=\"node10\" class=\"node\">\n<title>132486723051888</title>\n<polygon fill=\"none\" stroke=\"black\" points=\"326,-55.5 326,-91.5 546,-91.5 546,-55.5 326,-55.5\"/>\n<text text-anchor=\"middle\" x=\"352.5\" y=\"-69.8\" font-family=\"Times,serif\" font-size=\"14.00\">x1*w1</text>\n<polyline fill=\"none\" stroke=\"black\" points=\"379,-55.5 379,-91.5 \"/>\n<text text-anchor=\"middle\" x=\"421.5\" y=\"-69.8\" font-family=\"Times,serif\" font-size=\"14.00\">data &#45;6.0000</text>\n<polyline fill=\"none\" stroke=\"black\" points=\"464,-55.5 464,-91.5 \"/>\n<text text-anchor=\"middle\" x=\"505\" y=\"-69.8\" font-family=\"Times,serif\" font-size=\"14.00\">grad 0.0000</text>\n</g>\n<!-- 132486723051888&#45;&gt;132486723043728+ -->\n<g id=\"edge6\" class=\"edge\">\n<title>132486723051888&#45;&gt;132486723043728+</title>\n<path fill=\"none\" stroke=\"black\" d=\"M546.27,-90.75C555.64,-92.23 564.6,-93.65 572.65,-94.92\"/>\n<polygon fill=\"black\" stroke=\"black\" points=\"572.23,-98.4 582.65,-96.5 573.32,-91.48 572.23,-98.4\"/>\n</g>\n<!-- 132486723051888*&#45;&gt;132486723051888 -->\n<g id=\"edge4\" class=\"edge\">\n<title>132486723051888*&#45;&gt;132486723051888</title>\n<path fill=\"none\" stroke=\"black\" d=\"M290.34,-73.5C297.77,-73.5 306.37,-73.5 315.6,-73.5\"/>\n<polygon fill=\"black\" stroke=\"black\" points=\"315.84,-77 325.84,-73.5 315.84,-70 315.84,-77\"/>\n</g>\n<!-- 132486723053952 -->\n<g id=\"node12\" class=\"node\">\n<title>132486723053952</title>\n<polygon fill=\"none\" stroke=\"black\" points=\"716,-137.5 716,-173.5 901,-173.5 901,-137.5 716,-137.5\"/>\n<text text-anchor=\"middle\" x=\"727.5\" y=\"-151.8\" font-family=\"Times,serif\" font-size=\"14.00\">b</text>\n<polyline fill=\"none\" stroke=\"black\" points=\"739,-137.5 739,-173.5 \"/>\n<text text-anchor=\"middle\" x=\"779\" y=\"-151.8\" font-family=\"Times,serif\" font-size=\"14.00\">data 6.8814</text>\n<polyline fill=\"none\" stroke=\"black\" points=\"819,-137.5 819,-173.5 \"/>\n<text text-anchor=\"middle\" x=\"860\" y=\"-151.8\" font-family=\"Times,serif\" font-size=\"14.00\">grad 0.0000</text>\n</g>\n<!-- 132486723053952&#45;&gt;132486723047088+ -->\n<g id=\"edge9\" class=\"edge\">\n<title>132486723053952&#45;&gt;132486723047088+</title>\n<path fill=\"none\" stroke=\"black\" d=\"M901.02,-142.52C926,-138.98 951.59,-135.36 971.37,-132.55\"/>\n<polygon fill=\"black\" stroke=\"black\" points=\"972.03,-135.99 981.43,-131.12 971.04,-129.06 972.03,-135.99\"/>\n</g>\n<!-- 132486723043728 -->\n<g id=\"node13\" class=\"node\">\n<title>132486723043728</title>\n<polygon fill=\"none\" stroke=\"black\" points=\"672,-82.5 672,-118.5 945,-118.5 945,-82.5 672,-82.5\"/>\n<text text-anchor=\"middle\" x=\"725\" y=\"-96.8\" font-family=\"Times,serif\" font-size=\"14.00\">x1*w1 + x2*w2</text>\n<polyline fill=\"none\" stroke=\"black\" points=\"778,-82.5 778,-118.5 \"/>\n<text text-anchor=\"middle\" x=\"820.5\" y=\"-96.8\" font-family=\"Times,serif\" font-size=\"14.00\">data &#45;6.0000</text>\n<polyline fill=\"none\" stroke=\"black\" points=\"863,-82.5 863,-118.5 \"/>\n<text text-anchor=\"middle\" x=\"904\" y=\"-96.8\" font-family=\"Times,serif\" font-size=\"14.00\">grad 0.0000</text>\n</g>\n<!-- 132486723043728&#45;&gt;132486723047088+ -->\n<g id=\"edge14\" class=\"edge\">\n<title>132486723043728&#45;&gt;132486723047088+</title>\n<path fill=\"none\" stroke=\"black\" d=\"M941.24,-118.51C952.12,-120 962.4,-121.4 971.45,-122.64\"/>\n<polygon fill=\"black\" stroke=\"black\" points=\"971.11,-126.13 981.49,-124.01 972.05,-119.19 971.11,-126.13\"/>\n</g>\n<!-- 132486723043728+&#45;&gt;132486723043728 -->\n<g id=\"edge5\" class=\"edge\">\n<title>132486723043728+&#45;&gt;132486723043728</title>\n<path fill=\"none\" stroke=\"black\" d=\"M636.23,-100.5C643.7,-100.5 652.41,-100.5 661.87,-100.5\"/>\n<polygon fill=\"black\" stroke=\"black\" points=\"661.98,-104 671.98,-100.5 661.98,-97 661.98,-104\"/>\n</g>\n<!-- 132486723059184 -->\n<g id=\"node15\" class=\"node\">\n<title>132486723059184</title>\n<polygon fill=\"none\" stroke=\"black\" points=\"4,-110.5 4,-146.5 196,-146.5 196,-110.5 4,-110.5\"/>\n<text text-anchor=\"middle\" x=\"19\" y=\"-124.8\" font-family=\"Times,serif\" font-size=\"14.00\">x2</text>\n<polyline fill=\"none\" stroke=\"black\" points=\"34,-110.5 34,-146.5 \"/>\n<text text-anchor=\"middle\" x=\"74\" y=\"-124.8\" font-family=\"Times,serif\" font-size=\"14.00\">data 0.0000</text>\n<polyline fill=\"none\" stroke=\"black\" points=\"114,-110.5 114,-146.5 \"/>\n<text text-anchor=\"middle\" x=\"155\" y=\"-124.8\" font-family=\"Times,serif\" font-size=\"14.00\">grad 0.0000</text>\n</g>\n<!-- 132486723059184&#45;&gt;132486723047136* -->\n<g id=\"edge10\" class=\"edge\">\n<title>132486723059184&#45;&gt;132486723047136*</title>\n<path fill=\"none\" stroke=\"black\" d=\"M196.05,-128.5C206.52,-128.5 216.65,-128.5 225.71,-128.5\"/>\n<polygon fill=\"black\" stroke=\"black\" points=\"225.79,-132 235.79,-128.5 225.79,-125 225.79,-132\"/>\n</g>\n</g>\n</svg>\n",
            "text/plain": [
              "<graphviz.graphs.Digraph at 0x787ef810bd90>"
            ]
          },
          "metadata": {},
          "execution_count": 52
        }
      ]
    },
    {
      "cell_type": "code",
      "source": [
        "o.grad = 1.0\n",
        "n.grad = 0.5\n",
        "b.grad = 0.5\n",
        "x1w1x2w2.grad = 0.5\n",
        "x1w1.grad = 0.5\n",
        "x2w2.grad = 0.5\n",
        "x1.grad = w1.data * x1w1.grad\n",
        "w1.grad = x1.data * x1w1.grad\n",
        "x2.grad = w2.data * x2w2.grad\n",
        "w2.grad = x2.data * x2w2.grad"
      ],
      "metadata": {
        "id": "mQcMOjPltDvf"
      },
      "execution_count": 53,
      "outputs": []
    },
    {
      "cell_type": "code",
      "source": [
        "draw_dot(o)"
      ],
      "metadata": {
        "colab": {
          "base_uri": "https://localhost:8080/",
          "height": 321
        },
        "id": "H_01LDerwrO2",
        "outputId": "c8a4b3a6-0a7c-453a-9a5a-4e55f3bc4da7"
      },
      "execution_count": 54,
      "outputs": [
        {
          "output_type": "execute_result",
          "data": {
            "image/svg+xml": "<?xml version=\"1.0\" encoding=\"UTF-8\" standalone=\"no\"?>\n<!DOCTYPE svg PUBLIC \"-//W3C//DTD SVG 1.1//EN\"\n \"http://www.w3.org/Graphics/SVG/1.1/DTD/svg11.dtd\">\n<!-- Generated by graphviz version 2.43.0 (0)\n -->\n<!-- Title: %3 Pages: 1 -->\n<svg width=\"1575pt\" height=\"210pt\"\n viewBox=\"0.00 0.00 1575.00 210.00\" xmlns=\"http://www.w3.org/2000/svg\" xmlns:xlink=\"http://www.w3.org/1999/xlink\">\n<g id=\"graph0\" class=\"graph\" transform=\"scale(1 1) rotate(0) translate(4 206)\">\n<title>%3</title>\n<polygon fill=\"white\" stroke=\"transparent\" points=\"-4,4 -4,-206 1571,-206 1571,4 -4,4\"/>\n<!-- 132486724951040 -->\n<g id=\"node1\" class=\"node\">\n<title>132486724951040</title>\n<polygon fill=\"none\" stroke=\"black\" points=\"1382,-109.5 1382,-145.5 1567,-145.5 1567,-109.5 1382,-109.5\"/>\n<text text-anchor=\"middle\" x=\"1393.5\" y=\"-123.8\" font-family=\"Times,serif\" font-size=\"14.00\">o</text>\n<polyline fill=\"none\" stroke=\"black\" points=\"1405,-109.5 1405,-145.5 \"/>\n<text text-anchor=\"middle\" x=\"1445\" y=\"-123.8\" font-family=\"Times,serif\" font-size=\"14.00\">data 0.7071</text>\n<polyline fill=\"none\" stroke=\"black\" points=\"1485,-109.5 1485,-145.5 \"/>\n<text text-anchor=\"middle\" x=\"1526\" y=\"-123.8\" font-family=\"Times,serif\" font-size=\"14.00\">grad 1.0000</text>\n</g>\n<!-- 132486724951040tanh -->\n<g id=\"node2\" class=\"node\">\n<title>132486724951040tanh</title>\n<ellipse fill=\"none\" stroke=\"black\" cx=\"1319\" cy=\"-127.5\" rx=\"27\" ry=\"18\"/>\n<text text-anchor=\"middle\" x=\"1319\" y=\"-123.8\" font-family=\"Times,serif\" font-size=\"14.00\">tanh</text>\n</g>\n<!-- 132486724951040tanh&#45;&gt;132486724951040 -->\n<g id=\"edge1\" class=\"edge\">\n<title>132486724951040tanh&#45;&gt;132486724951040</title>\n<path fill=\"none\" stroke=\"black\" d=\"M1346.04,-127.5C1353.58,-127.5 1362.3,-127.5 1371.57,-127.5\"/>\n<polygon fill=\"black\" stroke=\"black\" points=\"1371.81,-131 1381.81,-127.5 1371.81,-124 1371.81,-131\"/>\n</g>\n<!-- 132486723050880 -->\n<g id=\"node3\" class=\"node\">\n<title>132486723050880</title>\n<polygon fill=\"none\" stroke=\"black\" points=\"2.5,-165.5 2.5,-201.5 197.5,-201.5 197.5,-165.5 2.5,-165.5\"/>\n<text text-anchor=\"middle\" x=\"19\" y=\"-179.8\" font-family=\"Times,serif\" font-size=\"14.00\">w2</text>\n<polyline fill=\"none\" stroke=\"black\" points=\"35.5,-165.5 35.5,-201.5 \"/>\n<text text-anchor=\"middle\" x=\"75.5\" y=\"-179.8\" font-family=\"Times,serif\" font-size=\"14.00\">data 1.0000</text>\n<polyline fill=\"none\" stroke=\"black\" points=\"115.5,-165.5 115.5,-201.5 \"/>\n<text text-anchor=\"middle\" x=\"156.5\" y=\"-179.8\" font-family=\"Times,serif\" font-size=\"14.00\">grad 0.0000</text>\n</g>\n<!-- 132486723047136* -->\n<g id=\"node8\" class=\"node\">\n<title>132486723047136*</title>\n<ellipse fill=\"none\" stroke=\"black\" cx=\"263\" cy=\"-128.5\" rx=\"27\" ry=\"18\"/>\n<text text-anchor=\"middle\" x=\"263\" y=\"-124.8\" font-family=\"Times,serif\" font-size=\"14.00\">*</text>\n</g>\n<!-- 132486723050880&#45;&gt;132486723047136* -->\n<g id=\"edge13\" class=\"edge\">\n<title>132486723050880&#45;&gt;132486723047136*</title>\n<path fill=\"none\" stroke=\"black\" d=\"M172.53,-165.44C181.84,-162.67 191.2,-159.67 200,-156.5 210.53,-152.71 221.75,-147.9 231.72,-143.33\"/>\n<polygon fill=\"black\" stroke=\"black\" points=\"233.25,-146.48 240.82,-139.07 230.28,-140.14 233.25,-146.48\"/>\n</g>\n<!-- 132486723054720 -->\n<g id=\"node4\" class=\"node\">\n<title>132486723054720</title>\n<polygon fill=\"none\" stroke=\"black\" points=\"2,-55.5 2,-91.5 198,-91.5 198,-55.5 2,-55.5\"/>\n<text text-anchor=\"middle\" x=\"17\" y=\"-69.8\" font-family=\"Times,serif\" font-size=\"14.00\">x1</text>\n<polyline fill=\"none\" stroke=\"black\" points=\"32,-55.5 32,-91.5 \"/>\n<text text-anchor=\"middle\" x=\"72\" y=\"-69.8\" font-family=\"Times,serif\" font-size=\"14.00\">data 2.0000</text>\n<polyline fill=\"none\" stroke=\"black\" points=\"112,-55.5 112,-91.5 \"/>\n<text text-anchor=\"middle\" x=\"155\" y=\"-69.8\" font-family=\"Times,serif\" font-size=\"14.00\">grad &#45;1.5000</text>\n</g>\n<!-- 132486723051888* -->\n<g id=\"node11\" class=\"node\">\n<title>132486723051888*</title>\n<ellipse fill=\"none\" stroke=\"black\" cx=\"263\" cy=\"-73.5\" rx=\"27\" ry=\"18\"/>\n<text text-anchor=\"middle\" x=\"263\" y=\"-69.8\" font-family=\"Times,serif\" font-size=\"14.00\">*</text>\n</g>\n<!-- 132486723054720&#45;&gt;132486723051888* -->\n<g id=\"edge8\" class=\"edge\">\n<title>132486723054720&#45;&gt;132486723051888*</title>\n<path fill=\"none\" stroke=\"black\" d=\"M198.37,-73.5C208.05,-73.5 217.4,-73.5 225.8,-73.5\"/>\n<polygon fill=\"black\" stroke=\"black\" points=\"225.91,-77 235.91,-73.5 225.91,-70 225.91,-77\"/>\n</g>\n<!-- 132486723047088 -->\n<g id=\"node5\" class=\"node\">\n<title>132486723047088</title>\n<polygon fill=\"none\" stroke=\"black\" points=\"1071,-109.5 1071,-145.5 1256,-145.5 1256,-109.5 1071,-109.5\"/>\n<text text-anchor=\"middle\" x=\"1082.5\" y=\"-123.8\" font-family=\"Times,serif\" font-size=\"14.00\">n</text>\n<polyline fill=\"none\" stroke=\"black\" points=\"1094,-109.5 1094,-145.5 \"/>\n<text text-anchor=\"middle\" x=\"1134\" y=\"-123.8\" font-family=\"Times,serif\" font-size=\"14.00\">data 0.8814</text>\n<polyline fill=\"none\" stroke=\"black\" points=\"1174,-109.5 1174,-145.5 \"/>\n<text text-anchor=\"middle\" x=\"1215\" y=\"-123.8\" font-family=\"Times,serif\" font-size=\"14.00\">grad 0.5000</text>\n</g>\n<!-- 132486723047088&#45;&gt;132486724951040tanh -->\n<g id=\"edge12\" class=\"edge\">\n<title>132486723047088&#45;&gt;132486724951040tanh</title>\n<path fill=\"none\" stroke=\"black\" d=\"M1256.01,-127.5C1265.01,-127.5 1273.74,-127.5 1281.66,-127.5\"/>\n<polygon fill=\"black\" stroke=\"black\" points=\"1281.91,-131 1291.91,-127.5 1281.91,-124 1281.91,-131\"/>\n</g>\n<!-- 132486723047088+ -->\n<g id=\"node6\" class=\"node\">\n<title>132486723047088+</title>\n<ellipse fill=\"none\" stroke=\"black\" cx=\"1008\" cy=\"-127.5\" rx=\"27\" ry=\"18\"/>\n<text text-anchor=\"middle\" x=\"1008\" y=\"-123.8\" font-family=\"Times,serif\" font-size=\"14.00\">+</text>\n</g>\n<!-- 132486723047088+&#45;&gt;132486723047088 -->\n<g id=\"edge2\" class=\"edge\">\n<title>132486723047088+&#45;&gt;132486723047088</title>\n<path fill=\"none\" stroke=\"black\" d=\"M1035.04,-127.5C1042.58,-127.5 1051.3,-127.5 1060.57,-127.5\"/>\n<polygon fill=\"black\" stroke=\"black\" points=\"1060.81,-131 1070.81,-127.5 1060.81,-124 1060.81,-131\"/>\n</g>\n<!-- 132486723047136 -->\n<g id=\"node7\" class=\"node\">\n<title>132486723047136</title>\n<polygon fill=\"none\" stroke=\"black\" points=\"328.5,-110.5 328.5,-146.5 543.5,-146.5 543.5,-110.5 328.5,-110.5\"/>\n<text text-anchor=\"middle\" x=\"355\" y=\"-124.8\" font-family=\"Times,serif\" font-size=\"14.00\">x2*w2</text>\n<polyline fill=\"none\" stroke=\"black\" points=\"381.5,-110.5 381.5,-146.5 \"/>\n<text text-anchor=\"middle\" x=\"421.5\" y=\"-124.8\" font-family=\"Times,serif\" font-size=\"14.00\">data 0.0000</text>\n<polyline fill=\"none\" stroke=\"black\" points=\"461.5,-110.5 461.5,-146.5 \"/>\n<text text-anchor=\"middle\" x=\"502.5\" y=\"-124.8\" font-family=\"Times,serif\" font-size=\"14.00\">grad 0.5000</text>\n</g>\n<!-- 132486723043728+ -->\n<g id=\"node14\" class=\"node\">\n<title>132486723043728+</title>\n<ellipse fill=\"none\" stroke=\"black\" cx=\"609\" cy=\"-100.5\" rx=\"27\" ry=\"18\"/>\n<text text-anchor=\"middle\" x=\"609\" y=\"-96.8\" font-family=\"Times,serif\" font-size=\"14.00\">+</text>\n</g>\n<!-- 132486723047136&#45;&gt;132486723043728+ -->\n<g id=\"edge7\" class=\"edge\">\n<title>132486723047136&#45;&gt;132486723043728+</title>\n<path fill=\"none\" stroke=\"black\" d=\"M543.84,-111.01C554.01,-109.34 563.76,-107.74 572.44,-106.32\"/>\n<polygon fill=\"black\" stroke=\"black\" points=\"573.17,-109.75 582.47,-104.68 572.04,-102.84 573.17,-109.75\"/>\n</g>\n<!-- 132486723047136*&#45;&gt;132486723047136 -->\n<g id=\"edge3\" class=\"edge\">\n<title>132486723047136*&#45;&gt;132486723047136</title>\n<path fill=\"none\" stroke=\"black\" d=\"M290.34,-128.5C298.51,-128.5 308.08,-128.5 318.36,-128.5\"/>\n<polygon fill=\"black\" stroke=\"black\" points=\"318.39,-132 328.39,-128.5 318.39,-125 318.39,-132\"/>\n</g>\n<!-- 132486723058464 -->\n<g id=\"node9\" class=\"node\">\n<title>132486723058464</title>\n<polygon fill=\"none\" stroke=\"black\" points=\"0,-0.5 0,-36.5 200,-36.5 200,-0.5 0,-0.5\"/>\n<text text-anchor=\"middle\" x=\"16.5\" y=\"-14.8\" font-family=\"Times,serif\" font-size=\"14.00\">w1</text>\n<polyline fill=\"none\" stroke=\"black\" points=\"33,-0.5 33,-36.5 \"/>\n<text text-anchor=\"middle\" x=\"75.5\" y=\"-14.8\" font-family=\"Times,serif\" font-size=\"14.00\">data &#45;3.0000</text>\n<polyline fill=\"none\" stroke=\"black\" points=\"118,-0.5 118,-36.5 \"/>\n<text text-anchor=\"middle\" x=\"159\" y=\"-14.8\" font-family=\"Times,serif\" font-size=\"14.00\">grad 1.0000</text>\n</g>\n<!-- 132486723058464&#45;&gt;132486723051888* -->\n<g id=\"edge11\" class=\"edge\">\n<title>132486723058464&#45;&gt;132486723051888*</title>\n<path fill=\"none\" stroke=\"black\" d=\"M169.28,-36.5C179.65,-39.61 190.16,-42.98 200,-46.5 210.28,-50.17 221.28,-54.74 231.11,-59.07\"/>\n<polygon fill=\"black\" stroke=\"black\" points=\"229.93,-62.37 240.48,-63.27 232.79,-55.99 229.93,-62.37\"/>\n</g>\n<!-- 132486723051888 -->\n<g id=\"node10\" class=\"node\">\n<title>132486723051888</title>\n<polygon fill=\"none\" stroke=\"black\" points=\"326,-55.5 326,-91.5 546,-91.5 546,-55.5 326,-55.5\"/>\n<text text-anchor=\"middle\" x=\"352.5\" y=\"-69.8\" font-family=\"Times,serif\" font-size=\"14.00\">x1*w1</text>\n<polyline fill=\"none\" stroke=\"black\" points=\"379,-55.5 379,-91.5 \"/>\n<text text-anchor=\"middle\" x=\"421.5\" y=\"-69.8\" font-family=\"Times,serif\" font-size=\"14.00\">data &#45;6.0000</text>\n<polyline fill=\"none\" stroke=\"black\" points=\"464,-55.5 464,-91.5 \"/>\n<text text-anchor=\"middle\" x=\"505\" y=\"-69.8\" font-family=\"Times,serif\" font-size=\"14.00\">grad 0.5000</text>\n</g>\n<!-- 132486723051888&#45;&gt;132486723043728+ -->\n<g id=\"edge6\" class=\"edge\">\n<title>132486723051888&#45;&gt;132486723043728+</title>\n<path fill=\"none\" stroke=\"black\" d=\"M546.27,-90.75C555.64,-92.23 564.6,-93.65 572.65,-94.92\"/>\n<polygon fill=\"black\" stroke=\"black\" points=\"572.23,-98.4 582.65,-96.5 573.32,-91.48 572.23,-98.4\"/>\n</g>\n<!-- 132486723051888*&#45;&gt;132486723051888 -->\n<g id=\"edge4\" class=\"edge\">\n<title>132486723051888*&#45;&gt;132486723051888</title>\n<path fill=\"none\" stroke=\"black\" d=\"M290.34,-73.5C297.77,-73.5 306.37,-73.5 315.6,-73.5\"/>\n<polygon fill=\"black\" stroke=\"black\" points=\"315.84,-77 325.84,-73.5 315.84,-70 315.84,-77\"/>\n</g>\n<!-- 132486723053952 -->\n<g id=\"node12\" class=\"node\">\n<title>132486723053952</title>\n<polygon fill=\"none\" stroke=\"black\" points=\"716,-137.5 716,-173.5 901,-173.5 901,-137.5 716,-137.5\"/>\n<text text-anchor=\"middle\" x=\"727.5\" y=\"-151.8\" font-family=\"Times,serif\" font-size=\"14.00\">b</text>\n<polyline fill=\"none\" stroke=\"black\" points=\"739,-137.5 739,-173.5 \"/>\n<text text-anchor=\"middle\" x=\"779\" y=\"-151.8\" font-family=\"Times,serif\" font-size=\"14.00\">data 6.8814</text>\n<polyline fill=\"none\" stroke=\"black\" points=\"819,-137.5 819,-173.5 \"/>\n<text text-anchor=\"middle\" x=\"860\" y=\"-151.8\" font-family=\"Times,serif\" font-size=\"14.00\">grad 0.5000</text>\n</g>\n<!-- 132486723053952&#45;&gt;132486723047088+ -->\n<g id=\"edge9\" class=\"edge\">\n<title>132486723053952&#45;&gt;132486723047088+</title>\n<path fill=\"none\" stroke=\"black\" d=\"M901.02,-142.52C926,-138.98 951.59,-135.36 971.37,-132.55\"/>\n<polygon fill=\"black\" stroke=\"black\" points=\"972.03,-135.99 981.43,-131.12 971.04,-129.06 972.03,-135.99\"/>\n</g>\n<!-- 132486723043728 -->\n<g id=\"node13\" class=\"node\">\n<title>132486723043728</title>\n<polygon fill=\"none\" stroke=\"black\" points=\"672,-82.5 672,-118.5 945,-118.5 945,-82.5 672,-82.5\"/>\n<text text-anchor=\"middle\" x=\"725\" y=\"-96.8\" font-family=\"Times,serif\" font-size=\"14.00\">x1*w1 + x2*w2</text>\n<polyline fill=\"none\" stroke=\"black\" points=\"778,-82.5 778,-118.5 \"/>\n<text text-anchor=\"middle\" x=\"820.5\" y=\"-96.8\" font-family=\"Times,serif\" font-size=\"14.00\">data &#45;6.0000</text>\n<polyline fill=\"none\" stroke=\"black\" points=\"863,-82.5 863,-118.5 \"/>\n<text text-anchor=\"middle\" x=\"904\" y=\"-96.8\" font-family=\"Times,serif\" font-size=\"14.00\">grad 0.5000</text>\n</g>\n<!-- 132486723043728&#45;&gt;132486723047088+ -->\n<g id=\"edge14\" class=\"edge\">\n<title>132486723043728&#45;&gt;132486723047088+</title>\n<path fill=\"none\" stroke=\"black\" d=\"M941.24,-118.51C952.12,-120 962.4,-121.4 971.45,-122.64\"/>\n<polygon fill=\"black\" stroke=\"black\" points=\"971.11,-126.13 981.49,-124.01 972.05,-119.19 971.11,-126.13\"/>\n</g>\n<!-- 132486723043728+&#45;&gt;132486723043728 -->\n<g id=\"edge5\" class=\"edge\">\n<title>132486723043728+&#45;&gt;132486723043728</title>\n<path fill=\"none\" stroke=\"black\" d=\"M636.23,-100.5C643.7,-100.5 652.41,-100.5 661.87,-100.5\"/>\n<polygon fill=\"black\" stroke=\"black\" points=\"661.98,-104 671.98,-100.5 661.98,-97 661.98,-104\"/>\n</g>\n<!-- 132486723059184 -->\n<g id=\"node15\" class=\"node\">\n<title>132486723059184</title>\n<polygon fill=\"none\" stroke=\"black\" points=\"4,-110.5 4,-146.5 196,-146.5 196,-110.5 4,-110.5\"/>\n<text text-anchor=\"middle\" x=\"19\" y=\"-124.8\" font-family=\"Times,serif\" font-size=\"14.00\">x2</text>\n<polyline fill=\"none\" stroke=\"black\" points=\"34,-110.5 34,-146.5 \"/>\n<text text-anchor=\"middle\" x=\"74\" y=\"-124.8\" font-family=\"Times,serif\" font-size=\"14.00\">data 0.0000</text>\n<polyline fill=\"none\" stroke=\"black\" points=\"114,-110.5 114,-146.5 \"/>\n<text text-anchor=\"middle\" x=\"155\" y=\"-124.8\" font-family=\"Times,serif\" font-size=\"14.00\">grad 0.5000</text>\n</g>\n<!-- 132486723059184&#45;&gt;132486723047136* -->\n<g id=\"edge10\" class=\"edge\">\n<title>132486723059184&#45;&gt;132486723047136*</title>\n<path fill=\"none\" stroke=\"black\" d=\"M196.05,-128.5C206.52,-128.5 216.65,-128.5 225.71,-128.5\"/>\n<polygon fill=\"black\" stroke=\"black\" points=\"225.79,-132 235.79,-128.5 225.79,-125 225.79,-132\"/>\n</g>\n</g>\n</svg>\n",
            "text/plain": [
              "<graphviz.graphs.Digraph at 0x787ef81095d0>"
            ]
          },
          "metadata": {},
          "execution_count": 54
        }
      ]
    },
    {
      "cell_type": "markdown",
      "source": [
        "We did backpropagation manually till now. But Let's implement it in Value class to automatically perform the operations."
      ],
      "metadata": {
        "id": "LwEA_JlQ9bNb"
      }
    },
    {
      "cell_type": "code",
      "source": [
        "class Value:\n",
        "\n",
        "    def __init__(self, data, _children = (), _op = '', label = ''):\n",
        "        self.data = data\n",
        "        self.grad = 0\n",
        "        self._backward = lambda: None\n",
        "        self._prev = set(_children)\n",
        "        self._op = _op\n",
        "        self.label = label\n",
        "\n",
        "    def __repr__(self):\n",
        "        return f\"Value(data={self.data})\"\n",
        "\n",
        "\n",
        "\n",
        "    def __add__(self, other):\n",
        "        out = Value(self.data + other.data, (self, other), '+')\n",
        "\n",
        "        def _backward():\n",
        "            self.grad = 1.0 * out.grad\n",
        "            other.grad = 1.0 * out.grad\n",
        "\n",
        "        out._backward = _backward\n",
        "        return out\n",
        "\n",
        "    def __mul__(self, other):\n",
        "        out = Value(self.data * other.data, (self, other), '*')\n",
        "\n",
        "        def _backward():\n",
        "            self.grad = other.data * out.grad\n",
        "            other.grad = self.data * out.grad\n",
        "\n",
        "        out._backward = _backward\n",
        "        return out\n",
        "\n",
        "    def tanh(self):\n",
        "        x = self.data\n",
        "        t = (math.exp(2*x) - 1)/(math.exp(2*x) +1)\n",
        "        out = Value(t, (self, ), 'tanh')\n",
        "\n",
        "        def _backward():\n",
        "            self.grad = (1 - t**2) * out.grad\n",
        "\n",
        "        out._backward = _backward\n",
        "        return out"
      ],
      "metadata": {
        "id": "pYE7gty6wttM"
      },
      "execution_count": 55,
      "outputs": []
    },
    {
      "cell_type": "code",
      "source": [
        "# inputs x1,x2\n",
        "x1 = Value(2.0, label='x1')\n",
        "x2 = Value(0.0, label='x2')\n",
        "# weights w1,w2\n",
        "w1 = Value(-3.0, label='w1')\n",
        "w2 = Value(1.0, label='w2')\n",
        "# bias of the neuron\n",
        "b = Value(6.8813735870195432, label='b')\n",
        "# x1*w1 + x2*w2 + b\n",
        "x1w1 = x1*w1; x1w1.label = 'x1*w1'\n",
        "x2w2 = x2*w2; x2w2.label = 'x2*w2'\n",
        "x1w1x2w2 = x1w1 + x2w2; x1w1x2w2.label = 'x1*w1 + x2*w2'\n",
        "n = x1w1x2w2 + b; n.label = 'n'\n",
        "o = n.tanh(); o.label = 'o'"
      ],
      "metadata": {
        "id": "tiTWE1Fc_GJK"
      },
      "execution_count": 56,
      "outputs": []
    },
    {
      "cell_type": "code",
      "source": [
        "draw_dot(o)"
      ],
      "metadata": {
        "colab": {
          "base_uri": "https://localhost:8080/",
          "height": 321
        },
        "id": "FUki3tYs_Jkx",
        "outputId": "67c46a7f-5f26-4daa-f795-c600bddd66e9"
      },
      "execution_count": 57,
      "outputs": [
        {
          "output_type": "execute_result",
          "data": {
            "image/svg+xml": "<?xml version=\"1.0\" encoding=\"UTF-8\" standalone=\"no\"?>\n<!DOCTYPE svg PUBLIC \"-//W3C//DTD SVG 1.1//EN\"\n \"http://www.w3.org/Graphics/SVG/1.1/DTD/svg11.dtd\">\n<!-- Generated by graphviz version 2.43.0 (0)\n -->\n<!-- Title: %3 Pages: 1 -->\n<svg width=\"1575pt\" height=\"210pt\"\n viewBox=\"0.00 0.00 1575.00 210.00\" xmlns=\"http://www.w3.org/2000/svg\" xmlns:xlink=\"http://www.w3.org/1999/xlink\">\n<g id=\"graph0\" class=\"graph\" transform=\"scale(1 1) rotate(0) translate(4 206)\">\n<title>%3</title>\n<polygon fill=\"white\" stroke=\"transparent\" points=\"-4,4 -4,-206 1571,-206 1571,4 -4,4\"/>\n<!-- 132486723170848 -->\n<g id=\"node1\" class=\"node\">\n<title>132486723170848</title>\n<polygon fill=\"none\" stroke=\"black\" points=\"716,-137.5 716,-173.5 901,-173.5 901,-137.5 716,-137.5\"/>\n<text text-anchor=\"middle\" x=\"727.5\" y=\"-151.8\" font-family=\"Times,serif\" font-size=\"14.00\">b</text>\n<polyline fill=\"none\" stroke=\"black\" points=\"739,-137.5 739,-173.5 \"/>\n<text text-anchor=\"middle\" x=\"779\" y=\"-151.8\" font-family=\"Times,serif\" font-size=\"14.00\">data 6.8814</text>\n<polyline fill=\"none\" stroke=\"black\" points=\"819,-137.5 819,-173.5 \"/>\n<text text-anchor=\"middle\" x=\"860\" y=\"-151.8\" font-family=\"Times,serif\" font-size=\"14.00\">grad 0.0000</text>\n</g>\n<!-- 132486723170752+ -->\n<g id=\"node15\" class=\"node\">\n<title>132486723170752+</title>\n<ellipse fill=\"none\" stroke=\"black\" cx=\"1008\" cy=\"-127.5\" rx=\"27\" ry=\"18\"/>\n<text text-anchor=\"middle\" x=\"1008\" y=\"-123.8\" font-family=\"Times,serif\" font-size=\"14.00\">+</text>\n</g>\n<!-- 132486723170848&#45;&gt;132486723170752+ -->\n<g id=\"edge7\" class=\"edge\">\n<title>132486723170848&#45;&gt;132486723170752+</title>\n<path fill=\"none\" stroke=\"black\" d=\"M901.02,-142.52C926,-138.98 951.59,-135.36 971.37,-132.55\"/>\n<polygon fill=\"black\" stroke=\"black\" points=\"972.03,-135.99 981.43,-131.12 971.04,-129.06 972.03,-135.99\"/>\n</g>\n<!-- 132486723170416 -->\n<g id=\"node2\" class=\"node\">\n<title>132486723170416</title>\n<polygon fill=\"none\" stroke=\"black\" points=\"1382,-109.5 1382,-145.5 1567,-145.5 1567,-109.5 1382,-109.5\"/>\n<text text-anchor=\"middle\" x=\"1393.5\" y=\"-123.8\" font-family=\"Times,serif\" font-size=\"14.00\">o</text>\n<polyline fill=\"none\" stroke=\"black\" points=\"1405,-109.5 1405,-145.5 \"/>\n<text text-anchor=\"middle\" x=\"1445\" y=\"-123.8\" font-family=\"Times,serif\" font-size=\"14.00\">data 0.7071</text>\n<polyline fill=\"none\" stroke=\"black\" points=\"1485,-109.5 1485,-145.5 \"/>\n<text text-anchor=\"middle\" x=\"1526\" y=\"-123.8\" font-family=\"Times,serif\" font-size=\"14.00\">grad 0.0000</text>\n</g>\n<!-- 132486723170416tanh -->\n<g id=\"node3\" class=\"node\">\n<title>132486723170416tanh</title>\n<ellipse fill=\"none\" stroke=\"black\" cx=\"1319\" cy=\"-127.5\" rx=\"27\" ry=\"18\"/>\n<text text-anchor=\"middle\" x=\"1319\" y=\"-123.8\" font-family=\"Times,serif\" font-size=\"14.00\">tanh</text>\n</g>\n<!-- 132486723170416tanh&#45;&gt;132486723170416 -->\n<g id=\"edge1\" class=\"edge\">\n<title>132486723170416tanh&#45;&gt;132486723170416</title>\n<path fill=\"none\" stroke=\"black\" d=\"M1346.04,-127.5C1353.58,-127.5 1362.3,-127.5 1371.57,-127.5\"/>\n<polygon fill=\"black\" stroke=\"black\" points=\"1371.81,-131 1381.81,-127.5 1371.81,-124 1371.81,-131\"/>\n</g>\n<!-- 132486723173584 -->\n<g id=\"node4\" class=\"node\">\n<title>132486723173584</title>\n<polygon fill=\"none\" stroke=\"black\" points=\"672,-82.5 672,-118.5 945,-118.5 945,-82.5 672,-82.5\"/>\n<text text-anchor=\"middle\" x=\"725\" y=\"-96.8\" font-family=\"Times,serif\" font-size=\"14.00\">x1*w1 + x2*w2</text>\n<polyline fill=\"none\" stroke=\"black\" points=\"778,-82.5 778,-118.5 \"/>\n<text text-anchor=\"middle\" x=\"820.5\" y=\"-96.8\" font-family=\"Times,serif\" font-size=\"14.00\">data &#45;6.0000</text>\n<polyline fill=\"none\" stroke=\"black\" points=\"863,-82.5 863,-118.5 \"/>\n<text text-anchor=\"middle\" x=\"904\" y=\"-96.8\" font-family=\"Times,serif\" font-size=\"14.00\">grad 0.0000</text>\n</g>\n<!-- 132486723173584&#45;&gt;132486723170752+ -->\n<g id=\"edge11\" class=\"edge\">\n<title>132486723173584&#45;&gt;132486723170752+</title>\n<path fill=\"none\" stroke=\"black\" d=\"M941.24,-118.51C952.12,-120 962.4,-121.4 971.45,-122.64\"/>\n<polygon fill=\"black\" stroke=\"black\" points=\"971.11,-126.13 981.49,-124.01 972.05,-119.19 971.11,-126.13\"/>\n</g>\n<!-- 132486723173584+ -->\n<g id=\"node5\" class=\"node\">\n<title>132486723173584+</title>\n<ellipse fill=\"none\" stroke=\"black\" cx=\"609\" cy=\"-100.5\" rx=\"27\" ry=\"18\"/>\n<text text-anchor=\"middle\" x=\"609\" y=\"-96.8\" font-family=\"Times,serif\" font-size=\"14.00\">+</text>\n</g>\n<!-- 132486723173584+&#45;&gt;132486723173584 -->\n<g id=\"edge2\" class=\"edge\">\n<title>132486723173584+&#45;&gt;132486723173584</title>\n<path fill=\"none\" stroke=\"black\" d=\"M636.23,-100.5C643.7,-100.5 652.41,-100.5 661.87,-100.5\"/>\n<polygon fill=\"black\" stroke=\"black\" points=\"661.98,-104 671.98,-100.5 661.98,-97 661.98,-104\"/>\n</g>\n<!-- 132486723160288 -->\n<g id=\"node6\" class=\"node\">\n<title>132486723160288</title>\n<polygon fill=\"none\" stroke=\"black\" points=\"4,-55.5 4,-91.5 196,-91.5 196,-55.5 4,-55.5\"/>\n<text text-anchor=\"middle\" x=\"19\" y=\"-69.8\" font-family=\"Times,serif\" font-size=\"14.00\">x2</text>\n<polyline fill=\"none\" stroke=\"black\" points=\"34,-55.5 34,-91.5 \"/>\n<text text-anchor=\"middle\" x=\"74\" y=\"-69.8\" font-family=\"Times,serif\" font-size=\"14.00\">data 0.0000</text>\n<polyline fill=\"none\" stroke=\"black\" points=\"114,-55.5 114,-91.5 \"/>\n<text text-anchor=\"middle\" x=\"155\" y=\"-69.8\" font-family=\"Times,serif\" font-size=\"14.00\">grad 0.0000</text>\n</g>\n<!-- 132486723171232* -->\n<g id=\"node13\" class=\"node\">\n<title>132486723171232*</title>\n<ellipse fill=\"none\" stroke=\"black\" cx=\"263\" cy=\"-73.5\" rx=\"27\" ry=\"18\"/>\n<text text-anchor=\"middle\" x=\"263\" y=\"-69.8\" font-family=\"Times,serif\" font-size=\"14.00\">*</text>\n</g>\n<!-- 132486723160288&#45;&gt;132486723171232* -->\n<g id=\"edge10\" class=\"edge\">\n<title>132486723160288&#45;&gt;132486723171232*</title>\n<path fill=\"none\" stroke=\"black\" d=\"M196.05,-73.5C206.52,-73.5 216.65,-73.5 225.71,-73.5\"/>\n<polygon fill=\"black\" stroke=\"black\" points=\"225.79,-77 235.79,-73.5 225.79,-70 225.79,-77\"/>\n</g>\n<!-- 132486723168016 -->\n<g id=\"node7\" class=\"node\">\n<title>132486723168016</title>\n<polygon fill=\"none\" stroke=\"black\" points=\"4,-165.5 4,-201.5 196,-201.5 196,-165.5 4,-165.5\"/>\n<text text-anchor=\"middle\" x=\"19\" y=\"-179.8\" font-family=\"Times,serif\" font-size=\"14.00\">x1</text>\n<polyline fill=\"none\" stroke=\"black\" points=\"34,-165.5 34,-201.5 \"/>\n<text text-anchor=\"middle\" x=\"74\" y=\"-179.8\" font-family=\"Times,serif\" font-size=\"14.00\">data 2.0000</text>\n<polyline fill=\"none\" stroke=\"black\" points=\"114,-165.5 114,-201.5 \"/>\n<text text-anchor=\"middle\" x=\"155\" y=\"-179.8\" font-family=\"Times,serif\" font-size=\"14.00\">grad 0.0000</text>\n</g>\n<!-- 132486723173680* -->\n<g id=\"node9\" class=\"node\">\n<title>132486723173680*</title>\n<ellipse fill=\"none\" stroke=\"black\" cx=\"263\" cy=\"-128.5\" rx=\"27\" ry=\"18\"/>\n<text text-anchor=\"middle\" x=\"263\" y=\"-124.8\" font-family=\"Times,serif\" font-size=\"14.00\">*</text>\n</g>\n<!-- 132486723168016&#45;&gt;132486723173680* -->\n<g id=\"edge13\" class=\"edge\">\n<title>132486723168016&#45;&gt;132486723173680*</title>\n<path fill=\"none\" stroke=\"black\" d=\"M172.53,-165.44C181.84,-162.67 191.2,-159.67 200,-156.5 210.53,-152.71 221.75,-147.9 231.72,-143.33\"/>\n<polygon fill=\"black\" stroke=\"black\" points=\"233.25,-146.48 240.82,-139.07 230.28,-140.14 233.25,-146.48\"/>\n</g>\n<!-- 132486723173680 -->\n<g id=\"node8\" class=\"node\">\n<title>132486723173680</title>\n<polygon fill=\"none\" stroke=\"black\" points=\"326,-110.5 326,-146.5 546,-146.5 546,-110.5 326,-110.5\"/>\n<text text-anchor=\"middle\" x=\"352.5\" y=\"-124.8\" font-family=\"Times,serif\" font-size=\"14.00\">x1*w1</text>\n<polyline fill=\"none\" stroke=\"black\" points=\"379,-110.5 379,-146.5 \"/>\n<text text-anchor=\"middle\" x=\"421.5\" y=\"-124.8\" font-family=\"Times,serif\" font-size=\"14.00\">data &#45;6.0000</text>\n<polyline fill=\"none\" stroke=\"black\" points=\"464,-110.5 464,-146.5 \"/>\n<text text-anchor=\"middle\" x=\"505\" y=\"-124.8\" font-family=\"Times,serif\" font-size=\"14.00\">grad 0.0000</text>\n</g>\n<!-- 132486723173680&#45;&gt;132486723173584+ -->\n<g id=\"edge8\" class=\"edge\">\n<title>132486723173680&#45;&gt;132486723173584+</title>\n<path fill=\"none\" stroke=\"black\" d=\"M546.27,-110.61C555.64,-109.07 564.6,-107.61 572.65,-106.29\"/>\n<polygon fill=\"black\" stroke=\"black\" points=\"573.35,-109.72 582.65,-104.65 572.22,-102.81 573.35,-109.72\"/>\n</g>\n<!-- 132486723173680*&#45;&gt;132486723173680 -->\n<g id=\"edge3\" class=\"edge\">\n<title>132486723173680*&#45;&gt;132486723173680</title>\n<path fill=\"none\" stroke=\"black\" d=\"M290.34,-128.5C297.77,-128.5 306.37,-128.5 315.6,-128.5\"/>\n<polygon fill=\"black\" stroke=\"black\" points=\"315.84,-132 325.84,-128.5 315.84,-125 315.84,-132\"/>\n</g>\n<!-- 132486723169600 -->\n<g id=\"node10\" class=\"node\">\n<title>132486723169600</title>\n<polygon fill=\"none\" stroke=\"black\" points=\"0,-110.5 0,-146.5 200,-146.5 200,-110.5 0,-110.5\"/>\n<text text-anchor=\"middle\" x=\"16.5\" y=\"-124.8\" font-family=\"Times,serif\" font-size=\"14.00\">w1</text>\n<polyline fill=\"none\" stroke=\"black\" points=\"33,-110.5 33,-146.5 \"/>\n<text text-anchor=\"middle\" x=\"75.5\" y=\"-124.8\" font-family=\"Times,serif\" font-size=\"14.00\">data &#45;3.0000</text>\n<polyline fill=\"none\" stroke=\"black\" points=\"118,-110.5 118,-146.5 \"/>\n<text text-anchor=\"middle\" x=\"159\" y=\"-124.8\" font-family=\"Times,serif\" font-size=\"14.00\">grad 0.0000</text>\n</g>\n<!-- 132486723169600&#45;&gt;132486723173680* -->\n<g id=\"edge6\" class=\"edge\">\n<title>132486723169600&#45;&gt;132486723173680*</title>\n<path fill=\"none\" stroke=\"black\" d=\"M200.21,-128.5C209.2,-128.5 217.86,-128.5 225.7,-128.5\"/>\n<polygon fill=\"black\" stroke=\"black\" points=\"225.85,-132 235.85,-128.5 225.85,-125 225.85,-132\"/>\n</g>\n<!-- 132486723170128 -->\n<g id=\"node11\" class=\"node\">\n<title>132486723170128</title>\n<polygon fill=\"none\" stroke=\"black\" points=\"2.5,-0.5 2.5,-36.5 197.5,-36.5 197.5,-0.5 2.5,-0.5\"/>\n<text text-anchor=\"middle\" x=\"19\" y=\"-14.8\" font-family=\"Times,serif\" font-size=\"14.00\">w2</text>\n<polyline fill=\"none\" stroke=\"black\" points=\"35.5,-0.5 35.5,-36.5 \"/>\n<text text-anchor=\"middle\" x=\"75.5\" y=\"-14.8\" font-family=\"Times,serif\" font-size=\"14.00\">data 1.0000</text>\n<polyline fill=\"none\" stroke=\"black\" points=\"115.5,-0.5 115.5,-36.5 \"/>\n<text text-anchor=\"middle\" x=\"156.5\" y=\"-14.8\" font-family=\"Times,serif\" font-size=\"14.00\">grad 0.0000</text>\n</g>\n<!-- 132486723170128&#45;&gt;132486723171232* -->\n<g id=\"edge14\" class=\"edge\">\n<title>132486723170128&#45;&gt;132486723171232*</title>\n<path fill=\"none\" stroke=\"black\" d=\"M169.28,-36.5C179.65,-39.61 190.16,-42.98 200,-46.5 210.28,-50.17 221.28,-54.74 231.11,-59.07\"/>\n<polygon fill=\"black\" stroke=\"black\" points=\"229.93,-62.37 240.48,-63.27 232.79,-55.99 229.93,-62.37\"/>\n</g>\n<!-- 132486723171232 -->\n<g id=\"node12\" class=\"node\">\n<title>132486723171232</title>\n<polygon fill=\"none\" stroke=\"black\" points=\"328.5,-55.5 328.5,-91.5 543.5,-91.5 543.5,-55.5 328.5,-55.5\"/>\n<text text-anchor=\"middle\" x=\"355\" y=\"-69.8\" font-family=\"Times,serif\" font-size=\"14.00\">x2*w2</text>\n<polyline fill=\"none\" stroke=\"black\" points=\"381.5,-55.5 381.5,-91.5 \"/>\n<text text-anchor=\"middle\" x=\"421.5\" y=\"-69.8\" font-family=\"Times,serif\" font-size=\"14.00\">data 0.0000</text>\n<polyline fill=\"none\" stroke=\"black\" points=\"461.5,-55.5 461.5,-91.5 \"/>\n<text text-anchor=\"middle\" x=\"502.5\" y=\"-69.8\" font-family=\"Times,serif\" font-size=\"14.00\">grad 0.0000</text>\n</g>\n<!-- 132486723171232&#45;&gt;132486723173584+ -->\n<g id=\"edge12\" class=\"edge\">\n<title>132486723171232&#45;&gt;132486723173584+</title>\n<path fill=\"none\" stroke=\"black\" d=\"M543.84,-90.37C554.01,-91.98 563.76,-93.51 572.44,-94.89\"/>\n<polygon fill=\"black\" stroke=\"black\" points=\"572.05,-98.37 582.47,-96.47 573.14,-91.45 572.05,-98.37\"/>\n</g>\n<!-- 132486723171232*&#45;&gt;132486723171232 -->\n<g id=\"edge4\" class=\"edge\">\n<title>132486723171232*&#45;&gt;132486723171232</title>\n<path fill=\"none\" stroke=\"black\" d=\"M290.34,-73.5C298.51,-73.5 308.08,-73.5 318.36,-73.5\"/>\n<polygon fill=\"black\" stroke=\"black\" points=\"318.39,-77 328.39,-73.5 318.39,-70 318.39,-77\"/>\n</g>\n<!-- 132486723170752 -->\n<g id=\"node14\" class=\"node\">\n<title>132486723170752</title>\n<polygon fill=\"none\" stroke=\"black\" points=\"1071,-109.5 1071,-145.5 1256,-145.5 1256,-109.5 1071,-109.5\"/>\n<text text-anchor=\"middle\" x=\"1082.5\" y=\"-123.8\" font-family=\"Times,serif\" font-size=\"14.00\">n</text>\n<polyline fill=\"none\" stroke=\"black\" points=\"1094,-109.5 1094,-145.5 \"/>\n<text text-anchor=\"middle\" x=\"1134\" y=\"-123.8\" font-family=\"Times,serif\" font-size=\"14.00\">data 0.8814</text>\n<polyline fill=\"none\" stroke=\"black\" points=\"1174,-109.5 1174,-145.5 \"/>\n<text text-anchor=\"middle\" x=\"1215\" y=\"-123.8\" font-family=\"Times,serif\" font-size=\"14.00\">grad 0.0000</text>\n</g>\n<!-- 132486723170752&#45;&gt;132486723170416tanh -->\n<g id=\"edge9\" class=\"edge\">\n<title>132486723170752&#45;&gt;132486723170416tanh</title>\n<path fill=\"none\" stroke=\"black\" d=\"M1256.01,-127.5C1265.01,-127.5 1273.74,-127.5 1281.66,-127.5\"/>\n<polygon fill=\"black\" stroke=\"black\" points=\"1281.91,-131 1291.91,-127.5 1281.91,-124 1281.91,-131\"/>\n</g>\n<!-- 132486723170752+&#45;&gt;132486723170752 -->\n<g id=\"edge5\" class=\"edge\">\n<title>132486723170752+&#45;&gt;132486723170752</title>\n<path fill=\"none\" stroke=\"black\" d=\"M1035.04,-127.5C1042.58,-127.5 1051.3,-127.5 1060.57,-127.5\"/>\n<polygon fill=\"black\" stroke=\"black\" points=\"1060.81,-131 1070.81,-127.5 1060.81,-124 1060.81,-131\"/>\n</g>\n</g>\n</svg>\n",
            "text/plain": [
              "<graphviz.graphs.Digraph at 0x787ef8124940>"
            ]
          },
          "metadata": {},
          "execution_count": 57
        }
      ]
    },
    {
      "cell_type": "markdown",
      "source": [
        "Now, we have instantiated the operation again. But this time, <br>\n",
        "we do not need to set the gradients manually. Instead we can just call <br>\n",
        "`_backward()` method."
      ],
      "metadata": {
        "id": "mB8SPe5T_YMU"
      }
    },
    {
      "cell_type": "code",
      "source": [
        "# Set the base case to 1.0\n",
        "o.grad = 1.0"
      ],
      "metadata": {
        "id": "aXRVsxhn_-X0"
      },
      "execution_count": 58,
      "outputs": []
    },
    {
      "cell_type": "markdown",
      "source": [
        "Backpropagate from o to n."
      ],
      "metadata": {
        "id": "LJtUy41gAcdL"
      }
    },
    {
      "cell_type": "code",
      "source": [
        "o._backward()"
      ],
      "metadata": {
        "id": "VeIfvMC1_OG7"
      },
      "execution_count": 59,
      "outputs": []
    },
    {
      "cell_type": "markdown",
      "source": [
        "Let's visualize the graph again."
      ],
      "metadata": {
        "id": "btbC4fy9AOu_"
      }
    },
    {
      "cell_type": "code",
      "source": [
        "draw_dot(o)"
      ],
      "metadata": {
        "colab": {
          "base_uri": "https://localhost:8080/",
          "height": 321
        },
        "id": "W2b5XFRg_uHK",
        "outputId": "2997f4c2-154c-4e94-a553-cfcbb76b8ebf"
      },
      "execution_count": 60,
      "outputs": [
        {
          "output_type": "execute_result",
          "data": {
            "image/svg+xml": "<?xml version=\"1.0\" encoding=\"UTF-8\" standalone=\"no\"?>\n<!DOCTYPE svg PUBLIC \"-//W3C//DTD SVG 1.1//EN\"\n \"http://www.w3.org/Graphics/SVG/1.1/DTD/svg11.dtd\">\n<!-- Generated by graphviz version 2.43.0 (0)\n -->\n<!-- Title: %3 Pages: 1 -->\n<svg width=\"1575pt\" height=\"210pt\"\n viewBox=\"0.00 0.00 1575.00 210.00\" xmlns=\"http://www.w3.org/2000/svg\" xmlns:xlink=\"http://www.w3.org/1999/xlink\">\n<g id=\"graph0\" class=\"graph\" transform=\"scale(1 1) rotate(0) translate(4 206)\">\n<title>%3</title>\n<polygon fill=\"white\" stroke=\"transparent\" points=\"-4,4 -4,-206 1571,-206 1571,4 -4,4\"/>\n<!-- 132486723170848 -->\n<g id=\"node1\" class=\"node\">\n<title>132486723170848</title>\n<polygon fill=\"none\" stroke=\"black\" points=\"716,-137.5 716,-173.5 901,-173.5 901,-137.5 716,-137.5\"/>\n<text text-anchor=\"middle\" x=\"727.5\" y=\"-151.8\" font-family=\"Times,serif\" font-size=\"14.00\">b</text>\n<polyline fill=\"none\" stroke=\"black\" points=\"739,-137.5 739,-173.5 \"/>\n<text text-anchor=\"middle\" x=\"779\" y=\"-151.8\" font-family=\"Times,serif\" font-size=\"14.00\">data 6.8814</text>\n<polyline fill=\"none\" stroke=\"black\" points=\"819,-137.5 819,-173.5 \"/>\n<text text-anchor=\"middle\" x=\"860\" y=\"-151.8\" font-family=\"Times,serif\" font-size=\"14.00\">grad 0.0000</text>\n</g>\n<!-- 132486723170752+ -->\n<g id=\"node15\" class=\"node\">\n<title>132486723170752+</title>\n<ellipse fill=\"none\" stroke=\"black\" cx=\"1008\" cy=\"-127.5\" rx=\"27\" ry=\"18\"/>\n<text text-anchor=\"middle\" x=\"1008\" y=\"-123.8\" font-family=\"Times,serif\" font-size=\"14.00\">+</text>\n</g>\n<!-- 132486723170848&#45;&gt;132486723170752+ -->\n<g id=\"edge7\" class=\"edge\">\n<title>132486723170848&#45;&gt;132486723170752+</title>\n<path fill=\"none\" stroke=\"black\" d=\"M901.02,-142.52C926,-138.98 951.59,-135.36 971.37,-132.55\"/>\n<polygon fill=\"black\" stroke=\"black\" points=\"972.03,-135.99 981.43,-131.12 971.04,-129.06 972.03,-135.99\"/>\n</g>\n<!-- 132486723170416 -->\n<g id=\"node2\" class=\"node\">\n<title>132486723170416</title>\n<polygon fill=\"none\" stroke=\"black\" points=\"1382,-109.5 1382,-145.5 1567,-145.5 1567,-109.5 1382,-109.5\"/>\n<text text-anchor=\"middle\" x=\"1393.5\" y=\"-123.8\" font-family=\"Times,serif\" font-size=\"14.00\">o</text>\n<polyline fill=\"none\" stroke=\"black\" points=\"1405,-109.5 1405,-145.5 \"/>\n<text text-anchor=\"middle\" x=\"1445\" y=\"-123.8\" font-family=\"Times,serif\" font-size=\"14.00\">data 0.7071</text>\n<polyline fill=\"none\" stroke=\"black\" points=\"1485,-109.5 1485,-145.5 \"/>\n<text text-anchor=\"middle\" x=\"1526\" y=\"-123.8\" font-family=\"Times,serif\" font-size=\"14.00\">grad 1.0000</text>\n</g>\n<!-- 132486723170416tanh -->\n<g id=\"node3\" class=\"node\">\n<title>132486723170416tanh</title>\n<ellipse fill=\"none\" stroke=\"black\" cx=\"1319\" cy=\"-127.5\" rx=\"27\" ry=\"18\"/>\n<text text-anchor=\"middle\" x=\"1319\" y=\"-123.8\" font-family=\"Times,serif\" font-size=\"14.00\">tanh</text>\n</g>\n<!-- 132486723170416tanh&#45;&gt;132486723170416 -->\n<g id=\"edge1\" class=\"edge\">\n<title>132486723170416tanh&#45;&gt;132486723170416</title>\n<path fill=\"none\" stroke=\"black\" d=\"M1346.04,-127.5C1353.58,-127.5 1362.3,-127.5 1371.57,-127.5\"/>\n<polygon fill=\"black\" stroke=\"black\" points=\"1371.81,-131 1381.81,-127.5 1371.81,-124 1371.81,-131\"/>\n</g>\n<!-- 132486723173584 -->\n<g id=\"node4\" class=\"node\">\n<title>132486723173584</title>\n<polygon fill=\"none\" stroke=\"black\" points=\"672,-82.5 672,-118.5 945,-118.5 945,-82.5 672,-82.5\"/>\n<text text-anchor=\"middle\" x=\"725\" y=\"-96.8\" font-family=\"Times,serif\" font-size=\"14.00\">x1*w1 + x2*w2</text>\n<polyline fill=\"none\" stroke=\"black\" points=\"778,-82.5 778,-118.5 \"/>\n<text text-anchor=\"middle\" x=\"820.5\" y=\"-96.8\" font-family=\"Times,serif\" font-size=\"14.00\">data &#45;6.0000</text>\n<polyline fill=\"none\" stroke=\"black\" points=\"863,-82.5 863,-118.5 \"/>\n<text text-anchor=\"middle\" x=\"904\" y=\"-96.8\" font-family=\"Times,serif\" font-size=\"14.00\">grad 0.0000</text>\n</g>\n<!-- 132486723173584&#45;&gt;132486723170752+ -->\n<g id=\"edge11\" class=\"edge\">\n<title>132486723173584&#45;&gt;132486723170752+</title>\n<path fill=\"none\" stroke=\"black\" d=\"M941.24,-118.51C952.12,-120 962.4,-121.4 971.45,-122.64\"/>\n<polygon fill=\"black\" stroke=\"black\" points=\"971.11,-126.13 981.49,-124.01 972.05,-119.19 971.11,-126.13\"/>\n</g>\n<!-- 132486723173584+ -->\n<g id=\"node5\" class=\"node\">\n<title>132486723173584+</title>\n<ellipse fill=\"none\" stroke=\"black\" cx=\"609\" cy=\"-100.5\" rx=\"27\" ry=\"18\"/>\n<text text-anchor=\"middle\" x=\"609\" y=\"-96.8\" font-family=\"Times,serif\" font-size=\"14.00\">+</text>\n</g>\n<!-- 132486723173584+&#45;&gt;132486723173584 -->\n<g id=\"edge2\" class=\"edge\">\n<title>132486723173584+&#45;&gt;132486723173584</title>\n<path fill=\"none\" stroke=\"black\" d=\"M636.23,-100.5C643.7,-100.5 652.41,-100.5 661.87,-100.5\"/>\n<polygon fill=\"black\" stroke=\"black\" points=\"661.98,-104 671.98,-100.5 661.98,-97 661.98,-104\"/>\n</g>\n<!-- 132486723160288 -->\n<g id=\"node6\" class=\"node\">\n<title>132486723160288</title>\n<polygon fill=\"none\" stroke=\"black\" points=\"4,-55.5 4,-91.5 196,-91.5 196,-55.5 4,-55.5\"/>\n<text text-anchor=\"middle\" x=\"19\" y=\"-69.8\" font-family=\"Times,serif\" font-size=\"14.00\">x2</text>\n<polyline fill=\"none\" stroke=\"black\" points=\"34,-55.5 34,-91.5 \"/>\n<text text-anchor=\"middle\" x=\"74\" y=\"-69.8\" font-family=\"Times,serif\" font-size=\"14.00\">data 0.0000</text>\n<polyline fill=\"none\" stroke=\"black\" points=\"114,-55.5 114,-91.5 \"/>\n<text text-anchor=\"middle\" x=\"155\" y=\"-69.8\" font-family=\"Times,serif\" font-size=\"14.00\">grad 0.0000</text>\n</g>\n<!-- 132486723171232* -->\n<g id=\"node13\" class=\"node\">\n<title>132486723171232*</title>\n<ellipse fill=\"none\" stroke=\"black\" cx=\"263\" cy=\"-73.5\" rx=\"27\" ry=\"18\"/>\n<text text-anchor=\"middle\" x=\"263\" y=\"-69.8\" font-family=\"Times,serif\" font-size=\"14.00\">*</text>\n</g>\n<!-- 132486723160288&#45;&gt;132486723171232* -->\n<g id=\"edge10\" class=\"edge\">\n<title>132486723160288&#45;&gt;132486723171232*</title>\n<path fill=\"none\" stroke=\"black\" d=\"M196.05,-73.5C206.52,-73.5 216.65,-73.5 225.71,-73.5\"/>\n<polygon fill=\"black\" stroke=\"black\" points=\"225.79,-77 235.79,-73.5 225.79,-70 225.79,-77\"/>\n</g>\n<!-- 132486723168016 -->\n<g id=\"node7\" class=\"node\">\n<title>132486723168016</title>\n<polygon fill=\"none\" stroke=\"black\" points=\"4,-165.5 4,-201.5 196,-201.5 196,-165.5 4,-165.5\"/>\n<text text-anchor=\"middle\" x=\"19\" y=\"-179.8\" font-family=\"Times,serif\" font-size=\"14.00\">x1</text>\n<polyline fill=\"none\" stroke=\"black\" points=\"34,-165.5 34,-201.5 \"/>\n<text text-anchor=\"middle\" x=\"74\" y=\"-179.8\" font-family=\"Times,serif\" font-size=\"14.00\">data 2.0000</text>\n<polyline fill=\"none\" stroke=\"black\" points=\"114,-165.5 114,-201.5 \"/>\n<text text-anchor=\"middle\" x=\"155\" y=\"-179.8\" font-family=\"Times,serif\" font-size=\"14.00\">grad 0.0000</text>\n</g>\n<!-- 132486723173680* -->\n<g id=\"node9\" class=\"node\">\n<title>132486723173680*</title>\n<ellipse fill=\"none\" stroke=\"black\" cx=\"263\" cy=\"-128.5\" rx=\"27\" ry=\"18\"/>\n<text text-anchor=\"middle\" x=\"263\" y=\"-124.8\" font-family=\"Times,serif\" font-size=\"14.00\">*</text>\n</g>\n<!-- 132486723168016&#45;&gt;132486723173680* -->\n<g id=\"edge13\" class=\"edge\">\n<title>132486723168016&#45;&gt;132486723173680*</title>\n<path fill=\"none\" stroke=\"black\" d=\"M172.53,-165.44C181.84,-162.67 191.2,-159.67 200,-156.5 210.53,-152.71 221.75,-147.9 231.72,-143.33\"/>\n<polygon fill=\"black\" stroke=\"black\" points=\"233.25,-146.48 240.82,-139.07 230.28,-140.14 233.25,-146.48\"/>\n</g>\n<!-- 132486723173680 -->\n<g id=\"node8\" class=\"node\">\n<title>132486723173680</title>\n<polygon fill=\"none\" stroke=\"black\" points=\"326,-110.5 326,-146.5 546,-146.5 546,-110.5 326,-110.5\"/>\n<text text-anchor=\"middle\" x=\"352.5\" y=\"-124.8\" font-family=\"Times,serif\" font-size=\"14.00\">x1*w1</text>\n<polyline fill=\"none\" stroke=\"black\" points=\"379,-110.5 379,-146.5 \"/>\n<text text-anchor=\"middle\" x=\"421.5\" y=\"-124.8\" font-family=\"Times,serif\" font-size=\"14.00\">data &#45;6.0000</text>\n<polyline fill=\"none\" stroke=\"black\" points=\"464,-110.5 464,-146.5 \"/>\n<text text-anchor=\"middle\" x=\"505\" y=\"-124.8\" font-family=\"Times,serif\" font-size=\"14.00\">grad 0.0000</text>\n</g>\n<!-- 132486723173680&#45;&gt;132486723173584+ -->\n<g id=\"edge8\" class=\"edge\">\n<title>132486723173680&#45;&gt;132486723173584+</title>\n<path fill=\"none\" stroke=\"black\" d=\"M546.27,-110.61C555.64,-109.07 564.6,-107.61 572.65,-106.29\"/>\n<polygon fill=\"black\" stroke=\"black\" points=\"573.35,-109.72 582.65,-104.65 572.22,-102.81 573.35,-109.72\"/>\n</g>\n<!-- 132486723173680*&#45;&gt;132486723173680 -->\n<g id=\"edge3\" class=\"edge\">\n<title>132486723173680*&#45;&gt;132486723173680</title>\n<path fill=\"none\" stroke=\"black\" d=\"M290.34,-128.5C297.77,-128.5 306.37,-128.5 315.6,-128.5\"/>\n<polygon fill=\"black\" stroke=\"black\" points=\"315.84,-132 325.84,-128.5 315.84,-125 315.84,-132\"/>\n</g>\n<!-- 132486723169600 -->\n<g id=\"node10\" class=\"node\">\n<title>132486723169600</title>\n<polygon fill=\"none\" stroke=\"black\" points=\"0,-110.5 0,-146.5 200,-146.5 200,-110.5 0,-110.5\"/>\n<text text-anchor=\"middle\" x=\"16.5\" y=\"-124.8\" font-family=\"Times,serif\" font-size=\"14.00\">w1</text>\n<polyline fill=\"none\" stroke=\"black\" points=\"33,-110.5 33,-146.5 \"/>\n<text text-anchor=\"middle\" x=\"75.5\" y=\"-124.8\" font-family=\"Times,serif\" font-size=\"14.00\">data &#45;3.0000</text>\n<polyline fill=\"none\" stroke=\"black\" points=\"118,-110.5 118,-146.5 \"/>\n<text text-anchor=\"middle\" x=\"159\" y=\"-124.8\" font-family=\"Times,serif\" font-size=\"14.00\">grad 0.0000</text>\n</g>\n<!-- 132486723169600&#45;&gt;132486723173680* -->\n<g id=\"edge6\" class=\"edge\">\n<title>132486723169600&#45;&gt;132486723173680*</title>\n<path fill=\"none\" stroke=\"black\" d=\"M200.21,-128.5C209.2,-128.5 217.86,-128.5 225.7,-128.5\"/>\n<polygon fill=\"black\" stroke=\"black\" points=\"225.85,-132 235.85,-128.5 225.85,-125 225.85,-132\"/>\n</g>\n<!-- 132486723170128 -->\n<g id=\"node11\" class=\"node\">\n<title>132486723170128</title>\n<polygon fill=\"none\" stroke=\"black\" points=\"2.5,-0.5 2.5,-36.5 197.5,-36.5 197.5,-0.5 2.5,-0.5\"/>\n<text text-anchor=\"middle\" x=\"19\" y=\"-14.8\" font-family=\"Times,serif\" font-size=\"14.00\">w2</text>\n<polyline fill=\"none\" stroke=\"black\" points=\"35.5,-0.5 35.5,-36.5 \"/>\n<text text-anchor=\"middle\" x=\"75.5\" y=\"-14.8\" font-family=\"Times,serif\" font-size=\"14.00\">data 1.0000</text>\n<polyline fill=\"none\" stroke=\"black\" points=\"115.5,-0.5 115.5,-36.5 \"/>\n<text text-anchor=\"middle\" x=\"156.5\" y=\"-14.8\" font-family=\"Times,serif\" font-size=\"14.00\">grad 0.0000</text>\n</g>\n<!-- 132486723170128&#45;&gt;132486723171232* -->\n<g id=\"edge14\" class=\"edge\">\n<title>132486723170128&#45;&gt;132486723171232*</title>\n<path fill=\"none\" stroke=\"black\" d=\"M169.28,-36.5C179.65,-39.61 190.16,-42.98 200,-46.5 210.28,-50.17 221.28,-54.74 231.11,-59.07\"/>\n<polygon fill=\"black\" stroke=\"black\" points=\"229.93,-62.37 240.48,-63.27 232.79,-55.99 229.93,-62.37\"/>\n</g>\n<!-- 132486723171232 -->\n<g id=\"node12\" class=\"node\">\n<title>132486723171232</title>\n<polygon fill=\"none\" stroke=\"black\" points=\"328.5,-55.5 328.5,-91.5 543.5,-91.5 543.5,-55.5 328.5,-55.5\"/>\n<text text-anchor=\"middle\" x=\"355\" y=\"-69.8\" font-family=\"Times,serif\" font-size=\"14.00\">x2*w2</text>\n<polyline fill=\"none\" stroke=\"black\" points=\"381.5,-55.5 381.5,-91.5 \"/>\n<text text-anchor=\"middle\" x=\"421.5\" y=\"-69.8\" font-family=\"Times,serif\" font-size=\"14.00\">data 0.0000</text>\n<polyline fill=\"none\" stroke=\"black\" points=\"461.5,-55.5 461.5,-91.5 \"/>\n<text text-anchor=\"middle\" x=\"502.5\" y=\"-69.8\" font-family=\"Times,serif\" font-size=\"14.00\">grad 0.0000</text>\n</g>\n<!-- 132486723171232&#45;&gt;132486723173584+ -->\n<g id=\"edge12\" class=\"edge\">\n<title>132486723171232&#45;&gt;132486723173584+</title>\n<path fill=\"none\" stroke=\"black\" d=\"M543.84,-90.37C554.01,-91.98 563.76,-93.51 572.44,-94.89\"/>\n<polygon fill=\"black\" stroke=\"black\" points=\"572.05,-98.37 582.47,-96.47 573.14,-91.45 572.05,-98.37\"/>\n</g>\n<!-- 132486723171232*&#45;&gt;132486723171232 -->\n<g id=\"edge4\" class=\"edge\">\n<title>132486723171232*&#45;&gt;132486723171232</title>\n<path fill=\"none\" stroke=\"black\" d=\"M290.34,-73.5C298.51,-73.5 308.08,-73.5 318.36,-73.5\"/>\n<polygon fill=\"black\" stroke=\"black\" points=\"318.39,-77 328.39,-73.5 318.39,-70 318.39,-77\"/>\n</g>\n<!-- 132486723170752 -->\n<g id=\"node14\" class=\"node\">\n<title>132486723170752</title>\n<polygon fill=\"none\" stroke=\"black\" points=\"1071,-109.5 1071,-145.5 1256,-145.5 1256,-109.5 1071,-109.5\"/>\n<text text-anchor=\"middle\" x=\"1082.5\" y=\"-123.8\" font-family=\"Times,serif\" font-size=\"14.00\">n</text>\n<polyline fill=\"none\" stroke=\"black\" points=\"1094,-109.5 1094,-145.5 \"/>\n<text text-anchor=\"middle\" x=\"1134\" y=\"-123.8\" font-family=\"Times,serif\" font-size=\"14.00\">data 0.8814</text>\n<polyline fill=\"none\" stroke=\"black\" points=\"1174,-109.5 1174,-145.5 \"/>\n<text text-anchor=\"middle\" x=\"1215\" y=\"-123.8\" font-family=\"Times,serif\" font-size=\"14.00\">grad 0.5000</text>\n</g>\n<!-- 132486723170752&#45;&gt;132486723170416tanh -->\n<g id=\"edge9\" class=\"edge\">\n<title>132486723170752&#45;&gt;132486723170416tanh</title>\n<path fill=\"none\" stroke=\"black\" d=\"M1256.01,-127.5C1265.01,-127.5 1273.74,-127.5 1281.66,-127.5\"/>\n<polygon fill=\"black\" stroke=\"black\" points=\"1281.91,-131 1291.91,-127.5 1281.91,-124 1281.91,-131\"/>\n</g>\n<!-- 132486723170752+&#45;&gt;132486723170752 -->\n<g id=\"edge5\" class=\"edge\">\n<title>132486723170752+&#45;&gt;132486723170752</title>\n<path fill=\"none\" stroke=\"black\" d=\"M1035.04,-127.5C1042.58,-127.5 1051.3,-127.5 1060.57,-127.5\"/>\n<polygon fill=\"black\" stroke=\"black\" points=\"1060.81,-131 1070.81,-127.5 1060.81,-124 1060.81,-131\"/>\n</g>\n</g>\n</svg>\n",
            "text/plain": [
              "<graphviz.graphs.Digraph at 0x787ef8126470>"
            ]
          },
          "metadata": {},
          "execution_count": 60
        }
      ]
    },
    {
      "cell_type": "markdown",
      "source": [
        "Backpropagate from n to its components."
      ],
      "metadata": {
        "id": "uUnWY8pqAf00"
      }
    },
    {
      "cell_type": "code",
      "source": [
        "n._backward()"
      ],
      "metadata": {
        "id": "rlGeBjLmATD0"
      },
      "execution_count": 61,
      "outputs": []
    },
    {
      "cell_type": "code",
      "source": [
        "draw_dot(o)"
      ],
      "metadata": {
        "colab": {
          "base_uri": "https://localhost:8080/",
          "height": 321
        },
        "id": "8Yyk43NjAaeU",
        "outputId": "065c5b57-f548-400a-a918-eec315d2aebf"
      },
      "execution_count": 62,
      "outputs": [
        {
          "output_type": "execute_result",
          "data": {
            "image/svg+xml": "<?xml version=\"1.0\" encoding=\"UTF-8\" standalone=\"no\"?>\n<!DOCTYPE svg PUBLIC \"-//W3C//DTD SVG 1.1//EN\"\n \"http://www.w3.org/Graphics/SVG/1.1/DTD/svg11.dtd\">\n<!-- Generated by graphviz version 2.43.0 (0)\n -->\n<!-- Title: %3 Pages: 1 -->\n<svg width=\"1575pt\" height=\"210pt\"\n viewBox=\"0.00 0.00 1575.00 210.00\" xmlns=\"http://www.w3.org/2000/svg\" xmlns:xlink=\"http://www.w3.org/1999/xlink\">\n<g id=\"graph0\" class=\"graph\" transform=\"scale(1 1) rotate(0) translate(4 206)\">\n<title>%3</title>\n<polygon fill=\"white\" stroke=\"transparent\" points=\"-4,4 -4,-206 1571,-206 1571,4 -4,4\"/>\n<!-- 132486723170848 -->\n<g id=\"node1\" class=\"node\">\n<title>132486723170848</title>\n<polygon fill=\"none\" stroke=\"black\" points=\"716,-137.5 716,-173.5 901,-173.5 901,-137.5 716,-137.5\"/>\n<text text-anchor=\"middle\" x=\"727.5\" y=\"-151.8\" font-family=\"Times,serif\" font-size=\"14.00\">b</text>\n<polyline fill=\"none\" stroke=\"black\" points=\"739,-137.5 739,-173.5 \"/>\n<text text-anchor=\"middle\" x=\"779\" y=\"-151.8\" font-family=\"Times,serif\" font-size=\"14.00\">data 6.8814</text>\n<polyline fill=\"none\" stroke=\"black\" points=\"819,-137.5 819,-173.5 \"/>\n<text text-anchor=\"middle\" x=\"860\" y=\"-151.8\" font-family=\"Times,serif\" font-size=\"14.00\">grad 0.5000</text>\n</g>\n<!-- 132486723170752+ -->\n<g id=\"node15\" class=\"node\">\n<title>132486723170752+</title>\n<ellipse fill=\"none\" stroke=\"black\" cx=\"1008\" cy=\"-127.5\" rx=\"27\" ry=\"18\"/>\n<text text-anchor=\"middle\" x=\"1008\" y=\"-123.8\" font-family=\"Times,serif\" font-size=\"14.00\">+</text>\n</g>\n<!-- 132486723170848&#45;&gt;132486723170752+ -->\n<g id=\"edge7\" class=\"edge\">\n<title>132486723170848&#45;&gt;132486723170752+</title>\n<path fill=\"none\" stroke=\"black\" d=\"M901.02,-142.52C926,-138.98 951.59,-135.36 971.37,-132.55\"/>\n<polygon fill=\"black\" stroke=\"black\" points=\"972.03,-135.99 981.43,-131.12 971.04,-129.06 972.03,-135.99\"/>\n</g>\n<!-- 132486723170416 -->\n<g id=\"node2\" class=\"node\">\n<title>132486723170416</title>\n<polygon fill=\"none\" stroke=\"black\" points=\"1382,-109.5 1382,-145.5 1567,-145.5 1567,-109.5 1382,-109.5\"/>\n<text text-anchor=\"middle\" x=\"1393.5\" y=\"-123.8\" font-family=\"Times,serif\" font-size=\"14.00\">o</text>\n<polyline fill=\"none\" stroke=\"black\" points=\"1405,-109.5 1405,-145.5 \"/>\n<text text-anchor=\"middle\" x=\"1445\" y=\"-123.8\" font-family=\"Times,serif\" font-size=\"14.00\">data 0.7071</text>\n<polyline fill=\"none\" stroke=\"black\" points=\"1485,-109.5 1485,-145.5 \"/>\n<text text-anchor=\"middle\" x=\"1526\" y=\"-123.8\" font-family=\"Times,serif\" font-size=\"14.00\">grad 1.0000</text>\n</g>\n<!-- 132486723170416tanh -->\n<g id=\"node3\" class=\"node\">\n<title>132486723170416tanh</title>\n<ellipse fill=\"none\" stroke=\"black\" cx=\"1319\" cy=\"-127.5\" rx=\"27\" ry=\"18\"/>\n<text text-anchor=\"middle\" x=\"1319\" y=\"-123.8\" font-family=\"Times,serif\" font-size=\"14.00\">tanh</text>\n</g>\n<!-- 132486723170416tanh&#45;&gt;132486723170416 -->\n<g id=\"edge1\" class=\"edge\">\n<title>132486723170416tanh&#45;&gt;132486723170416</title>\n<path fill=\"none\" stroke=\"black\" d=\"M1346.04,-127.5C1353.58,-127.5 1362.3,-127.5 1371.57,-127.5\"/>\n<polygon fill=\"black\" stroke=\"black\" points=\"1371.81,-131 1381.81,-127.5 1371.81,-124 1371.81,-131\"/>\n</g>\n<!-- 132486723173584 -->\n<g id=\"node4\" class=\"node\">\n<title>132486723173584</title>\n<polygon fill=\"none\" stroke=\"black\" points=\"672,-82.5 672,-118.5 945,-118.5 945,-82.5 672,-82.5\"/>\n<text text-anchor=\"middle\" x=\"725\" y=\"-96.8\" font-family=\"Times,serif\" font-size=\"14.00\">x1*w1 + x2*w2</text>\n<polyline fill=\"none\" stroke=\"black\" points=\"778,-82.5 778,-118.5 \"/>\n<text text-anchor=\"middle\" x=\"820.5\" y=\"-96.8\" font-family=\"Times,serif\" font-size=\"14.00\">data &#45;6.0000</text>\n<polyline fill=\"none\" stroke=\"black\" points=\"863,-82.5 863,-118.5 \"/>\n<text text-anchor=\"middle\" x=\"904\" y=\"-96.8\" font-family=\"Times,serif\" font-size=\"14.00\">grad 0.5000</text>\n</g>\n<!-- 132486723173584&#45;&gt;132486723170752+ -->\n<g id=\"edge11\" class=\"edge\">\n<title>132486723173584&#45;&gt;132486723170752+</title>\n<path fill=\"none\" stroke=\"black\" d=\"M941.24,-118.51C952.12,-120 962.4,-121.4 971.45,-122.64\"/>\n<polygon fill=\"black\" stroke=\"black\" points=\"971.11,-126.13 981.49,-124.01 972.05,-119.19 971.11,-126.13\"/>\n</g>\n<!-- 132486723173584+ -->\n<g id=\"node5\" class=\"node\">\n<title>132486723173584+</title>\n<ellipse fill=\"none\" stroke=\"black\" cx=\"609\" cy=\"-100.5\" rx=\"27\" ry=\"18\"/>\n<text text-anchor=\"middle\" x=\"609\" y=\"-96.8\" font-family=\"Times,serif\" font-size=\"14.00\">+</text>\n</g>\n<!-- 132486723173584+&#45;&gt;132486723173584 -->\n<g id=\"edge2\" class=\"edge\">\n<title>132486723173584+&#45;&gt;132486723173584</title>\n<path fill=\"none\" stroke=\"black\" d=\"M636.23,-100.5C643.7,-100.5 652.41,-100.5 661.87,-100.5\"/>\n<polygon fill=\"black\" stroke=\"black\" points=\"661.98,-104 671.98,-100.5 661.98,-97 661.98,-104\"/>\n</g>\n<!-- 132486723160288 -->\n<g id=\"node6\" class=\"node\">\n<title>132486723160288</title>\n<polygon fill=\"none\" stroke=\"black\" points=\"4,-55.5 4,-91.5 196,-91.5 196,-55.5 4,-55.5\"/>\n<text text-anchor=\"middle\" x=\"19\" y=\"-69.8\" font-family=\"Times,serif\" font-size=\"14.00\">x2</text>\n<polyline fill=\"none\" stroke=\"black\" points=\"34,-55.5 34,-91.5 \"/>\n<text text-anchor=\"middle\" x=\"74\" y=\"-69.8\" font-family=\"Times,serif\" font-size=\"14.00\">data 0.0000</text>\n<polyline fill=\"none\" stroke=\"black\" points=\"114,-55.5 114,-91.5 \"/>\n<text text-anchor=\"middle\" x=\"155\" y=\"-69.8\" font-family=\"Times,serif\" font-size=\"14.00\">grad 0.0000</text>\n</g>\n<!-- 132486723171232* -->\n<g id=\"node13\" class=\"node\">\n<title>132486723171232*</title>\n<ellipse fill=\"none\" stroke=\"black\" cx=\"263\" cy=\"-73.5\" rx=\"27\" ry=\"18\"/>\n<text text-anchor=\"middle\" x=\"263\" y=\"-69.8\" font-family=\"Times,serif\" font-size=\"14.00\">*</text>\n</g>\n<!-- 132486723160288&#45;&gt;132486723171232* -->\n<g id=\"edge10\" class=\"edge\">\n<title>132486723160288&#45;&gt;132486723171232*</title>\n<path fill=\"none\" stroke=\"black\" d=\"M196.05,-73.5C206.52,-73.5 216.65,-73.5 225.71,-73.5\"/>\n<polygon fill=\"black\" stroke=\"black\" points=\"225.79,-77 235.79,-73.5 225.79,-70 225.79,-77\"/>\n</g>\n<!-- 132486723168016 -->\n<g id=\"node7\" class=\"node\">\n<title>132486723168016</title>\n<polygon fill=\"none\" stroke=\"black\" points=\"4,-165.5 4,-201.5 196,-201.5 196,-165.5 4,-165.5\"/>\n<text text-anchor=\"middle\" x=\"19\" y=\"-179.8\" font-family=\"Times,serif\" font-size=\"14.00\">x1</text>\n<polyline fill=\"none\" stroke=\"black\" points=\"34,-165.5 34,-201.5 \"/>\n<text text-anchor=\"middle\" x=\"74\" y=\"-179.8\" font-family=\"Times,serif\" font-size=\"14.00\">data 2.0000</text>\n<polyline fill=\"none\" stroke=\"black\" points=\"114,-165.5 114,-201.5 \"/>\n<text text-anchor=\"middle\" x=\"155\" y=\"-179.8\" font-family=\"Times,serif\" font-size=\"14.00\">grad 0.0000</text>\n</g>\n<!-- 132486723173680* -->\n<g id=\"node9\" class=\"node\">\n<title>132486723173680*</title>\n<ellipse fill=\"none\" stroke=\"black\" cx=\"263\" cy=\"-128.5\" rx=\"27\" ry=\"18\"/>\n<text text-anchor=\"middle\" x=\"263\" y=\"-124.8\" font-family=\"Times,serif\" font-size=\"14.00\">*</text>\n</g>\n<!-- 132486723168016&#45;&gt;132486723173680* -->\n<g id=\"edge13\" class=\"edge\">\n<title>132486723168016&#45;&gt;132486723173680*</title>\n<path fill=\"none\" stroke=\"black\" d=\"M172.53,-165.44C181.84,-162.67 191.2,-159.67 200,-156.5 210.53,-152.71 221.75,-147.9 231.72,-143.33\"/>\n<polygon fill=\"black\" stroke=\"black\" points=\"233.25,-146.48 240.82,-139.07 230.28,-140.14 233.25,-146.48\"/>\n</g>\n<!-- 132486723173680 -->\n<g id=\"node8\" class=\"node\">\n<title>132486723173680</title>\n<polygon fill=\"none\" stroke=\"black\" points=\"326,-110.5 326,-146.5 546,-146.5 546,-110.5 326,-110.5\"/>\n<text text-anchor=\"middle\" x=\"352.5\" y=\"-124.8\" font-family=\"Times,serif\" font-size=\"14.00\">x1*w1</text>\n<polyline fill=\"none\" stroke=\"black\" points=\"379,-110.5 379,-146.5 \"/>\n<text text-anchor=\"middle\" x=\"421.5\" y=\"-124.8\" font-family=\"Times,serif\" font-size=\"14.00\">data &#45;6.0000</text>\n<polyline fill=\"none\" stroke=\"black\" points=\"464,-110.5 464,-146.5 \"/>\n<text text-anchor=\"middle\" x=\"505\" y=\"-124.8\" font-family=\"Times,serif\" font-size=\"14.00\">grad 0.0000</text>\n</g>\n<!-- 132486723173680&#45;&gt;132486723173584+ -->\n<g id=\"edge8\" class=\"edge\">\n<title>132486723173680&#45;&gt;132486723173584+</title>\n<path fill=\"none\" stroke=\"black\" d=\"M546.27,-110.61C555.64,-109.07 564.6,-107.61 572.65,-106.29\"/>\n<polygon fill=\"black\" stroke=\"black\" points=\"573.35,-109.72 582.65,-104.65 572.22,-102.81 573.35,-109.72\"/>\n</g>\n<!-- 132486723173680*&#45;&gt;132486723173680 -->\n<g id=\"edge3\" class=\"edge\">\n<title>132486723173680*&#45;&gt;132486723173680</title>\n<path fill=\"none\" stroke=\"black\" d=\"M290.34,-128.5C297.77,-128.5 306.37,-128.5 315.6,-128.5\"/>\n<polygon fill=\"black\" stroke=\"black\" points=\"315.84,-132 325.84,-128.5 315.84,-125 315.84,-132\"/>\n</g>\n<!-- 132486723169600 -->\n<g id=\"node10\" class=\"node\">\n<title>132486723169600</title>\n<polygon fill=\"none\" stroke=\"black\" points=\"0,-110.5 0,-146.5 200,-146.5 200,-110.5 0,-110.5\"/>\n<text text-anchor=\"middle\" x=\"16.5\" y=\"-124.8\" font-family=\"Times,serif\" font-size=\"14.00\">w1</text>\n<polyline fill=\"none\" stroke=\"black\" points=\"33,-110.5 33,-146.5 \"/>\n<text text-anchor=\"middle\" x=\"75.5\" y=\"-124.8\" font-family=\"Times,serif\" font-size=\"14.00\">data &#45;3.0000</text>\n<polyline fill=\"none\" stroke=\"black\" points=\"118,-110.5 118,-146.5 \"/>\n<text text-anchor=\"middle\" x=\"159\" y=\"-124.8\" font-family=\"Times,serif\" font-size=\"14.00\">grad 0.0000</text>\n</g>\n<!-- 132486723169600&#45;&gt;132486723173680* -->\n<g id=\"edge6\" class=\"edge\">\n<title>132486723169600&#45;&gt;132486723173680*</title>\n<path fill=\"none\" stroke=\"black\" d=\"M200.21,-128.5C209.2,-128.5 217.86,-128.5 225.7,-128.5\"/>\n<polygon fill=\"black\" stroke=\"black\" points=\"225.85,-132 235.85,-128.5 225.85,-125 225.85,-132\"/>\n</g>\n<!-- 132486723170128 -->\n<g id=\"node11\" class=\"node\">\n<title>132486723170128</title>\n<polygon fill=\"none\" stroke=\"black\" points=\"2.5,-0.5 2.5,-36.5 197.5,-36.5 197.5,-0.5 2.5,-0.5\"/>\n<text text-anchor=\"middle\" x=\"19\" y=\"-14.8\" font-family=\"Times,serif\" font-size=\"14.00\">w2</text>\n<polyline fill=\"none\" stroke=\"black\" points=\"35.5,-0.5 35.5,-36.5 \"/>\n<text text-anchor=\"middle\" x=\"75.5\" y=\"-14.8\" font-family=\"Times,serif\" font-size=\"14.00\">data 1.0000</text>\n<polyline fill=\"none\" stroke=\"black\" points=\"115.5,-0.5 115.5,-36.5 \"/>\n<text text-anchor=\"middle\" x=\"156.5\" y=\"-14.8\" font-family=\"Times,serif\" font-size=\"14.00\">grad 0.0000</text>\n</g>\n<!-- 132486723170128&#45;&gt;132486723171232* -->\n<g id=\"edge14\" class=\"edge\">\n<title>132486723170128&#45;&gt;132486723171232*</title>\n<path fill=\"none\" stroke=\"black\" d=\"M169.28,-36.5C179.65,-39.61 190.16,-42.98 200,-46.5 210.28,-50.17 221.28,-54.74 231.11,-59.07\"/>\n<polygon fill=\"black\" stroke=\"black\" points=\"229.93,-62.37 240.48,-63.27 232.79,-55.99 229.93,-62.37\"/>\n</g>\n<!-- 132486723171232 -->\n<g id=\"node12\" class=\"node\">\n<title>132486723171232</title>\n<polygon fill=\"none\" stroke=\"black\" points=\"328.5,-55.5 328.5,-91.5 543.5,-91.5 543.5,-55.5 328.5,-55.5\"/>\n<text text-anchor=\"middle\" x=\"355\" y=\"-69.8\" font-family=\"Times,serif\" font-size=\"14.00\">x2*w2</text>\n<polyline fill=\"none\" stroke=\"black\" points=\"381.5,-55.5 381.5,-91.5 \"/>\n<text text-anchor=\"middle\" x=\"421.5\" y=\"-69.8\" font-family=\"Times,serif\" font-size=\"14.00\">data 0.0000</text>\n<polyline fill=\"none\" stroke=\"black\" points=\"461.5,-55.5 461.5,-91.5 \"/>\n<text text-anchor=\"middle\" x=\"502.5\" y=\"-69.8\" font-family=\"Times,serif\" font-size=\"14.00\">grad 0.0000</text>\n</g>\n<!-- 132486723171232&#45;&gt;132486723173584+ -->\n<g id=\"edge12\" class=\"edge\">\n<title>132486723171232&#45;&gt;132486723173584+</title>\n<path fill=\"none\" stroke=\"black\" d=\"M543.84,-90.37C554.01,-91.98 563.76,-93.51 572.44,-94.89\"/>\n<polygon fill=\"black\" stroke=\"black\" points=\"572.05,-98.37 582.47,-96.47 573.14,-91.45 572.05,-98.37\"/>\n</g>\n<!-- 132486723171232*&#45;&gt;132486723171232 -->\n<g id=\"edge4\" class=\"edge\">\n<title>132486723171232*&#45;&gt;132486723171232</title>\n<path fill=\"none\" stroke=\"black\" d=\"M290.34,-73.5C298.51,-73.5 308.08,-73.5 318.36,-73.5\"/>\n<polygon fill=\"black\" stroke=\"black\" points=\"318.39,-77 328.39,-73.5 318.39,-70 318.39,-77\"/>\n</g>\n<!-- 132486723170752 -->\n<g id=\"node14\" class=\"node\">\n<title>132486723170752</title>\n<polygon fill=\"none\" stroke=\"black\" points=\"1071,-109.5 1071,-145.5 1256,-145.5 1256,-109.5 1071,-109.5\"/>\n<text text-anchor=\"middle\" x=\"1082.5\" y=\"-123.8\" font-family=\"Times,serif\" font-size=\"14.00\">n</text>\n<polyline fill=\"none\" stroke=\"black\" points=\"1094,-109.5 1094,-145.5 \"/>\n<text text-anchor=\"middle\" x=\"1134\" y=\"-123.8\" font-family=\"Times,serif\" font-size=\"14.00\">data 0.8814</text>\n<polyline fill=\"none\" stroke=\"black\" points=\"1174,-109.5 1174,-145.5 \"/>\n<text text-anchor=\"middle\" x=\"1215\" y=\"-123.8\" font-family=\"Times,serif\" font-size=\"14.00\">grad 0.5000</text>\n</g>\n<!-- 132486723170752&#45;&gt;132486723170416tanh -->\n<g id=\"edge9\" class=\"edge\">\n<title>132486723170752&#45;&gt;132486723170416tanh</title>\n<path fill=\"none\" stroke=\"black\" d=\"M1256.01,-127.5C1265.01,-127.5 1273.74,-127.5 1281.66,-127.5\"/>\n<polygon fill=\"black\" stroke=\"black\" points=\"1281.91,-131 1291.91,-127.5 1281.91,-124 1281.91,-131\"/>\n</g>\n<!-- 132486723170752+&#45;&gt;132486723170752 -->\n<g id=\"edge5\" class=\"edge\">\n<title>132486723170752+&#45;&gt;132486723170752</title>\n<path fill=\"none\" stroke=\"black\" d=\"M1035.04,-127.5C1042.58,-127.5 1051.3,-127.5 1060.57,-127.5\"/>\n<polygon fill=\"black\" stroke=\"black\" points=\"1060.81,-131 1070.81,-127.5 1060.81,-124 1060.81,-131\"/>\n</g>\n</g>\n</svg>\n",
            "text/plain": [
              "<graphviz.graphs.Digraph at 0x787ef8127670>"
            ]
          },
          "metadata": {},
          "execution_count": 62
        }
      ]
    },
    {
      "cell_type": "markdown",
      "source": [
        "Let's try to backpropagate form b.<br>\n",
        "We know that b is a leaf node so it's value is none.<br>\n",
        "Because we have defined it as `None` while defining the constructor."
      ],
      "metadata": {
        "id": "Vd5zzpBVBWuS"
      }
    },
    {
      "cell_type": "code",
      "source": [
        "print(b._backward())"
      ],
      "metadata": {
        "colab": {
          "base_uri": "https://localhost:8080/"
        },
        "id": "OIqOwu5_BQwu",
        "outputId": "33703aac-0418-4b83-bb4e-e7d17c9872bc"
      },
      "execution_count": 63,
      "outputs": [
        {
          "output_type": "stream",
          "name": "stdout",
          "text": [
            "None\n"
          ]
        }
      ]
    },
    {
      "cell_type": "markdown",
      "source": [
        "Let's backpropagate from x1w1x2w2."
      ],
      "metadata": {
        "id": "fuPjoHxfCCxC"
      }
    },
    {
      "cell_type": "code",
      "source": [
        "x1w1x2w2._backward()"
      ],
      "metadata": {
        "id": "L4NpW3N-BoC4"
      },
      "execution_count": 64,
      "outputs": []
    },
    {
      "cell_type": "code",
      "source": [
        "draw_dot(o)"
      ],
      "metadata": {
        "colab": {
          "base_uri": "https://localhost:8080/",
          "height": 321
        },
        "id": "RCsxslz3CMRx",
        "outputId": "8c658acc-4e23-4e89-bd2a-c7d1c8491b17"
      },
      "execution_count": 65,
      "outputs": [
        {
          "output_type": "execute_result",
          "data": {
            "image/svg+xml": "<?xml version=\"1.0\" encoding=\"UTF-8\" standalone=\"no\"?>\n<!DOCTYPE svg PUBLIC \"-//W3C//DTD SVG 1.1//EN\"\n \"http://www.w3.org/Graphics/SVG/1.1/DTD/svg11.dtd\">\n<!-- Generated by graphviz version 2.43.0 (0)\n -->\n<!-- Title: %3 Pages: 1 -->\n<svg width=\"1575pt\" height=\"210pt\"\n viewBox=\"0.00 0.00 1575.00 210.00\" xmlns=\"http://www.w3.org/2000/svg\" xmlns:xlink=\"http://www.w3.org/1999/xlink\">\n<g id=\"graph0\" class=\"graph\" transform=\"scale(1 1) rotate(0) translate(4 206)\">\n<title>%3</title>\n<polygon fill=\"white\" stroke=\"transparent\" points=\"-4,4 -4,-206 1571,-206 1571,4 -4,4\"/>\n<!-- 132486723170848 -->\n<g id=\"node1\" class=\"node\">\n<title>132486723170848</title>\n<polygon fill=\"none\" stroke=\"black\" points=\"716,-137.5 716,-173.5 901,-173.5 901,-137.5 716,-137.5\"/>\n<text text-anchor=\"middle\" x=\"727.5\" y=\"-151.8\" font-family=\"Times,serif\" font-size=\"14.00\">b</text>\n<polyline fill=\"none\" stroke=\"black\" points=\"739,-137.5 739,-173.5 \"/>\n<text text-anchor=\"middle\" x=\"779\" y=\"-151.8\" font-family=\"Times,serif\" font-size=\"14.00\">data 6.8814</text>\n<polyline fill=\"none\" stroke=\"black\" points=\"819,-137.5 819,-173.5 \"/>\n<text text-anchor=\"middle\" x=\"860\" y=\"-151.8\" font-family=\"Times,serif\" font-size=\"14.00\">grad 0.5000</text>\n</g>\n<!-- 132486723170752+ -->\n<g id=\"node15\" class=\"node\">\n<title>132486723170752+</title>\n<ellipse fill=\"none\" stroke=\"black\" cx=\"1008\" cy=\"-127.5\" rx=\"27\" ry=\"18\"/>\n<text text-anchor=\"middle\" x=\"1008\" y=\"-123.8\" font-family=\"Times,serif\" font-size=\"14.00\">+</text>\n</g>\n<!-- 132486723170848&#45;&gt;132486723170752+ -->\n<g id=\"edge7\" class=\"edge\">\n<title>132486723170848&#45;&gt;132486723170752+</title>\n<path fill=\"none\" stroke=\"black\" d=\"M901.02,-142.52C926,-138.98 951.59,-135.36 971.37,-132.55\"/>\n<polygon fill=\"black\" stroke=\"black\" points=\"972.03,-135.99 981.43,-131.12 971.04,-129.06 972.03,-135.99\"/>\n</g>\n<!-- 132486723170416 -->\n<g id=\"node2\" class=\"node\">\n<title>132486723170416</title>\n<polygon fill=\"none\" stroke=\"black\" points=\"1382,-109.5 1382,-145.5 1567,-145.5 1567,-109.5 1382,-109.5\"/>\n<text text-anchor=\"middle\" x=\"1393.5\" y=\"-123.8\" font-family=\"Times,serif\" font-size=\"14.00\">o</text>\n<polyline fill=\"none\" stroke=\"black\" points=\"1405,-109.5 1405,-145.5 \"/>\n<text text-anchor=\"middle\" x=\"1445\" y=\"-123.8\" font-family=\"Times,serif\" font-size=\"14.00\">data 0.7071</text>\n<polyline fill=\"none\" stroke=\"black\" points=\"1485,-109.5 1485,-145.5 \"/>\n<text text-anchor=\"middle\" x=\"1526\" y=\"-123.8\" font-family=\"Times,serif\" font-size=\"14.00\">grad 1.0000</text>\n</g>\n<!-- 132486723170416tanh -->\n<g id=\"node3\" class=\"node\">\n<title>132486723170416tanh</title>\n<ellipse fill=\"none\" stroke=\"black\" cx=\"1319\" cy=\"-127.5\" rx=\"27\" ry=\"18\"/>\n<text text-anchor=\"middle\" x=\"1319\" y=\"-123.8\" font-family=\"Times,serif\" font-size=\"14.00\">tanh</text>\n</g>\n<!-- 132486723170416tanh&#45;&gt;132486723170416 -->\n<g id=\"edge1\" class=\"edge\">\n<title>132486723170416tanh&#45;&gt;132486723170416</title>\n<path fill=\"none\" stroke=\"black\" d=\"M1346.04,-127.5C1353.58,-127.5 1362.3,-127.5 1371.57,-127.5\"/>\n<polygon fill=\"black\" stroke=\"black\" points=\"1371.81,-131 1381.81,-127.5 1371.81,-124 1371.81,-131\"/>\n</g>\n<!-- 132486723173584 -->\n<g id=\"node4\" class=\"node\">\n<title>132486723173584</title>\n<polygon fill=\"none\" stroke=\"black\" points=\"672,-82.5 672,-118.5 945,-118.5 945,-82.5 672,-82.5\"/>\n<text text-anchor=\"middle\" x=\"725\" y=\"-96.8\" font-family=\"Times,serif\" font-size=\"14.00\">x1*w1 + x2*w2</text>\n<polyline fill=\"none\" stroke=\"black\" points=\"778,-82.5 778,-118.5 \"/>\n<text text-anchor=\"middle\" x=\"820.5\" y=\"-96.8\" font-family=\"Times,serif\" font-size=\"14.00\">data &#45;6.0000</text>\n<polyline fill=\"none\" stroke=\"black\" points=\"863,-82.5 863,-118.5 \"/>\n<text text-anchor=\"middle\" x=\"904\" y=\"-96.8\" font-family=\"Times,serif\" font-size=\"14.00\">grad 0.5000</text>\n</g>\n<!-- 132486723173584&#45;&gt;132486723170752+ -->\n<g id=\"edge11\" class=\"edge\">\n<title>132486723173584&#45;&gt;132486723170752+</title>\n<path fill=\"none\" stroke=\"black\" d=\"M941.24,-118.51C952.12,-120 962.4,-121.4 971.45,-122.64\"/>\n<polygon fill=\"black\" stroke=\"black\" points=\"971.11,-126.13 981.49,-124.01 972.05,-119.19 971.11,-126.13\"/>\n</g>\n<!-- 132486723173584+ -->\n<g id=\"node5\" class=\"node\">\n<title>132486723173584+</title>\n<ellipse fill=\"none\" stroke=\"black\" cx=\"609\" cy=\"-100.5\" rx=\"27\" ry=\"18\"/>\n<text text-anchor=\"middle\" x=\"609\" y=\"-96.8\" font-family=\"Times,serif\" font-size=\"14.00\">+</text>\n</g>\n<!-- 132486723173584+&#45;&gt;132486723173584 -->\n<g id=\"edge2\" class=\"edge\">\n<title>132486723173584+&#45;&gt;132486723173584</title>\n<path fill=\"none\" stroke=\"black\" d=\"M636.23,-100.5C643.7,-100.5 652.41,-100.5 661.87,-100.5\"/>\n<polygon fill=\"black\" stroke=\"black\" points=\"661.98,-104 671.98,-100.5 661.98,-97 661.98,-104\"/>\n</g>\n<!-- 132486723160288 -->\n<g id=\"node6\" class=\"node\">\n<title>132486723160288</title>\n<polygon fill=\"none\" stroke=\"black\" points=\"4,-55.5 4,-91.5 196,-91.5 196,-55.5 4,-55.5\"/>\n<text text-anchor=\"middle\" x=\"19\" y=\"-69.8\" font-family=\"Times,serif\" font-size=\"14.00\">x2</text>\n<polyline fill=\"none\" stroke=\"black\" points=\"34,-55.5 34,-91.5 \"/>\n<text text-anchor=\"middle\" x=\"74\" y=\"-69.8\" font-family=\"Times,serif\" font-size=\"14.00\">data 0.0000</text>\n<polyline fill=\"none\" stroke=\"black\" points=\"114,-55.5 114,-91.5 \"/>\n<text text-anchor=\"middle\" x=\"155\" y=\"-69.8\" font-family=\"Times,serif\" font-size=\"14.00\">grad 0.0000</text>\n</g>\n<!-- 132486723171232* -->\n<g id=\"node13\" class=\"node\">\n<title>132486723171232*</title>\n<ellipse fill=\"none\" stroke=\"black\" cx=\"263\" cy=\"-73.5\" rx=\"27\" ry=\"18\"/>\n<text text-anchor=\"middle\" x=\"263\" y=\"-69.8\" font-family=\"Times,serif\" font-size=\"14.00\">*</text>\n</g>\n<!-- 132486723160288&#45;&gt;132486723171232* -->\n<g id=\"edge10\" class=\"edge\">\n<title>132486723160288&#45;&gt;132486723171232*</title>\n<path fill=\"none\" stroke=\"black\" d=\"M196.05,-73.5C206.52,-73.5 216.65,-73.5 225.71,-73.5\"/>\n<polygon fill=\"black\" stroke=\"black\" points=\"225.79,-77 235.79,-73.5 225.79,-70 225.79,-77\"/>\n</g>\n<!-- 132486723168016 -->\n<g id=\"node7\" class=\"node\">\n<title>132486723168016</title>\n<polygon fill=\"none\" stroke=\"black\" points=\"4,-165.5 4,-201.5 196,-201.5 196,-165.5 4,-165.5\"/>\n<text text-anchor=\"middle\" x=\"19\" y=\"-179.8\" font-family=\"Times,serif\" font-size=\"14.00\">x1</text>\n<polyline fill=\"none\" stroke=\"black\" points=\"34,-165.5 34,-201.5 \"/>\n<text text-anchor=\"middle\" x=\"74\" y=\"-179.8\" font-family=\"Times,serif\" font-size=\"14.00\">data 2.0000</text>\n<polyline fill=\"none\" stroke=\"black\" points=\"114,-165.5 114,-201.5 \"/>\n<text text-anchor=\"middle\" x=\"155\" y=\"-179.8\" font-family=\"Times,serif\" font-size=\"14.00\">grad 0.0000</text>\n</g>\n<!-- 132486723173680* -->\n<g id=\"node9\" class=\"node\">\n<title>132486723173680*</title>\n<ellipse fill=\"none\" stroke=\"black\" cx=\"263\" cy=\"-128.5\" rx=\"27\" ry=\"18\"/>\n<text text-anchor=\"middle\" x=\"263\" y=\"-124.8\" font-family=\"Times,serif\" font-size=\"14.00\">*</text>\n</g>\n<!-- 132486723168016&#45;&gt;132486723173680* -->\n<g id=\"edge13\" class=\"edge\">\n<title>132486723168016&#45;&gt;132486723173680*</title>\n<path fill=\"none\" stroke=\"black\" d=\"M172.53,-165.44C181.84,-162.67 191.2,-159.67 200,-156.5 210.53,-152.71 221.75,-147.9 231.72,-143.33\"/>\n<polygon fill=\"black\" stroke=\"black\" points=\"233.25,-146.48 240.82,-139.07 230.28,-140.14 233.25,-146.48\"/>\n</g>\n<!-- 132486723173680 -->\n<g id=\"node8\" class=\"node\">\n<title>132486723173680</title>\n<polygon fill=\"none\" stroke=\"black\" points=\"326,-110.5 326,-146.5 546,-146.5 546,-110.5 326,-110.5\"/>\n<text text-anchor=\"middle\" x=\"352.5\" y=\"-124.8\" font-family=\"Times,serif\" font-size=\"14.00\">x1*w1</text>\n<polyline fill=\"none\" stroke=\"black\" points=\"379,-110.5 379,-146.5 \"/>\n<text text-anchor=\"middle\" x=\"421.5\" y=\"-124.8\" font-family=\"Times,serif\" font-size=\"14.00\">data &#45;6.0000</text>\n<polyline fill=\"none\" stroke=\"black\" points=\"464,-110.5 464,-146.5 \"/>\n<text text-anchor=\"middle\" x=\"505\" y=\"-124.8\" font-family=\"Times,serif\" font-size=\"14.00\">grad 0.5000</text>\n</g>\n<!-- 132486723173680&#45;&gt;132486723173584+ -->\n<g id=\"edge8\" class=\"edge\">\n<title>132486723173680&#45;&gt;132486723173584+</title>\n<path fill=\"none\" stroke=\"black\" d=\"M546.27,-110.61C555.64,-109.07 564.6,-107.61 572.65,-106.29\"/>\n<polygon fill=\"black\" stroke=\"black\" points=\"573.35,-109.72 582.65,-104.65 572.22,-102.81 573.35,-109.72\"/>\n</g>\n<!-- 132486723173680*&#45;&gt;132486723173680 -->\n<g id=\"edge3\" class=\"edge\">\n<title>132486723173680*&#45;&gt;132486723173680</title>\n<path fill=\"none\" stroke=\"black\" d=\"M290.34,-128.5C297.77,-128.5 306.37,-128.5 315.6,-128.5\"/>\n<polygon fill=\"black\" stroke=\"black\" points=\"315.84,-132 325.84,-128.5 315.84,-125 315.84,-132\"/>\n</g>\n<!-- 132486723169600 -->\n<g id=\"node10\" class=\"node\">\n<title>132486723169600</title>\n<polygon fill=\"none\" stroke=\"black\" points=\"0,-110.5 0,-146.5 200,-146.5 200,-110.5 0,-110.5\"/>\n<text text-anchor=\"middle\" x=\"16.5\" y=\"-124.8\" font-family=\"Times,serif\" font-size=\"14.00\">w1</text>\n<polyline fill=\"none\" stroke=\"black\" points=\"33,-110.5 33,-146.5 \"/>\n<text text-anchor=\"middle\" x=\"75.5\" y=\"-124.8\" font-family=\"Times,serif\" font-size=\"14.00\">data &#45;3.0000</text>\n<polyline fill=\"none\" stroke=\"black\" points=\"118,-110.5 118,-146.5 \"/>\n<text text-anchor=\"middle\" x=\"159\" y=\"-124.8\" font-family=\"Times,serif\" font-size=\"14.00\">grad 0.0000</text>\n</g>\n<!-- 132486723169600&#45;&gt;132486723173680* -->\n<g id=\"edge6\" class=\"edge\">\n<title>132486723169600&#45;&gt;132486723173680*</title>\n<path fill=\"none\" stroke=\"black\" d=\"M200.21,-128.5C209.2,-128.5 217.86,-128.5 225.7,-128.5\"/>\n<polygon fill=\"black\" stroke=\"black\" points=\"225.85,-132 235.85,-128.5 225.85,-125 225.85,-132\"/>\n</g>\n<!-- 132486723170128 -->\n<g id=\"node11\" class=\"node\">\n<title>132486723170128</title>\n<polygon fill=\"none\" stroke=\"black\" points=\"2.5,-0.5 2.5,-36.5 197.5,-36.5 197.5,-0.5 2.5,-0.5\"/>\n<text text-anchor=\"middle\" x=\"19\" y=\"-14.8\" font-family=\"Times,serif\" font-size=\"14.00\">w2</text>\n<polyline fill=\"none\" stroke=\"black\" points=\"35.5,-0.5 35.5,-36.5 \"/>\n<text text-anchor=\"middle\" x=\"75.5\" y=\"-14.8\" font-family=\"Times,serif\" font-size=\"14.00\">data 1.0000</text>\n<polyline fill=\"none\" stroke=\"black\" points=\"115.5,-0.5 115.5,-36.5 \"/>\n<text text-anchor=\"middle\" x=\"156.5\" y=\"-14.8\" font-family=\"Times,serif\" font-size=\"14.00\">grad 0.0000</text>\n</g>\n<!-- 132486723170128&#45;&gt;132486723171232* -->\n<g id=\"edge14\" class=\"edge\">\n<title>132486723170128&#45;&gt;132486723171232*</title>\n<path fill=\"none\" stroke=\"black\" d=\"M169.28,-36.5C179.65,-39.61 190.16,-42.98 200,-46.5 210.28,-50.17 221.28,-54.74 231.11,-59.07\"/>\n<polygon fill=\"black\" stroke=\"black\" points=\"229.93,-62.37 240.48,-63.27 232.79,-55.99 229.93,-62.37\"/>\n</g>\n<!-- 132486723171232 -->\n<g id=\"node12\" class=\"node\">\n<title>132486723171232</title>\n<polygon fill=\"none\" stroke=\"black\" points=\"328.5,-55.5 328.5,-91.5 543.5,-91.5 543.5,-55.5 328.5,-55.5\"/>\n<text text-anchor=\"middle\" x=\"355\" y=\"-69.8\" font-family=\"Times,serif\" font-size=\"14.00\">x2*w2</text>\n<polyline fill=\"none\" stroke=\"black\" points=\"381.5,-55.5 381.5,-91.5 \"/>\n<text text-anchor=\"middle\" x=\"421.5\" y=\"-69.8\" font-family=\"Times,serif\" font-size=\"14.00\">data 0.0000</text>\n<polyline fill=\"none\" stroke=\"black\" points=\"461.5,-55.5 461.5,-91.5 \"/>\n<text text-anchor=\"middle\" x=\"502.5\" y=\"-69.8\" font-family=\"Times,serif\" font-size=\"14.00\">grad 0.5000</text>\n</g>\n<!-- 132486723171232&#45;&gt;132486723173584+ -->\n<g id=\"edge12\" class=\"edge\">\n<title>132486723171232&#45;&gt;132486723173584+</title>\n<path fill=\"none\" stroke=\"black\" d=\"M543.84,-90.37C554.01,-91.98 563.76,-93.51 572.44,-94.89\"/>\n<polygon fill=\"black\" stroke=\"black\" points=\"572.05,-98.37 582.47,-96.47 573.14,-91.45 572.05,-98.37\"/>\n</g>\n<!-- 132486723171232*&#45;&gt;132486723171232 -->\n<g id=\"edge4\" class=\"edge\">\n<title>132486723171232*&#45;&gt;132486723171232</title>\n<path fill=\"none\" stroke=\"black\" d=\"M290.34,-73.5C298.51,-73.5 308.08,-73.5 318.36,-73.5\"/>\n<polygon fill=\"black\" stroke=\"black\" points=\"318.39,-77 328.39,-73.5 318.39,-70 318.39,-77\"/>\n</g>\n<!-- 132486723170752 -->\n<g id=\"node14\" class=\"node\">\n<title>132486723170752</title>\n<polygon fill=\"none\" stroke=\"black\" points=\"1071,-109.5 1071,-145.5 1256,-145.5 1256,-109.5 1071,-109.5\"/>\n<text text-anchor=\"middle\" x=\"1082.5\" y=\"-123.8\" font-family=\"Times,serif\" font-size=\"14.00\">n</text>\n<polyline fill=\"none\" stroke=\"black\" points=\"1094,-109.5 1094,-145.5 \"/>\n<text text-anchor=\"middle\" x=\"1134\" y=\"-123.8\" font-family=\"Times,serif\" font-size=\"14.00\">data 0.8814</text>\n<polyline fill=\"none\" stroke=\"black\" points=\"1174,-109.5 1174,-145.5 \"/>\n<text text-anchor=\"middle\" x=\"1215\" y=\"-123.8\" font-family=\"Times,serif\" font-size=\"14.00\">grad 0.5000</text>\n</g>\n<!-- 132486723170752&#45;&gt;132486723170416tanh -->\n<g id=\"edge9\" class=\"edge\">\n<title>132486723170752&#45;&gt;132486723170416tanh</title>\n<path fill=\"none\" stroke=\"black\" d=\"M1256.01,-127.5C1265.01,-127.5 1273.74,-127.5 1281.66,-127.5\"/>\n<polygon fill=\"black\" stroke=\"black\" points=\"1281.91,-131 1291.91,-127.5 1281.91,-124 1281.91,-131\"/>\n</g>\n<!-- 132486723170752+&#45;&gt;132486723170752 -->\n<g id=\"edge5\" class=\"edge\">\n<title>132486723170752+&#45;&gt;132486723170752</title>\n<path fill=\"none\" stroke=\"black\" d=\"M1035.04,-127.5C1042.58,-127.5 1051.3,-127.5 1060.57,-127.5\"/>\n<polygon fill=\"black\" stroke=\"black\" points=\"1060.81,-131 1070.81,-127.5 1060.81,-124 1060.81,-131\"/>\n</g>\n</g>\n</svg>\n",
            "text/plain": [
              "<graphviz.graphs.Digraph at 0x787ef81253c0>"
            ]
          },
          "metadata": {},
          "execution_count": 65
        }
      ]
    },
    {
      "cell_type": "markdown",
      "source": [
        "And similarly from `x1w1` & `x2w2`."
      ],
      "metadata": {
        "id": "fkQFiFIMCR4F"
      }
    },
    {
      "cell_type": "code",
      "source": [
        "x2w2._backward()\n",
        "x1w1._backward()"
      ],
      "metadata": {
        "id": "t1effV4XCOp7"
      },
      "execution_count": 66,
      "outputs": []
    },
    {
      "cell_type": "code",
      "source": [
        "draw_dot(o)"
      ],
      "metadata": {
        "colab": {
          "base_uri": "https://localhost:8080/",
          "height": 321
        },
        "id": "fJKaChJXCk27",
        "outputId": "f3978835-7798-44c5-8c38-985f612bc0ca"
      },
      "execution_count": 67,
      "outputs": [
        {
          "output_type": "execute_result",
          "data": {
            "image/svg+xml": "<?xml version=\"1.0\" encoding=\"UTF-8\" standalone=\"no\"?>\n<!DOCTYPE svg PUBLIC \"-//W3C//DTD SVG 1.1//EN\"\n \"http://www.w3.org/Graphics/SVG/1.1/DTD/svg11.dtd\">\n<!-- Generated by graphviz version 2.43.0 (0)\n -->\n<!-- Title: %3 Pages: 1 -->\n<svg width=\"1575pt\" height=\"210pt\"\n viewBox=\"0.00 0.00 1575.00 210.00\" xmlns=\"http://www.w3.org/2000/svg\" xmlns:xlink=\"http://www.w3.org/1999/xlink\">\n<g id=\"graph0\" class=\"graph\" transform=\"scale(1 1) rotate(0) translate(4 206)\">\n<title>%3</title>\n<polygon fill=\"white\" stroke=\"transparent\" points=\"-4,4 -4,-206 1571,-206 1571,4 -4,4\"/>\n<!-- 132486723170848 -->\n<g id=\"node1\" class=\"node\">\n<title>132486723170848</title>\n<polygon fill=\"none\" stroke=\"black\" points=\"716,-137.5 716,-173.5 901,-173.5 901,-137.5 716,-137.5\"/>\n<text text-anchor=\"middle\" x=\"727.5\" y=\"-151.8\" font-family=\"Times,serif\" font-size=\"14.00\">b</text>\n<polyline fill=\"none\" stroke=\"black\" points=\"739,-137.5 739,-173.5 \"/>\n<text text-anchor=\"middle\" x=\"779\" y=\"-151.8\" font-family=\"Times,serif\" font-size=\"14.00\">data 6.8814</text>\n<polyline fill=\"none\" stroke=\"black\" points=\"819,-137.5 819,-173.5 \"/>\n<text text-anchor=\"middle\" x=\"860\" y=\"-151.8\" font-family=\"Times,serif\" font-size=\"14.00\">grad 0.5000</text>\n</g>\n<!-- 132486723170752+ -->\n<g id=\"node15\" class=\"node\">\n<title>132486723170752+</title>\n<ellipse fill=\"none\" stroke=\"black\" cx=\"1008\" cy=\"-127.5\" rx=\"27\" ry=\"18\"/>\n<text text-anchor=\"middle\" x=\"1008\" y=\"-123.8\" font-family=\"Times,serif\" font-size=\"14.00\">+</text>\n</g>\n<!-- 132486723170848&#45;&gt;132486723170752+ -->\n<g id=\"edge7\" class=\"edge\">\n<title>132486723170848&#45;&gt;132486723170752+</title>\n<path fill=\"none\" stroke=\"black\" d=\"M901.02,-142.52C926,-138.98 951.59,-135.36 971.37,-132.55\"/>\n<polygon fill=\"black\" stroke=\"black\" points=\"972.03,-135.99 981.43,-131.12 971.04,-129.06 972.03,-135.99\"/>\n</g>\n<!-- 132486723170416 -->\n<g id=\"node2\" class=\"node\">\n<title>132486723170416</title>\n<polygon fill=\"none\" stroke=\"black\" points=\"1382,-109.5 1382,-145.5 1567,-145.5 1567,-109.5 1382,-109.5\"/>\n<text text-anchor=\"middle\" x=\"1393.5\" y=\"-123.8\" font-family=\"Times,serif\" font-size=\"14.00\">o</text>\n<polyline fill=\"none\" stroke=\"black\" points=\"1405,-109.5 1405,-145.5 \"/>\n<text text-anchor=\"middle\" x=\"1445\" y=\"-123.8\" font-family=\"Times,serif\" font-size=\"14.00\">data 0.7071</text>\n<polyline fill=\"none\" stroke=\"black\" points=\"1485,-109.5 1485,-145.5 \"/>\n<text text-anchor=\"middle\" x=\"1526\" y=\"-123.8\" font-family=\"Times,serif\" font-size=\"14.00\">grad 1.0000</text>\n</g>\n<!-- 132486723170416tanh -->\n<g id=\"node3\" class=\"node\">\n<title>132486723170416tanh</title>\n<ellipse fill=\"none\" stroke=\"black\" cx=\"1319\" cy=\"-127.5\" rx=\"27\" ry=\"18\"/>\n<text text-anchor=\"middle\" x=\"1319\" y=\"-123.8\" font-family=\"Times,serif\" font-size=\"14.00\">tanh</text>\n</g>\n<!-- 132486723170416tanh&#45;&gt;132486723170416 -->\n<g id=\"edge1\" class=\"edge\">\n<title>132486723170416tanh&#45;&gt;132486723170416</title>\n<path fill=\"none\" stroke=\"black\" d=\"M1346.04,-127.5C1353.58,-127.5 1362.3,-127.5 1371.57,-127.5\"/>\n<polygon fill=\"black\" stroke=\"black\" points=\"1371.81,-131 1381.81,-127.5 1371.81,-124 1371.81,-131\"/>\n</g>\n<!-- 132486723173584 -->\n<g id=\"node4\" class=\"node\">\n<title>132486723173584</title>\n<polygon fill=\"none\" stroke=\"black\" points=\"672,-82.5 672,-118.5 945,-118.5 945,-82.5 672,-82.5\"/>\n<text text-anchor=\"middle\" x=\"725\" y=\"-96.8\" font-family=\"Times,serif\" font-size=\"14.00\">x1*w1 + x2*w2</text>\n<polyline fill=\"none\" stroke=\"black\" points=\"778,-82.5 778,-118.5 \"/>\n<text text-anchor=\"middle\" x=\"820.5\" y=\"-96.8\" font-family=\"Times,serif\" font-size=\"14.00\">data &#45;6.0000</text>\n<polyline fill=\"none\" stroke=\"black\" points=\"863,-82.5 863,-118.5 \"/>\n<text text-anchor=\"middle\" x=\"904\" y=\"-96.8\" font-family=\"Times,serif\" font-size=\"14.00\">grad 0.5000</text>\n</g>\n<!-- 132486723173584&#45;&gt;132486723170752+ -->\n<g id=\"edge11\" class=\"edge\">\n<title>132486723173584&#45;&gt;132486723170752+</title>\n<path fill=\"none\" stroke=\"black\" d=\"M941.24,-118.51C952.12,-120 962.4,-121.4 971.45,-122.64\"/>\n<polygon fill=\"black\" stroke=\"black\" points=\"971.11,-126.13 981.49,-124.01 972.05,-119.19 971.11,-126.13\"/>\n</g>\n<!-- 132486723173584+ -->\n<g id=\"node5\" class=\"node\">\n<title>132486723173584+</title>\n<ellipse fill=\"none\" stroke=\"black\" cx=\"609\" cy=\"-100.5\" rx=\"27\" ry=\"18\"/>\n<text text-anchor=\"middle\" x=\"609\" y=\"-96.8\" font-family=\"Times,serif\" font-size=\"14.00\">+</text>\n</g>\n<!-- 132486723173584+&#45;&gt;132486723173584 -->\n<g id=\"edge2\" class=\"edge\">\n<title>132486723173584+&#45;&gt;132486723173584</title>\n<path fill=\"none\" stroke=\"black\" d=\"M636.23,-100.5C643.7,-100.5 652.41,-100.5 661.87,-100.5\"/>\n<polygon fill=\"black\" stroke=\"black\" points=\"661.98,-104 671.98,-100.5 661.98,-97 661.98,-104\"/>\n</g>\n<!-- 132486723160288 -->\n<g id=\"node6\" class=\"node\">\n<title>132486723160288</title>\n<polygon fill=\"none\" stroke=\"black\" points=\"4,-55.5 4,-91.5 196,-91.5 196,-55.5 4,-55.5\"/>\n<text text-anchor=\"middle\" x=\"19\" y=\"-69.8\" font-family=\"Times,serif\" font-size=\"14.00\">x2</text>\n<polyline fill=\"none\" stroke=\"black\" points=\"34,-55.5 34,-91.5 \"/>\n<text text-anchor=\"middle\" x=\"74\" y=\"-69.8\" font-family=\"Times,serif\" font-size=\"14.00\">data 0.0000</text>\n<polyline fill=\"none\" stroke=\"black\" points=\"114,-55.5 114,-91.5 \"/>\n<text text-anchor=\"middle\" x=\"155\" y=\"-69.8\" font-family=\"Times,serif\" font-size=\"14.00\">grad 0.5000</text>\n</g>\n<!-- 132486723171232* -->\n<g id=\"node13\" class=\"node\">\n<title>132486723171232*</title>\n<ellipse fill=\"none\" stroke=\"black\" cx=\"263\" cy=\"-73.5\" rx=\"27\" ry=\"18\"/>\n<text text-anchor=\"middle\" x=\"263\" y=\"-69.8\" font-family=\"Times,serif\" font-size=\"14.00\">*</text>\n</g>\n<!-- 132486723160288&#45;&gt;132486723171232* -->\n<g id=\"edge10\" class=\"edge\">\n<title>132486723160288&#45;&gt;132486723171232*</title>\n<path fill=\"none\" stroke=\"black\" d=\"M196.05,-73.5C206.52,-73.5 216.65,-73.5 225.71,-73.5\"/>\n<polygon fill=\"black\" stroke=\"black\" points=\"225.79,-77 235.79,-73.5 225.79,-70 225.79,-77\"/>\n</g>\n<!-- 132486723168016 -->\n<g id=\"node7\" class=\"node\">\n<title>132486723168016</title>\n<polygon fill=\"none\" stroke=\"black\" points=\"2,-165.5 2,-201.5 198,-201.5 198,-165.5 2,-165.5\"/>\n<text text-anchor=\"middle\" x=\"17\" y=\"-179.8\" font-family=\"Times,serif\" font-size=\"14.00\">x1</text>\n<polyline fill=\"none\" stroke=\"black\" points=\"32,-165.5 32,-201.5 \"/>\n<text text-anchor=\"middle\" x=\"72\" y=\"-179.8\" font-family=\"Times,serif\" font-size=\"14.00\">data 2.0000</text>\n<polyline fill=\"none\" stroke=\"black\" points=\"112,-165.5 112,-201.5 \"/>\n<text text-anchor=\"middle\" x=\"155\" y=\"-179.8\" font-family=\"Times,serif\" font-size=\"14.00\">grad &#45;1.5000</text>\n</g>\n<!-- 132486723173680* -->\n<g id=\"node9\" class=\"node\">\n<title>132486723173680*</title>\n<ellipse fill=\"none\" stroke=\"black\" cx=\"263\" cy=\"-128.5\" rx=\"27\" ry=\"18\"/>\n<text text-anchor=\"middle\" x=\"263\" y=\"-124.8\" font-family=\"Times,serif\" font-size=\"14.00\">*</text>\n</g>\n<!-- 132486723168016&#45;&gt;132486723173680* -->\n<g id=\"edge13\" class=\"edge\">\n<title>132486723168016&#45;&gt;132486723173680*</title>\n<path fill=\"none\" stroke=\"black\" d=\"M172.53,-165.44C181.84,-162.67 191.2,-159.67 200,-156.5 210.53,-152.71 221.75,-147.9 231.72,-143.33\"/>\n<polygon fill=\"black\" stroke=\"black\" points=\"233.25,-146.48 240.82,-139.07 230.28,-140.14 233.25,-146.48\"/>\n</g>\n<!-- 132486723173680 -->\n<g id=\"node8\" class=\"node\">\n<title>132486723173680</title>\n<polygon fill=\"none\" stroke=\"black\" points=\"326,-110.5 326,-146.5 546,-146.5 546,-110.5 326,-110.5\"/>\n<text text-anchor=\"middle\" x=\"352.5\" y=\"-124.8\" font-family=\"Times,serif\" font-size=\"14.00\">x1*w1</text>\n<polyline fill=\"none\" stroke=\"black\" points=\"379,-110.5 379,-146.5 \"/>\n<text text-anchor=\"middle\" x=\"421.5\" y=\"-124.8\" font-family=\"Times,serif\" font-size=\"14.00\">data &#45;6.0000</text>\n<polyline fill=\"none\" stroke=\"black\" points=\"464,-110.5 464,-146.5 \"/>\n<text text-anchor=\"middle\" x=\"505\" y=\"-124.8\" font-family=\"Times,serif\" font-size=\"14.00\">grad 0.5000</text>\n</g>\n<!-- 132486723173680&#45;&gt;132486723173584+ -->\n<g id=\"edge8\" class=\"edge\">\n<title>132486723173680&#45;&gt;132486723173584+</title>\n<path fill=\"none\" stroke=\"black\" d=\"M546.27,-110.61C555.64,-109.07 564.6,-107.61 572.65,-106.29\"/>\n<polygon fill=\"black\" stroke=\"black\" points=\"573.35,-109.72 582.65,-104.65 572.22,-102.81 573.35,-109.72\"/>\n</g>\n<!-- 132486723173680*&#45;&gt;132486723173680 -->\n<g id=\"edge3\" class=\"edge\">\n<title>132486723173680*&#45;&gt;132486723173680</title>\n<path fill=\"none\" stroke=\"black\" d=\"M290.34,-128.5C297.77,-128.5 306.37,-128.5 315.6,-128.5\"/>\n<polygon fill=\"black\" stroke=\"black\" points=\"315.84,-132 325.84,-128.5 315.84,-125 315.84,-132\"/>\n</g>\n<!-- 132486723169600 -->\n<g id=\"node10\" class=\"node\">\n<title>132486723169600</title>\n<polygon fill=\"none\" stroke=\"black\" points=\"0,-110.5 0,-146.5 200,-146.5 200,-110.5 0,-110.5\"/>\n<text text-anchor=\"middle\" x=\"16.5\" y=\"-124.8\" font-family=\"Times,serif\" font-size=\"14.00\">w1</text>\n<polyline fill=\"none\" stroke=\"black\" points=\"33,-110.5 33,-146.5 \"/>\n<text text-anchor=\"middle\" x=\"75.5\" y=\"-124.8\" font-family=\"Times,serif\" font-size=\"14.00\">data &#45;3.0000</text>\n<polyline fill=\"none\" stroke=\"black\" points=\"118,-110.5 118,-146.5 \"/>\n<text text-anchor=\"middle\" x=\"159\" y=\"-124.8\" font-family=\"Times,serif\" font-size=\"14.00\">grad 1.0000</text>\n</g>\n<!-- 132486723169600&#45;&gt;132486723173680* -->\n<g id=\"edge6\" class=\"edge\">\n<title>132486723169600&#45;&gt;132486723173680*</title>\n<path fill=\"none\" stroke=\"black\" d=\"M200.21,-128.5C209.2,-128.5 217.86,-128.5 225.7,-128.5\"/>\n<polygon fill=\"black\" stroke=\"black\" points=\"225.85,-132 235.85,-128.5 225.85,-125 225.85,-132\"/>\n</g>\n<!-- 132486723170128 -->\n<g id=\"node11\" class=\"node\">\n<title>132486723170128</title>\n<polygon fill=\"none\" stroke=\"black\" points=\"2.5,-0.5 2.5,-36.5 197.5,-36.5 197.5,-0.5 2.5,-0.5\"/>\n<text text-anchor=\"middle\" x=\"19\" y=\"-14.8\" font-family=\"Times,serif\" font-size=\"14.00\">w2</text>\n<polyline fill=\"none\" stroke=\"black\" points=\"35.5,-0.5 35.5,-36.5 \"/>\n<text text-anchor=\"middle\" x=\"75.5\" y=\"-14.8\" font-family=\"Times,serif\" font-size=\"14.00\">data 1.0000</text>\n<polyline fill=\"none\" stroke=\"black\" points=\"115.5,-0.5 115.5,-36.5 \"/>\n<text text-anchor=\"middle\" x=\"156.5\" y=\"-14.8\" font-family=\"Times,serif\" font-size=\"14.00\">grad 0.0000</text>\n</g>\n<!-- 132486723170128&#45;&gt;132486723171232* -->\n<g id=\"edge14\" class=\"edge\">\n<title>132486723170128&#45;&gt;132486723171232*</title>\n<path fill=\"none\" stroke=\"black\" d=\"M169.28,-36.5C179.65,-39.61 190.16,-42.98 200,-46.5 210.28,-50.17 221.28,-54.74 231.11,-59.07\"/>\n<polygon fill=\"black\" stroke=\"black\" points=\"229.93,-62.37 240.48,-63.27 232.79,-55.99 229.93,-62.37\"/>\n</g>\n<!-- 132486723171232 -->\n<g id=\"node12\" class=\"node\">\n<title>132486723171232</title>\n<polygon fill=\"none\" stroke=\"black\" points=\"328.5,-55.5 328.5,-91.5 543.5,-91.5 543.5,-55.5 328.5,-55.5\"/>\n<text text-anchor=\"middle\" x=\"355\" y=\"-69.8\" font-family=\"Times,serif\" font-size=\"14.00\">x2*w2</text>\n<polyline fill=\"none\" stroke=\"black\" points=\"381.5,-55.5 381.5,-91.5 \"/>\n<text text-anchor=\"middle\" x=\"421.5\" y=\"-69.8\" font-family=\"Times,serif\" font-size=\"14.00\">data 0.0000</text>\n<polyline fill=\"none\" stroke=\"black\" points=\"461.5,-55.5 461.5,-91.5 \"/>\n<text text-anchor=\"middle\" x=\"502.5\" y=\"-69.8\" font-family=\"Times,serif\" font-size=\"14.00\">grad 0.5000</text>\n</g>\n<!-- 132486723171232&#45;&gt;132486723173584+ -->\n<g id=\"edge12\" class=\"edge\">\n<title>132486723171232&#45;&gt;132486723173584+</title>\n<path fill=\"none\" stroke=\"black\" d=\"M543.84,-90.37C554.01,-91.98 563.76,-93.51 572.44,-94.89\"/>\n<polygon fill=\"black\" stroke=\"black\" points=\"572.05,-98.37 582.47,-96.47 573.14,-91.45 572.05,-98.37\"/>\n</g>\n<!-- 132486723171232*&#45;&gt;132486723171232 -->\n<g id=\"edge4\" class=\"edge\">\n<title>132486723171232*&#45;&gt;132486723171232</title>\n<path fill=\"none\" stroke=\"black\" d=\"M290.34,-73.5C298.51,-73.5 308.08,-73.5 318.36,-73.5\"/>\n<polygon fill=\"black\" stroke=\"black\" points=\"318.39,-77 328.39,-73.5 318.39,-70 318.39,-77\"/>\n</g>\n<!-- 132486723170752 -->\n<g id=\"node14\" class=\"node\">\n<title>132486723170752</title>\n<polygon fill=\"none\" stroke=\"black\" points=\"1071,-109.5 1071,-145.5 1256,-145.5 1256,-109.5 1071,-109.5\"/>\n<text text-anchor=\"middle\" x=\"1082.5\" y=\"-123.8\" font-family=\"Times,serif\" font-size=\"14.00\">n</text>\n<polyline fill=\"none\" stroke=\"black\" points=\"1094,-109.5 1094,-145.5 \"/>\n<text text-anchor=\"middle\" x=\"1134\" y=\"-123.8\" font-family=\"Times,serif\" font-size=\"14.00\">data 0.8814</text>\n<polyline fill=\"none\" stroke=\"black\" points=\"1174,-109.5 1174,-145.5 \"/>\n<text text-anchor=\"middle\" x=\"1215\" y=\"-123.8\" font-family=\"Times,serif\" font-size=\"14.00\">grad 0.5000</text>\n</g>\n<!-- 132486723170752&#45;&gt;132486723170416tanh -->\n<g id=\"edge9\" class=\"edge\">\n<title>132486723170752&#45;&gt;132486723170416tanh</title>\n<path fill=\"none\" stroke=\"black\" d=\"M1256.01,-127.5C1265.01,-127.5 1273.74,-127.5 1281.66,-127.5\"/>\n<polygon fill=\"black\" stroke=\"black\" points=\"1281.91,-131 1291.91,-127.5 1281.91,-124 1281.91,-131\"/>\n</g>\n<!-- 132486723170752+&#45;&gt;132486723170752 -->\n<g id=\"edge5\" class=\"edge\">\n<title>132486723170752+&#45;&gt;132486723170752</title>\n<path fill=\"none\" stroke=\"black\" d=\"M1035.04,-127.5C1042.58,-127.5 1051.3,-127.5 1060.57,-127.5\"/>\n<polygon fill=\"black\" stroke=\"black\" points=\"1060.81,-131 1070.81,-127.5 1060.81,-124 1060.81,-131\"/>\n</g>\n</g>\n</svg>\n",
            "text/plain": [
              "<graphviz.graphs.Digraph at 0x787ef81260b0>"
            ]
          },
          "metadata": {},
          "execution_count": 67
        }
      ]
    },
    {
      "cell_type": "markdown",
      "source": [
        "We cannot just run backward everytime. So, we need a mechanism to automate it.<br>\n",
        "Let's look at how can we do that & let's modify our Value class."
      ],
      "metadata": {
        "id": "eio-9X-wEHEO"
      }
    },
    {
      "cell_type": "markdown",
      "source": [
        "For this, we create a function called backward.<br>\n",
        "Where, we find the order of computation and then reverse it to find the gradients because, we cannot be calculating <br>the gradients untill all the operations have been performed."
      ],
      "metadata": {
        "id": "fgMXHLXQGXEK"
      }
    },
    {
      "cell_type": "code",
      "source": [
        "class Value:\n",
        "\n",
        "  def __init__(self, data, _children=(), _op='', label=''):\n",
        "    self.data = data\n",
        "    self.grad = 0.0\n",
        "    self._backward = lambda: None\n",
        "    self._prev = set(_children)\n",
        "    self._op = _op\n",
        "    self.label = label\n",
        "\n",
        "  def __repr__(self):\n",
        "    return f\"Value(data={self.data})\"\n",
        "\n",
        "  def __add__(self, other):\n",
        "    out = Value(self.data + other.data, (self, other), '+')\n",
        "\n",
        "    def _backward():\n",
        "      self.grad = 1.0 * out.grad\n",
        "      other.grad = 1.0 * out.grad\n",
        "    out._backward = _backward\n",
        "\n",
        "    return out\n",
        "\n",
        "  def __mul__(self, other):\n",
        "    out = Value(self.data * other.data, (self, other), '*')\n",
        "\n",
        "    def _backward():\n",
        "      self.grad = other.data * out.grad\n",
        "      other.grad = self.data * out.grad\n",
        "    out._backward = _backward\n",
        "\n",
        "    return out\n",
        "\n",
        "  def tanh(self):\n",
        "    x = self.data\n",
        "    t = (math.exp(2*x) - 1)/(math.exp(2*x) + 1)\n",
        "    out = Value(t, (self, ), 'tanh')\n",
        "\n",
        "    def _backward():\n",
        "      self.grad += (1 - t**2) * out.grad\n",
        "    out._backward = _backward\n",
        "\n",
        "    return out\n",
        "\n",
        "  def backward(self):\n",
        "\n",
        "    topo = []\n",
        "    visited = set()\n",
        "    def build_topo(v):\n",
        "      if v not in visited:\n",
        "        visited.add(v)\n",
        "        for child in v._prev:\n",
        "          build_topo(child)\n",
        "        topo.append(v)\n",
        "    build_topo(self)\n",
        "\n",
        "    self.grad = 1.0\n",
        "    for node in reversed(topo):\n",
        "      node._backward()"
      ],
      "metadata": {
        "id": "6eXTBiswCm-E"
      },
      "execution_count": 68,
      "outputs": []
    },
    {
      "cell_type": "code",
      "source": [
        "# inputs x1,x2\n",
        "x1 = Value(2.0, label='x1')\n",
        "x2 = Value(0.0, label='x2')\n",
        "# weights w1,w2\n",
        "w1 = Value(-3.0, label='w1')\n",
        "w2 = Value(1.0, label='w2')\n",
        "# bias of the neuron\n",
        "b = Value(6.8813735870195432, label='b')\n",
        "# x1*w1 + x2*w2 + b\n",
        "x1w1 = x1*w1; x1w1.label = 'x1*w1'\n",
        "x2w2 = x2*w2; x2w2.label = 'x2*w2'\n",
        "x1w1x2w2 = x1w1 + x2w2; x1w1x2w2.label = 'x1*w1 + x2*w2'\n",
        "n = x1w1x2w2 + b; n.label = 'n'\n",
        "o = n.tanh(); o.label = 'o'"
      ],
      "metadata": {
        "id": "bv1jngalG_GB"
      },
      "execution_count": 69,
      "outputs": []
    },
    {
      "cell_type": "code",
      "source": [
        "draw_dot(o)"
      ],
      "metadata": {
        "colab": {
          "base_uri": "https://localhost:8080/",
          "height": 321
        },
        "id": "OV04bOChHCam",
        "outputId": "b0dd8e76-7f01-4239-e787-e8481a35ad67"
      },
      "execution_count": 70,
      "outputs": [
        {
          "output_type": "execute_result",
          "data": {
            "image/svg+xml": "<?xml version=\"1.0\" encoding=\"UTF-8\" standalone=\"no\"?>\n<!DOCTYPE svg PUBLIC \"-//W3C//DTD SVG 1.1//EN\"\n \"http://www.w3.org/Graphics/SVG/1.1/DTD/svg11.dtd\">\n<!-- Generated by graphviz version 2.43.0 (0)\n -->\n<!-- Title: %3 Pages: 1 -->\n<svg width=\"1575pt\" height=\"210pt\"\n viewBox=\"0.00 0.00 1575.00 210.00\" xmlns=\"http://www.w3.org/2000/svg\" xmlns:xlink=\"http://www.w3.org/1999/xlink\">\n<g id=\"graph0\" class=\"graph\" transform=\"scale(1 1) rotate(0) translate(4 206)\">\n<title>%3</title>\n<polygon fill=\"white\" stroke=\"transparent\" points=\"-4,4 -4,-206 1571,-206 1571,4 -4,4\"/>\n<!-- 132486723058704 -->\n<g id=\"node1\" class=\"node\">\n<title>132486723058704</title>\n<polygon fill=\"none\" stroke=\"black\" points=\"0,-165.5 0,-201.5 200,-201.5 200,-165.5 0,-165.5\"/>\n<text text-anchor=\"middle\" x=\"16.5\" y=\"-179.8\" font-family=\"Times,serif\" font-size=\"14.00\">w1</text>\n<polyline fill=\"none\" stroke=\"black\" points=\"33,-165.5 33,-201.5 \"/>\n<text text-anchor=\"middle\" x=\"75.5\" y=\"-179.8\" font-family=\"Times,serif\" font-size=\"14.00\">data &#45;3.0000</text>\n<polyline fill=\"none\" stroke=\"black\" points=\"118,-165.5 118,-201.5 \"/>\n<text text-anchor=\"middle\" x=\"159\" y=\"-179.8\" font-family=\"Times,serif\" font-size=\"14.00\">grad 0.0000</text>\n</g>\n<!-- 132486723053808* -->\n<g id=\"node12\" class=\"node\">\n<title>132486723053808*</title>\n<ellipse fill=\"none\" stroke=\"black\" cx=\"263\" cy=\"-128.5\" rx=\"27\" ry=\"18\"/>\n<text text-anchor=\"middle\" x=\"263\" y=\"-124.8\" font-family=\"Times,serif\" font-size=\"14.00\">*</text>\n</g>\n<!-- 132486723058704&#45;&gt;132486723053808* -->\n<g id=\"edge6\" class=\"edge\">\n<title>132486723058704&#45;&gt;132486723053808*</title>\n<path fill=\"none\" stroke=\"black\" d=\"M172.53,-165.44C181.84,-162.67 191.2,-159.67 200,-156.5 210.53,-152.71 221.75,-147.9 231.72,-143.33\"/>\n<polygon fill=\"black\" stroke=\"black\" points=\"233.25,-146.48 240.82,-139.07 230.28,-140.14 233.25,-146.48\"/>\n</g>\n<!-- 132486723050544 -->\n<g id=\"node2\" class=\"node\">\n<title>132486723050544</title>\n<polygon fill=\"none\" stroke=\"black\" points=\"1071,-54.5 1071,-90.5 1256,-90.5 1256,-54.5 1071,-54.5\"/>\n<text text-anchor=\"middle\" x=\"1082.5\" y=\"-68.8\" font-family=\"Times,serif\" font-size=\"14.00\">n</text>\n<polyline fill=\"none\" stroke=\"black\" points=\"1094,-54.5 1094,-90.5 \"/>\n<text text-anchor=\"middle\" x=\"1134\" y=\"-68.8\" font-family=\"Times,serif\" font-size=\"14.00\">data 0.8814</text>\n<polyline fill=\"none\" stroke=\"black\" points=\"1174,-54.5 1174,-90.5 \"/>\n<text text-anchor=\"middle\" x=\"1215\" y=\"-68.8\" font-family=\"Times,serif\" font-size=\"14.00\">grad 0.0000</text>\n</g>\n<!-- 132486723058752tanh -->\n<g id=\"node5\" class=\"node\">\n<title>132486723058752tanh</title>\n<ellipse fill=\"none\" stroke=\"black\" cx=\"1319\" cy=\"-72.5\" rx=\"27\" ry=\"18\"/>\n<text text-anchor=\"middle\" x=\"1319\" y=\"-68.8\" font-family=\"Times,serif\" font-size=\"14.00\">tanh</text>\n</g>\n<!-- 132486723050544&#45;&gt;132486723058752tanh -->\n<g id=\"edge12\" class=\"edge\">\n<title>132486723050544&#45;&gt;132486723058752tanh</title>\n<path fill=\"none\" stroke=\"black\" d=\"M1256.01,-72.5C1265.01,-72.5 1273.74,-72.5 1281.66,-72.5\"/>\n<polygon fill=\"black\" stroke=\"black\" points=\"1281.91,-76 1291.91,-72.5 1281.91,-69 1281.91,-76\"/>\n</g>\n<!-- 132486723050544+ -->\n<g id=\"node3\" class=\"node\">\n<title>132486723050544+</title>\n<ellipse fill=\"none\" stroke=\"black\" cx=\"1008\" cy=\"-72.5\" rx=\"27\" ry=\"18\"/>\n<text text-anchor=\"middle\" x=\"1008\" y=\"-68.8\" font-family=\"Times,serif\" font-size=\"14.00\">+</text>\n</g>\n<!-- 132486723050544+&#45;&gt;132486723050544 -->\n<g id=\"edge1\" class=\"edge\">\n<title>132486723050544+&#45;&gt;132486723050544</title>\n<path fill=\"none\" stroke=\"black\" d=\"M1035.04,-72.5C1042.58,-72.5 1051.3,-72.5 1060.57,-72.5\"/>\n<polygon fill=\"black\" stroke=\"black\" points=\"1060.81,-76 1070.81,-72.5 1060.81,-69 1060.81,-76\"/>\n</g>\n<!-- 132486723058752 -->\n<g id=\"node4\" class=\"node\">\n<title>132486723058752</title>\n<polygon fill=\"none\" stroke=\"black\" points=\"1382,-54.5 1382,-90.5 1567,-90.5 1567,-54.5 1382,-54.5\"/>\n<text text-anchor=\"middle\" x=\"1393.5\" y=\"-68.8\" font-family=\"Times,serif\" font-size=\"14.00\">o</text>\n<polyline fill=\"none\" stroke=\"black\" points=\"1405,-54.5 1405,-90.5 \"/>\n<text text-anchor=\"middle\" x=\"1445\" y=\"-68.8\" font-family=\"Times,serif\" font-size=\"14.00\">data 0.7071</text>\n<polyline fill=\"none\" stroke=\"black\" points=\"1485,-54.5 1485,-90.5 \"/>\n<text text-anchor=\"middle\" x=\"1526\" y=\"-68.8\" font-family=\"Times,serif\" font-size=\"14.00\">grad 0.0000</text>\n</g>\n<!-- 132486723058752tanh&#45;&gt;132486723058752 -->\n<g id=\"edge2\" class=\"edge\">\n<title>132486723058752tanh&#45;&gt;132486723058752</title>\n<path fill=\"none\" stroke=\"black\" d=\"M1346.04,-72.5C1353.58,-72.5 1362.3,-72.5 1371.57,-72.5\"/>\n<polygon fill=\"black\" stroke=\"black\" points=\"1371.81,-76 1381.81,-72.5 1371.81,-69 1371.81,-76\"/>\n</g>\n<!-- 132486723057264 -->\n<g id=\"node6\" class=\"node\">\n<title>132486723057264</title>\n<polygon fill=\"none\" stroke=\"black\" points=\"672,-82.5 672,-118.5 945,-118.5 945,-82.5 672,-82.5\"/>\n<text text-anchor=\"middle\" x=\"725\" y=\"-96.8\" font-family=\"Times,serif\" font-size=\"14.00\">x1*w1 + x2*w2</text>\n<polyline fill=\"none\" stroke=\"black\" points=\"778,-82.5 778,-118.5 \"/>\n<text text-anchor=\"middle\" x=\"820.5\" y=\"-96.8\" font-family=\"Times,serif\" font-size=\"14.00\">data &#45;6.0000</text>\n<polyline fill=\"none\" stroke=\"black\" points=\"863,-82.5 863,-118.5 \"/>\n<text text-anchor=\"middle\" x=\"904\" y=\"-96.8\" font-family=\"Times,serif\" font-size=\"14.00\">grad 0.0000</text>\n</g>\n<!-- 132486723057264&#45;&gt;132486723050544+ -->\n<g id=\"edge11\" class=\"edge\">\n<title>132486723057264&#45;&gt;132486723050544+</title>\n<path fill=\"none\" stroke=\"black\" d=\"M936.53,-82.49C949.09,-80.71 960.99,-79.02 971.3,-77.56\"/>\n<polygon fill=\"black\" stroke=\"black\" points=\"972.03,-80.99 981.44,-76.12 971.05,-74.06 972.03,-80.99\"/>\n</g>\n<!-- 132486723057264+ -->\n<g id=\"node7\" class=\"node\">\n<title>132486723057264+</title>\n<ellipse fill=\"none\" stroke=\"black\" cx=\"609\" cy=\"-100.5\" rx=\"27\" ry=\"18\"/>\n<text text-anchor=\"middle\" x=\"609\" y=\"-96.8\" font-family=\"Times,serif\" font-size=\"14.00\">+</text>\n</g>\n<!-- 132486723057264+&#45;&gt;132486723057264 -->\n<g id=\"edge3\" class=\"edge\">\n<title>132486723057264+&#45;&gt;132486723057264</title>\n<path fill=\"none\" stroke=\"black\" d=\"M636.23,-100.5C643.7,-100.5 652.41,-100.5 661.87,-100.5\"/>\n<polygon fill=\"black\" stroke=\"black\" points=\"661.98,-104 671.98,-100.5 661.98,-97 661.98,-104\"/>\n</g>\n<!-- 132486723054720 -->\n<g id=\"node8\" class=\"node\">\n<title>132486723054720</title>\n<polygon fill=\"none\" stroke=\"black\" points=\"328.5,-55.5 328.5,-91.5 543.5,-91.5 543.5,-55.5 328.5,-55.5\"/>\n<text text-anchor=\"middle\" x=\"355\" y=\"-69.8\" font-family=\"Times,serif\" font-size=\"14.00\">x2*w2</text>\n<polyline fill=\"none\" stroke=\"black\" points=\"381.5,-55.5 381.5,-91.5 \"/>\n<text text-anchor=\"middle\" x=\"421.5\" y=\"-69.8\" font-family=\"Times,serif\" font-size=\"14.00\">data 0.0000</text>\n<polyline fill=\"none\" stroke=\"black\" points=\"461.5,-55.5 461.5,-91.5 \"/>\n<text text-anchor=\"middle\" x=\"502.5\" y=\"-69.8\" font-family=\"Times,serif\" font-size=\"14.00\">grad 0.0000</text>\n</g>\n<!-- 132486723054720&#45;&gt;132486723057264+ -->\n<g id=\"edge8\" class=\"edge\">\n<title>132486723054720&#45;&gt;132486723057264+</title>\n<path fill=\"none\" stroke=\"black\" d=\"M543.84,-90.37C554.01,-91.98 563.76,-93.51 572.44,-94.89\"/>\n<polygon fill=\"black\" stroke=\"black\" points=\"572.05,-98.37 582.47,-96.47 573.14,-91.45 572.05,-98.37\"/>\n</g>\n<!-- 132486723054720* -->\n<g id=\"node9\" class=\"node\">\n<title>132486723054720*</title>\n<ellipse fill=\"none\" stroke=\"black\" cx=\"263\" cy=\"-73.5\" rx=\"27\" ry=\"18\"/>\n<text text-anchor=\"middle\" x=\"263\" y=\"-69.8\" font-family=\"Times,serif\" font-size=\"14.00\">*</text>\n</g>\n<!-- 132486723054720*&#45;&gt;132486723054720 -->\n<g id=\"edge4\" class=\"edge\">\n<title>132486723054720*&#45;&gt;132486723054720</title>\n<path fill=\"none\" stroke=\"black\" d=\"M290.34,-73.5C298.51,-73.5 308.08,-73.5 318.36,-73.5\"/>\n<polygon fill=\"black\" stroke=\"black\" points=\"318.39,-77 328.39,-73.5 318.39,-70 318.39,-77\"/>\n</g>\n<!-- 132486723054768 -->\n<g id=\"node10\" class=\"node\">\n<title>132486723054768</title>\n<polygon fill=\"none\" stroke=\"black\" points=\"4,-110.5 4,-146.5 196,-146.5 196,-110.5 4,-110.5\"/>\n<text text-anchor=\"middle\" x=\"19\" y=\"-124.8\" font-family=\"Times,serif\" font-size=\"14.00\">x1</text>\n<polyline fill=\"none\" stroke=\"black\" points=\"34,-110.5 34,-146.5 \"/>\n<text text-anchor=\"middle\" x=\"74\" y=\"-124.8\" font-family=\"Times,serif\" font-size=\"14.00\">data 2.0000</text>\n<polyline fill=\"none\" stroke=\"black\" points=\"114,-110.5 114,-146.5 \"/>\n<text text-anchor=\"middle\" x=\"155\" y=\"-124.8\" font-family=\"Times,serif\" font-size=\"14.00\">grad 0.0000</text>\n</g>\n<!-- 132486723054768&#45;&gt;132486723053808* -->\n<g id=\"edge9\" class=\"edge\">\n<title>132486723054768&#45;&gt;132486723053808*</title>\n<path fill=\"none\" stroke=\"black\" d=\"M196.05,-128.5C206.52,-128.5 216.65,-128.5 225.71,-128.5\"/>\n<polygon fill=\"black\" stroke=\"black\" points=\"225.79,-132 235.79,-128.5 225.79,-125 225.79,-132\"/>\n</g>\n<!-- 132486723053808 -->\n<g id=\"node11\" class=\"node\">\n<title>132486723053808</title>\n<polygon fill=\"none\" stroke=\"black\" points=\"326,-110.5 326,-146.5 546,-146.5 546,-110.5 326,-110.5\"/>\n<text text-anchor=\"middle\" x=\"352.5\" y=\"-124.8\" font-family=\"Times,serif\" font-size=\"14.00\">x1*w1</text>\n<polyline fill=\"none\" stroke=\"black\" points=\"379,-110.5 379,-146.5 \"/>\n<text text-anchor=\"middle\" x=\"421.5\" y=\"-124.8\" font-family=\"Times,serif\" font-size=\"14.00\">data &#45;6.0000</text>\n<polyline fill=\"none\" stroke=\"black\" points=\"464,-110.5 464,-146.5 \"/>\n<text text-anchor=\"middle\" x=\"505\" y=\"-124.8\" font-family=\"Times,serif\" font-size=\"14.00\">grad 0.0000</text>\n</g>\n<!-- 132486723053808&#45;&gt;132486723057264+ -->\n<g id=\"edge14\" class=\"edge\">\n<title>132486723053808&#45;&gt;132486723057264+</title>\n<path fill=\"none\" stroke=\"black\" d=\"M546.27,-110.61C555.64,-109.07 564.6,-107.61 572.65,-106.29\"/>\n<polygon fill=\"black\" stroke=\"black\" points=\"573.35,-109.72 582.65,-104.65 572.22,-102.81 573.35,-109.72\"/>\n</g>\n<!-- 132486723053808*&#45;&gt;132486723053808 -->\n<g id=\"edge5\" class=\"edge\">\n<title>132486723053808*&#45;&gt;132486723053808</title>\n<path fill=\"none\" stroke=\"black\" d=\"M290.34,-128.5C297.77,-128.5 306.37,-128.5 315.6,-128.5\"/>\n<polygon fill=\"black\" stroke=\"black\" points=\"315.84,-132 325.84,-128.5 315.84,-125 315.84,-132\"/>\n</g>\n<!-- 132486723052368 -->\n<g id=\"node13\" class=\"node\">\n<title>132486723052368</title>\n<polygon fill=\"none\" stroke=\"black\" points=\"2.5,-55.5 2.5,-91.5 197.5,-91.5 197.5,-55.5 2.5,-55.5\"/>\n<text text-anchor=\"middle\" x=\"19\" y=\"-69.8\" font-family=\"Times,serif\" font-size=\"14.00\">w2</text>\n<polyline fill=\"none\" stroke=\"black\" points=\"35.5,-55.5 35.5,-91.5 \"/>\n<text text-anchor=\"middle\" x=\"75.5\" y=\"-69.8\" font-family=\"Times,serif\" font-size=\"14.00\">data 1.0000</text>\n<polyline fill=\"none\" stroke=\"black\" points=\"115.5,-55.5 115.5,-91.5 \"/>\n<text text-anchor=\"middle\" x=\"156.5\" y=\"-69.8\" font-family=\"Times,serif\" font-size=\"14.00\">grad 0.0000</text>\n</g>\n<!-- 132486723052368&#45;&gt;132486723054720* -->\n<g id=\"edge7\" class=\"edge\">\n<title>132486723052368&#45;&gt;132486723054720*</title>\n<path fill=\"none\" stroke=\"black\" d=\"M197.91,-73.5C207.65,-73.5 217.05,-73.5 225.52,-73.5\"/>\n<polygon fill=\"black\" stroke=\"black\" points=\"225.7,-77 235.7,-73.5 225.7,-70 225.7,-77\"/>\n</g>\n<!-- 132486723053520 -->\n<g id=\"node14\" class=\"node\">\n<title>132486723053520</title>\n<polygon fill=\"none\" stroke=\"black\" points=\"716,-27.5 716,-63.5 901,-63.5 901,-27.5 716,-27.5\"/>\n<text text-anchor=\"middle\" x=\"727.5\" y=\"-41.8\" font-family=\"Times,serif\" font-size=\"14.00\">b</text>\n<polyline fill=\"none\" stroke=\"black\" points=\"739,-27.5 739,-63.5 \"/>\n<text text-anchor=\"middle\" x=\"779\" y=\"-41.8\" font-family=\"Times,serif\" font-size=\"14.00\">data 6.8814</text>\n<polyline fill=\"none\" stroke=\"black\" points=\"819,-27.5 819,-63.5 \"/>\n<text text-anchor=\"middle\" x=\"860\" y=\"-41.8\" font-family=\"Times,serif\" font-size=\"14.00\">grad 0.0000</text>\n</g>\n<!-- 132486723053520&#45;&gt;132486723050544+ -->\n<g id=\"edge13\" class=\"edge\">\n<title>132486723053520&#45;&gt;132486723050544+</title>\n<path fill=\"none\" stroke=\"black\" d=\"M901.02,-58.01C926,-61.43 951.59,-64.93 971.37,-67.63\"/>\n<polygon fill=\"black\" stroke=\"black\" points=\"971.05,-71.12 981.43,-69.01 972,-64.18 971.05,-71.12\"/>\n</g>\n<!-- 132486723050976 -->\n<g id=\"node15\" class=\"node\">\n<title>132486723050976</title>\n<polygon fill=\"none\" stroke=\"black\" points=\"4,-0.5 4,-36.5 196,-36.5 196,-0.5 4,-0.5\"/>\n<text text-anchor=\"middle\" x=\"19\" y=\"-14.8\" font-family=\"Times,serif\" font-size=\"14.00\">x2</text>\n<polyline fill=\"none\" stroke=\"black\" points=\"34,-0.5 34,-36.5 \"/>\n<text text-anchor=\"middle\" x=\"74\" y=\"-14.8\" font-family=\"Times,serif\" font-size=\"14.00\">data 0.0000</text>\n<polyline fill=\"none\" stroke=\"black\" points=\"114,-0.5 114,-36.5 \"/>\n<text text-anchor=\"middle\" x=\"155\" y=\"-14.8\" font-family=\"Times,serif\" font-size=\"14.00\">grad 0.0000</text>\n</g>\n<!-- 132486723050976&#45;&gt;132486723054720* -->\n<g id=\"edge10\" class=\"edge\">\n<title>132486723050976&#45;&gt;132486723054720*</title>\n<path fill=\"none\" stroke=\"black\" d=\"M169.28,-36.5C179.65,-39.61 190.16,-42.98 200,-46.5 210.28,-50.17 221.28,-54.74 231.11,-59.07\"/>\n<polygon fill=\"black\" stroke=\"black\" points=\"229.93,-62.37 240.48,-63.27 232.79,-55.99 229.93,-62.37\"/>\n</g>\n</g>\n</svg>\n",
            "text/plain": [
              "<graphviz.graphs.Digraph at 0x787ef810ab30>"
            ]
          },
          "metadata": {},
          "execution_count": 70
        }
      ]
    },
    {
      "cell_type": "code",
      "source": [
        "o.backward()"
      ],
      "metadata": {
        "id": "-IWg8B_nHD8Q"
      },
      "execution_count": 71,
      "outputs": []
    },
    {
      "cell_type": "code",
      "source": [
        "draw_dot(o)"
      ],
      "metadata": {
        "colab": {
          "base_uri": "https://localhost:8080/",
          "height": 321
        },
        "id": "abxRUSLDHI8Z",
        "outputId": "c06f5527-cb9c-47bb-f669-ce8f606f3c5f"
      },
      "execution_count": 72,
      "outputs": [
        {
          "output_type": "execute_result",
          "data": {
            "image/svg+xml": "<?xml version=\"1.0\" encoding=\"UTF-8\" standalone=\"no\"?>\n<!DOCTYPE svg PUBLIC \"-//W3C//DTD SVG 1.1//EN\"\n \"http://www.w3.org/Graphics/SVG/1.1/DTD/svg11.dtd\">\n<!-- Generated by graphviz version 2.43.0 (0)\n -->\n<!-- Title: %3 Pages: 1 -->\n<svg width=\"1575pt\" height=\"210pt\"\n viewBox=\"0.00 0.00 1575.00 210.00\" xmlns=\"http://www.w3.org/2000/svg\" xmlns:xlink=\"http://www.w3.org/1999/xlink\">\n<g id=\"graph0\" class=\"graph\" transform=\"scale(1 1) rotate(0) translate(4 206)\">\n<title>%3</title>\n<polygon fill=\"white\" stroke=\"transparent\" points=\"-4,4 -4,-206 1571,-206 1571,4 -4,4\"/>\n<!-- 132486723058704 -->\n<g id=\"node1\" class=\"node\">\n<title>132486723058704</title>\n<polygon fill=\"none\" stroke=\"black\" points=\"0,-165.5 0,-201.5 200,-201.5 200,-165.5 0,-165.5\"/>\n<text text-anchor=\"middle\" x=\"16.5\" y=\"-179.8\" font-family=\"Times,serif\" font-size=\"14.00\">w1</text>\n<polyline fill=\"none\" stroke=\"black\" points=\"33,-165.5 33,-201.5 \"/>\n<text text-anchor=\"middle\" x=\"75.5\" y=\"-179.8\" font-family=\"Times,serif\" font-size=\"14.00\">data &#45;3.0000</text>\n<polyline fill=\"none\" stroke=\"black\" points=\"118,-165.5 118,-201.5 \"/>\n<text text-anchor=\"middle\" x=\"159\" y=\"-179.8\" font-family=\"Times,serif\" font-size=\"14.00\">grad 1.0000</text>\n</g>\n<!-- 132486723053808* -->\n<g id=\"node12\" class=\"node\">\n<title>132486723053808*</title>\n<ellipse fill=\"none\" stroke=\"black\" cx=\"263\" cy=\"-128.5\" rx=\"27\" ry=\"18\"/>\n<text text-anchor=\"middle\" x=\"263\" y=\"-124.8\" font-family=\"Times,serif\" font-size=\"14.00\">*</text>\n</g>\n<!-- 132486723058704&#45;&gt;132486723053808* -->\n<g id=\"edge6\" class=\"edge\">\n<title>132486723058704&#45;&gt;132486723053808*</title>\n<path fill=\"none\" stroke=\"black\" d=\"M172.53,-165.44C181.84,-162.67 191.2,-159.67 200,-156.5 210.53,-152.71 221.75,-147.9 231.72,-143.33\"/>\n<polygon fill=\"black\" stroke=\"black\" points=\"233.25,-146.48 240.82,-139.07 230.28,-140.14 233.25,-146.48\"/>\n</g>\n<!-- 132486723050544 -->\n<g id=\"node2\" class=\"node\">\n<title>132486723050544</title>\n<polygon fill=\"none\" stroke=\"black\" points=\"1071,-54.5 1071,-90.5 1256,-90.5 1256,-54.5 1071,-54.5\"/>\n<text text-anchor=\"middle\" x=\"1082.5\" y=\"-68.8\" font-family=\"Times,serif\" font-size=\"14.00\">n</text>\n<polyline fill=\"none\" stroke=\"black\" points=\"1094,-54.5 1094,-90.5 \"/>\n<text text-anchor=\"middle\" x=\"1134\" y=\"-68.8\" font-family=\"Times,serif\" font-size=\"14.00\">data 0.8814</text>\n<polyline fill=\"none\" stroke=\"black\" points=\"1174,-54.5 1174,-90.5 \"/>\n<text text-anchor=\"middle\" x=\"1215\" y=\"-68.8\" font-family=\"Times,serif\" font-size=\"14.00\">grad 0.5000</text>\n</g>\n<!-- 132486723058752tanh -->\n<g id=\"node5\" class=\"node\">\n<title>132486723058752tanh</title>\n<ellipse fill=\"none\" stroke=\"black\" cx=\"1319\" cy=\"-72.5\" rx=\"27\" ry=\"18\"/>\n<text text-anchor=\"middle\" x=\"1319\" y=\"-68.8\" font-family=\"Times,serif\" font-size=\"14.00\">tanh</text>\n</g>\n<!-- 132486723050544&#45;&gt;132486723058752tanh -->\n<g id=\"edge12\" class=\"edge\">\n<title>132486723050544&#45;&gt;132486723058752tanh</title>\n<path fill=\"none\" stroke=\"black\" d=\"M1256.01,-72.5C1265.01,-72.5 1273.74,-72.5 1281.66,-72.5\"/>\n<polygon fill=\"black\" stroke=\"black\" points=\"1281.91,-76 1291.91,-72.5 1281.91,-69 1281.91,-76\"/>\n</g>\n<!-- 132486723050544+ -->\n<g id=\"node3\" class=\"node\">\n<title>132486723050544+</title>\n<ellipse fill=\"none\" stroke=\"black\" cx=\"1008\" cy=\"-72.5\" rx=\"27\" ry=\"18\"/>\n<text text-anchor=\"middle\" x=\"1008\" y=\"-68.8\" font-family=\"Times,serif\" font-size=\"14.00\">+</text>\n</g>\n<!-- 132486723050544+&#45;&gt;132486723050544 -->\n<g id=\"edge1\" class=\"edge\">\n<title>132486723050544+&#45;&gt;132486723050544</title>\n<path fill=\"none\" stroke=\"black\" d=\"M1035.04,-72.5C1042.58,-72.5 1051.3,-72.5 1060.57,-72.5\"/>\n<polygon fill=\"black\" stroke=\"black\" points=\"1060.81,-76 1070.81,-72.5 1060.81,-69 1060.81,-76\"/>\n</g>\n<!-- 132486723058752 -->\n<g id=\"node4\" class=\"node\">\n<title>132486723058752</title>\n<polygon fill=\"none\" stroke=\"black\" points=\"1382,-54.5 1382,-90.5 1567,-90.5 1567,-54.5 1382,-54.5\"/>\n<text text-anchor=\"middle\" x=\"1393.5\" y=\"-68.8\" font-family=\"Times,serif\" font-size=\"14.00\">o</text>\n<polyline fill=\"none\" stroke=\"black\" points=\"1405,-54.5 1405,-90.5 \"/>\n<text text-anchor=\"middle\" x=\"1445\" y=\"-68.8\" font-family=\"Times,serif\" font-size=\"14.00\">data 0.7071</text>\n<polyline fill=\"none\" stroke=\"black\" points=\"1485,-54.5 1485,-90.5 \"/>\n<text text-anchor=\"middle\" x=\"1526\" y=\"-68.8\" font-family=\"Times,serif\" font-size=\"14.00\">grad 1.0000</text>\n</g>\n<!-- 132486723058752tanh&#45;&gt;132486723058752 -->\n<g id=\"edge2\" class=\"edge\">\n<title>132486723058752tanh&#45;&gt;132486723058752</title>\n<path fill=\"none\" stroke=\"black\" d=\"M1346.04,-72.5C1353.58,-72.5 1362.3,-72.5 1371.57,-72.5\"/>\n<polygon fill=\"black\" stroke=\"black\" points=\"1371.81,-76 1381.81,-72.5 1371.81,-69 1371.81,-76\"/>\n</g>\n<!-- 132486723057264 -->\n<g id=\"node6\" class=\"node\">\n<title>132486723057264</title>\n<polygon fill=\"none\" stroke=\"black\" points=\"672,-82.5 672,-118.5 945,-118.5 945,-82.5 672,-82.5\"/>\n<text text-anchor=\"middle\" x=\"725\" y=\"-96.8\" font-family=\"Times,serif\" font-size=\"14.00\">x1*w1 + x2*w2</text>\n<polyline fill=\"none\" stroke=\"black\" points=\"778,-82.5 778,-118.5 \"/>\n<text text-anchor=\"middle\" x=\"820.5\" y=\"-96.8\" font-family=\"Times,serif\" font-size=\"14.00\">data &#45;6.0000</text>\n<polyline fill=\"none\" stroke=\"black\" points=\"863,-82.5 863,-118.5 \"/>\n<text text-anchor=\"middle\" x=\"904\" y=\"-96.8\" font-family=\"Times,serif\" font-size=\"14.00\">grad 0.5000</text>\n</g>\n<!-- 132486723057264&#45;&gt;132486723050544+ -->\n<g id=\"edge11\" class=\"edge\">\n<title>132486723057264&#45;&gt;132486723050544+</title>\n<path fill=\"none\" stroke=\"black\" d=\"M936.53,-82.49C949.09,-80.71 960.99,-79.02 971.3,-77.56\"/>\n<polygon fill=\"black\" stroke=\"black\" points=\"972.03,-80.99 981.44,-76.12 971.05,-74.06 972.03,-80.99\"/>\n</g>\n<!-- 132486723057264+ -->\n<g id=\"node7\" class=\"node\">\n<title>132486723057264+</title>\n<ellipse fill=\"none\" stroke=\"black\" cx=\"609\" cy=\"-100.5\" rx=\"27\" ry=\"18\"/>\n<text text-anchor=\"middle\" x=\"609\" y=\"-96.8\" font-family=\"Times,serif\" font-size=\"14.00\">+</text>\n</g>\n<!-- 132486723057264+&#45;&gt;132486723057264 -->\n<g id=\"edge3\" class=\"edge\">\n<title>132486723057264+&#45;&gt;132486723057264</title>\n<path fill=\"none\" stroke=\"black\" d=\"M636.23,-100.5C643.7,-100.5 652.41,-100.5 661.87,-100.5\"/>\n<polygon fill=\"black\" stroke=\"black\" points=\"661.98,-104 671.98,-100.5 661.98,-97 661.98,-104\"/>\n</g>\n<!-- 132486723054720 -->\n<g id=\"node8\" class=\"node\">\n<title>132486723054720</title>\n<polygon fill=\"none\" stroke=\"black\" points=\"328.5,-55.5 328.5,-91.5 543.5,-91.5 543.5,-55.5 328.5,-55.5\"/>\n<text text-anchor=\"middle\" x=\"355\" y=\"-69.8\" font-family=\"Times,serif\" font-size=\"14.00\">x2*w2</text>\n<polyline fill=\"none\" stroke=\"black\" points=\"381.5,-55.5 381.5,-91.5 \"/>\n<text text-anchor=\"middle\" x=\"421.5\" y=\"-69.8\" font-family=\"Times,serif\" font-size=\"14.00\">data 0.0000</text>\n<polyline fill=\"none\" stroke=\"black\" points=\"461.5,-55.5 461.5,-91.5 \"/>\n<text text-anchor=\"middle\" x=\"502.5\" y=\"-69.8\" font-family=\"Times,serif\" font-size=\"14.00\">grad 0.5000</text>\n</g>\n<!-- 132486723054720&#45;&gt;132486723057264+ -->\n<g id=\"edge8\" class=\"edge\">\n<title>132486723054720&#45;&gt;132486723057264+</title>\n<path fill=\"none\" stroke=\"black\" d=\"M543.84,-90.37C554.01,-91.98 563.76,-93.51 572.44,-94.89\"/>\n<polygon fill=\"black\" stroke=\"black\" points=\"572.05,-98.37 582.47,-96.47 573.14,-91.45 572.05,-98.37\"/>\n</g>\n<!-- 132486723054720* -->\n<g id=\"node9\" class=\"node\">\n<title>132486723054720*</title>\n<ellipse fill=\"none\" stroke=\"black\" cx=\"263\" cy=\"-73.5\" rx=\"27\" ry=\"18\"/>\n<text text-anchor=\"middle\" x=\"263\" y=\"-69.8\" font-family=\"Times,serif\" font-size=\"14.00\">*</text>\n</g>\n<!-- 132486723054720*&#45;&gt;132486723054720 -->\n<g id=\"edge4\" class=\"edge\">\n<title>132486723054720*&#45;&gt;132486723054720</title>\n<path fill=\"none\" stroke=\"black\" d=\"M290.34,-73.5C298.51,-73.5 308.08,-73.5 318.36,-73.5\"/>\n<polygon fill=\"black\" stroke=\"black\" points=\"318.39,-77 328.39,-73.5 318.39,-70 318.39,-77\"/>\n</g>\n<!-- 132486723054768 -->\n<g id=\"node10\" class=\"node\">\n<title>132486723054768</title>\n<polygon fill=\"none\" stroke=\"black\" points=\"2,-110.5 2,-146.5 198,-146.5 198,-110.5 2,-110.5\"/>\n<text text-anchor=\"middle\" x=\"17\" y=\"-124.8\" font-family=\"Times,serif\" font-size=\"14.00\">x1</text>\n<polyline fill=\"none\" stroke=\"black\" points=\"32,-110.5 32,-146.5 \"/>\n<text text-anchor=\"middle\" x=\"72\" y=\"-124.8\" font-family=\"Times,serif\" font-size=\"14.00\">data 2.0000</text>\n<polyline fill=\"none\" stroke=\"black\" points=\"112,-110.5 112,-146.5 \"/>\n<text text-anchor=\"middle\" x=\"155\" y=\"-124.8\" font-family=\"Times,serif\" font-size=\"14.00\">grad &#45;1.5000</text>\n</g>\n<!-- 132486723054768&#45;&gt;132486723053808* -->\n<g id=\"edge9\" class=\"edge\">\n<title>132486723054768&#45;&gt;132486723053808*</title>\n<path fill=\"none\" stroke=\"black\" d=\"M198.37,-128.5C208.05,-128.5 217.4,-128.5 225.8,-128.5\"/>\n<polygon fill=\"black\" stroke=\"black\" points=\"225.91,-132 235.91,-128.5 225.91,-125 225.91,-132\"/>\n</g>\n<!-- 132486723053808 -->\n<g id=\"node11\" class=\"node\">\n<title>132486723053808</title>\n<polygon fill=\"none\" stroke=\"black\" points=\"326,-110.5 326,-146.5 546,-146.5 546,-110.5 326,-110.5\"/>\n<text text-anchor=\"middle\" x=\"352.5\" y=\"-124.8\" font-family=\"Times,serif\" font-size=\"14.00\">x1*w1</text>\n<polyline fill=\"none\" stroke=\"black\" points=\"379,-110.5 379,-146.5 \"/>\n<text text-anchor=\"middle\" x=\"421.5\" y=\"-124.8\" font-family=\"Times,serif\" font-size=\"14.00\">data &#45;6.0000</text>\n<polyline fill=\"none\" stroke=\"black\" points=\"464,-110.5 464,-146.5 \"/>\n<text text-anchor=\"middle\" x=\"505\" y=\"-124.8\" font-family=\"Times,serif\" font-size=\"14.00\">grad 0.5000</text>\n</g>\n<!-- 132486723053808&#45;&gt;132486723057264+ -->\n<g id=\"edge14\" class=\"edge\">\n<title>132486723053808&#45;&gt;132486723057264+</title>\n<path fill=\"none\" stroke=\"black\" d=\"M546.27,-110.61C555.64,-109.07 564.6,-107.61 572.65,-106.29\"/>\n<polygon fill=\"black\" stroke=\"black\" points=\"573.35,-109.72 582.65,-104.65 572.22,-102.81 573.35,-109.72\"/>\n</g>\n<!-- 132486723053808*&#45;&gt;132486723053808 -->\n<g id=\"edge5\" class=\"edge\">\n<title>132486723053808*&#45;&gt;132486723053808</title>\n<path fill=\"none\" stroke=\"black\" d=\"M290.34,-128.5C297.77,-128.5 306.37,-128.5 315.6,-128.5\"/>\n<polygon fill=\"black\" stroke=\"black\" points=\"315.84,-132 325.84,-128.5 315.84,-125 315.84,-132\"/>\n</g>\n<!-- 132486723052368 -->\n<g id=\"node13\" class=\"node\">\n<title>132486723052368</title>\n<polygon fill=\"none\" stroke=\"black\" points=\"2.5,-55.5 2.5,-91.5 197.5,-91.5 197.5,-55.5 2.5,-55.5\"/>\n<text text-anchor=\"middle\" x=\"19\" y=\"-69.8\" font-family=\"Times,serif\" font-size=\"14.00\">w2</text>\n<polyline fill=\"none\" stroke=\"black\" points=\"35.5,-55.5 35.5,-91.5 \"/>\n<text text-anchor=\"middle\" x=\"75.5\" y=\"-69.8\" font-family=\"Times,serif\" font-size=\"14.00\">data 1.0000</text>\n<polyline fill=\"none\" stroke=\"black\" points=\"115.5,-55.5 115.5,-91.5 \"/>\n<text text-anchor=\"middle\" x=\"156.5\" y=\"-69.8\" font-family=\"Times,serif\" font-size=\"14.00\">grad 0.0000</text>\n</g>\n<!-- 132486723052368&#45;&gt;132486723054720* -->\n<g id=\"edge7\" class=\"edge\">\n<title>132486723052368&#45;&gt;132486723054720*</title>\n<path fill=\"none\" stroke=\"black\" d=\"M197.91,-73.5C207.65,-73.5 217.05,-73.5 225.52,-73.5\"/>\n<polygon fill=\"black\" stroke=\"black\" points=\"225.7,-77 235.7,-73.5 225.7,-70 225.7,-77\"/>\n</g>\n<!-- 132486723053520 -->\n<g id=\"node14\" class=\"node\">\n<title>132486723053520</title>\n<polygon fill=\"none\" stroke=\"black\" points=\"716,-27.5 716,-63.5 901,-63.5 901,-27.5 716,-27.5\"/>\n<text text-anchor=\"middle\" x=\"727.5\" y=\"-41.8\" font-family=\"Times,serif\" font-size=\"14.00\">b</text>\n<polyline fill=\"none\" stroke=\"black\" points=\"739,-27.5 739,-63.5 \"/>\n<text text-anchor=\"middle\" x=\"779\" y=\"-41.8\" font-family=\"Times,serif\" font-size=\"14.00\">data 6.8814</text>\n<polyline fill=\"none\" stroke=\"black\" points=\"819,-27.5 819,-63.5 \"/>\n<text text-anchor=\"middle\" x=\"860\" y=\"-41.8\" font-family=\"Times,serif\" font-size=\"14.00\">grad 0.5000</text>\n</g>\n<!-- 132486723053520&#45;&gt;132486723050544+ -->\n<g id=\"edge13\" class=\"edge\">\n<title>132486723053520&#45;&gt;132486723050544+</title>\n<path fill=\"none\" stroke=\"black\" d=\"M901.02,-58.01C926,-61.43 951.59,-64.93 971.37,-67.63\"/>\n<polygon fill=\"black\" stroke=\"black\" points=\"971.05,-71.12 981.43,-69.01 972,-64.18 971.05,-71.12\"/>\n</g>\n<!-- 132486723050976 -->\n<g id=\"node15\" class=\"node\">\n<title>132486723050976</title>\n<polygon fill=\"none\" stroke=\"black\" points=\"4,-0.5 4,-36.5 196,-36.5 196,-0.5 4,-0.5\"/>\n<text text-anchor=\"middle\" x=\"19\" y=\"-14.8\" font-family=\"Times,serif\" font-size=\"14.00\">x2</text>\n<polyline fill=\"none\" stroke=\"black\" points=\"34,-0.5 34,-36.5 \"/>\n<text text-anchor=\"middle\" x=\"74\" y=\"-14.8\" font-family=\"Times,serif\" font-size=\"14.00\">data 0.0000</text>\n<polyline fill=\"none\" stroke=\"black\" points=\"114,-0.5 114,-36.5 \"/>\n<text text-anchor=\"middle\" x=\"155\" y=\"-14.8\" font-family=\"Times,serif\" font-size=\"14.00\">grad 0.5000</text>\n</g>\n<!-- 132486723050976&#45;&gt;132486723054720* -->\n<g id=\"edge10\" class=\"edge\">\n<title>132486723050976&#45;&gt;132486723054720*</title>\n<path fill=\"none\" stroke=\"black\" d=\"M169.28,-36.5C179.65,-39.61 190.16,-42.98 200,-46.5 210.28,-50.17 221.28,-54.74 231.11,-59.07\"/>\n<polygon fill=\"black\" stroke=\"black\" points=\"229.93,-62.37 240.48,-63.27 232.79,-55.99 229.93,-62.37\"/>\n</g>\n</g>\n</svg>\n",
            "text/plain": [
              "<graphviz.graphs.Digraph at 0x787ef810b1f0>"
            ]
          },
          "metadata": {},
          "execution_count": 72
        }
      ]
    },
    {
      "cell_type": "markdown",
      "source": [
        "Well, we've done it.<br>\n",
        "We have successfully calculated the gradients by backward propagation.<br>\n",
        "\n",
        "But, it's not robust yet. Let's see a loophole in our implementation."
      ],
      "metadata": {
        "id": "fq6fKoHQHbZv"
      }
    },
    {
      "cell_type": "code",
      "source": [
        "a = Value(3.0, label = 'a')"
      ],
      "metadata": {
        "id": "0ZwVdYfFHMCU"
      },
      "execution_count": 73,
      "outputs": []
    },
    {
      "cell_type": "code",
      "source": [
        "b = a + a; b.label = 'b'"
      ],
      "metadata": {
        "id": "8SVIPuIoIHGx"
      },
      "execution_count": 74,
      "outputs": []
    },
    {
      "cell_type": "code",
      "source": [
        "a"
      ],
      "metadata": {
        "colab": {
          "base_uri": "https://localhost:8080/"
        },
        "id": "UFa1EejBIKV9",
        "outputId": "a39d2b7a-952b-4d4a-ad06-ae5800ea908c"
      },
      "execution_count": 75,
      "outputs": [
        {
          "output_type": "execute_result",
          "data": {
            "text/plain": [
              "Value(data=3.0)"
            ]
          },
          "metadata": {},
          "execution_count": 75
        }
      ]
    },
    {
      "cell_type": "code",
      "source": [
        "b"
      ],
      "metadata": {
        "colab": {
          "base_uri": "https://localhost:8080/"
        },
        "id": "hPyfEEFQIK4U",
        "outputId": "73eab931-9a4c-4940-ddd7-042773375b40"
      },
      "execution_count": 76,
      "outputs": [
        {
          "output_type": "execute_result",
          "data": {
            "text/plain": [
              "Value(data=6.0)"
            ]
          },
          "metadata": {},
          "execution_count": 76
        }
      ]
    },
    {
      "cell_type": "code",
      "source": [
        "b.backward()"
      ],
      "metadata": {
        "id": "6e9XsoUSILOX"
      },
      "execution_count": 77,
      "outputs": []
    },
    {
      "cell_type": "code",
      "source": [
        "draw_dot(b)"
      ],
      "metadata": {
        "colab": {
          "base_uri": "https://localhost:8080/",
          "height": 81
        },
        "id": "i_RAzOaDIQN0",
        "outputId": "9267c047-8591-4c08-b79e-0d3b36d5bfd2"
      },
      "execution_count": 78,
      "outputs": [
        {
          "output_type": "execute_result",
          "data": {
            "image/svg+xml": "<?xml version=\"1.0\" encoding=\"UTF-8\" standalone=\"no\"?>\n<!DOCTYPE svg PUBLIC \"-//W3C//DTD SVG 1.1//EN\"\n \"http://www.w3.org/Graphics/SVG/1.1/DTD/svg11.dtd\">\n<!-- Generated by graphviz version 2.43.0 (0)\n -->\n<!-- Title: %3 Pages: 1 -->\n<svg width=\"504pt\" height=\"45pt\"\n viewBox=\"0.00 0.00 504.00 45.00\" xmlns=\"http://www.w3.org/2000/svg\" xmlns:xlink=\"http://www.w3.org/1999/xlink\">\n<g id=\"graph0\" class=\"graph\" transform=\"scale(1 1) rotate(0) translate(4 41)\">\n<title>%3</title>\n<polygon fill=\"white\" stroke=\"transparent\" points=\"-4,4 -4,-41 500,-41 500,4 -4,4\"/>\n<!-- 132486723057408 -->\n<g id=\"node1\" class=\"node\">\n<title>132486723057408</title>\n<polygon fill=\"none\" stroke=\"black\" points=\"311,-0.5 311,-36.5 496,-36.5 496,-0.5 311,-0.5\"/>\n<text text-anchor=\"middle\" x=\"322.5\" y=\"-14.8\" font-family=\"Times,serif\" font-size=\"14.00\">b</text>\n<polyline fill=\"none\" stroke=\"black\" points=\"334,-0.5 334,-36.5 \"/>\n<text text-anchor=\"middle\" x=\"374\" y=\"-14.8\" font-family=\"Times,serif\" font-size=\"14.00\">data 6.0000</text>\n<polyline fill=\"none\" stroke=\"black\" points=\"414,-0.5 414,-36.5 \"/>\n<text text-anchor=\"middle\" x=\"455\" y=\"-14.8\" font-family=\"Times,serif\" font-size=\"14.00\">grad 1.0000</text>\n</g>\n<!-- 132486723057408+ -->\n<g id=\"node2\" class=\"node\">\n<title>132486723057408+</title>\n<ellipse fill=\"none\" stroke=\"black\" cx=\"248\" cy=\"-18.5\" rx=\"27\" ry=\"18\"/>\n<text text-anchor=\"middle\" x=\"248\" y=\"-14.8\" font-family=\"Times,serif\" font-size=\"14.00\">+</text>\n</g>\n<!-- 132486723057408+&#45;&gt;132486723057408 -->\n<g id=\"edge1\" class=\"edge\">\n<title>132486723057408+&#45;&gt;132486723057408</title>\n<path fill=\"none\" stroke=\"black\" d=\"M275.04,-18.5C282.58,-18.5 291.3,-18.5 300.57,-18.5\"/>\n<polygon fill=\"black\" stroke=\"black\" points=\"300.81,-22 310.81,-18.5 300.81,-15 300.81,-22\"/>\n</g>\n<!-- 132486723050832 -->\n<g id=\"node3\" class=\"node\">\n<title>132486723050832</title>\n<polygon fill=\"none\" stroke=\"black\" points=\"0,-0.5 0,-36.5 185,-36.5 185,-0.5 0,-0.5\"/>\n<text text-anchor=\"middle\" x=\"11.5\" y=\"-14.8\" font-family=\"Times,serif\" font-size=\"14.00\">a</text>\n<polyline fill=\"none\" stroke=\"black\" points=\"23,-0.5 23,-36.5 \"/>\n<text text-anchor=\"middle\" x=\"63\" y=\"-14.8\" font-family=\"Times,serif\" font-size=\"14.00\">data 3.0000</text>\n<polyline fill=\"none\" stroke=\"black\" points=\"103,-0.5 103,-36.5 \"/>\n<text text-anchor=\"middle\" x=\"144\" y=\"-14.8\" font-family=\"Times,serif\" font-size=\"14.00\">grad 1.0000</text>\n</g>\n<!-- 132486723050832&#45;&gt;132486723057408+ -->\n<g id=\"edge2\" class=\"edge\">\n<title>132486723050832&#45;&gt;132486723057408+</title>\n<path fill=\"none\" stroke=\"black\" d=\"M185.01,-18.5C194.01,-18.5 202.74,-18.5 210.66,-18.5\"/>\n<polygon fill=\"black\" stroke=\"black\" points=\"210.91,-22 220.91,-18.5 210.91,-15 210.91,-22\"/>\n</g>\n</g>\n</svg>\n",
            "text/plain": [
              "<graphviz.graphs.Digraph at 0x787ef8109db0>"
            ]
          },
          "metadata": {},
          "execution_count": 78
        }
      ]
    },
    {
      "cell_type": "markdown",
      "source": [
        "Well, it's calculating the gradient but the gradient it calculated is wrong."
      ],
      "metadata": {
        "id": "r2Kym1NKJxdM"
      }
    },
    {
      "cell_type": "markdown",
      "source": [
        "Let's exploit the loophole even more !"
      ],
      "metadata": {
        "id": "xbO4tv2SMplK"
      }
    },
    {
      "cell_type": "code",
      "source": [
        "a = Value(-2.0, label='a')\n",
        "b = Value(3.0, label='b')\n",
        "d = a * b    ; d.label = 'd'\n",
        "e = a + b    ; e.label = 'e'\n",
        "f = d * e    ; f.label = 'f'"
      ],
      "metadata": {
        "id": "UQug33QEMpZ2"
      },
      "execution_count": 79,
      "outputs": []
    },
    {
      "cell_type": "code",
      "source": [
        "draw_dot(f)"
      ],
      "metadata": {
        "colab": {
          "base_uri": "https://localhost:8080/",
          "height": 155
        },
        "id": "UksRchDFNFaT",
        "outputId": "b40c581f-aefc-4946-a3f1-f05b071eb677"
      },
      "execution_count": 80,
      "outputs": [
        {
          "output_type": "execute_result",
          "data": {
            "image/svg+xml": "<?xml version=\"1.0\" encoding=\"UTF-8\" standalone=\"no\"?>\n<!DOCTYPE svg PUBLIC \"-//W3C//DTD SVG 1.1//EN\"\n \"http://www.w3.org/Graphics/SVG/1.1/DTD/svg11.dtd\">\n<!-- Generated by graphviz version 2.43.0 (0)\n -->\n<!-- Title: %3 Pages: 1 -->\n<svg width=\"828pt\" height=\"100pt\"\n viewBox=\"0.00 0.00 828.00 100.00\" xmlns=\"http://www.w3.org/2000/svg\" xmlns:xlink=\"http://www.w3.org/1999/xlink\">\n<g id=\"graph0\" class=\"graph\" transform=\"scale(1 1) rotate(0) translate(4 96)\">\n<title>%3</title>\n<polygon fill=\"white\" stroke=\"transparent\" points=\"-4,4 -4,-96 824,-96 824,4 -4,4\"/>\n<!-- 132486723055344 -->\n<g id=\"node1\" class=\"node\">\n<title>132486723055344</title>\n<polygon fill=\"none\" stroke=\"black\" points=\"632,-27.5 632,-63.5 820,-63.5 820,-27.5 632,-27.5\"/>\n<text text-anchor=\"middle\" x=\"642.5\" y=\"-41.8\" font-family=\"Times,serif\" font-size=\"14.00\">f</text>\n<polyline fill=\"none\" stroke=\"black\" points=\"653,-27.5 653,-63.5 \"/>\n<text text-anchor=\"middle\" x=\"695.5\" y=\"-41.8\" font-family=\"Times,serif\" font-size=\"14.00\">data &#45;6.0000</text>\n<polyline fill=\"none\" stroke=\"black\" points=\"738,-27.5 738,-63.5 \"/>\n<text text-anchor=\"middle\" x=\"779\" y=\"-41.8\" font-family=\"Times,serif\" font-size=\"14.00\">grad 0.0000</text>\n</g>\n<!-- 132486723055344* -->\n<g id=\"node2\" class=\"node\">\n<title>132486723055344*</title>\n<ellipse fill=\"none\" stroke=\"black\" cx=\"569\" cy=\"-45.5\" rx=\"27\" ry=\"18\"/>\n<text text-anchor=\"middle\" x=\"569\" y=\"-41.8\" font-family=\"Times,serif\" font-size=\"14.00\">*</text>\n</g>\n<!-- 132486723055344*&#45;&gt;132486723055344 -->\n<g id=\"edge1\" class=\"edge\">\n<title>132486723055344*&#45;&gt;132486723055344</title>\n<path fill=\"none\" stroke=\"black\" d=\"M596.29,-45.5C603.78,-45.5 612.42,-45.5 621.6,-45.5\"/>\n<polygon fill=\"black\" stroke=\"black\" points=\"621.76,-49 631.76,-45.5 621.76,-42 621.76,-49\"/>\n</g>\n<!-- 132486723058992 -->\n<g id=\"node3\" class=\"node\">\n<title>132486723058992</title>\n<polygon fill=\"none\" stroke=\"black\" points=\"0,-55.5 0,-91.5 190,-91.5 190,-55.5 0,-55.5\"/>\n<text text-anchor=\"middle\" x=\"11.5\" y=\"-69.8\" font-family=\"Times,serif\" font-size=\"14.00\">a</text>\n<polyline fill=\"none\" stroke=\"black\" points=\"23,-55.5 23,-91.5 \"/>\n<text text-anchor=\"middle\" x=\"65.5\" y=\"-69.8\" font-family=\"Times,serif\" font-size=\"14.00\">data &#45;2.0000</text>\n<polyline fill=\"none\" stroke=\"black\" points=\"108,-55.5 108,-91.5 \"/>\n<text text-anchor=\"middle\" x=\"149\" y=\"-69.8\" font-family=\"Times,serif\" font-size=\"14.00\">grad 0.0000</text>\n</g>\n<!-- 132486723055440* -->\n<g id=\"node5\" class=\"node\">\n<title>132486723055440*</title>\n<ellipse fill=\"none\" stroke=\"black\" cx=\"253\" cy=\"-73.5\" rx=\"27\" ry=\"18\"/>\n<text text-anchor=\"middle\" x=\"253\" y=\"-69.8\" font-family=\"Times,serif\" font-size=\"14.00\">*</text>\n</g>\n<!-- 132486723058992&#45;&gt;132486723055440* -->\n<g id=\"edge9\" class=\"edge\">\n<title>132486723058992&#45;&gt;132486723055440*</title>\n<path fill=\"none\" stroke=\"black\" d=\"M190.34,-73.5C199.26,-73.5 207.87,-73.5 215.69,-73.5\"/>\n<polygon fill=\"black\" stroke=\"black\" points=\"215.82,-77 225.82,-73.5 215.82,-70 215.82,-77\"/>\n</g>\n<!-- 132486723043728+ -->\n<g id=\"node8\" class=\"node\">\n<title>132486723043728+</title>\n<ellipse fill=\"none\" stroke=\"black\" cx=\"253\" cy=\"-18.5\" rx=\"27\" ry=\"18\"/>\n<text text-anchor=\"middle\" x=\"253\" y=\"-14.8\" font-family=\"Times,serif\" font-size=\"14.00\">+</text>\n</g>\n<!-- 132486723058992&#45;&gt;132486723043728+ -->\n<g id=\"edge7\" class=\"edge\">\n<title>132486723058992&#45;&gt;132486723043728+</title>\n<path fill=\"none\" stroke=\"black\" d=\"M163.39,-55.42C172.4,-52.63 181.47,-49.63 190,-46.5 200.5,-42.64 211.72,-37.81 221.69,-33.24\"/>\n<polygon fill=\"black\" stroke=\"black\" points=\"223.21,-36.39 230.8,-28.99 220.26,-30.05 223.21,-36.39\"/>\n</g>\n<!-- 132486723055440 -->\n<g id=\"node4\" class=\"node\">\n<title>132486723055440</title>\n<polygon fill=\"none\" stroke=\"black\" points=\"316,-55.5 316,-91.5 506,-91.5 506,-55.5 316,-55.5\"/>\n<text text-anchor=\"middle\" x=\"327.5\" y=\"-69.8\" font-family=\"Times,serif\" font-size=\"14.00\">d</text>\n<polyline fill=\"none\" stroke=\"black\" points=\"339,-55.5 339,-91.5 \"/>\n<text text-anchor=\"middle\" x=\"381.5\" y=\"-69.8\" font-family=\"Times,serif\" font-size=\"14.00\">data &#45;6.0000</text>\n<polyline fill=\"none\" stroke=\"black\" points=\"424,-55.5 424,-91.5 \"/>\n<text text-anchor=\"middle\" x=\"465\" y=\"-69.8\" font-family=\"Times,serif\" font-size=\"14.00\">grad 0.0000</text>\n</g>\n<!-- 132486723055440&#45;&gt;132486723055344* -->\n<g id=\"edge4\" class=\"edge\">\n<title>132486723055440&#45;&gt;132486723055344*</title>\n<path fill=\"none\" stroke=\"black\" d=\"M506.34,-56.57C515.62,-54.9 524.58,-53.29 532.66,-51.84\"/>\n<polygon fill=\"black\" stroke=\"black\" points=\"533.49,-55.25 542.72,-50.04 532.26,-48.36 533.49,-55.25\"/>\n</g>\n<!-- 132486723055440*&#45;&gt;132486723055440 -->\n<g id=\"edge2\" class=\"edge\">\n<title>132486723055440*&#45;&gt;132486723055440</title>\n<path fill=\"none\" stroke=\"black\" d=\"M280.11,-73.5C287.63,-73.5 296.32,-73.5 305.58,-73.5\"/>\n<polygon fill=\"black\" stroke=\"black\" points=\"305.81,-77 315.81,-73.5 305.81,-70 305.81,-77\"/>\n</g>\n<!-- 132486723053904 -->\n<g id=\"node6\" class=\"node\">\n<title>132486723053904</title>\n<polygon fill=\"none\" stroke=\"black\" points=\"2.5,-0.5 2.5,-36.5 187.5,-36.5 187.5,-0.5 2.5,-0.5\"/>\n<text text-anchor=\"middle\" x=\"14\" y=\"-14.8\" font-family=\"Times,serif\" font-size=\"14.00\">b</text>\n<polyline fill=\"none\" stroke=\"black\" points=\"25.5,-0.5 25.5,-36.5 \"/>\n<text text-anchor=\"middle\" x=\"65.5\" y=\"-14.8\" font-family=\"Times,serif\" font-size=\"14.00\">data 3.0000</text>\n<polyline fill=\"none\" stroke=\"black\" points=\"105.5,-0.5 105.5,-36.5 \"/>\n<text text-anchor=\"middle\" x=\"146.5\" y=\"-14.8\" font-family=\"Times,serif\" font-size=\"14.00\">grad 0.0000</text>\n</g>\n<!-- 132486723053904&#45;&gt;132486723055440* -->\n<g id=\"edge8\" class=\"edge\">\n<title>132486723053904&#45;&gt;132486723055440*</title>\n<path fill=\"none\" stroke=\"black\" d=\"M160.31,-36.52C170.31,-39.65 180.48,-43.02 190,-46.5 200.26,-50.25 211.24,-54.83 221.08,-59.16\"/>\n<polygon fill=\"black\" stroke=\"black\" points=\"219.9,-62.46 230.45,-63.35 222.75,-56.07 219.9,-62.46\"/>\n</g>\n<!-- 132486723053904&#45;&gt;132486723043728+ -->\n<g id=\"edge6\" class=\"edge\">\n<title>132486723053904&#45;&gt;132486723043728+</title>\n<path fill=\"none\" stroke=\"black\" d=\"M187.65,-18.5C197.55,-18.5 207.15,-18.5 215.78,-18.5\"/>\n<polygon fill=\"black\" stroke=\"black\" points=\"215.78,-22 225.78,-18.5 215.78,-15 215.78,-22\"/>\n</g>\n<!-- 132486723043728 -->\n<g id=\"node7\" class=\"node\">\n<title>132486723043728</title>\n<polygon fill=\"none\" stroke=\"black\" points=\"318.5,-0.5 318.5,-36.5 503.5,-36.5 503.5,-0.5 318.5,-0.5\"/>\n<text text-anchor=\"middle\" x=\"330\" y=\"-14.8\" font-family=\"Times,serif\" font-size=\"14.00\">e</text>\n<polyline fill=\"none\" stroke=\"black\" points=\"341.5,-0.5 341.5,-36.5 \"/>\n<text text-anchor=\"middle\" x=\"381.5\" y=\"-14.8\" font-family=\"Times,serif\" font-size=\"14.00\">data 1.0000</text>\n<polyline fill=\"none\" stroke=\"black\" points=\"421.5,-0.5 421.5,-36.5 \"/>\n<text text-anchor=\"middle\" x=\"462.5\" y=\"-14.8\" font-family=\"Times,serif\" font-size=\"14.00\">grad 0.0000</text>\n</g>\n<!-- 132486723043728&#45;&gt;132486723055344* -->\n<g id=\"edge5\" class=\"edge\">\n<title>132486723043728&#45;&gt;132486723055344*</title>\n<path fill=\"none\" stroke=\"black\" d=\"M503.65,-34.36C513.94,-36.14 523.91,-37.87 532.81,-39.41\"/>\n<polygon fill=\"black\" stroke=\"black\" points=\"532.26,-42.87 542.71,-41.12 533.45,-35.97 532.26,-42.87\"/>\n</g>\n<!-- 132486723043728+&#45;&gt;132486723043728 -->\n<g id=\"edge3\" class=\"edge\">\n<title>132486723043728+&#45;&gt;132486723043728</title>\n<path fill=\"none\" stroke=\"black\" d=\"M280.11,-18.5C288.39,-18.5 298.1,-18.5 308.42,-18.5\"/>\n<polygon fill=\"black\" stroke=\"black\" points=\"308.47,-22 318.47,-18.5 308.47,-15 308.47,-22\"/>\n</g>\n</g>\n</svg>\n",
            "text/plain": [
              "<graphviz.graphs.Digraph at 0x787ef8109b10>"
            ]
          },
          "metadata": {},
          "execution_count": 80
        }
      ]
    },
    {
      "cell_type": "code",
      "source": [
        "f.backward()"
      ],
      "metadata": {
        "id": "xL3RQnEUOLdA"
      },
      "execution_count": 81,
      "outputs": []
    },
    {
      "cell_type": "code",
      "source": [
        "draw_dot(f)"
      ],
      "metadata": {
        "colab": {
          "base_uri": "https://localhost:8080/",
          "height": 155
        },
        "id": "50bbkhgAOOVB",
        "outputId": "c0b1187d-ccbc-4f83-bb88-599a6feb7678"
      },
      "execution_count": 82,
      "outputs": [
        {
          "output_type": "execute_result",
          "data": {
            "image/svg+xml": "<?xml version=\"1.0\" encoding=\"UTF-8\" standalone=\"no\"?>\n<!DOCTYPE svg PUBLIC \"-//W3C//DTD SVG 1.1//EN\"\n \"http://www.w3.org/Graphics/SVG/1.1/DTD/svg11.dtd\">\n<!-- Generated by graphviz version 2.43.0 (0)\n -->\n<!-- Title: %3 Pages: 1 -->\n<svg width=\"832pt\" height=\"100pt\"\n viewBox=\"0.00 0.00 832.00 100.00\" xmlns=\"http://www.w3.org/2000/svg\" xmlns:xlink=\"http://www.w3.org/1999/xlink\">\n<g id=\"graph0\" class=\"graph\" transform=\"scale(1 1) rotate(0) translate(4 96)\">\n<title>%3</title>\n<polygon fill=\"white\" stroke=\"transparent\" points=\"-4,4 -4,-96 828,-96 828,4 -4,4\"/>\n<!-- 132486723055344 -->\n<g id=\"node1\" class=\"node\">\n<title>132486723055344</title>\n<polygon fill=\"none\" stroke=\"black\" points=\"636,-27.5 636,-63.5 824,-63.5 824,-27.5 636,-27.5\"/>\n<text text-anchor=\"middle\" x=\"646.5\" y=\"-41.8\" font-family=\"Times,serif\" font-size=\"14.00\">f</text>\n<polyline fill=\"none\" stroke=\"black\" points=\"657,-27.5 657,-63.5 \"/>\n<text text-anchor=\"middle\" x=\"699.5\" y=\"-41.8\" font-family=\"Times,serif\" font-size=\"14.00\">data &#45;6.0000</text>\n<polyline fill=\"none\" stroke=\"black\" points=\"742,-27.5 742,-63.5 \"/>\n<text text-anchor=\"middle\" x=\"783\" y=\"-41.8\" font-family=\"Times,serif\" font-size=\"14.00\">grad 1.0000</text>\n</g>\n<!-- 132486723055344* -->\n<g id=\"node2\" class=\"node\">\n<title>132486723055344*</title>\n<ellipse fill=\"none\" stroke=\"black\" cx=\"573\" cy=\"-45.5\" rx=\"27\" ry=\"18\"/>\n<text text-anchor=\"middle\" x=\"573\" y=\"-41.8\" font-family=\"Times,serif\" font-size=\"14.00\">*</text>\n</g>\n<!-- 132486723055344*&#45;&gt;132486723055344 -->\n<g id=\"edge1\" class=\"edge\">\n<title>132486723055344*&#45;&gt;132486723055344</title>\n<path fill=\"none\" stroke=\"black\" d=\"M600.29,-45.5C607.78,-45.5 616.42,-45.5 625.6,-45.5\"/>\n<polygon fill=\"black\" stroke=\"black\" points=\"625.76,-49 635.76,-45.5 625.76,-42 625.76,-49\"/>\n</g>\n<!-- 132486723058992 -->\n<g id=\"node3\" class=\"node\">\n<title>132486723058992</title>\n<polygon fill=\"none\" stroke=\"black\" points=\"0,-55.5 0,-91.5 194,-91.5 194,-55.5 0,-55.5\"/>\n<text text-anchor=\"middle\" x=\"11.5\" y=\"-69.8\" font-family=\"Times,serif\" font-size=\"14.00\">a</text>\n<polyline fill=\"none\" stroke=\"black\" points=\"23,-55.5 23,-91.5 \"/>\n<text text-anchor=\"middle\" x=\"65.5\" y=\"-69.8\" font-family=\"Times,serif\" font-size=\"14.00\">data &#45;2.0000</text>\n<polyline fill=\"none\" stroke=\"black\" points=\"108,-55.5 108,-91.5 \"/>\n<text text-anchor=\"middle\" x=\"151\" y=\"-69.8\" font-family=\"Times,serif\" font-size=\"14.00\">grad &#45;6.0000</text>\n</g>\n<!-- 132486723055440* -->\n<g id=\"node5\" class=\"node\">\n<title>132486723055440*</title>\n<ellipse fill=\"none\" stroke=\"black\" cx=\"257\" cy=\"-73.5\" rx=\"27\" ry=\"18\"/>\n<text text-anchor=\"middle\" x=\"257\" y=\"-69.8\" font-family=\"Times,serif\" font-size=\"14.00\">*</text>\n</g>\n<!-- 132486723058992&#45;&gt;132486723055440* -->\n<g id=\"edge9\" class=\"edge\">\n<title>132486723058992&#45;&gt;132486723055440*</title>\n<path fill=\"none\" stroke=\"black\" d=\"M194.01,-73.5C202.98,-73.5 211.65,-73.5 219.51,-73.5\"/>\n<polygon fill=\"black\" stroke=\"black\" points=\"219.7,-77 229.7,-73.5 219.7,-70 219.7,-77\"/>\n</g>\n<!-- 132486723043728+ -->\n<g id=\"node8\" class=\"node\">\n<title>132486723043728+</title>\n<ellipse fill=\"none\" stroke=\"black\" cx=\"257\" cy=\"-18.5\" rx=\"27\" ry=\"18\"/>\n<text text-anchor=\"middle\" x=\"257\" y=\"-14.8\" font-family=\"Times,serif\" font-size=\"14.00\">+</text>\n</g>\n<!-- 132486723058992&#45;&gt;132486723043728+ -->\n<g id=\"edge7\" class=\"edge\">\n<title>132486723058992&#45;&gt;132486723043728+</title>\n<path fill=\"none\" stroke=\"black\" d=\"M166.84,-55.49C176.04,-52.69 185.3,-49.67 194,-46.5 204.51,-42.67 215.73,-37.84 225.7,-33.28\"/>\n<polygon fill=\"black\" stroke=\"black\" points=\"227.23,-36.43 234.81,-29.02 224.27,-30.09 227.23,-36.43\"/>\n</g>\n<!-- 132486723055440 -->\n<g id=\"node4\" class=\"node\">\n<title>132486723055440</title>\n<polygon fill=\"none\" stroke=\"black\" points=\"320,-55.5 320,-91.5 510,-91.5 510,-55.5 320,-55.5\"/>\n<text text-anchor=\"middle\" x=\"331.5\" y=\"-69.8\" font-family=\"Times,serif\" font-size=\"14.00\">d</text>\n<polyline fill=\"none\" stroke=\"black\" points=\"343,-55.5 343,-91.5 \"/>\n<text text-anchor=\"middle\" x=\"385.5\" y=\"-69.8\" font-family=\"Times,serif\" font-size=\"14.00\">data &#45;6.0000</text>\n<polyline fill=\"none\" stroke=\"black\" points=\"428,-55.5 428,-91.5 \"/>\n<text text-anchor=\"middle\" x=\"469\" y=\"-69.8\" font-family=\"Times,serif\" font-size=\"14.00\">grad 1.0000</text>\n</g>\n<!-- 132486723055440&#45;&gt;132486723055344* -->\n<g id=\"edge4\" class=\"edge\">\n<title>132486723055440&#45;&gt;132486723055344*</title>\n<path fill=\"none\" stroke=\"black\" d=\"M510.34,-56.57C519.62,-54.9 528.58,-53.29 536.66,-51.84\"/>\n<polygon fill=\"black\" stroke=\"black\" points=\"537.49,-55.25 546.72,-50.04 536.26,-48.36 537.49,-55.25\"/>\n</g>\n<!-- 132486723055440*&#45;&gt;132486723055440 -->\n<g id=\"edge2\" class=\"edge\">\n<title>132486723055440*&#45;&gt;132486723055440</title>\n<path fill=\"none\" stroke=\"black\" d=\"M284.11,-73.5C291.63,-73.5 300.32,-73.5 309.58,-73.5\"/>\n<polygon fill=\"black\" stroke=\"black\" points=\"309.81,-77 319.81,-73.5 309.81,-70 309.81,-77\"/>\n</g>\n<!-- 132486723053904 -->\n<g id=\"node6\" class=\"node\">\n<title>132486723053904</title>\n<polygon fill=\"none\" stroke=\"black\" points=\"2.5,-0.5 2.5,-36.5 191.5,-36.5 191.5,-0.5 2.5,-0.5\"/>\n<text text-anchor=\"middle\" x=\"14\" y=\"-14.8\" font-family=\"Times,serif\" font-size=\"14.00\">b</text>\n<polyline fill=\"none\" stroke=\"black\" points=\"25.5,-0.5 25.5,-36.5 \"/>\n<text text-anchor=\"middle\" x=\"65.5\" y=\"-14.8\" font-family=\"Times,serif\" font-size=\"14.00\">data 3.0000</text>\n<polyline fill=\"none\" stroke=\"black\" points=\"105.5,-0.5 105.5,-36.5 \"/>\n<text text-anchor=\"middle\" x=\"148.5\" y=\"-14.8\" font-family=\"Times,serif\" font-size=\"14.00\">grad &#45;6.0000</text>\n</g>\n<!-- 132486723053904&#45;&gt;132486723055440* -->\n<g id=\"edge8\" class=\"edge\">\n<title>132486723053904&#45;&gt;132486723055440*</title>\n<path fill=\"none\" stroke=\"black\" d=\"M163.94,-36.53C174.08,-39.65 184.37,-43.01 194,-46.5 204.27,-50.22 215.26,-54.8 225.09,-59.12\"/>\n<polygon fill=\"black\" stroke=\"black\" points=\"223.91,-62.43 234.47,-63.32 226.77,-56.04 223.91,-62.43\"/>\n</g>\n<!-- 132486723053904&#45;&gt;132486723043728+ -->\n<g id=\"edge6\" class=\"edge\">\n<title>132486723053904&#45;&gt;132486723043728+</title>\n<path fill=\"none\" stroke=\"black\" d=\"M191.74,-18.5C201.55,-18.5 211.04,-18.5 219.59,-18.5\"/>\n<polygon fill=\"black\" stroke=\"black\" points=\"219.87,-22 229.87,-18.5 219.87,-15 219.87,-22\"/>\n</g>\n<!-- 132486723043728 -->\n<g id=\"node7\" class=\"node\">\n<title>132486723043728</title>\n<polygon fill=\"none\" stroke=\"black\" points=\"320.5,-0.5 320.5,-36.5 509.5,-36.5 509.5,-0.5 320.5,-0.5\"/>\n<text text-anchor=\"middle\" x=\"332\" y=\"-14.8\" font-family=\"Times,serif\" font-size=\"14.00\">e</text>\n<polyline fill=\"none\" stroke=\"black\" points=\"343.5,-0.5 343.5,-36.5 \"/>\n<text text-anchor=\"middle\" x=\"383.5\" y=\"-14.8\" font-family=\"Times,serif\" font-size=\"14.00\">data 1.0000</text>\n<polyline fill=\"none\" stroke=\"black\" points=\"423.5,-0.5 423.5,-36.5 \"/>\n<text text-anchor=\"middle\" x=\"466.5\" y=\"-14.8\" font-family=\"Times,serif\" font-size=\"14.00\">grad &#45;6.0000</text>\n</g>\n<!-- 132486723043728&#45;&gt;132486723055344* -->\n<g id=\"edge5\" class=\"edge\">\n<title>132486723043728&#45;&gt;132486723055344*</title>\n<path fill=\"none\" stroke=\"black\" d=\"M509.9,-34.75C519.33,-36.38 528.45,-37.96 536.65,-39.38\"/>\n<polygon fill=\"black\" stroke=\"black\" points=\"536.06,-42.83 546.51,-41.09 537.26,-35.93 536.06,-42.83\"/>\n</g>\n<!-- 132486723043728+&#45;&gt;132486723043728 -->\n<g id=\"edge3\" class=\"edge\">\n<title>132486723043728+&#45;&gt;132486723043728</title>\n<path fill=\"none\" stroke=\"black\" d=\"M284.11,-18.5C291.84,-18.5 300.8,-18.5 310.35,-18.5\"/>\n<polygon fill=\"black\" stroke=\"black\" points=\"310.48,-22 320.48,-18.5 310.48,-15 310.48,-22\"/>\n</g>\n</g>\n</svg>\n",
            "text/plain": [
              "<graphviz.graphs.Digraph at 0x787ef8125870>"
            ]
          },
          "metadata": {},
          "execution_count": 82
        }
      ]
    },
    {
      "cell_type": "markdown",
      "source": [
        "While doing operation with same variables, both `self` and `other` are same. So, this problem arises. Let's solve it."
      ],
      "metadata": {
        "id": "43U-r27VJ_ep"
      }
    },
    {
      "cell_type": "code",
      "source": [
        "class Value:\n",
        "\n",
        "  def __init__(self, data, _children=(), _op='', label=''):\n",
        "    self.data = data\n",
        "    self.grad = 0.0\n",
        "    self._backward = lambda: None\n",
        "    self._prev = set(_children)\n",
        "    self._op = _op\n",
        "    self.label = label\n",
        "\n",
        "  def __repr__(self):\n",
        "    return f\"Value(data={self.data})\"\n",
        "\n",
        "  def __add__(self, other):\n",
        "    out = Value(self.data + other.data, (self, other), '+')\n",
        "\n",
        "    def _backward():\n",
        "      self.grad += 1.0 * out.grad\n",
        "      other.grad += 1.0 * out.grad\n",
        "    out._backward = _backward\n",
        "\n",
        "    return out\n",
        "\n",
        "  def __mul__(self, other):\n",
        "    out = Value(self.data * other.data, (self, other), '*')\n",
        "\n",
        "    def _backward():\n",
        "      self.grad += other.data * out.grad\n",
        "      other.grad += self.data * out.grad\n",
        "    out._backward = _backward\n",
        "\n",
        "    return out\n",
        "\n",
        "  def tanh(self):\n",
        "    x = self.data\n",
        "    t = (math.exp(2*x) - 1)/(math.exp(2*x) + 1)\n",
        "    out = Value(t, (self, ), 'tanh')\n",
        "\n",
        "    def _backward():\n",
        "      self.grad += (1 - t**2) * out.grad\n",
        "    out._backward = _backward\n",
        "\n",
        "    return out\n",
        "\n",
        "  def backward(self):\n",
        "\n",
        "    topo = []\n",
        "    visited = set()\n",
        "    def build_topo(v):\n",
        "      if v not in visited:\n",
        "        visited.add(v)\n",
        "        for child in v._prev:\n",
        "          build_topo(child)\n",
        "        topo.append(v)\n",
        "    build_topo(self)\n",
        "\n",
        "    self.grad = 1.0\n",
        "    for node in reversed(topo):\n",
        "      node._backward()"
      ],
      "metadata": {
        "id": "KwckCKdIISSS"
      },
      "execution_count": 83,
      "outputs": []
    },
    {
      "cell_type": "code",
      "source": [
        "a = Value(3.0, label = 'a')"
      ],
      "metadata": {
        "id": "VdiZxqZ0K_O9"
      },
      "execution_count": 84,
      "outputs": []
    },
    {
      "cell_type": "code",
      "source": [
        "b = a + a; b.label = 'b'"
      ],
      "metadata": {
        "id": "W0r85OyHK_Pa"
      },
      "execution_count": 85,
      "outputs": []
    },
    {
      "cell_type": "code",
      "source": [
        "a"
      ],
      "metadata": {
        "colab": {
          "base_uri": "https://localhost:8080/"
        },
        "outputId": "821535ce-486b-4d23-8a48-14e2499add99",
        "id": "7jlbt8dVK_Pa"
      },
      "execution_count": 86,
      "outputs": [
        {
          "output_type": "execute_result",
          "data": {
            "text/plain": [
              "Value(data=3.0)"
            ]
          },
          "metadata": {},
          "execution_count": 86
        }
      ]
    },
    {
      "cell_type": "code",
      "source": [
        "b"
      ],
      "metadata": {
        "colab": {
          "base_uri": "https://localhost:8080/"
        },
        "outputId": "41e7f74b-243a-4773-eb51-b18e21d26437",
        "id": "Jn1F_bEXK_Pb"
      },
      "execution_count": 87,
      "outputs": [
        {
          "output_type": "execute_result",
          "data": {
            "text/plain": [
              "Value(data=6.0)"
            ]
          },
          "metadata": {},
          "execution_count": 87
        }
      ]
    },
    {
      "cell_type": "code",
      "source": [
        "b.backward()"
      ],
      "metadata": {
        "id": "kMOKIgbPK_Pb"
      },
      "execution_count": 88,
      "outputs": []
    },
    {
      "cell_type": "code",
      "source": [
        "draw_dot(b)"
      ],
      "metadata": {
        "colab": {
          "base_uri": "https://localhost:8080/",
          "height": 81
        },
        "outputId": "02831acd-c4dd-4261-a804-37bf28bdd0a2",
        "id": "FC8zZwx-K_Pb"
      },
      "execution_count": 89,
      "outputs": [
        {
          "output_type": "execute_result",
          "data": {
            "image/svg+xml": "<?xml version=\"1.0\" encoding=\"UTF-8\" standalone=\"no\"?>\n<!DOCTYPE svg PUBLIC \"-//W3C//DTD SVG 1.1//EN\"\n \"http://www.w3.org/Graphics/SVG/1.1/DTD/svg11.dtd\">\n<!-- Generated by graphviz version 2.43.0 (0)\n -->\n<!-- Title: %3 Pages: 1 -->\n<svg width=\"504pt\" height=\"45pt\"\n viewBox=\"0.00 0.00 504.00 45.00\" xmlns=\"http://www.w3.org/2000/svg\" xmlns:xlink=\"http://www.w3.org/1999/xlink\">\n<g id=\"graph0\" class=\"graph\" transform=\"scale(1 1) rotate(0) translate(4 41)\">\n<title>%3</title>\n<polygon fill=\"white\" stroke=\"transparent\" points=\"-4,4 -4,-41 500,-41 500,4 -4,4\"/>\n<!-- 132486723453952 -->\n<g id=\"node1\" class=\"node\">\n<title>132486723453952</title>\n<polygon fill=\"none\" stroke=\"black\" points=\"0,-0.5 0,-36.5 185,-36.5 185,-0.5 0,-0.5\"/>\n<text text-anchor=\"middle\" x=\"11.5\" y=\"-14.8\" font-family=\"Times,serif\" font-size=\"14.00\">a</text>\n<polyline fill=\"none\" stroke=\"black\" points=\"23,-0.5 23,-36.5 \"/>\n<text text-anchor=\"middle\" x=\"63\" y=\"-14.8\" font-family=\"Times,serif\" font-size=\"14.00\">data 3.0000</text>\n<polyline fill=\"none\" stroke=\"black\" points=\"103,-0.5 103,-36.5 \"/>\n<text text-anchor=\"middle\" x=\"144\" y=\"-14.8\" font-family=\"Times,serif\" font-size=\"14.00\">grad 2.0000</text>\n</g>\n<!-- 132486723461920+ -->\n<g id=\"node3\" class=\"node\">\n<title>132486723461920+</title>\n<ellipse fill=\"none\" stroke=\"black\" cx=\"248\" cy=\"-18.5\" rx=\"27\" ry=\"18\"/>\n<text text-anchor=\"middle\" x=\"248\" y=\"-14.8\" font-family=\"Times,serif\" font-size=\"14.00\">+</text>\n</g>\n<!-- 132486723453952&#45;&gt;132486723461920+ -->\n<g id=\"edge2\" class=\"edge\">\n<title>132486723453952&#45;&gt;132486723461920+</title>\n<path fill=\"none\" stroke=\"black\" d=\"M185.01,-18.5C194.01,-18.5 202.74,-18.5 210.66,-18.5\"/>\n<polygon fill=\"black\" stroke=\"black\" points=\"210.91,-22 220.91,-18.5 210.91,-15 210.91,-22\"/>\n</g>\n<!-- 132486723461920 -->\n<g id=\"node2\" class=\"node\">\n<title>132486723461920</title>\n<polygon fill=\"none\" stroke=\"black\" points=\"311,-0.5 311,-36.5 496,-36.5 496,-0.5 311,-0.5\"/>\n<text text-anchor=\"middle\" x=\"322.5\" y=\"-14.8\" font-family=\"Times,serif\" font-size=\"14.00\">b</text>\n<polyline fill=\"none\" stroke=\"black\" points=\"334,-0.5 334,-36.5 \"/>\n<text text-anchor=\"middle\" x=\"374\" y=\"-14.8\" font-family=\"Times,serif\" font-size=\"14.00\">data 6.0000</text>\n<polyline fill=\"none\" stroke=\"black\" points=\"414,-0.5 414,-36.5 \"/>\n<text text-anchor=\"middle\" x=\"455\" y=\"-14.8\" font-family=\"Times,serif\" font-size=\"14.00\">grad 1.0000</text>\n</g>\n<!-- 132486723461920+&#45;&gt;132486723461920 -->\n<g id=\"edge1\" class=\"edge\">\n<title>132486723461920+&#45;&gt;132486723461920</title>\n<path fill=\"none\" stroke=\"black\" d=\"M275.04,-18.5C282.58,-18.5 291.3,-18.5 300.57,-18.5\"/>\n<polygon fill=\"black\" stroke=\"black\" points=\"300.81,-22 310.81,-18.5 300.81,-15 300.81,-22\"/>\n</g>\n</g>\n</svg>\n",
            "text/plain": [
              "<graphviz.graphs.Digraph at 0x787ef816d4e0>"
            ]
          },
          "metadata": {},
          "execution_count": 89
        }
      ]
    },
    {
      "cell_type": "markdown",
      "source": [
        "Try for another operation too."
      ],
      "metadata": {
        "id": "bXixe3wkOhPg"
      }
    },
    {
      "cell_type": "code",
      "source": [
        "a = Value(-2.0, label='a')\n",
        "b = Value(3.0, label='b')\n",
        "d = a * b    ; d.label = 'd'\n",
        "e = a + b    ; e.label = 'e'\n",
        "f = d * e    ; f.label = 'f'"
      ],
      "metadata": {
        "id": "Yxk2Nkd7OnsE"
      },
      "execution_count": 90,
      "outputs": []
    },
    {
      "cell_type": "code",
      "source": [
        "draw_dot(f)"
      ],
      "metadata": {
        "colab": {
          "base_uri": "https://localhost:8080/",
          "height": 155
        },
        "outputId": "ad4246ba-cb41-40c0-d8bc-2dfdc34962af",
        "id": "BEywgVprOnsd"
      },
      "execution_count": 91,
      "outputs": [
        {
          "output_type": "execute_result",
          "data": {
            "image/svg+xml": "<?xml version=\"1.0\" encoding=\"UTF-8\" standalone=\"no\"?>\n<!DOCTYPE svg PUBLIC \"-//W3C//DTD SVG 1.1//EN\"\n \"http://www.w3.org/Graphics/SVG/1.1/DTD/svg11.dtd\">\n<!-- Generated by graphviz version 2.43.0 (0)\n -->\n<!-- Title: %3 Pages: 1 -->\n<svg width=\"828pt\" height=\"100pt\"\n viewBox=\"0.00 0.00 828.00 100.00\" xmlns=\"http://www.w3.org/2000/svg\" xmlns:xlink=\"http://www.w3.org/1999/xlink\">\n<g id=\"graph0\" class=\"graph\" transform=\"scale(1 1) rotate(0) translate(4 96)\">\n<title>%3</title>\n<polygon fill=\"white\" stroke=\"transparent\" points=\"-4,4 -4,-96 824,-96 824,4 -4,4\"/>\n<!-- 132486723457600 -->\n<g id=\"node1\" class=\"node\">\n<title>132486723457600</title>\n<polygon fill=\"none\" stroke=\"black\" points=\"632,-27.5 632,-63.5 820,-63.5 820,-27.5 632,-27.5\"/>\n<text text-anchor=\"middle\" x=\"642.5\" y=\"-41.8\" font-family=\"Times,serif\" font-size=\"14.00\">f</text>\n<polyline fill=\"none\" stroke=\"black\" points=\"653,-27.5 653,-63.5 \"/>\n<text text-anchor=\"middle\" x=\"695.5\" y=\"-41.8\" font-family=\"Times,serif\" font-size=\"14.00\">data &#45;6.0000</text>\n<polyline fill=\"none\" stroke=\"black\" points=\"738,-27.5 738,-63.5 \"/>\n<text text-anchor=\"middle\" x=\"779\" y=\"-41.8\" font-family=\"Times,serif\" font-size=\"14.00\">grad 0.0000</text>\n</g>\n<!-- 132486723457600* -->\n<g id=\"node2\" class=\"node\">\n<title>132486723457600*</title>\n<ellipse fill=\"none\" stroke=\"black\" cx=\"569\" cy=\"-45.5\" rx=\"27\" ry=\"18\"/>\n<text text-anchor=\"middle\" x=\"569\" y=\"-41.8\" font-family=\"Times,serif\" font-size=\"14.00\">*</text>\n</g>\n<!-- 132486723457600*&#45;&gt;132486723457600 -->\n<g id=\"edge1\" class=\"edge\">\n<title>132486723457600*&#45;&gt;132486723457600</title>\n<path fill=\"none\" stroke=\"black\" d=\"M596.29,-45.5C603.78,-45.5 612.42,-45.5 621.6,-45.5\"/>\n<polygon fill=\"black\" stroke=\"black\" points=\"621.76,-49 631.76,-45.5 621.76,-42 621.76,-49\"/>\n</g>\n<!-- 132486723464272 -->\n<g id=\"node3\" class=\"node\">\n<title>132486723464272</title>\n<polygon fill=\"none\" stroke=\"black\" points=\"316,-55.5 316,-91.5 506,-91.5 506,-55.5 316,-55.5\"/>\n<text text-anchor=\"middle\" x=\"327.5\" y=\"-69.8\" font-family=\"Times,serif\" font-size=\"14.00\">d</text>\n<polyline fill=\"none\" stroke=\"black\" points=\"339,-55.5 339,-91.5 \"/>\n<text text-anchor=\"middle\" x=\"381.5\" y=\"-69.8\" font-family=\"Times,serif\" font-size=\"14.00\">data &#45;6.0000</text>\n<polyline fill=\"none\" stroke=\"black\" points=\"424,-55.5 424,-91.5 \"/>\n<text text-anchor=\"middle\" x=\"465\" y=\"-69.8\" font-family=\"Times,serif\" font-size=\"14.00\">grad 0.0000</text>\n</g>\n<!-- 132486723464272&#45;&gt;132486723457600* -->\n<g id=\"edge7\" class=\"edge\">\n<title>132486723464272&#45;&gt;132486723457600*</title>\n<path fill=\"none\" stroke=\"black\" d=\"M506.34,-56.57C515.62,-54.9 524.58,-53.29 532.66,-51.84\"/>\n<polygon fill=\"black\" stroke=\"black\" points=\"533.49,-55.25 542.72,-50.04 532.26,-48.36 533.49,-55.25\"/>\n</g>\n<!-- 132486723464272* -->\n<g id=\"node4\" class=\"node\">\n<title>132486723464272*</title>\n<ellipse fill=\"none\" stroke=\"black\" cx=\"253\" cy=\"-73.5\" rx=\"27\" ry=\"18\"/>\n<text text-anchor=\"middle\" x=\"253\" y=\"-69.8\" font-family=\"Times,serif\" font-size=\"14.00\">*</text>\n</g>\n<!-- 132486723464272*&#45;&gt;132486723464272 -->\n<g id=\"edge2\" class=\"edge\">\n<title>132486723464272*&#45;&gt;132486723464272</title>\n<path fill=\"none\" stroke=\"black\" d=\"M280.11,-73.5C287.63,-73.5 296.32,-73.5 305.58,-73.5\"/>\n<polygon fill=\"black\" stroke=\"black\" points=\"305.81,-77 315.81,-73.5 305.81,-70 305.81,-77\"/>\n</g>\n<!-- 132486723456880 -->\n<g id=\"node5\" class=\"node\">\n<title>132486723456880</title>\n<polygon fill=\"none\" stroke=\"black\" points=\"318.5,-0.5 318.5,-36.5 503.5,-36.5 503.5,-0.5 318.5,-0.5\"/>\n<text text-anchor=\"middle\" x=\"330\" y=\"-14.8\" font-family=\"Times,serif\" font-size=\"14.00\">e</text>\n<polyline fill=\"none\" stroke=\"black\" points=\"341.5,-0.5 341.5,-36.5 \"/>\n<text text-anchor=\"middle\" x=\"381.5\" y=\"-14.8\" font-family=\"Times,serif\" font-size=\"14.00\">data 1.0000</text>\n<polyline fill=\"none\" stroke=\"black\" points=\"421.5,-0.5 421.5,-36.5 \"/>\n<text text-anchor=\"middle\" x=\"462.5\" y=\"-14.8\" font-family=\"Times,serif\" font-size=\"14.00\">grad 0.0000</text>\n</g>\n<!-- 132486723456880&#45;&gt;132486723457600* -->\n<g id=\"edge6\" class=\"edge\">\n<title>132486723456880&#45;&gt;132486723457600*</title>\n<path fill=\"none\" stroke=\"black\" d=\"M503.65,-34.36C513.94,-36.14 523.91,-37.87 532.81,-39.41\"/>\n<polygon fill=\"black\" stroke=\"black\" points=\"532.26,-42.87 542.71,-41.12 533.45,-35.97 532.26,-42.87\"/>\n</g>\n<!-- 132486723456880+ -->\n<g id=\"node6\" class=\"node\">\n<title>132486723456880+</title>\n<ellipse fill=\"none\" stroke=\"black\" cx=\"253\" cy=\"-18.5\" rx=\"27\" ry=\"18\"/>\n<text text-anchor=\"middle\" x=\"253\" y=\"-14.8\" font-family=\"Times,serif\" font-size=\"14.00\">+</text>\n</g>\n<!-- 132486723456880+&#45;&gt;132486723456880 -->\n<g id=\"edge3\" class=\"edge\">\n<title>132486723456880+&#45;&gt;132486723456880</title>\n<path fill=\"none\" stroke=\"black\" d=\"M280.11,-18.5C288.39,-18.5 298.1,-18.5 308.42,-18.5\"/>\n<polygon fill=\"black\" stroke=\"black\" points=\"308.47,-22 318.47,-18.5 308.47,-15 308.47,-22\"/>\n</g>\n<!-- 132486723456928 -->\n<g id=\"node7\" class=\"node\">\n<title>132486723456928</title>\n<polygon fill=\"none\" stroke=\"black\" points=\"0,-55.5 0,-91.5 190,-91.5 190,-55.5 0,-55.5\"/>\n<text text-anchor=\"middle\" x=\"11.5\" y=\"-69.8\" font-family=\"Times,serif\" font-size=\"14.00\">a</text>\n<polyline fill=\"none\" stroke=\"black\" points=\"23,-55.5 23,-91.5 \"/>\n<text text-anchor=\"middle\" x=\"65.5\" y=\"-69.8\" font-family=\"Times,serif\" font-size=\"14.00\">data &#45;2.0000</text>\n<polyline fill=\"none\" stroke=\"black\" points=\"108,-55.5 108,-91.5 \"/>\n<text text-anchor=\"middle\" x=\"149\" y=\"-69.8\" font-family=\"Times,serif\" font-size=\"14.00\">grad 0.0000</text>\n</g>\n<!-- 132486723456928&#45;&gt;132486723464272* -->\n<g id=\"edge9\" class=\"edge\">\n<title>132486723456928&#45;&gt;132486723464272*</title>\n<path fill=\"none\" stroke=\"black\" d=\"M190.34,-73.5C199.26,-73.5 207.87,-73.5 215.69,-73.5\"/>\n<polygon fill=\"black\" stroke=\"black\" points=\"215.82,-77 225.82,-73.5 215.82,-70 215.82,-77\"/>\n</g>\n<!-- 132486723456928&#45;&gt;132486723456880+ -->\n<g id=\"edge8\" class=\"edge\">\n<title>132486723456928&#45;&gt;132486723456880+</title>\n<path fill=\"none\" stroke=\"black\" d=\"M163.39,-55.42C172.4,-52.63 181.47,-49.63 190,-46.5 200.5,-42.64 211.72,-37.81 221.69,-33.24\"/>\n<polygon fill=\"black\" stroke=\"black\" points=\"223.21,-36.39 230.8,-28.99 220.26,-30.05 223.21,-36.39\"/>\n</g>\n<!-- 132486723464176 -->\n<g id=\"node8\" class=\"node\">\n<title>132486723464176</title>\n<polygon fill=\"none\" stroke=\"black\" points=\"2.5,-0.5 2.5,-36.5 187.5,-36.5 187.5,-0.5 2.5,-0.5\"/>\n<text text-anchor=\"middle\" x=\"14\" y=\"-14.8\" font-family=\"Times,serif\" font-size=\"14.00\">b</text>\n<polyline fill=\"none\" stroke=\"black\" points=\"25.5,-0.5 25.5,-36.5 \"/>\n<text text-anchor=\"middle\" x=\"65.5\" y=\"-14.8\" font-family=\"Times,serif\" font-size=\"14.00\">data 3.0000</text>\n<polyline fill=\"none\" stroke=\"black\" points=\"105.5,-0.5 105.5,-36.5 \"/>\n<text text-anchor=\"middle\" x=\"146.5\" y=\"-14.8\" font-family=\"Times,serif\" font-size=\"14.00\">grad 0.0000</text>\n</g>\n<!-- 132486723464176&#45;&gt;132486723464272* -->\n<g id=\"edge4\" class=\"edge\">\n<title>132486723464176&#45;&gt;132486723464272*</title>\n<path fill=\"none\" stroke=\"black\" d=\"M160.31,-36.52C170.31,-39.65 180.48,-43.02 190,-46.5 200.26,-50.25 211.24,-54.83 221.08,-59.16\"/>\n<polygon fill=\"black\" stroke=\"black\" points=\"219.9,-62.46 230.45,-63.35 222.75,-56.07 219.9,-62.46\"/>\n</g>\n<!-- 132486723464176&#45;&gt;132486723456880+ -->\n<g id=\"edge5\" class=\"edge\">\n<title>132486723464176&#45;&gt;132486723456880+</title>\n<path fill=\"none\" stroke=\"black\" d=\"M187.65,-18.5C197.55,-18.5 207.15,-18.5 215.78,-18.5\"/>\n<polygon fill=\"black\" stroke=\"black\" points=\"215.78,-22 225.78,-18.5 215.78,-15 215.78,-22\"/>\n</g>\n</g>\n</svg>\n",
            "text/plain": [
              "<graphviz.graphs.Digraph at 0x787ef816c9a0>"
            ]
          },
          "metadata": {},
          "execution_count": 91
        }
      ]
    },
    {
      "cell_type": "code",
      "source": [
        "f.backward()"
      ],
      "metadata": {
        "id": "kujV1ppSOnsd"
      },
      "execution_count": 92,
      "outputs": []
    },
    {
      "cell_type": "code",
      "source": [
        "draw_dot(f)"
      ],
      "metadata": {
        "colab": {
          "base_uri": "https://localhost:8080/",
          "height": 155
        },
        "outputId": "1a3c76b8-08bd-4fb3-89c0-de92c3b4060c",
        "id": "dic-pbKVOnsd"
      },
      "execution_count": 93,
      "outputs": [
        {
          "output_type": "execute_result",
          "data": {
            "image/svg+xml": "<?xml version=\"1.0\" encoding=\"UTF-8\" standalone=\"no\"?>\n<!DOCTYPE svg PUBLIC \"-//W3C//DTD SVG 1.1//EN\"\n \"http://www.w3.org/Graphics/SVG/1.1/DTD/svg11.dtd\">\n<!-- Generated by graphviz version 2.43.0 (0)\n -->\n<!-- Title: %3 Pages: 1 -->\n<svg width=\"832pt\" height=\"100pt\"\n viewBox=\"0.00 0.00 832.00 100.00\" xmlns=\"http://www.w3.org/2000/svg\" xmlns:xlink=\"http://www.w3.org/1999/xlink\">\n<g id=\"graph0\" class=\"graph\" transform=\"scale(1 1) rotate(0) translate(4 96)\">\n<title>%3</title>\n<polygon fill=\"white\" stroke=\"transparent\" points=\"-4,4 -4,-96 828,-96 828,4 -4,4\"/>\n<!-- 132486723457600 -->\n<g id=\"node1\" class=\"node\">\n<title>132486723457600</title>\n<polygon fill=\"none\" stroke=\"black\" points=\"636,-27.5 636,-63.5 824,-63.5 824,-27.5 636,-27.5\"/>\n<text text-anchor=\"middle\" x=\"646.5\" y=\"-41.8\" font-family=\"Times,serif\" font-size=\"14.00\">f</text>\n<polyline fill=\"none\" stroke=\"black\" points=\"657,-27.5 657,-63.5 \"/>\n<text text-anchor=\"middle\" x=\"699.5\" y=\"-41.8\" font-family=\"Times,serif\" font-size=\"14.00\">data &#45;6.0000</text>\n<polyline fill=\"none\" stroke=\"black\" points=\"742,-27.5 742,-63.5 \"/>\n<text text-anchor=\"middle\" x=\"783\" y=\"-41.8\" font-family=\"Times,serif\" font-size=\"14.00\">grad 1.0000</text>\n</g>\n<!-- 132486723457600* -->\n<g id=\"node2\" class=\"node\">\n<title>132486723457600*</title>\n<ellipse fill=\"none\" stroke=\"black\" cx=\"573\" cy=\"-45.5\" rx=\"27\" ry=\"18\"/>\n<text text-anchor=\"middle\" x=\"573\" y=\"-41.8\" font-family=\"Times,serif\" font-size=\"14.00\">*</text>\n</g>\n<!-- 132486723457600*&#45;&gt;132486723457600 -->\n<g id=\"edge1\" class=\"edge\">\n<title>132486723457600*&#45;&gt;132486723457600</title>\n<path fill=\"none\" stroke=\"black\" d=\"M600.29,-45.5C607.78,-45.5 616.42,-45.5 625.6,-45.5\"/>\n<polygon fill=\"black\" stroke=\"black\" points=\"625.76,-49 635.76,-45.5 625.76,-42 625.76,-49\"/>\n</g>\n<!-- 132486723464272 -->\n<g id=\"node3\" class=\"node\">\n<title>132486723464272</title>\n<polygon fill=\"none\" stroke=\"black\" points=\"320,-55.5 320,-91.5 510,-91.5 510,-55.5 320,-55.5\"/>\n<text text-anchor=\"middle\" x=\"331.5\" y=\"-69.8\" font-family=\"Times,serif\" font-size=\"14.00\">d</text>\n<polyline fill=\"none\" stroke=\"black\" points=\"343,-55.5 343,-91.5 \"/>\n<text text-anchor=\"middle\" x=\"385.5\" y=\"-69.8\" font-family=\"Times,serif\" font-size=\"14.00\">data &#45;6.0000</text>\n<polyline fill=\"none\" stroke=\"black\" points=\"428,-55.5 428,-91.5 \"/>\n<text text-anchor=\"middle\" x=\"469\" y=\"-69.8\" font-family=\"Times,serif\" font-size=\"14.00\">grad 1.0000</text>\n</g>\n<!-- 132486723464272&#45;&gt;132486723457600* -->\n<g id=\"edge7\" class=\"edge\">\n<title>132486723464272&#45;&gt;132486723457600*</title>\n<path fill=\"none\" stroke=\"black\" d=\"M510.34,-56.57C519.62,-54.9 528.58,-53.29 536.66,-51.84\"/>\n<polygon fill=\"black\" stroke=\"black\" points=\"537.49,-55.25 546.72,-50.04 536.26,-48.36 537.49,-55.25\"/>\n</g>\n<!-- 132486723464272* -->\n<g id=\"node4\" class=\"node\">\n<title>132486723464272*</title>\n<ellipse fill=\"none\" stroke=\"black\" cx=\"257\" cy=\"-73.5\" rx=\"27\" ry=\"18\"/>\n<text text-anchor=\"middle\" x=\"257\" y=\"-69.8\" font-family=\"Times,serif\" font-size=\"14.00\">*</text>\n</g>\n<!-- 132486723464272*&#45;&gt;132486723464272 -->\n<g id=\"edge2\" class=\"edge\">\n<title>132486723464272*&#45;&gt;132486723464272</title>\n<path fill=\"none\" stroke=\"black\" d=\"M284.11,-73.5C291.63,-73.5 300.32,-73.5 309.58,-73.5\"/>\n<polygon fill=\"black\" stroke=\"black\" points=\"309.81,-77 319.81,-73.5 309.81,-70 309.81,-77\"/>\n</g>\n<!-- 132486723456880 -->\n<g id=\"node5\" class=\"node\">\n<title>132486723456880</title>\n<polygon fill=\"none\" stroke=\"black\" points=\"320.5,-0.5 320.5,-36.5 509.5,-36.5 509.5,-0.5 320.5,-0.5\"/>\n<text text-anchor=\"middle\" x=\"332\" y=\"-14.8\" font-family=\"Times,serif\" font-size=\"14.00\">e</text>\n<polyline fill=\"none\" stroke=\"black\" points=\"343.5,-0.5 343.5,-36.5 \"/>\n<text text-anchor=\"middle\" x=\"383.5\" y=\"-14.8\" font-family=\"Times,serif\" font-size=\"14.00\">data 1.0000</text>\n<polyline fill=\"none\" stroke=\"black\" points=\"423.5,-0.5 423.5,-36.5 \"/>\n<text text-anchor=\"middle\" x=\"466.5\" y=\"-14.8\" font-family=\"Times,serif\" font-size=\"14.00\">grad &#45;6.0000</text>\n</g>\n<!-- 132486723456880&#45;&gt;132486723457600* -->\n<g id=\"edge6\" class=\"edge\">\n<title>132486723456880&#45;&gt;132486723457600*</title>\n<path fill=\"none\" stroke=\"black\" d=\"M509.9,-34.75C519.33,-36.38 528.45,-37.96 536.65,-39.38\"/>\n<polygon fill=\"black\" stroke=\"black\" points=\"536.06,-42.83 546.51,-41.09 537.26,-35.93 536.06,-42.83\"/>\n</g>\n<!-- 132486723456880+ -->\n<g id=\"node6\" class=\"node\">\n<title>132486723456880+</title>\n<ellipse fill=\"none\" stroke=\"black\" cx=\"257\" cy=\"-18.5\" rx=\"27\" ry=\"18\"/>\n<text text-anchor=\"middle\" x=\"257\" y=\"-14.8\" font-family=\"Times,serif\" font-size=\"14.00\">+</text>\n</g>\n<!-- 132486723456880+&#45;&gt;132486723456880 -->\n<g id=\"edge3\" class=\"edge\">\n<title>132486723456880+&#45;&gt;132486723456880</title>\n<path fill=\"none\" stroke=\"black\" d=\"M284.11,-18.5C291.84,-18.5 300.8,-18.5 310.35,-18.5\"/>\n<polygon fill=\"black\" stroke=\"black\" points=\"310.48,-22 320.48,-18.5 310.48,-15 310.48,-22\"/>\n</g>\n<!-- 132486723456928 -->\n<g id=\"node7\" class=\"node\">\n<title>132486723456928</title>\n<polygon fill=\"none\" stroke=\"black\" points=\"0,-55.5 0,-91.5 194,-91.5 194,-55.5 0,-55.5\"/>\n<text text-anchor=\"middle\" x=\"11.5\" y=\"-69.8\" font-family=\"Times,serif\" font-size=\"14.00\">a</text>\n<polyline fill=\"none\" stroke=\"black\" points=\"23,-55.5 23,-91.5 \"/>\n<text text-anchor=\"middle\" x=\"65.5\" y=\"-69.8\" font-family=\"Times,serif\" font-size=\"14.00\">data &#45;2.0000</text>\n<polyline fill=\"none\" stroke=\"black\" points=\"108,-55.5 108,-91.5 \"/>\n<text text-anchor=\"middle\" x=\"151\" y=\"-69.8\" font-family=\"Times,serif\" font-size=\"14.00\">grad &#45;3.0000</text>\n</g>\n<!-- 132486723456928&#45;&gt;132486723464272* -->\n<g id=\"edge9\" class=\"edge\">\n<title>132486723456928&#45;&gt;132486723464272*</title>\n<path fill=\"none\" stroke=\"black\" d=\"M194.01,-73.5C202.98,-73.5 211.65,-73.5 219.51,-73.5\"/>\n<polygon fill=\"black\" stroke=\"black\" points=\"219.7,-77 229.7,-73.5 219.7,-70 219.7,-77\"/>\n</g>\n<!-- 132486723456928&#45;&gt;132486723456880+ -->\n<g id=\"edge8\" class=\"edge\">\n<title>132486723456928&#45;&gt;132486723456880+</title>\n<path fill=\"none\" stroke=\"black\" d=\"M166.84,-55.49C176.04,-52.69 185.3,-49.67 194,-46.5 204.51,-42.67 215.73,-37.84 225.7,-33.28\"/>\n<polygon fill=\"black\" stroke=\"black\" points=\"227.23,-36.43 234.81,-29.02 224.27,-30.09 227.23,-36.43\"/>\n</g>\n<!-- 132486723464176 -->\n<g id=\"node8\" class=\"node\">\n<title>132486723464176</title>\n<polygon fill=\"none\" stroke=\"black\" points=\"2.5,-0.5 2.5,-36.5 191.5,-36.5 191.5,-0.5 2.5,-0.5\"/>\n<text text-anchor=\"middle\" x=\"14\" y=\"-14.8\" font-family=\"Times,serif\" font-size=\"14.00\">b</text>\n<polyline fill=\"none\" stroke=\"black\" points=\"25.5,-0.5 25.5,-36.5 \"/>\n<text text-anchor=\"middle\" x=\"65.5\" y=\"-14.8\" font-family=\"Times,serif\" font-size=\"14.00\">data 3.0000</text>\n<polyline fill=\"none\" stroke=\"black\" points=\"105.5,-0.5 105.5,-36.5 \"/>\n<text text-anchor=\"middle\" x=\"148.5\" y=\"-14.8\" font-family=\"Times,serif\" font-size=\"14.00\">grad &#45;8.0000</text>\n</g>\n<!-- 132486723464176&#45;&gt;132486723464272* -->\n<g id=\"edge4\" class=\"edge\">\n<title>132486723464176&#45;&gt;132486723464272*</title>\n<path fill=\"none\" stroke=\"black\" d=\"M163.94,-36.53C174.08,-39.65 184.37,-43.01 194,-46.5 204.27,-50.22 215.26,-54.8 225.09,-59.12\"/>\n<polygon fill=\"black\" stroke=\"black\" points=\"223.91,-62.43 234.47,-63.32 226.77,-56.04 223.91,-62.43\"/>\n</g>\n<!-- 132486723464176&#45;&gt;132486723456880+ -->\n<g id=\"edge5\" class=\"edge\">\n<title>132486723464176&#45;&gt;132486723456880+</title>\n<path fill=\"none\" stroke=\"black\" d=\"M191.74,-18.5C201.55,-18.5 211.04,-18.5 219.59,-18.5\"/>\n<polygon fill=\"black\" stroke=\"black\" points=\"219.87,-22 229.87,-18.5 219.87,-15 219.87,-22\"/>\n</g>\n</g>\n</svg>\n",
            "text/plain": [
              "<graphviz.graphs.Digraph at 0x787ef816ee00>"
            ]
          },
          "metadata": {},
          "execution_count": 93
        }
      ]
    },
    {
      "cell_type": "markdown",
      "source": [
        "Yayyyyy! We solved the loophole."
      ],
      "metadata": {
        "id": "xSchazibLSW_"
      }
    },
    {
      "cell_type": "markdown",
      "source": [
        "### More on Addition"
      ],
      "metadata": {
        "id": "LMkCG-vMoizU"
      }
    },
    {
      "cell_type": "code",
      "source": [
        "a = Value(2.0)\n",
        "\n",
        "#a += 1"
      ],
      "metadata": {
        "id": "xcXPe66GLCKk"
      },
      "execution_count": 94,
      "outputs": []
    },
    {
      "cell_type": "markdown",
      "source": [
        "```\n",
        "---------------------------------------------------------------------------\n",
        "AttributeError                            Traceback (most recent call last)\n",
        "<ipython-input-94-d052d96cd3de> in <cell line: 3>()\n",
        "      1 a = Value(2.0)\n",
        "      2\n",
        "----> 3 a += 1\n",
        "\n",
        "<ipython-input-83-6fb2119552ee> in __add__(self, other)\n",
        "     13\n",
        "     14   def __add__(self, other):\n",
        "---> 15     out = Value(self.data + other.data, (self, other), '+')\n",
        "     16\n",
        "     17     def _backward():\n",
        "\n",
        "AttributeError: 'int' object has no attribute 'data'\n",
        "```"
      ],
      "metadata": {
        "id": "5DRDmVLqosDx"
      }
    },
    {
      "cell_type": "markdown",
      "source": [
        "The above commented operation gives the following error.<br>\n",
        "This is because while defining addition, we've done something like:<br>\n",
        "`out = Value(self.data + other.data, (self, other), '+')` <br>\n",
        "So, when we add a and 1 together, it looks at `a.data` and `1.data`.<br>\n",
        "But `1.data` is actually stupid. Now, In order to make addition possible with <br>\n",
        "data types other than `Value` object, we can change the `Value` class in following manner:"
      ],
      "metadata": {
        "id": "mObPdVuTou9K"
      }
    },
    {
      "cell_type": "code",
      "source": [
        "class Value:\n",
        "\n",
        "  def __init__(self, data, _children=(), _op='', label=''):\n",
        "    self.data = data\n",
        "    self.grad = 0.0\n",
        "    self._backward = lambda: None\n",
        "    self._prev = set(_children)\n",
        "    self._op = _op\n",
        "    self.label = label\n",
        "\n",
        "  def __repr__(self):\n",
        "    return f\"Value(data={self.data})\"\n",
        "\n",
        "  def __add__(self, other):\n",
        "    other = other if isinstance(other, Value) else Value(other)\n",
        "    out = Value(self.data + other.data, (self, other), '+')\n",
        "\n",
        "    def _backward():\n",
        "      self.grad += 1.0 * out.grad\n",
        "      other.grad += 1.0 * out.grad\n",
        "    out._backward = _backward\n",
        "\n",
        "    return out\n",
        "\n",
        "  def __mul__(self, other):\n",
        "    other = other if isinstance(other, Value) else Value(other)\n",
        "    out = Value(self.data * other.data, (self, other), '*')\n",
        "\n",
        "    def _backward():\n",
        "      self.grad += other.data * out.grad\n",
        "      other.grad += self.data * out.grad\n",
        "    out._backward = _backward\n",
        "\n",
        "    return out\n",
        "\n",
        "  def tanh(self):\n",
        "    x = self.data\n",
        "    t = (math.exp(2*x) - 1)/(math.exp(2*x) + 1)\n",
        "    out = Value(t, (self, ), 'tanh')\n",
        "\n",
        "    def _backward():\n",
        "      self.grad += (1 - t**2) * out.grad\n",
        "    out._backward = _backward\n",
        "\n",
        "    return out\n",
        "\n",
        "  def backward(self):\n",
        "\n",
        "    topo = []\n",
        "    visited = set()\n",
        "    def build_topo(v):\n",
        "      if v not in visited:\n",
        "        visited.add(v)\n",
        "        for child in v._prev:\n",
        "          build_topo(child)\n",
        "        topo.append(v)\n",
        "    build_topo(self)\n",
        "\n",
        "    self.grad = 1.0\n",
        "    for node in reversed(topo):\n",
        "      node._backward()"
      ],
      "metadata": {
        "id": "THRBlISmoqTn"
      },
      "execution_count": 95,
      "outputs": []
    },
    {
      "cell_type": "markdown",
      "source": [
        "Now, Let's do the above operation."
      ],
      "metadata": {
        "id": "CM0aetf7qFfy"
      }
    },
    {
      "cell_type": "code",
      "source": [
        "a = Value(2.0)\n",
        "\n",
        "a += 1\n",
        "\n",
        "print(a)"
      ],
      "metadata": {
        "colab": {
          "base_uri": "https://localhost:8080/"
        },
        "id": "7GEuYkmgqE5D",
        "outputId": "5f462954-4b87-471f-bc34-733d2e74d466"
      },
      "execution_count": 96,
      "outputs": [
        {
          "output_type": "stream",
          "name": "stdout",
          "text": [
            "Value(data=3.0)\n"
          ]
        }
      ]
    },
    {
      "cell_type": "code",
      "source": [
        "a = Value(2.0)\n",
        "\n",
        "a *= 5\n",
        "\n",
        "print(a)"
      ],
      "metadata": {
        "colab": {
          "base_uri": "https://localhost:8080/"
        },
        "id": "eKbWevXiqMqW",
        "outputId": "b4119574-2c2c-4a2b-b881-e3fae25e6f3b"
      },
      "execution_count": 97,
      "outputs": [
        {
          "output_type": "stream",
          "name": "stdout",
          "text": [
            "Value(data=10.0)\n"
          ]
        }
      ]
    },
    {
      "cell_type": "markdown",
      "source": [
        "Well, looks like we've solved it too. <br>\n",
        "But wait, there's a catch.<br><br>\n",
        "\n",
        "let's try `5 * a`."
      ],
      "metadata": {
        "id": "9M-jCrWdqll6"
      }
    },
    {
      "cell_type": "code",
      "source": [
        "a = Value(2.0)\n",
        "\n",
        "#b = 5 * a\n",
        "\n",
        "#print(b)"
      ],
      "metadata": {
        "id": "JpgMOZMJqSsG"
      },
      "execution_count": 98,
      "outputs": []
    },
    {
      "cell_type": "markdown",
      "source": [
        "```\n",
        "---------------------------------------------------------------------------\n",
        "TypeError                                 Traceback (most recent call last)\n",
        "<ipython-input-98-19dbb5bab12e> in <cell line: 3>()\n",
        "      1 a = Value(2.0)\n",
        "      2\n",
        "----> 3 b = 5 * a\n",
        "      4\n",
        "      5 print(b)\n",
        "\n",
        "TypeError: unsupported operand type(s) for *: 'int' and 'Value'\n",
        "```"
      ],
      "metadata": {
        "id": "Z5vsTkRKq9NQ"
      }
    },
    {
      "cell_type": "markdown",
      "source": [
        "We still get error. Why is this?<br>\n",
        "<br>\n",
        "The above operation can be expressed as:<br>\n",
        "`5.__mul__(a)`<br>\n",
        "In this case, 5 is the `self` and `a` is the `other`. And our `self` doesnot have `.data` attribute."
      ],
      "metadata": {
        "id": "XgcwHYkmrBCx"
      }
    },
    {
      "cell_type": "markdown",
      "source": [
        "Let's solve it :"
      ],
      "metadata": {
        "id": "QRzA8EaUrsWx"
      }
    },
    {
      "cell_type": "code",
      "source": [
        "class Value:\n",
        "\n",
        "  def __init__(self, data, _children=(), _op='', label=''):\n",
        "    self.data = data\n",
        "    self.grad = 0.0\n",
        "    self._backward = lambda: None\n",
        "    self._prev = set(_children)\n",
        "    self._op = _op\n",
        "    self.label = label\n",
        "\n",
        "  def __repr__(self):\n",
        "    return f\"Value(data={self.data})\"\n",
        "\n",
        "  def __add__(self, other):\n",
        "    other = other if isinstance(other, Value) else Value(other)\n",
        "    out = Value(self.data + other.data, (self, other), '+')\n",
        "\n",
        "    def _backward():\n",
        "      self.grad += 1.0 * out.grad\n",
        "      other.grad += 1.0 * out.grad\n",
        "    out._backward = _backward\n",
        "\n",
        "    return out\n",
        "\n",
        "  def __mul__(self, other):\n",
        "    other = other if isinstance(other, Value) else Value(other)\n",
        "    out = Value(self.data * other.data, (self, other), '*')\n",
        "\n",
        "    def _backward():\n",
        "      self.grad += other.data * out.grad\n",
        "      other.grad += self.data * out.grad\n",
        "    out._backward = _backward\n",
        "\n",
        "    return out\n",
        "\n",
        "\n",
        "  def __rmul__(self, other):\n",
        "    return self*other\n",
        "\n",
        "  def tanh(self):\n",
        "    x = self.data\n",
        "    t = (math.exp(2*x) - 1)/(math.exp(2*x) + 1)\n",
        "    out = Value(t, (self, ), 'tanh')\n",
        "\n",
        "    def _backward():\n",
        "      self.grad += (1 - t**2) * out.grad\n",
        "    out._backward = _backward\n",
        "\n",
        "    return out\n",
        "\n",
        "  def backward(self):\n",
        "\n",
        "    topo = []\n",
        "    visited = set()\n",
        "    def build_topo(v):\n",
        "      if v not in visited:\n",
        "        visited.add(v)\n",
        "        for child in v._prev:\n",
        "          build_topo(child)\n",
        "        topo.append(v)\n",
        "    build_topo(self)\n",
        "\n",
        "    self.grad = 1.0\n",
        "    for node in reversed(topo):\n",
        "      node._backward()"
      ],
      "metadata": {
        "id": "dB30G-MXq5K1"
      },
      "execution_count": 99,
      "outputs": []
    },
    {
      "cell_type": "markdown",
      "source": [
        "Checking Time:"
      ],
      "metadata": {
        "id": "iQvjj42QsXAg"
      }
    },
    {
      "cell_type": "code",
      "source": [
        "a = Value(2.0)\n",
        "\n",
        "b = 5 * a\n",
        "\n",
        "print(b)"
      ],
      "metadata": {
        "colab": {
          "base_uri": "https://localhost:8080/"
        },
        "id": "xZxoUS0osY6c",
        "outputId": "3d22ae0c-21dc-4ef7-e784-fbf6e61b3a53"
      },
      "execution_count": 100,
      "outputs": [
        {
          "output_type": "stream",
          "name": "stdout",
          "text": [
            "Value(data=10.0)\n"
          ]
        }
      ]
    },
    {
      "cell_type": "markdown",
      "source": [
        "### Adding more functions\n",
        "\n",
        "Let's add exponential function to our value class."
      ],
      "metadata": {
        "id": "AUGGdGXdLetF"
      }
    },
    {
      "cell_type": "code",
      "source": [
        "class Value:\n",
        "\n",
        "  def __init__(self, data, _children=(), _op='', label=''):\n",
        "    self.data = data\n",
        "    self.grad = 0.0\n",
        "    self._backward = lambda: None\n",
        "    self._prev = set(_children)\n",
        "    self._op = _op\n",
        "    self.label = label\n",
        "\n",
        "  def __repr__(self):\n",
        "    return f\"Value(data={self.data})\"\n",
        "\n",
        "  def __add__(self, other):\n",
        "    other = other if isinstance(other, Value) else Value(other)\n",
        "    out = Value(self.data + other.data, (self, other), '+')\n",
        "\n",
        "    def _backward():\n",
        "      self.grad += 1.0 * out.grad\n",
        "      other.grad += 1.0 * out.grad\n",
        "    out._backward = _backward\n",
        "\n",
        "    return out\n",
        "\n",
        "  def __mul__(self, other):\n",
        "    other = other if isinstance(other, Value) else Value(other)\n",
        "    out = Value(self.data * other.data, (self, other), '*')\n",
        "\n",
        "    def _backward():\n",
        "      self.grad += other.data * out.grad\n",
        "      other.grad += self.data * out.grad\n",
        "    out._backward = _backward\n",
        "\n",
        "    return out\n",
        "\n",
        "\n",
        "  def __rmul__(self, other):\n",
        "    return self*other\n",
        "\n",
        "\n",
        "  def exp(self):\n",
        "    x = self.data\n",
        "    out = Value(math.exp(x), (self, ), 'exp')\n",
        "\n",
        "    def _backward():\n",
        "        self.grad += out.data * out.grad\n",
        "\n",
        "    out._backward = _backward\n",
        "    return out\n",
        "\n",
        "  def tanh(self):\n",
        "    x = self.data\n",
        "    t = (math.exp(2*x) - 1)/(math.exp(2*x) + 1)\n",
        "    out = Value(t, (self, ), 'tanh')\n",
        "\n",
        "    def _backward():\n",
        "      self.grad += (1 - t**2) * out.grad\n",
        "    out._backward = _backward\n",
        "\n",
        "    return out\n",
        "\n",
        "  def backward(self):\n",
        "\n",
        "    topo = []\n",
        "    visited = set()\n",
        "    def build_topo(v):\n",
        "      if v not in visited:\n",
        "        visited.add(v)\n",
        "        for child in v._prev:\n",
        "          build_topo(child)\n",
        "        topo.append(v)\n",
        "    build_topo(self)\n",
        "\n",
        "    self.grad = 1.0\n",
        "    for node in reversed(topo):\n",
        "      node._backward()"
      ],
      "metadata": {
        "id": "bw56V3vkvZyw"
      },
      "execution_count": 101,
      "outputs": []
    },
    {
      "cell_type": "markdown",
      "source": [
        "Let's check it."
      ],
      "metadata": {
        "id": "9T3WNrzdRF2G"
      }
    },
    {
      "cell_type": "code",
      "source": [
        "a = Value(2.0, label='a')\n",
        "\n",
        "b = a.exp(); b.label = 'b'"
      ],
      "metadata": {
        "id": "NrixmfXLREew"
      },
      "execution_count": 102,
      "outputs": []
    },
    {
      "cell_type": "code",
      "source": [
        "draw_dot(b)"
      ],
      "metadata": {
        "colab": {
          "base_uri": "https://localhost:8080/",
          "height": 81
        },
        "id": "lXl36HLaRLom",
        "outputId": "92467da7-1077-438d-e97a-9697be88d975"
      },
      "execution_count": 103,
      "outputs": [
        {
          "output_type": "execute_result",
          "data": {
            "image/svg+xml": "<?xml version=\"1.0\" encoding=\"UTF-8\" standalone=\"no\"?>\n<!DOCTYPE svg PUBLIC \"-//W3C//DTD SVG 1.1//EN\"\n \"http://www.w3.org/Graphics/SVG/1.1/DTD/svg11.dtd\">\n<!-- Generated by graphviz version 2.43.0 (0)\n -->\n<!-- Title: %3 Pages: 1 -->\n<svg width=\"504pt\" height=\"45pt\"\n viewBox=\"0.00 0.00 504.00 45.00\" xmlns=\"http://www.w3.org/2000/svg\" xmlns:xlink=\"http://www.w3.org/1999/xlink\">\n<g id=\"graph0\" class=\"graph\" transform=\"scale(1 1) rotate(0) translate(4 41)\">\n<title>%3</title>\n<polygon fill=\"white\" stroke=\"transparent\" points=\"-4,4 -4,-41 500,-41 500,4 -4,4\"/>\n<!-- 132486723628544 -->\n<g id=\"node1\" class=\"node\">\n<title>132486723628544</title>\n<polygon fill=\"none\" stroke=\"black\" points=\"0,-0.5 0,-36.5 185,-36.5 185,-0.5 0,-0.5\"/>\n<text text-anchor=\"middle\" x=\"11.5\" y=\"-14.8\" font-family=\"Times,serif\" font-size=\"14.00\">a</text>\n<polyline fill=\"none\" stroke=\"black\" points=\"23,-0.5 23,-36.5 \"/>\n<text text-anchor=\"middle\" x=\"63\" y=\"-14.8\" font-family=\"Times,serif\" font-size=\"14.00\">data 2.0000</text>\n<polyline fill=\"none\" stroke=\"black\" points=\"103,-0.5 103,-36.5 \"/>\n<text text-anchor=\"middle\" x=\"144\" y=\"-14.8\" font-family=\"Times,serif\" font-size=\"14.00\">grad 0.0000</text>\n</g>\n<!-- 132486723626096exp -->\n<g id=\"node3\" class=\"node\">\n<title>132486723626096exp</title>\n<ellipse fill=\"none\" stroke=\"black\" cx=\"248\" cy=\"-18.5\" rx=\"27\" ry=\"18\"/>\n<text text-anchor=\"middle\" x=\"248\" y=\"-14.8\" font-family=\"Times,serif\" font-size=\"14.00\">exp</text>\n</g>\n<!-- 132486723628544&#45;&gt;132486723626096exp -->\n<g id=\"edge2\" class=\"edge\">\n<title>132486723628544&#45;&gt;132486723626096exp</title>\n<path fill=\"none\" stroke=\"black\" d=\"M185.01,-18.5C194.01,-18.5 202.74,-18.5 210.66,-18.5\"/>\n<polygon fill=\"black\" stroke=\"black\" points=\"210.91,-22 220.91,-18.5 210.91,-15 210.91,-22\"/>\n</g>\n<!-- 132486723626096 -->\n<g id=\"node2\" class=\"node\">\n<title>132486723626096</title>\n<polygon fill=\"none\" stroke=\"black\" points=\"311,-0.5 311,-36.5 496,-36.5 496,-0.5 311,-0.5\"/>\n<text text-anchor=\"middle\" x=\"322.5\" y=\"-14.8\" font-family=\"Times,serif\" font-size=\"14.00\">b</text>\n<polyline fill=\"none\" stroke=\"black\" points=\"334,-0.5 334,-36.5 \"/>\n<text text-anchor=\"middle\" x=\"374\" y=\"-14.8\" font-family=\"Times,serif\" font-size=\"14.00\">data 7.3891</text>\n<polyline fill=\"none\" stroke=\"black\" points=\"414,-0.5 414,-36.5 \"/>\n<text text-anchor=\"middle\" x=\"455\" y=\"-14.8\" font-family=\"Times,serif\" font-size=\"14.00\">grad 0.0000</text>\n</g>\n<!-- 132486723626096exp&#45;&gt;132486723626096 -->\n<g id=\"edge1\" class=\"edge\">\n<title>132486723626096exp&#45;&gt;132486723626096</title>\n<path fill=\"none\" stroke=\"black\" d=\"M275.04,-18.5C282.58,-18.5 291.3,-18.5 300.57,-18.5\"/>\n<polygon fill=\"black\" stroke=\"black\" points=\"300.81,-22 310.81,-18.5 300.81,-15 300.81,-22\"/>\n</g>\n</g>\n</svg>\n",
            "text/plain": [
              "<graphviz.graphs.Digraph at 0x787ef8197d30>"
            ]
          },
          "metadata": {},
          "execution_count": 103
        }
      ]
    },
    {
      "cell_type": "code",
      "source": [
        "b.backward()"
      ],
      "metadata": {
        "id": "kQVn3OpiROQv"
      },
      "execution_count": 104,
      "outputs": []
    },
    {
      "cell_type": "code",
      "source": [
        "draw_dot(b)"
      ],
      "metadata": {
        "colab": {
          "base_uri": "https://localhost:8080/",
          "height": 81
        },
        "id": "vt0-rmr8Rdm0",
        "outputId": "ecfc358e-01be-421f-db92-a495f3de0a3a"
      },
      "execution_count": 105,
      "outputs": [
        {
          "output_type": "execute_result",
          "data": {
            "image/svg+xml": "<?xml version=\"1.0\" encoding=\"UTF-8\" standalone=\"no\"?>\n<!DOCTYPE svg PUBLIC \"-//W3C//DTD SVG 1.1//EN\"\n \"http://www.w3.org/Graphics/SVG/1.1/DTD/svg11.dtd\">\n<!-- Generated by graphviz version 2.43.0 (0)\n -->\n<!-- Title: %3 Pages: 1 -->\n<svg width=\"504pt\" height=\"45pt\"\n viewBox=\"0.00 0.00 504.00 45.00\" xmlns=\"http://www.w3.org/2000/svg\" xmlns:xlink=\"http://www.w3.org/1999/xlink\">\n<g id=\"graph0\" class=\"graph\" transform=\"scale(1 1) rotate(0) translate(4 41)\">\n<title>%3</title>\n<polygon fill=\"white\" stroke=\"transparent\" points=\"-4,4 -4,-41 500,-41 500,4 -4,4\"/>\n<!-- 132486723628544 -->\n<g id=\"node1\" class=\"node\">\n<title>132486723628544</title>\n<polygon fill=\"none\" stroke=\"black\" points=\"0,-0.5 0,-36.5 185,-36.5 185,-0.5 0,-0.5\"/>\n<text text-anchor=\"middle\" x=\"11.5\" y=\"-14.8\" font-family=\"Times,serif\" font-size=\"14.00\">a</text>\n<polyline fill=\"none\" stroke=\"black\" points=\"23,-0.5 23,-36.5 \"/>\n<text text-anchor=\"middle\" x=\"63\" y=\"-14.8\" font-family=\"Times,serif\" font-size=\"14.00\">data 2.0000</text>\n<polyline fill=\"none\" stroke=\"black\" points=\"103,-0.5 103,-36.5 \"/>\n<text text-anchor=\"middle\" x=\"144\" y=\"-14.8\" font-family=\"Times,serif\" font-size=\"14.00\">grad 7.3891</text>\n</g>\n<!-- 132486723626096exp -->\n<g id=\"node3\" class=\"node\">\n<title>132486723626096exp</title>\n<ellipse fill=\"none\" stroke=\"black\" cx=\"248\" cy=\"-18.5\" rx=\"27\" ry=\"18\"/>\n<text text-anchor=\"middle\" x=\"248\" y=\"-14.8\" font-family=\"Times,serif\" font-size=\"14.00\">exp</text>\n</g>\n<!-- 132486723628544&#45;&gt;132486723626096exp -->\n<g id=\"edge2\" class=\"edge\">\n<title>132486723628544&#45;&gt;132486723626096exp</title>\n<path fill=\"none\" stroke=\"black\" d=\"M185.01,-18.5C194.01,-18.5 202.74,-18.5 210.66,-18.5\"/>\n<polygon fill=\"black\" stroke=\"black\" points=\"210.91,-22 220.91,-18.5 210.91,-15 210.91,-22\"/>\n</g>\n<!-- 132486723626096 -->\n<g id=\"node2\" class=\"node\">\n<title>132486723626096</title>\n<polygon fill=\"none\" stroke=\"black\" points=\"311,-0.5 311,-36.5 496,-36.5 496,-0.5 311,-0.5\"/>\n<text text-anchor=\"middle\" x=\"322.5\" y=\"-14.8\" font-family=\"Times,serif\" font-size=\"14.00\">b</text>\n<polyline fill=\"none\" stroke=\"black\" points=\"334,-0.5 334,-36.5 \"/>\n<text text-anchor=\"middle\" x=\"374\" y=\"-14.8\" font-family=\"Times,serif\" font-size=\"14.00\">data 7.3891</text>\n<polyline fill=\"none\" stroke=\"black\" points=\"414,-0.5 414,-36.5 \"/>\n<text text-anchor=\"middle\" x=\"455\" y=\"-14.8\" font-family=\"Times,serif\" font-size=\"14.00\">grad 1.0000</text>\n</g>\n<!-- 132486723626096exp&#45;&gt;132486723626096 -->\n<g id=\"edge1\" class=\"edge\">\n<title>132486723626096exp&#45;&gt;132486723626096</title>\n<path fill=\"none\" stroke=\"black\" d=\"M275.04,-18.5C282.58,-18.5 291.3,-18.5 300.57,-18.5\"/>\n<polygon fill=\"black\" stroke=\"black\" points=\"300.81,-22 310.81,-18.5 300.81,-15 300.81,-22\"/>\n</g>\n</g>\n</svg>\n",
            "text/plain": [
              "<graphviz.graphs.Digraph at 0x787ef8194d00>"
            ]
          },
          "metadata": {},
          "execution_count": 105
        }
      ]
    },
    {
      "cell_type": "markdown",
      "source": [
        "### Expanding the division functionality"
      ],
      "metadata": {
        "id": "exVYSNNnRj7m"
      }
    },
    {
      "cell_type": "markdown",
      "source": [
        "We would love to do division operation.<br>\n",
        "There are many ways to do division. i.e what we call division is kind of a special case of something.<br>\n",
        "Let's look at that.<br>\n",
        "\n",
        "***a divided by b*** can be broken down to :<br>\n",
        "```\n",
        "a/b\n",
        "a*(1/b)\n",
        "a*(b**-1)\n",
        "```"
      ],
      "metadata": {
        "id": "UrC9CuYFRpGW"
      }
    },
    {
      "cell_type": "markdown",
      "source": [
        "Let's work with `Value` class."
      ],
      "metadata": {
        "id": "YV2QmHAvUEz3"
      }
    },
    {
      "cell_type": "code",
      "source": [
        "class Value:\n",
        "\n",
        "  def __init__(self, data, _children=(), _op='', label=''):\n",
        "    self.data = data\n",
        "    self.grad = 0.0\n",
        "    self._backward = lambda: None\n",
        "    self._prev = set(_children)\n",
        "    self._op = _op\n",
        "    self.label = label\n",
        "\n",
        "  def __repr__(self):\n",
        "    return f\"Value(data={self.data})\"\n",
        "\n",
        "  def __add__(self, other):\n",
        "    other = other if isinstance(other, Value) else Value(other)\n",
        "    out = Value(self.data + other.data, (self, other), '+')\n",
        "\n",
        "    def _backward():\n",
        "      self.grad += 1.0 * out.grad\n",
        "      other.grad += 1.0 * out.grad\n",
        "    out._backward = _backward\n",
        "\n",
        "    return out\n",
        "\n",
        "  def __mul__(self, other):\n",
        "    other = other if isinstance(other, Value) else Value(other)\n",
        "    out = Value(self.data * other.data, (self, other), '*')\n",
        "\n",
        "    def _backward():\n",
        "      self.grad += other.data * out.grad\n",
        "      other.grad += self.data * out.grad\n",
        "    out._backward = _backward\n",
        "\n",
        "    return out\n",
        "\n",
        "\n",
        "  def __rmul__(self, other):\n",
        "    return self*other\n",
        "\n",
        "  def __truediv__(self, other):\n",
        "    return self * other**-1\n",
        "\n",
        "  def exp(self):\n",
        "    x = self.data\n",
        "    out = Value(math.exp(x), (self, ), 'exp')\n",
        "\n",
        "    def _backward():\n",
        "        self.grad += out.data * out.grad\n",
        "\n",
        "    out._backward = _backward\n",
        "    return out\n",
        "\n",
        "  def tanh(self):\n",
        "    x = self.data\n",
        "    t = (math.exp(2*x) - 1)/(math.exp(2*x) + 1)\n",
        "    out = Value(t, (self, ), 'tanh')\n",
        "\n",
        "    def _backward():\n",
        "      self.grad += (1 - t**2) * out.grad\n",
        "    out._backward = _backward\n",
        "\n",
        "    return out\n",
        "\n",
        "  def backward(self):\n",
        "\n",
        "    topo = []\n",
        "    visited = set()\n",
        "    def build_topo(v):\n",
        "      if v not in visited:\n",
        "        visited.add(v)\n",
        "        for child in v._prev:\n",
        "          build_topo(child)\n",
        "        topo.append(v)\n",
        "    build_topo(self)\n",
        "\n",
        "    self.grad = 1.0\n",
        "    for node in reversed(topo):\n",
        "      node._backward()"
      ],
      "metadata": {
        "id": "1HWR8c9fRf5m"
      },
      "execution_count": 106,
      "outputs": []
    },
    {
      "cell_type": "code",
      "source": [
        "#Let's try\n",
        "\n",
        "a = Value(9.0, label = 'a')\n",
        "b = Value(3.0, label = 'b')\n",
        "\n",
        "#c = a/b"
      ],
      "metadata": {
        "id": "jXZ5cMW9UjXX"
      },
      "execution_count": 107,
      "outputs": []
    },
    {
      "cell_type": "markdown",
      "source": [
        "```\n",
        "---------------------------------------------------------------------------\n",
        "TypeError                                 Traceback (most recent call last)\n",
        "<ipython-input-113-95808baac4bd> in <cell line: 6>()\n",
        "      4 b = Value(3.0, label = 'b')\n",
        "      5\n",
        "----> 6 c = a/b\n",
        "\n",
        "<ipython-input-111-c7d17084fab1> in __truediv__(self, other)\n",
        "     39\n",
        "     40   def __truediv__(self, other):\n",
        "---> 41     return self * other**-1\n",
        "     42\n",
        "     43   def exp(self):\n",
        "\n",
        "TypeError: unsupported operand type(s) for ** or pow(): 'Value' and 'int'\n",
        "```"
      ],
      "metadata": {
        "id": "XIiNUUmpVNuQ"
      }
    },
    {
      "cell_type": "markdown",
      "source": [
        "We get the error above when we do division.<br>\n",
        "This is because we have implemented division as <br>\n",
        "`return self * other**-1` <br>\n",
        "But we have not implemented the `pow` function, which is for the `**` operator."
      ],
      "metadata": {
        "id": "fhmX18A5VRsq"
      }
    },
    {
      "cell_type": "code",
      "source": [
        "class Value:\n",
        "\n",
        "  def __init__(self, data, _children=(), _op='', label=''):\n",
        "    self.data = data\n",
        "    self.grad = 0.0\n",
        "    self._backward = lambda: None\n",
        "    self._prev = set(_children)\n",
        "    self._op = _op\n",
        "    self.label = label\n",
        "\n",
        "  def __repr__(self):\n",
        "    return f\"Value(data={self.data})\"\n",
        "\n",
        "  def __add__(self, other):\n",
        "    other = other if isinstance(other, Value) else Value(other)\n",
        "    out = Value(self.data + other.data, (self, other), '+')\n",
        "\n",
        "    def _backward():\n",
        "      self.grad += 1.0 * out.grad\n",
        "      other.grad += 1.0 * out.grad\n",
        "    out._backward = _backward\n",
        "\n",
        "    return out\n",
        "\n",
        "  def __mul__(self, other):\n",
        "    other = other if isinstance(other, Value) else Value(other)\n",
        "    out = Value(self.data * other.data, (self, other), '*')\n",
        "\n",
        "    def _backward():\n",
        "      self.grad += other.data * out.grad\n",
        "      other.grad += self.data * out.grad\n",
        "    out._backward = _backward\n",
        "\n",
        "    return out\n",
        "\n",
        "  def __pow__(self, other):\n",
        "    assert isinstance(other, (int, float)), 'THE ONLY SUPPORTED DATA TYPES FOR POWER ARE int/float.'\n",
        "    out = Value(self.data ** other, (self, ), f'**{other}')\n",
        "\n",
        "    def _backward(self):\n",
        "        self.grad += (other * self.data ** (other-1)) * out.grad\n",
        "\n",
        "    out._backward = _backward\n",
        "\n",
        "    return out\n",
        "\n",
        "\n",
        "  def __rmul__(self, other):\n",
        "    return self*other\n",
        "\n",
        "  def __truediv__(self, other):\n",
        "    return self * other**-1\n",
        "\n",
        "  def exp(self):\n",
        "    x = self.data\n",
        "    out = Value(math.exp(x), (self, ), 'exp')\n",
        "\n",
        "    def _backward():\n",
        "        self.grad += out.data * out.grad\n",
        "\n",
        "    out._backward = _backward\n",
        "    return out\n",
        "\n",
        "  def tanh(self):\n",
        "    x = self.data\n",
        "    t = (math.exp(2*x) - 1)/(math.exp(2*x) + 1)\n",
        "    out = Value(t, (self, ), 'tanh')\n",
        "\n",
        "    def _backward():\n",
        "      self.grad += (1 - t**2) * out.grad\n",
        "    out._backward = _backward\n",
        "\n",
        "    return out\n",
        "\n",
        "  def backward(self):\n",
        "\n",
        "    topo = []\n",
        "    visited = set()\n",
        "    def build_topo(v):\n",
        "      if v not in visited:\n",
        "        visited.add(v)\n",
        "        for child in v._prev:\n",
        "          build_topo(child)\n",
        "        topo.append(v)\n",
        "    build_topo(self)\n",
        "\n",
        "    self.grad = 1.0\n",
        "    for node in reversed(topo):\n",
        "      node._backward()"
      ],
      "metadata": {
        "id": "JiD0Y07WVEXQ"
      },
      "execution_count": 108,
      "outputs": []
    },
    {
      "cell_type": "markdown",
      "source": [
        "Now, when we do the above operation, it works."
      ],
      "metadata": {
        "id": "vDV8xHi3XwRO"
      }
    },
    {
      "cell_type": "code",
      "source": [
        "#Let's try\n",
        "\n",
        "a = Value(9.0, label = 'a')\n",
        "b = Value(3.0, label = 'b')\n",
        "\n",
        "c = a/b"
      ],
      "metadata": {
        "id": "DEa2IPvEXvm8"
      },
      "execution_count": 109,
      "outputs": []
    },
    {
      "cell_type": "code",
      "source": [
        "c"
      ],
      "metadata": {
        "colab": {
          "base_uri": "https://localhost:8080/"
        },
        "id": "gbnBa2jcX2qN",
        "outputId": "50c29428-6577-4351-dca9-3dbdf22ee3b6"
      },
      "execution_count": 110,
      "outputs": [
        {
          "output_type": "execute_result",
          "data": {
            "text/plain": [
              "Value(data=3.0)"
            ]
          },
          "metadata": {},
          "execution_count": 110
        }
      ]
    },
    {
      "cell_type": "markdown",
      "source": [
        "Let's look at substraction."
      ],
      "metadata": {
        "id": "1uaX9xkGenf5"
      }
    },
    {
      "cell_type": "code",
      "source": [
        "#Let's try\n",
        "\n",
        "a = Value(3.0, label = 'a')\n",
        "b = Value(9.0, label = 'b')\n",
        "\n",
        "#c = a - b"
      ],
      "metadata": {
        "id": "El-VSF-CeLCu"
      },
      "execution_count": 111,
      "outputs": []
    },
    {
      "cell_type": "markdown",
      "source": [
        "```\n",
        "---------------------------------------------------------------------------\n",
        "TypeError                                 Traceback (most recent call last)\n",
        "<ipython-input-120-cb6e25107794> in <cell line: 6>()\n",
        "      4 b = Value(9.0, label = 'b')\n",
        "      5\n",
        "----> 6 c = a - b\n",
        "\n",
        "TypeError: unsupported operand type(s) for -: 'Value' and 'Value'\n",
        "```"
      ],
      "metadata": {
        "id": "nylCZWhBe2Fi"
      }
    },
    {
      "cell_type": "markdown",
      "source": [
        "Substraction gives the error above. This is because we havenot implemented substraction.<br>\n",
        "Let's do it."
      ],
      "metadata": {
        "id": "o9d2gwSBe7oY"
      }
    },
    {
      "cell_type": "code",
      "source": [
        "class Value:\n",
        "\n",
        "  def __init__(self, data, _children=(), _op='', label=''):\n",
        "    self.data = data\n",
        "    self.grad = 0.0\n",
        "    self._backward = lambda: None\n",
        "    self._prev = set(_children)\n",
        "    self._op = _op\n",
        "    self.label = label\n",
        "\n",
        "  def __repr__(self):\n",
        "    return f\"Value(data={self.data})\"\n",
        "\n",
        "  def __add__(self, other):\n",
        "    other = other if isinstance(other, Value) else Value(other)\n",
        "    out = Value(self.data + other.data, (self, other), '+')\n",
        "\n",
        "    def _backward():\n",
        "      self.grad += 1.0 * out.grad\n",
        "      other.grad += 1.0 * out.grad\n",
        "    out._backward = _backward\n",
        "\n",
        "    return out\n",
        "\n",
        "  def __mul__(self, other):\n",
        "    other = other if isinstance(other, Value) else Value(other)\n",
        "    out = Value(self.data * other.data, (self, other), '*')\n",
        "\n",
        "    def _backward():\n",
        "      self.grad += other.data * out.grad\n",
        "      other.grad += self.data * out.grad\n",
        "    out._backward = _backward\n",
        "\n",
        "    return out\n",
        "\n",
        "  def __pow__(self, other):\n",
        "    assert isinstance(other, (int, float)), 'THE ONLY SUPPORTED DATA TYPES FOR POWER ARE int/float.'\n",
        "    out = Value(self.data ** other, (self, ), f'**{other}')\n",
        "\n",
        "    def _backward():\n",
        "        self.grad += other * (self.data ** (other-1)) * out.grad\n",
        "\n",
        "    out._backward = _backward\n",
        "\n",
        "    return out\n",
        "\n",
        "\n",
        "  def __rmul__(self, other):\n",
        "    return self*other\n",
        "\n",
        "  def __truediv__(self, other):\n",
        "    return self * other**-1\n",
        "\n",
        "  def __neg__(self): # -self\n",
        "    return self * -1\n",
        "\n",
        "  def __sub__(self, other): # self - other\n",
        "    return self + (-other)\n",
        "\n",
        "  def exp(self):\n",
        "    x = self.data\n",
        "    out = Value(math.exp(x), (self, ), 'exp')\n",
        "\n",
        "    def _backward():\n",
        "        self.grad += out.data * out.grad\n",
        "\n",
        "    out._backward = _backward\n",
        "    return out\n",
        "\n",
        "  def tanh(self):\n",
        "    x = self.data\n",
        "    t = (math.exp(2*x) - 1)/(math.exp(2*x) + 1)\n",
        "    out = Value(t, (self, ), 'tanh')\n",
        "\n",
        "    def _backward():\n",
        "      self.grad += (1 - t**2) * out.grad\n",
        "    out._backward = _backward\n",
        "\n",
        "    return out\n",
        "\n",
        "  def backward(self):\n",
        "\n",
        "    topo = []\n",
        "    visited = set()\n",
        "    def build_topo(v):\n",
        "      if v not in visited:\n",
        "        visited.add(v)\n",
        "        for child in v._prev:\n",
        "          build_topo(child)\n",
        "        topo.append(v)\n",
        "    build_topo(self)\n",
        "\n",
        "    self.grad = 1.0\n",
        "    for node in reversed(topo):\n",
        "      node._backward()"
      ],
      "metadata": {
        "id": "FY9glMS6e0Sf"
      },
      "execution_count": 112,
      "outputs": []
    },
    {
      "cell_type": "markdown",
      "source": [
        "It should work now."
      ],
      "metadata": {
        "id": "LRq_GxtcfTzD"
      }
    },
    {
      "cell_type": "code",
      "source": [
        "#Let's try\n",
        "\n",
        "a = Value(3.0, label = 'a')\n",
        "b = Value(9.0, label = 'b')\n",
        "\n",
        "c = a - b"
      ],
      "metadata": {
        "id": "FunJgSIrfTRd"
      },
      "execution_count": 113,
      "outputs": []
    },
    {
      "cell_type": "code",
      "source": [
        "c"
      ],
      "metadata": {
        "id": "GUgV5GJRfYkW",
        "outputId": "519513ac-726b-41f7-d2b7-82567edae87d",
        "colab": {
          "base_uri": "https://localhost:8080/"
        }
      },
      "execution_count": 114,
      "outputs": [
        {
          "output_type": "execute_result",
          "data": {
            "text/plain": [
              "Value(data=-6.0)"
            ]
          },
          "metadata": {},
          "execution_count": 114
        }
      ]
    },
    {
      "cell_type": "markdown",
      "source": [
        "Let's do some forward pass."
      ],
      "metadata": {
        "id": "CckGCFWVCMwF"
      }
    },
    {
      "cell_type": "code",
      "source": [
        "# inputs x1,x2\n",
        "x1 = Value(2.0, label='x1')\n",
        "x2 = Value(0.0, label='x2')\n",
        "# weights w1,w2\n",
        "w1 = Value(-3.0, label='w1')\n",
        "w2 = Value(1.0, label='w2')\n",
        "# bias of the neuron\n",
        "b = Value(6.8813735870195432, label='b')\n",
        "# x1*w1 + x2*w2 + b\n",
        "x1w1 = x1*w1; x1w1.label = 'x1*w1'\n",
        "x2w2 = x2*w2; x2w2.label = 'x2*w2'\n",
        "x1w1x2w2 = x1w1 + x2w2; x1w1x2w2.label = 'x1*w1 + x2*w2'\n",
        "n = x1w1x2w2 + b; n.label = 'n'\n",
        "o = n.tanh(); o.label = 'o'"
      ],
      "metadata": {
        "id": "Tut7THNHfZOz"
      },
      "execution_count": 115,
      "outputs": []
    },
    {
      "cell_type": "code",
      "source": [
        "o.backward()"
      ],
      "metadata": {
        "id": "dG5gjO71CS3Z"
      },
      "execution_count": 116,
      "outputs": []
    },
    {
      "cell_type": "code",
      "source": [
        "draw_dot(o)"
      ],
      "metadata": {
        "colab": {
          "base_uri": "https://localhost:8080/",
          "height": 321
        },
        "id": "WPK289j7CVAK",
        "outputId": "640c4130-f8a0-48a0-e941-75fa6324a46b"
      },
      "execution_count": 117,
      "outputs": [
        {
          "output_type": "execute_result",
          "data": {
            "image/svg+xml": "<?xml version=\"1.0\" encoding=\"UTF-8\" standalone=\"no\"?>\n<!DOCTYPE svg PUBLIC \"-//W3C//DTD SVG 1.1//EN\"\n \"http://www.w3.org/Graphics/SVG/1.1/DTD/svg11.dtd\">\n<!-- Generated by graphviz version 2.43.0 (0)\n -->\n<!-- Title: %3 Pages: 1 -->\n<svg width=\"1575pt\" height=\"210pt\"\n viewBox=\"0.00 0.00 1575.00 210.00\" xmlns=\"http://www.w3.org/2000/svg\" xmlns:xlink=\"http://www.w3.org/1999/xlink\">\n<g id=\"graph0\" class=\"graph\" transform=\"scale(1 1) rotate(0) translate(4 206)\">\n<title>%3</title>\n<polygon fill=\"white\" stroke=\"transparent\" points=\"-4,4 -4,-206 1571,-206 1571,4 -4,4\"/>\n<!-- 132486723167776 -->\n<g id=\"node1\" class=\"node\">\n<title>132486723167776</title>\n<polygon fill=\"none\" stroke=\"black\" points=\"1071,-54.5 1071,-90.5 1256,-90.5 1256,-54.5 1071,-54.5\"/>\n<text text-anchor=\"middle\" x=\"1082.5\" y=\"-68.8\" font-family=\"Times,serif\" font-size=\"14.00\">n</text>\n<polyline fill=\"none\" stroke=\"black\" points=\"1094,-54.5 1094,-90.5 \"/>\n<text text-anchor=\"middle\" x=\"1134\" y=\"-68.8\" font-family=\"Times,serif\" font-size=\"14.00\">data 0.8814</text>\n<polyline fill=\"none\" stroke=\"black\" points=\"1174,-54.5 1174,-90.5 \"/>\n<text text-anchor=\"middle\" x=\"1215\" y=\"-68.8\" font-family=\"Times,serif\" font-size=\"14.00\">grad 0.5000</text>\n</g>\n<!-- 132486723158416tanh -->\n<g id=\"node15\" class=\"node\">\n<title>132486723158416tanh</title>\n<ellipse fill=\"none\" stroke=\"black\" cx=\"1319\" cy=\"-72.5\" rx=\"27\" ry=\"18\"/>\n<text text-anchor=\"middle\" x=\"1319\" y=\"-68.8\" font-family=\"Times,serif\" font-size=\"14.00\">tanh</text>\n</g>\n<!-- 132486723167776&#45;&gt;132486723158416tanh -->\n<g id=\"edge6\" class=\"edge\">\n<title>132486723167776&#45;&gt;132486723158416tanh</title>\n<path fill=\"none\" stroke=\"black\" d=\"M1256.01,-72.5C1265.01,-72.5 1273.74,-72.5 1281.66,-72.5\"/>\n<polygon fill=\"black\" stroke=\"black\" points=\"1281.91,-76 1291.91,-72.5 1281.91,-69 1281.91,-76\"/>\n</g>\n<!-- 132486723167776+ -->\n<g id=\"node2\" class=\"node\">\n<title>132486723167776+</title>\n<ellipse fill=\"none\" stroke=\"black\" cx=\"1008\" cy=\"-72.5\" rx=\"27\" ry=\"18\"/>\n<text text-anchor=\"middle\" x=\"1008\" y=\"-68.8\" font-family=\"Times,serif\" font-size=\"14.00\">+</text>\n</g>\n<!-- 132486723167776+&#45;&gt;132486723167776 -->\n<g id=\"edge1\" class=\"edge\">\n<title>132486723167776+&#45;&gt;132486723167776</title>\n<path fill=\"none\" stroke=\"black\" d=\"M1035.04,-72.5C1042.58,-72.5 1051.3,-72.5 1060.57,-72.5\"/>\n<polygon fill=\"black\" stroke=\"black\" points=\"1060.81,-76 1070.81,-72.5 1060.81,-69 1060.81,-76\"/>\n</g>\n<!-- 132486723168832 -->\n<g id=\"node3\" class=\"node\">\n<title>132486723168832</title>\n<polygon fill=\"none\" stroke=\"black\" points=\"4,-55.5 4,-91.5 196,-91.5 196,-55.5 4,-55.5\"/>\n<text text-anchor=\"middle\" x=\"19\" y=\"-69.8\" font-family=\"Times,serif\" font-size=\"14.00\">x2</text>\n<polyline fill=\"none\" stroke=\"black\" points=\"34,-55.5 34,-91.5 \"/>\n<text text-anchor=\"middle\" x=\"74\" y=\"-69.8\" font-family=\"Times,serif\" font-size=\"14.00\">data 0.0000</text>\n<polyline fill=\"none\" stroke=\"black\" points=\"114,-55.5 114,-91.5 \"/>\n<text text-anchor=\"middle\" x=\"155\" y=\"-69.8\" font-family=\"Times,serif\" font-size=\"14.00\">grad 0.5000</text>\n</g>\n<!-- 132486723169072* -->\n<g id=\"node9\" class=\"node\">\n<title>132486723169072*</title>\n<ellipse fill=\"none\" stroke=\"black\" cx=\"263\" cy=\"-73.5\" rx=\"27\" ry=\"18\"/>\n<text text-anchor=\"middle\" x=\"263\" y=\"-69.8\" font-family=\"Times,serif\" font-size=\"14.00\">*</text>\n</g>\n<!-- 132486723168832&#45;&gt;132486723169072* -->\n<g id=\"edge9\" class=\"edge\">\n<title>132486723168832&#45;&gt;132486723169072*</title>\n<path fill=\"none\" stroke=\"black\" d=\"M196.05,-73.5C206.52,-73.5 216.65,-73.5 225.71,-73.5\"/>\n<polygon fill=\"black\" stroke=\"black\" points=\"225.79,-77 235.79,-73.5 225.79,-70 225.79,-77\"/>\n</g>\n<!-- 132486723167200 -->\n<g id=\"node4\" class=\"node\">\n<title>132486723167200</title>\n<polygon fill=\"none\" stroke=\"black\" points=\"326,-110.5 326,-146.5 546,-146.5 546,-110.5 326,-110.5\"/>\n<text text-anchor=\"middle\" x=\"352.5\" y=\"-124.8\" font-family=\"Times,serif\" font-size=\"14.00\">x1*w1</text>\n<polyline fill=\"none\" stroke=\"black\" points=\"379,-110.5 379,-146.5 \"/>\n<text text-anchor=\"middle\" x=\"421.5\" y=\"-124.8\" font-family=\"Times,serif\" font-size=\"14.00\">data &#45;6.0000</text>\n<polyline fill=\"none\" stroke=\"black\" points=\"464,-110.5 464,-146.5 \"/>\n<text text-anchor=\"middle\" x=\"505\" y=\"-124.8\" font-family=\"Times,serif\" font-size=\"14.00\">grad 0.5000</text>\n</g>\n<!-- 132486723167632+ -->\n<g id=\"node11\" class=\"node\">\n<title>132486723167632+</title>\n<ellipse fill=\"none\" stroke=\"black\" cx=\"609\" cy=\"-100.5\" rx=\"27\" ry=\"18\"/>\n<text text-anchor=\"middle\" x=\"609\" y=\"-96.8\" font-family=\"Times,serif\" font-size=\"14.00\">+</text>\n</g>\n<!-- 132486723167200&#45;&gt;132486723167632+ -->\n<g id=\"edge13\" class=\"edge\">\n<title>132486723167200&#45;&gt;132486723167632+</title>\n<path fill=\"none\" stroke=\"black\" d=\"M546.27,-110.61C555.64,-109.07 564.6,-107.61 572.65,-106.29\"/>\n<polygon fill=\"black\" stroke=\"black\" points=\"573.35,-109.72 582.65,-104.65 572.22,-102.81 573.35,-109.72\"/>\n</g>\n<!-- 132486723167200* -->\n<g id=\"node5\" class=\"node\">\n<title>132486723167200*</title>\n<ellipse fill=\"none\" stroke=\"black\" cx=\"263\" cy=\"-128.5\" rx=\"27\" ry=\"18\"/>\n<text text-anchor=\"middle\" x=\"263\" y=\"-124.8\" font-family=\"Times,serif\" font-size=\"14.00\">*</text>\n</g>\n<!-- 132486723167200*&#45;&gt;132486723167200 -->\n<g id=\"edge2\" class=\"edge\">\n<title>132486723167200*&#45;&gt;132486723167200</title>\n<path fill=\"none\" stroke=\"black\" d=\"M290.34,-128.5C297.77,-128.5 306.37,-128.5 315.6,-128.5\"/>\n<polygon fill=\"black\" stroke=\"black\" points=\"315.84,-132 325.84,-128.5 315.84,-125 315.84,-132\"/>\n</g>\n<!-- 132486723170944 -->\n<g id=\"node6\" class=\"node\">\n<title>132486723170944</title>\n<polygon fill=\"none\" stroke=\"black\" points=\"0,-165.5 0,-201.5 200,-201.5 200,-165.5 0,-165.5\"/>\n<text text-anchor=\"middle\" x=\"16.5\" y=\"-179.8\" font-family=\"Times,serif\" font-size=\"14.00\">w1</text>\n<polyline fill=\"none\" stroke=\"black\" points=\"33,-165.5 33,-201.5 \"/>\n<text text-anchor=\"middle\" x=\"75.5\" y=\"-179.8\" font-family=\"Times,serif\" font-size=\"14.00\">data &#45;3.0000</text>\n<polyline fill=\"none\" stroke=\"black\" points=\"118,-165.5 118,-201.5 \"/>\n<text text-anchor=\"middle\" x=\"159\" y=\"-179.8\" font-family=\"Times,serif\" font-size=\"14.00\">grad 1.0000</text>\n</g>\n<!-- 132486723170944&#45;&gt;132486723167200* -->\n<g id=\"edge14\" class=\"edge\">\n<title>132486723170944&#45;&gt;132486723167200*</title>\n<path fill=\"none\" stroke=\"black\" d=\"M172.53,-165.44C181.84,-162.67 191.2,-159.67 200,-156.5 210.53,-152.71 221.75,-147.9 231.72,-143.33\"/>\n<polygon fill=\"black\" stroke=\"black\" points=\"233.25,-146.48 240.82,-139.07 230.28,-140.14 233.25,-146.48\"/>\n</g>\n<!-- 132486723164416 -->\n<g id=\"node7\" class=\"node\">\n<title>132486723164416</title>\n<polygon fill=\"none\" stroke=\"black\" points=\"2.5,-0.5 2.5,-36.5 197.5,-36.5 197.5,-0.5 2.5,-0.5\"/>\n<text text-anchor=\"middle\" x=\"19\" y=\"-14.8\" font-family=\"Times,serif\" font-size=\"14.00\">w2</text>\n<polyline fill=\"none\" stroke=\"black\" points=\"35.5,-0.5 35.5,-36.5 \"/>\n<text text-anchor=\"middle\" x=\"75.5\" y=\"-14.8\" font-family=\"Times,serif\" font-size=\"14.00\">data 1.0000</text>\n<polyline fill=\"none\" stroke=\"black\" points=\"115.5,-0.5 115.5,-36.5 \"/>\n<text text-anchor=\"middle\" x=\"156.5\" y=\"-14.8\" font-family=\"Times,serif\" font-size=\"14.00\">grad 0.0000</text>\n</g>\n<!-- 132486723164416&#45;&gt;132486723169072* -->\n<g id=\"edge7\" class=\"edge\">\n<title>132486723164416&#45;&gt;132486723169072*</title>\n<path fill=\"none\" stroke=\"black\" d=\"M172.53,-36.56C181.84,-39.33 191.2,-42.33 200,-45.5 210.53,-49.29 221.75,-54.1 231.72,-58.67\"/>\n<polygon fill=\"black\" stroke=\"black\" points=\"230.28,-61.86 240.82,-62.93 233.25,-55.52 230.28,-61.86\"/>\n</g>\n<!-- 132486723169072 -->\n<g id=\"node8\" class=\"node\">\n<title>132486723169072</title>\n<polygon fill=\"none\" stroke=\"black\" points=\"328.5,-55.5 328.5,-91.5 543.5,-91.5 543.5,-55.5 328.5,-55.5\"/>\n<text text-anchor=\"middle\" x=\"355\" y=\"-69.8\" font-family=\"Times,serif\" font-size=\"14.00\">x2*w2</text>\n<polyline fill=\"none\" stroke=\"black\" points=\"381.5,-55.5 381.5,-91.5 \"/>\n<text text-anchor=\"middle\" x=\"421.5\" y=\"-69.8\" font-family=\"Times,serif\" font-size=\"14.00\">data 0.0000</text>\n<polyline fill=\"none\" stroke=\"black\" points=\"461.5,-55.5 461.5,-91.5 \"/>\n<text text-anchor=\"middle\" x=\"502.5\" y=\"-69.8\" font-family=\"Times,serif\" font-size=\"14.00\">grad 0.5000</text>\n</g>\n<!-- 132486723169072&#45;&gt;132486723167632+ -->\n<g id=\"edge8\" class=\"edge\">\n<title>132486723169072&#45;&gt;132486723167632+</title>\n<path fill=\"none\" stroke=\"black\" d=\"M543.84,-90.37C554.01,-91.98 563.76,-93.51 572.44,-94.89\"/>\n<polygon fill=\"black\" stroke=\"black\" points=\"572.05,-98.37 582.47,-96.47 573.14,-91.45 572.05,-98.37\"/>\n</g>\n<!-- 132486723169072*&#45;&gt;132486723169072 -->\n<g id=\"edge3\" class=\"edge\">\n<title>132486723169072*&#45;&gt;132486723169072</title>\n<path fill=\"none\" stroke=\"black\" d=\"M290.34,-73.5C298.51,-73.5 308.08,-73.5 318.36,-73.5\"/>\n<polygon fill=\"black\" stroke=\"black\" points=\"318.39,-77 328.39,-73.5 318.39,-70 318.39,-77\"/>\n</g>\n<!-- 132486723167632 -->\n<g id=\"node10\" class=\"node\">\n<title>132486723167632</title>\n<polygon fill=\"none\" stroke=\"black\" points=\"672,-82.5 672,-118.5 945,-118.5 945,-82.5 672,-82.5\"/>\n<text text-anchor=\"middle\" x=\"725\" y=\"-96.8\" font-family=\"Times,serif\" font-size=\"14.00\">x1*w1 + x2*w2</text>\n<polyline fill=\"none\" stroke=\"black\" points=\"778,-82.5 778,-118.5 \"/>\n<text text-anchor=\"middle\" x=\"820.5\" y=\"-96.8\" font-family=\"Times,serif\" font-size=\"14.00\">data &#45;6.0000</text>\n<polyline fill=\"none\" stroke=\"black\" points=\"863,-82.5 863,-118.5 \"/>\n<text text-anchor=\"middle\" x=\"904\" y=\"-96.8\" font-family=\"Times,serif\" font-size=\"14.00\">grad 0.5000</text>\n</g>\n<!-- 132486723167632&#45;&gt;132486723167776+ -->\n<g id=\"edge10\" class=\"edge\">\n<title>132486723167632&#45;&gt;132486723167776+</title>\n<path fill=\"none\" stroke=\"black\" d=\"M936.53,-82.49C949.09,-80.71 960.99,-79.02 971.3,-77.56\"/>\n<polygon fill=\"black\" stroke=\"black\" points=\"972.03,-80.99 981.44,-76.12 971.05,-74.06 972.03,-80.99\"/>\n</g>\n<!-- 132486723167632+&#45;&gt;132486723167632 -->\n<g id=\"edge4\" class=\"edge\">\n<title>132486723167632+&#45;&gt;132486723167632</title>\n<path fill=\"none\" stroke=\"black\" d=\"M636.23,-100.5C643.7,-100.5 652.41,-100.5 661.87,-100.5\"/>\n<polygon fill=\"black\" stroke=\"black\" points=\"661.98,-104 671.98,-100.5 661.98,-97 661.98,-104\"/>\n</g>\n<!-- 132486723170224 -->\n<g id=\"node12\" class=\"node\">\n<title>132486723170224</title>\n<polygon fill=\"none\" stroke=\"black\" points=\"2,-110.5 2,-146.5 198,-146.5 198,-110.5 2,-110.5\"/>\n<text text-anchor=\"middle\" x=\"17\" y=\"-124.8\" font-family=\"Times,serif\" font-size=\"14.00\">x1</text>\n<polyline fill=\"none\" stroke=\"black\" points=\"32,-110.5 32,-146.5 \"/>\n<text text-anchor=\"middle\" x=\"72\" y=\"-124.8\" font-family=\"Times,serif\" font-size=\"14.00\">data 2.0000</text>\n<polyline fill=\"none\" stroke=\"black\" points=\"112,-110.5 112,-146.5 \"/>\n<text text-anchor=\"middle\" x=\"155\" y=\"-124.8\" font-family=\"Times,serif\" font-size=\"14.00\">grad &#45;1.5000</text>\n</g>\n<!-- 132486723170224&#45;&gt;132486723167200* -->\n<g id=\"edge11\" class=\"edge\">\n<title>132486723170224&#45;&gt;132486723167200*</title>\n<path fill=\"none\" stroke=\"black\" d=\"M198.37,-128.5C208.05,-128.5 217.4,-128.5 225.8,-128.5\"/>\n<polygon fill=\"black\" stroke=\"black\" points=\"225.91,-132 235.91,-128.5 225.91,-125 225.91,-132\"/>\n</g>\n<!-- 132486723168208 -->\n<g id=\"node13\" class=\"node\">\n<title>132486723168208</title>\n<polygon fill=\"none\" stroke=\"black\" points=\"716,-27.5 716,-63.5 901,-63.5 901,-27.5 716,-27.5\"/>\n<text text-anchor=\"middle\" x=\"727.5\" y=\"-41.8\" font-family=\"Times,serif\" font-size=\"14.00\">b</text>\n<polyline fill=\"none\" stroke=\"black\" points=\"739,-27.5 739,-63.5 \"/>\n<text text-anchor=\"middle\" x=\"779\" y=\"-41.8\" font-family=\"Times,serif\" font-size=\"14.00\">data 6.8814</text>\n<polyline fill=\"none\" stroke=\"black\" points=\"819,-27.5 819,-63.5 \"/>\n<text text-anchor=\"middle\" x=\"860\" y=\"-41.8\" font-family=\"Times,serif\" font-size=\"14.00\">grad 0.5000</text>\n</g>\n<!-- 132486723168208&#45;&gt;132486723167776+ -->\n<g id=\"edge12\" class=\"edge\">\n<title>132486723168208&#45;&gt;132486723167776+</title>\n<path fill=\"none\" stroke=\"black\" d=\"M901.02,-58.01C926,-61.43 951.59,-64.93 971.37,-67.63\"/>\n<polygon fill=\"black\" stroke=\"black\" points=\"971.05,-71.12 981.43,-69.01 972,-64.18 971.05,-71.12\"/>\n</g>\n<!-- 132486723158416 -->\n<g id=\"node14\" class=\"node\">\n<title>132486723158416</title>\n<polygon fill=\"none\" stroke=\"black\" points=\"1382,-54.5 1382,-90.5 1567,-90.5 1567,-54.5 1382,-54.5\"/>\n<text text-anchor=\"middle\" x=\"1393.5\" y=\"-68.8\" font-family=\"Times,serif\" font-size=\"14.00\">o</text>\n<polyline fill=\"none\" stroke=\"black\" points=\"1405,-54.5 1405,-90.5 \"/>\n<text text-anchor=\"middle\" x=\"1445\" y=\"-68.8\" font-family=\"Times,serif\" font-size=\"14.00\">data 0.7071</text>\n<polyline fill=\"none\" stroke=\"black\" points=\"1485,-54.5 1485,-90.5 \"/>\n<text text-anchor=\"middle\" x=\"1526\" y=\"-68.8\" font-family=\"Times,serif\" font-size=\"14.00\">grad 1.0000</text>\n</g>\n<!-- 132486723158416tanh&#45;&gt;132486723158416 -->\n<g id=\"edge5\" class=\"edge\">\n<title>132486723158416tanh&#45;&gt;132486723158416</title>\n<path fill=\"none\" stroke=\"black\" d=\"M1346.04,-72.5C1353.58,-72.5 1362.3,-72.5 1371.57,-72.5\"/>\n<polygon fill=\"black\" stroke=\"black\" points=\"1371.81,-76 1381.81,-72.5 1371.81,-69 1371.81,-76\"/>\n</g>\n</g>\n</svg>\n",
            "text/plain": [
              "<graphviz.graphs.Digraph at 0x787ef8127a30>"
            ]
          },
          "metadata": {},
          "execution_count": 117
        }
      ]
    },
    {
      "cell_type": "markdown",
      "source": [
        "Since, we have implemented *exponential* functionality also, let's break our <br> `tanh` function into respective `exponentials`."
      ],
      "metadata": {
        "id": "2UzB6Uw7Cb9-"
      }
    },
    {
      "cell_type": "code",
      "source": [
        "# inputs x1,x2\n",
        "x1 = Value(2.0, label='x1')\n",
        "x2 = Value(0.0, label='x2')\n",
        "# weights w1,w2\n",
        "w1 = Value(-3.0, label='w1')\n",
        "w2 = Value(1.0, label='w2')\n",
        "# bias of the neuron\n",
        "b = Value(6.8813735870195432, label='b')\n",
        "# x1*w1 + x2*w2 + b\n",
        "x1w1 = x1*w1; x1w1.label = 'x1*w1'\n",
        "x2w2 = x2*w2; x2w2.label = 'x2*w2'\n",
        "x1w1x2w2 = x1w1 + x2w2; x1w1x2w2.label = 'x1*w1 + x2*w2'\n",
        "n = x1w1x2w2 + b; n.label = 'n'\n",
        "e = (2*n).exp()\n",
        "o = (e - 1)/(e + 1)\n",
        "o.label = 'o'"
      ],
      "metadata": {
        "id": "g2NjTwFlCXGm"
      },
      "execution_count": 118,
      "outputs": []
    },
    {
      "cell_type": "code",
      "source": [
        "o.backward()"
      ],
      "metadata": {
        "id": "JdCwoXxbG27C"
      },
      "execution_count": 119,
      "outputs": []
    },
    {
      "cell_type": "code",
      "source": [
        "draw_dot(o)"
      ],
      "metadata": {
        "colab": {
          "base_uri": "https://localhost:8080/",
          "height": 356
        },
        "id": "ufaoGAQ1G4Hy",
        "outputId": "c93f713a-748e-41ec-ddc6-811fe0eaaa6e"
      },
      "execution_count": 120,
      "outputs": [
        {
          "output_type": "execute_result",
          "data": {
            "image/svg+xml": "<?xml version=\"1.0\" encoding=\"UTF-8\" standalone=\"no\"?>\n<!DOCTYPE svg PUBLIC \"-//W3C//DTD SVG 1.1//EN\"\n \"http://www.w3.org/Graphics/SVG/1.1/DTD/svg11.dtd\">\n<!-- Generated by graphviz version 2.43.0 (0)\n -->\n<!-- Title: %3 Pages: 1 -->\n<svg width=\"2944pt\" height=\"236pt\"\n viewBox=\"0.00 0.00 2944.00 236.00\" xmlns=\"http://www.w3.org/2000/svg\" xmlns:xlink=\"http://www.w3.org/1999/xlink\">\n<g id=\"graph0\" class=\"graph\" transform=\"scale(1 1) rotate(0) translate(4 232)\">\n<title>%3</title>\n<polygon fill=\"white\" stroke=\"transparent\" points=\"-4,4 -4,-232 2940,-232 2940,4 -4,4\"/>\n<!-- 132486723540480 -->\n<g id=\"node1\" class=\"node\">\n<title>132486723540480</title>\n<polygon fill=\"none\" stroke=\"black\" points=\"2003,-163.5 2003,-199.5 2189,-199.5 2189,-163.5 2003,-163.5\"/>\n<text text-anchor=\"middle\" x=\"2013\" y=\"-177.8\" font-family=\"Times,serif\" font-size=\"14.00\"> </text>\n<polyline fill=\"none\" stroke=\"black\" points=\"2023,-163.5 2023,-199.5 \"/>\n<text text-anchor=\"middle\" x=\"2063\" y=\"-177.8\" font-family=\"Times,serif\" font-size=\"14.00\">data 6.8284</text>\n<polyline fill=\"none\" stroke=\"black\" points=\"2103,-163.5 2103,-199.5 \"/>\n<text text-anchor=\"middle\" x=\"2146\" y=\"-177.8\" font-family=\"Times,serif\" font-size=\"14.00\">grad &#45;0.1036</text>\n</g>\n<!-- 132486723539472**&#45;1 -->\n<g id=\"node4\" class=\"node\">\n<title>132486723539472**&#45;1</title>\n<ellipse fill=\"none\" stroke=\"black\" cx=\"2316\" cy=\"-181.5\" rx=\"27\" ry=\"18\"/>\n<text text-anchor=\"middle\" x=\"2316\" y=\"-177.8\" font-family=\"Times,serif\" font-size=\"14.00\">**&#45;1</text>\n</g>\n<!-- 132486723540480&#45;&gt;132486723539472**&#45;1 -->\n<g id=\"edge14\" class=\"edge\">\n<title>132486723540480&#45;&gt;132486723539472**&#45;1</title>\n<path fill=\"none\" stroke=\"black\" d=\"M2189.14,-181.5C2220.72,-181.5 2254.24,-181.5 2278.74,-181.5\"/>\n<polygon fill=\"black\" stroke=\"black\" points=\"2278.98,-185 2288.98,-181.5 2278.98,-178 2278.98,-185\"/>\n</g>\n<!-- 132486723540480+ -->\n<g id=\"node2\" class=\"node\">\n<title>132486723540480+</title>\n<ellipse fill=\"none\" stroke=\"black\" cx=\"1940\" cy=\"-181.5\" rx=\"27\" ry=\"18\"/>\n<text text-anchor=\"middle\" x=\"1940\" y=\"-177.8\" font-family=\"Times,serif\" font-size=\"14.00\">+</text>\n</g>\n<!-- 132486723540480+&#45;&gt;132486723540480 -->\n<g id=\"edge1\" class=\"edge\">\n<title>132486723540480+&#45;&gt;132486723540480</title>\n<path fill=\"none\" stroke=\"black\" d=\"M1967.12,-181.5C1974.62,-181.5 1983.29,-181.5 1992.5,-181.5\"/>\n<polygon fill=\"black\" stroke=\"black\" points=\"1992.69,-185 2002.69,-181.5 1992.69,-178 1992.69,-185\"/>\n</g>\n<!-- 132486723539472 -->\n<g id=\"node3\" class=\"node\">\n<title>132486723539472</title>\n<polygon fill=\"none\" stroke=\"black\" points=\"2443,-161.5 2443,-197.5 2625,-197.5 2625,-161.5 2443,-161.5\"/>\n<text text-anchor=\"middle\" x=\"2453\" y=\"-175.8\" font-family=\"Times,serif\" font-size=\"14.00\"> </text>\n<polyline fill=\"none\" stroke=\"black\" points=\"2463,-161.5 2463,-197.5 \"/>\n<text text-anchor=\"middle\" x=\"2503\" y=\"-175.8\" font-family=\"Times,serif\" font-size=\"14.00\">data 0.1464</text>\n<polyline fill=\"none\" stroke=\"black\" points=\"2543,-161.5 2543,-197.5 \"/>\n<text text-anchor=\"middle\" x=\"2584\" y=\"-175.8\" font-family=\"Times,serif\" font-size=\"14.00\">grad 4.8284</text>\n</g>\n<!-- 132486723548784* -->\n<g id=\"node11\" class=\"node\">\n<title>132486723548784*</title>\n<ellipse fill=\"none\" stroke=\"black\" cx=\"2688\" cy=\"-153.5\" rx=\"27\" ry=\"18\"/>\n<text text-anchor=\"middle\" x=\"2688\" y=\"-149.8\" font-family=\"Times,serif\" font-size=\"14.00\">*</text>\n</g>\n<!-- 132486723539472&#45;&gt;132486723548784* -->\n<g id=\"edge20\" class=\"edge\">\n<title>132486723539472&#45;&gt;132486723548784*</title>\n<path fill=\"none\" stroke=\"black\" d=\"M2625.18,-164.08C2634.42,-162.49 2643.38,-160.96 2651.47,-159.58\"/>\n<polygon fill=\"black\" stroke=\"black\" points=\"2652.29,-162.99 2661.56,-157.85 2651.11,-156.09 2652.29,-162.99\"/>\n</g>\n<!-- 132486723539472**&#45;1&#45;&gt;132486723539472 -->\n<g id=\"edge2\" class=\"edge\">\n<title>132486723539472**&#45;1&#45;&gt;132486723539472</title>\n<path fill=\"none\" stroke=\"black\" d=\"M2343.05,-181.26C2365.53,-181.05 2399.48,-180.74 2432.5,-180.43\"/>\n<polygon fill=\"black\" stroke=\"black\" points=\"2432.74,-183.93 2442.7,-180.34 2432.67,-176.93 2432.74,-183.93\"/>\n</g>\n<!-- 132486723547152 -->\n<g id=\"node5\" class=\"node\">\n<title>132486723547152</title>\n<polygon fill=\"none\" stroke=\"black\" points=\"1072.5,-164.5 1072.5,-200.5 1254.5,-200.5 1254.5,-164.5 1072.5,-164.5\"/>\n<text text-anchor=\"middle\" x=\"1082.5\" y=\"-178.8\" font-family=\"Times,serif\" font-size=\"14.00\"> </text>\n<polyline fill=\"none\" stroke=\"black\" points=\"1092.5,-164.5 1092.5,-200.5 \"/>\n<text text-anchor=\"middle\" x=\"1132.5\" y=\"-178.8\" font-family=\"Times,serif\" font-size=\"14.00\">data 2.0000</text>\n<polyline fill=\"none\" stroke=\"black\" points=\"1172.5,-164.5 1172.5,-200.5 \"/>\n<text text-anchor=\"middle\" x=\"1213.5\" y=\"-178.8\" font-family=\"Times,serif\" font-size=\"14.00\">grad 0.2203</text>\n</g>\n<!-- 132486723544560* -->\n<g id=\"node28\" class=\"node\">\n<title>132486723544560*</title>\n<ellipse fill=\"none\" stroke=\"black\" cx=\"1319\" cy=\"-154.5\" rx=\"27\" ry=\"18\"/>\n<text text-anchor=\"middle\" x=\"1319\" y=\"-150.8\" font-family=\"Times,serif\" font-size=\"14.00\">*</text>\n</g>\n<!-- 132486723547152&#45;&gt;132486723544560* -->\n<g id=\"edge24\" class=\"edge\">\n<title>132486723547152&#45;&gt;132486723544560*</title>\n<path fill=\"none\" stroke=\"black\" d=\"M1254.68,-166.05C1264.61,-164.24 1274.23,-162.48 1282.84,-160.91\"/>\n<polygon fill=\"black\" stroke=\"black\" points=\"1283.6,-164.33 1292.81,-159.09 1282.35,-157.45 1283.6,-164.33\"/>\n</g>\n<!-- 132486723543600 -->\n<g id=\"node6\" class=\"node\">\n<title>132486723543600</title>\n<polygon fill=\"none\" stroke=\"black\" points=\"328.5,-110.5 328.5,-146.5 543.5,-146.5 543.5,-110.5 328.5,-110.5\"/>\n<text text-anchor=\"middle\" x=\"355\" y=\"-124.8\" font-family=\"Times,serif\" font-size=\"14.00\">x2*w2</text>\n<polyline fill=\"none\" stroke=\"black\" points=\"381.5,-110.5 381.5,-146.5 \"/>\n<text text-anchor=\"middle\" x=\"421.5\" y=\"-124.8\" font-family=\"Times,serif\" font-size=\"14.00\">data 0.0000</text>\n<polyline fill=\"none\" stroke=\"black\" points=\"461.5,-110.5 461.5,-146.5 \"/>\n<text text-anchor=\"middle\" x=\"502.5\" y=\"-124.8\" font-family=\"Times,serif\" font-size=\"14.00\">grad 0.5000</text>\n</g>\n<!-- 132486723537072+ -->\n<g id=\"node15\" class=\"node\">\n<title>132486723537072+</title>\n<ellipse fill=\"none\" stroke=\"black\" cx=\"609\" cy=\"-100.5\" rx=\"27\" ry=\"18\"/>\n<text text-anchor=\"middle\" x=\"609\" y=\"-96.8\" font-family=\"Times,serif\" font-size=\"14.00\">+</text>\n</g>\n<!-- 132486723543600&#45;&gt;132486723537072+ -->\n<g id=\"edge17\" class=\"edge\">\n<title>132486723543600&#45;&gt;132486723537072+</title>\n<path fill=\"none\" stroke=\"black\" d=\"M543.84,-111.01C554.01,-109.34 563.76,-107.74 572.44,-106.32\"/>\n<polygon fill=\"black\" stroke=\"black\" points=\"573.17,-109.75 582.47,-104.68 572.04,-102.84 573.17,-109.75\"/>\n</g>\n<!-- 132486723543600* -->\n<g id=\"node7\" class=\"node\">\n<title>132486723543600*</title>\n<ellipse fill=\"none\" stroke=\"black\" cx=\"263\" cy=\"-128.5\" rx=\"27\" ry=\"18\"/>\n<text text-anchor=\"middle\" x=\"263\" y=\"-124.8\" font-family=\"Times,serif\" font-size=\"14.00\">*</text>\n</g>\n<!-- 132486723543600*&#45;&gt;132486723543600 -->\n<g id=\"edge3\" class=\"edge\">\n<title>132486723543600*&#45;&gt;132486723543600</title>\n<path fill=\"none\" stroke=\"black\" d=\"M290.34,-128.5C298.51,-128.5 308.08,-128.5 318.36,-128.5\"/>\n<polygon fill=\"black\" stroke=\"black\" points=\"318.39,-132 328.39,-128.5 318.39,-125 318.39,-132\"/>\n</g>\n<!-- 132486723548160 -->\n<g id=\"node8\" class=\"node\">\n<title>132486723548160</title>\n<polygon fill=\"none\" stroke=\"black\" points=\"2.5,-165.5 2.5,-201.5 197.5,-201.5 197.5,-165.5 2.5,-165.5\"/>\n<text text-anchor=\"middle\" x=\"19\" y=\"-179.8\" font-family=\"Times,serif\" font-size=\"14.00\">w2</text>\n<polyline fill=\"none\" stroke=\"black\" points=\"35.5,-165.5 35.5,-201.5 \"/>\n<text text-anchor=\"middle\" x=\"75.5\" y=\"-179.8\" font-family=\"Times,serif\" font-size=\"14.00\">data 1.0000</text>\n<polyline fill=\"none\" stroke=\"black\" points=\"115.5,-165.5 115.5,-201.5 \"/>\n<text text-anchor=\"middle\" x=\"156.5\" y=\"-179.8\" font-family=\"Times,serif\" font-size=\"14.00\">grad 0.0000</text>\n</g>\n<!-- 132486723548160&#45;&gt;132486723543600* -->\n<g id=\"edge22\" class=\"edge\">\n<title>132486723548160&#45;&gt;132486723543600*</title>\n<path fill=\"none\" stroke=\"black\" d=\"M172.53,-165.44C181.84,-162.67 191.2,-159.67 200,-156.5 210.53,-152.71 221.75,-147.9 231.72,-143.33\"/>\n<polygon fill=\"black\" stroke=\"black\" points=\"233.25,-146.48 240.82,-139.07 230.28,-140.14 233.25,-146.48\"/>\n</g>\n<!-- 132486723540576 -->\n<g id=\"node9\" class=\"node\">\n<title>132486723540576</title>\n<polygon fill=\"none\" stroke=\"black\" points=\"1690.5,-191.5 1690.5,-227.5 1876.5,-227.5 1876.5,-191.5 1690.5,-191.5\"/>\n<text text-anchor=\"middle\" x=\"1700.5\" y=\"-205.8\" font-family=\"Times,serif\" font-size=\"14.00\"> </text>\n<polyline fill=\"none\" stroke=\"black\" points=\"1710.5,-191.5 1710.5,-227.5 \"/>\n<text text-anchor=\"middle\" x=\"1750.5\" y=\"-205.8\" font-family=\"Times,serif\" font-size=\"14.00\">data 1.0000</text>\n<polyline fill=\"none\" stroke=\"black\" points=\"1790.5,-191.5 1790.5,-227.5 \"/>\n<text text-anchor=\"middle\" x=\"1833.5\" y=\"-205.8\" font-family=\"Times,serif\" font-size=\"14.00\">grad &#45;0.1036</text>\n</g>\n<!-- 132486723540576&#45;&gt;132486723540480+ -->\n<g id=\"edge11\" class=\"edge\">\n<title>132486723540576&#45;&gt;132486723540480+</title>\n<path fill=\"none\" stroke=\"black\" d=\"M1876.6,-192.81C1886.15,-191.08 1895.37,-189.41 1903.68,-187.9\"/>\n<polygon fill=\"black\" stroke=\"black\" points=\"1904.43,-191.32 1913.65,-186.09 1903.18,-184.43 1904.43,-191.32\"/>\n</g>\n<!-- 132486723548784 -->\n<g id=\"node10\" class=\"node\">\n<title>132486723548784</title>\n<polygon fill=\"none\" stroke=\"black\" points=\"2751,-135.5 2751,-171.5 2936,-171.5 2936,-135.5 2751,-135.5\"/>\n<text text-anchor=\"middle\" x=\"2762.5\" y=\"-149.8\" font-family=\"Times,serif\" font-size=\"14.00\">o</text>\n<polyline fill=\"none\" stroke=\"black\" points=\"2774,-135.5 2774,-171.5 \"/>\n<text text-anchor=\"middle\" x=\"2814\" y=\"-149.8\" font-family=\"Times,serif\" font-size=\"14.00\">data 0.7071</text>\n<polyline fill=\"none\" stroke=\"black\" points=\"2854,-135.5 2854,-171.5 \"/>\n<text text-anchor=\"middle\" x=\"2895\" y=\"-149.8\" font-family=\"Times,serif\" font-size=\"14.00\">grad 1.0000</text>\n</g>\n<!-- 132486723548784*&#45;&gt;132486723548784 -->\n<g id=\"edge4\" class=\"edge\">\n<title>132486723548784*&#45;&gt;132486723548784</title>\n<path fill=\"none\" stroke=\"black\" d=\"M2715.04,-153.5C2722.58,-153.5 2731.3,-153.5 2740.57,-153.5\"/>\n<polygon fill=\"black\" stroke=\"black\" points=\"2740.81,-157 2750.81,-153.5 2740.81,-150 2740.81,-157\"/>\n</g>\n<!-- 132486723539088 -->\n<g id=\"node12\" class=\"node\">\n<title>132486723539088</title>\n<polygon fill=\"none\" stroke=\"black\" points=\"0,-55.5 0,-91.5 200,-91.5 200,-55.5 0,-55.5\"/>\n<text text-anchor=\"middle\" x=\"16.5\" y=\"-69.8\" font-family=\"Times,serif\" font-size=\"14.00\">w1</text>\n<polyline fill=\"none\" stroke=\"black\" points=\"33,-55.5 33,-91.5 \"/>\n<text text-anchor=\"middle\" x=\"75.5\" y=\"-69.8\" font-family=\"Times,serif\" font-size=\"14.00\">data &#45;3.0000</text>\n<polyline fill=\"none\" stroke=\"black\" points=\"118,-55.5 118,-91.5 \"/>\n<text text-anchor=\"middle\" x=\"159\" y=\"-69.8\" font-family=\"Times,serif\" font-size=\"14.00\">grad 1.0000</text>\n</g>\n<!-- 132486723549024* -->\n<g id=\"node21\" class=\"node\">\n<title>132486723549024*</title>\n<ellipse fill=\"none\" stroke=\"black\" cx=\"263\" cy=\"-73.5\" rx=\"27\" ry=\"18\"/>\n<text text-anchor=\"middle\" x=\"263\" y=\"-69.8\" font-family=\"Times,serif\" font-size=\"14.00\">*</text>\n</g>\n<!-- 132486723539088&#45;&gt;132486723549024* -->\n<g id=\"edge19\" class=\"edge\">\n<title>132486723539088&#45;&gt;132486723549024*</title>\n<path fill=\"none\" stroke=\"black\" d=\"M200.21,-73.5C209.2,-73.5 217.86,-73.5 225.7,-73.5\"/>\n<polygon fill=\"black\" stroke=\"black\" points=\"225.85,-77 235.85,-73.5 225.85,-70 225.85,-77\"/>\n</g>\n<!-- 132486723547296 -->\n<g id=\"node13\" class=\"node\">\n<title>132486723547296</title>\n<polygon fill=\"none\" stroke=\"black\" points=\"716,-137.5 716,-173.5 901,-173.5 901,-137.5 716,-137.5\"/>\n<text text-anchor=\"middle\" x=\"727.5\" y=\"-151.8\" font-family=\"Times,serif\" font-size=\"14.00\">b</text>\n<polyline fill=\"none\" stroke=\"black\" points=\"739,-137.5 739,-173.5 \"/>\n<text text-anchor=\"middle\" x=\"779\" y=\"-151.8\" font-family=\"Times,serif\" font-size=\"14.00\">data 6.8814</text>\n<polyline fill=\"none\" stroke=\"black\" points=\"819,-137.5 819,-173.5 \"/>\n<text text-anchor=\"middle\" x=\"860\" y=\"-151.8\" font-family=\"Times,serif\" font-size=\"14.00\">grad 0.5000</text>\n</g>\n<!-- 132486723537744+ -->\n<g id=\"node19\" class=\"node\">\n<title>132486723537744+</title>\n<ellipse fill=\"none\" stroke=\"black\" cx=\"1008\" cy=\"-127.5\" rx=\"27\" ry=\"18\"/>\n<text text-anchor=\"middle\" x=\"1008\" y=\"-123.8\" font-family=\"Times,serif\" font-size=\"14.00\">+</text>\n</g>\n<!-- 132486723547296&#45;&gt;132486723537744+ -->\n<g id=\"edge21\" class=\"edge\">\n<title>132486723547296&#45;&gt;132486723537744+</title>\n<path fill=\"none\" stroke=\"black\" d=\"M901.02,-142.52C926,-138.98 951.59,-135.36 971.37,-132.55\"/>\n<polygon fill=\"black\" stroke=\"black\" points=\"972.03,-135.99 981.43,-131.12 971.04,-129.06 972.03,-135.99\"/>\n</g>\n<!-- 132486723537072 -->\n<g id=\"node14\" class=\"node\">\n<title>132486723537072</title>\n<polygon fill=\"none\" stroke=\"black\" points=\"672,-82.5 672,-118.5 945,-118.5 945,-82.5 672,-82.5\"/>\n<text text-anchor=\"middle\" x=\"725\" y=\"-96.8\" font-family=\"Times,serif\" font-size=\"14.00\">x1*w1 + x2*w2</text>\n<polyline fill=\"none\" stroke=\"black\" points=\"778,-82.5 778,-118.5 \"/>\n<text text-anchor=\"middle\" x=\"820.5\" y=\"-96.8\" font-family=\"Times,serif\" font-size=\"14.00\">data &#45;6.0000</text>\n<polyline fill=\"none\" stroke=\"black\" points=\"863,-82.5 863,-118.5 \"/>\n<text text-anchor=\"middle\" x=\"904\" y=\"-96.8\" font-family=\"Times,serif\" font-size=\"14.00\">grad 0.5000</text>\n</g>\n<!-- 132486723537072&#45;&gt;132486723537744+ -->\n<g id=\"edge25\" class=\"edge\">\n<title>132486723537072&#45;&gt;132486723537744+</title>\n<path fill=\"none\" stroke=\"black\" d=\"M941.24,-118.51C952.12,-120 962.4,-121.4 971.45,-122.64\"/>\n<polygon fill=\"black\" stroke=\"black\" points=\"971.11,-126.13 981.49,-124.01 972.05,-119.19 971.11,-126.13\"/>\n</g>\n<!-- 132486723537072+&#45;&gt;132486723537072 -->\n<g id=\"edge5\" class=\"edge\">\n<title>132486723537072+&#45;&gt;132486723537072</title>\n<path fill=\"none\" stroke=\"black\" d=\"M636.23,-100.5C643.7,-100.5 652.41,-100.5 661.87,-100.5\"/>\n<polygon fill=\"black\" stroke=\"black\" points=\"661.98,-104 671.98,-100.5 661.98,-97 661.98,-104\"/>\n</g>\n<!-- 132486723543792 -->\n<g id=\"node16\" class=\"node\">\n<title>132486723543792</title>\n<polygon fill=\"none\" stroke=\"black\" points=\"1692.5,-136.5 1692.5,-172.5 1874.5,-172.5 1874.5,-136.5 1692.5,-136.5\"/>\n<text text-anchor=\"middle\" x=\"1702.5\" y=\"-150.8\" font-family=\"Times,serif\" font-size=\"14.00\"> </text>\n<polyline fill=\"none\" stroke=\"black\" points=\"1712.5,-136.5 1712.5,-172.5 \"/>\n<text text-anchor=\"middle\" x=\"1752.5\" y=\"-150.8\" font-family=\"Times,serif\" font-size=\"14.00\">data 5.8284</text>\n<polyline fill=\"none\" stroke=\"black\" points=\"1792.5,-136.5 1792.5,-172.5 \"/>\n<text text-anchor=\"middle\" x=\"1833.5\" y=\"-150.8\" font-family=\"Times,serif\" font-size=\"14.00\">grad 0.0429</text>\n</g>\n<!-- 132486723543792&#45;&gt;132486723540480+ -->\n<g id=\"edge12\" class=\"edge\">\n<title>132486723543792&#45;&gt;132486723540480+</title>\n<path fill=\"none\" stroke=\"black\" d=\"M1874.82,-170.28C1885.07,-172.08 1895.01,-173.81 1903.88,-175.36\"/>\n<polygon fill=\"black\" stroke=\"black\" points=\"1903.3,-178.81 1913.75,-177.09 1904.5,-171.92 1903.3,-178.81\"/>\n</g>\n<!-- 132486723545568+ -->\n<g id=\"node26\" class=\"node\">\n<title>132486723545568+</title>\n<ellipse fill=\"none\" stroke=\"black\" cx=\"1940\" cy=\"-126.5\" rx=\"27\" ry=\"18\"/>\n<text text-anchor=\"middle\" x=\"1940\" y=\"-122.8\" font-family=\"Times,serif\" font-size=\"14.00\">+</text>\n</g>\n<!-- 132486723543792&#45;&gt;132486723545568+ -->\n<g id=\"edge28\" class=\"edge\">\n<title>132486723543792&#45;&gt;132486723545568+</title>\n<path fill=\"none\" stroke=\"black\" d=\"M1874.82,-138.13C1885.07,-136.27 1895.01,-134.47 1903.88,-132.87\"/>\n<polygon fill=\"black\" stroke=\"black\" points=\"1904.54,-136.3 1913.75,-131.08 1903.29,-129.42 1904.54,-136.3\"/>\n</g>\n<!-- 132486723543792exp -->\n<g id=\"node17\" class=\"node\">\n<title>132486723543792exp</title>\n<ellipse fill=\"none\" stroke=\"black\" cx=\"1627\" cy=\"-154.5\" rx=\"27\" ry=\"18\"/>\n<text text-anchor=\"middle\" x=\"1627\" y=\"-150.8\" font-family=\"Times,serif\" font-size=\"14.00\">exp</text>\n</g>\n<!-- 132486723543792exp&#45;&gt;132486723543792 -->\n<g id=\"edge6\" class=\"edge\">\n<title>132486723543792exp&#45;&gt;132486723543792</title>\n<path fill=\"none\" stroke=\"black\" d=\"M1654.21,-154.5C1662.34,-154.5 1671.85,-154.5 1681.94,-154.5\"/>\n<polygon fill=\"black\" stroke=\"black\" points=\"1682.19,-158 1692.19,-154.5 1682.19,-151 1682.19,-158\"/>\n</g>\n<!-- 132486723537744 -->\n<g id=\"node18\" class=\"node\">\n<title>132486723537744</title>\n<polygon fill=\"none\" stroke=\"black\" points=\"1071,-109.5 1071,-145.5 1256,-145.5 1256,-109.5 1071,-109.5\"/>\n<text text-anchor=\"middle\" x=\"1082.5\" y=\"-123.8\" font-family=\"Times,serif\" font-size=\"14.00\">n</text>\n<polyline fill=\"none\" stroke=\"black\" points=\"1094,-109.5 1094,-145.5 \"/>\n<text text-anchor=\"middle\" x=\"1134\" y=\"-123.8\" font-family=\"Times,serif\" font-size=\"14.00\">data 0.8814</text>\n<polyline fill=\"none\" stroke=\"black\" points=\"1174,-109.5 1174,-145.5 \"/>\n<text text-anchor=\"middle\" x=\"1215\" y=\"-123.8\" font-family=\"Times,serif\" font-size=\"14.00\">grad 0.5000</text>\n</g>\n<!-- 132486723537744&#45;&gt;132486723544560* -->\n<g id=\"edge13\" class=\"edge\">\n<title>132486723537744&#45;&gt;132486723544560*</title>\n<path fill=\"none\" stroke=\"black\" d=\"M1256.01,-143.6C1265.49,-145.26 1274.66,-146.88 1282.9,-148.33\"/>\n<polygon fill=\"black\" stroke=\"black\" points=\"1282.36,-151.78 1292.81,-150.07 1283.57,-144.89 1282.36,-151.78\"/>\n</g>\n<!-- 132486723537744+&#45;&gt;132486723537744 -->\n<g id=\"edge7\" class=\"edge\">\n<title>132486723537744+&#45;&gt;132486723537744</title>\n<path fill=\"none\" stroke=\"black\" d=\"M1035.04,-127.5C1042.58,-127.5 1051.3,-127.5 1060.57,-127.5\"/>\n<polygon fill=\"black\" stroke=\"black\" points=\"1060.81,-131 1070.81,-127.5 1060.81,-124 1060.81,-131\"/>\n</g>\n<!-- 132486723549024 -->\n<g id=\"node20\" class=\"node\">\n<title>132486723549024</title>\n<polygon fill=\"none\" stroke=\"black\" points=\"326,-55.5 326,-91.5 546,-91.5 546,-55.5 326,-55.5\"/>\n<text text-anchor=\"middle\" x=\"352.5\" y=\"-69.8\" font-family=\"Times,serif\" font-size=\"14.00\">x1*w1</text>\n<polyline fill=\"none\" stroke=\"black\" points=\"379,-55.5 379,-91.5 \"/>\n<text text-anchor=\"middle\" x=\"421.5\" y=\"-69.8\" font-family=\"Times,serif\" font-size=\"14.00\">data &#45;6.0000</text>\n<polyline fill=\"none\" stroke=\"black\" points=\"464,-55.5 464,-91.5 \"/>\n<text text-anchor=\"middle\" x=\"505\" y=\"-69.8\" font-family=\"Times,serif\" font-size=\"14.00\">grad 0.5000</text>\n</g>\n<!-- 132486723549024&#45;&gt;132486723537072+ -->\n<g id=\"edge16\" class=\"edge\">\n<title>132486723549024&#45;&gt;132486723537072+</title>\n<path fill=\"none\" stroke=\"black\" d=\"M546.27,-90.75C555.64,-92.23 564.6,-93.65 572.65,-94.92\"/>\n<polygon fill=\"black\" stroke=\"black\" points=\"572.23,-98.4 582.65,-96.5 573.32,-91.48 572.23,-98.4\"/>\n</g>\n<!-- 132486723549024*&#45;&gt;132486723549024 -->\n<g id=\"edge8\" class=\"edge\">\n<title>132486723549024*&#45;&gt;132486723549024</title>\n<path fill=\"none\" stroke=\"black\" d=\"M290.34,-73.5C297.77,-73.5 306.37,-73.5 315.6,-73.5\"/>\n<polygon fill=\"black\" stroke=\"black\" points=\"315.84,-77 325.84,-73.5 315.84,-70 315.84,-77\"/>\n</g>\n<!-- 132486723547488 -->\n<g id=\"node22\" class=\"node\">\n<title>132486723547488</title>\n<polygon fill=\"none\" stroke=\"black\" points=\"2,-0.5 2,-36.5 198,-36.5 198,-0.5 2,-0.5\"/>\n<text text-anchor=\"middle\" x=\"17\" y=\"-14.8\" font-family=\"Times,serif\" font-size=\"14.00\">x1</text>\n<polyline fill=\"none\" stroke=\"black\" points=\"32,-0.5 32,-36.5 \"/>\n<text text-anchor=\"middle\" x=\"72\" y=\"-14.8\" font-family=\"Times,serif\" font-size=\"14.00\">data 2.0000</text>\n<polyline fill=\"none\" stroke=\"black\" points=\"112,-0.5 112,-36.5 \"/>\n<text text-anchor=\"middle\" x=\"155\" y=\"-14.8\" font-family=\"Times,serif\" font-size=\"14.00\">grad &#45;1.5000</text>\n</g>\n<!-- 132486723547488&#45;&gt;132486723549024* -->\n<g id=\"edge26\" class=\"edge\">\n<title>132486723547488&#45;&gt;132486723549024*</title>\n<path fill=\"none\" stroke=\"black\" d=\"M172.53,-36.56C181.84,-39.33 191.2,-42.33 200,-45.5 210.53,-49.29 221.75,-54.1 231.72,-58.67\"/>\n<polygon fill=\"black\" stroke=\"black\" points=\"230.28,-61.86 240.82,-62.93 233.25,-55.52 230.28,-61.86\"/>\n</g>\n<!-- 132486723543936 -->\n<g id=\"node23\" class=\"node\">\n<title>132486723543936</title>\n<polygon fill=\"none\" stroke=\"black\" points=\"1690,-81.5 1690,-117.5 1877,-117.5 1877,-81.5 1690,-81.5\"/>\n<text text-anchor=\"middle\" x=\"1700\" y=\"-95.8\" font-family=\"Times,serif\" font-size=\"14.00\"> </text>\n<polyline fill=\"none\" stroke=\"black\" points=\"1710,-81.5 1710,-117.5 \"/>\n<text text-anchor=\"middle\" x=\"1752.5\" y=\"-95.8\" font-family=\"Times,serif\" font-size=\"14.00\">data &#45;1.0000</text>\n<polyline fill=\"none\" stroke=\"black\" points=\"1795,-81.5 1795,-117.5 \"/>\n<text text-anchor=\"middle\" x=\"1836\" y=\"-95.8\" font-family=\"Times,serif\" font-size=\"14.00\">grad 0.1464</text>\n</g>\n<!-- 132486723543936&#45;&gt;132486723545568+ -->\n<g id=\"edge18\" class=\"edge\">\n<title>132486723543936&#45;&gt;132486723545568+</title>\n<path fill=\"none\" stroke=\"black\" d=\"M1877.05,-115.67C1886.34,-117.3 1895.33,-118.87 1903.44,-120.29\"/>\n<polygon fill=\"black\" stroke=\"black\" points=\"1903.1,-123.78 1913.55,-122.05 1904.3,-116.88 1903.1,-123.78\"/>\n</g>\n<!-- 132486723540432 -->\n<g id=\"node24\" class=\"node\">\n<title>132486723540432</title>\n<polygon fill=\"none\" stroke=\"black\" points=\"4,-110.5 4,-146.5 196,-146.5 196,-110.5 4,-110.5\"/>\n<text text-anchor=\"middle\" x=\"19\" y=\"-124.8\" font-family=\"Times,serif\" font-size=\"14.00\">x2</text>\n<polyline fill=\"none\" stroke=\"black\" points=\"34,-110.5 34,-146.5 \"/>\n<text text-anchor=\"middle\" x=\"74\" y=\"-124.8\" font-family=\"Times,serif\" font-size=\"14.00\">data 0.0000</text>\n<polyline fill=\"none\" stroke=\"black\" points=\"114,-110.5 114,-146.5 \"/>\n<text text-anchor=\"middle\" x=\"155\" y=\"-124.8\" font-family=\"Times,serif\" font-size=\"14.00\">grad 0.5000</text>\n</g>\n<!-- 132486723540432&#45;&gt;132486723543600* -->\n<g id=\"edge23\" class=\"edge\">\n<title>132486723540432&#45;&gt;132486723543600*</title>\n<path fill=\"none\" stroke=\"black\" d=\"M196.05,-128.5C206.52,-128.5 216.65,-128.5 225.71,-128.5\"/>\n<polygon fill=\"black\" stroke=\"black\" points=\"225.79,-132 235.79,-128.5 225.79,-125 225.79,-132\"/>\n</g>\n<!-- 132486723545568 -->\n<g id=\"node25\" class=\"node\">\n<title>132486723545568</title>\n<polygon fill=\"none\" stroke=\"black\" points=\"2225,-108.5 2225,-144.5 2407,-144.5 2407,-108.5 2225,-108.5\"/>\n<text text-anchor=\"middle\" x=\"2235\" y=\"-122.8\" font-family=\"Times,serif\" font-size=\"14.00\"> </text>\n<polyline fill=\"none\" stroke=\"black\" points=\"2245,-108.5 2245,-144.5 \"/>\n<text text-anchor=\"middle\" x=\"2285\" y=\"-122.8\" font-family=\"Times,serif\" font-size=\"14.00\">data 4.8284</text>\n<polyline fill=\"none\" stroke=\"black\" points=\"2325,-108.5 2325,-144.5 \"/>\n<text text-anchor=\"middle\" x=\"2366\" y=\"-122.8\" font-family=\"Times,serif\" font-size=\"14.00\">grad 0.1464</text>\n</g>\n<!-- 132486723545568&#45;&gt;132486723548784* -->\n<g id=\"edge15\" class=\"edge\">\n<title>132486723545568&#45;&gt;132486723548784*</title>\n<path fill=\"none\" stroke=\"black\" d=\"M2407.04,-133.07C2485.41,-138.79 2594.98,-146.79 2650.96,-150.87\"/>\n<polygon fill=\"black\" stroke=\"black\" points=\"2650.87,-154.37 2661.1,-151.61 2651.38,-147.39 2650.87,-154.37\"/>\n</g>\n<!-- 132486723545568+&#45;&gt;132486723545568 -->\n<g id=\"edge9\" class=\"edge\">\n<title>132486723545568+&#45;&gt;132486723545568</title>\n<path fill=\"none\" stroke=\"black\" d=\"M1967,-126.5C2017.46,-126.5 2131.06,-126.5 2214.81,-126.5\"/>\n<polygon fill=\"black\" stroke=\"black\" points=\"2214.87,-130 2224.87,-126.5 2214.87,-123 2214.87,-130\"/>\n</g>\n<!-- 132486723544560 -->\n<g id=\"node27\" class=\"node\">\n<title>132486723544560</title>\n<polygon fill=\"none\" stroke=\"black\" points=\"1382,-136.5 1382,-172.5 1564,-172.5 1564,-136.5 1382,-136.5\"/>\n<text text-anchor=\"middle\" x=\"1392\" y=\"-150.8\" font-family=\"Times,serif\" font-size=\"14.00\"> </text>\n<polyline fill=\"none\" stroke=\"black\" points=\"1402,-136.5 1402,-172.5 \"/>\n<text text-anchor=\"middle\" x=\"1442\" y=\"-150.8\" font-family=\"Times,serif\" font-size=\"14.00\">data 1.7627</text>\n<polyline fill=\"none\" stroke=\"black\" points=\"1482,-136.5 1482,-172.5 \"/>\n<text text-anchor=\"middle\" x=\"1523\" y=\"-150.8\" font-family=\"Times,serif\" font-size=\"14.00\">grad 0.2500</text>\n</g>\n<!-- 132486723544560&#45;&gt;132486723543792exp -->\n<g id=\"edge27\" class=\"edge\">\n<title>132486723544560&#45;&gt;132486723543792exp</title>\n<path fill=\"none\" stroke=\"black\" d=\"M1564.18,-154.5C1573.14,-154.5 1581.83,-154.5 1589.73,-154.5\"/>\n<polygon fill=\"black\" stroke=\"black\" points=\"1589.96,-158 1599.96,-154.5 1589.96,-151 1589.96,-158\"/>\n</g>\n<!-- 132486723544560*&#45;&gt;132486723544560 -->\n<g id=\"edge10\" class=\"edge\">\n<title>132486723544560*&#45;&gt;132486723544560</title>\n<path fill=\"none\" stroke=\"black\" d=\"M1346.13,-154.5C1353.67,-154.5 1362.39,-154.5 1371.64,-154.5\"/>\n<polygon fill=\"black\" stroke=\"black\" points=\"1371.87,-158 1381.87,-154.5 1371.87,-151 1371.87,-158\"/>\n</g>\n</g>\n</svg>\n",
            "text/plain": [
              "<graphviz.graphs.Digraph at 0x787ef8182f80>"
            ]
          },
          "metadata": {},
          "execution_count": 120
        }
      ]
    },
    {
      "cell_type": "markdown",
      "source": [
        "Now, Let's try and do it using torch."
      ],
      "metadata": {
        "id": "xQFZbQFkNp6C"
      }
    },
    {
      "cell_type": "code",
      "source": [
        "import torch"
      ],
      "metadata": {
        "id": "hFFglLaTNwmM"
      },
      "execution_count": 121,
      "outputs": []
    },
    {
      "cell_type": "code",
      "source": [
        "x1 = torch.Tensor([2.0]).double()                ; x1.requires_grad = True\n",
        "x2 = torch.Tensor([0.0]).double()                ; x2.requires_grad = True\n",
        "w1 = torch.Tensor([-3.0]).double()               ; w1.requires_grad = True\n",
        "w2 = torch.Tensor([1.0]).double()                ; w2.requires_grad = True\n",
        "b = torch.Tensor([6.8813735870195432]).double()  ; b.requires_grad = True\n",
        "n = x1*w1 + x2*w2 + b\n",
        "o = torch.tanh(n)\n",
        "\n",
        "print(o.data.item())\n",
        "o.backward()\n",
        "\n",
        "print('---')\n",
        "print('x2', x2.grad.item())\n",
        "print('w2', w2.grad.item())\n",
        "print('x1', x1.grad.item())\n",
        "print('w1', w1.grad.item())"
      ],
      "metadata": {
        "colab": {
          "base_uri": "https://localhost:8080/"
        },
        "id": "NKy9YjbuINr-",
        "outputId": "ce99a1f4-e28f-4be6-de2e-45b0f067ef1c"
      },
      "execution_count": 122,
      "outputs": [
        {
          "output_type": "stream",
          "name": "stdout",
          "text": [
            "0.7071066904050358\n",
            "---\n",
            "x2 0.5000001283844369\n",
            "w2 0.0\n",
            "x1 -1.5000003851533106\n",
            "w1 1.0000002567688737\n"
          ]
        }
      ]
    },
    {
      "cell_type": "code",
      "source": [
        "o"
      ],
      "metadata": {
        "colab": {
          "base_uri": "https://localhost:8080/"
        },
        "id": "uWJyTXCqN2Gp",
        "outputId": "a132e330-fbd9-4509-a819-66adca9c83b9"
      },
      "execution_count": 123,
      "outputs": [
        {
          "output_type": "execute_result",
          "data": {
            "text/plain": [
              "tensor([0.7071], dtype=torch.float64, grad_fn=<TanhBackward0>)"
            ]
          },
          "metadata": {},
          "execution_count": 123
        }
      ]
    },
    {
      "cell_type": "code",
      "source": [
        "o.item()"
      ],
      "metadata": {
        "colab": {
          "base_uri": "https://localhost:8080/"
        },
        "id": "HOdxHlV2Oru7",
        "outputId": "5134ebcd-6a96-4e22-c284-83d417e29f41"
      },
      "execution_count": 124,
      "outputs": [
        {
          "output_type": "execute_result",
          "data": {
            "text/plain": [
              "0.7071066904050358"
            ]
          },
          "metadata": {},
          "execution_count": 124
        }
      ]
    },
    {
      "cell_type": "markdown",
      "source": [
        "### Building Neural Networks"
      ],
      "metadata": {
        "id": "LeTMunSPbJCQ"
      }
    },
    {
      "cell_type": "markdown",
      "source": [
        "First let's update our Value Class."
      ],
      "metadata": {
        "id": "zxYK-BvVeHRd"
      }
    },
    {
      "cell_type": "code",
      "source": [
        "class Value:\n",
        "\n",
        "  def __init__(self, data, _children=(), _op='', label=''):\n",
        "    self.data = data\n",
        "    self.grad = 0.0\n",
        "    self._backward = lambda: None\n",
        "    self._prev = set(_children)\n",
        "    self._op = _op\n",
        "    self.label = label\n",
        "\n",
        "  def __repr__(self):\n",
        "    return f\"Value(data={self.data})\"\n",
        "\n",
        "  def __add__(self, other):\n",
        "    other = other if isinstance(other, Value) else Value(other)\n",
        "    out = Value(self.data + other.data, (self, other), '+')\n",
        "\n",
        "    def _backward():\n",
        "      self.grad += 1.0 * out.grad\n",
        "      other.grad += 1.0 * out.grad\n",
        "    out._backward = _backward\n",
        "\n",
        "    return out\n",
        "\n",
        "  def __mul__(self, other):\n",
        "    other = other if isinstance(other, Value) else Value(other)\n",
        "    out = Value(self.data * other.data, (self, other), '*')\n",
        "\n",
        "    def _backward():\n",
        "      self.grad += other.data * out.grad\n",
        "      other.grad += self.data * out.grad\n",
        "    out._backward = _backward\n",
        "\n",
        "    return out\n",
        "\n",
        "  def __pow__(self, other):\n",
        "    assert isinstance(other, (int, float)), 'THE ONLY SUPPORTED DATA TYPES FOR POWER ARE int/float.'\n",
        "    out = Value(self.data ** other, (self, ), f'**{other}')\n",
        "\n",
        "    def _backward():\n",
        "        self.grad += other * (self.data ** (other-1)) * out.grad\n",
        "\n",
        "    out._backward = _backward\n",
        "\n",
        "    return out\n",
        "\n",
        "\n",
        "  def __rmul__(self, other):\n",
        "    return self*other\n",
        "\n",
        "  def __truediv__(self, other):\n",
        "    return self * other**-1\n",
        "\n",
        "  def __neg__(self): # -self\n",
        "    return self * -1\n",
        "\n",
        "  def __sub__(self, other): # self - other\n",
        "    return self + (-other)\n",
        "\n",
        "  def __radd__(self, other): # other + self\n",
        "    return self + other\n",
        "\n",
        "  def exp(self):\n",
        "    x = self.data\n",
        "    out = Value(math.exp(x), (self, ), 'exp')\n",
        "\n",
        "    def _backward():\n",
        "        self.grad += out.data * out.grad\n",
        "\n",
        "    out._backward = _backward\n",
        "    return out\n",
        "\n",
        "  def tanh(self):\n",
        "    x = self.data\n",
        "    t = (math.exp(2*x) - 1)/(math.exp(2*x) + 1)\n",
        "    out = Value(t, (self, ), 'tanh')\n",
        "\n",
        "    def _backward():\n",
        "      self.grad += (1 - t**2) * out.grad\n",
        "    out._backward = _backward\n",
        "\n",
        "    return out\n",
        "\n",
        "  def backward(self):\n",
        "\n",
        "    topo = []\n",
        "    visited = set()\n",
        "    def build_topo(v):\n",
        "      if v not in visited:\n",
        "        visited.add(v)\n",
        "        for child in v._prev:\n",
        "          build_topo(child)\n",
        "        topo.append(v)\n",
        "    build_topo(self)\n",
        "\n",
        "    self.grad = 1.0\n",
        "    for node in reversed(topo):\n",
        "      node._backward()"
      ],
      "metadata": {
        "id": "b8PBfTEDfl_7"
      },
      "execution_count": 125,
      "outputs": []
    },
    {
      "cell_type": "markdown",
      "source": [
        "![image.png](data:image/png;base64,iVBORw0KGgoAAAANSUhEUgAAAt0AAAGQCAYAAAByGdzdAAAABHNCSVQICAgIfAhkiAAAABl0RVh0U29mdHdhcmUAZ25vbWUtc2NyZWVuc2hvdO8Dvz4AAAAvdEVYdENyZWF0aW9uIFRpbWUAVGh1IDA0IEphbiAyMDI0IDEwOjUxOjQ3IFBNICswNTQ1vEow5QAAIABJREFUeJzsvXm8HFWZ//8+p5Ze775kJSsJISGQsAjIvglECKAyiiguIOqI4Fec3wwgI8woivvojNs4LuOwKAKKIKASJBCWsAUIgYRAFrLcrHfr20st5/z+qOq+3X1vNiCLct551atud9c5depUVepznnqe5wittcZgMBgMBoPBYDDsNuTeboDBYDAYDAaDwfD3jhHdBoPBYDAYDAbDbsaIboPBYDAYDAaDYTdjRLfBYDAYDAaDwbCbMaLbYDAYDAaDwWDYzRjRbTAYDAaDwWAw7GaM6DYYDAaDwWAwGHYzRnQbDAaDwWAwGAy7GSO6DQaDwWAwGAyG3YwR3QaDwWAwGAwGw27GiG6DwWAwGAwGg2E3Y0S3wWAwGAwGg8GwmzGi22AwGAwGg8Fg2M0Y0W0wGAwGg8FgMOxmjOg2GAwGg8FgMBh2M0Z0GwwGg8FgMBgMuxkjug0Gg8FgMBgMht2MEd0Gg8FgMBgMBsNuxohug8FgMBgMBoNhN2NEt8FgMBgMBoPBsJsxottgMBgMBoPBYNjN2Hu7AX+LaK0RQuztZhjelqgd/G7G0QaDwWAw7IuYJ/QbQGuNUjsSPztfV3kZrs7q37XWb8k+DbuH6nMUBmHlu50pM9z53V7Z6FoRVX8PrVcpZa4fg8FgMBj2EYzofgNopdFKk8/n0VqzefNmbrzxRg488EDS6TSHHXYY3//+98nlcmzZsoUlS5ZwxhlnkMlkGDduHN///vfxfZ8wCGsEURiGFbEGkZhSoaoRS0Y87duUz43SqiKGC4UCAPl8nnnz5rF48eIaUV59PpUaLCeEoFQqoFSAH5RYsOBhVq9eTalUQmuF1pHwDsKAYrFYVUeA1iGgzPViMBgMBsM+ghHdu0gYhIQqEkypVIrly5fz3ve+l69+9aucccYZ/Mu//AuNjY1ceeWVXH311axevZrDDjsM3/e58cYbOfTQQ7niiiv46U9/iud7FQGvlUYKidKKYrFIf38/AwMDBGGAVhoVRgJcCGFcW/ZRyuelWCziOA5hGCKEIAgC5s+fz1FHHcW5557LzJkzueCDF7Bu3brKuS+f32XLljFnzhw+/OEPV+qV0ubf/+3fOemkkzjllFMoFAoIIWOhHQlqrTWFQoFCYQDf95HSQkpryLViRLjBYDAYDHsHoc0TeKdRShGGIVJIgjBAKcWcOXNYvXo1Dz30EB0dHTiOw7PPPstJJ51EqVQCYM6cOfzmN7+hq6uLc845m+eef45j3nkcDz30EEr5AAhh1wpqDYHnEaoA20lE+xcSxzKCe19GKYXneSSTSXzfx3Ec1q5dy9SpU7n00ku5/vrrOfvss5k/fz7f/OY3+dwVn6spf9FHLuLWW29l+vTpPP/88wgh6M/10tnZSRiE+EHI7bf/mrPOOiuOLbBwHZfI1UQDijAM8P3IWm5ZDpZlIcrjaxHd7mbgZjAYDAbDnsUEUu4CUkqklORyObLZLFdddRWPP/44ixcvZuzYsZRKJfL5PGPHjmXs2LEsXboUy7K45pprkELyoQ99iJdefgmtIQxDBgYGyGYzhKEfWTzRrFy1kscee4yudevo7BzBe997LrZtgXD39uEbdoBSCq00iUQCz/OwbZswCLnssss4/PDD+c53vlPjf71y5UpCFVnDLctCK83KlStJp9OceOKJ+L5PoTBAU1MT73vv+7jrrrvw+3Pk83lcJ0WxNIBtSfzAp7e3m02bNtHU1EQ6lSaTbcCSFkEQtQkB0oKyH7jBYDAYDIY9i3Ev2UW01riuy6pVq/ja177Gtddey+TJkwmDENd1yWazbNy4kU2bNqGU4vTTT+eAAw5AaYVlWRVf3vPPPz+uUdDd04OWgtvuvJ3Tz5zDN7/xbV599VVuvPFGjjjiHTz22GOxm8neO27DrqF15DayYuUK7rnnHq666iry+TzPPvssixYtIplMMnLkSLSO3IqEECx5aQmLFi0il8tx9NFHA9DY2Igf+Hznu99h2rRpNKTTjGjvACCZyOD7AbffeSennHYan/z0pznjjDP42Mc/xlNPLaxYs1V84Zjrx2AwGAyGvYcR3bvIwMAAAK+88gqnnnoqc+bMQSmFtCQDAwOEQcgzzzzDli1bcByH8ePH09DQgBSSr33ta3zhC1/g5pv+j8985jNks1ny+X5amht59LGHueAf3s+7330WTz/9NN/61rdYuPAxxowZydy5c1m2fDkD+fxePnrDzhAEAVJG/vl//etfmTlzJkcffTQJN8Gf/vQnPM8D4LzzzsN1XSzbQoWKhQsX4vs+rusydepUXNeNAmyDkPa2Tk455RRc16GzcyQQEvpFbrrpJi655FI+eemnuPvuP3DffffR3d3NRRddxMpVK6P6LSsOtizt3Y4xGAwGg+FtjBHdu0gqmcKSFqeeeio33XQTs2bNqgTMaa0JVciyZcvQWuP7Pscffzxaa7Zs3cLhhx/OV77yFT7wgQsJggCAdLqB/v4cX/rXL5FIJfn0pz+NZUcWykxDI9dcdRW9vf1873v/QUNDZm8eumEnEFIghawsF198Mffffz9NTU1YtsWDDz6IbdsceeSRjBkzhr6+PjzPw7Itnn76aQAmTJjAhAkTACgWCySTKfpzvSil6Ojo4IADpuGXSmzesoXrrvs3TjrpJD71qU+TSqXo6GzjBz/4T5YvX8nPf/bzvdgTBoPBYDAYqjGi+w3gBz6e59HZ2VnzfTKZpFQq8eKLL2JZFlOnTuXggw9Ga01zczNaB5S8Avl8P6lUimKxiMZn6bKXmP/wfA6ZNYu2tlY8L0CI6NRMnjyRsWNH8sAD81ixYtUOp0Yx7Fvkcjna29vRWrNs2TKeeOIJcrkcxxxzDE1NTSSTSSxpoZTiiSeewHEcpk6dSjqdjsS4ZbNl62Yask0sX7aMmTMPxrYtpAXz589nzZo1nHbaaWh05ZqZMGE848eP4ZZbbqFQKBAECtuySaUTe7k3DAaDwWB4+2JE9y5S8kqR60CcpUJrXcmRLIVkw4YN3H///UgpGTlyJGPGjKlYwpXWOLaNZUt8P85agubRxx7BsiVtrW00NjYC4NguYamE7Th0drazacN6XnllaRSEqYdOqmJSwe19hssI0tDQQE9PD0II7rzzToIgIJvN8p73vAfP8+LrQrF8+XIWL15MPp/niCOOAKhkJ2lr7WDN6td55eXlnHPWOSg/pFgs8sADf8JxHDraO/DCEkJohGVhuy4TJkzg1dde4/nnn4/btke7wmAwGAwGQx1GdO8i6XQa13VJJpO4rsuWLVtoaGggDEIs22LRokV4nodSimnTppFMJgEqswMC2JYVpx30AE3X+i4y6TRKhUP219iYJZlyKRQKrFmzZk8equEtIJ/P09TUBMCTTz5JPp9n1KhRzJgxA9d1K37b8+fPx/M8EokEs2fPRghBIpGoZDtZ9/oaVq5cwQknnICbSZNMJlm5clXNvuJpeUAoytPF9/f3x5b0PXfMBoPBYDAYhmJE9y6ilCKXywHQ1dXF6tWr0Vpj2VFmkpdeeqkiyI888shKGSEEtmWzbv1avvmtb7Bu/Toy6QzFUoFQ+fT09JNOD/psCw1Sg2NZJByXMAzZsGkz2lgs92mEEAg5uKRSKVSo6OnpoaurC8dxOOSQQ0gmk5UZTS1p8fLLLyOEIJvNMn36dBKJWleQ2++4nUNmzWLsxPGAIAhCuru3xr9u+zbu7u7GsqPtMS9CDAaDwWDYaxjR/QbIZDI8+uijnHzyyRx77LF87WtfA6LUbPfccw/5fB7Lsjj66KMHBbdtE6qQefMe4Kqr/pUgCOjv78d1Xbq6ukink8Naugv5QmQhl6ISfGn42yEIAizbIpFIEAQBvu9XBLXv+xSLRaQlcRyHZDKJbdskk0mklPT390euTEHILTffwicuuQTt+aAVud4+Em4KdHQLazX8aKyvrw+AMDCK22AwGAyGvYkR3buIlJE/9g033MCKFSsoFAo8/PDDQJRGcO3atUCUX3ny5MkkEgny+TxSSrTWfPnLX+ETl36UcfuNo7GxGSkkhXweP/AJYt9vISxkPDulZUuU8rEsG9+vEt3G5L3PUfbpLs8sWs5oA2DbNqNGjSKRSLB582by+TwNDQ0kEgkGBgZYsGABYRjS19eHUqoSJ+C6Ltd+8Ys0Nzfz4Y9+DK/ogxfS1NyE5/v4QYlEIoXWGpsENja2dHAcG8e2aybjMRgMBoPBsPcwonsX6e/vx/M81q9fT6lUYsSIEVx44YUUi0V+9atfsXHjxkqgpRCCYrFIc3MzuVyOT33yU+TzeS7/7OUAFAoFNCHtHR34hTCezhuoylGitcLzoqDLVCq5pw/X8CZxXZdSqYTjOHzsYx8jCALuv/9+/vznP6OVJpfL8clPfpI1a9bQ2tpKoVDgF7/4Bclkkmw2yw9/+EP+87/+ix//+EfowCfRmMb3A2zLIgwC0uksAEprSjpPwS9QKBXI5wt4XkBDtgGt4tkozTjNYDAYDIa9hhHdu0hDQwOpZIpZs2bhui6XX345c+bM4Qc/+AHf+MY3uP7665k0aRLd3d1885vfZP369SxevJjzzz+fm2++mbvuuosZ02dh2Ra2IwlCRalUIplxyA30EQnuOBhORMGXpVIJpUIymao83cK4C+zr1GczmTt3LjfccAOjR4/m/PPPZ+x+YzniiCN46KGH+O1vf8svf/lLJk6cyA033EBnZyfTp0/n6quv5je/+Q1HH38cwrIBsF1JEIa0trVh2zae5+G6DkopLEsipcSyolu7ta2VIIyCfA0Gg8FgMOw97L3dgL81SqUStmVz+eWX8+qrr3LddddxzTXX0NHRwfe+9z0uueQSTj75ZC6//HKuvvpqrrnmGgDe+c53cu+99zLrkNn09XeTSjbg+yEKn46OERQL0UyEZYQUoKK0cSU/QGtFMmXyLP8t4jhOJbvNF77wBS666CLmzZvHhg0bSKVSXHjhhTQ0NOB5HgsXLmTBggUsXbqUbDbLBRdcQEtLC0HJwxICvxjgZlIM9PSy33778ZcHHmZgoA+tNH6xhHYslAqjwEkiN6cwCHFdI7oNBoPBYNibGNG9iyQSCbTWTJ8+nd///vc8/vjjAIwbN44DDzyQXC7HO97xDu6//36WLFlCoVDAcRxmzpxJc3MzflAilcqglUZKSTrZxPj9JgNQLBYJQh8LgbYdhJsily9W9j1x/H7GwL2PM1yubiEEGh3n3RaMGDGCCy64oGYbrTWO49DW1sbcuXMr3wGEQYiwLJRWuJkUoGjINnLeuefyPz/7X1aseI3A8yJ3kkyWDRu6WLXydWbMOJBJkyYhZFSPViDMuy2DwWAwGPYKQpsZVd4wWkc+ua7rRtbMMEQpVZPuTSmFlLLqc0AYDna54zisXr2SyVOnMGH8eB588EHa2tuxhMZ1HJ5c+DhnzZ1LKpXh0ccXMmLEKCBKJzgcw4k+w97jzdxe5bJaVdWhFaVSgXQmRW9/HwfOmMnYsWOZN+/PJJMpbCH5w91/4Pzzz+erX/0qn/nMZ7Ett1KPcTMxGAwGg2HvYOxeb4JyoKRt2ZXsJIlEglKpRD6fp1gs4vs+pVKJMAgJgxCtBLLK3Oh5HiNHjeSzl13Gq6+9yqbNG0i5bhxUafPqitfo3trLxRdfTHtrK1IrpC5PfmIyU/w9U8mGUpX3WwmFFwT4YUA6neanP/0py5Yt5corv8CLL77I/ff/ma98+avMnj2buXPnYls25WtFSDNzqcFgMBgMewtj6d5FqrurnBKuLI7CIERpheM4QOT/7bouKlQorWq2LVPe9qlnn+LUU09h//0ncfPNtzB54jiWLl3GKaecxoQJE7jrrrvoaO9k6NmqHTcZS/e+xZu9verLSynp6dlKKp1AhQrLdXniiYV88dqro8GdFzJ37lyu/PznSCZTgERrhYgHekJY8dpcJwaDwWAw7EmM6N5J6rtJa41WOgp43F65KtcApVWNlRug5JWQUuI4kqefeYZrr72GJUuWMGb0GNasXcOcOXO4/PLLmTxpMkKKaEKUGozo3hfZ1juIXXm1VHEvia81AEQUIBnGKSnL25TPe5TfXVY+1/9ebsHfzHVS/7/TW97sXX1bZF4OGgwGg+GNYUT3TlItgGBQTO+K6B4OIUXsaysJQ5/+/j5eWPwCWmtGjx7N/pOnAuAHJRzbIbJcVtdpRPe+yO4W3areAl6ZmKdWVBvRvSOM6DYYDAbDnmGPi+4hu4tnVtT7+LNM1z393wrRXZ72XUoLTVBJ82ZZkmIxj2XZZJINlPwijuMSqqCy/SB1otvMgLKH2ZFokzXXjrWL52fIYE9H18C+Irrr7+fybPTbug53+Tavv3+k2G6P7/p/I0Z0GwwGg2HP8Df7BNHUGsHqP7/Zere1vJVIaVEsFtFaI6WFUgqFJtSaxkwzwpJ4BNiOS8ErIqSFJd+aLI9vtv/e7uWHr1OjdEA5cDFUHkp7DAa9Vi2VONjyHx4QRHn9FKAUqAChAoRSyBBkCEJbCG0h41GqFtGi/k7HWuXjqxznDrY3ocUGg8Fg2FfZ45ZupaLHYr2lrd5C9lY1ql6L1FusB7+vass26pLD1Ler1Fu+/cCP3EZii7kiRDPUUhiqAEfaSHYu5ZvxGXpr2PH5HrxalFYE2kepgISdwAs9hNTIOHhRAhYWQkkI4vGua9E/sIlMxkFig5eA/gI4OpqVVGuwXdAuBApSSXAhLAZYCZsSHooQiUDqwVSSQgw/OKu/73bV4l19b5TvpeEChCv176AHtzfqr+Qpr7qay4Gg5W/q66+159e3+K3gb9ZOYTAYDIa9zD4juisNEsO/Pt7ZRtbXWv+I3NbhlkX/jvYj2HaO7J2hPvtJ/f5DHYktWXMksiIuBDv32K/vw13tP72Nz2+X8mV2TmIpFMTnTBGg8HyPpOOiCQmJ3YLi82gpG7xYFFslcCDft5a0lpBPQSEAPwf9fajNW5CpDCRbIJGCER2QToIFOBrlSHwxeLbLwtuI7uFa/FZgRLfBYDAY3hh7fEbKsk9qxbdUD/Ux3YGb9M4HqQ2jtIQevnJLD26+rVf1Ur/5Gf1qREJV+8r7F1qgRJ2vuBYIUXV8O6EgK9sOcyxvNsjvbVN+pwdXEikikRjoECEkaSeDFxZi1yG74mutAa2jnNtR/TZon3RgRRfXytfouvNunvzzfaiePlLCpq8vh51uoXn8RA4/691kjzoUOhphZCsylSThOJSsODxCy8q+9gRR3u9oyAHVlvayj3nt9rsigYUGhUbEKQ+VGBpLsa3/Ksr7MRLZYDAYDPsKe9zSHYbRtOZlYSCxouCoIIgCBIdV3LWPzjclmrZzuGU9vl3RLYYXzTvNDvavtUYJVWc5jCykb1gU7qTw2edE794uv8PXHtU1KSKPfLjp1l8xceJEZhwyg3QySvEoYju4RGIpiVBO5No90IPMpmD9Wl6//Q4W/ORntOcKtAU+TUIQ9OdpbGjFE0nWFYqsCRVNBx3IaZ//JEw/ANpaoCGDSiTwBVjI7b6J2VVL95BUmVXbl6e2L+cBL98foia5ztD6q3tN1NVf0x5VW390f9YO0odrf2394bbrH45hAjeHMnil1PfP30xWGIPBYDDscfa86Fb52gbEOYWDMEAKgdJh5XW1FvFDXNjIyoOubOHa1uvsHbH9w1V163ohJndiD9vfb/xKvq4d5f1Fr9IV5SMpD01k5a8yb6wdO+M+Y8rvDBpNQEiI0n60FgoLi2uu+xfWdK1GC8UB06YxZ87pTJkyBeFLLN+hOd1K6CksZDTSWr+ex7/8dVb95QFGBgXainmafZ+MH+CGgLbx7AR5O0Gf5dKbTrE56fDuKy9HnHMWJB1oaCUUGmFt/wjqRWH17a+1QsUzVlbn/Y7KxZb6igiN3cTUoPitEdtCRANMpSGeGKo8mFViO9lWwjijzzAnSomhbjPD/fdVo/mt2u3KbYys84PHMbh9bcyECusHHbX7ktKp/UEYEW4wGAyG4dnj7iW1gWcarQK0Dkk4SQZKebA0tm1XHpzRIziolNFx+W0FRA5n7ax+7G3Tp7v8u6j9XF9ffcq3nX2kDvpkl8VzXSBpvB70XxWV7zUagUCjkQztg6HBorXsyiv94frv7V5+OMriNCREx8GMioBSUEQ0BoS9HrlCP8vXv8h135yPbVu888jjmHPCHA4aPwMdhlgyCb15Hv/+9+n6y4McUApJFfM0+EWyoU8yBEcBOsBBY6sA5fdi+WnSupVfX38D70lncc8+G/rzWG2N6FChxY6PWNSI3sEryKrK41KeMn5QoFaJ17qLTuvIP0rUXr6Ry4yQCCmiEGBBVSjw0GnppW3HhWvu2ug3rUHLGmu0sOR2b0IdW7qjwXulUUStiXzwB4kCV2sGHUPaU/0/g0Lr8rEP705jMBgMBkOZvWDpztV8LoUeQmhc2+H39/0BLyyhhUIJFQkaOfhQFCJ6WFp11rHK78MdiVA1VjO9ndxqlWDKmk2q9q8HA7lgJwMqhaqaUEehtajkWB7y6p5YzImqY4tdTYQQseCXQ6yD9e2oOUSh6kR4XV7vsuVPbLv/3u7la6hKKK8FhIQgguh6lQFFv8D8BQ/S19fDQHGAkICGhgxaa2w7QbHPY3SqjY+fdB4nTD4EVm3gj9f8O22vrGGqmyDs6yahi9hoLB23VoMWFqGQuMkEXfk8uUQT3pjxdHWM4tQf/wgmjkVbGmyxXdG9PctrWWBX5wCvt0hXsgyJ8jU8WJ8IQqwgtm5Xrt+qtQQlIaw6BdY2zkf934ONlENHlaJuzeA9XN8XQ+rc0QClbgKBwfpkzVrFa0uU31TF1Q/pb+NlbjAYDG9X9rJ7iaIUeqScJLkwx2c++4/kS3mUjKx1QfzaXlf8MuMHVjn4Utd8G/095GhqH6qRoBj+wTdsR9Q/tIWo5EjeFtVCrn7/0UN4+PJKVFsS6y1rg0gta17Xb5/hRMXg/sv9te263t7l1XCiTEukFKh4cAgKrBBtCwLtkyv0kWlM47gCLyjR3ddLKpVGKMgm22gNEnRsUYzeWmRmARJLXmNqIaSt6GEFIVL4QwJ2RTzgsm1Jr+cTZltY6QlWZxo4/nNX0PbxD0N7c6RJt3NdiHiaeEIf0OieXoRSRPnBNSgL4lUowGlujvswiO474UbWa0cTCoVUYVQ+VJGiLpWiusIShCGEVlynppJ6R0bWaV9KnJbWuGEKlIrbQ/SKq/qGtIj229gSW8+J9tPdG+U0R4EMQKr4t7idTS2Dp1srgv5ubKXiMlX7EDZaSkR5exGADqL2hETHpuP9Com2wJfgNjWhhUQLiaIsumv7uxYjug0Gg+Htyp53L6kWrOVsC0TTm5955rsJdGQ1jCb8UGhCYDA7Qk2Wk3KmBF37uZoagSxUlU/qME0b5jtRX34H07pD3WN1F/dftjJWLIx15Svbqp0T3bUDhKh8udx2LeRv8/KDwrXal7lKgJc/W5FlM7J0K7A1f7zvbnpyWykWAuxEgkwySzaTQXkWFBwakh0cesgkPnbwYfzhis8xUuVJhSFShZEm1QLCejcOgRIazw+xLIEuDdDuJukLBlj1zCO0ve9kaLYRiQzbS7Ejys4dvg/9vYgVK3jsD3/guUcfpdjbTymnGH/AQRw39wzGHH8MuEkIC3z/iovpWt3Fxz/5JSafejq0SSwnhDAPGzew/N4/8atf/B8zz5jD+z7yAR74n2+z+OFHuOKya6Fkcdutt7Ju3TosJ8W4KVN413nvITnzIEgE0JhEdW9CDvRTWPoaD//296x45nmSwsLzPDIdrUw76ggOO/U02H8GWBYkBb/94X/x3G9+x79ffgUbNr/OPX/5Pas3rSDT1MzMGcdw+nkXIqZNB+lARwP09WHntrLqkfn88eZbKHb3IUNBKt3ESWedx5RjToRJDdCWBCuEDasRRQ//mSX85Tf3smLpanKeJtXexsxTj+TED8xFa48gncZJt6CDMB4cVA/U6vPq1w/ijAg3GAyGtwt7wae7KoOu0tiWg0eIa6U5e865BDqIBI1QsT9zvejWlXoi0RQHdEFkgRxOeJf3B7FIqmM7lut6HRcSDt2oqvyb3f8Q0V2/afxAr7io1OyhluEGI0rWPvSljva/PQH/ditfP8OjiH16RewDLKr8eyNfbh2vFR4FFj25iJ5NfdiuS0amQFuEOcHM6bM56+T3cdzUQ3FFEv54L6m8R6MfYofBoOuwrvYhrvP9F1E8gKMUyTBgdEMDK19bDsqLLL1V90o9QgMyBFWCoJewayU/uPqfSfaXyCYcjjriaHq2Fnlx2XJu/cGPGPPIQ3zgK1+GsMCl77+Ar//rV3hp3kNMPvRoGNlJrmcj2YwDA30smT+fTOBx8rHHQjHPSO2zsZBj0Z2/45nnliOySaZNGs+yF19i1dPd/M/zL/DJL/4r9uEZSLqo3q089cAD3PuDX9AhkoxuaWXqhAl0da1lxeoVLJ03j9eXLePcq78Ebe0w4JEq5BmjBI/feRfLN60g2+5y5mkn8Oory1m24FFeXfgyn/nmt6FjBKRc6NnCQ//9Ux69/490NjdzyMEzKeY8Xl72Kn++/Xb+PO8RLv36d7GtFsgMgOex8H9+yhN3/YmUyjB5zBTsTAtd/T3Mu+N2nn72ca78xo04Ta3geViui1KB8es2GAwGw7DsBUv3oOXHkpE4CJXCkg4JK0qvpuLAyUHRPYiotkeLQY/K6PPwYqNa9IrhQjCryu3oeakJhzosVNIfDs+u7L+slLc9qUjko6yqXmPrbYmsskW3rnxN20S0xfC5HN6+5avPkUajogR5EEvs8vfV16NCYZOggVayYRPa04xsH8NZ55/FzJkzaUm04CmBFQjo7cPr6iapLGQoUEKg0Fjb8w0pt1mDpSL3j7SwGdjSA0E46DKxLUQAlMDfCmEPG1e/gOjvZvYhR3P4Zz8PVgITiR+4AAAgAElEQVQUHLtlC//5let54eWXOO31lbRNnECicwLNbWN55elFhEuXYLULslkXcgNsfn0dS5avYtK0g2mdfjD0dZMuJkgPJFj67Guc+Z4LGfWh8yAhOH3rBhb87Ocs/uuTPHTnHZwydSrYHrY/wG9//jM605185NLLyMw+EFIW0y0Fi1/gtq9+nRVPLyTYsAq7LQW5AZK5PCklWLN+C0e//wNMPvcUcPo5Ugte+PEdzPvdA9x647f4wJe/CN0FvE3reX7+Y+zXNo4P/fM/wZjRkLA5OVD87tv/wTPPLeXRvz7A8Rf8A7y6lu5nn+CJe+eRbWrmY9deB03t0NIJ+QJP3HEbt95yC7/73k8497OXw5ixaM9H2IOBqOVgy7qzt8PzazAYDIa/T/aCpXuQclCjJW10oCkGJRzbwbKjNFwSjap5PRvN1DgYyrQreSmIM39sf468HYvu+tCvoft4c/uvT/9Qv/+ya2y0ndrmlsO3Z0cDgzLbTpn49ihfT/VQScSfyyI8GoZFoXRZmpnYOZmDJh7CySefRLYhgx3nrXNIkJU2FAbABy8foJWFwiYUilAoLLGTAboxA7kcyY62yF3E8yCxE4WUAjw2bV6PowJaEhnwgIwDGRvbbeGSz15Gz8AAyUwzOGlobmXa4Yex9P5HeeWZJ5j2jqmQ17B1K+uWr0LLJLPfcTx4AtwUQS5A+Db7TZ3OqLPOhVQTyBK0NHPMWeew6N5H2bRyHVgOSEmxeyvHHvtOMn4zmQOmRtPdpyT4eRjRysHTJtG7ZT0D3Zto0pOg1AdBAYBRkyYy+YyzoSEJTc2wtYeZZ5zBsudeYdPGtehXX0EcMRVvoAc1kGfCfvtDcyfkfHAzgOLcD3+Yw05cT+ekg6BUhIEij/zuj4RbBzjn/AthwgRoaIiMBlpx5FHvZPmTi1j26NPk37WCdHMroq0BtI/S9Xn2DQaDwWDYi6JbSIFWOpocJ459SrpWnYKsy/2LFdkc421Cti22droddZ93pHd29Pswzie7xI6mza6VfjszSKhlW3a3egtv/fpvrbyo+7yr5avrqKccH1sObqz1Gldc8qFLo7pUlLnGim+zIPDBkljCBe2TnTgJ33IIHJdiqURrtpmgt2+YVla1V0cuJr4FpTiYr6iDSKQ2Ntam7atDCxuBTeiGaO2x35QDeT6ZYf5dd9Pf7XPwKSciJ7ZDawvZ/aeQzbaCmwY/gHGdzD7tKFYsWMALTy5g2gXvgYSEnM8zf1mAElmmzDwCkhnY3I3ruvQEHrNmzwYnEYnbTBPoFmgPSbkdeEU7ErEdI0jaReb+f/8PthahfwA8HQUvbu4iWPI8PVtXk8lo7KAEfX2QkDgNDkFGMu3IwyGVhWwT6Bw0SWgP2O+g/el6aAMbul5nZG4M2Y4O2rJJlj69kPWXXcmJ7z6XjnccBU0N0NjBfjM7oXN05JOd62PVy0tpzzTSOnUGbMlB6IDnQ38etMNBYyexcfUGclt7SPvlDEUiCrTU8dVU9/bNaHGDwWB4+7JXLd1Cih15htSmYhiiJraTPmzbe93p9m2jQW+wnHwDpYcTX+apvW279K4OubbN0F7WdX/WZamo+mjFOfGEJUFpSoUSAIlUhtAPQLrgBtDRgWptpj/fR6ObZMPWblpta4cXSSgjwT3gQtCQoHPyeMhkoORFAnebl4gkRKCtRnA8su3jeNd7PsgDv7qDZ599lvsem0/YmSDd1sxZp53LlEOOgmmzCIMBdClH+/QJZDtT9HZtgA1dMGosvLSKvtfWc9ixp8G4yZBxIW/jpF2cdBKRTUImCY4FwooErXDQ2orT9Sjo2wL5figV6Hr6eR5/5ClWdm2lr6eXpOchu7sYGfQTSkkxVyTjKUgJElmXrflemjpbgTDOeKKiQMvGBJmOJkI8utatZWQqA8kE5136CX7/y5vJ9Rf5zS2/xL7rTpyWBqYdNYvZxx5DynFBWtDXQzqdgaLHj774r6y2U4QNWXQYkPADMrkiTekMdkOGV1a+RqdzCkHBx3LN/WkwGAyG4dmrohsYzMNdNa2zqvm9WoGUfWnjIoDaTqaG4al9KG5rkp1tW5x3LJurM5yIcraSyox1w5ephL/VmFqHHtu29r4jC/nbg7fOX7a+n6uvk+rUjhWqur/cisCPZldNpNIAFItFHOwom0bKhdHtZCePY/3KZbQ3tZJSArziDtsWChhwoC8BfWmL2ccfHZvAd+DRrgWhAImFFE3Itil0ntHBBcedycDLL/PEs4/yyMIHKGzewL3//UPusX7JJ278NpnDZ0JDI0HPRk573xn84ts/ZsE993HMKe9myf3zaSgITj7+DPBDKPVAaSv9+WhxGhOQtsCWaBkiCEB6aO0jdAkyNuR7oa+Xe777bV56YSkDoUPbgYdw0IGHMCLbwFHjx/HavXfx4PyHyDaNgmQDeN109/UiCUB4VFIGplPQvRYKvaQbkiRTCaRtQSAhtMnMPZ8PvvN48itf4f47fsNLTz+OXp+j957nWbrgL5xyzocZd9wJYFl09W1mQtsoDpgwhTHZdkRjM0U1QEdbE/0bN+E4Duu29tA5Y39830PKBGZQbDAYDIZtsddFd5lyPuSyeKwOE6z9/LdJZeygATGY7q9+SCHFW//Y3lZ9su7vsn/4tjKZby/j8O4o/9bZrd9aokDW4X+Tusqf3LHRSuMFPkAUr6As0CGha2OlHA475yzufPJJugMbz1PYwkYIr1KXqPbx1pLAgpIlybmSrUmbTS40HnsU5AswIkXUc5KhDjaxDxcSgUCSiDLpuApyW8lM25+TZ03l5Is/SLB8OY/8/BZWvb6eW3/x31w882sQJLFTWTomT6GhuYmlCxdwzMQDeOnJp2lqbscdPRpcB5IuJJO4qQxOOkUiZUduKCKIUnXHObIDXcLWAor9IENWPXQfrzzzBFMmzuacj/wjTJkBiQyoELrW4XkBHa0dFHJ5Er4PaYfGVIrWTIreTV20CRUNUvN90NQKvQOsfG05r69dzalNjWALyKRhYAAcl/QBkzjvHz/KeXwYNm/h1T8/wL33zOOOW27icwcdCNrHbWigoDUnfeijkGyGjnZI+IAH+VKUexwJLW0oHSL1tobwBoPBYDDshVB6JcNoEQotdWUZZkuqZZcYZoFIkAxXfDCHgKpZasvH2Sh0WPld6mgROkToEImqWUScsWK4BRRC6Vj2xNsrjVAatEKouF4VYKkAS3sIPKhZAjQB9cevlUYrPWwfREcy/D8IK8dSv2gdRqJGRX8LHcZlqssPLhqN0IOL1ppoQpV46myt34LyIRCiCRHxOlrif5qaJYyX8me2s//hhm61vTy0Xwevm9pMJVKIeNFIETlSS6ERcnCJhG7VEhMKiWcB2SzO0ccy67wL6E+1Uko0U5AWBTQlILAjlwwtrGgmVGkRSoeeUOM3NrLFTXD+lZ+H0SNgzFiwHdAOWgl0CDokfsOiQHogirgoAr8Xin384Yc/4saPXgobe6C1HcZNhP1mYE+cxXGnzyUfxG0uFCEQ4DTBiInMPGg2YuNKNj7zEH2FXg45+RgY2QTtDRAkoZCimJf05zwG8v1Q6gWKUfBvaIOy8e2AUHpQLIElWb78WXKFHo4/5WxomwrZkZBqjoS0P8DLyxfhed2kHQ22BYEHxTxBbx9rF78cuYRs2AxhAjbkodtn6TMvkWrKMmn6BLADVs37I9+99GO89Ic7oeBDwwjoHA8tY5h82ImETpogK6KAzzEjaGzvRIQO+dfWQCYLIzuiYFNbgoI7v/8TbvrGf9L9/FJkRyc4idjNSFYt9cgd/G4wGAyGv1f2yv/6Qsidiu7f0Ra7kuVhz1Ev46pEvwjiRQ2uawYFbGe96wj21T56E2wrSnCPUX9ud4yU1uD1rsFCILRESwlt7Uz9yEU0HXkE/aM7ybc1kEvZDDiSvCXIO5KCIxlwJP2upNjcQL45zZaUw8wzT0UcdjC0NYPrgmI7U8ArBAGF0mZc7TOwdT3jxnaS79/C//73D8DLQ28PbN4CSrFs9Wv0BHmSna2ErgNuEk840NLJMe86DUd53Hv3HYRph8nHHQsJK5oHxrLBShE6KUInjXBscET0mz24BK4gcAW4NgQhxTCkobWZlxY9D0UfunOQG4Cebhbe90c2bd1IiYDVq9ZEv2toSadpdiTPzvsTvX/4HfR2Q/dW2LCRJ265HV0MGLv/VDhwOnh5Oka20r92FU/fdz+sXg85BVt8EBk2r9+IL22KloSOVsgmed8nPkpX32Z+9vOfkF/zKnStgb4C9BZZ9dACVi5ZzqauzbSMHQ+9OQiCN3xVGQwGg+Hvnz3uXrLzgjvOfb2DWeqFVtud9nooNR7jsW+uoryb8rrii71Lzh6xlbWqyUJEjhI6nrikfOzRXmVlHVG/rmpzLDbru6Myu+L22rlNIVa9DUST9OytvMLbE7N17Sr7ulf85Lf1pmQ43pzzjojrHnyLMtjC+r/qsaIXD6AhqWNLpxPNljjjy1/gqW99i5fvv4tRVpasB1u29tKcyaIEeBYUbejXA+SbUow46iAOuOi90JaFhICwhFICaUu0sAE5bKaMVCIBWKRakhx83EE8dmcLW7uWct375/KO2bNIWwlWvPIyBa+PsNXhfVd8AtHZQjEQJJtaIb8Rpk1mzNQD2LxyHUzcH8aPAxVEx2YDtiCfcMglHEp2Aqw4ONHSoEOUG+DbVvRbMgPtTZx63kd55alrWf7Yw2x9YTnjDz6Uoi155rmn6N64kjknncBzLy9nc85jf5mG3BZyvX0UejczsX0UD/zyRzQ+8AfslMWWLT10rd5C8/iJXHjtDdDSDg6kMxmOfdfJLPrjA/zvv1zPhDETGTVqFGs2vs5zrzxHvy359BU3QEMrtNq0JgUnnn8az/zpIf7zmis4cPJ0RraOYvWqtby6Zh1WSxMf/8dPQXsTNCQJbLnLaUwNBoPB8PZhL4juHaXEq8sKsTN16liWvSE9tf2HZH17di6QcXBWQCkFfljCloqQEIFg0AEFolMw+KpZxcK9MsX9m80xtjOCu2bbnRXZcVBr7Cdc8x2D32l2dA4H26fiXHzDO4EM3c/2pjt/M+iav+uvx53tz+okhPG5FeXJeMo7kZBMQ4dF2NfN4dd8Hk44nKduupWXX1iKYyfYajmEMhLcRRtmH30UbVP2Y6BFsPq1Fxi3/2hQebS2o6vOsQAXIeqD+uK+8n3yA1tJplxEWwuf+ur1vHDnPcz78/0se2U5Xk+OiftPZOqMwzjmA+ejOzsoOS4OAvAjn5Vkkv0OnMFLr7zORRd9OApebGuJUgsmbHBs+hNJepMJ8m4imnSnfK6kwrcF/QkHP5mATDMUNYnJB3PRP3+RRXf8iZeefI7VT+ZJNDYz68gjOPL0KyG/if978t8orF/PUYECHBqSWYJAcPwJp7DZcrl3/kOUwhwNLR2cdt4/MHXuuTB6HBBAMgtCc9InLuaIWYfz+5/cxrLXVvHs80tItGaYceJxnPL+DyCnHgrZJFp1I0aO4J0fvoADZhzE3TfdyfI1a1m9ciPYCY47ew5HzDkDe9oU6GzDF4qAEAfLCG+DwWAwDIvQQ9Iw7F6GnUY9RmuNEGJoZogqrDqrplCxuBO1ors6w0nN9kMCNWMfZ2FRj1a6kk98yG+ytp6yGBNaxxbjaDwjpaDkb8VyPLb0b+KW2+7g2edeJPBBK4uLP/5JjnvHCYShJmVZeFrt0kN7R6J8R3WVu7MyvTyS6hkuBbKSGxpA6rLgrRLLw4juIP7OjtfVPvhUlRRx3vWy1b/eraY2HHDoVDc7yrM+tHcGh0fV9nM9RNgPCu4QXVVPbX/Wt2D47QZ9eEUY5Z4XKvb5xiMkJJQKV3nQl4NcHjZ2w+Ye6M9BMgHN2Sj1XlMLeFvoWb+Il197Ac91eMfJ78JpnYKVao3S8skEkAJlRZGYOgRKRFnEozOjAxAlIK/AJ7qBdNxuW4Gro6DIRJatxQFaGxqgsBksARu28t33XsCIzjFc8M3vQdsISKZQKoqNkJRAF+PRcBqkDW4UTAlBNHumZ4N2wEpFVnI7F1nCN22MciIqF7QdWcgTFiTirPyeHaUF3LyWxf93Mw/ffAef+syViJNOi3zbyYNtg8xELjdpSckGKTwcXUTlepE+4LlRsvMwACuAZAiODU5LlGfbLqC1j/TjVIShE+UND0vRyMlxovotB992UNJCa40tRc09V39/mklzDAaD4e3LPpO9JELFAXHVD61alwsVS6Xyt+WUg6pGkG3PRSKeRr1cfyz6RLV1umrrUGt0RUJWl4serWWBajG8RVfpEtJS+DrPYwvns3DRQvoGijQ2tNOUbaW5tY0AEFhR9g6la/xyRZ01V4mhok9s49g1algHiOpvdHmml3jbbU0pX0PFF524jKpkHRn8LtqDQtVNH1NPWairyrmtad+QbcvXQRz4OuxRDa6rLe3R3ypeV4vr6jaraKAR/xYSolFoHcnrQc00eCVU77u8j+HeoGggsCJ/bluD1BKNTSAsSpaiaNk0tGcIrV7sZCPsPy0KYnRdSCcg6UDJB7+BppTH5KzNqytf5umFD3PQ0TaNbohwGyNRKiTgQtWMrlpItHYrw15LWpAU4MZXryY6t5aChAIJxVDR4LoUe1aSdG1Y28+CW29D2S4Hn3hKZKlPRnm4ta8QlhW7k8T16SQg4ntaILQFwgEnEtW6pBFNDko20uv1kBk5GieUiFDGg1eNFuA7mpAQWSyRUCEkBYFjoRqb2Iyko2NkNJFPMhUFOkoJAvJuFJrs6PguzmSxA40TJCMRLQS4Alw/CiouxfnDhUMoJaEFoXKi41CxJdtSYLkobBAuCBEPJstruWtvmAwGg8HwtmAviO5hck/rME6jF4kVXSXqROx+UX6Y6YroCioWpUHrrIRK5o8oqElXDjESdOUsI2UxF1bkoYhrkhVpp0QkcrVQFfU3mNrQrhJrMp6bMLIYV+fb9oMStqMRqsTiJc+ysa+Lj11yGScc+y4SZHBI0j8wgBW6pBoThEi2Na+lEoqwcnwyPqJoWnpLR8epdAGkoHpgUd3n1Q4kg4JUVQl0FZeoKjNkNFEW6Qpd1V9UviUSJMSW8orQrbaYl99QqKoy1e2tH+aUWzVoCR8sWe9TbVdtXz0YUHFWlOiqivKbROn1dFWNEguJVXWMqqIhB+3j1e4jtfK/fIVCOQXioIuJ0OVUgJE0D7Gj3olGXOS8Ag0tHdH2XgFSiehvSwIWSihkthWROJCOphZIJFj8wuOsfnEeYyZPp3HswdiJkaDsSHiX32TE94jSDlJbSB2CTSVzkJAiEutagwgJElH7bK1goJdkfivXXvhp3I0BzU4jvUWfGaedikpmkK4NDlhCom2BEgIlo7tNhC4ojcQD7CivvrCjO0aD1SzoLXrk3RJZtxmlJVoLRNxRWihCqQji6ya0fAhKkCqQSxfoSRZwxjaC3xe9DUBGnaw8kAqr/CZFSAQ2tgrBkSjbRionuldEAOVYE2mDUNHERiK6PqR0sJVESgkkgQCUFd9zIhrWiEjDl8dglSFZ3b0z9H2awWAwGN4u7BOWbq0VgfKwLBgUzNVuBtHDWmOjyyIz/k0RxMKvLP6iV9iD4qxWjOtYXpZlU1kQhVWC2wYCFRLoACyJIoCq/NmRfApQyFgkQ0CIvQ2bbhD6WJbAC0ukm1K0jG5DYJEvDdCUgKZMEoHDxlI3mUSixnZaa5EN4uNVseeoRMTRa0LYWECoPCQCn2ppLmtEYfyivqaHVE1/A3XHUrbgRiIisv5HQ5/qS6hsLYewIjp1pY8EUeaOwYOLRHB5kDEojiUSO/62XI9E6yBynyCs9IOibE8vH63NoK88hDqIhK60o6tFezgiEktaK7QoxcMtG4WMz6NCUULHjiXVbwwEbuVciEhWxq0c7Ifady86fhNQiq5RkUAIiZLRda/Q+Ah8EZVvTjRQpIgIFI6USDsSrYQhhAElS5KybJDNEPh0jJzKYVKz6PkH6evpZqpK0DHGhmQ7KAUiU+kLtETqaMZLLa1o0GEpECESidBxwkRhxedPYtkSkU6Dn6JzxBgKhV72mzSdSz74Phg1itCxEE5sWLcskBolBAE2GhHlGUdEvSHKgzRBeVeeD07KJYmkhI8MXUIt0FIgpEZLgY6dlBQKIW1wQ7Rj05NwybVkWSs9mtszta9G4gxBMn5zIeK7U8po0KOFQ6gFxWLkdmNJH6HBxY6N/jJO/2MjlTXoFiVjl504IHabfmwGg8FgMNSxF326Y7GqfZTy0PjYlibE55777uKBv/yF7p4eSsUQy0mw37hJnH7mWZx41KnkSv20JJI8vODP/PwXPybb1MynL/tn9hs3AUeGSEJWrH6FL33petKpVi65+FIOP+yQWIx6PL9kMXfdfQ8rV6+mP58jnc1y6KGH8v7zP0Brppk0CQJVoOAV+Mw/fZamEa1c/rn/xyMPLeChP/0Fb6CAY1kcdPAsLvjIpaRTGZJCkpRO7CQikSoSOn44wG23/5x77ruFghhAtTdSCh0ypRbefcq7OPc9J/PRT36ESTNm8MGLPsZP/uN/WLNqPU3ZJq666ipGjhqJjc3zLz/Prb++mddfXwWhYsyI0Rw07SDmvPtMRnaMJkMrNoJ8sJFPfPZi0u0tXP2vX+R3t/2OefMeJFCKzs6RzJlzNu888iiEsLjjtt/y+GMLCHyfzs5OTjjhBM48dS5KQ1KkQIvBgE4ZSdPo+Hx8NUDX1g08uOBxHnjgQfK5flzLQkvNhP2ncN4HPsiY0fvRYGXjYVI0UCj7iEeW7gA/7OcTl32ctpEdXPOla/n1b2/j4fmPEYYCSzgcceRs3nfe+bQ2tiNCsC1BEpeN3hrWrHudX918E2vWroYwIOG4HH/Mibz7zPNw0020OG3kvRx+4PP5L1wBNnzn298lbadwcEAXUKKPW+64ld/87i+c854LeM855+GKgHvu+z9uu+3XfOoz/8Ta9Ru4+3e/Rms44dh38/73fxAnZaFUidtv+TULHnmMvBcihcuECeM599xzmDZjGknhYgOKAV5e8yzXf+XLzJx9Muee+z7+eOdtPP3kE+RLHvtN2J/j33U2xx57Iq2iFUGIg8LVEksRDw6i86BEgKUVMlSRNdcNoWct+TUv8tori/D8AvtPn0XjhEPAbQOnFXAjVSwclLaiGAXhRxbdKvcloasGZpU3ErEfv/bAC6AvD1oS2JJASpKNbSgZTfgjhIj984lEb2y1lmVfcVEeRllILVE6cmFRAnT8m6WcypsAKnEGIGR0DWk8LB1EsROK2EVExm4e0f4QqpLVqBLrER+bVUndWD34K2cw0qDitdTR4EiAhVXVN7E7lNbxd9HbhJp9VW03mAUpwjLq3GAwGN62WNddd911e3KHGr/ydxj6eL6HtEJSloWixHe+/3Xuu+9eQhST95/CqNGjQWrWb+li/qPzKWqPA6cdQMJyGT2mk1WrX+Wll19k/eZNzDzsIHBK+BT58X//hO4tfZxwwqmccfocQgYoUeTr3/02d993H+s2dDFqzBhG7zeavv5elix7gYcfnc+hRxyKm7axREigStw9717yYYmnnn2GRc88RyqRpLOthVx/D8tXvsYLS5dzzHEn4EiJHVtQBWUBE9kxNR7JJGzs28Ka7s3Mmn0Eh+w/m2mTJ9Pe6fDY0w+yYWATTy1+lo1dm7EtGzdp864zT0dYgv+9+ef8/Fc/xwt9Ojo62H/SZNatWsPW7i389eF5TD1wCiOaR6FR5FU/Dz/1CL1+gUefepzFi5+no7OVZNJhc/cmli77/9k783i7qvrsf9daezrnnjtlHsk8AGEKkECAgAiIoFUEccCKA77Ut9V+1PZt+1aor6i1rZa+VVr7dkBaUaA4ILMoEAJBCARIAgkkEELCkIQkdzzn7GGt9f6x9jn33JuEEEVD6X7y2Z/ce8+w915733ue9VvP73nW0ds/wG233srDjzxCpb2C1hmv7t7Ok089xaixoxk9ejy+Fzh5r2rxmMaSxFWsTHlhy0a+/NUreODhh+keO4YF8+bR1l6ivzrAi9te4tG1q5k2YxbjR4+nUa8XNMJ9nIcLQtNf28WyB5bRV+tj+S+X88iqVYweM5b29g6q9RovbNnEuvVPcspJSymrEil1Uga55c6b+Id/uoqegX4qlXZmzTqEJK6xccNGHlq5kiOPWYjxLGHgMdC/m1t/9lMqnSWWnno6vhfgoTA2xoo+1j79BGvXP8/cwxYwe94clMjY8NxKnlz/OC++8ioPPvRLEDWCwOPoo45n/mGHs3r94/zFly5j7eonaCtVOGT6DEptbbz8yov86Mc/IrMp8w+fTSAVmjq7+l/gFw/chfAr3HL7rfT0bGPChG4qXWVeeGkrq59ay7adOzji6GPwCFzF1ZJXnx3B1dKCyNdubO56E2uwEr/SybhJE9m2+Vm2bNmEtSldo538JKvXsEYg/Xasjof0xsK2+Ie3auFF85/TVAusCLBeiClH2LYSohShojDnrnpoRUaIlmvcOH537zTIrcgJuBAml2VZlHV9lO75dpgxjWg5Krf+4jtduPSdL7hU+RNss4JuhcibSB1hFsPOac/2areEky9n5as5QrT0S4j8/RvttULmvaf5REMO5/GNEvjIxsnXtPYsUKBAgQJvaRwEeUlCQ3erFPgSIhHSp7dx+x0388tfruDQBUfyv/7ozxHKJ5Ievdlubv3ZLfznD2/k0bX384H3vY9Yx1RUOx+96KM8v2UTm7Y8zarVD7DohIXcc/fdPLZ6LXNmLuDcd59HPYsxXp1HVz/GkxufJjMef/U332TMqG7nnCBTrv/RD7jl9lv4i6/9b/7ma19nQjgK4RkynZAMWDwdcMXlX2HquPF40rDz1Re5/Mtf5dnnNnD/g/fz7lPOQiGdXKKlYhh4FY444gimTuvmpY3KyFkAACAASURBVP6d9L3k8Y6zzuWYKcfTrUr0ZM8QxzH9cYI2MV+9/KuMHzWB7dtfobtc4Rf3/pyVDz3E7Jlz+NjvfpxDp8/DWQpabrjh+/zn7dfzr9f+C3/y2XF0V8YSS8umF1+hPK4bkWZceeWVdEclDCm33H4Ht9x2Ow+uWEa5bRRXXnklo7o6kWTc8MMbuPPOu7h3+b0sPu5EkiShLWjb4+pFYYS2A1x73fdITZ13n/du3nfBhVSUIiIgJubv/+U7PPj4au76xV0cPeeIJtFwrXROmy4tuGjwBERGLa7Su22Av/r61xk9egLWKPp6dvG1v/wyG59dz733383blp6KtSnPbFzLrXfcxKQpE/nghz/GwrkLgUEMKT+96afcevtdXPl3f8OXv/wVqvVeoooiqggGan0Ym2CtziuTudyoRbuf2Qzd4pCz5cWtnHnm2Zx1+snOZ5sKma5x449+SIrhrHPexe9+8CKkF5EkCVu2bOaa713DsgfvZfS4bs478925ol0ircdLL73EnNmHc9H7foeZUw4hTWJWPv44f/cP3+HJxx6l77xdRB0hEoXWWT6RczBCYVFoJL4UeEY77bFsNC9WWHDS2Tz22P08/8xqsnSAKYcfjd82ASl9oJYTX+mcQ6wcEh03G//23oTcII9SNo7HyW6sach0dP7TN4Vi7dfGyAbmPZF3MuyjYbJR8R6p4X6tFu8CBQoUKPDWxkH4my+bm7WCQIQkpPgqpKtrFEctPJYPf+gijJBkWUbdDqJ1lbPOPonusWVe3b2dl3e/TKBK1NKYMaNG87GPfYTe/pe47sbvcu8Dd3LTbbdQ6ujmkk/9PkFUwirLQNzPTbf/hMEk5eOXfIpxoybh4dEmQ9op8d7fOYeFxx5JNelj5RMP008fsU6cw4MRXPyhjzNl3GS3LJ4Zukd1ctLJizHC0NvbS2/ST4JuiSg3WGtIsgGyLGVM5ziU9OjvizGZh9ZQszFxnCKEIvAqnPuO9zJt7DQ6VRtzJ05DELN82S+oVwc5++3vYN70Q6nGqZsnZIJ3nXMO8+bNYtvOl3nw0RUkxMTGMnriZHoHY05921l0RN2UCSmjOGXRcbSVIozJuPSSSxnVORqdOLK05ITjkMqwffv2JmHwhGzGz1tjm1aO1dog02dMY978ubz7Pe/COZBrBkwvAliy5ARQll29O/NmQdtsWG02Ieb2cUEoGawPIjyfj3/yUrpGjcNaQadfYeKYMSw+9mjKgWDz5mdIdI3UVrnjrlsZrA+w6MQTmDP7UDSWxGYoBO/+nXOZNGkC217dxuNPrKJUCojjGolOkL5tkQCYZjOjYUga0JDpGuF08BMmHsJZ7ziXCWOnMm7sJKaOm8iy+5fx1ManmTpjDu+78ENoqwhERHfYyczp07nwAxfQ29/DrT+7lQzjQuyNa98Mgojz3vt+5kw5jICArqCDE445hplTJkBcozowiLa5xn0vVpWuadgp+TOlICxD2A6qA2wZb/QMFhy7lPFTJrNt+yaeXvsAUveAb0h6tyFFHUSGsQYpW07YvvafAmM0xmi0ztA6I80Ssiwb5jS0X1jFW4tmvva5v+XSYAsUKFCgwK+F3/onoLSR24yPNAEQoCgjaee0k97JH3/+MqZOmUHJi4gCj9TWyKhz+103U40HkIFHVOnAogj9MkkWc8Rhh7L01EVU0x6+f+N11LKEU99+DpMmz6ItaMcXklgPsmPXK5TbK8yZfSgWKNOGj4fA0O11cej8Q0l1whNrn3DNb0LgSx+bSaZOnkYoI0JVouyV8IRizJhR+AEM1gcQKDI95FLRgDEGz/OppVXS1BD4FQK/jSCICEVA4HkIoZCyxImLTqNEiQiFtTE9O16hOtBLV0eFJUtOxlhBZ9hJ2Wuj5IWMau/i5FNORuuEp55+Co3GCEO1nmC05JQT345HhDaCMj5dYYjJEpRSzDhkJmVRoTPowLOC7u6I0NeUwzImFQRBgJMEmGabqvNIt7SXO3jve87lD//wDwijECMMCkjSOk89t4bH16yip6+PV/t6GFqQlwjjHDKEzbAkWBKE1FibYazi8AXHEXrdRF4HkBEKGNtRQZqUwBcYkVHPqjyzaQNtHe0sXnQikawQ0obVIPMq67HHHgvApuc2ofJaoyOIFmNaPVKUkyxIgVXWFYClyBsAFUL4dI8eT3fXRCwhnijj4fHils1UOkYz97AFlMNuwqCCRZOR0OaVOXT+fMZOGEcti3n2xU1onC7YZoJRoycweeo0NIKIdkJKjPI7OGTcKHyb8MorL6K1xqCRCqeDbmwtd5cRTned5U2BVkbgtUMwhtL4mUw7ciGjp0zl5eeeZd2D96F3bCAoxSAHqCW70Kbm1BfNSaJ1jar7gEuSbXFoEQL5epJlpc034TYhEcJr2eTwLX/e0H7FAXlbN54/tDFs299rG+fa9FUfsX8rxV43MWJTwv0vLcO2AgUKFCjw3xcHxzLQimEfggao16uEkWSw2s+dd97J+mc28sKW5xio78SqmKhDkKQJsU4ZrCVUvTqhzih7ZWL6+OjFH2btl57klV19TJkyi/POu5C6NVgxQBtQGxwAoxnd3UmlUsbPW5qEsfgyoGqqTJk0DSlDXtn+KiEllOcIW6VcprurG2NAyfwDWRgEGdamWKsdSdUyX27PfTyEdtZnrbAexjQWnfNYeCvBekh80jihLexEiYSkOkiaVGnrHMPgwCCjKxVEbmYnhEQiGd01hiyzVPsHnB2edP4QSvm4aJoAaTNXG7Uyb1KTrhEMSWahLCK21/oIfLDaoDODFMrZ5VnTjJ632iBURj3uww8CNr64iVvvXcHGZzex68WttJcjanGVnlqdoFSmXArRaBQewojm9ZbWIETm3FhEBgp0pjDWTcIkBmUzfGsI0M62DhBKUq25BtfMwJ998TJ6d2ZUggifKlEoEEqSpBbhl3l523YyIIrKxHFMWCo3M2AMrqmt1fbRCNn8Dlyl+ZBDpiPw3TmgsWT09/eR6oyu7nFovNxg0CBsghF1rEnoHNXB9mc30VsdQDIJKT3qg3W0NhgtMUpihM3dWzLI6hhdhdziTmPxRuqBbcPpxW8KiA354QoPKQKk8EBaSl3TOGQW6P6UHS+9RLV2L/OOOpZw3ASQFaCMsRlCeO76ijRffWgkpBYoUKBAgQIF3kj89km3yGj12+4f7EGqDM9PeOqZp/jLv/460gupDhgmTp7EohNOYMbcCVS6Nd/+zj9TtyHCi5wVmZeRsQtLjWfWr2Pn9p0ElU5efvVVntq0jvkzDkORulANo/G0doQvD7tx/VINO7UATIQ0Qe484poiU6PxPB8VQEriSGyTjGpnG2fTEec45Ovd+rNGtUsYmxO+3AnBKLAewnjOJ5gWr+dGih8Nz+gMnTej2dwJxjMSZTyUhYAUT6R4eR0XfIwIXcSLUlirkbl7BHgEAvqT3bS3t5EldbySwJcenvNsIMv3IfLglMZx3XLnbdz8szvYunuA8eMnMGXKFObPnsVhh8+HIOQr374KPBe6IvKKoWtOy8+rKTMxuZVewxIydzoxoKwj31iNNT4Gj1ocU01rJDGccNwiusrjSatVAjFIUh9AqAAZlNm2a5BDps7Bp41X+3fRXukmid2919j78Ka2VqLpnqGxpJm7W4a82LNmxdJJUILc/9o5u0gyJ+Gg4Z4xPOGT3PFCGA+UGxub788Ig1VglAUUSEGzMG9BCI20DTvNsDl5bd4rNg8jEmXwplIqBxx28mSee+R+Xnj6CZ5YsZ2pi45n1CGHIUQbSSbxVSVvEqzn+mS5X6lJw5nk18G+q9e//UZDN6n87ZSh7Yj9NCa0RVJlgQIFCrz1cRAq3Wbowx0II+H8k6lzzX/8C1Jqzjzz7bzjrAvoah9FQh1FjTovo1QAWUuVGI2HT89gP9ddex0Kn8kTp/H8S7u57rrvc/mfXQ7AIIO0RW2QGPp27aA+0INpj1CyglU+qY2JVDsvb30ZmwnGj52EBqqps0er1Wr0VwfpaAtoJEAqZG4/1oiCaSxFW4TNPQ+EcImW1qKt0+EKK4cs1MAtsVvPkWZ8/NA1PaYklEolIl9RHeyhrRKSUkfi5b7PbtR27+pByZD2tgqBUGAMvsnwTDCMHKbIZsCIwpE5kVP3UtBGf68jiibTZDrLddqiZUncnWc97mfH7lf58U03QyngM3/4hyxYcCRjvIgIwaDpZ+0zGzBZRhiGuc81rgq/l+a0BiEdCjfKncWtO0eFQBq3EiAIaO/sIiqXKbdFvOd95zF7wjx0WmOM7xNTI0OSWI/MBgQyIjGGcqlCrVYjLJdc0yS4JkAyN5UREmMEnvCaUhqb66qNsRiTh6Zg0dRpb6/gy4CenT35yAydl8IgpaF3dw/t5S7a2jrQCFKtKZfLeFLhSx9Pqtx9OnNrF36A9Dys0ENTErFnI57EIGzDBch3bhytzXy24WKvIATkIDMPP46SEmza8gybn36SMCozZmyFWpwRtOUTnYY9X+5v7VZFRl4vw6+ftNjqEF+gQIECBQr898FBXkc2KCXxlKVW72fnq9uJoojTTjuNMAypxSnWKDIkq9etZ3dvP6HvE/oBAk2Iz+7qDq6+5nvs2N7LkhNP48//6HKmjJ/Mc5vW86ObrsNiiE1Gqa2T8eOnUO3rZf3aJ0Bk1KmREpMJjSZj1apVBJ7P3FlzUQSkiUVKp7k2qcETMg/aULnmVzmds9UILN5eRtOl3AmMVBjpoYRFGp2riS3SeEjj4RsfhcKIgJqB1ComjJtCV3cntVo/991zJyGGAIElJbFuW/HLR+nt7efoI44mRKGMI/YNVYsBtDAugkZKNMJVla0jw3GqkfjO39gIbKZBG4zRWNOocudETCQIk7F58/PU0oxypYNFR59AySsR65iaqeMJj7Wr16IQ9Pf0kOWeJVYMBck0db35OCLd/1aK3FawoevN7d5so/rqEXolZs+eS+/uPp5+6kksMVIZem0VjaAa1/nn//f/+PP/fTlr1jxFZqCt3EFHRweD9UF6+3tIqBHbfjQJCSlr165FSTdpalT4rbUIYwmUD8aiUEgkmYYjDj+GSHk8/shKMlulWttNICRCWAZNH6see4T+3QOM7RzLjImzkCjqNgPfcwEsQuaE25HnFIsWHsYLmk2eJvc8sbJVn+zGDdnQP9t8paU1IbMxeREgfUwioGMS4488hXkL34bZVef5hx5h56YnqZRi6vUdJGkNJdoQoowhAWJnjyeFC9GRakibPVKDPWLbA/m1E7lHuzsP1XKcI7c9f3+Gb2o/24jnN2y897I5C8CRE4nhx2GEHLbt63hbc3L2BptPvvel8W48XqBAgQIF3ro46OLNvL5LkiQEQUAcx7yweSuloOzCNrRl89at/NvV19LVOZpXt22HzKUu1knY8OxmHnt8HVOnHsr73n0RASX++LNfoKPN45cPLmP9C+tokxUir8LSk5biK8kP//MHbNy4nmrSR0LCYL2fH/zwe2ze9CxTxk/ghIWLnGRAS3wZEagSjUy7BlT+z8E0WvJQQiFlY/PzxyUGD6yHZz08K/KKuWvWk8ZzFXAUGjBSIUQEeJx22unUBge56cc/YtPzz1C3AyRpjLWGn/z0Fra+tI3u7nEsOvZ4QgJkppBaIIzA2LyN0TpyofOKO1aS82niakJmNUqG+F6IyCO6ZU7ymsilJWGpgu/5BEHAzt097OjdhkTQpUZhjGLN6nXcdcddRCqkEpaJ03jEknorYfGdvCeX+Ljqdo5chiFzgiatRKEIKLH0xFPpaGvjpzf9mEcefwAlLVZYBm2dFSsf4pHHHqe/f5ByuUzgefT19zJ+7DhslvDjn9yIROMJS1+2m2u+fw3rnl5POQrIkjp+TrpVrtR2dWPhvjKCQEUcPv8wOssV+nbu4Op/+QeiEmT0Y6nz0iuvcNNPbqXNa+OspWeikHiEuMRLgTAmV01LLJbMOpdrTYDJ0y5bK8HSNny53TZUVW+R6LSMrci94rFgrEB4Iagysm0CoyfN4ogFx5JV6zz1+MNs2bAKz+5G0oM2PWR6AEHiiHzDEq+R+tLwBW9OgAoUKFCgQIECB4KDZKqbf3ALdwgGRbnUwZLFp/DTW27l23//bRYseIRxYyfx/Jbn2fryJronTmbHzu1MHlti+9ZNTJqzgFdf3cU1V/8ATJklJ5zF1NHz6an3MqrUzQXv/h2uv/F6/u2fvsM3vvoNKvicffo5bNv2Mj+/+16+/tdfZuoh04miiM1bnidN6vheyDvOPIPJXZNI0ARegLQSz1hCL8TDz3W9Em0DrHaE2dohmclQlIeDEE4C4IkQZTw8I5Fa5HpriRIBxiiUGVrOt3i5YCXg5BNO4+UXt3P7bffyrf/7LTraOhk7dixrV69BBh5hWzv/41OfwhMBqdH4soQvyvgSAhk4dxbh6GogQ9cUKAOkdF4fHR0dRCLm1VRQG4gpdbtEPmtsXp3Or5hxpMuamKOOOo7Ozk52VQf4kz/+AscefRxBJti9fRdbt25l6tRZ7KpWyWqa/t4+usd04eFh83AcR9wCkBJlo3zCYfCV+1807hE8jA3Q1iUeelg82jjp6JPZdOJG7r335/zfK/+KmXNnutE3sHXLdtrL43nX2e9m/qz5eBjGt4/hPee8m83/+BxrVq/ks59/lEoUsnvndix1zjzz7dyzbBWedAH2FoFNBCa1CEsuBXGTJJ8S5VInv/fJS7jqO1fx8IplrF31ADNnTCXNamzYsA7wWLzwDE5bfCqRE8ggTQlMgLAGJXSuLB86T2wA1kPhEaDw9+Z4bZ27h0WAyGVKDZvtxgSwOb+RSKnA+C5NUkgIOxk16whmAhuffYrNGx+nnuxizpHHsav/JUZ1zAB8mpMhI4beTgiwvmt8xTSTHQ/EMbAVbyYNc6s148gEyTd8X/uoZr+ZxqNAgQIFCvxmcHCTLKzEoEmNoSMaxbvOfS/tldHcu+wBntv4LKtXP8XkyRN57++cx+lnncK/f+8a7rvvPl547jkWzDyU//iPa+nvizls/nG884zz8KgwNmpjkN2cffoZPLDsXl55aTc3Xn8DF13wfjpViYs++DHmzTuSu++5j+ef30Jvby+VSokz3nYGZ599LlM6p7Ojtpv2Uhey1IlnfYy1BCJo0mlXsfQQJgDtg1ZDyXVNyCH/Y+shCJHGQ2kPqV2yngCUCJHWkfFQ5CRfKAQljE1pk5184LwPM2/6Qu64/edsWL+RV1/eydRJU5k2ew6nn/Muxo0eR7eMsFlCqg02lZgsw0PkYT1ghEASYFKJlJ7zGwfSOEZFGb71CVQbVhs8T+TVcQAxTNsrpI+yhr/8P1/nmhu+x+Nr17Bm1RO0e+3MmDaDz3/uwyw8ahGf+ZPPse3FbejBBDnGSUas0SjZGEWJMBJJiKfz85cqH0WZTzrAyAiL51IXrcIKi0eJSz70KRYvXMRtd97CqjWrMAK6Osew8JhFnPm2d3Hk/OPIspjIC6kldZYccTLZpYYf/vRHPPPsevzODubNPpQzz3w7Rvrcv/wpbGIICQmxRF6FUJWRlmZ7pzUCIwyBLDFv5mz+8ktXcPMtN3HPsp+zcuUKJkycyGGHHckpJ76dt598Dh4ltHbuLEpHKBOgjFPl51mP+eQzQJoAZQJ8LfNK+FBvgLAgm1p0Nz4uZGhPGzohxNDcLyf0VlsXRGQCpNfJxCNPYvTYMTz22P1sfW499biPIxYtBfqBMpgAbJYH6ORGKbblPQUt8YtvbkmEtXavhNYY84YTXZn/FdDYpkTpQDHyNQUZL1CgQIG3DoT9bQsJbYwjpI7vW6vJiPGVIaGKtpbMADZwkgxASgvS0IiQ9wgw2uZeuBqBj7XtGARKgKGOpTcnNr5bKNc2T4tWuf7Sw1qnAVVARs01tNHgF4FrtrPOYzqOY6IgdLIRDCKLMUpQzzmOT5BTSS+XAjj6qE0K0pLZBKlcm55s6FtNhqGKkB6aMol2zXyeFAhrMAxiGcxtBxuuKkPQQhILD4mklBk8A9oYskBSkxAbQ1koJ9uQKZlOQSqkCMjqisgPsWmK76coFeO0xCFxqvG8yKmYG9pT22iAMxiZkMiYDE2a16996+MR5OMZULMZQgh0ZvE9d4zSZs2xUTbAOYQMYj1Bikc1S4m80HmuGOcUgqi75kcbYaxqatURGVqkuX+1xAKZuwOQ+HjGA2MJPEWWxSjPtZ5qXDuk11ThKjQKnd9rCoOPRjDoJiVEaK0oyRIicz7ozoImy7XAGSZ3lHHj41YofBOBdveTUIKaGMhTxj2MNfjCiVeEMRgBqYAMi0EiDJRkiNI0z1co1QwtAob08U37C+co4vTSuGOxOk/9zLX5wqCzKsrWQfcxsG0jTz75S/qru+gY182RRy0mapsDaQeIDohGQ5yHCUkXda7cTvfyi91auW/9fR9OGvcb9Pg6oTPdtPSM45ggcPfeyD9nRpthzwvDEIA0TUnTlHK5TJqmSCFRntrz9SM47x6mRMO+dqS7QfR1prFao40hLEXUqzWicqlJ+IUQGGOQ0g1KtVqlVCq95nkXJLxAgQIF/uviIJPufIlaaBBJTuEyl17Y1PrmkguRNcM44tS9R+SHSHKdsikP7UMmWDGAJkFSokSZwXig+YFrjQTrOyJjIYsTylFAaqotlbGhRikj3Ie8rxSQR5hbDVIQS/LwE4myoBoTBdOYVDgnaC0SUEPvK43EkmGpgVRYoqZqPI3d5MIPBIg61qTDxqIBLSSpcD+PMvCNs6lLlaGu8smABWWAPOZ8SJcbIKyz5ZMkCJViRYYVHgaJwkciIV96F6ZFSywMRmXEJiGzGb4KkXikRqNQ6MzSFlSoW421xmnDRer2l+uzpfby2U0dqyCVklRnqNwyUViFRDdJt5Nf+Nj8PcAglJsmxGkNI6DklQCB0dqtGEiFlJDZjNQk7r4SCoEhlI7cGhtihEQ703aUTZFkKJu4sRQemZWENl8dsBYpLM0sy0Z8vMjyyZqLe5cmQuJhrSVJ6kTlgLpt3F8KTyiscVdUWxdF30jFlFoQ5PcTVmLEr0K6aVpa0nTZcRMOk9ZQpg6mD6ovc9+yW9C2h0njJzNj2kKCSQvAtJH2avzKWIwKnKw7D3sR0o6oIL9GuPkbSLqttWSZC/DxfX+Px5IkGRZ+BBBFkWtgzImttRajDcaa5vtFUYSUcq+V6QMh3eDsQLXWpGlKqVTKffjdE7M4QfoeaZo2j8nzPKzJw4Makp2W4xhJsgvSXaBAgQL/dfFbJ92WBumWuFhoXOVMJFibpxM2lrGtzPXSedVYO4IT+o48J2kNKa0LBLGOcDlD4xRE3ZE9GxDHKW1RSKprOEW2jxUBRjs+4ns4S7nQR0iL0Y00GHd8Rurm8TeW80W+7B6rxmeqyUl3g1SPUO4I58Ps3rdB6A3IxO3DBjTEFVmSk25fgUjAZM2VgVZoKUlwjYYlLZD5pdTSUPdGkG5yAiG0Oy+bNwmaxnglWGGwefiPyN06mqS7cZc0dOfSVXw1mmo8iBUQBW0oFB4hA9UqUdSYCBmMdFpgaXNSmuXyG2FAuWtuhJvADIsLF7Wct7mJUuuxGKORFkLfNSBmcQZGoCQYaTDakJAhFCg/bDYvWqvxMo20HsK6lRDtgRHaEf3cb9sIQ5o7Vigr8fKJh7ANt29yUmzQ0p1nfpcgjY82jpj6vqI22EtUCkHm0h073Ou6cf7NlYCGliQni9oT+X2Wk+28qmr2oIFyL1+NgLHoRKNsAnoXmB1sfPhmdm5/ge6xU5k1fyGqewZZ1cfrnAQyJFWuSo9wVVoXsiSa98dI28LmNRuBX5c06kzTP9BPEASUyy70yBiDUipPUd3z+VJJsiyjXq83K+JKqmYFPEkStNaOBId7/p4NH+Hh59R6Ng1JSa1Ww/f9oYmBhXqthpKSOEvxfb85CVBKNb92E4bhk4Y9SfdIE8kCBQoUKPBfBQfXhqDBnlrdERqV0Ny1QVin/RXGI5ARvozI0owszfDU0IdXM1fQNkJoPKwWbqk+KJFmKVIolPBzhwfHZxSgMwiDktPsjiDcANKovcQ458TV5t4Wr8PRQebex8OembtBuB4+C1oTBB6B76O1xWbDx6Z1axxXg1Q3qorCNqrurUqAfN9G5cdgHUnPQ3tAIqyHbNnXkIZ4j4IlwnjYTGAzQeSVCf0IMFijSXRMOYqaQUBD7hutbihDx+Us5YbbqFlEnh7ptTxHD1M2+NLDlwE6sdiYXJrjbAYVEuUJfF860qUzEp1htEFop1N3VoTD3UFartZeJzrDrpvxwfpIEyJNCDbMv/YdgfacvZ/ONFHU5orRzq6khXAPXU8vb6Ydpt7IVy/2hv31MO7zcSEQnpM0UZkIpUnMPuJtTJg8n+2vbuOxR++n74Wn8dol2CrYugspEtmwdx0+X28hjE0C/sb7cfcP9NPV1UW5XObFF1/kox/9KF1dXUyZMoXLL7+cOI5J05QkSUiSBCEFtVqN5cuX87WvfY1169a5KrNy43/nnXcyd+5cTj75ZF599dU99vd6KhLWuMZjjauil0olfN/nuh9cx+GHHkbge0yeNIkvfOEL7NixgzAMWblyJR/8wAdpa2tj+vTpXHHFFdTr9V95XIwxTdvB1q1AgQIFCrx5oL70pS996be5Q9NwhxBuE5ATsHy52qqc4Ukg9yZGNe3rBDaPrba5364E6/IChRW5xpfcv9i5OjQW16VQefKhcO+d94QZq1FKNBvEhBzy+5Xkfr9IEDKPr8+/l/k5iEasvURgkTZ/r9Y6mLC0dLgN2ejlBEXizkOAs+uTeZKjxK3Jux2414n8bYSLcpeNyiO4Y1IWKwRSWFcHNwLpDpdcSTx0XgIXttP0fpZ5RdhB5vslP0+3XzcWNm/0k1LlHNI2Lf486do43eY8ugUC2fB0tqJxiZvXEinyoBZ3sCI/h4a/3zOw+wAAIABJREFUc+4D0jx+AGlFk+M1q4ISTG4jKKQE6TytpRBgLZ5otCLmgybze0nY/DzdeFvZiEJq1P1ly/0gmuMAAmTeHCsa10zk97TEGouSivxqNV/nvK1FPm5yxP3WMu7STUAaNe7hd1ZzECGvfouWbRhrFENE2R2CRVgNQkFlLF2Tp5Klu9i6eSODu3uZ3N4Bbe25JMeC8oZ+d2x+/M1xzOUr+RgOHaEdtu3Vy/sAYK3F8zw2bdrEueeeS39/P1/72tdYu3YtN9xwA9VqlXe+851orQmCAKMNPT09XHzxxdx4440YYzj33HORUvLSSy9x8cUX8/LLL7P5hc2U28ssXXoKu3ftplKukJgYJRTWaEymcwmKJk0SPM+NSat7izUWKQWDg4Nc8olP8hdf+gsu+vBF/MHv/z5tbW1855++w+o1a6hUKnzgAx/g8MMP5/Of/zzVapV/+Mdv01Yus2jRIqQUrv9ESJIkQSlFb28v1hq01ijl7pU4rrs7SkqMdqR7f+4rhTylQIECBQ4eDpJ7ycgwihxW8npqS0oqTL6cb01LVa35edJIexRI6/SbUsicrA89x+YVVqVECxnZ94dSQ1Kyt58jWqulDRbY+qy9VP1akjlpEF+bEyPb0L+KYfpZaxqSnFbJi2nqgRvPU8JNTqTNNfMjLnXOP3Mo981+0gaHiJ+LuXcNnhJjM5yNolv+Fk2phW3uZ6gBMv+6eantiHFyNXbT8nx3jnsej8zHUKiWe8hYjDQu2VEA1rj2ROG5aySF8xZsrJDYON/PSM18o3F07yTRCvJQGrnPSnQDSjrXFYFyY5xfz9esRMoWfW9+b43UF//qyK+zMm5aZAKs8VB+N5PnH4PwFDs3buXxR+9n/vw60aQZ0NGFFC5+3tggP7a8St+cfLTcP29AVPzeUCqVSNOUyy67jFdeeYXt27eTJAnXX389GzZsYNmyZe4MjXGEVSqeffZZnnvuOQBmz54N0CTl1loGBgbwAo8tW7ZgraWzq5O+ep+TrUQKXwZkIsPL7yHrDb9urdfRGsvnPvc5brrpJp5Y9RgLjjgCgPedfz5PrF7N3XffzbJlyzjzzDP59re/TW9vL1/+8pdpK7dx18/v4s/+7M8BS5LW0JmmVGonjmuUSqVcGtP4xXFNmNWkitaarq6uZmW/FQXJLlCgQIE3D37rpHtE4W1I59z4mW0k2+WVMzt8qbqpSx4BM4KcWeEq3aZJbGVLFb35qpzUHfgyuBXDifXeSOHe33dvhHzoscbhiZYntH5wyoYdc05opNWOyDYqiDkxdjX3xn5kkyA32K9osm4BtlF5zyvQsE8C3hw+YYb8jfP/1LAqpusStCMmUcI01x1ee+wbKwAjxlXu5fmtl9RICw3C3XjNCF4v5NBBWzs06WnF3gmuwYrW50sga/nZ0PPyq8PQPSZaxk6MIENy6PuW5zB0mL869noe+XHl5y6Em2waArzKbGYc1U1ZrOL51Y/zyMo7WXTyqQSj55LWe/CiiSBwQT7Wyw9T5DIgJzFp7lKYvUfJ73Esrx9p6hJEb7zxRm644YZm8+S6deuo1Wp7PF95iuXLl9PX10epVGLp0pOpVgcAyejRo7nqqqu44IIL6OnvYcyYbgIVUtNVhJB0lTtY/+wzXHPNNWzZupmpkybzux+5mEPnzc/Tcm1TR+56AeDhlY9y9dVX8/3vXcuRxxwNxtLX14fnKTw1JFm77LLL6Orq4vzzz+f5558nTVM6OjroH9hNGIYEfgi+AjRhGLB9+w6uvfZa1q1fh9GGs995FmeffQ5CebRX2ukfHKBUKu9/MlegQIECBQ4aDoKmu6FhdbKG14VWkj2McI/UOQ+HFY2I531Umff12AFgTy3wmxlvvMa2iQNOKhw+9vurFu/vvWzuImKkbjYlDhHnlubC1jaCln3ua/+tQok9nCxEY5JkRmxDx/VGojF5+E3VLi0hMSUQExg/7yjmHLMQG8KDj9zDi0+uwI8Mgj48BlEkSLL8dY5qm/z38Df56+D7Pl/96ldZsGABJ510ElEUceutt7J161aEEJx66qkASCmbhPiRRx6hvb2dCRMmMGrUKLq6RtHZ2cnAwACLFy/m4osvRinJmDFjMOjcyk9z8523cdxxx7FixQqWLFnCmjVrOXbhQq688kqEECRpssfxfe5zn2Px4sW8//3vp16tYa2lvb2dKCrR09NDEATMnTuXJUuWYIzh8MMPR0rJ+Alj+dAHP0SlUsH3fYyOydIBdJrw7MYNXHjhhfzt3/4tY8eOJQxDPv3pT/PJT36S/oF+lIBSqUIcxwXhLlCgQIE3MX7rle49Q2RGPN6sADaqQkMVXPf4yNfvw02gIdgG14RnnU63+fgb9Nm0J+F+fcRzf0S9KXfZx/Lw0M/3IX/Yh+3YyK+HpCvD9/N6GkNFrhF2Gu38Z03NevNZ+30f94KhqisMXf2RLx/5bmLEF437a+j1I+4PaVsfbe6vwWb3eP2I9x8i5+4Z+59w7Xu5f/j47/n4Xr/f3+72dzTDTrgV7nwC2skYxItGMWrBMRw/rp0H7/sZqx59CLRg8swjoQLCOK2+oZI73uz5nr/ajP61Jyppqpk6dSrnnHMOY8aMAVwzZJIklEolLrzwQoCmhWC9XmfVqlXEccz06dOZPmM6SVoHK4miCIDzzjuPb3zzGyxZsgRtUiJZYuUTj/Ke97yHC957Ptdd9wPitMbFH/koX7r8cv70T/+Uo489jtNPPY1UN3o13CLSsccsZOnSpVhriMol0nqMH4WsWL6cZzZsIMlSlixZQn9/P1EU8cUvfpFTTjmFcRPGcsopS7EmI81iF8rk+4Dk07/3+6xbv47l9y1n0uRJVNo6+PjHL+akk05h1OgJ/P3ffyv/XRTYXF7yX6cQUKBAgQL/fXBw3UsKFCjwJkJuXYdHRhvQQdAxmSWnnsshU2fy0APLeH7dSujZAroP0kGkqSJNhsI2a9yC39wfFt/3+cbffINPfOITxHHMjh07eOKJJwiCgHnz5nHooYe6czCGIAhYv349O3bsIEkSjjrqCJqrEY3GT2vZsGE9XiCZPmMGQkh29+3ku9/9LmFQ4ouXXYYxoDNDW9TOhz70IdJU842/+QaJHZJANXox/u7KK7nggvNJ04wsTpq2iuvWrcdag+/7nH766URRhO/7KKV433nvY9HixUgk9XqNMIjww4h6Leb22+7grl/czf/89P9k7ty5lKKIWm2QI486kuMXHc+///u/s37903gSfP/gBgwXKFCgQIHXxpv+r/SBhkM4iWmjctssjw//fuiZ+9//fn9wcHGwG6UO9v5HYv/HU5QA9wZHHzOgjsIgKYENsYkhrHQwZ05G5Ads2vQUmU6YOcsi2yY7u0s/t3aU+/aQFg0Ned5j8KtKb6rVKp7nkcUZYRiybNkyVq9ejbWWc889l46ODgA8z/1pu+eee+jv7ycMQ0444YQ93s9ayx133snxxx/HmDGj8IQijmNuvvlm2trKVNraMUYThiG1dJBKW4VDpk3hwQdXsPn5F5h+yDR3fkIipXDe3/ktmGUa3/eJ45gH7r8fo537yOzZs9HaPdbW1obyFKbuxqNcrlCt9SEslNo6uP4H19FRaWPGjFmucbJWo61cQkjBouMXseLBlTzw4AqmHDKZIAjw9lyjKVCgQIECbxK8NSvddqTW+615mgUKvNHIxQkIG4AtozqmghpNeeIC5h15EpXOsTz/7EY2rnsMs/tFiHdB2ougirXpUHNts6Lc8Pdmn825B4IwCLHW4vs+OtOsXLmSJEmIooilS5dSrVZJ07T5+KpVqwDo7u5m1qxZe56vENxzzz2cceaZZGlKz0AvTz+9nl07nf56zJgxBJ5PmmaU/Ijx48ZRaavQs3s3jzzySPN9rDVgUhAw2NfP4GCVsBQhhCBLU9atX4/FcuKJJzJnzhyklKRpShRFDAy4tNzU1El1ndAPiPyArF7nlZdfpj44SEelgpQeYRg6z/mkjh+FKD9kxYqHCILoTTcBLlCgQIECw3EQNN0jdZ9y5BOGYWRj0L7dEEb8fI9gk9fWgu8Lv16D36+P/X2QjhyfA/3g3VND38DrI0gHvP99+DSPPIp9XNV9irqbCvf8eIbcbEYm/I04zxGv33P/+3HfOGDf6ZErNwf48jcMcsR3BvAB5VI7czd0sBB0Am3QWeH4t1VYe//P2PniyzComX3YUcjx00B6DNRqRMEoFEHeZJm5CjcShNfyO7k3K8aR99ve7wDlCRACKSV9Az1N4jthwgSmT59OFEWkqUt0FVLw9NNPAzBmzBgWLFhA4IfUalVKJZeWunz5A9SqMWe87TQ62tpJTcbjjz+BACLfxbgnWYrvS4xNSZI6Y8eMIowiNm7cSJJp2kKP6sAg5XIJgKAc4Cnn5hKndTY+v5GVqx5GeIKph0ym0tnmQppyq8uwHGCMxlqDJxuuQvD0unW89OJLKBVQr9eJ4xjPk6RZhvIVo0Z1Y61l7do1KKWGOQo1HTcLIl6gQIECbxq8hUvARaW7QIEDR4Mct0a5B0AZ6CBJSyw49jRGjZlAvTrIsrtugYGXgN20lzKEqUJWR7RaB76BGOaJbS3r168HYOLEiUybNo0kSfCUhzGGJ598ks2bN+P7PgsXLsxTKAVSSXbu3EmtGnPfsvtob2/n5JNPpm+gByU9Mp2hswzP21Oq4fseSkq0Ma5SHXpoC2EYgtHce/cv+MoVX+GOO+4AJFFUZt1TT+UkHI5fvBiATGuU9Bio9bNu3Xre8Y4zWbN2LVIqJ0PJ8wfSxOnClfKcq0ozT2AoqEtnGq2184Ev/tYVKFCgwJsW/+U03Xt5xoj//3vhYFeyDvb+R6JxPGLE9wVeP/Y9Zh6Z341UIfNOfDsbVi4nSPu57+6fcPQpi+iYdCi+NJjMgInAC2hOet8AaclwuCh33/fdkXlenhhpiZOYcrmMlJIwDOnt7SWKIqyxpLqG5wlGjx5Nz+4+brzxRi699FLSNCXwAyQ+WZpitcHzQud8JDzIfbgjP8CTEqMhSTIUUEtSSoFizeOP83u/dylPb3iW8RPG8vBDDzNx0kR++MMfkSQZY8aM4qQlSxDCSUuCwKdSaudb3/p7fvnLXzJ3zpzm2Slcymy9WkUJQRiWhtJL86TURmpuNa5Trdfp7Kg0e1pE0bpQoECBAm86vOlJd4ECBd4cMHgE4ThgEFuFWUccT0d3hSfXP8TKFb/guMUJneOORkrpejKNBFVqpmsCw+bGw6VJI2VKez+Godc4q8VG42Qcx/i+z8DAQJOIP/nkk2zbto329nZ27dqFtRajDbU4phT53HzzzaxZu5b7lt/bumeyzO2j0YzpKswChMXzfVeNNto5lDRepjPuv/9+Nm16HoDBgUG6R3XTs7uH+x+4H99XaKOJIqe91lpjrWXrS1v4wQ+u44orvpI3bQ73/o7rTirjKYW1AoGrcNt80mGtJcvyZFTj8r+KaWaBAgUKvDnxW1+LlCP+vRHvWCyp/iawt2bUN2I7sL3/ukf/qx7nvu/Pt6ps6bXPx1qLRZDioykjotHI7imMP+xYFh57IoEMuO/nd1LdthFELwR1EFWwdbCuSmyFxFqBRuwhE2kiD62y+b/mvq3F5JILk3+tpOKd73wnQRCwevVqbrnlFiqVCkEQsG7dOi655BLGjBnD4OAgTzzxBLt278LzBEEQ8OCDD/LxT3yC73736mYkvPIUlhi0QeCjE01cS1A4S0A01Ko1pxk3FqRLffV9H60NQeDjeYoZM6bx45/8mHKpxGc++xkGBwYRQuApj527dmGMprOzk82bX+C0007j7aefzuc+9zniNCZNM4QUCKHQGtrb2zE6tyU0tjlWaarBOtKNNij2nkTZqIY3tgIFChQocPBQVLoLFCjwujDkS+Khbdk1ndqUrmnHcLTvs27tSh5acTez52xj6sxjoDwe1xDZhrURtKSEGuFIJOCa/5pRoQ3N8t4JorWm+b8QgksvvZSnnnqKn/3sZ3zsYx/j3HPPpb29nTvuuINjjjmGv/7rv+aSSy5h7dq1nHXmWZx2+hKqg3Wu+8GP+KMvfIELL7wQISxJUgdhyMgYP348FhffDkMhUAgXK58kCWDp6u7CA2pJQjkMOPHEJYwdO5Ysy1h+33Iu++Jlzcj6Z599ls989jN8+EMf4iMf+Qh9fX388Ec/ZOkpS/m3q692jZTGIpvk2FXxu7q62fryNtIsT/+0tjlG9XodpRTjxo3DWkvgid9k5myBAgUKFPg1UZDuAgUK7BdGONmCIst1zoGTj4Ql6N9GW8d8jl80mgfv+zHPPfMIiISpM4+E0iTAYJEYW2ZIbCywCPeY2EsC6D4ghMydVhwBnjlzJldffTW/+MUvuPHGG1mzZg1pmvLe976XK664AiklDzzwANdffz3X/PvV3HbrHUyaPInvf//7nP2OcwgCD51pfD/CkgGSww47jCiMGBysNg61ibhao7e3F+UHzJ83HwtYq0EoDp03j1tuu40//tP/xXX/eQNz587lZ393FycuXkKiY8ZNHM91113PbbffzujRo/jmN7/JxRd/DGM0vvTwQx/QWGNAeIwaO4bxE8azdt1T1GoDiHzsdG6Z2NPXi9aauYfOR3iKDDeOTu/9613vAgUKFCjwxqMg3QUKFHidMHlB2oD1MPjoagqigt8WQlbimOPPYOPTj7Bl0zMYY5gwLSHsAKk8EB4ZElBILEbYXyuuXApBHMd0dnbygQ98gPe///0kudtHGIbU63UAOjo6uOiii/jUpz5FqgfxVQh4VAfd4wODA3R2ttOwMpw8eTJCWgYHB/bY56s7drnGzFLA3HmzibV2LidaI6Qj7LfechtpmpCkCe3ldmpJjVJQ4oLz3s8F570fgGpcxfc9sjRFG4MKZdOo0VXxnSNKd1cXAEmS5hHvJq+IK6rVKjpNmDNnFqVSQJwklIMgv1JvLfFTgQIFCrwVUPxdLlCgwGvAhdwoLKrFMcMIA8qiSiFeWwUbdEJ5MqVxx7Hg2PcQBaPYuuEZ1j98D1S3YtPtSFlDofNKtUEKm2u4NRqDzivNrilQuK1Fp+z2rRDCa25BEOB5Hta6xsooipx9HxBFEUEQYK2lVCphrcZTgVOLW0upHGKMcbpp4/YtkEydOpWPfOQjaJOxZs0TpKnGaIP0Iowx9Pb2cuQRRzB37iwQTuZCix98hsHzA8rlChpLEIQYbL65f1EYIaUi8HwiP8AisI1QACvBWvww5CMXfxTPUzz6+GP4vk/oR/T392MwrF69Ghn6vOPsM5G5HMe2/NNF+mqBAgUKvKlQkO4CBQocOITBSosRBi0kWngYEUE0DhtMYOFZFzBm7FQG+gZ55IF7EXYAU9+KogfJINLGYHVTo30gsfC/emOgzAnt3htkrRGuemw0H/7wBwlDj6uu+ha+rwiCAJ3G/Ou//iv9AzWu+MqXieO4ORaNiHvzK8o6rM2r/sYipCPdCMNZ557NcYsWcc13v8sLL7wAwPgx47n73nu4/57lXHTRRRx5xBGuMu4HhXNJgQIFCryJIezeWt4LFChQABhJhkdWT23uTAIu1VIKhY13YZNdSFnlyYeXs3vnNiqdHcyYM5/OSTNBlEF0oInABhghXdUbck9s2dQvj8TIRNH9JaLu78/b8MfdudbrNcrldr75zW/yla98hVNPPZXFi4/nlyse5KEHH+CrX/0KH7/00wgkdROjLAQ52848iRZDSaYNet9I4rXDxs8RbWstRuQOJSPGu79vEK0zznrn2QwODPLJ//Epnt30HDfccANvP+MM/uEf/xklJcZaOtvaUAy/Rqqg4QUKFCjwpkFBugsUKPAaOADS3SCNJiZJq/gyRWb9rHn4Hp57+jHGjuvmhKVvQ1ZGgxiFpR1ECYSf65UB4QJ1Dg7pdudrrSFNnWxk7dq1XHvttezYsY3uzk4++/t/wCHTppII8EsljNH7JN2t9fQDId3WDI259CKypM5AtcpVV13FY6ufACk4//zzOf/8C4njmDAs5cedS4BanF8K0l2gQIECbx4UpLtAgd8q9iej+M0qvva/9709Y+hnr6UTFsY60mgNWngomyFtP6S76dv0CA8/+AtUOWLhCafQOfVQ0GWwZVBlkCEI6Qh4i2f4gUpIDnR09+YXbk2LjrzVutBYhHHWfZknmlISYWyTdKfKSUxUPjkYysvd+3mIkfvPCXdD3t2Ye1jhnFsMMvctN00dO4DyPIw2e4yXGvF94dVdoECBAgcPhaa7QIECr4EDd362SLA+1pZAtoPXQcf4aZx8yhkktYTHH1rBqxtWA30g+8D0uRCdN5HLtLEGbTRp+v/Ze/M4O67yzvt7zqmqu99e1FJrs7VblmRbtrzJG6sBEwL4JRMnQEj4zCSEDPBOCCFMyCTxwJuEAGHCBL+EScAvBIewJDiAWRww4N0SxrK8SLIs27IWa+u9+y5Vdc55/zh1b99etHnBsn2+/ly3+i5Vp07de/t3nvo9z5MQxzHNZtM1xQGEVEg5GXH/RQhZY60bSxKT6hQpFWEYoYLAiXF96sydx+PxeGbHR7o9nl8oxxZH7QoW03i2hN3JR7qPbS+ZfF3r6dr9ZlzpOmFjCBpQP4wd3UNj4jC33/ZDjIk5f+Ml9C1eDvm5QDfILlAlEOFRx328KMEziXRPv2/WZE2jXQt4a5wlREmkhSBLztTSRbplFtk+mUi3234WxZ4W6dZYlFRYqbDGkqSJs5NIiVKTlV+nNxWaXpLRR7o9Ho/n+cPX6fZ4PM8JmfEByEPUgyikqBQuvexKHnlkE1vuu4O1tsGCJWcicgHWSITKg1W05XGHRvxFX5ZLO7tA0uG5FpPjEiKT189i6EIIObn97D5rUlKdYjMLSaAChJi99bvH4/F4Tk18pNvjeU458cv+bU9xh1d3utR8tj3OR3+mmWXvx8ZiEbbVqjyrt20tUgI2AWKaQ0+R64H08Hbu3vRDxhvDrFy9lpXrNkKwCJJeEF0gVLbzSQFqrUW02sCLqSObXqpvsu/lVKZHnDu3crykTNd+MtuoyCqYG5M50LNESdHq3nli52m2/c/2lSzltOPteH0rERN8ZNvj8XhOZbzo9nieU16aotu2X5klRFoQpEAMdgjb2MfYyG4eengzI8NH6KrO4ZIr3ghqCdAFqgAyBCmzBEPb0YhGPuei+6jz3LFhkx2ztFMTHp+p6J6N6ePxotvj8XheeHjR7fE8p5yc6J75cZxaxeNUFt3uZZMRX5jqUXfB2hirx9B2nEDWwQzxo5u+gR4ZpLs6hws2/BJy3goIKqBKGKuycaRZ10cJBCDUFOH9bIjuE+JoorvDD3IyKY2z7X+2r+Rjie7Zfvd4PB7PqYcX3R7Ps8hsdZ/hxMTycyG6pyc+Hj0C+9yLbmtTwKAUOLk6TlI7QMQYOzf9mJ3bHmT5ijWsWHcBYf8qkBUMebAB0mhnOVFB2/N9Koju9jZmuf9EeLoi2Ytuj8fjeeHhRbfH86xgMsEsp9lDpkqwozV9aWGteNbsJS3bQWfdaaZVt5gUodniYMp4zQmIuKnPmFl9RbbHAmCEQQhJYlOUTQllE+IBGNrNnl33sfOJe8mVKpx98WupzlkBso9mPSQXlCFfcjYT4yLerna1aFs6YGY+43Mpuk/ofo/H4/F4Mnz1Eo/nZJkhsCaFqrXWiVw59cnPl7fWGjtFxJtWJY7jjufZr/tsyMSxBWEipA1B5EBJ6JIsWmUIKimPPfEw9911M+dd8CqqCwJyuSpWh9CUCBkAaoa4lbblpX5WC4l4PB6Px/Os4UW3x3MytCtYTI0IO1yc2ApXKO9YtGLIs3WA7BToTqR2tvU+3nY7h+okqJllPBqLQMy4/2gB22dqXzDZfEmTHbcBaYWzigRViPLInoAF3RGogG0/38TuB+7kjLRJbv4ZiGg+tWaTQtgHVkxOSWdJQZtF0jmW8D7eDB6Ho61VfITb4/F4PMfBi26P50SxZOrTAtol9rXFn3C3TO6Z7KPVEqlOjhv3L4OrykFHMl7rebbTEy2nCG4AbZksldEhhQWC6UYxmzVwwc7iebYWi0UJgcAgXQVqbDZ+mx1Yai2BUEjA2MSNRx5dkhshsUa0a1qDdfaP7AADa5DtlUF2pxYQ5LByDoImC5ZtoKQiNt91O83mnaw7V1I4vUgx142VNTR5JJFbNhgBwmZTYpDCZLMsfcTb4/F4PKcU3tPt8ZwITj9mmtqCSEGmIEwm7mRbQBsCLAEgUcYgTYwUKdgUjAKpSFWAEZKWag87ys61sEJissd1dp8ULalu2sMiqxQ9WdA6e0QY190QAOVqSWf3GSsAQ0RCs16jUKq0t2OQWCStzuJKOgEtkwZmooYqliAMss6RKTZpIKQFkaNpc1ggZ7LjEWClIVYGgSFKTUcYWrrkSCFBCKxMsHYE0iNINYge2ctPb/4BVktWnH42S9dfCpX5QBeGHJYQabLMRZG2SwraKcmMU2PzakZI2qceejwej+cXgxfdHs+JMKlzXYRbxlhhsNJkdzs5J6zFCElKDoklIgGaUD/sxKasgMyRCkXTggwVUihC0+q5MplA2Yp2GwHWOtlt2raWrElM9lyByqLT0rViF5op0tPKrNNhijUGq0GaJgFjkMagKhAUQEQYEZCKoK3hk2aMIiafkxCPQ6ohX3Th8yCkPnyEQrWAnUhICn0YQvLt+bKgDHFogZRIm6z0H5nYzrpPZvtqxE3yOUWj/ij5gkYP7OGOH95Mzuao9i3kjI2Xo8r9GFsi1RHCFlAydKI7mwmXWNlptJkU1l50ezwej+f5wotuj+cEaOlEa8kEnsHIFIPJAuCKAFDGYoWkKSSQEjCEGXqSXZtupjZU46yL3kR+7nKodGERJJlsDjKfuETNaP4irGmL7km3iXu8ZRsRCGcNsRIjDJZMhFonuJUOnFtFNhAmhqZql13QAAAgAElEQVSGZJh7bvoCSRxz+Zt/G0pzQUVYERHLfNv0ksQNItsgl0vZ89Ad3Hvv3SxZtZ7zLriUpKEJA4EZHWTHzl2s2fgKNBHKhGAmkx5tYLHSzRsdCwc5RQQHYPJMjI9TqoZQPwS5BH34CX5y83ewOmH5ylWctnwtYd8iUlnBBD1Y8ggbIG3m2BYWk52jzrkCUCi80H7mTM9E8DPq8Xg8x8d7uj2eE8QIsJi2P9lZMVxIt2X6CHAiGSGBBiExRA1U8wAqqaNoOCVsDXGaoMKce2UmEi2Z3YKIllcbyISq6ZCobhAqWzIL4TzZ00W4EaAMbtVgDELEYBuuLbsZp2pGSEQK9SHId0OgEKQIYtKsfGExkm5J0RykUJEktg4iIU1qhJUyjYN7uecnNxFGIYhzUZRBFtxAMouJsMYtHtp2nKkRewCjNRhBqVhBT6SosI9k+ABhaREvu/Iq7v/ZHTz+8EPEExMsP9cS9a/AMEYKGJNDinDGNqf+7qWhx+PxeJ4/vOj2eGZhRk2RdqajcNHoLP3Q3Z22XNDOqhHAeG2cSjGgaQfJRU0KBRgZrjMeT9CjnJEEqYjTBJ1OoERCLpKkVpAmFkSFKCxmlhCJxGJJ0TYhTVJCpVAqwlqDJKAxUSPIRRilsCJEI9BYAiRCCdAxJHUwTedFb45Cc5CciAELYYhGo0hBKgIapGmKAFJjUUqDglK1jw0XXsFpS9YSp5ognSBfaFAoDtNoNEgnDiDzC5AygKhIUo/RSZN8tQK2jq41UCoAKUgtCBUiVGZlybpPGgMqCMAGhOX5oEcIy/1ccPmr2Hr7Tzh46ABDd93CJW+oIMMuIgTaWoRQWb9501EVZrrQPl4pxOdamD/f+3/mWOuSY1uXSOUMy86pzPEWYC/88+PxeE5dvOj2eI7DbP4rgSLAIAlxijEGmhCNgW3SGyYuOpwMg2hQyKWUcpIwsiBisE0iaxEBEAiwNUjHUUYQBRWshrSRQJBDhhJNE0WdkBqhiCF2CYkiigCFqg8TqF4IekiIqRuDkDbziSsQYxCPgEohMJAOQHOAnEhpaguVAlrXUfE42AQZhBSTpqtUEuSgEQOGQneBFblFICxRIQ+2Rjy0j4ocRakGASOYRgTlCIwgDCEsFCF+AiZGCII8xAKCgDAsgMmBiEDlXIDfGqyR7Qg55CAoQdgHacg5l76KHVs3MzjwJJtv/ibrL7qUqLQQVVyGjTVGKmQQHeeMzu73fslwvA5Cx0EIgezYTOsqz6k/k89+7XmPx+M5Gbzo9nhmoVNAdNYJ6YzvteLcGAONJuhD6LEtbHvwHgYGJ4iCHH3dRVYtn4+ojTAxOkAxSEA2IQERx9AcYnD/dg7svZ+xoQOMTdTo7jud05ZfTP/payDfgxUBJogJ7Di3fOXvOf+M0+nq6WVsZIRdu3aRNBKCMGTl2ouorLiUMOqiJAxSWhQGRvYy9vh2Rp56nKHDBxgdG+SsC86mq7eKrY26bo9mjEDUoTnGj//9q/QUBeeecxYPP7CVsUZCqspccNllDA7tZ9u2nczpXcX6S1/J+KMP8eSOuxCN/cwrF7jrmzeQ61nBhstfDz39QIw59BSP77ibsUN7GR+aQAUl+k9bzsKVZ5HvXYjNV7GyBDKPMAYpwKhWRRYDIkBSdhVTentYfXGZR+/5Hvue3MYj9/yYszZcCo0EUVyICvtmaMrOjpxmmjJ8hlW7f+EcLQXHCtEu9wizJYy2nsjJdQ/q2F8rn8CISaFtse2qO/IY2xVZmUnZYYdqj2fKE2cZb+dYpJh1DmY2n/IC2+PxnHp40e3xHIdM+mVkbW0sri63MVAfgfH9EO9j0x0/QMkmi+ctIalrDjz2BHLsEI3hfczrnZ+VuE7ANCAZ55F7b+PI/kdRYpyFC+agFsxhz1NH2PHAjxk4soc1516OkF1O2NhxuoMGB3dtZXeiiK0kV8hT6SszPHSQB7f8mIXjmiVrNhL2zAUaMPw4Tz54LwNP7IS4QW93lUWLV/HE7h3obaP0CeHK/Y0dQXb3QDJMXymmrBKOPHYfgZ4gpwKSpIZMJ+gqGUxzgK7iahgfplQsMndOH6P7H2N8eISz1m5gzHRBQcLEQczIQe772U9J64cphJJ165azd88B9u/dytDYAVadtZHq/JVoETibCa5NfKt8oc1+JiJCIlE2RpscKy+/ktK9IY8/+jD3b76TtesvJVQKcsVMtwXtRNDOGuUvJCPECWNbrTinNlWa1hR15r+Zdr+Y+RyddmwTiOPss9DeuHu8lfc7XftKmZV1N+6x1scGC2q2k9E5jtbm2+MxrVL3nHhc3ad8ejyeUwcvuj2eE6Cjlkj2I1MSMiU2R4jMHjbf9i0KhTksX72W6tKzoJlwpow5svVW0vEj1CZiJ4xGBqCkOfL4zzkysJ3KnB7O3ng16AS6FAuTEbZtuYt9e+8l3GZYdfGrEaOWRn2EAM14M8YUl3HBK98AhRKYCepDj7Dp7jvZt28bi09fglJAXmIOP87EU4+SzxdZc9lrYM5cCA2943t58M4fwsQYSRq7KLI0EGkCWWd0dBwj53LGxtdigiopikBpmiMDhFFAo2mg2I3Il5k7p8zAgR0EpR4qi1ZTmbfU1SRvDrPlru+TxmMsOeMM5q9eC4VeetbXIR7mlu98lx1bbuPCK/sJ0h6MDJBZfXMhJFjZVnNCGKyQpIAszwGtWLDh5ZT7F3P37bcwcPvNnH/Ry+kqVEGmWPIQFNFWoLNkV2lBZI1+Wmd0ZtRUT/t9qkibGVE9HicbcZ1dJLbGOVkKMRtXW3BP/mqyaLYSFtX5eGe7UWGw2mCNQlvhBLBy1SZT7cRyre5eU6u5PNxdjzYxqSRJLNYIwjBk376n2Lt3L0bA4sULKRZzlMpFKtUCR44coKunwNnruglDt3sVZNFuV20SCYQhNGPQBgLlngPuOEKVjReL0Ykbvmy5yCU2m4/pZ21yLqfOp+qcu2PO+4nmBHgR7/F4Thwvuj2eEyYTgi1ECiQEYZPxoceI6wOctuIyqnNXQW4eBBpGDtJ3zkYG922jWY+z0F8KjcMMDT4KjHHGmgug0gsyBDsExSar1y1jYmyAIwd3sfLImQRdpxGIHDpOyOWrLFt/GRQWunrZcpzIDlPp7aZ5uI5pDKGqfdBssnvHFpLGKItXngU9p0OxBxqjUFnIGeddwhN330Iz1a46ihCQWgQhqY2o9CyB6lJk1EWkIrCjmNEngFa8P3DHYyIS4aqtEJTcTwUTI/vADLNwwRz65vaDlhDkIW1CQXHBhrU8ev8T7Nv6cxZdfDpSyskwqpUz5xuJEc6vLZRAiIjyHM05F7yM3Tsf4L7Nm1if5ulZehYisIwOTZCvzgGpspY/ZEmwL1TMzH+LmV1Lnb626ERjtUEIRaCUO1U662pq3dyaFBp1OHAIDh0c4cFtD1Ov1/nJrbdRKlX53ne/T09PH8MjE/TPXcjEWAO0Ikk0NtVIKYmiCCMgThMqlRJHBg5QKEaEEUhlEVIzMTGMNoZLL7qU004/jeXLllEo5jlj9UrOOacfa6BnjhPaOlsDWmCiDvkcKCnQCKQQCCuxsnXcMruScSyR7KvXeDyeUwMvuj2eE6IVWZz6K6TIvGBgaA+JqdHT3w8984DQCczuPhgep9jdz0h9L+QCKCoYH+PAwd0UiyVyJQljRyCIIKhD2HTl8zLqjTGKfSnp4CCptkQ2oti9AMiDjYASKuqiUuglTfcTjw4TLmhAY5TDg/spF7roXbIGonmgumkIST6fI1oMTXEnDdWEQIKMoJnH2Hmkepi++esgvxhUFaQConZ7+6POUVh2XTcDzYGDT6J1nVIphxAhJMDgYUw8imScaq5IOjHB4b37WHRxCujj+I0l2ACyaDgoDA36l19AqMps+/lmtt76U9aN1OhbcyHVyly0TTEGwpYzX2ssEpEZkU86cP0Lo5Wa2JFLIIyLeItp0VaRlYi0AmMDLMK9KgwwoYsC1xLQTXcBYs8TsO2hIfY8McQdt93Hrp37GBgYIleUjIzvododUKuP0YzryLBI9/y5nHP+2SAMuTBk3bp1LOxbwOjoKCZNieMYKyCMIqyxFIo5mknMAw/cT7NZZ6JR5/Dhg+x6dA+b7tvF9/7jQXp7+hCEGC3RWtA/dyELFs3j1a+6kFUrF7FhQw/dvVCtQmqgmYC2kkAJpFIugg9g3bFKMdtiSiLaH1Tv8fZ4PM8/XnR7PCdK5yX67BK5JkXXxxkeOUKlu0gQ5aGRoAODlALRTKFYoVDpQh4+5MJ49VHi0UGsTTh85CnuuP3HWLmQplUMjR5mwYIuTGOAUISkieDAU4dZvnAFQbGITo0TnhpMQxOnMVFOIxMBRiC1JanXAA3pBNZqbCAhKoMsQRKiom5AQl2jpSSVklQ63Y0WJEZhZB7Z0w8yqy5CJsrtMaKFVoKKsmv9hsGhQ9Qao+zatYvGrjFSWQJpKRQkycQRGoOjzCsuQNsQxupgYwhLx95+y3Zi84BE2zIqTeg9/WwurczjgVt/yKMPP0QthdPXrkdV+1A2n7WsD1yy4SkrtDvsLsJOSWJsIYTFGIMQra/ubD6k6Mh0BCxo4awa23da7t60me3bHue73/ohuhHRqEnShqQ+YalW+lizbi1nrl3G4qVFFiyscvrS+axYFlAsuSkPFcSJ+3fO9VlCGIgCtx6zuMfSFGoTEObBmFejLdTrUClDomFsGHZuh5HxOg/cv4Onnhrg4IEBNt3zc/Y/tYcHH9iMVE3CQDOvv5sLL1jHK155KavOWMpZZ5dIO/zgLeeJ7DylNpsGAWQLERBZngBZAyl7Ci+2PB7Pixkvuj2eZ0hU6KbRqGOTFKUUFIsoWSCt15DGICWUSmWazSYTQ8OUFi8kKhZRgaKnu5ueuXPRtpdUlimWuuntKWMacyhFeXRc4LRFqyHfA8ODYKXbh5LIYpG8CkA1QAuMdtG8UrHkBFsuR6lcZmxsHKIQogi0cDYODGkcu5rLxt2wFlRCLBrY0AB1EA1QOUA5W4qy7hK/FFmYWICQCCGc39m2MuZcVDafL7Bw0SLG4m5UcS51a2k0avR1z0XOs1Topq5L0NXvouSpq4uRxaE71FTmxG55lwmw1hCVesE2gRQxJ89Zl76G+++5jb2PbSFtPMXy8y6GroWg5pPG1tlSJIDJRPy0COixFhXPCkePuLrqIxJrbUeEVnY+ASEE1hqwyiWOAmNjUCzC2Ah0dcPBQ7DpnnF+eMu93LXpAXY8uovxscOcvmw+OtEsX17h0ovO44orLmP50sV0dbmIsta48vEtIW2nViQpRU5YCzF7pRLjKkFS7cqGm72lSlkFx5yC8lxY0AdQ4I1XnesuoABDo9dw+JDl0Ucf44GtD/LjH9/JA/fvZHQ45sZ/20wh38WC007n3Msu5Ko3bmT9OqiWoFqE2ugw1WIZVECSQJhz24wTkFlyrm3bTKZ65I9f9cR7uD0ez7OHF90ez4nSjqC1fhpXAxvDnK55DNT3Ua+NU0gakCsT5CKnAOqDHH5qL/3z+ihVu130WAuwAUFQ4Iy160EtgqgbcnmSwUOEgXXX1KNeEAHUxqFcRKqse6VwSZxuTCmQYqTBKIEWklAEYCPSRJOTCuJxaA5DVMGkoyhVI6jmCawlxBK6tpGgBBqNUGQhRIMRWbv26QJ1xvwYyIUuLJoYorBIXQv6+uawaP7ZIMtQqpBONAgKEZCHEQFxCGGFeiMmF4bHLD3XiSuIGGCFBSFRRmJKvZx3+RVs3fRdjhx5jPG7Bjnn8tdDKU+gukEqJwazZMLjFw2cfszPrSfcWutEdVvcTYpDIyTWagR50kRQH4Nq2XUlTWuw+e5RvvaNr7Ppngc4fKiBkEVqjZRzzz6Hiy85h8uuOJfzL4hQAubMgbgBQhpyeUkUukRGt/bSaG0QWcMh1VpQyeOUgRHT73djnzyfAtMxnUa7NZpSMK8P5nQLVqxYwWuuXMH73/9mMHDnnRPcfusWfvQfd7Pr0cd58JFH+epX/5nunpgrLlnDO3/zTWy8cBm1JhQLbrFQr7ttRhEkKSCEW8SITrF9vDMx23vdC26Px/PM8KLb4zkZ2mKt1f5dQCKY37+c4aeOMLBvH/3RHMI5kSvFMDYIzSHS2iD1euIsGjoASnRV53Ho0EHGB+qUF5VdRDlNCef0wNggj2zfRqMG52y8xPkE6kMgG665TuunMC4aLRtYGZMoaKqAvC2CTZk3ZxGHn9rLxJM7KC0JQFcIRQJiGAaeJDR1TKrdtf/UgrFYazGtMGWn0JDHUyoGdA1yESSK+f1L2H14H4NHRlmwIIVKAGmTIK9AG+y+fdx/5wMsXHYW87rmUihUnTAS0iXLZTXmZkuUM8KAtK5Sh3ClN4wwqHI3pIZzXnE5Wzb9iKGhw9y3+YecveEqgnwM+fkIIufKONbhHHWB0XrRMxVgM5P7hJ1paW89S2R2CURAqp1LCQ33/wz+7Rt3861v/Zh9+56ie06RwaEBXnnlhbz9bW/hzDMXs2Spi0BboK4hyhnqtSbVSgElJToFnVqEtCgBFg3S1UsXQqCyyTJZJ0o31mnJm+3otwWRtBeCiNQ5zK1LvFVEYHPuyojCrWE06FSjpEQIt3AUwvUUvWhjiZe/4jI+8MHLOHQY7rprB7fd/jO+c9PN3PqjHfzr1/+YlWes4sKN5/Oe37uaNUvdEJSaNrjWe2nKfM5cO8x+Vqc3U/Li2+PxPD286PZ4ThgzTYwFWAzGFij2LieRD3Fg3xOUiwW6lXWhN9XkwLZ7GR4cgKCEroFSOQj76Ju3ipGRlMcf383Z81ZDsw4RYGHPju0cPnyY1BScYsJipUQToUWQXefHVadQCoxEmABNgCbvfNiyzMKV69m97wCP7d7O2XO7ISlDVxHGDvPE/fci4xibCNclMpZoDbGG1FpsCsIEyDR0KkVHKO3as9vWV4eQIAIMoRv40GEII1Ah8xevZM+u7Ty5f4BSzz6q86zze/f2w8gom++6k0LYQ7m77ESwSRHSeRE6G7Ec/Ry02hZlc0EAkYCogky7OfeyV/L4w/ez65Fd3HPrdzjv/FdTXJgDUUKIAEuEQWW+XzMpGmmJsqn7yZzMPBPRNdnAJrOSZJuWkiwiK7BGgXAJgkZI55fOutGYGNIYfvSDx/inL36d22/dghIltM3xuquu5NWvuYjX//IiwpyrJlkoQmPcopSgVquRL1pyYUShq8DQ6Ag91S6ksqRpCsYgMzUaZO8vaS2gZ4liH6uNenYTJkvpNFnZwtRdtSHBvdHdptO4iRUQKIUKwBjtnE4qpLdH0IwN+ZJgdY9g8YLVvOWNq/nTD7+d73x3O7fcejeb77uXb9/0ff79xq9zyXlncPUbX8cvvWEj1a4sT0Fm8ycnkyonR28x2hAqhUa794JoFQM3iPb58omYHo/nmeNFt8dzUrQu/WcfHSsxspugby2XvKHCz7//ZZ7aeSf7dt7NnN4+DuzfR6kY0tPTw3hahWAOhPMh7GL+qm7GJ2Dfnkf46Xe/xOmL5lPKB+zbe4jxmiSqLuDCy66Enj4QhrHxGg3RDY08FPqBCkY3Xbt5USZIIpr1ECMK2FQigjLMW8Pyi1Me2baJ2++8iZ5yL/3dPTx+/33MqeQIyRPlSqBzkESoch8NEUIQIiq9YApg8i5SqYvkbZWc6GKwFhOLEKkkgSgQFHoR8Sj33vI9RL6L9a+8ClGssO6SV3HPrT/ioZ89TFU9Qm93kdTA0FiDoaEGPWuXU+ifC/mAJNEt6d6eadHOD2yJICBre2Pb5QXdi4yEBEtKSBT0oVSeZcsVoY7Y89guHtz0Xc67aIxw4XJs2sVYMyIq9WFFRJBVCml7xo0FYbMqJ51+YMXTEd2TCZKt7WedFW3ojtXECOGi+zrzYFijyEXQMNCowcF98C9ffJAvfuEG4sYwRtSZv7DKe973X3jdVRex6DRIceugIIv0Gu2SGhFQrOYRwmKtm9eeald7XLLVkMiCkCIbpum4GmARHeOfXhl76tooqy5jo2mL1KyaiGh1GpVYaxCBRAqJkK5QuCR0gXHjJG8UZD5sA6VydkwFeNtbz+S/vudMntz3Tm688Vt8+YZvs/WBg/z01uv56099h7e+9c28420XsngJNGJ3sSgXgkKSkII1SBNitEAri9FghM4qoZhsxJ2LJHsq5+B6PJ4XAOraa6+99vkehMfzwqDj4r+VzhuMRCAgkIgoYEFfhdrYECOjE4zV6nT39nH6ynWElX6eHDD0L7+UoNDnosFC0LtoIV2VEvW4zqGDBxg6Moohz/zTzmbVuo2o0lxkoQtDjlRLDuw7RKHUx8Jl6yEoI5AuKjs2zPBQnfFY0X/aKor9S2hqiw1yFLqqVHtyJCZmcGiExx7Zxdlnns2itefxxJ6nGI7zLDn3Ssh3k8RNHt+zH1SRpUvWIeWcSdGNZuzIfvYPjGDL81mwYg2JVUS5PHGtxsjwGNIG5Mu99C5ahSj0EPXOY+HchahmxNhQjdpETKoDeuav4Mz1l9K/4mxEdR7G5lBRGStcNNm0kjSnWFraxfBa/VLcv6115wCZRYYF0kqUlVAsUy2VKGKpjw/x2BM7KBdyFPvmks8VSVIX3ZXWdHiPbdvOMTXRTiIImS4xT/g9A1kSpEuWlCJCZomJSZqijcVoSRJDoRAwMQHNBuzbA3/xka/zsb/4Elvu3YlA8NrXXc7//OgH+fCfvpnzL15EvgJGxIR5iVLOJmLQGFLXQEZarLBIlLOGTDc1C1yC7RTbhZgxfiei7TFunUkPAifAWz6S7LPSekZmX5FSItpRaDHt59QxgvNth6FzMSGhWoHz1q/mP/3Km1ix6mK6u+fzHz/8Dx588GG+/o0fsGP7MGeuOZtSwXm88xGMjjdw7xpJPpI0mk0CFSDbbebdzmSrfWZ2bIJg9rF5PB7PCSDszJZsHo/nqExaDawBjUGKGCEaCFND14ZQeelqbo8P06jVUWFEmCtBUGS4JihVegiVQKfjCOpImUI6QVpvEqgSpC5yjSpClAMVYoXB6Aa6OUQSx5R6F2MbKUJJCEU2rjo0U6zMkdoQKxXGNgjDOooRxoYPEuYq5MOCizbWGlCMwORo2HkEUYWACbQeBwxKVbBJkNUCNwiZgKqDSKnrgMQEFMICSTpK3jaRjXHQqavTXe4DIdGNIVSlCIcHQOWhUIBa7MLSURlKXSBz6FgjgwCCpCPGmAlwwC1vTPu3dpqh6fz6klgjQGgUDaABtgbUYOwQg7sf4cGt91GqVll25gZ6l6wmsUWCXI+rGU3kLCpWueos4CLdHdFa8bQj3S4yrLG0Gv/o1KBtjBCWKMqjEBgLJoXaKOzdC5/7+//gpm/dwv6n9jFnbp73/f47eM1rNrL6jBArnIVkZGyCUlkSqQKgnTXITrVDtErmqSwRtLWYmP71P/PPwfGqeUxn+tzMPlfTq4bMOp5ZTPeddiMh3NaT1A1LKtdMJwjhyd3wlX/5Hv90w00MDqaEspu3/vrV/O57NjJvPvRW3TKgkboSiPWkSRQGCOTke0oYlNB0XukQ5I56TB6Px3M8vOj2eJ4m1lo0GkkKIsakManWrvufgjhOyOeqaN0gNRCEecYmxiiXygQIEpoECHSauCQ2GYEJwQQgVJYApjIfsEEoMDYmSRNyKo+JY2QUgUlIbYoRTtTp1BDmSiih0DQRtg5ijDht0oyhkKtQVEXGjxyiVC0wFhvK5WUAxLpJpJyI18ZkfudWmTWXIOfqMgdoawlFhKZJjoBabZhiEIDMuzraYQB23HWg1CHkS+46f5SHRFOfqNNINd29vQgBjTglLLh923bC2omLbmElQmcZgyIGEVObOEI+jN3CpjbI6IG9bN3yM5I0Zs3Z5zB/9XqQXa5yjC26aiiETnRbiZhWSuXk28C33isaIyRGg5Quqc8FVA0agUkFVjsP8mOPwF9/7B+5+ft3oHWJ/v5+PvhH7+Wyy3vo6oNCZrGIIjfF9WSCQpgnNrUsEj9TFL4gRTfMEN6dortlk1HZfYmGOE3JRQFJ6trXj4/BP31pC1/8x5toNGs0kyd5+2+8gT/4/V+nWoVcEZpxSqEUkKZNgqz+eRAojDHuPSdbwlsedX49Ho/nRPCi2+N52qRYdDuKCc4+YDp+d5enJyseKGOyhK6sbp0FsibltlWOrhVdE8Zdgs+eYwmIszbYoTFInUIQoE2KDtUUl61yNSeAFE0TSwwYDBHKBoQ6QBpcFRQCtC26niotq3qWSGhM4sZhZDvyJ0kRdjIZzeAqjmADBBHCBu75uO1bAdbmAdDo7PiyQ8288UIKVw5PdLb8lB0u2mzh0Xp0uusBgzXK7TerN42MQaWZAG+6EHLSwB56ks233kgcj7B0xWoWb3gZ5E/DUsGKjmZA0K7bPcONcRzdNZs0TW1WIi/rZZMaGBkZY05PhdERGB2E6z+/hS998RsEUlAqw6/86it4+zteTe8cZ6NIMmv55Hha7xORna9pi4RpaTtKHO/rfrY26p0bPI7onlHn/NgTdbKLGD3drmOse+9kj5lWRSFAGoVpQjGEgUPwD5/7CV/52tcYGWqSj+bwG7/5K7zzv1xMz1xXVEgqd3hxbCiXJNq2PN2TybtP90qHx+PxgBfdHs/J0bZ7GpzoTrIud07cuMv6ZmrVjUyIKAvSmA6brEvINCLECoFpVYsQSSYUU0RWPs9VDImIkQgLobFt4WkEpIFwpb8zYRoikKZlaUhJ5KQtRpmQQKvMBd1w4zMRCEhDt73JZMY6whqwEdKCkgmCFGk7jkO0qmwECFuccj/Sbd/YKNuudsfXeoroFIWmw/V7cqIbYUAr55duFZ8QGqTG1TXPxiwCGN4DyR623n4Tw8ODLFq2jhWXvBlyfaBDtAjcuGyr3TwdzWqy3Z2k6G4NVxsXkS2E7mejDuUyfOOrT/KZv7uBbd1FingAACAASURBVA/tYd7cBfz6r72Jt79jPYtOc+Xv4hSksihl2l7oqePJrhBkX+cte8mLT3TrWe+32WMma4QjAWEDciIiqbkUiqQGE034ly9v5X996ktM1MZZsrTAB//4d3jtL60l0ZDPw/h4SqUcEIXZtm0rmRbErO3mPR6P58TwotvjORnagjIFYicigVYJNFd2LO2IjDnRY5AEFqRuiVVXxcFKiRYu0i0tBMYAzhrhmt8ot22Tx6KyznogjZwmbi1autQ5MESt3C9c+mGSBYAVBmkDpAkQFgQNMMaJbmkg1C5qbVxbPytqbhe66DYmY9xiY1KQuqNLM8GVg6ziiBEx0MAJ/UpWjqQBIsUi0VK2RtSe3qnpdCcuuluLnPbVgizpUmaLo3YjIxtCcwTi3ZAeZvMdP4Ikpa/rNJaddzl0zUcrlzgqROSEtw2miC1r7QyxaIXA4hZCrUWL6EgbbEVirUvzpFaDSMGh/fCud32KLVseItZ13v6ON/J7//WtLFwAhbx7zvhYnUIxJIoCTKuySTvB9OTsHtKe3POff9E9dX/TI91THzeTn0cbIU2AVDAy1KRcziECGB2BXA4efxSu//zX+Jd/+nfKlTLLV87jI3/131m6qkSxBHETirnMIWVplw6cbjN/unYjz+xMlyN+fk99ZpOQ/rwdHS+6PZ6TYYroTjtEtxOhmoSZQshJPye6s21kdZCNcBU3DBKJIdAGbOrErciyw4icPcMK9xguijdVdGtsJroFoKxxyYrZE1Ips0i68ydMEd2t5wog0M7+YvLZ4TbdJkze2VxEmu1nquhWpNnjTpxq2RK7MU50lzPFUgPhPNtWSKwIMzktO2aqU3RPIjrmdTbRPft2TPvfNrUIoxBCgxgARkEPsuWWmzm8dx+9cxdxxsYrqMxf6pJHbR4r8k54y8xWYCUYV9Vkai1x0VGD20n8lrGoswbI2IQ701LAZz5zB5/6xBfI58r0zSvyVx//EOvP7yZXgGoeGmlKXgWuEkkaI4OwbR/xonvq41nLpMzqJREmcmORUK/H5EqKNEkwBIRBQG0CdBO2b9V85NqPs/2RrZS6Qt75rrfzn3/7dfRUJ2uUGA0yKx1pp13i8OLi5LDW1UVXwexXDLzofmFxNPnoz9vR8aLb43lazGycMnlpv8OznCXkOcHb8mdP4oRb5+PZ9tpdL1tVPCb/2It2FLsjjipwFU5a2xECOvy9VkwV3S5J007ur71xM21/k8fnuhBaV4JuFnHW9p6Ljte1RJoNssdNxz4mj729++OUY5NHFZnuETtNlM0qMq12iw0moDmArh/mse0/5/Hdj2AEXP7y11BesNa1p4/6waY04ia5qAQ2jzBBW/Vb4dI7rXBH3F5TkZ0HDDpJCIMcSdMd/s82w19/7B946OFHyEWS9/3+O3jrb52FipwNQuLqgwvrtiEz243b38zjhmMkIk6br2f+x/DZSaR8ZvuefQwWN2eu/nlmTxJZsm0rV8Hq7OqFBJNVOnkMvvlvP+Bzn7uBwWHLBRdfyAf+8LfZsKFIMZ9ZU5p1lBJImaMd925/mDuq27Tn1/u+Z8NaS5IkRFE05b6jv3+n4sXcqUPrqhsc/bz48zUTL7o9nmeJX+RHaVJ407ZzTHlciF/oeJ4t7HG+pI8luuHo52CylbxBWO2i/DYFFUP9AKNDT7DvyW0c3PMocb3Ba994DRTnuPac2rJ161bO2XApRAtAliYj3wRoMSm6WzcBoJ2YCITL4Uyb8HefvpvPfuafaSaGDeefxUc/+m5WngmFKsRmHCUDV4VFOLtRK6LvRXfn/o8huo2cOgfZFYHO8986bxiByvr0jI3CoUPwJ3/yeb75799jfn+Va6/9A675T2dRbxj6+rPjMG5JZWcR3OBF94kSxzFKKlSgGBoaoqenB/Ci+1THGMPo6CiFQoFcLoe1dla7XQt/vmbiRbfH8yzT+ZF6zr50ZiQSPje7eb44djx79keOhW5VoSB1zzTCLVwU0BgCO0ZaG2Dfji0c2LODSNQ576JzoDFMY3iI7du3s2TVRfSc+0YI5oEqgIiwRFniJe2W7tZOesyNhLgOQ4fgd3/7b9n20OOkSZ0P/+nv8K53X4iVzpHTaDaoFvI0bZxdqchsMtl5br2PZr6fjifujieST5ZTQXQfnWP+Oeu4eqSNwhqXdGu109JJCuM1+Ndv3M3//tQXSZqWDeeu5jPXvZ+Fp0OiNSorp9ne5IzShz7R8mjEcYy1llwuR6PRIJ/P8/73v581a9bwrne9i9HRUcrl8pTXHK20pOf548477+Szn/0sn//851EyK0EqRbuSEBzr+8rjRbfH80LEi+4ZjxyLSdEdIwFrQoSVpElCmA+BBtQOQTLK2O4t3HvbvzK/O+XMJd08vmMrlWKVJwc0G/6vD8KctaAqIMpYVcGgnDh2/hbXqVQ4R/vAINx1134+9Ed/SX1Ms3LpafzZn/3fbLysTL4M2AZKBUDgBCAGTepF99Pc/3H/nGV2J0MAVrg577iZzJV17z11/ueff5Ind+9DySafue6jXHL5YgoFpn7WhMHayfM1XXR70TGV8fFxwjAkl8vxsY99jOuuu457772X7u5ujDFTbCfgRfephk41E7UJfuu3fgulFF/9l68CTnRrrVFqah8Af75m4tvAezwvBl5k323iKLdjPXIsZFb0T2SJr4IIIySogBSBFhYZhIhUkyvnmV817N/1c8zEPiIzQiAaqECRNgXF+YtBhRAUski3yvzbTtMZC3HsKmB8+YsP8aE/+guaySjvfs+v8g9//59ZviwizIEgRgjtumga5ezuCOfnbh2ZmNqKfuYfsaMde7YCmJHKOf1xcZTfj8bxYjQnOr6ny/HtB8e8Qdb8vZXomv2UrjSjEK6O+qLTQ972Gy9nbDxm8+YH+MqXb6G7cgbr1s0D4ZoYWeMSZg0GK3RWrjPbg7/cPitRFDE+Ps5PfvIT3ve+9/GDH/yAlStXorX7XLZEG8w+Vy/1+TsVsNZyzTXXcO2113Lg4AFe9rKXEYYhaZpOOX+z4c+fF90ez4sD/112ArjCfQBGBFjhJLgRYNAgYhrjR4gYJZjYSzr0GKp5kJ6CZWJ8iFwhT70JXXPmg8hBqRctcliCtugeGUsRSqITePe7ruP/fPYr9PR28Td/+2F+57cvJhCghEbIGIF28s8Gk3XARValJTufx4/0He3E22mPTxerR3vcdtxm2/Z0AT9d1D+/ovvEX5+NudV9ypXecSnEwll+kHDe+Wvo7V3Ktkee4uabf8pjjx3m4gvPo1qCNG157AWumpGrbiKMOInz99IijmPq9TqXXXYZH/7wh7nmmmsAkDJb/tiZC81OXurz93zTaDQIgoAoirjwwgt55zvfyZVXXsnSpUtnFd3+/T8Tby/xeDwvfiwuDG2TLOkxwCKzSusphgZ5RsjZQzDwKDt/cAPl5j66xBBx7SDFnjJDNcm4WMic5VfQfe4vQfdqUjEXY4uExoCVNC0cHoB3/+an+dndWzn7nOV8/FN/wpnrXOJmIczM31NqHqosMZOsMkyHhUIe74/WydpLXOag6ahK4/4/W2UQeZR/t543vcrNbPuazjO1m5hj/HYyezHtSjfWZNXgbQAmq76TJcaioNaEW287zP/47x/niQf38PJLL+crX30vsYZCF5gAhJoAYRDkkEZNXl6fdv7US3x1bK3l6quvZvfu3WzatAklFVJlBR+1QcijC27wou1UoFarkYtyqEDx3ve+lxtvvJFt27ZRqVSmVDQBL7pnw6dYezyelxDTyi9mBoG26BSSe26/nfHYYqMqEzokKs1lbCImCCXVomTv4w9BYxA7PuDqoVuwVqIN3HP3AK962bvYcv8OXv/61/K1r/8JK5ZDIeea3bQa9bgMzuw2pbLGyXiwT+brOyuhZy3WCiydt0x8ots30K5AtenICm3PXWtbop08asykiJ3k2feTt6olWCuytu9Tb63/TgrRMfdZ4Nvd7yoNWguXXTGXb3/7E7zuylfzwP2PcMF5f8DuJ9wUuTqR+axMYYqRCZOlMsXU20uI2eJ53//+9/nWt77FJz7xCaIoItUpRrvzejzB7Xl+0akmSRLy+TzNuEkcx3z84x9n//79fOADH5jy3DTN+kn48zkDby/xeDwvfto2AJGZCFTb2xsgCQlRSCyW01adybwFixiaaFBrphgZIESITgVBlGe0EVNLJD2nrUaEc5mo5bDATd/ez/t/928YO5Ly5qtfyV998hq6eiFXaOkti5VZea2WpUEKp9XaFgdHK9rqEvMmvesuYe9EfOzTPN0tTZlt2IqWNBWZ9E5oVxm3pu2Ad/XcBdaq9hYtHdtpV2xJ263oO60pYsbCwE67ndgfZWu1E7KZDURb15HVCI1pH4lt13lvTeXR/+hn7wObCT3hOsQKIdxxSIsUzrMdhpBTUC3Am3/5fHY9OsH2h/fx7zfexjnrX8G8+QKhJOO1CaK8RQrj5ldIJB2dY8mm9KSP/oVLq5xckiTUajVe97rXsXHjRv7sz/6MZrNJLpc7qhVnNryIe35oLYqMMQSB64wbqIBcLkcQBHzyk5/k6quvpq+vzzVAMoYwDIGpeRYeL7o9Hs9LilZU1/0BcM1nRNYP1HXJRISoUjfdS85gzvzTiFPJyITGRmUSkcdGVUaagnxxAYWusxgbVfzz17bwxx/6JI0R+Oi1f8rv/+FFVLtdgh5C0ymcbbuxDs5TPBttIfJ0OyBO81h3lDNsCT4jXMRYkAnF9pMy0W2yMVuXYdgZqBVisjxYo9EkyuUwOnHJhO2FwWyi+ygHeiLHI6xrdJPVeDHCZHYc14XSPeJKQbbqmp/YfE0uYkRrdrJC+FZYlHU3mW31ql9ai2Uxd9/zc/7txm+zbMWFLFpcolItkJgUJTUiu4ohmX7+nt7RvxARQtBoNNo+4Ouvv55vfvObfPrTn2bVqlXEcUwYhidV6cILt+eXVv8HmX0vJUnCmjVr+OpXv8ru3bt5y1vegtaafD7/PI/01MV7uj0ez0uW1tefEc7bq0WKsE0UDZStgWiArUFjmNqTjzAy8AS7du1CRXNJg2Vc8cY/5Mv/tJU//evrOXhgkC985m94/ev6iIpQqIA2FkQCNsz2aDIR7pguqqfz9EvQTfVsd+hpV86w3ZTUIGxKIAXWOiErjEHZoP16i8Qo1RblLTuOMQkAShao12vkC/ksbt6qnyjbkedJnl5JQXeesm6mVjsfvsCNLRPDLVEsLSimli6bPivtpkId3WOPRavbqjaQxoKxEfj+957kz//H39NM4M//n//Gr76tH6ugUIhdfia0RzbpnZ86nhe7v9MYQ5IkBCpg/bnrCYKALVu2kCQJYRiedAMvL7qfHya7LU89X63z8b73vY/rrruOnTt3umo0WWnBarX6Cx/rqY6PdHs8npc0ziPs/q2Mcsl0BECIVN1gI1BdmLCb7sVn0Dd3JVb0EwTLuPPWQ/zJn/9vhupNPv6//oJfect8qn0wPp5QKCmsbTKjdF+HjeR4IuJZi3S3DtA6NdgKYptUYwVIGWTRf0WSZlFdEQCqo8qLzUSjiwLLLOqljSYMImw7icpk4+y0mYip45k8ohM8HjPFe+2c284SYqybU4nJEhVFO8I8fb46Zj77/4mJPudO0ljRJIxCUgMrVnbR13cmd9y1hR//5F76+89j3bo81iqkVO0xTfr4W/YXMXW7L2KstYRhyA033MD111/PRz7yETZs2ECapgjEjETT4+FF96mFlJJGo8GKFSv4whe+QJIkXHXVVWChUCgcVaS/lPGRbo/H85LEie2OSKcxSK2Aln/YiTvTUVEkqdfIUUbYCjf922b+8f/7Dk8cPMwffPT9vPaqVXSFoAQuui1SpLRZgp10No0WWbT7FxbpbulfbUnThERBakBlEfhQCcIsuD3WSJAW8mGIEM68kZURp20/NxarNUKIzL8p0MYlEEohOGqzGKbX8T2RWG9LuAKkJFqDyNGINTJ0/mtEjEIgCZBIF+m2ctZI92RxwGM1W5o+BLdwMpnHxmb12FMDN3x5N//tvf8IWvCZz76bX7lmIY0mVHtABg0krfeYyx441jG/2CLfcRwDcOWVV7JlyxYefvhhFi1ahNEGY50/+GTwou35ZXrEO0kSlxCbprzsZS9j586dbNmyhXnz5hEEga9eMgsvts+4x+PxnBTWGqw1roqfJRPHEmyAIUCLiETkSahiowWISoV//vpD/N4HPsl923fw99f/LW/65VUol5/ZFtxu4x0l9YSevD1fWIFOI0wckQ8jAiVAC5IGJE1oapAqJE4scQraOqGqs6sBVoNJnEgPbIBNFYIQV6xAIkUrmTLbnWn5sJ8NnGQeGa4T6IiQAibJIyhgdECqLcbYjoj7bK9243zadGZASiCAX/31JaxZvZ7urhX80R/8DTd+fTeVIoQKIMC0n/ziZ7K6jLtprdm5cyd33nknGzduZNGiRcRxjLFmip/b88JECMHw8DBhGPJrv/Zr7cZHQggmJiba74MW039/KfLS+CbweDyeoyCEs1JYGbjMR6kwIkLLEC0CtJBoKdFCoC383XWbec+HPkEtLPGhv/ojlq+NKETQWwRpLVIESPJIIqZ+xZ5sScCjM2Urx/wb1ipbYsDAxAj8n+u+xarTf5U//9D3qI0BGj736duY3/t6/vKvvkQzhVIlopDPvO4CWiXwAgWPbjMs7HonF63/YHsggsDVubaT/mXIGg89DV01daYydZvd+rrm8Td/+ROWz38bn/t/f4RugkhL/P/snXmYFNXZ9n/nVFVXd8/KDKugCAgioCJuoBj3NWCM+xv3fcnilhg1rjFqjNFEoq9f4haXxBgT4+suiiJRQAVEEUVBUVZlBpi1l1rO+f44XTU9wwCD4krfc9U1M91dVadOVde5z1P3cz9+xsGWSaR0iiY7HSHj7UcoJoldapsxdEFIhWNDNgc1PWrxcg751ip+fv7v+L9/LzQJndq0WeEU2t+Z37lax//fbHQk2R2RSqV46qmnCMOQE088ESEEUpZoxzcVHc/n2s5r5EaSSCQoKysDYP/99ycIAu69914cx6GiouKrbv63AqWrv4QSSigBQy59S+BLCAUoIYzbhLZRykGF8MZrea699nacZIobb/41J54yCjdtyoILVZCWxJBtUfM1yPfaYD4bOQgWOwmqgtTDp4hnh3RKuhWSsLCo4v1rCIIy8n5PEqn+VJSbyLXUPehWMRitygkVBbs8gyIJurHuDiSuMwChNouLOuooqVHIQpqlRAvL/F94DR2RzuKlfftjC8LirlKAKqyvLRpXg9S9SLkDaGoUhCG4CSgrS0c1JddctIx13tFxmfqkXZ8RaGGaQTQJEYp8mCOVhrLyJLl8I7+76Ur8IODcsy9h9gzItGAmX1rG1oad49tFtteGzgjbfffdRzKZZPvtt48TKB3HIQzC2FLwq45+burR1o2FlpYWEokESikGDRrE4MGDefnll/noo4/WKJRTgkGJdJdQQgnfYai1LkLoosfbpkZjYEFgG5WIrcEWISlLYAPvvAWnn3gp1W53fnvNBRy8Xz9sDWnbR+MTCg8hQ4TU8SJFm85YYhei6m1LGww5lNJ8Ulg2QkvDfgtFQ/J+jjyaJnJtN25hJB+h33a4qmAL2OhDqwav8FboGdJsJSoJUtW0iAQZHywJCZ0mn3Hx/TL8AAJttmNhJhK2Ftja7MdNQCJVi7bKyLZAPpPDcQDHTFiEdMn7AaG2SGCjlYUKLXJeUTuBfKFhDU0Bvofx3S6M0xbQtLrJdEsrqEYgBwibpAuWLCMMLHwsArvgyOLnCPKekX8X/Lf9nA8KtBfiZ0MsoLG5FQU0NjW3u1IEynSmDteM8ElRsEkMETIEFFJLHJnE88EPmrCTDfzwWPjd739GWaonpxz3K96Z3YQNRvaiAzQKL/TxwjZ/cZMUaooSdbxKN+R67tqy8VCs711bRPT999/n3XffZfjw4QwePNgcgVJm0e3bEwSmUI7v+/HviJRH31OlFGEQxoVaor+LX/M8D9/34/eLyV9TU5PZTlgihB2xNoeS6LXOXk+n0+Z9pUkkEuy3335YlsULL7zQ7olGtG7Jr7tEuksooYQSgIKUIvo7ctoLNa0t8NkiOPe062lt9PjhYQdy2KFDqOkGtvAReCidR+vIpeLzk5wgr8hlNITQslrS/BnQCkELWCqFhyCfT5otF0xRmhrNfsIAshnI52HRZ0ZhkfFMMDwAmlsVfgiBkuS1TVaBH4IKQPkC5Uv8QOIH5vUgLPiY67aq9akktHiwoqGZVi9BEEBZKklTKzQ0w+rVCTwtsBJpcnlBa07hSkGmySflCvIeNDVDQyO0tsKyZZDP2QQFnbQuSOG9IKS6WyW6HsiZuYcOwGuBlmZobnIQdjl2Ok1oQV5B2k3ihS71KwMCZaLmTtIBH5rqFU7KItCQTJnH4ZWVFcTGfl0OfK7lvIoAZAvpSjjp9OEc+z8/YPGiT7ns4j+yYjk0rtIIkuTyHknLIWlZ5PP52C++Pb69w3Kk4Y+WWbNmIYRgxIgRWJZJog3DkDA0eQ1BEOB5XkzQ/MBEwv3AJOhJKWPiHBM3KZCWNIl6UsT/S0vGUXQpJJZlYdkWUsqYjJely1BKEYRBKdq9kaCUil1oRo4cie/7zJgx42tu1TcXG5Y6XEIJJZTwHYMQAiWM27NVpGvQEkLfJZ+B/znyVpZ90sQRR+3Ltb/bn9WNoIyvB0qHHaQTRVn6uiNB65xQCW28QUJtrPC8DNTXw+23vsqLE1/l0+WLSFa77LDntvzs5yfjbgW11aA8SLqShpXw5zvf5ImnnmHG7Dn07DeAbbYdxA+P/B4/PHwwZUkgbbwzXNeNl2QCXA2phEsyYV5zkpCyCyXQA9oSBwU0ZKEh6xM4EruiNzPegnvufYyX/vsKmaCVnXYcwk8vOJExY2pJ2IJKRxDmICkc6pfBw4/N5bHHX2Hma29hyRRbbD6Qo//nIM6+YBDNDVDrAgpyrT7atlj4Ifz1r8/x+LOTWLW6hS37D+KCn12EFn34tCFPFklewwtPz+EnZ5zLFltsw/899hdCwIm6OgQ/47D1ZuMo66P42yN3s+XAPqiCjEZoXbBU1F2OwpnPdXBGEYqWDFgVcO2N+9GabeA//3yVHx3+v/znmXPJZ6CiLElrPgdCUeamCdEFCVLB1eVbFgTUet2Jss899xxSSvbee29Dpn2/3ftR9cIwCFm4cCENDQ20trbiui7Nzc3k83lgTdeLyDWnYwRWKYWUhnBLaYi5ZVkkEgls2yYIAnbZZZdS8Za1ID6fHW5TXf1ejBkzBsdxePnll2lsbCzpujtBiXSXUEIJJQCm6LchP0qAKiTjXfzzv7Ji2UqGDxvIDTf9kFBDdS2o0CMIffPIdA3d9ueD74eUl1k8+X85zj7rCtLJGlJumnHjj+Std97kpednMHvWLO7+8xXsskMPHAc+WgA/OW8C77y3mIoqi3HfH09js8cbr8xg9ozX+ei98Zzzk3H0qcFEsaNH72FIGEIYmohjGIQEgXktKGjJoyOSFNw/FKTKHAJbs3jFcn58wZ9oaVrCHt/bi+ZsC69Nm8y5Z17O+RedxGmnjCbhQma1kbCccdqNPD/9XSy3ip123Jnqilpemzab39/8/7jvUXjs3zfRswzwIWUneW+ex6GH/hgha6jpVcNB39uHt998j5/87Br6b7ELbrIcJ1VOSx4GD9mW7j0Hsbo5xUcLoXsN+ApkaPY95b9LQfZk5MgB9Ovfh8AHdEDCttBKx5UiYwK3Ho4RRcYlbU8BABIJSKegNQNXXH0k899bybtzP+K6ayZyxTUHkMtD0jWEL689LF2wVetgq/5tgRBRMSSDUJkItm3bhGHIrFmzkFIyYsSITte3pIUlLbK5LFOmTOGMM87AcRyCICCRSLDbbrt1KmNRShGGYeyQEn0mn8+TyWRYvXo1mUwmlqhE77uuy8SJExkzZgy2bZvqioVourTWtJjcFNBR+qFF+4lMGIbxU4r19c+AAQMoKytjwYIFrFy5skS6O0GJdJdQQgmbLESBPVkIFIIw8BB2glBJmhrhmccW88yzs6koS3LPfWeSKjfrhWEehEIoiRCWKYusrTb6UWBiXS5lIwAtSbsJli6CSy+/laY8nH7Bfvz4nJ1Ja8hl9+LBh9/h5t//nisv/g3/fPhWJHDllXezeFkLu+6+I7+98Vg239xEqBd9eDInHXcVj9//ImN3GkmvffoZfXNMXhRKmSBv9JotJZYgXlCFgxDmKUB1GQR5wPJpzC1m4OAEz758IwnHxGoXvn8shx92CjfecB+7jBrN7ttBMgHnnf8kr89awfAdRnD7n3/B1v2hpQF0cCjn/vR/eXHa25xzzi38+4ELqXChoR7OPfNqPJXglDOO5Iwf70xlJeRbDuL/TZjB7X+cBI5kZX0TqSQkamGvvfbhbw++wsMPv8j2Q/ehvAbwwM/BXx9+mtU5i3N+ej6+b+ps2kVZr1obPYooyBzWKj0oPqF6zSL3WpmJTVnaRNrv/OtZjDv4Yh75x/NsPXgYp5zbj8ZmcFMaYYGSyuiAouJMmvaZq1+YhW88qYpSCq00lt1GwLTW7Qrc6LBgyiglH3zwAQsWLEAIQb9+/UwUumOxp8K6tm1zysmn8NBDD/Hqq6+apzDJJFdffTVjx45FStmprngNH/bQSB3q6upobm5mwYIFPPnkkzz++OMsXryYfD7PXXfdxR577BHruhVGXy6/xbKez4u1XedBEBjZSMFtRiuNtDovOFWMhJNgl1124eWXX2bGjBlsueWW8Tqb4oSmM2x6V1kJJZRQQieQKKTQeJkApWDB/Cy/+c0EKisruf/+39KrD+SyGj/I49gOKSeNEE7sqrExkM/B5ClzqW/Ise3OIznzwp1RSbDLIV0ORx81cJaSiAAAIABJREFUgp1GDaK2ppJPl8EnC2HG60sQoozLrjiW3v3AcsCxYYu+cN1V1xC0Otxw7R00NRb026FJZNOhId1hWEhQU2HhPePP3THXTGrINkBlAlLJJKlyi5tvvYQefaCqGlK2ZsjmcPZJJ1Hu9ODRR15F+bB4Cbww5R1Uohs33PQL+vUH34Oe1VBTCX+4+VzK3CrefmsJ8xfnacjCG2/k+OTjVvoPGcL/nLwzldVgWeAm4Wfn78TQoZsZx5KEQ74FenaDM049kW5VNbzw9CT8DLTUG5373A810+e+S3X/vmwxpAItQdiFqJ5un9CnlVqrz3fxlVJsSWg4sir6u+1j3XrCnffegFIBv7/pDqa+7JGwINOijM0iyujBxTd/MJbS6KbDoM1nvjMSHJGrJUuWxNUKq6qqOrUKjLTfjm2KNN1zzz2k02lyuRzNzc2ceuqpZDIZwDhlrAtCCEIV0tjYSM+ePdlqq63YbbfdmDBhAnPnzuXGG2+kV69ePPHEE3z00UdmHSnI5XI4jhN/LzY1dJzM5HI5wjDEdd1YlmPZVpdIs9KKvn37EoZGLlTCmvimf89LKKGEEjYaVPzTWcqjxLFdLG3TuBIuuOAa6lcv54JfHMcuY40tYGWlwE245HOapmYPlIsURVUGv0jxm0LxmZdemkomaGX80YcgXUgmQTiQTEHv3vDII1fw4D+uZYv+MG1aA9lMksFbD6HP5lDXBJ6AT+uNvGLwMHDKKlm8wmNlc6EKfMENRQgRu5OIQhVJIQsF2wv1XHTk040hlGkbgibIrfYYOnAIm28GXiZPlQ3dEoKeZXDYPnuh8/DGtHdAwbJPNR+uqKP3wN5sMQBSDlTZYOUgKaF/Txiz445kWzUvTJlDXQvMnP0pQtaw9/57UFkN3VJQYUNNBaQlHHvEIeQbV7BZTQVJDSoLW/SBwf170li3jFlTlyI1tGbhkSeeYbWT4Uc/OZGgYMUuBHHlTBm5yciiZa2RubUMmQULwXaBaQFlVbD1cIvzLzqBTHYVN/7uNjIZ0MIi8DXG3NEzWxUmAi/1V+M+0hV0RqqzuSxgyFlHWLKNnL3//vukUikGDx7cTkMdJT92tvTv358JEyYgpSSRSLBw4UIuuOCC9eqDo30mEgm6desWE/TKykry+TzJZJKLL76Y5557Dq01f//731HaOKSk02laWlpMQuYm7CGulIoriAJks1laW1vbvb++5FOtNUOGDMH3fWbPng2UotwdseleYSWUUMImBx3/+GhC2ntoS1pXKWwFN133KPPe/YiDx+3Osf+zNS2rDVnLtob4gcZxLFIpF7mRx5JAwbJPVyBdTVVtkjwUyq9rRIEsWklIl0EqDStWNKNJ8fKrrzBs2Bl8b49T6bfZgew+9iCGbTuO0bufymcrlyKlJlsYP433t0ISxBxRGboX07qY5nU4vnwTlLlQ7qQoT6bo0xOq0wnQgZlr5KG63Ky84tMmWpqgri5LurIbPTbrQzJpIuZWEiiHINtCGMDwIVsjZYLVrXmsMvhw4UqaWgKkC5YLOR9CX9O8MoslYcjgWrpVp6lfvhxHGK/xXrVwwtHj0X6O/3t8Eq1Z45TyyKPPo0XAzrsMxJZm8hQ9l5BagQjjicUXQ1wpqABNJpfDcuHMc0ex257bMnX6DH772yeprcLoZHWhgJIICr3/9UZaO/PZLo7+PvPMM0ybNs1EhwvR6WIIKZDCSEEWL16M1pra2lp8319vpBpM2fjjjz+eE044Ac/zsG2be+65hyeffLJdhD2SPURkLmpnlK9QUVFBPp8nDEJSqRRKKTKZDMOGDWPy5Mncdddd1NXVYVs2vu+TSqZM1P1LqJjYsSJjx/c25v7WZfvXFdi2TSqVwrIsVq5cyfz582lsbASM5CSSFK2t3Za06Nu3LwAff/xx3Jb1FdvZlFDSdJdQQgnfWagCoTbJXm2UUuNjyLZTkNOGNDdksfwUk1+sZ+KzU+jXtycTbjsHbChzQFiQcq22mi6FwSPSkYIw3tpmhxveVmEi2h4hWb8Z25WGyFqg/QAdhkCSMFfYvISy8hSWpdlqwOYMGLodCbuJsrTCIkuu1UeoHmjtUlZtnEscDRIHS4RYwkcW5hyhbeHbUSGftkMwWnPicLcChASpA9JJm3zUi1oYspk0kwHbSoA2ntr1dU24iQpsyyXIQ155lLsJ8MGuKqe1CcqS5ehQYbs2fgi2a6GFIl1eSTINDQ1QkxYkEgLHNjaImVwrFeVppAY3ZWQyY3cdzID+fXlq0pucs+pEPv4Yln+c53v77MT2A6DCAktrE1Xu4Cyji4494s1ruGZEyt/Cy1JHkfPIm504KVNISCUcAqXwA8ntd5/LNoNe4a/3/JM9v7cnu42tIJmWpJNJEJD3siRcMySv2ZIIHeNkGy9u1hlhK06iO+GEE1i4cCEffvghY8eO5ZFHHllDjiGE0ckIIVi8eDG+79OnT584OTJ6ytJxn8XI5XL86U9/YubMmXzwwQcopTj33HMZNWoU22yzTVxgZ432F1xUogTJRCIRk/HIStD3fYYPH85VV13FihUr6N27N4QgLTNRaPsut8fnidSukQCqdLvjX5eU5fPuT4Vtcqmoj4r7uLPtFr8mhODRRx/l17/+NS0tLfi+z9tvv41SCkuuX0Jn2RZVVVUAfPTRRzQ2NlJVVRW3q7PztqmhRLpLKKGETQZaG1sOTQDaJlSmtLkfSqqqUqz8GM466xf4luKOe35XIFQhSlomsVBA+5qGFOQkX/xWKgvykv79+jJ15hI+XbycIL8lGQFJKZHawRIwfdpClixZxugxuyMTAV7QwNZDxnDtbw6gvMxEwaWAbKspiGNb4CQhXxTplihTDKaAQIASklwuRy4HuaSJBpe5hUh7NG4nzGe1FKxa1UhTC1jlAulJ3IJr4pIVIdIR9OhVjdIweKve5JqzvPfm+wi9H7aTQDiGOCsFMgGz57xNOmlTU5kiaUPPHmmSKckHH3xIQ+NW9K0F7Rvnj4YVMG/BIpxUual+KSG0jLd6v81hr7125e6/TeWZ5+HDD+ZTVt6Ls0/+EboV7CTYhGhpoZVARMbgnxeifdVQA/NsIhYtWZqEHRL4Fn9/+C6OPfonnPezXzFt6gTcKsjmQyQBrpsqTAa/PnS0AIzcPf7+97/zyCOP8MADD3D00Ufz0ksv4ft+TMg7Ip/Ps3LlSqSUdOvWLd7W+uA4jpE9WRb33Xcfu+++O+Xl5TQ1NXHGGWfw7LPPkkqmYvcSKWRbgp8UWKydGAohcByHfD7PkUceSVm6LN5Xu2h0J5Z5nwcx6S70Z+SOEtkmOo4TE+W1qpY2gHwLIbBsi3wmH0f3o/1HfVTsVNIZcrkcW2yxBYceeijXXnstBx10EJWVlQgh8AJvjQlJZ9uprq4GzDXQ0NBAZUUloQq7RNo3BZTkJSWUUMImAyUi6YREYRP4hkf7OYtMM1x1zSN4vuakUw5jz717IUSIlAWdtqTTCLapLPnFpQECsELYf8wYymU5rzz/Gqs+g4QLnrbwtElAvP4393PxL29i7twGxoztjbAaeGf2mzTWg2WDtE1UXlpQtwK+//2LOfX0S03rCiXMhbKRyo77BGHkJuUVDuUVUO62Ee6IUWoBlEHWgtByWLS8gSWfQR5o9AXKhlwWnp48naZcAzvsMpBEGvr2gSohyK30mPcO5AKzTiaExlZY9Cm8PH0qAVl2GT4Y1QTjDhpCZZXg1ZdexbGhVUGyIJ13K+CFKXNYnRX4tiC0wXcKxNuBQ76/J4kwyYtP/ZfHnnmeVLc0u3+vit49zCkUQiC1whK6qDqo6HTpCEnn1wAUJk1iTUmOLJBy24Jdd0tzzDEHsrKumfN+dh/5HCYJVxdP2tal4f5q9d22bZPP53nooYeora1lyJAhXHnllfztb3/rPNpcqCCZzWZZunQpQgh69+7dTqaytr7WShMEZhLkOA6jRo3ipptuIpPJ4DgO06ZN45prrjGFbZQ2RXAKEeri7a4NkSQl4SSorKyMieiXic8VsV6H73lXYNs2nufxr3/9y/TJBmjggiBgu+2244QTTsBxHPbbb794otCVJFOlFH369CGZTNLS0kJdXV3cz5HrzaaOEukuoYQSNkEYXUU+CPEDowme+OzHPPX0C/TZvBeXXPpD0kmwtYcgQEkPLTyQhYHnCw6Ma0NCwtgxw6hKSF6d+F+mTVpCbhW4FjQ1wJ13fcTstz6h3xZbMWhoNUOGwegx/WmoX8YffvcPwhyoPIR5Y5X3q0snsHjxYioqU7hJw++E0DhoLCHR0kSIpdAI6ePlG/E8yGuzFDNMJcxnA2ki3atXtnLlr+7gs88gnYYln8Gzk/P89R+P4slGjj95TxJJ2HwL+MEhO6MydVz+q9+z/FNDGYPAVM+86Be30eI1st3ILRgyMEXfXrD1NrD55ikaV9Zz+S/+g5eF+jysaoC//Hker0x7ExwbL8ySU8ZXPACSZTBmt55sO2w48+a+gxe28P3D9iWRLNT4kV/OeesKBEYC88tLjmHggN689OJLzJi5moQDbtIimw/buaJ8HZBSYtlW7Lfd3NyMUooZM2ZQU1PDsGHDuPKKK9ljjz3ikurFiAhjPp9n1apVCCHo1q1bl8quR+RQax1Hg3/84x9zxBFHEAQByWSSm2++mRdffBE/aHsi0FWSGum9o/14nheT/KhqZWfobPudabOFEO2OM1ov2l/khR9JXYwv/ppPWlQH2dOGOKoopUgkEmQyGW677TaWL1/eToe9volJVEjoP//5D2EYst122wEmqTLS8BdXFO0IrTTV1dW4rksYhvE1UkqkbENJXlJCCSV8h9D5ABVJk0FhYwEOvpZoJQh8aFwNP/3JVXh5xS1/nIBlAWFIWdJGqQBEgCI0BhW6kMAVDaobsfWWA/22hD/ecgUXXfx7/njNg9w3oQdDt+7P/Pnv0tzcCo7LdTddycAhxhP6llvP54yTfsPr095inzHvsfWQ4YDN++/P5bO6BWw9fDOuvfpK/MBIRvJeK1LmkSLE980g0JptIgwbcdwQJwGOiI4rRGsIsVGFSK7rwqoVS+jTbxvmvL6Q/XY/jx22GUlLQ54F8xdhuwn+8IcrGLWTkYQQwtW/3oePl81m2tz57LvH+ey07SjKE+XMfvN9lq1cyJbDy7n9zguprgLt+4S25M57LuWHh/6SyU+8zm7Pz2LEiBE01zcy9535bLfDHrw1/3VsN4+dKJxcDY4DGQ8OP3Icv77xNrAbOeLoUYTKyFlsBEIUR9wi8tQWhV0XFEa6s6GafQth9N4JKCuDm27+BWeeeSE/PusKnnnuNtxy6FFjERRKgMZzgw716cU65BNfFB3JGUBVVRWzZs2irq6Os846K9ZLJ5PJTslo5HddV1dHfX09AH369EFpFScrFof6Ova3FDK27osK1txxxx1MnjyZuro6LMvijDPOYMaMGfTq1SsuIS90G5lc2zmMKlJCGzktPlalFEoa3fHrr79OTU0NA7YcgLSkIcwFfXsU4fc8j7q6Onr27GmkE4Xjisi7bbfRK8u2UL5i5aqVvPvuu2y//fZ069aN0At586036dWrFz169CCRSMT+2JFbSBiG7fzR14Wof8MwjKtzri/63/F/3/d5/fXXUUqxxx57AMYFJoLnebEsJ7pmio8zuj4aGxtZvXp13BfFfb0poxTpLqGEEjYJCDQJXHJBjpwf4EpBOgWhD7dNeBHLquLyK37OTqNdYylHYKQBxl8OJUwRFcX6rbM+XwMVssL4Y+93QBX/fOhajv3hvngtK5jy4rPU1y1hh1224t9P3sGoXStRlhng+2wGD/79ck4+ZRy1NSleffW/vPrqf+lWW8ZFF5/Jvx+7mV59oKYGqrqDlqupqsrQ3Pghvja2dolUC8KqJwxW4wd5fDQBHu0mMQIcC7xsK5UVDey+y2bc9+dr2W7rrZk963Xen/8WO+yyNQ/87Qa+P25zo4e3wRdQuyXc++CFXH3NBWwzZABvTJvKqy//l/59e/H7317Nf/97C1UVpnqk5YSkqxTde8HT/3cjF5xzIiqb5cVnnuPTxR9z24QbOP+8Q5FyOagGE+IuKC6aG01VyIGDq8kGjQwZ0pMttjC+41/KcK9N4mSbxKGou4pIoEmgg4QFqQTsumsN48fvQ7ZVcOedr1BTg1Fza8nXGIwnn8/T3NyM4zj8vz//P8aMGcMvf/lLwjDk7rvvZuzYsZx55pmGgHZRLhARtK7Asq121n0qVFRUVPCPf/yD8vJywjBk6dKlnH322etNCux0+0XtKHZAaW5uJplM4jgOxx9/PJdeein77rsv//r3v2IiqrVm/Pjx3HDDDQghmDFjBoMGDeKoo47Csi08z8OyrbjKZlTQx/M8fN/n3nvv5eSTT+aqq65i9OjRTJ48mV/96lf88pe/5LDDDuPBBx8EOte+B2HQzr1lbQjCAM/zcByHdDod92NXbfuSySRhGPLcc8+x9957c9ddd3HIIYdw9NFHM2/ePGOtuJ7tJBIJEokE0GYrqcIv6Z75bYQuoYQSSvjOIGy3tP/xdavfFH+yNad1Y4vW772rdZV7qu7f6yK9cKHWmYzWoae19pXW+UCHfqC9MKtzKqvD0Ncq8LUOg8+1KNX5EmilA6205ymdz2mda9W6ZaXWLXVaB6u11jmtvVatV7dq3aS09rTWq7K+bs0pc6haa+Vpvape69X1Wq9aqfXKeq2DQOumFnMoETxf6+X1Wjd5WjdrrVe2ap1p1Tqb0bpVad2ktW7Wvm7VWZ3Xee0rX6tQ6yDUOutpnfO0XtlgtvPZCq0/rde6Mad1Q1brZfWmOc05rTN5rTOe1g3Nvg601itWZXRDq9af1mndtEprndc6s1prP6v1yhaz73yoddZXujH0dWuodW6V1k2LtNaB1mFG61VLtQ5ata5bpfWqrNarAq1XhVo3BmZfQU7rxnqtf3XZXG2nztHX/+kt3aC1rlda53Sgg6izClBKFRZzHjpeP2teT+0vM+Vr3dig9bhxj+mamp/rlY1a58JAa621H4baD0MdaNVhr1o3r9R6xVKtt9r8PO06x+r3FmrdGmrth1qrMKtDZZZAe4XF/KzZpo0Pz/O01lrPnDlTP/HEE/rQQw/VUkp911136ccee0zPnDlTa611Pp/XYRi2WzzP00opPWfOHJ1IJHQikdBvvvmmVkrpwA904AddakO0rQitra36l7/8pXZdV7uuq5PJpL7ssst0LpfTnufpMGzri7ZzuuZS3NZiNDU1aaWUvvrqq/X555+vc7mcTqVS+uCDD9aBH+gwDPXzzz+vHcfRd9xxh25ubtbPPvusllLqYcOG6TAMdS6X07lcLt5+9LfWWj/++OP6e9/7np4/f75WSunjjz9eA/qiiy7Sy5cv16lUSu+xxx46DEOdzWa11lrncjnd2toaH2PH41wX6urq9OjRo/XSpUvbHXdnKO6f1tZW/cYbb+h0Oq3Ly8v1+eefr99++2194YUX6mQyqWfPnq2VUvG56di/UbsHDx6sAf2///u/8fkrwaAU6S6hhBI2Gbi2S17nyCtN0jVa6YsvupHKynKuuOpCarob2z7pUNARFCJuotjP+8uDFgovzCHsgLIaKKvIY1UDQhHqPJYTIgW0ennKkjZ2UbNa8o1U12jSVT5llSGVtSYIXF4Gec/DC/P4YSuODT1qATRhEFKVBtsxweIw0Kgwj9IeSgemPHoBElPpUkqoqQI/CEinFb1qodKFpGui6VnfRMQpVLVMldu05hrp1i1B6Pv06g62rdAaUtXgh1BTBrnWEFuCLFSLVGGI2w0qupudywQk0hmEA+UVmqokWApcwAqAEFbWwfz5cNc9dzNwUD+OOXo7mpvBjSv+bHy0Rbpl+0h3VPSlaL/5pgzkobzS9OVV1/yCdEWKc875LU3Nps+ElhBSkMEoNCpSz3QQT2386zEMQrLZLLlcjh122IH999/f6Lwti6OOOoof/OAHjBo1KvbQ7ohIHhJJEEz/bHhxlGifYRDGBWyuvfZadtttt7iIy4QJE+Kqh1/U0q+iooKWlhb+9a9/cd111/HOO++Qz+cZNmwYShu5x0svvYRlWey8886Ul5ez1157cc4558TtdV0X13VZunQpS5cujXXNAFdeeSV/+MMf2GqrrfA8j3Q6DcDll1/OpEmTCIKA73//++2OQ0oj04ki147jIKWMNd6dRb7DICQMwnZ+21FEv2PhnzAI19CLO47DnDlz0Fpz1lln8fubfs/QoUM577zz8DyPhx9+OJa+rE1r7jhOu0i3LkhkSjAoabpLKKGE7wA6DgBrDggSQYhGBSEpR+Dl4IlHP2Xm9AUMGboFRxy1GamC3R4ABWs8jcQSBfJNWPBp/nIIuG1bJKLH9hpjXaIBR5JMuETy5VTCNcfktA3SFeXGHzdhO/HRS6vweTdR6AMHUAgkZY5AYyEwBNCxQQmBxi18JvI3LzRGCyxhyrEDpJNtw4fC6MDB6KrNwbQdV3myApBUV5kGpSpkrMNOpc361eVWvJolLIRTOFgX0BpkQFmlBSJPQgsCbSOVRArzsfN/9ltefGo+XlBNJpfnuovPpbab2aAGgoIiWnf6mDs6n23lgorRZhKp0ZFURYu4YmckCenI/SLCLbQGBW4yAVpBKKmogsOO6stdDw5k9qxlzJwGB+0LnhdiOQkkEoGp/hjiIDaIZMdXwAasY5BIJGKC5rouL7/8Mv379yeVSq3XKURYRoqRzWbXKISitIrt+bpCkoUQ8fWnlFn3/vvvZ9SoUdTX15PJZDj00EN59dVX6dGjR/y5rmqYiwvreJ6HZVn86U9/Ip1O85e//AWlFD/4wQ+wbRshBJMnTyYMQ4YPHx4T3uHDh8fJgvl8Htd1Oemkk7Btm6eeegrHcWhqauLXv/41I0eOjPvjxRdfZNCgQVRXV3PkkUcydOhQdtxxR1paWigvL0drzWWXXcY//vEP5syZE9szSilj3bbSimxLlrKyMpqamkilUiQSCVpaWmK3GNu2CYMQz/diKY0lrThZVmjRbvLkOA6PPfYYSinOOeccI5fBihNqFyxYEG+72MO9GFq1JWz6vo8QItaqb8oVPyOUSHcJJZSwSUCh8fyAlFNGJhcQZG1u+u2f8T3B9TdeQrKcmHMpTA6bLlgMxtFK3ea//GWg3ZDUCXf44kOW7Hw7gg6vR5OMYk237rxRXWpXcfZch9/rWr9gZ2iqhyqECOI3bC3RQpLLgef5bLf9tvznnzPoVl3DFRf/mKOPqi54BBY2g0Zp2nT6XxSFhEqTU9um6V7jmok/XxCeR5WNpEmc/cUl53DE4ZdzycXXs+PTl9Gre4ogDAvTIfklXm1rQloS13Lj/5cuXUpTUxOHHHJIu8hmZ1HuCEKITh0uOp/srL89oqhcaL9+/bj55ps599xzyefzzJ8/n0kvTOKYY4+hsbGxXcLf58Guu+6K53lMnjyZvn37suuuuyKEYMmSJbzxxhvss88+5vhUiOu6fPLJJ4wePZpcLhf3zyWXXMLQoUORQtLU1ERFRQXjx4+PSfmCBQtYsmQJxxxzDNlsFtd12XHHHfE8j/LychoaGigrK+O0005j/PjxVFdXxxOVMAhj/XgikeCFF17g2muvBdqsAlOpFNlslg8++IADDjiAqqqqOFoekeWzzz6b4447bo1zksvlePPNNxk2bBj9+vUjk8mQTCZZunRp/JlsNoubcOkMWus13FcAbMs2vuol0l0i3SWUUMKmg5STJlCgQ5u/3jOR5cvrOO74Yxg6zMEpGkfiIowC44wQjU3SRIcjxrixhpBvroNtlIj1NTejgLaqkdrY2ilBwraoKHc44aTvc8JJ38exjUQoCCOy7RXoq9HiKNY8nq4nL7aPIMecpeBoowvJtlpY7Si3EmDFjiRmEQJ8H8buXss+++7Ma69M54Xn3ub407YjbJHYWoNIxGV2oiMv/vvLxty5cwnDkL322qtLhCmqFmnbhmQVe3lvjOIozc3NnHDCCbz++uvceeednH766YwbP47m5maqq6tjx48IXZ1cRZ9LpVLMmTOHBQsWcN5555FIJMhmsyxZsgTf9xk9ejRhGJJMJgGYOXMmxxxzDMlkEs/zaG5u5oADDoiTKqNiP2CeGrS0tDB37lwARo8eTSqVor6+ntraWsIwjI8DYOjQoQwYMADP81BKkUwm10hePWD/AxgzZgzpdJr6+npc10VKSX19Paeffjr33HMPlZWV+L7fbqLUrVu3OBpdPJlatmwZixcv5vDDD8d1XZqbm5FSMnHiRKSU8SQkcinpSNojN5MwDEtOJWtBadpRQgklbCKQNLe2ogIggPvvfZRcvolTT98XLSDv6Vg7W1T5vIRvAnQkXi8s2kYKgW2bSpi+B8m0KQePZaQxQntIncPSqmiatPGxNveSTgfX6BAKxNu2jNrk/J8dj59v5L77/4PfAoEShFpg0q4Essj08qsYtCO/6Q8//BDLshg4cGCXHEiiiGwxQY+L4mxAkZZoW7pDhcyKigqy2Szz5s1jr7324tZbbyWdTlNZWUlzc/MGbT/aR0d8/PHHKKUYOXIkYCLIn3zyCWAi4el0mtbWVt566y2EEAwfPhwwZc9/9atf8fOf/5wwDMnn81iWRSaT4fLLL+f222+nvLycqVOn4vs+O+20E/l8nu7du3PLLbfwyCOPUFZWRiaT4ac//Sk//vGPWbZsGbZtY1lWfHxhEJJIJAiDECEFVVVVaK3p3bs3tbW1uK5Lnz59SKfT9OjRI15qa2rp0aMHPXv2xHEcfN9fQxe+ePFikskk2267LdlslvLycgAmTpyIbdscfPDBxi4yqqS5lnMW2SbG7ikbeO6/yyiR7hJKKOE7hOJqfabupCx6zU6ksW144K9zWbbU49jj9qffALBdCFQ+LuktCllrHcdkWZAnfDVplZ8n8NYZAAAgAElEQVQfci3L593O14eigV23EW6TtGgjpEZIk7gpdIgkxJI+giyOrbGwkMpFqgRS2VjIwiLaLWtP9ut6T64rWm5hbCexNNg6ntAlk4CGsbsnOPnkw3nttXd48MEFhIWZn9YglPHtlkoglCHpXwaKEwuNxaFgypQpWJZlqkp2oQhNRLKKI9zFlSi/CPL5PJ7ncdJJJ/Huu+9yzz334CZctNLk8/k4+txVdIyIR+snk0lSqRSu65LNGk39tGnTcByHsrKyOEn0D3/4A0cddRSJRIIFCxYwYcIExo0bx913380bb7xBGBpyPGnSJK677jqeeOIJACZMmEBlZSXbbbcdtmWzaNEiHnjgAQ444AB83+fcc89l7733ZsqUKUyZMgUpJY7jxHr4YvlGGJoCO7Zlx+cnmhQ0NjbieR5grBJDFaJCFSdbdoaamhp838d1XZLJJCpUzJ49mzlz5nDRRRex5ZZbruHNXYwoch5ZLEZ9KqVEfkl5MN82lHqhhBJK+A5CdfKXJOVIUHDfvY8RBJKLfnECiTQkXE065RppgF6TbJfwDYFek/hqVKGMfQjCaL8LNS+LVjSvfRke2NFErCuIEi+jcvESSJeBLeHCC4+hV8/+TJhwP75vai8JpUEFiFAgYrnMl4coehmR51mzZtGjRw+GDRu2QdtJJBIxAeus6mJXECX+KW0S8FKpFFdffTVPPfUUkyZNok+fPoDxpo7cTjYUEXksJoQ77LAD/fv35/zzz2fatGn85S9/YdasWWy++eZceeWVTJs2jSuvvBKA4447DjBk84wzzogL+AwbNox0Ok1jYyNaa6SUHH300Zx11lkcccQRAPz5z3/mlVdf4aCDDuI3v/kNtbW1rF69mqOOOortt9+e+fPnM2LECJMI6Xm4CTd2A9HaFMuxbbtd23O5XCwlidxLovZ1lPdIIdeIQA8fPpzBgwfz/PPPGy370iUceOCBjB8/nksvvZRUKrXeJxda6/icl5WVxa+Vot0GJdJdQgklfIug1rJ0/lkF7SQjra3w70c+5IP3P+Lwww+lugYsR5O0BXmvde37iMPfJXy1WEuUWcs1SqYLEkjlYOkElhBYQmMJjcRHihxSeBvhHK7lehNFk7xOuEXHK0pLY4AT6ABLagIF/baAvfc5kEWLGnj+2U/Itpo1JV7bBQzoL+k6jCLRUXR0xYoVLFy4kD333BMw5LarcBwnJmgRAfs8iZQqNK4lDQ0N3Hnnndxwww08/fTTDBo0CBWqL0S4ixERwrq6Orp3785LL73Eeeedx5/+9Cfmzp3Lv//9b5577jm22247rrvuOnr16sVtt91GKpXC930GDhzI9ttvzy233MJZZ51F9+7daWhooKqqir333ps777yTp59+mu23355HHnmE+++/n6lTp/Lggw9y//33s//++5PL5aisrOTggw/m2muvZb/99mPEiBGxjltpFRfw8X2ffD6/Rul6x3ZoaWmhoqKCIAjiiLPv+/iB32ZjWVg6wvd97rrrLubPn8++++7Lsccey4knnsjjjz9ORUXFes9hNNHK5/NAWyVLFZacSyKUEilLKKEIn2dggPaPTqNIQFxVrWCVFGWeb2iiT2dtirST0e9S0kpnsBFQcDk2fKtxFVx/7W1UVCY49fRDETaGcOsMtlNIWSuVL/j2IT5nHb8HJgre5hzisNHSVtf4Wqr1hqHjRNDIJScMCQIPy0mxsk5w3HH78+yzE7ntjgc45LDLUUIihEJ+RRYmlm3R0tqC7/t8+OGHKKU45JBD4sqCXYHWGsdxcF2XTCYTu5iszWKuI6JIrRCCbM7oimfMmMGZZ57J/fffz5577mkSJpVeJ+HWSiOsdZ+QYqmEVpqabjUopejRvQcXXHBBLDFJpVL06NGDP/7xj0gpY4lJsazl9ddfZ9GiRZx88sk8/vjjjBw5kurqatKpNKeeeiqnnnoqAE1NTYwbN4799tsvLivveR7pVBohBatWreLxxx/ngQce4LXXXqNnz55sttlmuK5LEARIIU1ZdWWix8WyHyEF3bp1Y/HixYShcVgRQsSJrdE668Luu+/Oc889x3vvvceQIUNi4pzNZrEsa53ONRGiiVbkR15CG0qjSwklFFCsaVzfsq51I7us4kSgtRU0WNd2i19bow2qLZGl4/ob0u5vPtYX0e74uoxfNaZtNoHW+KGkpQXmvw+ffNLI7nsOo/9gSLngK2+tEoE4vroBEoISNj46TiyNlrttwimkBqEQUhUkJmB032ZpW9E8tVj/92Ft2u1IV17YXLyJIhHTWjcrixTlhndL4eC6KWwJ3bvDiOEwYngNM99+n5en5snkBFJWkNceOGbXXZtgfz41/vz58xk+fDhnn30206ZNA+DAAw/s8sQ+KlyzZf8tY+/s5cuXA10PaESfC4OQdDrNvHnzOOSQQ7j55ps57rjj2skb1kfio0hvFO0NgqBdsKLT/SttrBNdY2eUSqXi96J1I4eWYuePV155hcrKSj755BOmTZtGnz59YllF1AalFOXl5SilSCQSWJYV+2kLKQiCgFmzZsVk/OGHH6ZPnz5UVFSY4jhF13JEnjuLXPfu3Zvrr78e13XjY7Usq20dITpdEokEWmvKy8vZeeedqaqqio85mUxiSWut60b9WVdXF49//fv3B1gj2LQpo0S6SyihCBGhXe/SCZkNA5PUElUPy+VyJjpQ8FW1bKvdDXhDBqGO+1daIWRbpbHoUeLaEmS+++hIvCUhGh+FFAkC3yKVhLv+/CjlZVWcfuaxVNdSdAf8+lMGS/iiiHTcnUzO2slR1idL6iqKNB8bhDWJE5g8y9rucPpZRyIslwf+/gRKQMb3SDgJAqNe/1Ixffp0li5dyuabb87999/P+eefT/fu3bEtO64yuC6EYYht2Vi2RUVFBQD19fVd2rdSKnbm0NoQX9/32W233Tj99NO58MILN+hYhDQkMpfLkcvlSCQScQT2xhtvZPLkye2i3BGkJdsVzlkX0ul0LPHYd999Ofjgg3nrrbe46qqrOt12VzB27FhOO+00Jk2axFVXXWVkOgV5RjSGrAtKKRzHYffddseyLIIg6NRp5PNAWuu/R65evTquIppMJuMxqfQ01qAkLymhhC8J0WPHXC5HMpmkubk5TizZGIiiOFFUJMJ3O6Kwtmh3BNnutxcoHFsSKpjzLrz00ktsOWBzdtixB65jotxGdhCZdOt2+tw2TiXabbeEbxpUISKHiWxHp0tTEFAXfTQ6v59HRqQL5S+LyXZc7KcrxEa2W6XjNzWbh/0OGMzwbYbx/DMv8cH8AxkxooKQ9s9wOm5vY+Hggw/msMMOY8qUKfzwhz/ksssuizXesH7SVRxN7b9Ff2bOnMmiRYvMfWo9Pt1CCITVVgCmpaWFkSNHss8++/DHP/4xJs4bgkwmE0scIqnLa6+9xt133x3LPToj3J/nHjpy5Ehuu+22dvuOCgW5ltulbUa67muuuYZ8Pm9cSwoVJNdWdr0zKKXMuQqJAzTQRny7Oqn4PFi+fDlhGNKvXz9qamo2+va/7SiR7hJKKEIYhiilcF13nVHj4iIAYLxco5K5kd5PConS5jGi53kblXBLIc0AUbiZRhrHjjfX4vZuOmgjBpaUBCEQwgsTp5LLt/DDIw4gmQJz5gqlRiIPt1Ky5HcDHQl19P9G+xq0+WYbfPFIohIgnZB00uLQQ/bh1ts/4Jln/8vQbQ4hn8tSU5bqsM+NPwGsra3loYceiqPCxffCKKFvXUTNdd2YHPft1xcwkW4VqvVGaIUQsfuG4zgce+yxVFVV8a9//ctUVLSdda7faXsSbpzUl0wmmTdvHoceeijjx4+nV69ea9zjo/t65DjSFURPNYFY7+26buyvHUlCukLmKysrY5vCyspKcrlcTLiDIDDyji66gMRONF+xVV9DQwNKKWpra42DSuG6ic7rpo5S2KaEEgqIdG9QpCtUIdIyj/WkJdtl8BfLTMBk/Uc3X6UUfmASgqSUsYXW+mQqHaUnUaEJyzY+q0C7tgRBgOd5pgKYFLFusVjf/d1CZ37JbX93JhrwPVhVB/9+5BnsRMBRx4wk74Mf+mY93TYQSC3bvLi/a123CUAIyyyRzrXD/7HMZKMky35xBi+KfwRIB1Y3wTHHjCThBDz0j/+jqQVcJ9IVd9V1/fPLZ6LkO8dx2kk9NgRCCIYOHQq0abo7Q0d5XvRU8OKLL2b69OlMnTqVbDbbZbKmlY7LjUek2XVdFi9ezK233spOO+1EY2MjJ510kmlnBzeP4vtuZ/fOjhrmqP2u65JIJIxVXzKFFLJN/1wkKVwfokmO67qx7juKcHclgbFdWzsh519Fjs+iRYsAGDx4cHzeOlYK3ZRRinSXUEIRpJRx+duKigosLD799FM++ugjKisrGTFiBNlsFhlKbMvGcRxUqOKoQkSu8/k8iUSCxsZG5s2bx+jRo7t00+n4GRUqlFZxYQTLtsjlcsybN4+GhgZ69+7N0KFD40hIS0sL8+bNo2fPnvTt25d0Om0i8oWITrFe8buHNjIS9aIlzT/z5oYsXbKS/Q/cnfJqcJOQtBz8UEOB8ABdlAiUUMKXA2lJqqrBdWDsbsN5cuLLzJq5it13qkGogHTy6xuyu3r/ivy1t9lmGwDmzZtHNpcllUy1I4JhEMaWf47jGB14eQW/ue433HvvvUyfPj1OZmxubm5XUn1taGlpQUpJU1MTn332Ge+88w6zZs3i8ccfZ/HixQghGD16NDvuuGNc0fHLxKZCNIsTUz/++GOklAwaNKjd04JSlNugRLpLKKGA4ihHFFWYPHkyJ554IitXriSTyXDaaadxyy234Loulm2RzWZJOAke/c+j3HrrrfzoRz/i5JNPJp1Os3DhQg4//HDmzZvHBRdcwPXXXx9Hq7sKaUnyWaPtsy2biRMnctVVV/Hee+/R2NhI7969Oe+887jkkku44447uP7662lqaqJv376cdtppnHfeeeYRZ6Ei2LedcK8xiBXkIIJCNElo0CIm3RqwBDz5+GTyOc2xP/oB3bpBqE3KnSiOVopIhtP22qYyaJbwzUCoBbYFlZXwo+P35+Wpb/PPh55m522Pp7rymztcR/7MWhnttud5jBw5ksrKSpYsWcKKFSsYMGDAer9P991/HzfeeCPl5eWceuqpLF++HN/340qJ67t/aa2pq6ujqakp1lNHtoKu62JZFuPHjyeVSpHNZje4iuX6+gBo9xBiY99v12eBuAYiVdWXdN+PJlkqVAjLBJvmzJmDZVmMHDkSKJI+bmjbv6MoyUtKKKEAIUTsAGJZFvPnz+eQQw7hlFNO4bPPPmPUqFHce++9TJw4ESEELS0tsRzlxhtvZOrUqSxatIh0Ok0mk+H5559nzpw55HI5Hn74YZqbm9fbho7yk3w+HycCTXx+Ij/60Y/Yeeed+fDDD1m9ejVbb70111xzDaeffjpXXHEFt99+O/PmzaN3795cdtllvPnmmyYyL2SsreuIqCzwd45gashnze8XJ02mtls139urDwEQKshm2yZAQhobuhK+o9hokpIvF9pX5PMheT/ggP1HUF1RycsvTifhmKqVn8ss5StAdO9Q2jyZ01qTSqXo3bs3Ukrq6urWIH6WbcW2eb7vM2PGDH7yk5/gOA6NjY3Mnj2bzz77jIaGBt59910+/PDD9S7z588nk8mQTCZJJBKxRMa2bbTW1NbWcuSRR5LL5Uoe0hsRUWl63/f55JNPkFK2m2SVqlG24Zs7dS6hhK8BljTaaaUUZ599NgceeCCXX345+Xye+vp6bNvmgw8+IJFIkMlkKC8vZ/r06cycORPLshg7dmwckdljjz0YOHAg8+fPx/d9LMtkoTc2NuK6buxokkwm0VqTy+UoS7dPtowGqhUrVnDMMcdw6aWXcuGFF8YylgMPPJDp06dz99138/Of/5xx48bxs5/9jOnTpwPw7rvvMmbMGJPwGUAmmzGPcguOJ1pr/MA3j4Q7uTF+/ZHxglxEF8eui1AgUmFRgFrrgppVgdcKU1+tJ5tpYNyh+5IqBLaEBNsukpUUYKoJtpGzjjTt6++PTRtr7/9oQqna//9lna5CHqXuZPudVaRcHySFqKHQCDSWsJACDtx3f/7x0KNMfWUh++03gHSK9RxTR3nUhrmdfN7rO/p+RsnjQghsy2bMmDF88MEHzJs3j1GjRq2hS4600WEYMmjQID766KN270eJ7ZFrSRAE5HI5Kioq4oR1MK4fkRQlSm6PipJFcpcwDKmuro7118VuIJ/3uIvXK35S+k3B2tqyMdrYmZvKsmXLWL58Odtttx2DBw9uS+a02t/Hv0l99FWjRLpLKKEIlm0ReiFvv/0206dPZ9KkSViWxaxZs+IEkf79+8d+sr7v8/HCj3Fdl8rKSgYOHIjjODQ1NdG/f39uueUWxo8fz1ZbbUUYhqbyWDqN4zhkMhkqKip49tlnqaysZIcddogjBhGiAeSyyy6jb9++XHrppeTzeVatWkVFRQXZbBalFD179uSss84ikUiwYMECtNZ0796dwYMHI6Xxu3VcJy7lm8/neeKJJ9h1113p0aNHnDD17UaxC4n5VZ6G556aQi7fyL77jy68rk2ZcKeoyIkwK+lvaiixhC+IYo/ujYSOBiYbAZYl4hmjxOKAfcby9wf+zjNPT2LvfU4nZKPV0/xSEdkDjh07lvvuu48pU6Zw0kknrfUe4zgOVf+fvTOPk6I61//3nFp6mZ6NfRV0gGhAxX1BEbeoKIkmarxeY4xLTDSaa7Yr8ouKRKNXTdyi17jcaG7QSIzGGzVBEIiiggpC2AQEREBlEWamp7eqOuf3R3XVdPeswCBg+vFTDjNdderU0lXPec/zPm91NVBS3ddTeKrZuzso/V74vHJdt9NWggFRDJye/pXJX1ciuBYzZ86kpqaGI488kng8HuYSBe415VLwZdJdRhmtYvHixYwaNYpDDjkEKSVPPvkktm3TrVs3jjnmGIQUoR5w9huzEUIwdOhQBg4cCPgvkXg8zllnnUVdXR29e/cmkUgAfsWuZcuWoZTi4Ycf5o9//CMPP/wwRxxxRIt+xGIxtNZ88MEH/PznPyeVSpFO+6WRLcti/vz5CCHo1q0bQ4YMAWDixIk88cQTnHbaaYwZMwbwX2QfffRRGIm49957mTlzJosWLaJv3754rrfdDgW7A20ODERQDtn3atZ4oA22bISZr86l/4CejDq+T4soYek7V7QII5ZJeBmfH4SS+aqZLmBw8MgaYlHBnNnvkWkC2wKj62TIXYZCPbNRMCwYM2YM8XicGTNmUF9fH5YUbwtaaTzdLPtSSoVFc8APigTVDaWUKKXCpPVC2z5oTu4LbPYKLfd2xbPuX43ACyH8SLZsfi7PmjWLbdu2cdRRR5FKpYjY/uxDMItajnSXSXcZZYQIbJRs2+acc87h7LPPxrZttm3bxmuvvUYul+O0005j8ODBeJ4XTnO+++67ZDIZ6urqiEajNDQ0UFVVRX19PUII4vE4BxxwQPigmTFjBpdffjk9e/ZECEEkEvG15Pmkn0JkMhlsy+aFF15Aa008Hg8147lcjmXLlmHbNieeeKJf/dIwOP744zn++OPDNhzHwZAGv/zlL/ntb3/LgQceGE7jRiKR8FjisfheQbzbRVAkMB+FXLoYPtuc5JSzDqSmhlan5jW6FbJdRhmfL0SBgkoLBQL69YUTxxzN3DcXs/oDzZcPEpgRPzl4b8A+++xD//79WblyJRs2bGiXdEspW5B2aJaJBKXcLcuiqamJeDxONpvF8zxGjBjBlVdeyQ9+8INwu4B0B8/dsntG16PUDvGtt95CSsmYMWN82eR2VuP8V8Be/oYto4yuReBxXVFRQSKRQAjBggULWLNmDQBf/epXSaVSfoJjLM6cOXOYP38+sVgs9KWNxWJhGdzNmzdTX1/PkUceCUA2m2XcuHGsX7+eefPmMXbsWLTWYSGFwheDZVlhcQEhBFVVVUX2f++99x7r1q0jmUwyZsyYMCoeoKGhgVwu50eLtOKee+7hs88+Y/78+YwYMQIAx/Fr3ZmGjRB77sR1szeu0eoCEiEkmYyLlJBO5WhKwasz5pPKKE4+6Siyjk9s8jEXfLqd9zPP/yd08VLG3oZSH/dST+u2/r4H9E6IFpUzMzkYe+bJeJ7J31+aDRqUgmzGI51y/ApPClDaX0K05dOtSpauQyHBLcRll12GaZrMnj0b2H5HoCAQEXiHAyQSCZLJJLFYjGw2y5lnnsnBBx/cbn9KPbY7s5TRPgKv8mg0yltvvcXq1as56aSTqKur291d22NRJt1llJFHUKrYdZsL4KRSKWbOnInnefTp04cjjjiCSCQSemYvWbIEz/OdP0aNGtWizddee410Os3pp58O+D7eEdtPoiytUGkYRljNLZguTafTZDIZEokEmUyGhoYGPOURj8d56623wkh64UMul8vhOE4YVSos9FBVVcW2bdvCiL5pmJiGQTQaoYMqzXsFhNRICYlEDFPCnLfmU1VVyZgTRxIpSEILCpJAsWNMGWXsNgjy4e5mMmxH4OhjvoybE0z9+0wSlT439wuylEZu9zyPedu2+epXv4plWUyZMqUo8XF7ypqXor6+nlgshud6VFZWMmnSJEaPHl0myp8zXNcN35evvPIK4A+ylFIkk8nd2bU9FmXSXUYZBRDSL98eLlLy+uuv43keI0eOZODAgZimGSbuLFy4EM/z6NWrV+hLWoiXXnqJ888/H/AJPDRbZbU23RmLxWhKp2lKp4nFYmBIXKVwlUIJqK6uDvf9zjvv4LoudXV11NXV4TgOSiksyyKbzbJly5YW7adSjdTUVOO4fmlkx3VwXBfHdfHcvZx0Cp+IaPwH24aPYcmypQwavA89eoJhtNRwl1HG54vSSHPJInJgeAgsBBIhoFcvqO3ek2XLPmDjJn92yrDNkkHynkO4SyPFBxxwAEcddRRTp05l6dKloVQEtj/q3ZisJ51uQgiNZVms+XAVv/713bz51mwcN4uHRgnfQUYLsQvj+mUEwRwhBA0NDTz//PP07duXI444Aillh/r9f1WUSXcZZbQDKSWrVq0KddmZTCYs++s4Dhs2bABg8ODBrRZamD59OqeddhqZTAbTNFGewnGccAn0cEEBgayTIxqLEo1FyTo5pBAk4nH+9Oyf+PcL/5033ngDz/VIJpMsWbIEx3EYOmQolYlKpJBhH55++umQ7Afwo+KVbN36GUBYNMeQBoY0kFK07oG2F8GU4HrQ2Agrln9Ksmkbxxx3KEqCWRDl3tMffF9I3/Q9AIUlsAsjrcGAdbvKZO/Q5WlOKCvcn9+ch9YeCInjKV/brX17y1HHH0ZFVYxFCz8knQbLgBZ1tsSeRy1zuRwAP/zhD5FS8txzz/mVIIUIi6qUnof2EI/FiEaj+dLuH/LQfz+E67pcccUVNDQ07OrD+ZdH6ffDNE1M02Tt2rUsXLiQ008/nf322y/U35fREuVEyjLKyKNQhlH4t0DqUVVVRTQaDYviSClpbGzENE2qq6sxDTMsDGHbNvfeey/V1dV85StfwbIs/8WuFVK0pHw6H52RwvBfRAIwDCLSYOY/ZvGtb30Lz3VZvWY177z9Du/Me5el7y/DsiwOPexQDNNg8+bN9OjRA4AJEyZw5ZVXFhyIymsjNUJov69F07uiuDNizyR8bU0fFwX9PMg6MO3VmdT2inH0qC8XyV2LFL66mDu99957zJs3L3RGMPMlpS3TQuZnHQIiEfQlKJDkuq7vlmA096a0v67r0qNHjzABLFjHcRwymQzf/OY36devn3+fIFu9H8vYfpSeR619OZGnfNee4PfSqnkhIRYUD0gDq8lWviYySOQFZAkJbkEutU9A/RQDD60VQiu0sprdLyUcecwwpjz7P7zx5j856uhBpNOA8ojFjNAG0++MYHcS79bud9u2GTduHIMGDeLxxx/nhhtuIJvLNp/bgvPe0t2i+FiEkAhhIA3Jwn8u5LzzzmPx4sW4SlFVU12wvij52Vpr5ahjZ9Ha9wegsbGR6upq/ud//getNePHjwcI/bkD15Lyc6sZZdJdRhntQGvNoEGD+OCDD1i9ejWZTIZYNIY0fNnJ3/72N7TWbNy4EddzfTcQ12Pr1q3cddddXH/99UQiEbLZbPhZafvNi0K0QsjnzJmD57qYlsUZeW34k7//PdlsFuV6HHjggQAh4f7pT39KJBLhqquuCtvwI0sG6XSSmppaAFwvh1KuX5pe+yldXwQbVc+DWASWLn0fw8yxz+BqDBOabU3axuTJk7nrrruQUhKJREin09RUVrHPPvuQzWZJplNhJbuAfAeaRtM0cV03/LvWOtQ8Bn7qwd+j0WiY5BrIhXK5HI2Njdx4442h9Kgc7e5aFBI9pf0oq5NxQjvPUp1xV5IFpfxZLiEFtmXjUz7XD2cTDPohk8kRjUbIZcGOQjoNhx0xFCOimfvWAjRnISREY8Ye72hpWRae6+F6LjfccANXXHEFkydP5pxzzinKncHrHEHTWpHJpLAsk5NPOhlpSC7694uYcMMN4ToCEaZJl12JuhaF3x/w5Y4rVqzgwQcf5NJLL2XIkCG+24whkS0Km5UB5YFeGWUUQQjhF03IL0op/vM//xPP83jyySd58MEH+eTTT5g1axYXXHABZ511FgMHDmTevHnce++9bNq0iYX/XMgJJ5zAySefzBVXXEFjY2OrhLs1BHrEAPWpJF/68gFgGBx1zNF861vf4je/+Q1PTZ7Mddddh2VZTJo0iY0bN7Jq1SouvvhiHnnkEaZMmUK3bt3CdgzpO6DEYnGyuQzZXLpF9csvAgIjh61b4f3lq+ndryf7DfWDgI5yOnzgXXbZZQwcOJBoNIrruiTicaqqqnj55ZeZN38e69atY+HChSxcuJBVq1axatUq1q1bx7p161i+fDkffJ14rBYAACAASURBVPAB69evD5cNGzaEP9euXcuMGTN4avJT/OxnP2PMmDFEIhFyuRy5XI5oNMrjjz/O5s2bP49T9S8Py7KIRCJYloVSinQ6XUwEuxhSGvn9GeScDNlcE8p1KVQcayHRAVkRkMtBYxL2GQQx2+Kfi9/ns817T26Cafqzf5Zl8Z1LvkNdXR333nuvnwTpFfhxaxUSubZIt9Yaw5BEozGEANs2+ctfnqO+YSunnHoyc9+eU+AYWuhR1LyUsfMoTDjXWvP444/jOA433ngjSqmy80sHKJPuMsooged54UMjEolw4okn8uKLLzJmzBhuuOEGBg4cyNlnn80555zD5MmTef755xk7diyTJk2iV69ejBs3jtNOO43f/va34Ys9lUptlwe2kQ85x2Jxxp05jmuu+QErV6xk+AFf5ndP/I5nnnmG22+/g1//+tds2bKFAQMGcPTRR7N+/Xpee+01Dj30ULLZbL4tA52vdKlReK5LbW0tyaakr8kzTEzzi/EokPiEZNUqh8bGNMO+tB9WBLI5B5/YtP/q3XfffXn88cf96yUljuOydv06Lr3sMuIVCRzHIRKJhCWngVCfb1kWlmWFSbhGnmQlEgl69OhB3z59Of7447ng3y5gwoQJTP37VJYsWcL1119P//79yWQyfPjhh0yfPp1sNks6nS5HiboYQTlwT/nVYYMZqGDQsyu8nAP9tlIeSrlo5cu7fMmSgLxVp/+5IBarIOsoTAtsG+IxiNhw4EHDyWYEH67RxXpu3ca/dzOUUuEgRgiBYRr893//N3PnzmXKlClEo9GwzDv4pcJbk/gFEEKQc3J4XpZsNouUNs8++yxjx45l5cqVzHh1RgHZ3oNOxBcMhVWTt2zZwt13383EiRPp17df+N4sP7faxhfjTVtGGV2A4IEfkG6tdJgQcvLJJ/Pqq6+yePFi3nrrLd5++20eeOABbNtmxIgRPPPMM2zZsoV58+Yxc+ZMJkyYgCF9fbYhDSK2bzPoKf+Fn2xK4nouDQ0NqLxO2DYtpAZLGv4UqVZo18V1ctx5+x3MmP4qyz9YyStTp3LKqaeSc3JcddVVvPfee7z//vtMnz6dv/3tb6FfeDQa9QvmmAaeUoBEYCCEpL6+kWg0GjqqSAOU1n41R90yYaaziU67Hu25P/jwPPhg5XriFd0YPmIorgc11RaWtAhYSZGavcBtIRKJcMJxx/Ozn/yEiGXjeS4xO8LfX5nKr3/1KySgPYX2fI28lBLDMDAMo1mPWjBTUth2IamwLF8j3qdPH2699VZmzpzJxRdfjGVZ3HfffZ0ua11G51B4HQzDCIleQLJbS4Luyn0H94rQEomBxPDV18ojkDxJaWCaZnN/829nw4RMCo4+6gikF2X1yk+IRvK23Bo/gVJLUHve6zwYgIJPwk8ccyIXXnghP/3pT0kmk0Sj0dB/uz1/7OD5E3jyS2milMtXv3o2H2/4lDfeeIurr77Gd10s2E6ULLsfHbjX7KH7D59h+VwXT3kYpsE111xDnz59mDBhQpjPFGDPeWfsWdjzvqVllLGbERAj13OLIpjZbJa6ujoOO/Qwhg4dCvjTp4Uvi+HDhzNgwABM0ySdSeN6zdPVWumwwmXggFJbW4vnefTo0SNM0vvkk09wlYfjNEeJpDQYMmQIQ/erIxaLhyWPHcehIl7Bvvvuy4EHHliUxAcUkbd0ugnwjyubzRKLVhCJxNi6bStoMPeWMncdwPNg1eqPUZ7JgIG9kDKQzXb8AnAyWZTW3HLLJA455BC00qRzWXp0687P/9//Y/78+UjDoL5+m7/uTngNK8+fik0mk9TV1fHEE0/w4x//mDfeeIO33nrLL3ZU9g7vMgQuGYVVXwvlJMpTYQLYrkIhodQKPFfjOmmSjY0gDAS+Btq0BJ6ncbWLYWgqKuGYY47CdQw+3tDAtq0gWzDJ/HHtIbdMMNCE5sin4zrcd999pNNpbrrpJsB/Rm3atKlTBM00TKRsLiL2ja9/gyeffJLx48eXB6qfA5LJZGgUMHXqVKZMmcLjjz8ONH+XymS7fZRJdxll5BE8KGzb9iPPtk0kEiGTyZDJZIhGo37yolZ+Ul0yGUo4AgRuJ4lEgkQiQSQSKYp85nI5evXqRUVFBZ7rEYvFSCQSZLNZhBREY1F69uyJKQ08z82Tef9rKqVka4NfFKK2qpp4JIpt22G72WwW13WLfMZjsZh/LFaEWKwCpTxs26Zf335s2bKF/v370717LbmcQql8UTzRdnW5PR2OC56CRQuX4zpwwJeHIg0/AcvzOtbrGqZJJBZFa80TT/yOAQMGAFBfv41sLsvVV19N/bZtVFVV5WcPdhxCCkzTpKqqCtf1B0K33XYbJ510EnfcccdOEfoAHc1UbO9MxvbOgOzsTElX9l9KWSQbC4pQASxatIiGxobtkoC12290h3FLX+aiMK0YFYmq/N9yGKbIz7b5TkOuytKYVHTvXo0QFvPnLSabCXeUH1G2XWWzrWtWdN6UbsWDsGsQJEiCP6NQU13D008/zQMPPMDs2bPxXD/oEAQ7Ons9tfYT9nr27Ikp/CJfrle2qduVCJLAGxsbufTSS7n99tsZPXo0uVyuRcCnjNZRJt1llJFHqV1V8OAPXs4BCQr8R+PxOLZlFxfTEbJo29IXh23bLFmyhKuvvpqLv30xjz32GMlkkgkTJnDZpZcxfvx4Vq1eBfjEwDDNkAhIoLaqGgCvIJwlpQz7aJSUlfRcL295mObvf3+ZSy+7nO9+97u8Mm0aAF/72te44oorufvuu8lmc112LncXHEehPFiz+mOEEgweIJACNB1HYcIop/bJwaB992XSL34BQDQaw1WK+fPnc9NNN+b/tvOShOBF5WtUJU1NTTz66KN88MEHLFu2bKfbbw9dQeo/b5ROX28vPNfDcRzS6TTPPPMMF198MSeeeCKHHXYYs2bN2vn+KV+m1eF6WmNZNtFYJfVb63ns0f/hvG+cz6233cb6Devzs1u+/MSQksoqSbduEsuO896CpdgWOE5BUDvg2yG/FQSvdxG4CRYhv4EW+c8+n3tBKUU6k+bEE0/kjjvu4PzzzyfZ5Acvtvd+NAwLy/SdoZoyTViWjWl0vSa/jGZUVlaSSqW45NuXcPjhh/ODH/wg9Ou2bXuvDNR83ihbBpZRRh6FSTymYYYPkGA6OiDgRQ8WWUxeCtctbLcQQaGc7t27c95554UROMdxUJ5HdXU1BmDmE6y00ggpcJXCEAIpWlcoBtO5hfv2PA+ZtwNMJlN079adbC7LVVd9n4gdI53KkslkiFdE8ZQD2EVv6N3/EO3oRVz4ucS2JZ4La1av5/hRR2EqsL0shiFAyNAZJhialHKRwGpMKQUKzr/gm8yYNZMnnniCaDRKJpPh3vvv56CRI7n00ksR2p9WDazRCqN6raH0fAa/JxKJ8OUVj8dZsGBBc5/aIXHt26u1rPqntfavdzyO53mhhritfXU2Maqlv3Lr+9+Z/gffg2Cb1pLuOvI1l4ZEaMGGDRu45ppr2LhxY6jHHzFiRKf7hsAvXtPKKjr8qfEKvqdCabT2EEKiURjSZu2a1Zx33vksWrKE0087nZtunMjUv0/jxRdfpLraj2y7KJSGikoYtv8BLFy4lGjUl5d4GjzDIIdCoKhAI3T++aADXZUAofJf6yDO1pZDSBDtlq2egx0Z6BS2EXxXtNZcddVVrF27lj/84Q9cfvnlbdyPpX7bqqBN32Y1GPz6DuWyKImyNKHS+NyV3ds7mOlqJ/Gu3/97771HNBbld7/7HaZpdvid6+xn/yoQuiy+KaMMoHXisD3btbatn/zTsr2GhobQLSH4XCmFUyCBkHmbP621T6aVxuiE7KNwECCECF90ftKkRzxvFZjNOoDENEwMs3Vytfsfkp0n3QqTphTMmrmWS7/zACOHH8ALz30H227yS/hJE52fCTBonbAFxC7QUgezDAcffDArVqwgk8lgWRYDBgzgmWeeYdiwYVRVVYUuGB35PJeS0p0lqdtLugP3lVQqFSaxtYftdSPo6Hh2tv/BoLahoYGqqqoO+9Va+8lkEs/zqKys5E9/+hOXXHIJBx54IHPmzGnx3QmgCorjSN1MAT2lyWYF3/zGM8x5Zy4r1t2FFfWIYAC62QYvPxhTbs4fvFs2yaYkZ50xjlmv/YM//elPrFmzhgkTJuC6LtOnT+eEE04AfNmXqzTZjMG55z7FgoXv8/yf/x8jDzGRFnhSkUZj4FGpTGSLSpWi2WMwP6DW+AWwgih3y8FD15Hu8Bx6KrQPTKVSROxIUXJxW8/Kklba/7SVOgeF2PNJdyk+b9Ldcv9tfQ9zOf9eNg0zvI6l65Vi979Pdj/K8pIyyshjVzwQStv0XC8kbplMhqamJrLZbOjV7CkVLkHVS2jpjdrRPoNMcyF8r/GgcqZl20XSF+X5+vR0yl/8aPve67WaiEO3bj3R2uOEMcdiSELHgzBC2saLN/Roz/8M/qa1Dr2FY7EYhmGwfv16JkyYQFVVFblcrlXC3RE+j/MbDCSCpdXPd7Gme2f7X4iGhgauueaa0HVnRzTjtm1jGAbJZJK1a9eSzWY54IADitbZ0WsjRFCcpfXzDeT9+iXz589n1mv/IGZH+PKXv8ykSZMwDIPa2lq6d++eL7Ik888AhWHDASNH4JmaxlwGGQlMMF0sPExloHISlRNoV6E919dpF5hTaCVQeHjCxcMhJx1y0sMRGgeBErJD4rqjMEzf5SeVai4wpTxFJpMhl8vhOA6u6+5UDkAZXY/C90lAtqE5MTlA+Zp1DmXSXUYZBdiRl217VlelkIZvuRQkUMaisTCpK/B/ti0b27KbZQ47iOAhGIlEQs2dZUZwPRfXc4lGo8Ti/j5jcX+xbbvLksl2B3I5eO0frxOvMMg5TWFI0j8XotnHt5NE0XN9P+dRo0Zx6623kk6nyeVyVFVVMXXqVG6++ebwugdEcE+D0iocRARRxng8HuYm7E3wPI8HHnigyPZve2HbNlJKqqqqmDVrFkopTjrppC4hDELk5UnanzGRUmIWuKUU7uP5556nKlHJwSNH0r9/f+68806OPPJInn32WUaMGBFGEv0IsEQDkajAihn8c9kynHxTlmcRzdnE0wZmE8ikQNSbiG02pC1ICUgBGRAuSM8MJWdaKxQKpQUKjad1iwF+VxEpz/XQyk/EC+69nOP7o5uGGQ6GdiU6k1TabsLpvzB8r3lFJBIJ3yuW2Vw5t3yeOoeypruMMj5nxGKxZimLFEWVKoUMNNv4mlFotfzc9mhohfBdMoJqYabhOzY0kxaNUqLISm1HpTa7G5YNsYpKUul6Dj1yeH5m3fcmF8InFoK2vYALdcKBzCQgApdffjkvvvgir7zyClu3bsW2bf7rv/6Lww8/nFNPPZVYNLbLj08Iwaeffkrv3r3D+0YaEuXlvXOlgWEapNPpokRPIQSpTArbtonH46TTab8qYAc6dM/1/XhzuVxehmSENprQfM4Ko5eB88/OFspobXulFL169fKdP1rRAHcGWmvi8TgrV67k7bffJhaLMXz4cP/+8BSGaZDNZmlsbKRbt27b9R1Qys8XkCXbGAgcz8MQFnYsytatW/nrX18i6+QY+qVhJBIJrrjiCq644gocxymaiRJSILXf7vAv1/HZ5g00bG3EzUBFDEgL2Ao4wKewdoHL0sXrSTd5NKWaGDS4Hwcd0p2qocAAX+Ytu0m8lEJGBJ5U+cGpT8J18Nxp5Rrs6PMglMhp37LR8/z7LhqNhp91ru32AwJyF/O97b+XS9YXHQwUdenx7ewBdd3+S3MoWssh2tveF7sDZdJdRhl7GLo6UqDyUpXOrBdgr3x4atiyBRYtWooREUSiIox0S2nkc8p0Prlqx47v4YcfZtSoUXz00UdhGesf/ehHTJs2jYEDB4YkaVchl8vRu3dvtNas37CehQsXcsQRR9C7d2+MfHqo1ppYzB8ABN65ylMkEgkWLVpEJBJhv33369z+nBy5phzV1dWkUineeeMdlFIceuihfoTSNPnoo49YvHgxX/rSl9hvv/12qStKMEuUSqXo06fPDn1XmpqaiMfjbN68mYaGBg4++GBGHjySuXPnsm3bNo4++mgSiURo5bg9VSq18q3sEH4ORtbJ+tHdWBTL8AdDpjZpbGzk448/JpvNss8+++B5vuwsiCSCH5H3lBdeVwFUVRjUVsbRnkRkYdsmqIlB42J47c+LeWfafFRjDJWrIR7rBsAn9mrmP/9PnMoGTrrkFEZ+PQ6NYFkmngva0ChJ3uRQ5b8nzfcSdO3zQGvd6vPo84iQ7uw+dulzsQXh/ZzRif2XBnnKUe3tR5l0l1HGbkIQOdiVJK2j/QMg91KS3QpiFbBpy2ek0w0gXISwCUr7Cdm2nhsKrkdBdE9IgSyo9Ne/f38effRRxo0bF+rwV6xYwbXXXstTTz2Fbe3aAh0B0b/vvvuYPHkyH374IVVVVTzxxBMcffTRZLNZotEon3zyCeeeey4DBw5k8uTJCCGYNWsW5513HvF4nFmzZjFo0KBO7S8Wi/HXv/6ViRMnopRi8+bNDBgwgKeeeorp06czadIkBg0axOrVq7nrrrs499xzQ91nYaLwjqJwe9u2SSaTVFZW4rnedkuhtPYdYlzXZc6cOaTTaSorK/n2Jd9m3rx5NDU1oZTitttu46KLLqKpqWmHS8ML6Vc4De65nOsQjUZRnmLNmjXhcY0bNw6tfdmFlJLGxkYqKyux8/kXAQwNlRGJm9zGm6+8TvS7J2AraJgP9/74GZz1Ft3soYhsAuUkyDb497IyXVw7QrbC4A/3TGPBgn349g9GQg0YVSaGVngGeBKEkDukOe1omNVsQiKarcVpdhFSO3iLBJHtzm5fyhGDY+3sMLH0Vt7e/ZdG6ou2Fy0/77C13bz/wOgqOH8dfdVbDLU64uxaB4kSXxiUSXcZXY7ydFMZO4rSxBxQRbKXNrfLP71TqbzftnDZty5evI4CHc4/79h9mc1mOeWUU/iP//gP7r77bkzTxPM8XnjhBe655x5+9tOf7VC7nUUsFmP27NlMmjSJN998k48//pgzzjiDW265hZdffjmMIL722mvMnj2bMWPGhAWT/vKXv7Bp0yYAlixZ0inSnUgkmDZtGldccQX33HMP3/zmN1m2bBnHH388o0ePBuCll15i/fr1fOUrX+Huu+/mzDPPDCPtrUmddiY6Fkhb0uk0Rk+jzbba+rsQItQUz549m0gkwiuvvMJPfvIT3nzzTaqrq/nud7/Lt7/9bfr27ctxxx3nnz+rlVdlB4dhIEjnskTsCJs2b2LZ0qW8PWcutbW1TJs2jYaGBqSU/PnPf+aNN97Atm0GDx7MmWeeGbrhlB5Hz+4mXlOa/rUDcTbBhoVw//jH2IcR1MT7k0kKVM7GcyykZ+RrB7hIJ4eRrsRVFSx+cR2/Xr2B6+4fCxFAmEipUVqxY5S7jDI6B0VA6/M0vYPHsNItpVp7O8qku4wuQ2svuj3Pgm73ojXLuK4apJRGajuzbvDvrtJu7gxKNeme5/nFhqTEcRzf+SCdJFHhV+9rTNZTkbc/BIHSfmBka/0WpOHRrz/+s10IdPPTvsNod2t9ChCJ+MU4fvnLXzJnzhxef/114vE4jY2N3HzzzYwePZpjjz22SPfclfBcjxtuuIEf/vCHDB06lBdffJFUKhVO9TY1NVFTU8OMGTOQUnL66af72mAUEydO5NVXX2XRokUhOXdc30Iw8Im3LMt30fE8DMPXcn/ve9/jtttu4+yzzwZg//33Z5999mHJkiXceeed1NXVcdppp2FZVij/SCaTVFRUoLXG87w2z0VbuQmBrMN13aKEzyCBUkpJQ0ODnyRsNL/GPOWRTqdJVCR8TX4bz59t27bx2muvIYTgF7/4BePHjw8TYceOHcvjjz/OAw88wPHHH9/6hcg327LoTD56WJjAi6a2poabb76Zf8ychWEY4TEJIbjvvvvCfIurrrqKr3zlK22WNO/eA2wzgm60kFvgoZ9Po0fmEOzGXqhcAkMbCCSGMMHM622VAY5BxLWorreJRmPUz1vL6498ynGX94b+EhEBC6Mov6T0urSH0ohx6dA2+M6J4HqU+qeXRGzbGhq3pdnu9Patb96i/0E7pfvb/v2XRpZbj6k3b6862H4P23/+OoYzFhTvP1wtSGBH5dfx/y/D9Z38OoJULk3criHnpRHCQGMgWsbI99rh4d7a7zL2YJSzmMvYURRa3AXVPRctWsT3v/99lixZghSCdLoJx81SmahESjNcHAcMA5YuWUpFRZTNW/DfutpF47WYWt4RKKXCaf/JkyfTrVs3GhsbSSQSAFx99dWAHxHPZDLtNbVDWL5iOevWreM73/kOuVyOl19+GYDTTjsNgIqKCnK5HO+99x6GYVBXVxdWKbUsix/96Ed4nse+++5LJpMJo77r16/n4YcfZvny5ViW5Q9ypMETTzzBvvvuywUXXIBp+Mm469evZ/ny5di2zeGHH45pmJx++ukMGjSI+++/H2j28XVdl7Vr1/Lggw/y4YcfdioyXVhsyDAM4vF4uNTW1gJQU1NDVVVVvmqrES5Boqg0ZJHdZqFlYn19PStWrMB1Xaqrq7n66quRUob+5ZFIBCklK1euREq5U44agbuDlAZ/+MNkPvroI1asWMEJJ5yAbducdNJJzJs3j3Xr1rF48WImTpyIaZpks9lW26utgoiwWb9sMzP+DNHUAKKpAdi5bhhuAqmiSGUjlURq8otEKhvDjRPX1fQxB1Ll9OfVP8+Fz4AkkPXJtpKev4gCn8HtWGT+p8gvwd9k4We69QVUnhSWbK+bl12+PQpEQX9FV/efsEJo6QLNpDZUe3T58X9++y+8LzQeGg8PjYuXXxx+8atJzJwznUa3ARcHhyxp3USSz8hJB1c45JSLo3OonU4q3TNQjnSXUcZuwvZEpnfV/jvzt90JwzT4+OOPeeyxx3jqqacYNGggF110ERdffDEDBgwgnW7KSxkEnitQDqAUn23dimXmAzFSIhFoWVqfrn2Evt6GKPo9QLdu3bjjjju49tpraWpqwvM8Fi5cyLXXXsv999+/SxIKe/TowQsvvMCAAQNYunQpS5YswTAMRo8ejRACy7JYsWIFixcvpqKigkMPPdSP+Lq+xVdNTQ39+/dnyJAhCCHYtm0bFRUVPPbYY9x666384Q9/YODAgb6zifIYPXo0Z511VigXAZg1axau6zJw4EBGjBiBYRrce++9fpQ7GsNxHOLxONu2baMyUckDDzzAo48+GkbI24LWmvXr1/P888+TSqXYunUrlZWVRes0NDSQTCa59dZbw2THzz77LLweW7duxfM8rrvuOioqKsKBW4BUKkVlZSULFixg8+bNnHvuuaFOPHD4Wb58OeBHw2Xe9WZHX/dWnrA3ppvo1asXynX57LPPWLhwIUIIRowYwbChwzBMg549e/rr5jXdUHzPGcKv8WSLGFvX55jz6kdYuW4IL4HWNgoDcFv0IYRQRC2T+sZNGNUxpFPB269v5Ih9e+F4DoJMvniUzCdVNu+/+Sy28nwoCSu3F8lr70wGLZdu39knUue21x22VxrNFUX/bmeWrFP7bxtfpO1V/vfgVHr5f3m4+Wi3T7/nLn6L1+ZPp1efXhxwwP6cMPpEDhwykhRpoiKBh0YIF4GJgYONlR8Q7Fnvqe1BmXSXUUYZeywCpwPDMHBdl2Xvv8/Pb/w5t9xyCwcedCA/+fFPGHvmWOKxGK4niVeYaKWxbYu8CUQIof0XQmuluzvbl6CqXkNDA7W1tVz07xfx+uuv88QTT1BZWUlTU1O4vpSyy2d7evbsSXV1NRs3bmT69Ols3ryZI488koMOOohkMkkikeD999+noaGBQYMGsd9++xV4PQsWLFiQr3QImzdvplu3bkgpufDCCzn00EM566yzSKfTaK2xbZuhQ4cWFcQA+Oyzz8hkMhx88MHE43Gy2SzxeJxcLodhGijH9/OtqanBcRy++c1vcuyxxzJmzJgOB5m2bfO3v/2NhoYGKioqWkR8XdfFdV1mzZpFIpGgqakpnGVIJpNEIhF69OhBfX09NTU1LeQSgTTl9ddfRwjB4YcfTjQaJZlMYts2tm3z+uuv43keFRUVO5Xk7CqFUh6GaVJRkaC+oZ6YHWHFihU0NDSglOKwww4j5+Rw0y6JRILNmzdTVeXLpzKZTOhkEiDVALYyiOpq3K0m0VwM6UbwtMyTnYDytI6NuU+JCINe3fvTmNnI69PncshZZ2F0t9ic3Uw8koBA2S1AUky6RYvfKWJlwd0e9KAFARe6aP22ZClF2xesX7q/7d2+VA/UQlZS0k7p1TcQu7X/e8P2quR3X2ClUPmfHh4eDh4ORoWDjCnWJ1fz0ZzlzHj37/To0YdRR49m9KiTqUn0ICLjxIkDJh4eJgKhZcdZm3soyqS7jC5Da5HbwN8X4ONPPmblypW7q3t7JLrawmp722tLw/15R7zb2//SpUvxPC8vPQEh/cIeSxYv44ILLgTgrLPO4rvf/TEnnDAm9D7XOk+wlYKAAAvh60o7eXwtNPf5qHH37t1DXe59993Hu+++y4IFC7jsssv4xS9+URSt7EoE1Ut79erF1KlTAd/9Ip1O+xZzrscbb7wBwMknnwz4RDWdTmMaJtOnT+fCCy/EcRx69OhBMpkEYMiQIQwZMiSsMmfbduiEAv59ks1mMQyDV155BYAxY8YAPlEOjjebzWIaJkIIstksUkoOPfRQjj76aBzH8SPHRuvnXmtN927dee6559o8ftM0SSQS4TGGUjalQ191T/ka8ta+C7GorzefO3cuWmuOPPJIpJRhwZzNmzfz7rvvYhgGZ5xxxs7lWEifHHiui21a1FZVU19fz9q1a1FKUV1dzQEHHBBq4JWn6N69e7h9qa5baN/BRKddRgw8grtWcwAAIABJREFUGCNjY7oWwhN4YYl6n+a0Bi2g0qzBM3Js/mQbsiLC2pWfsPHjHNu8NejeKbZtXImSbr6tfL5HQXNa6yIJQqv7aet8UPx8Ko0ol+qRW9u+EDuyfeH13B37/yJvH0aztW4R2NCBFXyeknvCwTNyNIqN5GQa18phmgLXsPkk08QLM9bx0vRn6V07gNPGjGXUEWOotmuxqEBgIkRB4sRehjLpLmOXIiiSkclk2LRpU6g9LcPH7ibdgQSi1CFkd8hMQmJdMBAo/F0pRTwex/M8HMchm82GhX9eeuklZsx4FyH6oUUN3fv3JxPk34X61J1PYXEcJ9T+BtHdxYsXs27dOk499VRuuukmqquraWhoIJfL7ZJkykQiwbp161izZg2e53HEEUc0+3J7bihdOPnkk8lms2H1uE83fsqaNWs4/fTTQ91wIpFg8eLFuK7LiOEjcD2XeDxOKpUK9d6bNm2ipqYGKSVbtmzhzTffJBKJcMghh4TnIxqNMmvWLPr27cugQYOImH7C6RtvvMHgwYOpq6vzCZvZ8TUolYQUYv369cRiMZYvX87gwYNDvbqQIrRTtG2bdDrtJ4jmiXiAoLiP4zgkEgl69OhBJpMJBxiLFi1i9erVSCk588wzd+Yy+elfhoHCIOc6uJ5HZWUlK1euRGtNVVWVLznJ++g7rhMS7ValSRoiApSXo9KMYdRrTM9BKoGHjQZM0X6BGF+ZbIIGQ5koR3H3f/2aT2qWs4FVmJUCnSfdQreUlwTnsr2nQ7uku+BalF7lMDraRuOh7riN9tvavnDQEBQaanX7NkhnW8e6o6S16/avwvb8bSVKdH3/O7O9EAIt8j9la4WO/BwDlAfCRUsXV6YQtiZREcUzJBkng+M14TmQyZpYuoKo3MID99/DX3q9wEnHfoVLL7gc/w7Ye9MRy6S7jF2KUBcrBIlEguuvv34392jPQpl0F+8vcFIpdFNZsmQJU6ZMaTHVDlBdXc22bduoq6vjxz++mRNGX8CBh4whk0lTxFvCSmzbnxRXeC4KCXc2m2Xjxo2MGzeOyspKHnvsMfr27UtDQwOJRGKXyEuCKLLjOGzcuBEhBPvttx+maeI4PmlbsWJFSOqCKHRVVRX/+7//S11dHQMHDgwt6e69915effVV3n33XW644QYuu+yyov39+c9/5kc/+hGnnHIKDz30EGvWrGHTpk307NmTkSNH4jiOX11QCC699FIeeughBg8ejOd63H777axatYrZs2dzxx13cPbZZ7c7CBFCgCwmZqWIRqN4nkcikQirUQbrG4aBECKsthnMREghQz9vpRS1tbU4jkO3bt3o06cPlmmFTi3Tpk0D4LzzzuOEE04ocNQBENs1o+0qhee5+YGhhZ1Pqpw9ezYAw4YNo1evXv51y/u7BxH7tqAVxDFR2RS24WGQAqnQ2sxrutuGQqIx0YDULhJFzDIZd/Y5bKj5gGR0C5guiOJId9H+O7ifQ+KW/1nq7iJKrm3webB+Z9xLWnOMaa2Nwm0CGG1QSNXGtqXbt/VZ6fZtHX+Q3Lo9fWjTsQRV3L6WaOFvX9jG9vR/e/Zfun0wS+aVOKQIYWLgV1o2EAjpgeHgWlmeev4Jtia34poZzIgJSGwjTjSWQGZMRMbm3752MaeMPoO6/sMwsNibCTeUSXcZuxjBtHQ0GmXIkCHcfPPNe1yy3u7E7ibde4q8pLAvRVPQUjJ37lz++Mc/kk6nw79Zlk+U/u3f/o1rr72WffbZB9OMI4Fu3apRKkN1jf8yCKmICNJ7dvyhHSQJZrNZLMvia1/7Gp7n8eKLL9KrVy9c16WqqiqMprZl/bajMEzf1i1IurNtO3QJcV2XdevWsWXLFmKxGLlcDiFESEDvuusu7rnnHoQQ2LbNX//6V2bOnMlf/vIXhg0bxv/93//xve99j0wmE0bOJ02axKZNm3jnnXeIx+M8/vjjAIwYMYKI7TuHANx2223U1NRw8kknY5gGjzzyCBs3buTpp5+mT58+vPTSS1x44YWduj/bI52BtZ7rui2kP1r5ov1IJBI6n0DLezmVSjFkyBCWLl0a6tBxYcMnG/j1r39Nv379uPXWW3foO+B6UCEtlFaYUhK8Yj3PwwOcbJYFCxYgpWTYsGGYpkkqlQrvk47OTyYHidoqNjdspHfVILyci6FcDJ0DTLTQeEIhtETmKwwqodDCn+lRmEgJOaHwpEtNrwpGjRkGQ4axVTdim8Wa8NKEtfZSkVXResH2xdDoDklne9uXWt4Fn4da5DZmSYJ9BqS7iGSWtNFa+6X98h06CmKu2o8yq1baaRnzbRvta8qbFdQyv6ahC9XX0tdUC0Ur8yStoq3iQG2d/5bbF6n7C7ZvLfVWo7WHxkGJHC5ppvz5j3RL9MCVOTzPxc0IbCPKoQcezSmjTuWQ/Q8nIiuwVATtgpIgRSc6tgejTLrL6FK09qIKdKFlst0SXX1Otre9PemaBH1RnvIT8pQilUoVESwhBJdccglnnHEGX/va14rs3DwPGupBqRx2LEJjCuKVoIVPJAIXCiHyc7BtHHp7xCeQPpiGyVe/+lUWL17Mq6++yv777099fT2VlZV+sp6QdP7V13z8nXGzyTk5EokE3/rWt7jrrru4+eabeeihh8hms1x66aX06tWLpUuX8vTTTzN69GhyuRxXXnklo0ePZsyYMaF05JNPPmH8+PG89957rFy5kuuvvx4pJa7rFn1n4/E4jz76KM8++ywzZsxg+PDhzJgxgw/Xfkj37t154IEHeOihh/jHP/6B0gqRZzQTJ07klVdeYevWrVx00UUdHltrvvWlsG0bwzDCdZWnQpIuZPMsiRbFlUULEYvFmDhxIieeeCK/+c1vuO2225g2fRqXXHIJvXv35umnn2bgwIGh00lxH/NR73w+oIdCawOtVbO/fBHlCHTn/ufvv/8+yWQSIQTDhw8P/efb6mvRviXEusHHqc/oVeXwibuZajfGgGgVVdqioTFJ1jbxhMRyzXxSpX+rO4YLKCI6hpSwJZdCViiOPeUQlA3SgBgGJlaRN7PWvmSnxaC8lS9P6z1vSTHbugVa3774O6RLQscd28jJkl6ocGeBFKO1b2lrxFgReMO4SDRGfm7BUBKpDBQmnlR4JRv7Mh2Zf+Tk71WEPwDJH0NHR6EKJBUy3xPhC4X8pEIkmoD4F3ttf75ofUihtW+/6AmNxkAjkVgYOkK2yaUyUU2fXgM4d+y/M6jvEAb03AfyXjeSvG2nlv73D112LymjjDLK2FkEUUzDNEL5Qzwex3VdxowZw+WXX86ZZ55JdXU1mUwG0zTDJDqlFUpJpAF1Q/ZlxYaVxIoKUip2RFpSCtdzMUyDyy6/jGnTpvHUU08xatQo0ul0kURHSIEld01xnICYXX/99RiGwXPPPcfQoUOJRqOcc8453HLLLTzyyCM89thjjBgxAsuyOP/887nxxhuJxWKhf/gVV1wBwCWXXEJFRQXf+MY3wsRKgHQ6za9+9atQdmKaJg8++CCHHHII559/PocddhiDBg3iS1/6EjNmzKBv376hzCUooX7XXXdRV1fH0Ucf3ekBXnvr5XK5MHIfENbWtiv9d3DOXNdFKcUxxxzD73//e2677TaefvpppJSMHTuW8ePHM2jQIDzPK7JJbA2tkZpYFJJNjdRUNJN1HfgjC8G6det8FxylGD58OAC2ZXdqBgDAlZASaXoMiXPMsOGsnLaGxq0N6HQT0UgFWa0AE6ElhvLvR58ESpRwMWOQcpN48Ua2qQ0cd/qRyArwHIesm8GKRcIIud/3QMO9ozNhXSsFKCXIncgQaHbg0BTIzPzBUX5urcVWrR2dT20FQZRboEIfdLREaiOfuN1y23AgI4pJt8BPfm23jLuWRXkOfg6hf1xCS4QKCLlESoXUMixyA61LZnYZdPEVCe4lL59mKUTQVxMB1Fb0YvToYzh21DH06dafGDVIN4J28pIxKf1tCuSHezvKpLuMMsrYIxCQ1oBwO46DUorRo0czbdq0Ir1rNBrFcz1UQYQR/Gdzn169WbRqBcr1tZU6X+BCS0C0/8grLepU+pCPRCLcfvvtTJkyhZtuuolx48aFUoaApO0Kf+4AhmkQN/0KmDXVNUyaNIlJkyaxYcMGHMdh0KBBmKbJD37wAy666CI2btxIv3796NGjB47jkMvliEajKKXwXI/NWzbzxz/+kYsvvphERYJNmzfRq1cvMpkMhmEwZswYnnvuObLZLN27d6empgaAl19+mU8//RTHcejXrx+maYZ67SBxc82aNUydOpXrrruOmpoaNmzYQL9+/do8ts5Ee6PRKB999BGWZYUVMAu3beulHPzdtm22bt2KZVlcdNFFnHnmmaxdu5ZBgwaFx1ZfX0+iIoHruaFe3Nfo7ryn/qJFi/A8Xx40YsQIwL+mnS0mlk5D955RGtz3OfUbp/HGS6uoET3RdjUZ10DIKJaSWEqGQ0ypJNqTOAY0kqTR3Eg6tpZTzj0IszdgglYGthVHeSC7lid3KWSHs0ftdL4VSUlHSoVCzbLAd49RongvSviSh8Iqlm0RXVHys3Q/pQjaaakND2YxJAjZTHa1BKHy7Sm/bwXbdkTA29Nvt7596xUrW1svsGxFSMBA4nH/nb9F4aK1xsQEbfqNeL5cTAlNG2ZHey324K9XGWWU8a+EgHjYto1SCsuyQvKtlQ4j4AE85RUTZA3K9R0CtRfxpSYekE++EVqWJB61vv9AohC4YRTi97//PePHj+fKK69k/PjxuK6LpzwM6btilPpCd/aY2yNdoT+45xNlpRTxWBzDNEJte79+/RgyZAiWZfnOHXaEfv36MXLkSN+vOp/saEhfEy6EwPVcpkyZglKKe+65h1emvcKTTz6JzLsPBDKZnj17UldXR3V1Nel0OvTD7t+vP3V1dcRiMZRSoZe31hopJVOmTCEWi/Hzn/+cyZMn8/vf/75T56Qwmba15Sc/+Um4z+1BcH1qa2uJRWPU19cTj8c5+OCDQ6cWz/VCfXUkEkEaski20hHSGaitqMJxHd+VWAXyDP9V+8EHH5DL5Rg8eDDdu3cPq3x2hnC7Gkwb6lP1uJF6agbDt//jJMx+TWyzN5GKNeFaWZTMoUQOD4WHQokcSuZwrBSfeB/SVPMpvQ8yOP3b+4HpSyaElMTMKEYH8p69HVrrfIS7IG9EFy/tIbBtDPTcgUTFoTmBsCsjyzKMzucrO2oPhAoj2UqAozVKQzv5x7sFhefS/7dEaAOpLUxlIrVFrknjpUwslaCCWiIijiWj2JaNaRrIL0BkuxTlSHcZZZSxxyAgvQFJFEKEEgKlFJFIpEV0s5AkRKOQSeeIWLV8+KFDv2oLrUBjIIy8Zlrp0N6qxf5V8Qs50Jd7rscbb77BZZddFmqpM5lM6DohpIDt49utJo66rq8aXbRoET169GDAgAHN7Qf9UxppyFCOE9gmBsQ90GMrpfzBSt5WLwivKa0QWmAaJm+//TbV1dUsXLiQBx98kJ/+9KeAP+sQDDpMwwwHE7Zlg0X4e3AtCl1JotFoqF/u168fq1ev5qWXXgrb3lEopbBtmzvvvJN0Oo3neS1KtLeVGKy1xjRNPz8gz4ri8Xg4bR8UYBJCEJEtXXI6CymgMZcmZtphjQLLMHA8j4aGBpYtWwbAscce22LbzjiXzJn7GUhBVa9qdCUcfBqoyIE89ZsZOMkcVaI7MaMH5DQNWzf7bjcRiWNmaDQ+Q/ZOER2Q4ZrbT4f+gAWGBa4A5TVHFfdc4t2RYWDx73lvJr8MeYlUJvAcb5/WNdvygSSXyRKLW7iexlH+d9WQEikFaImH267e2Ms/JIJ5CEFwrxaXEyqMGBsAQqOUg0KjPA9pQNpz0cpAK4OIHW+OJGtB266bKq8tb32Fwmj9jqB0+7AdofM+7eSrVfq2lZXxSHjMnlJorZAUD1S/aPhiHlUZZZSx10J5+URET7UbzZRChmW6w79JGDZsf7QXwXOsvG1gXkeoi/1dS4lFoCfPOTlyTrPHtud6LHt/GV//+tc55JBD+O1vf4tWGstsJppaab8v21nBMNCkB4tpmixevJgzzjijhY0j5JMF5c5FI6WQoWzie9/7HqNGjeKuu+5iwoQJHHHEEaRSKUzTJBqNhlZ7ncW2bdvCgdN1113Hfvvtxz333MOPf/xjDj744B3uMzS71gTuKoXH0VkUknTTNBHSryFgWRZa6XDQo5UOdeOu6+J5Lkp5KE/nkynb3m+qqYmIbHZOSWUzaK1wXJfVq1cDcNBBB4UDl+DadwStQKsIjmsyaMggdBxEfzj06xVcOfEseh6m2BZfxnrxHuv1PJqqVpOsWk1j5UoaqlaRrF3DcRfsz/d+cSpOLWCBtnydOPiEydOd68ueDVWwEBLuIPLvaF9h7FvrFdZP9NFMOP3kv2CR2jddFBhYRiWmlPz9lan871OTEdJCGxItRYeRbj95UxU4nbQmAldFEW5wkVKjdAZEDoni/ZVLuO3OX5J0smgJjs6rS9qIDitRmHba8riL123/GDpCuH2gLc9XTJV4mNrJLx6mkpgKTOVLZqQGtP/d0brt/u3NKEe6yyijjD0KnSWuQeETKWQozszlYECfARhGjI83bEUfUusLcjvRpOd6eKo5gS7we163bh1jx46lpqaGadOmhWQ4sMvbXklJu33wPL7//e9z4okn0qNHjx1uJ3zxtidxFYKjjjqKp556qig6LqWksbHR102bVtH16IiQVSYqQ2nK4YcfztSpU/1qmZYdFgvaqSqPXTTdLKRvOyiFJBqNhsV0TOHPGBimgdTFA7owFqkBfF2BVBIh/KicEALTgn4J/7pZpoUpJRlP4QILFyxgw4YNdO/eneOOOw7HdYoGbsUoVB3nfZAx+GRdhoqK/siIjcgnCjel0wwZG+O640exZRm89+Yylr27HDftUFNdTay6gi8ffiDDj6vF6waixrdeS2swTf/fRXuWHkZbN44o7teeE7crGEzny437/3ZQqjlR0RPNji4SX6Yhgz/kERSayf/mt553O4rGI2gnTU6lmbfgXZ555hlGHnok2bxlo0HxoybYrxG2FUTgRdhrXRDlFkXrlRanV8QNC5csnzZ+xH/dcysVVX2QFZKkylFl+gWSyJNVQ4gwsi4QRe3oonNWHIwIkjz9vhdG4P3cGH+wkE8rDbTkeW93LYLjaHaJQfhb+nruHALXb0+b+Yh7gSad5s0oLGgmVH6dHa+3sKegTLrLKKOMLwyyWV/rbRkVrF2zEahF5UNXpVHxUgT63UA3HolEqK+vZ+zYsTQ0NDB37lzisThNqSYqKys7nfy2PbjqqquYM2cOv/zlL1tIJ7oaQd+DokOO44QFZwLrw+2F0gov54W6/ED+orTaacIc9CcajfrSDdPs0GKwPRTKlgJJTKHkp6gaKgA+wdaBJKGV3boO1MsMFVaED1Z9wMSJE3Edh98+8gjz588H/KI4++27H9lctmUD4d6CCGugHvbt0rZsbmTTp0m61fagvglqekMMC9fLYdbadD8cjh+8PydftD8oUGmQvYD/z955x9lVlfv7WWvtcvpMGiEhJIQQSuhJ6CAtAlJEBAERpYiignr1YvkJ3qboVa/A1atiR2mKoHQUkQsh1ACJECAQIKT3TDl1t7V+f+x9zpyZVAxwk2E/81mfmTll77XLOftd7/6u71tI+qugqg0ZW5B1wGuOF4WJPbDFWzeAfDvY0LFul5oZEt0zJm4izk43C9bEmebYws9GJgOJOGhsVXZsydv667QlIGyJSw5kRGgZ1tR7qIuQDFayHE2UZKn7zngrWadO7P+S/raFwzIJho2O0CZCSYEUps16VBMSsHzNEkLpYVSAzCkCqbGICJulj5KsfCzpEG39aC5J0xcGy6Rvza0DKxm0tO9pkQTcgoh4mBC/T4p4oKGT1/cL0Zt3CLQEnNZyjIkwJkTKsBVMGymJhSVh21olKsmQGx0CEUKot2zg/X9FGnSnpKRsFaxPo71JX+cBZb5LBTjogAP51vfuIfIUQsTZPN/XOJa1Se9ao00rCPV9n/PPP5/nn3+emTNnMm7cOLTR5HN5fN/HcZxWFcX29zeJdNTyGHdsp+VS0QzqM5lMq3DUww8/zJe//GWeeuopdtllFw4++OB+/s2by6aKHK0vaGk+1gy4m0gp1wm8N3UXohnItntyu667Wc4km6K9P+0TGzdkFdiv3+vZD+2+8M3y9O2Pt/dZSNE/yE7+HugqEWko2RmC0OcrX/4yd9x+Oxg4/YwzeH7OHCC2aIQ+eUu8vGbwB62Am2YxJxDaIIzijQULyOZcJu2+B4Us4IFwLVDxRDoZgpNP+mfaCokksbuSUEi2K9TNU9fEjsjStNkFDhhwbfQ83JJs9+YN7DZ53jQ/d1ITmZBQ+60srzGJnYhQGMsiQ55uXcORNgKDBVS87njiLC5BFCKNhRAGbQIsYVH2a+SdEhERigioYLIRPTSwt++giwolAopoHAQ9dBHi4xgDgcGxCghhI0QGiwwVE5ATGQwRXuQTak3OziOBMIpQTaccEWeeK7U6tiNRMmRIZ56V5W5CGng6IECTJZbRDERhCIkQKEJCvCjADxpkXIUlFLrl8e0ihJXk6qEe1LFti97eXkaUhuN5NTK2QssGDnlWBz24dgkrUiAkQhpCGghctIZIG4QJEIRYyibyAsJQUywWCPweIuFhS6iH3SAtwsggLBcPjcSiUvPozA0jKySRD65jEUR1bBlXrdyWSYPulJSUQYEApAuuZeM6eZ599jkcZxeq1SqFQgEdxcU+NqRTFkLg+R62iR1BLrvsMv7yl79w9913s/fee+M4TuwNbanYTq5ZDCWKWnpuqfqy6QrVryJlU4bStDvs6elhxowZ3HTTTdx22214nodSitNPPz0OAN7CMvIbGtBsKAjfmrNJzUmRbxVS9e3n9QXwrcdEEiJu5JC4LtS8OgrBSy/NRSrFYYcfztgdd+SOO+5g6tSpfPKTn2xJl9a9mzAw8G72x8YYWLpkCb29vQwbVqBeh6Ib39KPkmZb9N3aXw+m7bBKwCTG0uYfmjnXX5bwTrDBTDcCI+MsqhYaIRSVei9/uv02nnj0CXq7ygih2GX3XXjf+09l/30OIyQi1AFCKu78yx/5w+9/z+mnfYQTT/gAhWwJISVhFLKyaznf/M/v0N3dy9X/9QMKeZvvfe8K/j7vBVRpKI8++yTTn3qcYw8+lK989EL+cPfv+eWt13HueR9mVGko9995H2tWlfECwaQ99+fscz7GiO3G0MDDQuAoh7M+cjpDhw3ju1d+h85iCUc5JL4y3HrbLfzpjns44aT3ctaZp3Djzdfz1+l3EyqbpauW89ELL2Cfcbty5eX/im1l2/ZVBMLgBz5ZO4sfBixatoRbb7uF1155iXJvN7Zt0dE5gv2mHsQpp5zK0FInigyru5bxtcu/RuRHfPScj/CB40+m3FgLdkhPtJb/+M+rWbRgBaefcBannPQ+IquGcgRLly7mj7fdzovPv0St2k3GgX332pcT33c6u0zYnYZXQ1kWggZ3/fkubvrDDVz4iU8wYvsd+MV1v+HVBW+QKxQZP2Yi0444gcOmTkMEBtcZPKHq4NmSlJSUQcGbKaLSykISxyhhDfbZt0hHIU8QhDR86CgUqNYD8lkbUBsNZJvrvvbaa/nhD3/Ipz/9aXbbbTfmJFlKx3EIwxDLslqOIU2Xj6b1W3sA17TSq9VqeJ7H4sWLWbRoETNnzmTOnDksXry43/odx+Hcc8/d4qB3Q+9v6tE3N5jfnEz5W9Gvd+r9m7ucjT3f/lSccadlK6gkhJEBITjqqKN4Ze5cxowZw/evuop8LsdPfvKT9S9fbChQjgPbphxixaoehg4Zxk47Q6Gj+d6NbspGEYlYuc+xp60fLR3t1kP7fms/F43sk+TYSGa+/Aw/vvZH1Go1bOkwefJUli1bzJIlr3LVNd/ioEOn8fGLLiEjs4TU8XUPpaEOERH5Ygnfi8jIeFJsLpehHtTJFXM4GRuNZu/99qGGz3OLlrPThImM3WEs++y2K6HxkAY6hwxh1qznuXXOXHYaOY5ddpuE14iYPXs2s194kS9+6avst+v+BGGdnmoXw7YbhlIOkaBNS63xoxpaanzjUxjSQShgn/32Y2V5IU88/xKZXJ7JUw5k77ETyFvrFnMSCIQweKbB448/zo9+di1SCEaPGs6EXcbTaFR5Ye5c7v7zbTw68yH++7+uwbIiOofmOOXk4/jr/fdz///exYGH7UVnoYAm5Lbbb2PRioWMHjuOY6YdSiHn0BN087eHH+IXv/w1YaQZu/04dt5lD9asXMicl59l1pznOeusj/DBE04HQupBQG+ljG80jzz5JPPmzSeIDDvvPIFG1ePlOc+zYO4bEGY57ODDYmn421Bs7P+CNOhOSUkZNFgZsANwM5Jnn30GW51J3YN81iYyJKHLhslms/zsZz/jkksuQSnFXXfdxW9+85uW3tmyLKIoahWDabpbNIPZ9UkTwjDE9/1+vt/NYjrZbLZljyilZPLkyUycOJEwDPvZ8KVsG9TqUCy6SAT/8Y3/YPToUdx4440cdvjhPPC3v7H3pD2pVCrkcrnWnY8NSnZM7JWBUUShBAOvznudfDZL1EqCJ7pYnPUvY0vYygLuTaHRKATdUZlrf3Yt3dUKR77naD5x7sfRkcZSmsXL5/H9//4BD09/kJHb78hJJ74fZEhDV+mpr0Y6ikqtRt7NoaRFoZCj5lfQOqRW9yh7dYZ05HnvcccxasJYZn7najqLJS748MfIYrAJUZagWm4w96XXOOawaVx84SfJiwLlsMLDj8zg+ht/x7U//Qnf/MaV5G0XIQ0Nr0ah5NDZ0UkY+fiRjyOSCZzSIDIWi1ctwwB77bk32+1U4smvXEEum+eiiy5iOJlEaT3wmAmyVpYV3Su5556Q3rl5AAAgAElEQVS7KRaLfPbzn2P33SaQw6JBheWrl3DNT37EilWreXD6/Uw7ZhoFy+WDp57MSy/MYsHiN7j+5l/yqU9czKy5s3jg4QewnBIfO/88bFsg8Vm6ciE333IDyoVPXPApDpl6BEXHRVLlscdncMPv/sCvf/tzxowZzeS99iPSIYVCDm1ZzJ0/n333ncIXPvFFesJeLCn58x13cOcd93L3fXdw1HveQ1U3cKS13i3c1tjW+5+SkjKI2FRhFCHMhpuEKADHhd322JkojFi0MJ7M7we0CpW0r2sgjzzyCJ/5zGfI5XJorVm6dCm1Wo0gCGg0GlQqFRqNBr29vaxZs4be3l5qtRqVSoVKpUK5XKZcLtPb20tvby/lcrnlKd1EqTjbXqlUqNfr+L6P53nU63XOPvvsOAAXWyYt2dQkz4H7deDjm3881t82tLwtZXPX+4++f0v7G4WJ9aSQDB8+nMsvv4IXX3yJn//s5+y26654Xp1s1iHOykZJpnndLLcwMn7YWISRwvNh2XLIZB32228vCoVYN4uKEDKKs+2t9uaPlyJu8UQ11bKmbP5PUuq8+cp3OnToOy59Jc+bk+r69mEI+Dz2+MMsW72S0WPGct65FxGisJSNRDB++504/2MfYWhngccen06lWo73vhNL0+pBnShx8NGEiYY4Pj5O1sFYsYu0slx6e3uRSbEcBSg0Vb8XFNjKZsTwHfn0x7+ALYqEGFwrz7Sj38tuk3Zlddcq5sydg2Nb1Gq9dA4rUa710O31gIq3N4p0rNOWhqrxkIUMGoh0gOU4IAWu6+JiYyEQOkJojUj8ro3RaCJiYbhml112Zv8p+zFmx9HYOAREOCg6hxTZZ99J1BsVKl41luChcFFc/IkLsFTErBdmct+jf+baX/2CUFmcdOoH2WGHHRle6CCizv1/vZeGV2HqgVOZMmUKrpMnCsAPQo485AiOPOow7GzEgzP+Rl1XkTZ4oUegINvZyYUXfYq1tTKOdMkIh6MOOZSco1hbXsOqWg9CumzLjiXtpJnulJSUQYERBpUR9KyG3XfflYcefpxX5q5h9KhhOM7mVWzLZrPcfPPNFAoF6vU6UkqCIGhVaYS+wjEDi/QMpCU30SZ2VLFtHCe2zmvqkpvBuOM4uK7b0o77vt96T8q2Q+K8SGQ0fr3Rb6CnlIVjS4IgnlzbnLAbn0ftgXdsjSaEhZAWIgJLwZyXFlCvl9lz74lUG1AstZ93AWDF2e9t3WZ7M4nlZc2iQvE+LEddvLHodSxLMGmvPZPMqEw8QyQN7bHbxInkspJlS1+jWuthSHE4SIFO5jJISyGExJgwdoY0BmMiIiRYEoNEIBFKIpXCEhILhYUh41j4fgMlM0yZfAiaTGKLFwIhhohJkybxzJw5zJ49iyMmH0ChWKRc7kE5FpHUGAyWlGgdYFmSalCnN/KQOZuQkILMs6SyMJ6YHSWOIpHAaBEX6WkhiaKASIUU8gUuuuhCPDRBGBASoDDUdJ2FixfxymtzCfEJggiDRUSE1JphHZ2ceeYZ/PSmX3Ddzb/FKJf99z2Mo446HhuHrtpaXCdi6dLFZHJZDjvsSCy7gE0e1wZNhE+V/SfvzR/v+CMLF8+nu9rFsLyLUBJtKXYYP55IWHTkShTJ4dPF2O1HUsxlWR4F+DIkTIZ6g4E06E5JSRkkaKJQUyzabD9qOyzLZuZTz/GeI47GkuAFIrZzEBueKDh58uRWEZemJV0QBP2cRJpa7WbALNdTOa2lM2/LnDblBE1/7/blBkGAkqr1XPsEzK23OmBKHJDFDjrGGMoVsOyAvO1i5XL9qptGYYgxEZlMbLAdhLGLTatiaD/izLLvxY4oQsLcl17GDyvstfeuSAlBBI60iIul+MSBncNgvoG9XnceIYjiMBgvrLJ6zVKUBdttt926C4gUAonraDo6LHrLqwlHdsYD6dD0KzsuRGxhFw+wI6LE2i5WSkukTJpSOEiavhrGREShZvy4ifQ/HhovCOjo6EBKied5aKNxHJvQC7GdLJGMC9s2rf3qjRq5nIuTz9Dr1QlIzA1l33RZYeImTdznvg0gGYBpLAtCIl6eN4cHHniAJQuXUy33UKmuJRANSiNzRKGPkBkkxXgQIXy0sDjqiKN4/MVnmTHraQodnVxw4aVICmTJkcsJ6v4qVqxYge9HjNhuDDrM4AnRcknJqSJDO4ZSKOQpe2VwBBnpIm2Jbwz5oUOROIBNAw+/VkeYOl6tQujk8ePhABZWLLfaxkmD7pSUlEGDsm1qNdhj9x0Jg17mznsFPzyaaOAFaQM0M9pbanHXtA6MTNSSekgpUSouKa9NXHWzaSnYXv2yPSiHda38UrZestn4eGlANwdlqllMyUIaSRT5AFgqPq7xOdYsBNJeACSZtGkg8GH2rOcRqs6IkXkKRShXIhy7/T36rZ38uFVpujfUl7gQi4gdoHFdGynjz1qt0oscIN0p2UV6jUehkOeVNxZTa1QxRElRpERqo/pctCMMgYntFWN3PAuwgbgaLiqKpW2xVxG+CbEsRaPRoNFotK059rl2bYObNVgWeGEDhKIeNrAzLkQRQltI1ZS0aOyMTS2oUgvLWFkbgUuFMm62SBQZLKlRQiAtGxHGpXbicyAus26MwcGi11vFtdf9nBlPzSKKDKNHjGLizhPYbY9pjN9tDNOfeYgZjz5NGBrCUBNJkCYiY+fp0d28+vpruG6W0PP58wP3cca08wgIUGSo1BpkcllkNkspPwTLyuJKG6EsLCkpmzWgBMpWCOWgbJcIQbkaa+Ub9SoWippfo9PJMiTXQW93D9lCFuMHGBMQC200g0Fikn6bp6SkbMVs3MdX9DNKToo7OHDAwSCdXlauWoRS4HuxX3eT9VnE9S2z/2PtQW9c2CH+W6nm6/r6EEYhYRCQyxXxvDqum8WYqFXMBQRCidZ0oIH2hc2AG3hHpCVvVr+8NVsJvp00z8K4BDyt4jhmwO6wFEihWvm4gZrt9bmWCNEsXxI3aURS1EQgBSg7nqD5wgsvki8aDjwE6g3IZBRG9BUqabqcyDYnlIE+4usiB/zuK9vd//Emb/VdlzcZ2DdXP3A3JgVdbBwmTtiVJ576O+WutYBHXALHRiGJKNNT6Wblmgadw8aSyZdwcchnSmgfKtVebFugkyI3ARJPG4LIIJVFuVqjVIqN0Ku1MlZOUNM1fBPSIfIEIoPWgkhr6tUyBo+G59HpZvGooOliybI5CKfG8DFDCRCsKveSzeco99SxQhtp2QRemYwrqQS9rOpZhbF9fOpobFyGEnrdKGMjdZB4cbsEaAoyxGodoqYHt8fMZ/+XRx79C0NG7sXnLv1ndh23EyaskrUkHhXuf+Q+apUyGUeStSUWgpCIcqPMtb/6EYHns9v48bwxfwH/e/cfOWKvwxg5bAfWKHA6hhHoiN5ylQXz32D/STvSCKJ4CVKTEUWWrnqWit+gM59Ha5dQClzXxhUhtg6xENhOFoWhgQeujad9JBFS+DSnyQ4GtqahbEpKSsqWYWKvZGnDPvtOYPmy1fR0xZUq3wmRhmNnyGSyLF++lOmPTGf+G69RLpdx3SyVauUd6EHKO8ZGxh+CDU8ilVIh1yspactWJ8FvpGNF1KoV0NPlMX7nHdACbGfg+bztFw3ZJJv4AAskNhmGDR2BNJIFr75O2PAokUsqKkJEwMo1K1i+cjW2lWX38btRCXpBC4Z2dhLogDp1Ajy6dBc2GZauXE5PpYdSRx5LNsP7iGK+QK1epaMjjyNserweDIYoCsnnMzz51KN4YZWMa1ELuyiQpeHXeOmluWSzefbddz8iNKWhHaxZu5ow8ChXutAECMcQiABlWyzrWkkjCoiS8jcGC6NthLHw6g0gQhCXuO/bRfG54FgFDCFzXphNsZRn/ymTGT9uIj2VbgpWAY8GdWpUqr0EOqRSL1M3dQxx1c2/PvQgT//9OfK5Di751Kd4/wnvxa/08quf/wijfSI0ng459PDD8Pw6f3/uGerhWrAbKNtgEKzW3by2cBEGi7HjJpK1OlE41DwfWzmopEhT+ydFC9BCIgworQeBqKSPQf4pTUlJefegQUBXb4NCHvbYYze61miefaY3zk4m33abzv7941SqvUhp8afb/8Rx7z2B6Q8/TLEYZ7119ObLqqds3Wijk+y33mjhlubPhuVKzUA7zrCSlNDWpkEUwVOPLcOr5Tj22GPjIj0SlNN8X5NBfjlvr67Zj8SuE0WAYP99DmTi+IksmD+fG6+/gW5vLYHvEeDz+tLX+fGPf0xGSc445SQcIkp2hj132x2lLJ6c+QRLVi9mubcMLSNmzn+Sq/7nKjqGF1nbsxLbihDUcZEMKxVxgZWLFxHpKq4DggBlgeNIFi2ez8MzHqQRVclZLmv8tfz5nhm8+tJKSs5Idho5AYOhqFz22H08oenlD3deR82sptesISLk+jt+x99feJFCfig6jGVLhhATz8uk3lOlUa8RECF0lDjQNJsiiOpICozefmeiQDB/yXx6dDeFQpYeellRWcmd993Fc3NfROUyVAIPD/AwvLhiPrfeeQ+NQHDSaWeSzwznlPedyvhxOzLv5Rd48G/30iEz5JTFAQdOpVDIcNd9v2PGU3+mq76YiArL68t45MnH+cMd91KuRxx77HH4OqAnqlPKD0MZF4VLXAtTEivuJcrYKCwUKrlLEf8MBlJ5SUpKyiBCUyhm8AM44fj3cvtNT/Ps03M59rgDeSeUEU197pQpU/jpT3/CyaecEl/8woBisfj2dyBlG6cviDYCpKUwETzx2Bwybid777MnkQZXghIk3sw6yeMmvs5vGesL4vtrzrceEm27cbBVnosu+DRXX3M1D/3tb8x+ZjYTJ06k3ijz+htzqDYqHHTQMRx7+BFIo9EmYoftxzJixCgWLF3FFZdfzugddiCbybBo0SKGDhuG0YbVq9diC5CESCTFXAfDC8N4/cVXueTTFzN5zz34wucuJJdzMTqkWOzkl7/8JQ8/8CDbDy0xb94rdPd45IvD+cKnvsrw/CgaXgVta048/n3MeWE2j8y4n78//xhD8lm6u7oJUUyZchAz/j6XvCrgonAwZG2HrMrheRFXfOVyOks78L1vfhtNhDQGTARIbJWlu3cx++x9EA9Mf5wVy1fy7W9/g+06O6h0r6FcWUND19l14t688voCGg0fJRQVXed3N90KxuF9Jx3HYQcci6crWDic/+Hz+eY3rubhBx5kyn77M2x4J9sPH805Z53Ddb+9gRtu/BX3/PkeioUSa7rK1Gp1tLY575yLmbDjBEqyiMEQ1ATKZLG1i0JhIVEoBDYKG0u7KCNRyf+DI+Qe9EPjlJSUdxPGGJSKb8u/58jRWDLLE4/OwnUgCjVCrqvD3Rhvxs85jEIc26HRaDBl8mQuuugiOjs6CEKPbCbzrtVDp/SxzjmU/Kgk3GhhJEYLhLCplmHm08/TW2mwxx7jELJZFdMQ+3a0/Qw8P2X/tmnPbtXWNnS+y7a2NRBr2g02yrg4qsDY0TvzzX/7Fh889UPk3AyzZs1i3iuvst8+B/PZT17GpRdeQhaHrLHIiiyu6uRfv/YdjjjkGApugZ5V3axZvprjjj6Of7/833CFS15lGOIWsIjvR4zebhynn3gGw7JDcKXL0qUrMAgqZQ8dSQ456FAu+vjFaC148slnUDLH+085m1/85CZGdY4jZwoMd4dTkiX2mrQPX7rsS+y31z6IUNPT08OECRP5wj99iROOOpFwrYdVFdhoJCEFN8/X/98VjBk+inpXL9W1a1i0cAGQTNkUoEVcQamzNJKddtyDKy7/NrvtvAddq9Yy68ln6VrZzU6jJ3Llv/wXZ3/wPFSU441582lUq8x87CkWvraIIfnhTDv8BAoMIS+HYekiE8fuw4nTTsJ4ET/70U9xcOhUI3nvISfxr//vX9lz10n41QovPTcHG8lB+x/CFz7zVY4/6hRkaCOQ5OkkZw2h0QsqyuBgI7QkMgZFATxFUNVkZI5GT4Ainr46GL5BhUn9qFJSUrZaNpVV6/+8MQLfSBqhIPLgzFN+xQuzn+eFV6/GyYYU8la/W/xvNhA2Jhrwf+JSoiN0pHHdLAsXvoGUku1Gbhf7/gqBlHFBHCE2nq9JA/Otk/aJlNL0XfyDKML3FGed/juefHom8xZ9n1wuDhAirRHSJJMiY9YNU/ufvxGJ4wkSE9k0Ali+FI49/ApG7ziaux/4DNk82DJEEREbzFnopCKlXM8yN87WEjhviI1ti+z3KoNB6wDQaKEJw3gCXtZ2qUbV2HO/EWFLh5ztIqRszYoN0YRoAuODAIWiFtTI2hnC5JgYLWKnEEzLFcULfJSyqNd83IzAthv86c47uO2uBzjymBP40Ic+jCstHBOAFkhZxFE5bKDc65HLOWD5xEryMpEJcYUNhHgmQAgbixIBGRQCiwY2ARYuEkV3o0op08narl6GDhlOZAKkiZ1whJBYyann6zq+CUFZeHhYQYAjLcLAIxAG7VrYuISEODhEno8jYrvDnFNihd9LySlgEWIjqQd1Qq1RSuL7PrlcDl/XiAiwpKHqV3GdLJVqA0UeSxVQ0iXrxJPDg2oFLIHr5qkYDyeUiFCjjEaZENu1MFGA52bxjECFFgW7z+NnWyaVl6SkpAw6pIgwSjFl6t7Mee7v3HP3LM768P4t39p1v7q37Ja5jjT1ep1bbrmFW265hcWLF/OVr3yZD33oQ62AG0gC7zSwTtkQzbDZwhC7ocyY/gLaNDjymClYNhg8DHG1QbmBm+6DITiJaZezrO8z2raVRiCIq30KEWJZselfQETo+eRznWSzBVqGMvGsRBAgVTxQ8qs9WDIu6jI8Nxw/8MnbLiFRPH2ybcCutSYrc0ghsfMGbRrx8kwGdAapM2StDkykMTrWKxtjsACvpilYLroRa4Wk7ZJFoRIdNiJkiCwRAWEkcIm/Q4wIMVITihCBoJQpYWEzpKMDowOUkC1npKYDjjEGoR1kJNBG0GmVULYErUEEoAS1wNAIG+SzDjqKKLqdoME0InBgpFMCIIgcunrKgGbI0A4iA7kclCsNpCpQyjiAT94p0ghqdOQ7MVgEnk0YQbVSYVihAMoi42ZY3ahQzBSw7NgrxlYWaAsavQjXJoMNIp5Aqk1ytLfxr8/B8blMSUlJaelaNVIYlIR9990Zx9U89tgsPB8iA2Go+/lwGxMljrx9bVO0l1mPkqqDr776Kr++7tdc95vrkFJy7bU/bQXcxmy8emXKNsjbdo84Po8jA11rYfpDT2HwOOboA5OgLkrijvVdvvV6/tr4erYtBlbv3BASJWxs4RIGmnyuk0YjSPzTifUhnqF1syACo6GU6yDnFMlbRdAKxy4AFsaLsGUOpSXSSKSxsMggjYslXEIvxFV50M2A20JqCwuXksqRsUt4gUFJi3oQF0UyJim0FUqMUUhc0BaWzqJMFm3i7HNOFcgol6jWSKYW2pgwrqKjI/CjeHmNRmMdTX/rrp6RCK0oWHkIDFHNB9+AlQeTISMydGQ70T7kVD4+z6SDcLN4PQ2CerwcW0GpWKRU6qBeCxAa6rUAWznksy7l7gYidIl8yNgjiPwI7UXYCFwpGVIo4AWNlpTKlRaK2H27aZEaeA3I5kHaVBpdSCCjoNFgmw+4Ydv81KWkpLxrkAPahp9veW9LgxIRUsKxxw8jV4T77p2BMrFfdxCZ+OIr+gfP7Rf0vuA7fqwVkPd7Pfi+j225SCV58cUX+dJlX2L5suU8++xszjjjDMIopLe3lyAICaPw7dlFKe88ySmwvomL/eOCzT9/272yDRptwLbgkelP49gh++wlsCRYwgKspAaigiS32VYip4VOvLubbfP12Jsb3L7dbKwPfX2UxBNLRXJAmhIgY8C1M0gscm4etEZLMApw4uq0WsSf7niJGiNAWIkFo44wRmM5GYyJkEIkDiEGIQ1SxpIW13XRGnJqBIXcMKR08OoNFAYfjUGQzxURwkIpC9uVCBeMrcECSzQdOiws5WCLHMpkMNpGa4PWIblCASUyKJMlY+VwVBZH2TjKxZYWxVyBdY+txBiBFDLpY4hQCuk68W0UE2fOhYr3WdYuYlCx1ZOObwU4+QzKEegIdGAQIkIKTcZVSGHIZiwyGQkaSh1ZjNBIlcFEEUJmEMqKbd+VAR1iKwvLVpgoJOfYCKJYtmcCjDHYbhaEAuGQzXSijEBJyGXe2jPr/4pUXpKSkjJ4EBqMQagAicOIEYIDpu7J3Xc8yhOPaiYfIil2OHhehOsqhNBoHQ7IWkab1F43M9fNkt625TLtvdMYMWIEX/7SlykUchw77ViMMeTyOTzPo5gpks6gSdkUsfpBo7XigQdWUe4NuPDCU1F2HIRbMpmXIAR9QpLBIyjZMAMK+LTQA55vf33Uv9BP4oFuZOJp3bQRBZpfAma9toTJ60RfH+Jqof370og8jjnmeA474miKuQ50vy8W2VqHFhqZrENJkTzafL69MFH/5UvhJoN+0/aaDbOhKXtG9J9Q3m/WgZEgDEbEIxfTvo0i7Htd+zuFAGMwLa9wmay/+Xz/oWDfXcnmUpqVVE2y/62+jq7byW2awf4pTUlJebeQXFAlIQqNUhHVOpxwwjSUsXn4oSfjKoJASzvbmuU/kA1l+uLHhYivM55Xp9GIi0uMHjWGMAi55ZZbOPPMMxm1/SiiMEIIQS6bJf26Tdk0bXdugJlPvIStiozfZXuKRbCaQWI/J5EmbXaDrF/9oge0TfPm3/H2M3Cb+zchzfqdVkxTGrLu53BzvViEFAgpUMh17nIIIbGUhW1ZZLNZAu2BjuLCL6avtfdcJJG3NJtv9yiEiAPU9WxHuwtN+xY117P5rH+PNIP1ga353OYue2DQb1qPSYzoW++b2S/bCulVICUlZXDQvAi1Bd+2BdOO2wWAv/z5b9gKqmVwHUEYRonbwYbYvK/HTCaLTC7yd911FytWruDSSy9l/vz5/Pu//zu25VJvNPCDxhZsXMq7BdlUuRq48457CU3AGR+aEs80eDN2l29T/7ZeNjIoWE+A+lZjjEYi8eoNdBhhSwsl1NtajCtl2yMNulNSUrYhBupS+1qc3ZLEqkuFQOA6UOqAY48/nDcWvcEj01diyeSucCSQBlQzs2Jky6O4/y3etmX2e15i2zZaR2QyWbQO+esDf6VYLDJs2DC+//3v84EPfACAQr6E53nv3G5K2UrZ8PkLsTe3BFatCrj3vrlUG1VOPOmY2LUk8jd7Letz1O6zE9zYXZxtG9X26Vct/3OFErHdnxBmE62///46PuVJhrnPy9zq1yIdkMlmcCyrJT1pZmul6evfwOVvaH0bqwuwPjbtw77x5bb/3/67r8k2iU0fA21YW032b5vb/9b/sq+S8GBhkG1OSkpKiiSeriLxwtgF4qJPnoPtaG66+Q+EAYQeOG7zAtLUE2751+H5553PuLHjuPTSSzntg6cxZeoUgtAjCD2MTlNeKRunVqtjgKGdNvfc/SB+2M1J7z+CKAQ78Th+6xios93a2Rb6mEziTILTwSaNSNly0omUKSkpg4wk6DaKKNRkM5K99spguR5PP/00K1fAqO3BzcUTeAygRZzBUsYMmPSzftaXdTLGMHXqVB5++GGEEJRKnRgTEUYhge9jWYOlkHHKlhNPJjPGxOLWRINQKuTp6YW1q+CuP/6VkaOKHH3MMDBQrwbYnc7b2quBxZ/6SLyf23W4G5kVvKGs7IbeI4QYOCcx2SeJI9FWrtEYqLFv9naT2d2te7PW4c1anq77+nef6GkgaaY7JSVlkCD7JhgZhRBgu5KGB8NGwkfO/QArVpaZOXMBjTqYIHkPzQmVcduiHihJoZAnm8viBw0q1QrGGLLZHJlMdou3MGVbZqC0Y0CUaQSRjp3c7rz9eTqKozjl/ceDBMuGUsfbG3D374tKfPX6968vSGzbjoEz6t5qRPt+W9cSr3lXa2sKZyQCmQaYKeth6zlLU1JSUraQ5sx9JZKS3QKQIYGGD3/kVFx7BL/91b1knCTnYiwwcfW/Vsxg2oL39S6/XQvZrilX2JaLUg625eLYGYqFDhw7gxAKKa0t1mym/N/SdK2JLSkAKZPH4jkFxkCEic8nYzDaEP/EPu9xsXGdFEQ0aAERGqNFy06yUYN773wEGRU456xzEBKkDUEilWov49RkQyHpQGePDWu84/5qoYmMiNdjiP9u/cQyZaPBEIDwk/e1rc60F53qe2Lg/wNpz3K3v6zl+NG8I6Bl0pIRciTj4jbJY8b0b2/efWXg69edN7K+1tRst7TeSdg9kHZ9tzSbo8FWG23rU+238+aXt/H3r7s/Bi5jU99nW/r+bZ806E5JSRmUxOWeNZYtkJbP2J0cDjrwIGY9+zxPPLEaHQJGoluZsi1jsF4kUjbAmz7c6wuMkkBQaDDxXIO5c8q8/OI8dt11F3aeIHBskEni2Ri90eB1S2jd5UnkVVqAliFa6NZzfXeCwqS9vTrrfrZyos8K0UiNkW0WicJgNkMW9k4hkp+UlIGkQXdKSsogoxnINPWgAqUspIIT3384yBq//vVvCCPQGtqDIYOM9d2byWDPyqS8RbTkGha0DfKMMRjCOCOuodIDV//XL0H4XPrZc3CcuDifFG/Pxbo9p2toZtFDIumjZQNNA40fV8gUmijJzOvWayMi4cfbkFTS3GhGO8l4D2zxc81m2n4bdFJ0RQNaGrRs3jEI40S3BC3CpOm3TCr2Zmh9DwwItsXAn208k/tWu6m8G0mD7pSUlEFN00FAKTj55F3Yfoci0x95ivkLoFyPb6PHt7HTr8OUt5n1lo1PyrlrWLIQnpv9KjtNGMnUgwpxYT7ZiKUcItysSb5N1nc2rxPwJj8D0bqZxY4HpGEUYgiRIkpKrVvAQI35un3blKykxQYmSupkEKw3IJ9Y7/p0X3t72XCfti6FeS6bXbAAACAASURBVMrWRHpepKSkDCL6LndNn1iIA29LQUcnfPbz5yJUB9f84FacXHzr3hFxk4gkSN+4n3J6WU15U7QHla3S132+zw0vzvLe+NsHWbu2zDnnnkLHUJKQOMDgY2jEWWh0rBs3fdrugcHzOmemNnETul+Lw1mNIErc6FVcsTESeDWNS4EMBYQWEIVEoQchiMilUYHIFygsPC8gitoDXoHZjFRzP19oGfev+RtAhyF+LUQH4FUjlEn6iIXCRQE6gMg3RIFBRAKhTevTuU5GfcD2r9M2Sf/Pfv/qj3K90zzTb4uUdtLzICUl5V2BAGwHTjzxIAD+dPtf6O2FcqXtNVuPLDRlUBOLOiwp0RE4CmY9E3HTDX9gxx135KPn7U9kaDsh150I+I/IJ9qzwAMzwhJQWqIiGxm62EEB0wDtgaNtXMvFtbKEIfgNyGcy2MqmWgnIZrOEbW5ArfVtbqa7tX3tWnGN4zgIoejuqmBLBzzQZRChTdgTEvaAKYMTOvGE5QHbmZKytZEG3SkpKYOWuOJkXI1OYsAElIpwwUXnIIXgym/+gaARZ8vWrFyzwdvcKSlvCSJp+ICm1ghBQ7kbrv/Nn/D8OqefcSLVSqLj1goZZVpvb7pevG1okIHA9SQZD156vMK/fO4HqBoQRJhQsHjRas4+81IuvuhKvDoUiy69XeA6dnPj/jFNdb+Mc+KooiGTsSkWOli8YCXf/vo1mB6gCpZykBX49LmX8NFTz2PVvNVI/fZ64TedZ1JS/lHSoDslJeVdgTAQBT6uC+eeexSdQzPc8ae/sWwZrOoOGbbdMEBjTNTXmhZpm52xS3nX8GZPB9FuHygwCFzHwmjoWg033XAHHUNsLvzkoXQMAbcVa8vY2rLtci0NSC3bJmhuQP7Ubn0pNMJIhLH6mnaSZiXJ5cQiRIMM4FtfvgpVKSFCC1MFYYHyJboaUcqUcBTUq1DMQxBAKCBQsi/gbtlvNh/QCEKE0S07wOZ8CqGtuB/Gaum4/VBjQmh0BVz9Hz/gtWcXUV4RQADR2gi/Dn7dR2qLQr6DSEIok2JXyGR7ZcsaFG33/d1qsnl4+pqWCK36HeNY4f7unPyX8taRVqRMSUkZtLRmyBtAQCaXx/c048ZLPnTWMdxw3XR+8uM7+N5/n0odsInioEAQ+3c39bcC4stuWlUyhT5d9noC7/VOYEz01EJEgMRoG5AEPtTK8N1v30PW7eRLX/sQKuthu268/CStLY0FBoSw+go1NoNFC/xAAAZh963fD0CHmkxWEjTq2K6LwKJndS8dI0voMpgIlAUoQb1WITu0iKkbREZQWQCjnNE0lkiiMqihDgQwZsgIfnDllRhLUq9BYQgEDY2TlfQIQAgyOglegUYDsnnwQ40lGggBUSgJvRC3UIj3mA8oEMrC8zQqK2OLQGmIGmBXbKzuPLLXxg5sCECNUCgPrvzuN+mt9ZIdbtNtNBmpEIAyQBR//qMgHk84FtRqBjcrUTbUKyFSaZTlIwyoSILI9A0+suDVNW5ONlXc/9iJssH/N0WaFx1spEc0JSXlXYXjShoNjy9+4QO4GYu77ryfJYvjy6nGQpsIY2K3BmOSwh0mLgyRZrxTtgRD28Q+HQeDr82r8fBDjzB23Pacfc57cHMevZUyoW6v+hhntIVOsrcaRJTUp6mAtwQcT2CWQrgEwqUgusCpS0wF7GyBqNYAoKNUguUQLAHVDfRAsBpcU8TvMvFAtQusBpiuLPlweypLY+00PWDlYKfhQxk/qpM8QA1Mt6SxAuwIZBJwSw1BDTIS1i6NcEKFDF3CqiHogag7C8slrARWQbQAzFJgrUT5IEPQNRNruLthezWBrD8MUScO0gOgDmPHj2S3nSZiGuAoiRcapB/3lQrQC1Y36KXgLwOrLpE++GVDtmDh4iCrOVQ5B14OvTxZfhewDFS3JOiGsB5/F6RBU8qWkGa6U1JS3lV4tZBszqVRhy9d9hm+8pUr+dwl3+Wmm79MR7F5az4CdF9iykAry5XqvlMGsFkaZiPBOIluOQCjUMA1V/2Can0VX/z4uZSGQN13CYMArSNE4hmvBUgTZ3+FJjanDoHl8MrTXTxy36MsmLecWm9Iw9PsvPt4Djp6Pw46dhR0xmXklZ2PA9wyvPJoDw/c+wgvvfwKynXIbz+caaccytGnj4UI7rruCR64+Vkai4eQDR3+9fPXkdnB4z9/dDGrlsJln/g2++y5L5+9/ERWrKrzn1d8n44RJb71689hsvEYQRpQWTCr4Xv/fA0LFi7khz//FkOGFMk0oGcZ/P7WObw0ax4rFr0KQtM5ciSHHXcIR39wN/I7gBVKuuYHXH7BD8gEwynkhvKZC64ks2PA9//n38jbcNk/fYNytcZPb/w2uRz0doVIaRMuhAd+P5Pnn5nHovlLCS3DHlN359SPnsCIXSyywwVoiMohD9w0kxt/9Ucu+dxn2HnMeG67/l7mvfgaVc9n50k7c/pFp7HDJLBGABn+gcJIKSkxadCdkpLy7iHRZ6MjEIqTTtqJq75fZPbMucx+qsGRR2eADKg6IOOLa3vgnV5sU7YImZxP8e8/3foiM6Y/xS67juOii/eiWoVs3iXruARR1O+dWiSSiWbT8PvfPMBfbp3O6I4xTBi9C5nRedas6WLNoi7u+u1dLF+2D6d/7mAA/NUeTj3L1V+9gVefW4BjZZm0xwR8JZn54qvc/Ns7mDWng89f+jEm7bY39vHb88gfXyH0Gxx5xOGM2N0hasSZa+UXCXoljoAdR2XZZdgeLF22iGWzexg1pQPRnFPZBeVFDVbNW8uUPQ9hWC4PGp6avpTf/eouGmsU2w0ZwVFHHEWlt8yiRWu5+4b/5bHHH+fr3zmfbCcMKdicdNwpPP6356hVujn5uPdh79DAjoAQ3NAi8B0oA2ugJG3WPBfyX1+/hvrqgJFDRnH4QYfQXa0w59nn+bdnnmTaaQdz1kUnowSYuqQUjWSUM5GFL3Vx/bV/YkR+GON3GE9XVy+LXlnOt6+4lk9+6VwOPKEAbnJA0u+ClH+ANOhOSUkZ/JgkYjaxG4IWGjcbx95X/+Df+dTF/8JlX/wX7rn3u4wZqwh1jt7yWoqFLCBacXeq6E7ZGBu6CdL0i1+9ehUjh4/A9x3WrIQf/PfPAbji3y6lpwL5EoSx9x5CyJZTSZxFj5cReGDn4I3nyvzu7vsYu9POfPqfP8kOOyQvKcOKlwOuufp/mH7//XzgrINROXDIcudvn2Ph/G7G7z6Gz192HvYEIIAli+A711zLM3Pm8dzLS9j/gB0YMyLPI395gqFDOjntgl1gOGCBWAPFTAZldKuU5YRxo3j91bk8/8QcRu1+GHQAVaAOt//2TvIUOHnaKeCDCeDW2+5hVXk1n7/sE0w9artYKqKBpXDF5b9n+aounp3dzWHTOmEYnPSRXXl61mMoUeWMcyfD2GRbu8HUyzhaQDfggKnBd7/+a5YvrvDRC45n2umHxIGyguiN4/mXr13FI3fPZsz2u/Gej0zE0hLKChrw4EMPcfRJh3LmWQdDDcjCXb9/mj8/+Hduv+1uDjj27PUf4zQAT9lMUnlSSkrKuwTTZtkW/86XYO/9i+y3764sXryU66/7X8IGmEiSyeSApni2aWeWSktS+mMM/Upab6wQysjhIwDwavDza29n4YIlnHjyNI49bhSWA+0T7Yzpb04njSEKwM4APnRV17LXAZM4+ez3sd1E4qA4B+Rh5ASbncbsSNEuUVlOrE9uwMyH52CpAhd/8Tzs8cl78tC5I5x29nGMGjeCJcsXwVAIVYTKeIhMLZZUJBleYeIJibYt4rRdHk447VDypQyPP/pMHKxWgQCCpTDniVcIgpCJk/LggB/BjuO346jjD2Lq0dtBJ5AlXgdw0OSpFLPD8SoGsnGQXg3BKjYIrUo88m0atgiQRmMZHSvCPFj+WoTxHHaZuEcccA8Ddoi3VU2Ef/r8Z+mUo7j3dzPiQD0ASziYKGLY0BIfPOtgsIEdgSKc8sGpRLUaK+YvQYekAXbKFpFmulNSUt5FtAfNGolk6DC46gefZtp7ZvPLn/+eY448iv0PEmQyOSLdSMpvNy3YYteJlBToC7aNYDOKsWhCPITOMWd2nZ//5DZGbDeMr37tfDwv1l3HDidt51eySGniyqlKAYEBG/Y/fBx7Tvo4xgfPBzuZWOgtg5754K9ROH6JRpehoy6oV2H10pWM23k8aihxNtqBoAD5LBw1bWemHnoJxawCDxxLIaRBCtMKcNFxX4Q0aCuIg2UHnB0hOyrLyrVlXnyxh4mTO1AhLHipi5w9nJ32HY7cHsiDa8Fn/vlUREic4V4DQdnH9h3WLAC/XKV7eReVrjKUhyAK8eC4XF9FaIUEFtgq2TeJPaBuRsIuzHxqBt09yznptHPjQL5IPBjRQANG7G5TcIYTRpraGsgVIbIVgfY48oDJWBmgRBx4K6ALhkqbUMV+/greRODdPCfSSD0lJg26U1JS3kVojJCgJRJNKBpEkUuxU/D5L1zAN79+Lddc9Qt+eO0nGD4KIuPGQTchscZb9fkep6QAWvfPdLcmAoiI/pdYiUWOSgWu/MYPkSLDV776eUpDQFrg2hBEkoGVJ1vriTRCKKQjoFJB1wROmGf69GeZOetJFr++iN5lNUpmOG5vB8KzQRqEiTPSy1eWyWZLdHZ2khsJvYFHXrnYecCPT+1iTsVZah/sLOhAo8Owr1AkcdAdBT5R4MddLcaPf+hjp/HNK37M7BkvMOmwQ9HL4JEHn6bWCHn/h09CW/HAgXo8eHjt+RXMmP4wr819iVUrlyNrNkPEWAK/QD5bxERxphsvotHwcbMO1XKzE/Rp200SdAtgDfRUyhQ6SgzZbig48WsiwK9HZDsULIecnWXBwiX4ZchkAanwhWHo8GK8TU6yjnq8ffVqjbquxyZGafycsgWkQXdKSsrgJ9HUtvtuCymQ2BglyOTh/IsO5t7bZ/DkE89x/W9ncsFFB6BsQbFUACK6K2soFrII0afxTsPvdwftobAWyXE3cYZb09Rsx5Mjg0BjlI8xEbayCaJYomRLBz+AG69/gieenM3RxxzBIYfvTr4YB6NBGFdPpT2AbzPM0UbghYYsAmoZWBHyjSv+m9ffWIQsNRg2cggHHHog++40mV2H7s4fb7qH+Qvn4yRZ2xCBloqVXWvBgmzOprfSSyGbx/YUCAgqiXzFgeoijSstbNzYNrMRIRyF7YAVKjK4kE/6aMOk3Ucxxh3Bc/f9nXNOPxShYe7Lr/H/2TvvODmKq2s/VZ1mZnd2V1plIQQS0UQLISRAIBDJIshkbJMMfMYYYww4GyN4X0x6CcYGjDEZbBNMjjIWNpicQYlgkgDFlbRhUk93VX1/VM9skATCFmBMH/1KuzPT013dXbNz6ta558YZQ8NaWWQLltAX4YrT7+ft1+exqONVho1sYeK2E1ln6CjWGzGG2a+8xz0PPoErBLoE0ndwM1mE8JBRgAc23BwBIaiqoqo0VQ2+Z+UrOD7V2J5HUvwT33fsxMGFbOBgKiVUBaSCqvLBzVKMyzY6XiPdTRB1gQoyCCPqLjUrqwpqtF0Qq/3sHjk9kTL2LzpS0p0iRYovHoRBaoGWEgeDECB9wS/O+D6HHXQCl196AzvssDVfHgvFEjTkHFoa+6E+es8p/kuxQgw6CWj31HRXKtCclwgydBaX4zc02NctVeSV5xX/e/olNDXnOP57hzFsLXB9Gy3/KAghcF1QJZBFlztv/gsL3yyy4/g9+Prxu+APwUZmQ2A+KKlpL3YgfFAKhq7ViERT7ihCEYyU9OvXRFxNTq4Cc19aRGMuYNTGLQSupH15gZbmAYgGIGPTiJe3a3y3gUpR1aPfeIAPO47fnucemc3iubC0s4tYGSbttgMN/awnuRPDvFltvPL4W7S2DOTq635lteLJxTWdoGZKSuWQfL4J0UO/LaRLNsgRlcGrYAm/C47rImUEHpgMqMBlaaHAsq4CuiOLHAROLTK+HIhhweL5NA1spDGf7F9HuK5Ey7g3Lxa1iVVA3COhOkWKfxVpoCZFihRfIPT4k9cnKVI4sMHGLj/6+VG0d3Rxyknn0LncalAjZShHFZSKSZGihnrBUwEKQ2MjFCoR5VDRkOsHQLFYpVIUvDHXcOpPL8J3m/jBT45iwsRG3AA01e7yjfX9ij6SFaze21EYCbGG2XMW4/oD2XHnXfCzWFLpA0m09615i2lpHYbjWdLtCnCqFdyKZtnr4JeAEOIuiJfDs39bwgW/+C0P3fwIFOz2wslSjrBRZReoQq5Z0rY8Bq85iSIbcBVkYOLOY+jqDJn1XIG/PTgbrRSTd94C30200FX424PPk8v2Z8edJ1vtdB5oBBpsv5978Q1yDf1p7yxRiWx5+VBDqKoUwiJec/KeEtbdM+fhZj1kDkR/mLDbdmT75bj3gXuIwmS7NizhLsGS14DAo3FIC0HNkSXuICdDnNrsp4ctoxeDozJIlbFFfz6EeRttJ2H1AkhpMa0UfZCS7hQpUnyhkQgDkEBjHr5x+NYc8rW9mT1rLr++6K+YGCpFQdbL4zj+Z9zbFJ8VEne8FZ/vE+nOBh7ZwKFSVkTK0K85S74BLjj3Gl558Z9sM34sRx2zLV4AmgrGRN17Fx8e8jYI3AZwfBg8fG3a2tp57802SyyXAp1AO/z+sun4QQOhVrS1G/xWyPSH3adsQxy3c+efHoZOWwHSWQbtb8G9f7wfR8OUPXcj7oiJFTS1NrK0o52l87DSEAntRYOTz1COK0QxttCPJyADTetC69qDeOCBv/PmmwsYsd5wGoZApSuyp+jAwMGDKJXbee212VAByhCXQBXhhecXs+D9+Sxb3kZ7+zKygZW7ZHzIZXyIYsoLk8qVVdu6qiUK1U7K1QgyMPpLeQYOyVLsXMzdt/zV+ndXgSUQzYNzf3khS8MFbLXrptY5xQMo4LoVjKz2vrHa/n1QUqOFtpOsOrHubilSrC5SeUmKFCm+MOgbPeyrsHR8g+8LfvqL/fjrjOlcc9VtbLzRZuxzwGBKZchlxSrS3FJ8UVAvTmqsvtfUBpGRuA6oqq3I6PnW9q9YcHj4gUXcc+djDBgwmHPOO8q+Rpgk6RqMqSKlh+jjBC/rom7Q0v4SRfb3nXaewDP3P8t9N9/JzEeb2WC9dVi0YD5zX30L1+3PsLXXZta8RYQUMXEjwoNdjhvDa2+9yJxZszn5m2+x/oYjoaqY8/JMREPEtntswogxWVu/vexScYvk8i2cfsoFtI70+On/fQ+ZUZTFEkRDgNcE1tJEQ15CP9hk+/X4231z6CguZZ8dJsMA641PFijBV/b7Mg/d+lfmz/snF/xsAeuMtpOHd958l0KhxNZjxzFrzutI3VkvDOt4MLChkeXlLk4/4UK84YLjf3wsQ0fk0K4CJ8bPiyQSD9//7sGcf8aveOKBZ3n2r7PZ4EubsGRRG/PfWYCTFYzfbTPGTx1tI+0aGlp9lK+IvYiYMq6TBaWhWIZ8IzRXCUsF65qiknzqHn88ero7ij4rFilS9EQa6U6RIsUXHvarUSOICKOYTCNc9Ov/xRjFtNPO4/VXAWW/h1OkAHrN2Cz51r1nccYhqji88WqBH5x8OrlsA//zyx/Sf1CtuKnAaAFGIoRJCPiHDzCBJdxuDtYfk+Wn553AsA2bmLf4XR5+bAahKLPb1J044/Ij+MrXtod8J4+/+BAi8dNGlTn+nKOZcvAkBg7N8cILz/DqP+cwZEQz3//x/+OYkw+0vtZNLrTA4Sd9lUp2AXglOjoXUyovJ2iOqfrzEfllyRJRIo1xIfJgwl5fohLMIxhYZONtR9lIcA6iYhkGg+gH5172Q9bZZBCvzZvDo888zj/ffYfxE7fhvItP4YAjJuLkO3jh1UeJJFZ6IuHYnxzFFtt/CRpDFi77gEK1AA1QpIuKLuBlDfQDHRlaN/P43/N+yNjxm9PcP88zzz/DwqULGD56KL+8+CQOOX4X6B9CI+iMot0sYX75XTppx2lyicsFG5JsCoh0TJRdQnZwjAyo6/jTSHeKfwXCpIKjFClSfMGhk/+LpXbyuf6EMZS74OzT7+LWmx5kxNrDueGPpzJ4BASZbmpkEsGBSNhWGsX470VPeUktHh1r6CzA4UfewT8e/QfvvnMhQRAjpYuJYdliOOqIM3ltzgcc862vc8pPJ9JVUjTkBJmsRCkwJkK6CoFAGheQaKFXqh3WwpJ0YnAUdQePWud0wSCbhH0+Y5MunVqiYgYr5/CwEeSE4+sqyH4QLo8Jmt1u945OTVxWuK5nt3eAfkBXDNVkkdwNIVCYIINwJJ3LQpoygd13BchDIY5pzAtK1S5ybotN9lya9KMBOhdD06DkHIpJPw3QCJFjdd6ZEEzZ6szjENyBELZDkMOS4xArIWnQ4Al0RxVZlZjYQ/SzunW3IelTI93naKysRRYAAWIwVColMpkcphrS1bmMpsZBEDpUQxAZa6Vo+gawJVaXX3shyRdJI90p+iL9jkiRIkWKBPlcM1VVxnMh0wCnnTGVybuO44P3FjLtF9cQlmxSWg3GKIxRaK3RWqcJVP/lMLV/yX03VBOpiUQjE87lWpKq4LvfvojX5s5jvwOm8N0TJ+JnoamfpBpV7DgyIMTKVZ66l4uGrYgqACE0jocl1VmFblGUgiIMBobGlhgPA/IK0VKFPMSyShRGGFdBYFBe0VajHARxs8Z4imCYS+zaQjgmBJok7gCFbugg8pdCQwWiCjQKcDshH4Mb1R0+YiBocSFjQEYYv0ohruLmBF1xF77vUSh3ojG2QmTGttxaQBPoBojzFciD8pWtXukYdGAQTeAOAQZDPKiCCSAYjE2oFPbO0AAd4XLICExOw0CJbi5CYEk6jWCSip2xazl+VSlEAKLVttjEuBmPcrWMdgS55jxVXUAFMX6L1ZevQLghrVSbYrWRarpTpEjxhYcEjBHEaIQQKF3CcQK6lOQn077JO+/NY/pf/sqF5w/neyftRsvAmqy3YndgsoBE1SLfiS+47EO808jX5xPGmIRsaSDGCJv8aFCAT7lcxmiPqGoDwqYCvzzjAZ58fCYj1xnGD364t/VuNuBJgdeUQ+skQCoh8a1LiPZKJCZJQSbZI9HSGGOLzWhDtjHAqBgyAk1cT1okJzEmxvHc7vNAIxwPrapI7eFmBUYYtFHIwLFHd0FpjXACpPRwA5nIKuxMQeQbAY0SEikERtuJiCMESmucQKJdQ+BYFxbPyQOabIOLqM0mmm1A2wGUsdfBafBBK0RWorQhkEkOha75oRu8TIBOZB3SAJ6xBYPQNOWa0bqK0+iCVjhNHpgqtbUJ0eiA0fY6anClRBhdX8IQSoDQBG5gebSUOAEIkaxtJK4mNR9u05dsp+Q7xUcgjXSnSJEiBSS1vF1b6l1oECEDWwXD14YLfzWN/gOauer3t/Lnm14lLCXfv9rDaAdjdNKSKLc2q1EWPMXnCxqNQqMwWmNMbJ1Hkkg3OkM+Z+Ua99zRxp/+cD8NjTn+dPOZDBgMTf3opfmWksStpEakP87XcS3ybX+apOmkxdI2LTRKapSMUTLGCJW0xH9aJu+v7bXH+7WwbilKOCghiKVACYkSklhCLCXacYil7bcjRDKJECgB2jFIUZN9y0Q6A1oatC0Km/xuQBi00NZ6saaPRyPRuEbXI/316L+wfn6184udmNjRyfvs+7XUGKnRMkbLEC1DjKxiZIzAXjth7HFq108Awjg9uHPN1wjA1K9bihT/KlLSnSJFihQ1GBA4CDKAxABhBKM3gF9fchZGC35x6rncdOMrVmoSByidRQurw03x3w7r025EBkEOrZ3ErUKCyTD/A3j4L52cdOKZ+H4zt955Cf0GQbwKomZXPqQl7ab769hgyaAWvdt/GiQuMlkw7zvJlELWV3xWic8bixUGIQ1GmB5Rbt2jpUjx4UhJd4oUKVL0hXERwkVj8AMQLuwwqYVfnv1TfM/n3LN+x9yZWA6msB5xKb4gkGB80Bn703Q/98E8OOl70wgCj1NPP5GRo6GlHwQBlOPqR+24F1a2TmJ6/vsPXEkx2tjCPh9Ftv8TYNYE/UmJdoqPh9S9JEWKFCnAalaTwhcIEFLZJXYtUDFIJA5wxy0LOPl75+F7PrfeeS4bbgqxA66ncaVACIMWiZNaH/LhrOAM3hcf9SX+RY+TrOnro/s8+rD3azSRPYb2kBqkC8s64NBDH+CpJ+bRLxMSVd/j0stPY/x2eZoH2M1l8v5urf/K+6FXMTxqX9NOEl2tEe66RXhtL6L3z77HkX2Ipkge14LNtatRf7/os32fqYD4mMTf9Pw89I1wC/OR+zN9Pk/1iUeyCuD0ij5jC9z0Qk2MLXs/XlWXPjIHo+947HO90hyOFH3wRf8LniJFihQWomdLtKHGVgkU0upgy1XYZ9+h/OznP6Crq8x3jv0fXnpO4QkwSiak3X7Rr4pApfj8oFdkuWZGncgptIBqDNUKdHYWqEYFKmEnF118FpMm58nXNNwC68G9Gj7cH9mfJFeglkPwecOHlVCHVYs01qh4Y41EuFOk+NeQjr4UKVKkAGxlvQjhRLZYCTZSJYSDlEmypIjREr52+HAO++ZXeGnmHL5z7DTemGs9hM1HMm3dq9Wt5+ottRr8LGH6/FsRDiAQ0iAELFoAs16J+Oc//0kur/nKPluw0+5eby9nA4iqbf8idbTjUKDFx5vMdW/fMyHwX0ed9H9EorAwqzby6EW8EzeQ2nNa2gTI3p8Sep336hx/FUdegXDXruuqWooUaxop6U6RIkWKVZIhmXy5S4Q0BBkXx4NrbriNF2c+xLYTtqRtyRK+cchJvPScAgVGORidkJxaotjnKVksBbXxYLRImkEZm96IIWGB0LbI8J1vn0y58gH77TuWs87dG7fm5Sz0Gq9WKIWsR7iFAaEkIvaRSXOVyIKuMQAAIABJREFUj6NlN7E1bqI7l4m0pHezVTRjapVyZOKGItFJoUnTqyW96NGsA4gwILTs8Snq/bxUtgklEEogjQalcAw4iTmJ1MJObEn6JDQgUTEoFSN7kOC+Z9J91Bqxrgl6dPdWK5x/ihSfPlJNd4oUKVL0sG0zRlGpVPB9D6XAkR5htcz77y3kkkuv5Lbb7mD+/PdYa9gGPPfMC/zvtOu5585HyOfzXHHt+Yxa37XSAhkTBN2lEIQBhKqTl1ok1RjTI6rWV0Pbm6zLLxxZ+HQkFLago51cGaMSpxAJOrl/0pJSD59CCTISXpsD3/jaD1i6vIMdd92Ci37zXRoawHWtj7O01tHW3UQoQOPgsDqETyfnXTerMzZPQAChCnEw+E4DLKnYhM7YypdlBmiEiuhEBDbRU2hwkzyFnueLACkqCemmTkpFPTFU2nEpNDo5PsZFCyujkgYcKpao6ywgCF1r5RfoMInwZ8CV0FU7ETCOQmQUKo6RJR/huuBa2h9nFIgyjtFIbZNVqwqMjHA8g4OdUHRH0mUyp43RQoJxMQa0rtjJg7STDYHf6/qKZFZSi8Z3r0rYX2pR9b7B7i/apy/Fmkc6hlKkSJEiQRiGVKsx2WwOKT183+f6G65n6tSpbLrppvzmN79h/vz3ka7i1GknEjTAry45nJ+eegLL29s58fjTuPv2mRBDQ+D2rl4pepPtFP+hMDKJEFsCZ5vGaIeqBhXDdde+xCEHfJf5HyzhnHN+wW9/+10yQY1wa5yEIMtaeXAkVgv+r3/lCgSKxB0kllAC2jP844YnOXz3H3DCYWdwxL5H8d6ctwhEFhELGyyu5RrWJBw99pkE7JMNNIJuAi5qNoZGruiTbTvUTdiTHUktbEQ9Oa6JY1v2vQJ/v/slbrziNlTRAcfHMR6L5r3PN/c/grNP+zVu0N1HiUbHEXEVMh74vkcYhivRsdci6pZcl0sVqpHG8TIEbg6Mh8b72LKcFCk+KaQVKVOkSJEiIUPGGKSUvPHGP7nqqqu48sorWbp0abKNC4RIJ8eIEUM55luHoiJDFAv+33e2pHXALzjpexfwP6f9Dt87ia8fMdpKgB1Dzd+5dqya90S3hru3D0WqJ/1sYHX1DqYW+hQqiVIDxqFcgFv/9BKn/+xShHD41SWnsefUtck1QDU2CClwhEyqla45CCEwaBQRUgpkVWCWwPTfP8ff7nyKkU0jEW6VbPMgRqw7impnjN/kEiccPymGWSefMik4o+oTgRiJ7hHxdRPPejDCQYuoloWALRITY6jaKHdNJ23AU2DrwtekJxIUPP3QfG645F7G77ilJR1VIPTon2+l0NnO4vnvUG1XyGZASxwjkVpjTBWRROulDpDaWnPq5N7UPibCuGAk+cYMykBY1pSVJpesNNVNWOpe571D2fWPm+j1I0WKNY6UdKdIkSJFAiklBx98MA8++CCVSoUgCGhubqZQKJDN5ChVYrQOueDCc3AwxKJIe1eRga2D2fUroznjzB/yf+f8lv8941c8+/x4Lr70G6hY4LgefWmY1YrX9N6iByFI8dmiVkM9sY/UnmWqCk796XXcd89jZDI5/ufMn7DfQUOJNHQWQvo1ByirqagLiNY0fdMoPDI4VVDLofy+T646jG8csCfr7dQIA0EVDX7ehQo4mSTCK5KIvbbRd1dJjJDoJO1Aaj+p0EhSXTM5YDIsHZlBSo0yEi0M0tjqjY7xQQXWqx66f5KxYeuMoPIO9JfDCNt8KOahQk1Cji9znHvmecish9/gJPXgXdDWJ19Iie6CWEJjzofI9kk7YHBAVBFGJtp20MaAFOSEBK874o5JAvaJJr5+V1J2neJTRiovSZEiRYoESim+9a1vUalUaGpqwhhDoVBAKUOh2EUu47Lzztux2y6T0VSQQjGgNYemTK4JDjp0Xa7941lk8y733fcPDtrvbBZ/AIV20LEgigSVUOEgCCOdRFQlxtiEvdpyfr2cPCppq3LTSPHvodsjQ2AIowqxifAcKJZDHMehWhG8/QZ87cDfcfetzxKVDX+65WKmTB2K54OUVTKBIIpVwuESlgcIY5CJO8dH2eX1hEz+9U0ZjGJNoaMIoYvpgsJ8Q1b3Z2BLI/hgFDgNgngeUILSsm5eKRV4LrhVCBcrRAU8DWEnVNpAdErCJZLKYvvesA3a3jbQBaIEukPiCXCrBp8ApxxgujJQEVAAloJaBCyzvxMKwvkxvgLdDgP94ZhiBtUFajGWfDsOo0ZvyDobjqL4XiERwvtQ8CGUdLxZwBRAdUBxPhCDWQbhcoiLyWQhclGL7D5lUVBZHFNts/2vLoWoEwiT66BtYmc95N/nnqR1JVN80kgTKVOkSJEiQRRFRFHEddddxymnnEIcx0RRhOM4ZLNZwrDMgw/ez047T0QAkbJVBo2wFQmNCVi+BD54D35wyum88drrDB8+mKuuuYi1RkIubxPeMl5yvJrqpL7arXtFvEXdd83GRxy+aJUvP2kKpHsdpaNQIJdrJooFvmtf+OersNtOx5LN9GOt4QP57e9OYZ0NoKogk1EoXcV1nV5VSWvyIKePTOjfkQ1pNBJJHGruvewBHvztkwwtbINHwPLsXBbwKgeeOJWpX92Dn37zQsqqxDl/PJWg1cpeqEK5S/GHK29izlOvsseUvdjt6G0od8Ajd73ArX/8Myd9/xSGDmvlkksuZ9asVxgwoJW1116Xr+y5F1tsNQjjguwHFDRREQpLFc8/9TJ333EHYbmCg2C99dbnq/vvy6gtBoGAM35wKaVZWVTZJ2yK6RKLGbfLRnznxH2oLDCceMLxDFtvLaZd/TMrO9HAclj8tuaOO27luVeepzMOack38eXRG7L/fvszcNMs7V3QMhQowxVn3MyLT73MBZecxUszX+Luex6grW0Z1Thm0y035aijD2fAMA/6Q/0jZOe73V7qfPRoS6OUKf5dOKeffvrpn3UnUqRIkeI/AUIIfN9n0aJF3HTTTURRhJQSrTXVapXd99iFw484lObmFoqlEq6TwX6Lu8n6tUNjIzQ2w4EHTWLB+yWeeXomt//5IUastRFN/fP06+8QxlCtWq1pLS5qBEjrA1d7pgdJswxBfuHWw/8FL+ZeVY5W/v5ux5huIQhIcn4WgSXcKoQrL3uVY478BVJ47Ln3zlx57ZE0tEC5qsg1SrRSuJ5ASoMhgsTXvd6bNUi6DYIq4CPIlFpoEYMptwmKusR626/FlyZtwJe33Yyc28RDNz8JWrL7gdvhNMQgHYjA8yTvPruIec8tYeN1t2DdLQZiCrBwdoV5M5ehunyuv/xmMjisO3QExbYCi95dyguPvcHotTZj0Dp+Ig8RmGWCnx5/If98aR6NjscGa4+if0MrH7zTxjNPv4YvB7Pu+v2IOwOGeyP44O33aRnWxGbbbMbEnbdh4ACf0lLBE488Rb6pPxO32sbuuwBP3PMB1/7uLt5+exH5fCvrjB6Nr13eff4dHv3LkzQ3rssGm7bY7QU8e/trdLxbYeG7S3jo7odpchvYYv1NWTZvCaUlZR6993Embbcj7gC681lF77Y607sv2qcvxZpHqulOkeJTxKoWloQQH1oUZVVf1jUZgpSy/v4P+2L/sOPXoHViVyblCu/5vCf49T3/lZ3P1VdfzXHHHYeUkm222YZXXnmFcrlMS79GzjrrLNYeMZJqFOIIj74FN7Sp4Do+YdxBLtePX559GOO23pof/uA0Tp92JttN2oxTp53M8OEC4dDNCevd6PY/7o00xrY6WHF89/1M1Ma0RvQiWhKDpFyBuAptS+D0067mycfm4EjJOf93Kl/ZazCZRqtKyLmOVUJIJ7Gfi/k0YJQC5bDORoNYp3kQV856jAVdnex50D4M/jLgQ8c8g6j6ZDIeQluvcZFkUkZLNKasEWGWluxQzGLwgJxqQBZcnnnseSbvtit7H7B5Ip2BGffN5cE7nuW+Pz7Ml3bcx160Lrj6ojtQnYYJE7fha8duX597vj27wM+nnc3Nf76Z7Xb/Cbt8ZQvmB/DkP55g1PrD+cZx20ADENgc47CkicoGfNvH9+cs5+5bp1PoFBz3vePZaGyAaAAnhkUvd/LLaefxpytvZfToHzBkC6AAedFKoNt4Y87bfP9732X9bQZBJxx5/P5ccNqVLHyvi/vvfIL9NtwWArrnYx+DcKdIsSaQ/iVPkeJTwEdVGuz52sq2q2t8+zRIKrT1fNzn9dU5/sq20Vqv8J6VHf/zgFVdj87OTsIwpFwuA3DZZZdx3HHHEQQBl1xyCY888gj7778/QRCwxx5T2HCDDTGAI12CIIvERQqJEBIhFdKtoOikpV+AnwG3AQ45ciNuv/8SRo4ezH13P82+e57M3/6yFBVBNbT9CVxwpM0jU0ag0Chiq+eu9duIz911//ex+gVNeo7/mjrXSnc1CmULpwBK22tcrJSROAhcFJJq1fLGpx+HvXb/GdPvf4q1187zp1vO5cBDBtPQBDgg66GqRLaBxBgHIXwc3E+0/Ip0DFpiSWse4qBK5Faozf9QkPUFGa8ZE3kIBRoXk0iYXUeihaZoYrqiCsK1+Y5uJSaudDF0VDN7fH1zgnVBDgf6weS9N8aLMxSWJN7bCmiD2U/MYa1Bzex14PYwBFgXGAnr7tjIdvtsSm5wzLxFS8GD0KtCQ4zIFrtr1CRj38QS33Uxy8F0wIvPPE9UCNl98kS23CkgMwKCweD2h+Hjm9jr61OodEY8fPdTsByIQUUBRvhss8tY1p84CPLAOkAGDj72G3QZwRtvzbd9/5CFkO57p1faUqT4d5GS7hQpPkV8KHmuPdYrf70vtNJopXFch0qlslqli2v7q71XK11/rqZfllIipaw/7rnN55309brG2tDU1IQQgmw2y1FHHcUJJ5xALpfjyiuv5OijjyYIAs4//3zGjBnDeeeeTyaTQyuDEDUrsp7Xu+aKoLGRzypGxkQaNt18EFdfdy577703ne1Vvn7I8Zz3y7+weD7EISxvT3LIVuhwWj3v48De3zj5qTBEGBQ1SzwMSA0oAcZlaVdoX9UwfwH8zxmPc+D+R7No0QK+c8Jh/PqyaWy9bSOlqsYNSG5FQuh7jKO6n/UnDInACGXD01kwnkJ4loxbe0pbi8YVLq706qV46nbbDkjpguMipFuXWbhS4jgwbO0BBC0QOxAKIINVTikwobRJkgKe/du75DOtbPyl9ckPBdMARc9Ksk0DHPW9r3Hh705l1MatEECmn0/RhBSj5YgGIGflO/bPlYs0juXBLsyd9TqlQjtjx61n1+JdbHUftwKtMHHXbWnw8rz1yruWRCeOK0bAOhuNhFagBfBjaAWnwSXSUKrE3dt/vhfsUnyOkcpLUqT4D8GqJCa15/sSasd10FpTLpfJZrOo2Pp1SefjffkbbZ0xXNf+OSiXywghCIIAIURdblLry38bHOlwxBFHcPPNN9PU1MSdd97JNttsQxRFxHFMLpfj8ccfTyYgIKS74r2qeTmTZN/h4uCQ9x3rciagXytccdVh/H3GQZx4wulcd/WD3HPn41x8yRlssiUUShAEtR32iJeamgCV7tJ5/323YQ1Bd/8UOvGjjhMTP4dahUZbIDIgl4XlHTBjRpHzz7mMpR8sZfCQfpzxy28zeff16NdiJRZBxsY5pTC28uNnNO8UJFIRCfj28yhkMtlOJCRCgCOs6w1JkZ76x9aAZwIEnp0wSntZtJQYKRg4ZABeFnBtoR9U8rquEldtMiZtUOpURKFmyNpDoMla+gkXXM/mKWQzUF4WkR3goRdCWYDxMmTyTYRFKytxG62FYR0aiu3QtqyThoaA1oH22HZiEKJFjFTgZ6G5YRCL3l/WTaAdhZIRg4cMtI8z2JMQ4Hm2yJXneqthT9KnQytMeFPZV4p/D+mISZHiE8ZHRYallGhl/5ivitSqnqUN++w3k8mgYmW/fFcaLl3J8YxeYdtaZNv3fHzfrz+2ftLdxzTG2Oc/xxHvGubPn88OO+7A9ddfz2abbcYTTzzB1ltvTSaTQWtNGIbk83mMMfi+301wVopa1UEXgURhKCvr3Bz4NpdNOrDl2IA77jqbnXfejkKhzNcP+RYnHn8ZJsQGyJUD2retFj3trnud4kORsCqhbRVJUyNOPVYMDGgNOob578APT7qFY//fKcyZ/So77zqOhx4+nz2/uh4D+kOhXGF5ZxcCqMYV6wP9GUKQjL9kDqG0QitlJ8a1KK4GTIRUKhlPJDXWsaQ5zuLg2Wh/gsgYYoR1yxHYSHoeO5wFIGJUFKIqQBMoDJEwaGIIQUeQcewqQmVpFSRkPY+o084TFy/vIMhnKIUVggy4GaBsPw9CCJs/IiHXCB2dBSJdxW+onbRdSZDGRuZdoH1pB4MHD+5xYWK0UcRxjOmy14YAqFj9fiaTobml+WPm5ab0KMWaRxrpTpHiE0Ycx3X3C601zc3N9ddKpRK5XK4XAS6VS3WiF8cxnuf1SpJUsaJULpHLdr9PG123k1sVGe4pY5FJiTYhBWEYks1mIYZYx2ijCUsh2UwW6UiEEFSrVXzfB6BaraKUqstZPg/R71ofjTFUq1XiOKZcLjNlyhRefvllxo4dy3333Ue/fv0A6jKbfGO+voKgtJ3YrJCMKQUiCT+KhORpARiNI32bFqmtZjtU0JC37bdX7899d47l0t9cx1/ve4kJT/yEQw+byve+P4HIgONBpsGgdBXP86hWq2SCnD2PPuf3idGDvgf6zG/1ys40iT6Kbs/t2i3S2kEah0oYk8u5lMtQKUCxC265ZQ4XXvw7qnHMxusN4dTTT2DSTq0ICY40VFRM1s8AGSKlcKVcYd7zWdAyUSPWFZt3obRGKwXKElchwRiFjpXVTReTjhaBTvBUI5727Tj2gABCbUm043vd5StjLHk14LiGaljFaQVCCPIu7cXlvL+wDTQEDqguoBEygc/CFyLefPs9Rm0ygv55j0FDmimGy3Gc/nafWXsOtpaNsJaLjdDVBv0GDyRcENG2wDCgRUCLgNi3bKUC1RI4vsRrcCFn+ymIcYnxPAeRtX1EAC4EgURpxfJly1bj6tbuqO7zmD7Pp0jxryGdyqVI8QkjiiKCIKCxsZHm5maefvpp3n77bbTW5HI5wjBESlmXLDQ2NtrItRB4njV01lojhODdd99lwcIF5LI5wmpoCb3SdWnIh6F2jDAMcVwHpVS96mKhUOCNf75Be3s7ruvS2NhIFEcALF68mNmzZ7NkyRLAyjFc18VxnM8F4e4JKSWZTIYXX3yRHXbYgZdffplJkybx6KOP0tTU1L2dkPWJycc8Qr2JRGpSKzzZXaWEutPDvgeN5IY/nsZPf34S5XLIJRdfx1f3Oo9/PLwQqaFactBxBiEcMkHm3zv5/2roPg0EPpIsYdnHFTmWLrEe6Xfc+yKHf/NsLr30Spoacnzn2K9z8x9PZ6cdWq2jjFNCOKFNjhUkrTax+uzQW91vVj4BaoRKCK6QlAsVVDvQCSyHuA2qy+CFp2eiI6y1YbJTJQHhdEe6e3pYG3AcwEki5x5s9OWRDBo5kKefeYlqAaI2qLZrWKShE6bf9g8uv+AGXn/5TUwIKqqCjmzQIARKQASRAqVjjFGgwMvCVluPJdYOTz89y/Zhme0/y4Gl8OdbH6PqhAwa2a+uY5cGpFLd16fP5Khe3r6HzKZnS4lQik8L6VhLkeIThNZ2adMYw/Tp09lggw0YP348m2yyCaeddhrQbc1XKpWQUvL+++8z9atTOeGEE9Bao7VGSsmtt97Kdtttx9ixY3n1tVfJ5XJ1Ut5XBrIyqNg6YWQyGcrlMp7nUSqVOO+889hqq63YcsstGTJkCAcddFB9UnDBBRew0UYbsdVWW7HTTjtx/fXX47iWdNf6/Z+E1Un4nDlzJgcddBCvvvoqhx9+OPfccw/ZbLa+AtCTbNckO32lOz2j/CLxZu7ZJA5SiKQZ22QP4wRhiUxnqcqQteGwYzbmwYcv4sCDv8LMV17j28ecxjcO/A1PP9ZBVBaUCupDPbpXt5JeX2ra3ey/FV4RfdrHPuLq9XhV/arV46y1j9yfSOqLG4nRLtUKZH2IKzDz5QLjxv2Ek0/5Da/Mmcvk3b/M7XefzelnbsfIUYAq48nQFrTRGVvsRhiQ1fq59x0PK46D3m1NQ9eugbRi7fqxEnkGEWRaYcCAATRkmpl+92ziDmAJuBr+8fBbvPfuEqQM7OcjuWzKCGJhej1XL6GubeRcoQjDGPpD6zrQf1gjURzwwO2z8CLIRhI6JfOeK/DiY2/iVbNMGLMRGQ98JJ7jseCD+ZQK3fu2hzN12U42B7t9ZTsMAQ/e/wTP/G2RlcRUQXXCy08WeOLR5/Dyhkl7bV0n3b4RuCpZiehJrJNK8FokE4sUKT5jpPKSFCnWEPr6ZNfIMsAjjzzCPvvsw89//nP22msvpkyZwjnnnMPWW2/NlClTAOoE+uKLL2bGjBmsvfbavPfeewwbNgwhBKeeeioLFixAa81VV13FBRdcgBACx3WQxurCjTYraLW10khH1hMsoyiqJ14ef/zxPPjgg1x00UXsueee3HTTTfzoRz/i7bffZvfdd+fCCy/khhtuYMMNN+SQQw7hmGOOYfz48YweNRrH/fxVR7zttts49thj6ezs5LDDDuPqq65GOpJqtdorGXV1tPErRT3RsS9BTLTFdSKm0cT4mZjIgJ9zGTZScsZZU9lr7934/e/+wNNPP8vhh36HHSZtybe/ewBjxq5LQwO9Lc9WOD7WaqLvGPjIjq8saWxVe1iT7OXjJaatvJey+6fxQQcJywKq8I/Hilxxxe95+JEnqZBl3LZjOfbbB7LjxMH0b4KwDIGn8D1lj2BchEySJZME2f+4FR0JZKCSXU4lt5zIL9vMRAANO+41nj9dcxsz/vFX7n3kXoYMHUCxs0hluWbvA/bkwekPEao2UP1AQVm3U1btlFUBIizRDYAItIQusZiCKBEMcK0kpT+c8JNvcMoJ/8ffH3uYex++gc0334hie4U5r7xJS8tIvvf94/CTpMwhI1yWds1n8esVTjrpRNbbcCQ/+fnJVpfuhmg3sgS6CZpd+OZ3DuXG627mmhuv5aY7JZtvuTFvvPoWxaWayBQ54ujDWHdigIrt2yp+iapfIHaqWM1JAgHKMURegdjxuhlPmh6R4jNCSrpTpFiD6OufjYSuri6+9a1v8dWvfpVp06axZMkS8vk8hUKBV199lSlTphBFEZVKBc/zuP/++9Fas+GGGzJixAjiOEYIwbhx43j99dcJgqDuKKJiRRRH+L6PNom1nzIEQWAlKo6wem/hUK1WrV2g1niex89P/TnTp0/nlVdeYeTIkQAcd9xxXHPNNcyePZvnn3+eG2+8kf3335/DDz+cd955hyiKePzxx9lggw3o6OigsaGRamQJa7VaxXVdlFIopWziYRKJC8MQz/NWIC9rksz09mnu3n+hUKChoYFrr72Wo48+mnw+z6WXXsoRRxxR12jXJjyrItsf1c+am4VOyHaPUkM9ttI9VgcMGvAdBxC4GWMVAznYYdcsE3Y4hpdeOIjfXHwVj/79GR5/dCYbbLgex33naCbvNpymflAsQdBoteJ1fxOtwET2sMLOAWyEr3dxmPp59dKuGkySuFmbM5hadLvXeXVT348b6+599Jq1Ys9X3fpWplYt0tQ8tiV+chrVCHwHlLLadxUpQOJ4GaohhCW45Y8fcO01t/Dee+/iZytsvuWGnHbOyQwb2cLQQVApWV90zweEwJMZFNpGkE0P9xNWPr9ZHayp8V0f08k9FS7QAIVB82hb8iqFxiXQvxHaI8h7bLj3IL4xdArTZzzC408+S9f7S9hk40355o8OAzT3PzOfOPsBuOsDoDPL8PoXIQjBS+wFDYBB9hO0N7xDSZRscqUP9LcOJedf/kPuv2c6Tz7ZxkszX8TEMG7SGPbeayojN83XnUSCEXD4cVO56bZbiXQFI4U1k8mV0ZlOOqOlVuedJEButXMTIzY+khtvuZGZc2by6FPvkfGzbD72yxxwwH4MWMeHDOgSOAEszL1Hx8BllLwiuC3dEi4BHWoZKr+USjayriY9B2Gf29OzWNLKIFNxQIp/E8L8N1gQpEjxH4RKpQJYVxGAe++9l4MPPpg33niD1tZWnnzySaZMmUIYhlx44YWceOKJgI1Av//++4wbN46lS5dy2mmnMW3aNCqVCplMho6ODvbYYw9eeOEFzjzzTH74wx/2SnKsVCq8//77eJ7HiBEjMNrUo9G1QjDNzc2oWPH6G68zadIkLrvsMvbff39KpRLZbBatNFtsuQWzZ89m7NixPPbYY7z11lvsuuuufPDBB/i+zwMPPMDOO+9MoVCgsdFG10qlEosWLUJrzYgRI+qyGqC+XRRZjXhP/fknTbprJPeMM87gjDPOwPM8zjnnHE466SSgu/pmz0TLD3v8UdArbNablppekgqD0yPkFscR2hiyXp72jipRxWdgKzz8UIHLLrmOJ594FikMQ4b159DD9+PwIycS5CwBRUAuiyWlsgpaoYyxS/dJYRTZS/og6+ckAUxyT4xIeEhyLeuku0Y+a6sba4J01yw1aqiZMiddMcq6kGhRJ92uhCXLi/Tv14ADFMtQLIU0NwWUSyBjuPiC+7nztseZ/0E7UjpsM35zfnbaMYzaCGQjSD/Gl67lZBqEtvIfez6xvVayx7Xpcd7GfLzxuqZJtxEGg4BYIAQUigVc167UtDQ2QRyDdq3PYaf1D4wKVsqkFbgJEaURe+ldLDktYQmplxzQwWb/GsCVVDsim6ToGWtTooGytl6BLuiOZHGlR75CfTVGKcg6UIKoCp4HyztL9GvO2W2j5NgCULafspbECZRD8GTS95ojp2c/S0ZYi9RqyU4+ndoQqllvJgO0XADfB8en57yu3sfVHccp5U7x7yKNdKdIsYagYoU23WSzRpYkgOwFAAAgAElEQVTPOussdthhB4YMGUKxWOSWW26hXC6z1lprMXnyZFSsUFrheR4zZsygo6MD3/eZMGFC3YO7UqnQ0tLCcccdx5FHHsmQIUOI45gwDGlsbOT222/nggsu4K233iIIAjbaaCMOOuggDj30UAA6OjoYMGBAPep71VVXkc/nmTJlCm1tbbS2tlKpVFi6dClz587F8zwmTJhAEAQMHz6c/fbbj/vuu48DDjiASZMmobXGcey34u23384ll1zCnDlz0FozZswYDjvsMKZOnUo2k6WxsZFCoUAul+tVrv6TQK3wTR0SjjjiCP7whz+Qz+e588472X777THG1JNIe+KjIvEfRaJWfHXV2zu9SuJpAtdBEbO8sIB+zYOg2XKo7SY1Mn7743ltbpGrfv8nbv/zX7jw3D9y4Tl/5uCvH8zEHbdi/MSA9ggyDRAEPsmtweurAKpFsE337ysoYQxJ9mBtg0/KsSExm4Zua8R60qlGEGO0Ai2RJsAIqGpF/34NLO3oIJtvphCBkwv4091v8uhfnueOGx6gJdeC0kUO/sYefP+U/Ri2liVb1RiCDOikamTtrEyij7bn6nzodOKzlpmY5ALVumG99A1KKYzQCD+xHVESGiVkhK066YArLI+uhJpcVqIjDVIgHQEZWx1VYiPHAMKRGK0pF4o4gUMxCvFcl0AmCZh+XGehcoCHKlcBcLKB1WtHVYTnWjsVFUN/Fy/Rirfkcna9RAItYCqKSClwJW7g2NljDKoK2cZkAUeAaIDKkhKZfA4hJUIbiss7aBjUjCkpu/yBtqzdSFt9NBa4WQelkxWhVUmzUqT4FJBGulOkWIOoVXuswXEd5s6di1KKTTbZhDiOGTVqFAsWLGDy5Mncf9/9KK3qdnzHHHMM11xzDa2trTz22GOsv75d/q0R+LvvvpsDDzyQWbNmscEGG1Aul7niiiu4/vrr+fGPf8zGG2/Mo48+ykknnURjYyM/+tGP+O53v0sQBHXpi+/7PPXUU3R1dTF558k4brf05KGHHmLvvfcmCAKuuOIK9t13X/L5PJVKhWKxSGtra11GIqXk8ssv5/zzz2fatGlsu+223HPPPZxyyikYY/jxj3/M2WefTRiG3XKXPj7Xa4LE1AoH9aw2WcOJ3z+RK664goEDB3Lfffex5ZZbEoYhvu/3et+qyPUK9oAf0d8VqVrfSPeKfus9M9cEBolHqMqEFYUjc4nWHKoVaFsEpS74y/2zuf7a21m6rBMlItYa1cIee+3AXlMnMmq0R+CBI4C4O7AnpI141/NEaxbgK+OXPSKBtsjKx490mzrD79a5C216J+AaVvw9Id0YhdECox0wwibd+TaiWozh9Te6+OOf7mb69Md4993lNPr9Gd40iH33nsI++45j2AhL2HAgyGgMMbEGKR1c6dQT+QCE7J782C6YPlFNp0fnPn3UxqEWVtojlB232lg70iAICMMyrqeQ0sEYQTXUZDK5+kRGRd37q0Yh2VxQ99z3fZ9qrIhjhaiF4rRCCkHgZZKAgu2H77l2BaIa2smRZzUbulKwftp+BpTC6OTz4nn2WscGpUA4wkqCYoPWMbiaUqlAc1N/THKMvknalWJIpiGo9wujkki8IYpiPN8jVgpjFMK1UyojHSQejuNj4kSSUxuwfd1MWL1odxrpTvHvIiXdKVKsQfQk3TV9sJSSKIpwXZd77rmHQw45hHK5zG9+8xuOPvpoHMfB9306OzuZMmUKjz/+ONtttx2P/P0RiqVivSx7Lpfj3HPP5cYbb+Sxxx7D8zwWLlzIFltswa9//Wu++c1vomKFdCTXXnstxx13HL7vc++997LdttshpC1CUUvwrPmGd3V11X3BTz31VH71q18B8OyzzzJmzBgqlQpxHNelJNVqla6uLqIoYty4cRx//PGcfPLJRFFEJpNhxowZ7L777gRBwIwZM5gwYQKdnZ3kcrkVbAbXFOmOYytTqDmyAIwdO5a33nqLjTfemLvuuoshQ4bgSKeX60TPapur05+P31/9IY96U1crHDBoo1HK4EgPZUR9K4zAJLl+Nauz6dMXccstD3DX3TMIMnmEIxm93kgm7rg1kyePZ/zWGVQVmpss2ZbJsn81gihRdrgiiThiZQjSxUoPei7BgyVa9QnKxyDdCZSq4iASUmhsOXISiY+RCYns3qPRjq1YaGXWRMDTL8Mtt9/PY488TtvipaAidBwyadIEjjh8X3aZPIy6hF0kPF4oEFVAI4QlpFJ4CCGRCfFegXSLlbCylT7+dND3a9robtIthUTL2mSut0ZeCJeVlqdPJlFSSJSu1jfRaCuhMRJtBA4C3/F6V6WVAgdLmKWsDcjkde0kx7O2IVo4CYEWGJ1saayLkiMFWkbUXHIc4VvpTNJ3Y0yyGtTdX5GMDzvB1ghtx6OuuetImUT9sS5CIovscf4rfH57TvT4aOKdku4U/y5SeUmKFGsYPcuw62RNs1Qq0dzczKOPPkoYhrS0tLDTTjvVyZ8xhnnz5vHmm2/ieR7jxo3DcZ26d/Ty5cvJ5XLcddddbL311jQ3N1MqlXj++ecpl8tcfvnlbLTRRnzpS18iCAL23ntvLrzwQmbPns1TTz3FhAkT8KRHGIYIIejo6KChoaGXTzjASy+9BMBmm23GmDFj6rKQTCZjC8YISblcprW1lQcffJC2tjbOP/98xo8fz4477khXVxe77LILY8aM4aWXXuKuu+5im3Hb0NzcTLVa/UQ03D39zAGKxSITJkxg8eLFbLLJJsyYMYOGBlvermekvS/h/uxQI9UJTTUSO4RqVUoS1KLU3bmYTJk6mN32PJLT3j2S6dPf4q67/8rcOXP49a+e5447bsP3FdtN2IrtJ45ns002ZPhaLtKxJb6lY+UnIvldJslzYQVcmWh0eypgEChjr3dPV7aVwb5V9HrsOAEaiGKF67pUIyufEULiOlZHbYwl2rU2fz688PxrTH/wIZ59cRYftJUpVwzZIGD78Vuz79SvMHG7EQweZF027KSiau3+kGD6Jmr2XMX4eHfpPwlKq172ltLU8gl6hnMTCL3ic7VJk9EIITF1sq4tUcfFSfYdaVOXs0ghEhdBiZFOMrHqTjY1ojvJ1jjSEu36SkciEcEBo1DEvaYwylR7TBJsYqw9p1rfNbKeYyBBuxjH6vBrxN1gI+kGt75W0Z1n0V1ALEWKzwop6U6R4hNETbpRS2CcOXMmnucxevRohg8fjuM4NlKlNHPnzmXJkiW4rsuECRMAq8Vubm6msbGRcrnMvHnvcOyxx6BU1UaOXYFSimeeeYY333yDCRMmUCqV8H2fESNGMGvWLObNm4cUNnIUhiFNTU00Nzfj+369cI8jHRYuWli3JNx8880B6tHtmuMJUK+oWSh2onVMW1sbCxfOR+uYIAhob29n6NChvPLKK8ybN4/Ork4aGhrqko41BSEEURTV+1Vzg9l///2ZN28eU6dO5fe//z0tLS0AddLfU1LyaS/0rX6krLZlQhL6RORqv4cxxEqz/gaSXL+RfP2Ib7F4ITz73Fz+OuMJ/nzbfRQqs7j7gZmEYcRGo0exwYaj2Gb8l9low7XZ+EsSxwM/A75rPa3bC9DcYgm4iq1MRQiDljaSKHrRaYvVMf7TCZFGOlQrNjHOCEu8yxWr333nHZj50hIe/ttTzHxlFkuWLMLoCpoujCmw667bssuu/7+9Ow+Sqr73Pv4+W/dMMxsMiopgfEiionAVwSDeuESJoolFgsqjgLhLNKmSVG40uVW5WpWgSaoSk4oKOEQfGElYJKISx1hCktIooizqIJqoV42gIg7DLL2ec54/Tp8z3T0LqDALfF5VXbN09+nTPT0zn/7293x/X2XqxZOwHEgMCq6fKIdPmtPEzThgF0yZsEv2qLC9xwPDiBa/6fwA9x+FLxRdNwjchulj+GFblZWfoFP8yJslDfsdx4GaHRVwwwtCu+lheOAZZlCx7rhk/ifuUfia2cDK/9zzwT+skocr7vjB4kKFr8zMaI52fsB2GJjDyxTdB7PjmRb1QIUvUMMjNQufezkMzPxBt0FTlZ///THyQ7u9gmk9RUN9RHqJQrfIARaLxchkMnzwwQe8/PLL5HI5TjnlFKqqqqK52q7r8t577xGLxcjlchx11FEAJBLBzFnHcWhoaMB2bM4//wIMwySVaufCKRfywx/+gGw2y9RvTSWZTEYj+sIpKpWVlZiWSVtbW7DcO8E/8eeff56jjz46uq233nqLt956C4DzzjsPIBr119TUxPbt23n++X9w5ZVX4jgOl0y7hI0vbSSVSnHGGWfkA3A8WrI8bKkZPHhw0dc96S4E761C3trayrvvvsvkyZNpb29n5syZ3HfffUUvGqx8W8OA0VVbQF7Ylx2zXWJ45EgzdKhBLm1w2DCTb37jBC688AR+Nu9anmh4h61b32HDhs1sfXkrr7/xGqtX/wnPy3D4ETUcNfxwjjt+FCOGH8FZZ38V100xfsIQbBNSqfC2ggWArHAFwMLe8C64XnDy8q23uEHFMZeBsjJ44YVdJOIJNm7cyJtvvsnmzZt581/vkc1UgpcI5m1j8sUv/R/GTziBi75xBuMnJIJedROybpZEwiHjZkmUO3jAkOo4Gb+7eeOFh04OTOFz1zSCmftdLQAVZOzC9yHM/FhIMzjQMgy1hc8t38Q3TUwvPMC25IVe4SY76XjrxcPDN/yCMN8xSrM7RkHwD/elY7vh7ZodB9gW3q5vBFVs38pfPwzcYei3Cx6KggOD8/Y2mV7kQFDoFtmPSsNhWIm1TItsNktraysAxx57bNDm0dLM4MGDSaVSvPnmm7iuy4gRIxgxYgQAqXQ7GMGKlg8tXcJJJ57IEUccEfRl59tYfvqzn2Lmb7elpZWamiE0Nr7Cxk0vUlVVxZlnngl0VK2TySR1dXXceuutVFVV8eyzzzJq1CiefPLJqOXi6KOPzlfVMjiORW1tLRddNIWRI0dy1dVXkUolicfj/OxnPyOby0arXWazaXbt2sn6F54DYMqUKdGBlKlUqsdxgYUj/7o7L+zDNgyDZDJJIpHA8zz++Mc/ctttt7F7925+8IMf8Itf/KLLoH4g54R3rfTfevfBL6i8d0ymwPCxwvfGw57Tot31MKLtx7ANsOMmZeFAEA8qK+DKy4/B5xjwz6QlCa+8vJu/rnuGV19+g9e2vsl7b3/I669uJ53yeXDhOj7cuYtEeQWul+WrXz0Dz/CoqanhiCMOZ0hNDclUO4MSCY44chhHHllVdB927NjDhx9+QPPuFmqHDCOdc3l5y1Z27PiQo4ePZNXDj1A5qJys24ZtuXh+G+UJGyeeY9hRwzhm5EjGjB3D2WefyX+MGYSTn7xh5NtdTDuovDuGA4ZP3Hai6mUYu4orq/nnjRmUXD0jbDEJ546Hj19J6Isqq/2nFBq+M1PYvuaTb5kq/E7Bgas+fsHj0f0LjyiMG2bQR90p5HoFl6Nj8k1YbTbzAb9oMojfacRiUQg3gkp90DdV+E5D4QuCjh5vfLNjhCUdVzGM/CtAw86v2hrOLYTS/qeON4zC50zJOwNF91ahXPY/hW6RAyhcjMa0TMrLy6OpH67rYhgGVZVV+L5PIpHgjTfeiKpXH330ESNHjsTILyX+9v++wxN/foKGhoagBzv/j9cywxARfEwMSuB5ORYtWkTz7hZuvvlmJk6cSCqVitpcUqkUc+fODQ448n0++OADRo0axV//+lfi8TjDhg3jpJNOCuZ8WzamabNu3dM0NjZyzz33YFs2bZm24PYSlWQybfi+T8WgCjzPZenSpTTvbuGy6ZfwrW99i3g8HixTnz/gsadqdzR9pOS/Xekqn5lM0F6TzWZZtmwZ119/PaZpsnDhQmbPnk06naasrCx6Ox6I+l+7CvX91j6N6zMLPvM7Qo8VRA/f9PE9A9c3SCRgwmk1TDj1G3i5IIQ07YLXtqb593sfsX3Hbra99i9ee/2fvPPO/7J+/QZMx4x6/r2cS7K1Dd8gv0hTjpwb9AObZtBHnU6nqaqsIZvJBYvXmDaDB9fSuKWRww8bwhdGDmfYEYP5wrHD+OKXj2bEMYdxxOEVjDgmGOmHkY9e+Zb2oKrugu3nQ1VheOri51j4mJW2JQxwnQ5C7upulTxnCnNvp/GQkcJA7nXxWiM8z+rY0L7MLO/+Bj+lsE+lu59jWA3vZp/2236IfD4K3SIHSLjSoed6mLZJVVUV48aNY926dTz99NPccsstwSg9z2X58uU8/fTT+L7Pjh07aGpqAoIDMS0rxsyZM7ls+mWcfvpXAJtsLoltFR4UFPxTjDllPL7mURbev5ALpnydu+66K6pwh8uc79y5E9d1SSQS3HjjjYwbN46FCxfy7LPPAkR92YcffjiWHee1bY1ccMEF3HrrrZx66jiSyXYGVZTj2A6Qw3GCKn4y2cqLL23i9ttv55yvnUV9fT2OHefjjz+moqICwzCiwN1T6O1pCfbCPu7wxcP8+fNxHIclS5Zw8cUXY5lWsLqn7eB6bjSxpHAb3Y0EHKh6ehs/CGfhoWVm8EwJwyxQMQiGHh7HzY7AckZQVjaG9raO9pB3/p2h6ZMmLMvhlc2vkstlyWRy+Z7dwsqkiZsLXuBksimGDz+S8ePH8dFHH4GRY9IZR9GehKqKoOXEdsIDKYM2FscBq2CMn++DZXlBtdv0ivpxuwtfnd/JMEu+LizVDvyWk0/LDw9MNCip6hcE7qKPhbXfkser4LHt/vnX8+MbFLpLL1N42z09sf3onYywFzz6+QZHJBcdRAldvUjbl6MRRPYfjQwUOYDC6q7jOLg5l81bNnP++efT1tbG5MmTOf/889m1axf/8z//w49//GOam5upq6ujsrKSH/3oR8TjDkv/sBSANY+vITGojJgTJ51J5UNvsXfefY/Ro0fz7W99m0WLFlFWlsD3/ajXu7y8nObmZs4++2w2b97MggULePfdd5k3bx4LFy7k/fff5/bbb+ess87iuuuuo7HxFR78fw9y6aWX8vO7fh5MvLAdUqkkiUQlzXuaqK4ajOfl2PHBDk49dQIn/8fJ/OEPf2Dw4MGEo78Mw4gCmWmZXYburnpUgaIFdcIKdiqV4qabbqK+vp6amhoef/xxxo4dS1lZWTQ2Eeg0vjG83c8auj9/hXwvIaSkeli6f6XXjsZS7q13NnynoGjbwUfL6Ph+0ydt1A4ZRCYbThwJFhQMrhCEcCOfhdxwykjBQjsQVKjjZZBMBuc5sfzXKTB8j7Jyk2zWxXGsYPVBC9LJYMVACAJ51KZgeEGVu6CFpDB0l4ao0jGFhlf8tV/wQAUHCJZMsygMor7Zn7pLgC5GB37qf9/dVf5LwnanHuv8t43S6R97C6ldTVLpQafjGHrefsf9Lx31GE4uKRkJupcfaHgArvq95UBR6BY5gMIgGb49H44GXLp0KStXruRf//oXtbW13HHHHUyfPp1MJsOqVauor69ny5YttLe38l8//C/mzp1LZUU1rhus+uZ6HpZpsmdPC/F4jESikve3v8eYMWM4//zzWbx4MdlMhvLyCnbu3MngwYMxDZPWtlaqq6vZtm0bd955J3/+858ZMmQId9x+B9P/73QMw+Duu+9myZIlvP3225x8ylhmX3kls2dfA0A2l8YyLVwvSGK2ZZPNZWlpaWHcuHFMGD+BBx58AMs0MU0rH6CCCnc03qyb0F34eBmGged60WzxcAXJ8vJyPM9j+vTprFq1itraWv70pz9x4oknUl1dXbTdwsVySqvnnzU893Zbyuf+81wS4g2zOAYVBgvfD1oGur3Jgip0tL2Czfv5+eGe3zH32yj42NU7/N3dlm96+V7d/HSLPK+gqg57D1HGp1zcqFPo62ehu9T++/dd2pJTOi2kh7aOfd1utO2etvdpt7+XW/+MoTtS+vD28+eD9H8K3SIHUOmvVzabxTKDapFlW7S3t5NIJMhkMriuG83DDleobG5uoqqqCsOwSKXacZzijrB0Oo3tOKSSKf7zq//JcV8+jhUrHsbzchiGwcqVq3jttdf47x//N57vRYvHJBIJdu3axZAhQ6Lqcfh9CA629H2feNzGshxaWvdQWVFNNpcuun3HjrN79yfMnDmDoYcdxoMPPJjvY3dZ/eijvLhhI/PmzcPNuVj23mfklobucJ/DgzFbW1s5/fTTaWxsZPTo0axZs4ZjjjmG3bt3k0gkoset8LEPw3uhQyZ0Q/GBdSX73yl0A67vd3k+ULTaJ4Zb0L5h4nv58nThRcLQ3bELBWeC7xcGvOLdDa5nFFVHC0fUBZtQ6N4/upvtrdBdsgGRz0XvoIj0Itu2g7CdbI96viFYPKe8vLxoOfPW1laqqwdHb+k6jo1X8k82kagknU5z0003MWH8BFaseJhdn+yMzn/qqafI5XJYdtB3nU6nsW2bZDKJ4zjkcrlovKDjOCSTSdLpdFSdT6fTUeBuaW3u4h753HHHHdQOHcrvF/2eZDLJ9h3bsawYDQ0NtLa2ks1m+aTpk06L0USV6IITdAQj0zKxLCsf/uP8+9//5rTTTqOxsZHTTjuNv/zlLxx55JHR7PHCwF2ou37uQ4bh59OuV3Iq/Y6BhxGUqU0DTAPP9ItOrl1wsig4z8W1s7h2jpzl4trg2sG4Z88E1wDXzJ8sH9dycU036IuxCk6mgW8awcIrphWMg/Oc4OQHi7aIiAxU+gsm0gfChWJMI5jEYVkWra2txGIx4vF4dJlMNhVNMDFNCyO//HEolWrn3nvvZeXKlcyYMYPLLrsEwzRo+qSJeDzO2rV/ZcmSJfi+j23b5HI54rFglnY8Hsc0Taqrq0mngwq2ZQWL+VRUVOQr7jbtyXb27NlNVVVN1F7i+x6e7/PzX9zFfffdxze/+U2uv/56WlpayGQzuDmXLVu28MMf3obruhx22GFRtfrTMgyDrVu38rWvfY2PP/6YSy+9lPnz50eL3nS1nLuEevtx8fLVbT8fkimqDgYrEhaE/nAOc6in10PRrOVD7wDIvrG3KvdnsD+3JTIAqb1EpJ8onFMd6jyv2i36+rHHHmPaJdOCUG0Fq7AVsiyLJ554gkmTJkWLanweOTcThe4nGhqYOnVq8f4VD5Jm7dq1TJw4EduycT23aLn2jvvUcX99z+/UhrJp0yYuueQS3nrrLW644Qbmz5/fKWj7nr9P9+2Qq3J/honDbk8TI7rcdrGgPSickxweuNpxfsehauHPvodFgPb7z0vTKnq2txcz++Px6uk29POQg5sq3SL9ROlkDdh7z+YJJ5zAbbfdxuCawdGKkIUsy+L444/HdV2s2N57qvdFKpXEdhy+/KUvM2/evOJ99c2iff7iF78YrVC5LwEqDNypVIqysjIWLVrEddddh2EY3Hnnndxyyy1A0HNuWVY0DrCnMYPy6extEkrBJbs/yy/+pHMvrVl6QelX9n1Rp8+2bb1TIYcmVbpF+rHOI8I6Kt1hiM3mstiWHa1oGF02f9CbZVskk8EKkp+nchhs3yWZbMey7OiAx6Ke6YIRbJZlRQdEZnNZLMsqWhgnquyXjHULg/eyZcuYNWsWrutSV1fH1VdfHV2mvb2dsrIyTNMsqnjv7f4depXu3te/Fx9SpbtnexspuL8er+5Ct34ecnBT6Bbpx3oK3b7vkc0GB0km25MYpoFlOtHBgpZlYVlWsIKlGawq2NNqkHsTBKlgKLPr5nA9r2MOdsl83MIDQg3DwHGcorGJRR8LQrdlBz3lc+bM4YEHHqCqqopf//rXXHPNNfll5oPpLzk3F9yncFlvs/O7BN3fBzl0KXT3TKFb5EBS6BYZQIr6n7v41e2qNaUw1O5rOO1OT4vKdFe5Lu3lLrxuW1sblZWVRSMFZ8yYwdKlS6msrKShoYFJkyaRyWSwbTtauj6acGKYnaaT7Mv+i4iI9DaFbpEBZG8r0nUXuvfXnOp92bfS0F10uyX74Xt+tFT7rk92cfnll7N27VqOPfZY1qxZw/HHHx+F7FQqP8nFNDst7R5tX6FbRET6KYVukQHk04Turi5zoENnp/0rCeClQdk0TVKpFJlMhgsuuIDnnnuOiRMn0tDQQHV1NQCtra1UVFQAweJCpdXtou0rdIuISD+lBioR6TOe57Ft2zYmT57Mc889x6RJk1ixYkUUuNPpNOVl5QBkMhmgc3AXEREZCFTpFhnAuvv1DQ9k7Or7B3pfevqTYppmND7QcRw2bdrExRdfzI4dO5g2bRrLli3rdrvQ9ZLuhVTpFhGR/kqVbpFDQH9Z/jyTyRCLxWhvb2ft2rVMmTKFXbt2MXPmzC4DdynDNKL7si8nERGR/kKhW+Qg1dvhs3Bxn+5u1zItUqkUjz/+OOeeey5NTU385Cc/Yf78+VH7yL7choiIyECjFSlFDnJ9tViJ7/udJqe4nkt9fT3XX389FRUV/OY3v+Hyyy+nrKys1/dPRESkN6mnW+Qg1ds93aW36fs+rutiGiZt7W1UVVVx1VVXsXz5cmzbZsWKFZx37nnBfpXMD++uJ31vVAkXEZH+SpVukYNcYaU7DLK9EU7DVTFN08RxHK655hrq6+upqKhg3bp1nHzyydGKloX7KiIicjBS6BY5yO3PgN3TtJTuvv/+++8zdepUNm3axJgxY1iyZAknnXRScP7nXCFTRERkoFB7ichBqqdf7c8acvcWukvP37NnD+eccw6NjY0cd9xxPPPMM1RWVpLL5XAcB8/zPtf+dLcfIiIi/Y2ml4gcpAoniHzeUXq+7/cY4sPzM5lMMEvbMNi4cSNnnHEGmzZtYtKkSWzauImqqqpoRnfpPna175/2JCIi0l8pdIvIfhOPxzFMg02bNjF58mQaGxuZNWsW69atI51J9/XuiYiI9BmFbpGD3P7u6e7qVGjNmjWcddZZ7N69m2nTprF48WKy2SyJRKLLfVPFWkREDgUK3SKy36xYsYKLL76Ylr5pY4AAAAnOSURBVJYW6urqWLFiBQCe55FOq9ItIiKHLoVuEdmr7irSvudHM7XvuusuZs2aBcDdd9/N7CtnA0F1PBaLEYvF+vIuiIiI9CmNDBSRz8yyLXzfZ/bs2dTX11NdXc3jjz/OeecFi95oOJKIiEhAoVtEPrP29na++93vsnz5cqqrq1m3bh0nnHACnudhmnojTUREJKQ53SISKf1zULiaZVdLs48dO5Y33niDESNG0NDQwKhRo7qd2R1uQ0RE5FCkUpSIAB0huWgyieeTy+Wiy2SzWQzDYM+ePYwdO5bGxkaOOeYY/va3vxUFbui6D1xERORQpdAtIpEwaIcHSFq2heu6UWB2HIeXXnqJ448/nn/+8598+9vfZv369QwfPrwonIuIiEgxhW4R6VIYtMvKykilUgBs2LCBc889lw8++ICZM2eyePFiampq8H0/WmVSREREOlPoFpEiphX8WXBzLgCZTIZYLEZdXR1f+cpXaG1t5ZprrmHB/AUkEgmy2Sye62lSiYiISA8UukUkEvZee76HYRq4ORff9/ntb3/L3LlzsSyL3//+9yxatCgaF+g4ThTURUREpGv6TykiEd/38TyPVCqFaZq0tbcxb9485s6dS3t7OwsWLGDGFTPIZDJ9vasiIiIDikYGikgknFpimibpdJrvf//71NXVcdhhh7F69WpOOeUUUqkUiUQiunwhTSgRERHpmkK3yCEqDNiF4/zS6TTxeJw9e/ZwxRVX8NRTT2HbNuvXr+fEE0+kra0Nx3GIx+O0trYyaNCgom0qdIuIiHRNoVvkEBWGbtd1sSwrCt/vvvsu06ZNo7GxkS984QusXbuW6upqysvL+3qXRUREBiz1dIscogzDwDRNcrkcpmliGAYvvvgis2fPZtOmTYwePZp//OMf1NbWEnNiJJPJvt5lERGRAUuVbhGhvb2dt99+m69//ets376dK6+8kl/96lfU1taSyWRIpVLYth31couIiMino9AtcgjzfZ9MJsMrr7zChAkTcByHK664gvvvvx/HcaKeb8/ztJS7iIjI56D2EpFDRNjDHZ4AWltbWblyJRMmTKCqqoq77rqLBQsWRKtLhiMEw7BdeF0RERHZdwrdIoeIMDjv2bMn+nzlypXMnDkTwzD45S9/yc0331wUsEVERGT/UHuJyCEkbBcBuPHGG6mrq6OyspL6+nrOPPNMqqqqosvu2bOHiooKoPMoQLWZiIiIfDp2X++AiOw/hYvbhF8XBmTDMPB9nzlz5rBw4UJqamp45plnGD16NJ7rRddpaWmJWkxERETk81OlW+Qg4vs+nuthWmYQwD2fTDZYsr28vJzm5mamT5/Ok08+yZe+9CUeeeSRIHB3c6CkVpwUERHZPxS6RQ4Snufhez6WbZFMJrFtOwrNhmHQ1NTERRddxJYtWzj11FNpaGggkUhgWRa+52OYRlQhDyl0i4iI7B86kFLkIGGaJoZpkEwmKS8vx/d9bNvGtm22bdvGlClTePHFFxk7dmy0ymQ2m8X3gmCdyWRwc24f3wsREZGDk0K3yEHCzbnkcjnKy8vJZDLYto1pmmzdupWzzjqLxsZGZs+ezTPPPINhGGSz2aDSbVtRWLdsq6/vhoiIyEFJoVvkIBK2f6RSKTKZDMuXL+fCCy+kqamJ6dOn8+CDD1JWVkZZWVm0+E14vZqami63V3gSERGRz0Y93SIHGd/3yeVyrF69mksvvRSAe+65h+985zs6UFJERKSPqNItMoB0tapkKc/1uPfee7nssssAqK+v56abboquLyIiIr1PlW6RAWRfKtPXXXcdixcvpry8nEcffZQzzzwTz/XIuTlisVjRdVTpFhER6R0K3SIDQOmvaenXpmmSzWa5+uqreeihhxg+fDiPPfYYJ510EqYRvKFlmEanhXJERESkd6i9RGQAM00T3/N57733mDhxIqtWrWL8+PGsWrWKU045pa93T0RERPJU6RYZAMJf0+hjfra2ZVt89NFHTJ06lW3btjFs2DBeeukl4rE4lm2RzWaLKt3QUeFWpVtERKT3qNItMoA1NjZy2mmn8fzzzzNq1Cj+/ve/Y9s2lm3heV5f756IiIjkKXSLDADhnOxMJhN8bhpseHED5557Lu+88w4zZsxg/fr1DBk8BMu0cHMuvud3qnJD56q5iIiIHHgK3SIDSFlZGalUihUrVnDBBRfw4Ycfcu2117JkyRJMU7/OIiIi/ZX+S4sMMA8//DCzZ8/G8zweeugh6urqSCaTQH5CSRenkFaWFBER6RsK3SL9hO/7RX3YXfVkz5s3j1mzZpFOp/nd734XrThZXl6uHm4REZF+zO7rHRCRDr7nRy+FXdfFNE3S6TQAs2bNYsWKFZSVlfHCCy8wZswYPM/D87weJ5Kod1tERKTvqdIt0k8YhoFlW6TTadLpNI7j4OZcWlpa+N73vsejjz5KVVVVFLjdnNvp+l19LiIiIn1PlW6RfiyTzXDOOefw6quvMnHiRJYvX87w4cMBuhwLqOAtIiLSP2lxHJFeVPjrFn4eTh3xPA/XdXEcB4B0Os24ceN4/fXXmThxIqtXr6a2tpZsNovv+9HlfN//zO0lCuYiIiK9Q+0lIr3A9/1Ogdv3glNhX7ZpmPi+z+bNmxk5ciRbt25l6tSpLFu2jNraWjzPw7IsbNvutM2ubgc6JpZ0dRIREZHeodAt0ovCUOx7PpZtYdkW7e3t5HK5qKd7w4YNXHTRRezcuZOrr76ahx56iOHDh0cHVIqIiMjAo9At0gcKZ2fHYjFisRjZbJYHHniA008/ne3btzNnzhzq6upwHAfP84jFYqpYi4iIDFDq6RbpBd0tvR72c7e2trJq1SrmzJlDMplkwYIFXHvNtXi+h+M4+L5PLpfDsqx9CtkK4iIiIv2LKt0ivaCnynQ2m+WnP/0pN9xwA47jcM8993DVVVdhmEbUuw30GLhV+RYREenfNDJQpI+E4fjmm2/m/vvvZ+jQoTzyyCOMHz8e27YxTbOoMh4Gar05JSIiMvAodIv0gTBwNzc3s3HjRoYOHcqTTz7JySefjGmauDkXD6/LqrUq2SIiIgOPerpFepHneUVzudPpNM3NzZSXl1NWVobv+5imGc3gLqXALSIiMjApdIv0Es/zolGBQFDN9j1MwyyaZgLdh2uFbhERkYFJ7SUivcQ0TTCJ5m3HYjFMTDzX28s1RUREZKDT9BKRPlZa5RYREZGDjyrdIr3E8zxc1yUejwPBqEAIRgGKiIjIwU093SIiIiIiB5jaS0REREREDjCFbhERERGRA0yhW0RERETkAFPoFhERERE5wBS6RUREREQOMIVuEREREZEDTKFbREREROQA+/+0jttpRqDgQQAAAABJRU5ErkJggg==)"
      ],
      "metadata": {
        "id": "WMJgb8YGcSqt"
      }
    },
    {
      "cell_type": "markdown",
      "source": [
        "Now, let's build our simple neural network."
      ],
      "metadata": {
        "id": "i1h12Rirft9Y"
      }
    },
    {
      "cell_type": "code",
      "source": [
        "import random"
      ],
      "metadata": {
        "id": "QVwuTsmBbrnh"
      },
      "execution_count": 126,
      "outputs": []
    },
    {
      "cell_type": "code",
      "source": [
        "class Neuron:\n",
        "\n",
        "    def __init__(self, nin):\n",
        "        self.w = [Value(random.uniform(-1, 1)) for _ in range(nin)]\n",
        "        self.b = Value(random.uniform(-1, 1))\n",
        "\n",
        "\n",
        "    def __call__(self, x):\n",
        "        act = sum(wi * xi for xi, wi in zip(self.w, x)) + self.b\n",
        "        out = act.tanh()\n",
        "        return out"
      ],
      "metadata": {
        "id": "1Qhygz7LOtX2"
      },
      "execution_count": 127,
      "outputs": []
    },
    {
      "cell_type": "code",
      "source": [
        "x = [2.0, 3.0]\n",
        "n = Neuron(2)"
      ],
      "metadata": {
        "id": "Ah5tIIxDdda1"
      },
      "execution_count": 128,
      "outputs": []
    },
    {
      "cell_type": "code",
      "source": [
        "n"
      ],
      "metadata": {
        "colab": {
          "base_uri": "https://localhost:8080/"
        },
        "id": "jwDiBgF_dh5h",
        "outputId": "ac708ba0-6331-45b1-fc34-9d268dbab948"
      },
      "execution_count": 129,
      "outputs": [
        {
          "output_type": "execute_result",
          "data": {
            "text/plain": [
              "<__main__.Neuron at 0x787ef8257ac0>"
            ]
          },
          "metadata": {},
          "execution_count": 129
        }
      ]
    },
    {
      "cell_type": "code",
      "source": [
        "n(x)"
      ],
      "metadata": {
        "colab": {
          "base_uri": "https://localhost:8080/"
        },
        "id": "1Vfrad3KdjI9",
        "outputId": "67b70cd3-8790-4c77-8cc8-d8faaf8e9235"
      },
      "execution_count": 130,
      "outputs": [
        {
          "output_type": "execute_result",
          "data": {
            "text/plain": [
              "Value(data=0.9999622790516042)"
            ]
          },
          "metadata": {},
          "execution_count": 130
        }
      ]
    },
    {
      "cell_type": "markdown",
      "source": [
        "We can also do it in different but same manner."
      ],
      "metadata": {
        "id": "evHrGUsOgT2Q"
      }
    },
    {
      "cell_type": "code",
      "source": [
        "class Neuron:\n",
        "\n",
        "    def __init__(self, nin):\n",
        "        self.w = [Value(random.uniform(-1, 1)) for _ in range(nin)]\n",
        "        self.b = Value(random.uniform(-1, 1))\n",
        "\n",
        "\n",
        "    def __call__(self, x):\n",
        "        act = sum(wi * xi for xi, wi in zip(self.w, x)) + self.b\n",
        "        out = act.tanh()\n",
        "        return out"
      ],
      "metadata": {
        "id": "AGV0ilhtdkYA"
      },
      "execution_count": 131,
      "outputs": []
    },
    {
      "cell_type": "code",
      "source": [
        "x = [2.0, 3.0]\n",
        "n = Neuron(2)"
      ],
      "metadata": {
        "id": "Jm8UjGNLgsOa"
      },
      "execution_count": 132,
      "outputs": []
    },
    {
      "cell_type": "code",
      "source": [
        "n"
      ],
      "metadata": {
        "colab": {
          "base_uri": "https://localhost:8080/"
        },
        "outputId": "275062ed-fd3e-4135-c0b3-cda499f85219",
        "id": "GTvdOFt7gsOw"
      },
      "execution_count": 133,
      "outputs": [
        {
          "output_type": "execute_result",
          "data": {
            "text/plain": [
              "<__main__.Neuron at 0x787ef8124af0>"
            ]
          },
          "metadata": {},
          "execution_count": 133
        }
      ]
    },
    {
      "cell_type": "code",
      "source": [
        "p = n(x)"
      ],
      "metadata": {
        "id": "AeReZ0XKgsOx"
      },
      "execution_count": 134,
      "outputs": []
    },
    {
      "cell_type": "code",
      "source": [
        "p"
      ],
      "metadata": {
        "colab": {
          "base_uri": "https://localhost:8080/"
        },
        "id": "wbD2hhaNgp8E",
        "outputId": "97166056-abc9-44c9-8bbc-eb8a05c54f02"
      },
      "execution_count": 135,
      "outputs": [
        {
          "output_type": "execute_result",
          "data": {
            "text/plain": [
              "Value(data=0.9966784850611312)"
            ]
          },
          "metadata": {},
          "execution_count": 135
        }
      ]
    },
    {
      "cell_type": "code",
      "source": [
        "p.backward()"
      ],
      "metadata": {
        "id": "iW9s-kF8g8sr"
      },
      "execution_count": 136,
      "outputs": []
    },
    {
      "cell_type": "code",
      "source": [
        "draw_dot(p)"
      ],
      "metadata": {
        "colab": {
          "base_uri": "https://localhost:8080/",
          "height": 357
        },
        "id": "bLSWbZqIhBs5",
        "outputId": "ecf2477b-c887-40a9-ff8a-b41fc93a8da5"
      },
      "execution_count": 137,
      "outputs": [
        {
          "output_type": "execute_result",
          "data": {
            "image/svg+xml": "<?xml version=\"1.0\" encoding=\"UTF-8\" standalone=\"no\"?>\n<!DOCTYPE svg PUBLIC \"-//W3C//DTD SVG 1.1//EN\"\n \"http://www.w3.org/Graphics/SVG/1.1/DTD/svg11.dtd\">\n<!-- Generated by graphviz version 2.43.0 (0)\n -->\n<!-- Title: %3 Pages: 1 -->\n<svg width=\"1735pt\" height=\"237pt\"\n viewBox=\"0.00 0.00 1735.00 237.00\" xmlns=\"http://www.w3.org/2000/svg\" xmlns:xlink=\"http://www.w3.org/1999/xlink\">\n<g id=\"graph0\" class=\"graph\" transform=\"scale(1 1) rotate(0) translate(4 233)\">\n<title>%3</title>\n<polygon fill=\"white\" stroke=\"transparent\" points=\"-4,4 -4,-233 1731,-233 1731,4 -4,4\"/>\n<!-- 132486723162160 -->\n<g id=\"node1\" class=\"node\">\n<title>132486723162160</title>\n<polygon fill=\"none\" stroke=\"black\" points=\"308,-192.5 308,-228.5 490,-228.5 490,-192.5 308,-192.5\"/>\n<text text-anchor=\"middle\" x=\"318\" y=\"-206.8\" font-family=\"Times,serif\" font-size=\"14.00\"> </text>\n<polyline fill=\"none\" stroke=\"black\" points=\"328,-192.5 328,-228.5 \"/>\n<text text-anchor=\"middle\" x=\"368\" y=\"-206.8\" font-family=\"Times,serif\" font-size=\"14.00\">data 3.0000</text>\n<polyline fill=\"none\" stroke=\"black\" points=\"408,-192.5 408,-228.5 \"/>\n<text text-anchor=\"middle\" x=\"449\" y=\"-206.8\" font-family=\"Times,serif\" font-size=\"14.00\">grad 0.0037</text>\n</g>\n<!-- 132486723171280* -->\n<g id=\"node7\" class=\"node\">\n<title>132486723171280*</title>\n<ellipse fill=\"none\" stroke=\"black\" cx=\"553\" cy=\"-155.5\" rx=\"27\" ry=\"18\"/>\n<text text-anchor=\"middle\" x=\"553\" y=\"-151.8\" font-family=\"Times,serif\" font-size=\"14.00\">*</text>\n</g>\n<!-- 132486723162160&#45;&gt;132486723171280* -->\n<g id=\"edge17\" class=\"edge\">\n<title>132486723162160&#45;&gt;132486723171280*</title>\n<path fill=\"none\" stroke=\"black\" d=\"M464.26,-192.36C472.97,-189.57 481.75,-186.59 490,-183.5 500.48,-179.58 511.69,-174.73 521.66,-170.17\"/>\n<polygon fill=\"black\" stroke=\"black\" points=\"523.18,-173.32 530.77,-165.93 520.23,-166.98 523.18,-173.32\"/>\n</g>\n<!-- 132486723167296 -->\n<g id=\"node2\" class=\"node\">\n<title>132486723167296</title>\n<polygon fill=\"none\" stroke=\"black\" points=\"924,-54.5 924,-90.5 1111,-90.5 1111,-54.5 924,-54.5\"/>\n<text text-anchor=\"middle\" x=\"934\" y=\"-68.8\" font-family=\"Times,serif\" font-size=\"14.00\"> </text>\n<polyline fill=\"none\" stroke=\"black\" points=\"944,-54.5 944,-90.5 \"/>\n<text text-anchor=\"middle\" x=\"986.5\" y=\"-68.8\" font-family=\"Times,serif\" font-size=\"14.00\">data &#45;0.2240</text>\n<polyline fill=\"none\" stroke=\"black\" points=\"1029,-54.5 1029,-90.5 \"/>\n<text text-anchor=\"middle\" x=\"1070\" y=\"-68.8\" font-family=\"Times,serif\" font-size=\"14.00\">grad 0.0066</text>\n</g>\n<!-- 132486723166672+ -->\n<g id=\"node14\" class=\"node\">\n<title>132486723166672+</title>\n<ellipse fill=\"none\" stroke=\"black\" cx=\"1174\" cy=\"-99.5\" rx=\"27\" ry=\"18\"/>\n<text text-anchor=\"middle\" x=\"1174\" y=\"-95.8\" font-family=\"Times,serif\" font-size=\"14.00\">+</text>\n</g>\n<!-- 132486723167296&#45;&gt;132486723166672+ -->\n<g id=\"edge7\" class=\"edge\">\n<title>132486723167296&#45;&gt;132486723166672+</title>\n<path fill=\"none\" stroke=\"black\" d=\"M1111.05,-88.67C1120.34,-90.3 1129.33,-91.87 1137.44,-93.29\"/>\n<polygon fill=\"black\" stroke=\"black\" points=\"1137.1,-96.78 1147.55,-95.05 1138.3,-89.88 1137.1,-96.78\"/>\n</g>\n<!-- 132486723169744 -->\n<g id=\"node3\" class=\"node\">\n<title>132486723169744</title>\n<polygon fill=\"none\" stroke=\"black\" points=\"1545,-81.5 1545,-117.5 1727,-117.5 1727,-81.5 1545,-81.5\"/>\n<text text-anchor=\"middle\" x=\"1555\" y=\"-95.8\" font-family=\"Times,serif\" font-size=\"14.00\"> </text>\n<polyline fill=\"none\" stroke=\"black\" points=\"1565,-81.5 1565,-117.5 \"/>\n<text text-anchor=\"middle\" x=\"1605\" y=\"-95.8\" font-family=\"Times,serif\" font-size=\"14.00\">data 0.9967</text>\n<polyline fill=\"none\" stroke=\"black\" points=\"1645,-81.5 1645,-117.5 \"/>\n<text text-anchor=\"middle\" x=\"1686\" y=\"-95.8\" font-family=\"Times,serif\" font-size=\"14.00\">grad 1.0000</text>\n</g>\n<!-- 132486723169744tanh -->\n<g id=\"node4\" class=\"node\">\n<title>132486723169744tanh</title>\n<ellipse fill=\"none\" stroke=\"black\" cx=\"1482\" cy=\"-99.5\" rx=\"27\" ry=\"18\"/>\n<text text-anchor=\"middle\" x=\"1482\" y=\"-95.8\" font-family=\"Times,serif\" font-size=\"14.00\">tanh</text>\n</g>\n<!-- 132486723169744tanh&#45;&gt;132486723169744 -->\n<g id=\"edge1\" class=\"edge\">\n<title>132486723169744tanh&#45;&gt;132486723169744</title>\n<path fill=\"none\" stroke=\"black\" d=\"M1509.13,-99.5C1516.67,-99.5 1525.39,-99.5 1534.64,-99.5\"/>\n<polygon fill=\"black\" stroke=\"black\" points=\"1534.87,-103 1544.87,-99.5 1534.87,-96 1534.87,-103\"/>\n</g>\n<!-- 132486723167872 -->\n<g id=\"node5\" class=\"node\">\n<title>132486723167872</title>\n<polygon fill=\"none\" stroke=\"black\" points=\"308,-82.5 308,-118.5 490,-118.5 490,-82.5 308,-82.5\"/>\n<text text-anchor=\"middle\" x=\"318\" y=\"-96.8\" font-family=\"Times,serif\" font-size=\"14.00\"> </text>\n<polyline fill=\"none\" stroke=\"black\" points=\"328,-82.5 328,-118.5 \"/>\n<text text-anchor=\"middle\" x=\"368\" y=\"-96.8\" font-family=\"Times,serif\" font-size=\"14.00\">data 0.0000</text>\n<polyline fill=\"none\" stroke=\"black\" points=\"408,-82.5 408,-118.5 \"/>\n<text text-anchor=\"middle\" x=\"449\" y=\"-96.8\" font-family=\"Times,serif\" font-size=\"14.00\">grad 0.0066</text>\n</g>\n<!-- 132486723159232+ -->\n<g id=\"node9\" class=\"node\">\n<title>132486723159232+</title>\n<ellipse fill=\"none\" stroke=\"black\" cx=\"553\" cy=\"-100.5\" rx=\"27\" ry=\"18\"/>\n<text text-anchor=\"middle\" x=\"553\" y=\"-96.8\" font-family=\"Times,serif\" font-size=\"14.00\">+</text>\n</g>\n<!-- 132486723167872&#45;&gt;132486723159232+ -->\n<g id=\"edge15\" class=\"edge\">\n<title>132486723167872&#45;&gt;132486723159232+</title>\n<path fill=\"none\" stroke=\"black\" d=\"M490.18,-100.5C499.14,-100.5 507.83,-100.5 515.73,-100.5\"/>\n<polygon fill=\"black\" stroke=\"black\" points=\"515.96,-104 525.96,-100.5 515.96,-97 515.96,-104\"/>\n</g>\n<!-- 132486723171280 -->\n<g id=\"node6\" class=\"node\">\n<title>132486723171280</title>\n<polygon fill=\"none\" stroke=\"black\" points=\"616,-137.5 616,-173.5 798,-173.5 798,-137.5 616,-137.5\"/>\n<text text-anchor=\"middle\" x=\"626\" y=\"-151.8\" font-family=\"Times,serif\" font-size=\"14.00\"> </text>\n<polyline fill=\"none\" stroke=\"black\" points=\"636,-137.5 636,-173.5 \"/>\n<text text-anchor=\"middle\" x=\"676\" y=\"-151.8\" font-family=\"Times,serif\" font-size=\"14.00\">data 1.6528</text>\n<polyline fill=\"none\" stroke=\"black\" points=\"716,-137.5 716,-173.5 \"/>\n<text text-anchor=\"middle\" x=\"757\" y=\"-151.8\" font-family=\"Times,serif\" font-size=\"14.00\">grad 0.0066</text>\n</g>\n<!-- 132486723161584+ -->\n<g id=\"node18\" class=\"node\">\n<title>132486723161584+</title>\n<ellipse fill=\"none\" stroke=\"black\" cx=\"861\" cy=\"-127.5\" rx=\"27\" ry=\"18\"/>\n<text text-anchor=\"middle\" x=\"861\" y=\"-123.8\" font-family=\"Times,serif\" font-size=\"14.00\">+</text>\n</g>\n<!-- 132486723171280&#45;&gt;132486723161584+ -->\n<g id=\"edge10\" class=\"edge\">\n<title>132486723171280&#45;&gt;132486723161584+</title>\n<path fill=\"none\" stroke=\"black\" d=\"M798.18,-138.89C807.61,-137.15 816.75,-135.47 824.98,-133.95\"/>\n<polygon fill=\"black\" stroke=\"black\" points=\"825.66,-137.39 834.86,-132.13 824.39,-130.5 825.66,-137.39\"/>\n</g>\n<!-- 132486723171280*&#45;&gt;132486723171280 -->\n<g id=\"edge2\" class=\"edge\">\n<title>132486723171280*&#45;&gt;132486723171280</title>\n<path fill=\"none\" stroke=\"black\" d=\"M580.13,-155.5C587.67,-155.5 596.39,-155.5 605.64,-155.5\"/>\n<polygon fill=\"black\" stroke=\"black\" points=\"605.87,-159 615.87,-155.5 605.87,-152 605.87,-159\"/>\n</g>\n<!-- 132486723159232 -->\n<g id=\"node8\" class=\"node\">\n<title>132486723159232</title>\n<polygon fill=\"none\" stroke=\"black\" points=\"616,-82.5 616,-118.5 798,-118.5 798,-82.5 616,-82.5\"/>\n<text text-anchor=\"middle\" x=\"626\" y=\"-96.8\" font-family=\"Times,serif\" font-size=\"14.00\"> </text>\n<polyline fill=\"none\" stroke=\"black\" points=\"636,-82.5 636,-118.5 \"/>\n<text text-anchor=\"middle\" x=\"676\" y=\"-96.8\" font-family=\"Times,serif\" font-size=\"14.00\">data 1.7706</text>\n<polyline fill=\"none\" stroke=\"black\" points=\"716,-82.5 716,-118.5 \"/>\n<text text-anchor=\"middle\" x=\"757\" y=\"-96.8\" font-family=\"Times,serif\" font-size=\"14.00\">grad 0.0066</text>\n</g>\n<!-- 132486723159232&#45;&gt;132486723161584+ -->\n<g id=\"edge12\" class=\"edge\">\n<title>132486723159232&#45;&gt;132486723161584+</title>\n<path fill=\"none\" stroke=\"black\" d=\"M798.18,-116.52C807.42,-118.16 816.38,-119.75 824.47,-121.19\"/>\n<polygon fill=\"black\" stroke=\"black\" points=\"824.1,-124.68 834.56,-122.98 825.32,-117.79 824.1,-124.68\"/>\n</g>\n<!-- 132486723159232+&#45;&gt;132486723159232 -->\n<g id=\"edge3\" class=\"edge\">\n<title>132486723159232+&#45;&gt;132486723159232</title>\n<path fill=\"none\" stroke=\"black\" d=\"M580.13,-100.5C587.67,-100.5 596.39,-100.5 605.64,-100.5\"/>\n<polygon fill=\"black\" stroke=\"black\" points=\"605.87,-104 615.87,-100.5 605.87,-97 605.87,-104\"/>\n</g>\n<!-- 132486723167536 -->\n<g id=\"node10\" class=\"node\">\n<title>132486723167536</title>\n<polygon fill=\"none\" stroke=\"black\" points=\"0,-55.5 0,-91.5 182,-91.5 182,-55.5 0,-55.5\"/>\n<text text-anchor=\"middle\" x=\"10\" y=\"-69.8\" font-family=\"Times,serif\" font-size=\"14.00\"> </text>\n<polyline fill=\"none\" stroke=\"black\" points=\"20,-55.5 20,-91.5 \"/>\n<text text-anchor=\"middle\" x=\"60\" y=\"-69.8\" font-family=\"Times,serif\" font-size=\"14.00\">data 0.8853</text>\n<polyline fill=\"none\" stroke=\"black\" points=\"100,-55.5 100,-91.5 \"/>\n<text text-anchor=\"middle\" x=\"141\" y=\"-69.8\" font-family=\"Times,serif\" font-size=\"14.00\">grad 0.0133</text>\n</g>\n<!-- 132486723165664* -->\n<g id=\"node16\" class=\"node\">\n<title>132486723165664*</title>\n<ellipse fill=\"none\" stroke=\"black\" cx=\"245\" cy=\"-45.5\" rx=\"27\" ry=\"18\"/>\n<text text-anchor=\"middle\" x=\"245\" y=\"-41.8\" font-family=\"Times,serif\" font-size=\"14.00\">*</text>\n</g>\n<!-- 132486723167536&#45;&gt;132486723165664* -->\n<g id=\"edge8\" class=\"edge\">\n<title>132486723167536&#45;&gt;132486723165664*</title>\n<path fill=\"none\" stroke=\"black\" d=\"M182.18,-56.89C191.61,-55.15 200.75,-53.47 208.98,-51.95\"/>\n<polygon fill=\"black\" stroke=\"black\" points=\"209.66,-55.39 218.86,-50.13 208.39,-48.5 209.66,-55.39\"/>\n</g>\n<!-- 132486723158896 -->\n<g id=\"node11\" class=\"node\">\n<title>132486723158896</title>\n<polygon fill=\"none\" stroke=\"black\" points=\"0,-0.5 0,-36.5 182,-36.5 182,-0.5 0,-0.5\"/>\n<text text-anchor=\"middle\" x=\"10\" y=\"-14.8\" font-family=\"Times,serif\" font-size=\"14.00\"> </text>\n<polyline fill=\"none\" stroke=\"black\" points=\"20,-0.5 20,-36.5 \"/>\n<text text-anchor=\"middle\" x=\"60\" y=\"-14.8\" font-family=\"Times,serif\" font-size=\"14.00\">data 2.0000</text>\n<polyline fill=\"none\" stroke=\"black\" points=\"100,-0.5 100,-36.5 \"/>\n<text text-anchor=\"middle\" x=\"141\" y=\"-14.8\" font-family=\"Times,serif\" font-size=\"14.00\">grad 0.0059</text>\n</g>\n<!-- 132486723158896&#45;&gt;132486723165664* -->\n<g id=\"edge9\" class=\"edge\">\n<title>132486723158896&#45;&gt;132486723165664*</title>\n<path fill=\"none\" stroke=\"black\" d=\"M182.18,-34.52C191.42,-36.16 200.38,-37.75 208.47,-39.19\"/>\n<polygon fill=\"black\" stroke=\"black\" points=\"208.1,-42.68 218.56,-40.98 209.32,-35.79 208.1,-42.68\"/>\n</g>\n<!-- 132486723161488 -->\n<g id=\"node12\" class=\"node\">\n<title>132486723161488</title>\n<polygon fill=\"none\" stroke=\"black\" points=\"308,-137.5 308,-173.5 490,-173.5 490,-137.5 308,-137.5\"/>\n<text text-anchor=\"middle\" x=\"318\" y=\"-151.8\" font-family=\"Times,serif\" font-size=\"14.00\"> </text>\n<polyline fill=\"none\" stroke=\"black\" points=\"328,-137.5 328,-173.5 \"/>\n<text text-anchor=\"middle\" x=\"368\" y=\"-151.8\" font-family=\"Times,serif\" font-size=\"14.00\">data 0.5509</text>\n<polyline fill=\"none\" stroke=\"black\" points=\"408,-137.5 408,-173.5 \"/>\n<text text-anchor=\"middle\" x=\"449\" y=\"-151.8\" font-family=\"Times,serif\" font-size=\"14.00\">grad 0.0199</text>\n</g>\n<!-- 132486723161488&#45;&gt;132486723171280* -->\n<g id=\"edge14\" class=\"edge\">\n<title>132486723161488&#45;&gt;132486723171280*</title>\n<path fill=\"none\" stroke=\"black\" d=\"M490.18,-155.5C499.14,-155.5 507.83,-155.5 515.73,-155.5\"/>\n<polygon fill=\"black\" stroke=\"black\" points=\"515.96,-159 525.96,-155.5 515.96,-152 515.96,-159\"/>\n</g>\n<!-- 132486723166672 -->\n<g id=\"node13\" class=\"node\">\n<title>132486723166672</title>\n<polygon fill=\"none\" stroke=\"black\" points=\"1237,-81.5 1237,-117.5 1419,-117.5 1419,-81.5 1237,-81.5\"/>\n<text text-anchor=\"middle\" x=\"1247\" y=\"-95.8\" font-family=\"Times,serif\" font-size=\"14.00\"> </text>\n<polyline fill=\"none\" stroke=\"black\" points=\"1257,-81.5 1257,-117.5 \"/>\n<text text-anchor=\"middle\" x=\"1297\" y=\"-95.8\" font-family=\"Times,serif\" font-size=\"14.00\">data 3.1994</text>\n<polyline fill=\"none\" stroke=\"black\" points=\"1337,-81.5 1337,-117.5 \"/>\n<text text-anchor=\"middle\" x=\"1378\" y=\"-95.8\" font-family=\"Times,serif\" font-size=\"14.00\">grad 0.0066</text>\n</g>\n<!-- 132486723166672&#45;&gt;132486723169744tanh -->\n<g id=\"edge13\" class=\"edge\">\n<title>132486723166672&#45;&gt;132486723169744tanh</title>\n<path fill=\"none\" stroke=\"black\" d=\"M1419.18,-99.5C1428.14,-99.5 1436.83,-99.5 1444.73,-99.5\"/>\n<polygon fill=\"black\" stroke=\"black\" points=\"1444.96,-103 1454.96,-99.5 1444.96,-96 1444.96,-103\"/>\n</g>\n<!-- 132486723166672+&#45;&gt;132486723166672 -->\n<g id=\"edge4\" class=\"edge\">\n<title>132486723166672+&#45;&gt;132486723166672</title>\n<path fill=\"none\" stroke=\"black\" d=\"M1201.13,-99.5C1208.67,-99.5 1217.39,-99.5 1226.64,-99.5\"/>\n<polygon fill=\"black\" stroke=\"black\" points=\"1226.87,-103 1236.87,-99.5 1226.87,-96 1226.87,-103\"/>\n</g>\n<!-- 132486723165664 -->\n<g id=\"node15\" class=\"node\">\n<title>132486723165664</title>\n<polygon fill=\"none\" stroke=\"black\" points=\"308,-27.5 308,-63.5 490,-63.5 490,-27.5 308,-27.5\"/>\n<text text-anchor=\"middle\" x=\"318\" y=\"-41.8\" font-family=\"Times,serif\" font-size=\"14.00\"> </text>\n<polyline fill=\"none\" stroke=\"black\" points=\"328,-27.5 328,-63.5 \"/>\n<text text-anchor=\"middle\" x=\"368\" y=\"-41.8\" font-family=\"Times,serif\" font-size=\"14.00\">data 1.7706</text>\n<polyline fill=\"none\" stroke=\"black\" points=\"408,-27.5 408,-63.5 \"/>\n<text text-anchor=\"middle\" x=\"449\" y=\"-41.8\" font-family=\"Times,serif\" font-size=\"14.00\">grad 0.0066</text>\n</g>\n<!-- 132486723165664&#45;&gt;132486723159232+ -->\n<g id=\"edge16\" class=\"edge\">\n<title>132486723165664&#45;&gt;132486723159232+</title>\n<path fill=\"none\" stroke=\"black\" d=\"M461.3,-63.59C470.97,-66.72 480.8,-70.08 490,-73.5 500.23,-77.31 511.21,-81.91 521.05,-86.23\"/>\n<polygon fill=\"black\" stroke=\"black\" points=\"519.87,-89.54 530.43,-90.42 522.72,-83.15 519.87,-89.54\"/>\n</g>\n<!-- 132486723165664*&#45;&gt;132486723165664 -->\n<g id=\"edge5\" class=\"edge\">\n<title>132486723165664*&#45;&gt;132486723165664</title>\n<path fill=\"none\" stroke=\"black\" d=\"M272.13,-45.5C279.67,-45.5 288.39,-45.5 297.64,-45.5\"/>\n<polygon fill=\"black\" stroke=\"black\" points=\"297.87,-49 307.87,-45.5 297.87,-42 297.87,-49\"/>\n</g>\n<!-- 132486723161584 -->\n<g id=\"node17\" class=\"node\">\n<title>132486723161584</title>\n<polygon fill=\"none\" stroke=\"black\" points=\"926.5,-109.5 926.5,-145.5 1108.5,-145.5 1108.5,-109.5 926.5,-109.5\"/>\n<text text-anchor=\"middle\" x=\"936.5\" y=\"-123.8\" font-family=\"Times,serif\" font-size=\"14.00\"> </text>\n<polyline fill=\"none\" stroke=\"black\" points=\"946.5,-109.5 946.5,-145.5 \"/>\n<text text-anchor=\"middle\" x=\"986.5\" y=\"-123.8\" font-family=\"Times,serif\" font-size=\"14.00\">data 3.4234</text>\n<polyline fill=\"none\" stroke=\"black\" points=\"1026.5,-109.5 1026.5,-145.5 \"/>\n<text text-anchor=\"middle\" x=\"1067.5\" y=\"-123.8\" font-family=\"Times,serif\" font-size=\"14.00\">grad 0.0066</text>\n</g>\n<!-- 132486723161584&#45;&gt;132486723166672+ -->\n<g id=\"edge11\" class=\"edge\">\n<title>132486723161584&#45;&gt;132486723166672+</title>\n<path fill=\"none\" stroke=\"black\" d=\"M1108.82,-111.13C1119.07,-109.27 1129.01,-107.47 1137.88,-105.87\"/>\n<polygon fill=\"black\" stroke=\"black\" points=\"1138.54,-109.3 1147.75,-104.08 1137.29,-102.42 1138.54,-109.3\"/>\n</g>\n<!-- 132486723161584+&#45;&gt;132486723161584 -->\n<g id=\"edge6\" class=\"edge\">\n<title>132486723161584+&#45;&gt;132486723161584</title>\n<path fill=\"none\" stroke=\"black\" d=\"M888.21,-127.5C896.34,-127.5 905.85,-127.5 915.94,-127.5\"/>\n<polygon fill=\"black\" stroke=\"black\" points=\"916.19,-131 926.19,-127.5 916.19,-124 916.19,-131\"/>\n</g>\n</g>\n</svg>\n",
            "text/plain": [
              "<graphviz.graphs.Digraph at 0x787ef8257730>"
            ]
          },
          "metadata": {},
          "execution_count": 137
        }
      ]
    },
    {
      "cell_type": "markdown",
      "source": [
        "Let's build a bit more complex stuff."
      ],
      "metadata": {
        "id": "yeEofVxwhbu0"
      }
    },
    {
      "cell_type": "markdown",
      "source": [
        "![image.png](data:image/png;base64,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)"
      ],
      "metadata": {
        "id": "VrNaCeashvfw"
      }
    },
    {
      "cell_type": "code",
      "source": [
        "class Layer:\n",
        "\n",
        "    def __init__(self, nin, nout):\n",
        "        self.neurons = [Neuron(nin) for _ in range(nout)]\n",
        "\n",
        "    def __call__(self, x):\n",
        "        outs = [n(x) for n in self.neurons]\n",
        "        return outs"
      ],
      "metadata": {
        "id": "WDNKYhYChDWe"
      },
      "execution_count": 138,
      "outputs": []
    },
    {
      "cell_type": "code",
      "source": [
        "x = [2.0, 3.0]\n",
        "n = Layer(2, 3)"
      ],
      "metadata": {
        "id": "M0LEaviOi8sn"
      },
      "execution_count": 139,
      "outputs": []
    },
    {
      "cell_type": "code",
      "source": [
        "n(x)"
      ],
      "metadata": {
        "colab": {
          "base_uri": "https://localhost:8080/"
        },
        "id": "5L_qdQO9jE3r",
        "outputId": "39b2ae16-c65e-47f0-e68f-7ffdc7af7c4a"
      },
      "execution_count": 140,
      "outputs": [
        {
          "output_type": "execute_result",
          "data": {
            "text/plain": [
              "[Value(data=-0.9990561880709256),\n",
              " Value(data=-0.9424913364203112),\n",
              " Value(data=0.4302832332943646)]"
            ]
          },
          "metadata": {},
          "execution_count": 140
        }
      ]
    },
    {
      "cell_type": "markdown",
      "source": [
        "Here, we built a network with multiple outputs.<br>\n",
        "Let's try and build MLP."
      ],
      "metadata": {
        "id": "ZEQeIRsFlPYP"
      }
    },
    {
      "cell_type": "code",
      "source": [
        "class Neuron:\n",
        "\n",
        "    def __init__(self, nin):\n",
        "        self.w = [Value(random.uniform(-1, 1)) for _ in range(nin)]\n",
        "        self.b = Value(random.uniform(-1, 1))\n",
        "\n",
        "\n",
        "    def __call__(self, x):\n",
        "        act = sum(wi * xi for xi, wi in zip(self.w, x)) + self.b\n",
        "        out = act.tanh()\n",
        "        return out\n",
        "\n",
        "class Layer:\n",
        "\n",
        "    def __init__(self, nin, nout):\n",
        "        self.neurons = [Neuron(nin) for _ in range(nout)]\n",
        "\n",
        "    def __call__(self, x):\n",
        "        outs = [n(x) for n in self.neurons]\n",
        "        return outs\n",
        "\n",
        "class MLP:\n",
        "\n",
        "  def __init__(self, nin, nouts):\n",
        "    sz = [nin] + nouts\n",
        "    self.layers = [Layer(sz[i], sz[i+1]) for i in range(len(nouts))]\n",
        "\n",
        "  def __call__(self, x):\n",
        "    for layer in self.layers:\n",
        "      x = layer(x)\n",
        "    return x"
      ],
      "metadata": {
        "id": "-_R4Cj8AjFxo"
      },
      "execution_count": 141,
      "outputs": []
    },
    {
      "cell_type": "code",
      "source": [
        "x = [2.0, 3.0, -1.0]\n",
        "n = MLP(3, [4, 4, 1])\n",
        "n(x)"
      ],
      "metadata": {
        "colab": {
          "base_uri": "https://localhost:8080/"
        },
        "id": "nt3qbAsymh-B",
        "outputId": "a3a18acb-6e1d-4aad-aed7-30fa3cec3719"
      },
      "execution_count": 142,
      "outputs": [
        {
          "output_type": "execute_result",
          "data": {
            "text/plain": [
              "[Value(data=0.34670024366407176)]"
            ]
          },
          "metadata": {},
          "execution_count": 142
        }
      ]
    },
    {
      "cell_type": "code",
      "source": [
        "xs = [\n",
        "  [2.0, 3.0, -1.0],\n",
        "  [3.0, -1.0, 0.5],\n",
        "  [0.5, 1.0, 1.0],\n",
        "  [1.0, 1.0, -1.0],\n",
        "]\n",
        "ys = [1.0, -1.0, -1.0, 1.0]"
      ],
      "metadata": {
        "id": "s0ONq7g5mioj"
      },
      "execution_count": 143,
      "outputs": []
    },
    {
      "cell_type": "code",
      "source": [
        "y_pred = [n(x) for x in xs]"
      ],
      "metadata": {
        "id": "I2DcSKusmo_b"
      },
      "execution_count": 144,
      "outputs": []
    },
    {
      "cell_type": "code",
      "source": [
        "y_pred"
      ],
      "metadata": {
        "colab": {
          "base_uri": "https://localhost:8080/"
        },
        "id": "EYDnAgS2mxOn",
        "outputId": "4a56fdda-48d8-443c-f37f-7cf869efdef5"
      },
      "execution_count": 145,
      "outputs": [
        {
          "output_type": "execute_result",
          "data": {
            "text/plain": [
              "[[Value(data=0.34670024366407176)],\n",
              " [Value(data=0.20148498960437325)],\n",
              " [Value(data=0.5134628909265875)],\n",
              " [Value(data=0.31699048842361793)]]"
            ]
          },
          "metadata": {},
          "execution_count": 145
        }
      ]
    },
    {
      "cell_type": "markdown",
      "source": [
        "It looks good. But it's time to learn.\n",
        "\n",
        "*   calculate loss\n",
        "*   backpropagate & update\n",
        "\n"
      ],
      "metadata": {
        "id": "8Uo_vnUom-0Z"
      }
    },
    {
      "cell_type": "markdown",
      "source": [
        "But before that, let's update our classes to make them more robust."
      ],
      "metadata": {
        "id": "UYoWy5IspM8T"
      }
    },
    {
      "cell_type": "code",
      "source": [
        "class Neuron:\n",
        "\n",
        "  def __init__(self, nin):\n",
        "    self.w = [Value(random.uniform(-1,1)) for _ in range(nin)]\n",
        "    self.b = Value(random.uniform(-1,1))\n",
        "\n",
        "  def __call__(self, x):\n",
        "    # w * x + b\n",
        "    act = sum((wi*xi for wi, xi in zip(self.w, x)), self.b)\n",
        "    out = act.tanh()\n",
        "    return out\n",
        "\n",
        "  def parameters(self):\n",
        "    return self.w + [self.b]\n",
        "\n",
        "class Layer:\n",
        "\n",
        "  def __init__(self, nin, nout):\n",
        "    self.neurons = [Neuron(nin) for _ in range(nout)]\n",
        "\n",
        "  def __call__(self, x):\n",
        "    outs = [n(x) for n in self.neurons]\n",
        "    return outs[0] if len(outs) == 1 else outs\n",
        "\n",
        "  def parameters(self):\n",
        "    return [p for neuron in self.neurons for p in neuron.parameters()]\n",
        "\n",
        "class MLP:\n",
        "\n",
        "  def __init__(self, nin, nouts):\n",
        "    sz = [nin] + nouts\n",
        "    self.layers = [Layer(sz[i], sz[i+1]) for i in range(len(nouts))]\n",
        "\n",
        "  def __call__(self, x):\n",
        "    for layer in self.layers:\n",
        "      x = layer(x)\n",
        "    return x\n",
        "\n",
        "  def parameters(self):\n",
        "    return [p for layer in self.layers for p in layer.parameters()]"
      ],
      "metadata": {
        "id": "pS_u6t1dmy_S"
      },
      "execution_count": 146,
      "outputs": []
    },
    {
      "cell_type": "code",
      "source": [
        "x = [2.0, 3.0, -1.0]\n",
        "n = MLP(3, [4, 4, 1])\n",
        "n(x)"
      ],
      "metadata": {
        "colab": {
          "base_uri": "https://localhost:8080/"
        },
        "outputId": "05673a45-d065-45d8-9db4-4846535ca5ea",
        "id": "FKRbd4ehpZ0S"
      },
      "execution_count": 147,
      "outputs": [
        {
          "output_type": "execute_result",
          "data": {
            "text/plain": [
              "Value(data=0.9714859122167462)"
            ]
          },
          "metadata": {},
          "execution_count": 147
        }
      ]
    },
    {
      "cell_type": "code",
      "source": [
        "xs = [\n",
        "  [2.0, 3.0, -1.0],\n",
        "  [3.0, -1.0, 0.5],\n",
        "  [0.5, 1.0, 1.0],\n",
        "  [1.0, 1.0, -1.0],\n",
        "]\n",
        "ys = [1.0, -1.0, -1.0, 1.0]"
      ],
      "metadata": {
        "id": "0kk2aP9xpZ0T"
      },
      "execution_count": 148,
      "outputs": []
    },
    {
      "cell_type": "code",
      "source": [
        "y_pred = [n(x) for x in xs]"
      ],
      "metadata": {
        "id": "5L6oNTjapZ0T"
      },
      "execution_count": 149,
      "outputs": []
    },
    {
      "cell_type": "code",
      "source": [
        "y_pred"
      ],
      "metadata": {
        "colab": {
          "base_uri": "https://localhost:8080/"
        },
        "outputId": "b8224eb2-10b9-4855-deba-8c2bc2cd0f93",
        "id": "raQdl9jWpZ0U"
      },
      "execution_count": 150,
      "outputs": [
        {
          "output_type": "execute_result",
          "data": {
            "text/plain": [
              "[Value(data=0.9714859122167462),\n",
              " Value(data=0.9381955092410628),\n",
              " Value(data=0.9866557006252563),\n",
              " Value(data=0.9625680014011706)]"
            ]
          },
          "metadata": {},
          "execution_count": 150
        }
      ]
    },
    {
      "cell_type": "code",
      "source": [
        "n.parameters()"
      ],
      "metadata": {
        "colab": {
          "base_uri": "https://localhost:8080/"
        },
        "id": "HHvjwGaepVnz",
        "outputId": "8dc26a6b-ad9a-4da1-c107-3378616b3fb1"
      },
      "execution_count": 151,
      "outputs": [
        {
          "output_type": "execute_result",
          "data": {
            "text/plain": [
              "[Value(data=0.4656455369438359),\n",
              " Value(data=-0.8359743592414681),\n",
              " Value(data=-0.9996071806706335),\n",
              " Value(data=-0.6261101035888355),\n",
              " Value(data=-0.009183328794907686),\n",
              " Value(data=0.1500791631056948),\n",
              " Value(data=-0.37044515306694104),\n",
              " Value(data=-0.9826197776835475),\n",
              " Value(data=0.5281424952884537),\n",
              " Value(data=-0.6022801684867112),\n",
              " Value(data=-0.5592826694597852),\n",
              " Value(data=-0.2686914430561045),\n",
              " Value(data=0.8283218358198732),\n",
              " Value(data=-0.06117687976596908),\n",
              " Value(data=-0.12594612072593359),\n",
              " Value(data=0.6767699877626987),\n",
              " Value(data=0.1485186092464612),\n",
              " Value(data=-0.1228377854564453),\n",
              " Value(data=-0.1706965593480776),\n",
              " Value(data=0.4855213056342049),\n",
              " Value(data=0.1760619747221861),\n",
              " Value(data=0.575960525558687),\n",
              " Value(data=0.9001182592221566),\n",
              " Value(data=-0.800453928714572),\n",
              " Value(data=0.8355982021068133),\n",
              " Value(data=0.4549927924280752),\n",
              " Value(data=0.20229390574753325),\n",
              " Value(data=0.693833467745893),\n",
              " Value(data=0.17648941181029443),\n",
              " Value(data=0.5744991161165738),\n",
              " Value(data=-0.39833519719731103),\n",
              " Value(data=-0.5527966224348204),\n",
              " Value(data=0.8258591129330057),\n",
              " Value(data=-0.0795052192794461),\n",
              " Value(data=0.9796798240384093),\n",
              " Value(data=0.7955488206572494),\n",
              " Value(data=0.9334243376340496),\n",
              " Value(data=0.1356293869507168),\n",
              " Value(data=-0.9338489462908575),\n",
              " Value(data=0.6155258755493425),\n",
              " Value(data=0.7142544187969704)]"
            ]
          },
          "metadata": {},
          "execution_count": 151
        }
      ]
    },
    {
      "cell_type": "code",
      "source": [
        "len(n.parameters())"
      ],
      "metadata": {
        "id": "Pf4g0Ouwphy4",
        "colab": {
          "base_uri": "https://localhost:8080/"
        },
        "outputId": "f2b4c184-8628-41de-a0d5-45dadc3d16ed"
      },
      "execution_count": 152,
      "outputs": [
        {
          "output_type": "execute_result",
          "data": {
            "text/plain": [
              "41"
            ]
          },
          "metadata": {},
          "execution_count": 152
        }
      ]
    },
    {
      "cell_type": "markdown",
      "source": [
        "### Training"
      ],
      "metadata": {
        "id": "HsK7NYkcoXAP"
      }
    },
    {
      "cell_type": "code",
      "source": [
        "\n",
        "for k in range(20):\n",
        "\n",
        "  # forward pass\n",
        "  ypred = [n(x) for x in xs]\n",
        "  loss = sum((yout - ygt)**2 for ygt, yout in zip(ys, ypred))\n",
        "\n",
        "  # backward pass\n",
        "  for p in n.parameters():\n",
        "    p.grad = 0.0\n",
        "  loss.backward()\n",
        "\n",
        "  # update\n",
        "  for p in n.parameters():\n",
        "    p.data += -0.1 * p.grad\n",
        "\n",
        "  print(k, loss.data)\n",
        ""
      ],
      "metadata": {
        "id": "iRd0vdIG3Seq",
        "colab": {
          "base_uri": "https://localhost:8080/"
        },
        "outputId": "2aa38129-5cf2-426f-d94e-8f988069cd5c"
      },
      "execution_count": 153,
      "outputs": [
        {
          "output_type": "stream",
          "name": "stdout",
          "text": [
            "0 7.705616912590265\n",
            "1 7.424344556202436\n",
            "2 6.227134174132599\n",
            "3 4.660171830142867\n",
            "4 4.302781341089163\n",
            "5 3.8453351661974984\n",
            "6 3.721479311705633\n",
            "7 3.5026211490148484\n",
            "8 3.0147841131366317\n",
            "9 2.2869554419866605\n",
            "10 1.5647149752756175\n",
            "11 1.6319116875421793\n",
            "12 2.56566257146209\n",
            "13 0.036457339367549836\n",
            "14 0.032529998664655294\n",
            "15 0.029390511198989652\n",
            "16 0.02680677782137979\n",
            "17 0.024635779915961845\n",
            "18 0.022782557159091617\n",
            "19 0.02118059874229802\n"
          ]
        }
      ]
    },
    {
      "cell_type": "code",
      "source": [
        "ypred"
      ],
      "metadata": {
        "colab": {
          "base_uri": "https://localhost:8080/"
        },
        "id": "AyXERkJaofdw",
        "outputId": "76aa1412-b381-49fe-d2f2-bc49a48e834b"
      },
      "execution_count": 154,
      "outputs": [
        {
          "output_type": "execute_result",
          "data": {
            "text/plain": [
              "[Value(data=0.9408963631522738),\n",
              " Value(data=-0.9655856232200118),\n",
              " Value(data=-0.9044899287596381),\n",
              " Value(data=0.9140882090969108)]"
            ]
          },
          "metadata": {},
          "execution_count": 154
        }
      ]
    },
    {
      "cell_type": "markdown",
      "source": [
        "We still donot get the exact data. But rounding off, we can say. We've trained our model.Yayyyyyy!"
      ],
      "metadata": {
        "id": "jY62vxQ9orV2"
      }
    }
  ]
}